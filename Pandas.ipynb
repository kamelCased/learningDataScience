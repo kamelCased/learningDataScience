{
 "cells": [
  {
   "cell_type": "markdown",
   "metadata": {},
   "source": [
    "# Pandas\n",
    "\n",
    "* Pandas is an open source library built on top of NumPy\n",
    "* It allows for fast analysis and data cleaning and preparation \n",
    "* It excels in performance and productivity\n",
    "* It has built-in visualization features\n",
    "* It can work with data from a wide variety of sources"
   ]
  },
  {
   "cell_type": "markdown",
   "metadata": {},
   "source": [
    "### Installing pandas \n",
    "`conda install pandas`"
   ]
  },
  {
   "cell_type": "code",
   "execution_count": 1,
   "metadata": {},
   "outputs": [],
   "source": [
    "#import \n",
    "import numpy as np\n",
    "import pandas as pd"
   ]
  },
  {
   "cell_type": "markdown",
   "metadata": {},
   "source": [
    "### Pandas Series"
   ]
  },
  {
   "cell_type": "markdown",
   "metadata": {},
   "source": [
    "#####  Creating a Pandas Series"
   ]
  },
  {
   "cell_type": "code",
   "execution_count": 2,
   "metadata": {
    "scrolled": true
   },
   "outputs": [
    {
     "data": {
      "text/plain": [
       "apartment       Rawda1\n",
       "apartment       Rawda2\n",
       "house             Naim\n",
       "dorm            Rieber\n",
       "dorm           Hedrick\n",
       "townhouse      Palazzo\n",
       "apartment      Atrium1\n",
       "townhouse    AtriumFoy\n",
       "apartment      Atrium3\n",
       "compound        Venice\n",
       "compound          Soma\n",
       "dtype: object"
      ]
     },
     "execution_count": 2,
     "metadata": {},
     "output_type": "execute_result"
    }
   ],
   "source": [
    "# Labeled indices\n",
    "labels = ['apartment', 'apartment', 'house', 'dorm', 'dorm', 'townhouse', 'apartment', 'townhouse', 'apartment','compound', 'compound']\n",
    "# Set of unlabeled data\n",
    "my_data = ['Rawda1', 'Rawda2', 'Naim', 'Rieber', 'Hedrick', 'Palazzo', 'Atrium1', 'AtriumFoy', 'Atrium3', 'Venice', 'Soma'] \n",
    "\n",
    "# Create a pandas series with the data and corresponding labeled indices\n",
    "pd.Series(data= my_data, index = labels)"
   ]
  },
  {
   "cell_type": "code",
   "execution_count": 3,
   "metadata": {},
   "outputs": [
    {
     "data": {
      "text/plain": [
       "first     Rayan\n",
       "Second     Sara\n",
       "Third     Salma\n",
       "Fourth     Omar\n",
       "dtype: object"
      ]
     },
     "execution_count": 3,
     "metadata": {},
     "output_type": "execute_result"
    }
   ],
   "source": [
    "# you can also use a numpy array as the data or index\n",
    "labels = np.array(['first', 'Second', 'Third', 'Fourth'])\n",
    "my_data = np.array(['Rayan', 'Sara', 'Salma', 'Omar'])\n",
    "\n",
    "pd.Series(my_data,labels)"
   ]
  },
  {
   "cell_type": "code",
   "execution_count": 4,
   "metadata": {},
   "outputs": [
    {
     "data": {
      "text/plain": [
       "Snoop       Dogg\n",
       "Wiz      Khalifa\n",
       "Mac       Miller\n",
       "Lil        Wayne\n",
       "Young       Thug\n",
       "dtype: object"
      ]
     },
     "execution_count": 4,
     "metadata": {},
     "output_type": "execute_result"
    }
   ],
   "source": [
    "# You can also create a Series from a dictionary (key becomes index, value becomes data point)\n",
    "labeled_data = {'Snoop': 'Dogg', 'Wiz': 'Khalifa', 'Mac': 'Miller', 'Lil': 'Wayne', 'Young': 'Thug'}\n",
    "pd.Series(labeled_data)"
   ]
  },
  {
   "cell_type": "markdown",
   "metadata": {},
   "source": [
    "##### Pandas Series can hold a variety of data types"
   ]
  },
  {
   "cell_type": "code",
   "execution_count": 5,
   "metadata": {
    "scrolled": true
   },
   "outputs": [
    {
     "data": {
      "text/plain": [
       "0                            1\n",
       "1             This is a string\n",
       "2      <built-in function sum>\n",
       "3    <built-in function print>\n",
       "4      <built-in function len>\n",
       "5                 [l1, 12, ok]\n",
       "dtype: object"
      ]
     },
     "execution_count": 5,
     "metadata": {},
     "output_type": "execute_result"
    }
   ],
   "source": [
    "# e.g. int, string, functions, lists\n",
    "pd.Series([1, 'This is a string', sum,print,len, ['l1',12,'ok']])"
   ]
  },
  {
   "cell_type": "markdown",
   "metadata": {},
   "source": [
    "###### Getting data from a Pandas Series"
   ]
  },
  {
   "cell_type": "code",
   "execution_count": 6,
   "metadata": {},
   "outputs": [
    {
     "data": {
      "text/plain": [
       "'Rohingyas'"
      ]
     },
     "execution_count": 6,
     "metadata": {},
     "output_type": "execute_result"
    }
   ],
   "source": [
    "# You can call particular data points in the series using the index\n",
    "\n",
    "# Create Series\n",
    "crimesAgainstHumanity = {'East Asia':'Uighurs', 'South Asia':'Rohingyas', 'Levant':'Palestinians', 'Arabian Gulf':'Yemenis'}\n",
    "refugees = pd.Series(crimesAgainstHumanity)\n",
    "\n",
    "# Retrieve data point from labeled index\n",
    "refugees['South Asia']"
   ]
  },
  {
   "cell_type": "markdown",
   "metadata": {},
   "source": [
    "##### Operations with Pandas Series"
   ]
  },
  {
   "cell_type": "code",
   "execution_count": 7,
   "metadata": {},
   "outputs": [
    {
     "name": "stdout",
     "output_type": "stream",
     "text": [
      "audiobooks     6.0\n",
      "books          4.0\n",
      "courses       13.0\n",
      "podcasts       NaN\n",
      "videos        20.0\n",
      "dtype: float64\n",
      "audiobooks    -2.0\n",
      "books          2.0\n",
      "courses        7.0\n",
      "podcasts       NaN\n",
      "videos       -10.0\n",
      "dtype: float64\n",
      "audiobooks     8.0\n",
      "books          3.0\n",
      "courses       30.0\n",
      "podcasts       NaN\n",
      "videos        75.0\n",
      "dtype: float64\n",
      "audiobooks    0.500000\n",
      "books         3.000000\n",
      "courses       3.333333\n",
      "podcasts           NaN\n",
      "videos        0.333333\n",
      "dtype: float64\n",
      "audiobooks    2.0\n",
      "books         0.0\n",
      "courses       1.0\n",
      "podcasts      NaN\n",
      "videos        5.0\n",
      "dtype: float64\n",
      "audiobooks    1.600000e+01\n",
      "books         3.000000e+00\n",
      "courses       1.000000e+03\n",
      "podcasts      1.000000e+00\n",
      "videos        3.051758e+10\n",
      "dtype: float64\n"
     ]
    }
   ],
   "source": [
    "# With Numbers\n",
    "\n",
    "# First Series\n",
    "learn = pd.Series({'podcasts': 1, 'books': 3, 'audiobooks': 2, 'videos': 5, 'courses': 10})\n",
    "# Second Series\n",
    "learn2 = pd.Series({'books': 1, 'audiobooks': 4, 'videos': 15, 'courses': 3}) # Where there's no matching index, operations return NaN\n",
    "# Sum them up \n",
    "print(learn + learn2)\n",
    "# Subtract them \n",
    "print(learn - learn2)\n",
    "# Mutliply them \n",
    "print(learn * learn2)\n",
    "# Divide them\n",
    "print(learn / learn2)\n",
    "# Get the remainder\n",
    "print(learn % learn2)\n",
    "# Raise to the power\n",
    "print(learn ** learn2)\n",
    "# ..."
   ]
  },
  {
   "cell_type": "code",
   "execution_count": 8,
   "metadata": {},
   "outputs": [
    {
     "data": {
      "text/plain": [
       "podcast                    Lex Fridman, Talking Machines\n",
       "book             Homo Deus, The Deep Learning Revolution\n",
       "competition                          XPRIZE, AI for GOOD\n",
       "deep learning             Geoffrey Hinton, Yoshua Bengio\n",
       "dtype: object"
      ]
     },
     "execution_count": 8,
     "metadata": {},
     "output_type": "execute_result"
    }
   ],
   "source": [
    "# Operating with strings\n",
    "\n",
    "# First Series\n",
    "ai = pd.Series({'podcast': 'Lex Fridman', 'book': 'Homo Deus', 'competition': 'XPRIZE', 'deep learning': 'Geoffrey Hinton'})\n",
    "# Second Series\n",
    "ai2 = pd.Series({'podcast': 'Talking Machines', 'book': 'The Deep Learning Revolution', 'competition': 'AI for GOOD', 'deep learning': 'Yoshua Bengio'})\n",
    "# Concatenate \n",
    "ai + ', ' + ai2"
   ]
  },
  {
   "cell_type": "markdown",
   "metadata": {},
   "source": [
    "### Pandas Dataframes"
   ]
  },
  {
   "cell_type": "markdown",
   "metadata": {},
   "source": [
    "##### Creating a pandas df"
   ]
  },
  {
   "cell_type": "code",
   "execution_count": 9,
   "metadata": {},
   "outputs": [
    {
     "data": {
      "text/html": [
       "<div>\n",
       "<style scoped>\n",
       "    .dataframe tbody tr th:only-of-type {\n",
       "        vertical-align: middle;\n",
       "    }\n",
       "\n",
       "    .dataframe tbody tr th {\n",
       "        vertical-align: top;\n",
       "    }\n",
       "\n",
       "    .dataframe thead th {\n",
       "        text-align: right;\n",
       "    }\n",
       "</style>\n",
       "<table border=\"1\" class=\"dataframe\">\n",
       "  <thead>\n",
       "    <tr style=\"text-align: right;\">\n",
       "      <th></th>\n",
       "      <th>Christian Yelich</th>\n",
       "      <th>Mookie Betts</th>\n",
       "      <th>Mike Trout</th>\n",
       "      <th>Cody Bellinger</th>\n",
       "    </tr>\n",
       "  </thead>\n",
       "  <tbody>\n",
       "    <tr>\n",
       "      <th>Batting Avg</th>\n",
       "      <td>0.569497</td>\n",
       "      <td>0.240306</td>\n",
       "      <td>0.177270</td>\n",
       "      <td>0.191070</td>\n",
       "    </tr>\n",
       "    <tr>\n",
       "      <th>Hit Percentage</th>\n",
       "      <td>0.010060</td>\n",
       "      <td>0.424066</td>\n",
       "      <td>0.590402</td>\n",
       "      <td>0.759650</td>\n",
       "    </tr>\n",
       "    <tr>\n",
       "      <th>Slugging Percentage</th>\n",
       "      <td>0.204622</td>\n",
       "      <td>0.499510</td>\n",
       "      <td>0.110285</td>\n",
       "      <td>0.475756</td>\n",
       "    </tr>\n",
       "    <tr>\n",
       "      <th>On Base Percentage</th>\n",
       "      <td>0.351927</td>\n",
       "      <td>0.913976</td>\n",
       "      <td>0.703429</td>\n",
       "      <td>0.885743</td>\n",
       "    </tr>\n",
       "    <tr>\n",
       "      <th>Home Runs</th>\n",
       "      <td>0.950284</td>\n",
       "      <td>0.301156</td>\n",
       "      <td>0.128469</td>\n",
       "      <td>1.220040</td>\n",
       "    </tr>\n",
       "  </tbody>\n",
       "</table>\n",
       "</div>"
      ],
      "text/plain": [
       "                     Christian Yelich  Mookie Betts  Mike Trout  \\\n",
       "Batting Avg                  0.569497      0.240306    0.177270   \n",
       "Hit Percentage               0.010060      0.424066    0.590402   \n",
       "Slugging Percentage          0.204622      0.499510    0.110285   \n",
       "On Base Percentage           0.351927      0.913976    0.703429   \n",
       "Home Runs                    0.950284      0.301156    0.128469   \n",
       "\n",
       "                     Cody Bellinger  \n",
       "Batting Avg                0.191070  \n",
       "Hit Percentage             0.759650  \n",
       "Slugging Percentage        0.475756  \n",
       "On Base Percentage         0.885743  \n",
       "Home Runs                  1.220040  "
      ]
     },
     "execution_count": 9,
     "metadata": {},
     "output_type": "execute_result"
    }
   ],
   "source": [
    "from numpy.random import randn\n",
    "\n",
    "moneyball = pd.DataFrame(abs(randn(5,4))/2,['Batting Avg','Hit Percentage','Slugging Percentage','On Base Percentage', 'Home Runs'], ['Christian Yelich', 'Mookie Betts', 'Mike Trout', 'Cody Bellinger'])\n",
    "moneyball"
   ]
  },
  {
   "cell_type": "markdown",
   "metadata": {},
   "source": [
    "###### Getting data from a pandas df"
   ]
  },
  {
   "cell_type": "code",
   "execution_count": 10,
   "metadata": {},
   "outputs": [
    {
     "data": {
      "text/plain": [
       "Batting Avg            0.177270\n",
       "Hit Percentage         0.590402\n",
       "Slugging Percentage    0.110285\n",
       "On Base Percentage     0.703429\n",
       "Home Runs              0.128469\n",
       "Name: Mike Trout, dtype: float64"
      ]
     },
     "execution_count": 10,
     "metadata": {},
     "output_type": "execute_result"
    }
   ],
   "source": [
    "# Getting a column returns a series\n",
    "\n",
    "# Get the stats for Mike Trout\n",
    "moneyball['Mike Trout']"
   ]
  },
  {
   "cell_type": "code",
   "execution_count": 11,
   "metadata": {},
   "outputs": [
    {
     "data": {
      "text/html": [
       "<div>\n",
       "<style scoped>\n",
       "    .dataframe tbody tr th:only-of-type {\n",
       "        vertical-align: middle;\n",
       "    }\n",
       "\n",
       "    .dataframe tbody tr th {\n",
       "        vertical-align: top;\n",
       "    }\n",
       "\n",
       "    .dataframe thead th {\n",
       "        text-align: right;\n",
       "    }\n",
       "</style>\n",
       "<table border=\"1\" class=\"dataframe\">\n",
       "  <thead>\n",
       "    <tr style=\"text-align: right;\">\n",
       "      <th></th>\n",
       "      <th>Christian Yelich</th>\n",
       "      <th>Cody Bellinger</th>\n",
       "    </tr>\n",
       "  </thead>\n",
       "  <tbody>\n",
       "    <tr>\n",
       "      <th>Batting Avg</th>\n",
       "      <td>0.569497</td>\n",
       "      <td>0.191070</td>\n",
       "    </tr>\n",
       "    <tr>\n",
       "      <th>Hit Percentage</th>\n",
       "      <td>0.010060</td>\n",
       "      <td>0.759650</td>\n",
       "    </tr>\n",
       "    <tr>\n",
       "      <th>Slugging Percentage</th>\n",
       "      <td>0.204622</td>\n",
       "      <td>0.475756</td>\n",
       "    </tr>\n",
       "    <tr>\n",
       "      <th>On Base Percentage</th>\n",
       "      <td>0.351927</td>\n",
       "      <td>0.885743</td>\n",
       "    </tr>\n",
       "    <tr>\n",
       "      <th>Home Runs</th>\n",
       "      <td>0.950284</td>\n",
       "      <td>1.220040</td>\n",
       "    </tr>\n",
       "  </tbody>\n",
       "</table>\n",
       "</div>"
      ],
      "text/plain": [
       "                     Christian Yelich  Cody Bellinger\n",
       "Batting Avg                  0.569497        0.191070\n",
       "Hit Percentage               0.010060        0.759650\n",
       "Slugging Percentage          0.204622        0.475756\n",
       "On Base Percentage           0.351927        0.885743\n",
       "Home Runs                    0.950284        1.220040"
      ]
     },
     "execution_count": 11,
     "metadata": {},
     "output_type": "execute_result"
    }
   ],
   "source": [
    "# Getting multiple columns returns a dataframe\n",
    "\n",
    "# Get the stats for Yelich and Bellinger\n",
    "moneyball[['Christian Yelich', 'Cody Bellinger']] # Need to pass in the column names as a list in the index"
   ]
  },
  {
   "cell_type": "code",
   "execution_count": 12,
   "metadata": {},
   "outputs": [
    {
     "data": {
      "text/plain": [
       "Christian Yelich    0.010060\n",
       "Mookie Betts        0.424066\n",
       "Mike Trout          0.590402\n",
       "Cody Bellinger      0.759650\n",
       "Name: Hit Percentage, dtype: float64"
      ]
     },
     "execution_count": 12,
     "metadata": {},
     "output_type": "execute_result"
    }
   ],
   "source": [
    "# Getting 1 row's data returns a series\n",
    "\n",
    "moneyball.loc['Hit Percentage']"
   ]
  },
  {
   "cell_type": "code",
   "execution_count": 13,
   "metadata": {},
   "outputs": [
    {
     "data": {
      "text/html": [
       "<div>\n",
       "<style scoped>\n",
       "    .dataframe tbody tr th:only-of-type {\n",
       "        vertical-align: middle;\n",
       "    }\n",
       "\n",
       "    .dataframe tbody tr th {\n",
       "        vertical-align: top;\n",
       "    }\n",
       "\n",
       "    .dataframe thead th {\n",
       "        text-align: right;\n",
       "    }\n",
       "</style>\n",
       "<table border=\"1\" class=\"dataframe\">\n",
       "  <thead>\n",
       "    <tr style=\"text-align: right;\">\n",
       "      <th></th>\n",
       "      <th>Christian Yelich</th>\n",
       "      <th>Mookie Betts</th>\n",
       "      <th>Mike Trout</th>\n",
       "      <th>Cody Bellinger</th>\n",
       "    </tr>\n",
       "  </thead>\n",
       "  <tbody>\n",
       "    <tr>\n",
       "      <th>Hit Percentage</th>\n",
       "      <td>0.010060</td>\n",
       "      <td>0.424066</td>\n",
       "      <td>0.590402</td>\n",
       "      <td>0.75965</td>\n",
       "    </tr>\n",
       "    <tr>\n",
       "      <th>Batting Avg</th>\n",
       "      <td>0.569497</td>\n",
       "      <td>0.240306</td>\n",
       "      <td>0.177270</td>\n",
       "      <td>0.19107</td>\n",
       "    </tr>\n",
       "  </tbody>\n",
       "</table>\n",
       "</div>"
      ],
      "text/plain": [
       "                Christian Yelich  Mookie Betts  Mike Trout  Cody Bellinger\n",
       "Hit Percentage          0.010060      0.424066    0.590402         0.75965\n",
       "Batting Avg             0.569497      0.240306    0.177270         0.19107"
      ]
     },
     "execution_count": 13,
     "metadata": {},
     "output_type": "execute_result"
    }
   ],
   "source": [
    "# Getting mutliple rows' data returns a dataframe\n",
    "\n",
    "moneyball.loc[['Hit Percentage', 'Batting Avg']]"
   ]
  },
  {
   "cell_type": "code",
   "execution_count": 14,
   "metadata": {},
   "outputs": [
    {
     "data": {
      "text/html": [
       "<div>\n",
       "<style scoped>\n",
       "    .dataframe tbody tr th:only-of-type {\n",
       "        vertical-align: middle;\n",
       "    }\n",
       "\n",
       "    .dataframe tbody tr th {\n",
       "        vertical-align: top;\n",
       "    }\n",
       "\n",
       "    .dataframe thead th {\n",
       "        text-align: right;\n",
       "    }\n",
       "</style>\n",
       "<table border=\"1\" class=\"dataframe\">\n",
       "  <thead>\n",
       "    <tr style=\"text-align: right;\">\n",
       "      <th></th>\n",
       "      <th>Christian Yelich</th>\n",
       "      <th>Mookie Betts</th>\n",
       "      <th>Mike Trout</th>\n",
       "      <th>Cody Bellinger</th>\n",
       "    </tr>\n",
       "  </thead>\n",
       "  <tbody>\n",
       "    <tr>\n",
       "      <th>Hit Percentage</th>\n",
       "      <td>0.010060</td>\n",
       "      <td>0.424066</td>\n",
       "      <td>0.590402</td>\n",
       "      <td>0.759650</td>\n",
       "    </tr>\n",
       "    <tr>\n",
       "      <th>On Base Percentage</th>\n",
       "      <td>0.351927</td>\n",
       "      <td>0.913976</td>\n",
       "      <td>0.703429</td>\n",
       "      <td>0.885743</td>\n",
       "    </tr>\n",
       "  </tbody>\n",
       "</table>\n",
       "</div>"
      ],
      "text/plain": [
       "                    Christian Yelich  Mookie Betts  Mike Trout  Cody Bellinger\n",
       "Hit Percentage              0.010060      0.424066    0.590402        0.759650\n",
       "On Base Percentage          0.351927      0.913976    0.703429        0.885743"
      ]
     },
     "execution_count": 14,
     "metadata": {},
     "output_type": "execute_result"
    }
   ],
   "source": [
    "# You can also select rows from their numerical index\n",
    "moneyball.iloc[[1, 3]]"
   ]
  },
  {
   "cell_type": "markdown",
   "metadata": {},
   "source": [
    "###### Adding new data to a dataframe"
   ]
  },
  {
   "cell_type": "code",
   "execution_count": 15,
   "metadata": {},
   "outputs": [
    {
     "data": {
      "text/html": [
       "<div>\n",
       "<style scoped>\n",
       "    .dataframe tbody tr th:only-of-type {\n",
       "        vertical-align: middle;\n",
       "    }\n",
       "\n",
       "    .dataframe tbody tr th {\n",
       "        vertical-align: top;\n",
       "    }\n",
       "\n",
       "    .dataframe thead th {\n",
       "        text-align: right;\n",
       "    }\n",
       "</style>\n",
       "<table border=\"1\" class=\"dataframe\">\n",
       "  <thead>\n",
       "    <tr style=\"text-align: right;\">\n",
       "      <th></th>\n",
       "      <th>Christian Yelich</th>\n",
       "      <th>Mookie Betts</th>\n",
       "      <th>Mike Trout</th>\n",
       "      <th>Cody Bellinger</th>\n",
       "      <th>Jose Ramirez</th>\n",
       "    </tr>\n",
       "  </thead>\n",
       "  <tbody>\n",
       "    <tr>\n",
       "      <th>Batting Avg</th>\n",
       "      <td>0.569497</td>\n",
       "      <td>0.240306</td>\n",
       "      <td>0.177270</td>\n",
       "      <td>0.191070</td>\n",
       "      <td>0.290944</td>\n",
       "    </tr>\n",
       "    <tr>\n",
       "      <th>Hit Percentage</th>\n",
       "      <td>0.010060</td>\n",
       "      <td>0.424066</td>\n",
       "      <td>0.590402</td>\n",
       "      <td>0.759650</td>\n",
       "      <td>0.641249</td>\n",
       "    </tr>\n",
       "    <tr>\n",
       "      <th>Slugging Percentage</th>\n",
       "      <td>0.204622</td>\n",
       "      <td>0.499510</td>\n",
       "      <td>0.110285</td>\n",
       "      <td>0.475756</td>\n",
       "      <td>0.035798</td>\n",
       "    </tr>\n",
       "    <tr>\n",
       "      <th>On Base Percentage</th>\n",
       "      <td>0.351927</td>\n",
       "      <td>0.913976</td>\n",
       "      <td>0.703429</td>\n",
       "      <td>0.885743</td>\n",
       "      <td>0.628037</td>\n",
       "    </tr>\n",
       "    <tr>\n",
       "      <th>Home Runs</th>\n",
       "      <td>0.950284</td>\n",
       "      <td>0.301156</td>\n",
       "      <td>0.128469</td>\n",
       "      <td>1.220040</td>\n",
       "      <td>0.693946</td>\n",
       "    </tr>\n",
       "  </tbody>\n",
       "</table>\n",
       "</div>"
      ],
      "text/plain": [
       "                     Christian Yelich  Mookie Betts  Mike Trout  \\\n",
       "Batting Avg                  0.569497      0.240306    0.177270   \n",
       "Hit Percentage               0.010060      0.424066    0.590402   \n",
       "Slugging Percentage          0.204622      0.499510    0.110285   \n",
       "On Base Percentage           0.351927      0.913976    0.703429   \n",
       "Home Runs                    0.950284      0.301156    0.128469   \n",
       "\n",
       "                     Cody Bellinger  Jose Ramirez  \n",
       "Batting Avg                0.191070      0.290944  \n",
       "Hit Percentage             0.759650      0.641249  \n",
       "Slugging Percentage        0.475756      0.035798  \n",
       "On Base Percentage         0.885743      0.628037  \n",
       "Home Runs                  1.220040      0.693946  "
      ]
     },
     "execution_count": 15,
     "metadata": {},
     "output_type": "execute_result"
    }
   ],
   "source": [
    "# Add a new Column\n",
    "\n",
    "moneyball['Jose Ramirez'] = abs(np.random.randn(5))/2\n",
    "moneyball"
   ]
  },
  {
   "cell_type": "code",
   "execution_count": 16,
   "metadata": {},
   "outputs": [
    {
     "data": {
      "text/html": [
       "<div>\n",
       "<style scoped>\n",
       "    .dataframe tbody tr th:only-of-type {\n",
       "        vertical-align: middle;\n",
       "    }\n",
       "\n",
       "    .dataframe tbody tr th {\n",
       "        vertical-align: top;\n",
       "    }\n",
       "\n",
       "    .dataframe thead th {\n",
       "        text-align: right;\n",
       "    }\n",
       "</style>\n",
       "<table border=\"1\" class=\"dataframe\">\n",
       "  <thead>\n",
       "    <tr style=\"text-align: right;\">\n",
       "      <th></th>\n",
       "      <th>Christian Yelich</th>\n",
       "      <th>Mookie Betts</th>\n",
       "      <th>Mike Trout</th>\n",
       "      <th>Cody Bellinger</th>\n",
       "      <th>Jose Ramirez</th>\n",
       "    </tr>\n",
       "  </thead>\n",
       "  <tbody>\n",
       "    <tr>\n",
       "      <th>Batting Avg</th>\n",
       "      <td>0.569497</td>\n",
       "      <td>0.240306</td>\n",
       "      <td>0.177270</td>\n",
       "      <td>0.191070</td>\n",
       "      <td>0.290944</td>\n",
       "    </tr>\n",
       "    <tr>\n",
       "      <th>Hit Percentage</th>\n",
       "      <td>0.010060</td>\n",
       "      <td>0.424066</td>\n",
       "      <td>0.590402</td>\n",
       "      <td>0.759650</td>\n",
       "      <td>0.641249</td>\n",
       "    </tr>\n",
       "    <tr>\n",
       "      <th>Slugging Percentage</th>\n",
       "      <td>0.204622</td>\n",
       "      <td>0.499510</td>\n",
       "      <td>0.110285</td>\n",
       "      <td>0.475756</td>\n",
       "      <td>0.035798</td>\n",
       "    </tr>\n",
       "    <tr>\n",
       "      <th>On Base Percentage</th>\n",
       "      <td>0.351927</td>\n",
       "      <td>0.913976</td>\n",
       "      <td>0.703429</td>\n",
       "      <td>0.885743</td>\n",
       "      <td>0.628037</td>\n",
       "    </tr>\n",
       "    <tr>\n",
       "      <th>Home Runs</th>\n",
       "      <td>0.950284</td>\n",
       "      <td>0.301156</td>\n",
       "      <td>0.128469</td>\n",
       "      <td>1.220040</td>\n",
       "      <td>0.693946</td>\n",
       "    </tr>\n",
       "    <tr>\n",
       "      <th>On base plus slug</th>\n",
       "      <td>0.556549</td>\n",
       "      <td>1.413487</td>\n",
       "      <td>0.813714</td>\n",
       "      <td>1.361499</td>\n",
       "      <td>0.663835</td>\n",
       "    </tr>\n",
       "  </tbody>\n",
       "</table>\n",
       "</div>"
      ],
      "text/plain": [
       "                     Christian Yelich  Mookie Betts  Mike Trout  \\\n",
       "Batting Avg                  0.569497      0.240306    0.177270   \n",
       "Hit Percentage               0.010060      0.424066    0.590402   \n",
       "Slugging Percentage          0.204622      0.499510    0.110285   \n",
       "On Base Percentage           0.351927      0.913976    0.703429   \n",
       "Home Runs                    0.950284      0.301156    0.128469   \n",
       "On base plus slug            0.556549      1.413487    0.813714   \n",
       "\n",
       "                     Cody Bellinger  Jose Ramirez  \n",
       "Batting Avg                0.191070      0.290944  \n",
       "Hit Percentage             0.759650      0.641249  \n",
       "Slugging Percentage        0.475756      0.035798  \n",
       "On Base Percentage         0.885743      0.628037  \n",
       "Home Runs                  1.220040      0.693946  \n",
       "On base plus slug          1.361499      0.663835  "
      ]
     },
     "execution_count": 16,
     "metadata": {},
     "output_type": "execute_result"
    }
   ],
   "source": [
    "# Add a new row\n",
    "moneyball.loc['On base plus slug'] = moneyball.loc['On Base Percentage'] + moneyball.loc['Slugging Percentage']\n",
    "moneyball"
   ]
  },
  {
   "cell_type": "code",
   "execution_count": 17,
   "metadata": {},
   "outputs": [
    {
     "data": {
      "text/html": [
       "<div>\n",
       "<style scoped>\n",
       "    .dataframe tbody tr th:only-of-type {\n",
       "        vertical-align: middle;\n",
       "    }\n",
       "\n",
       "    .dataframe tbody tr th {\n",
       "        vertical-align: top;\n",
       "    }\n",
       "\n",
       "    .dataframe thead th {\n",
       "        text-align: right;\n",
       "    }\n",
       "</style>\n",
       "<table border=\"1\" class=\"dataframe\">\n",
       "  <thead>\n",
       "    <tr style=\"text-align: right;\">\n",
       "      <th></th>\n",
       "      <th>Christian Yelich</th>\n",
       "      <th>Mookie Betts</th>\n",
       "      <th>Mike Trout</th>\n",
       "      <th>Cody Bellinger</th>\n",
       "      <th>Jose Ramirez</th>\n",
       "      <th>Dodgers</th>\n",
       "    </tr>\n",
       "  </thead>\n",
       "  <tbody>\n",
       "    <tr>\n",
       "      <th>Batting Avg</th>\n",
       "      <td>0.569497</td>\n",
       "      <td>0.240306</td>\n",
       "      <td>0.177270</td>\n",
       "      <td>0.191070</td>\n",
       "      <td>0.290944</td>\n",
       "      <td>0.215688</td>\n",
       "    </tr>\n",
       "    <tr>\n",
       "      <th>Hit Percentage</th>\n",
       "      <td>0.010060</td>\n",
       "      <td>0.424066</td>\n",
       "      <td>0.590402</td>\n",
       "      <td>0.759650</td>\n",
       "      <td>0.641249</td>\n",
       "      <td>0.591858</td>\n",
       "    </tr>\n",
       "    <tr>\n",
       "      <th>Slugging Percentage</th>\n",
       "      <td>0.204622</td>\n",
       "      <td>0.499510</td>\n",
       "      <td>0.110285</td>\n",
       "      <td>0.475756</td>\n",
       "      <td>0.035798</td>\n",
       "      <td>0.487633</td>\n",
       "    </tr>\n",
       "    <tr>\n",
       "      <th>On Base Percentage</th>\n",
       "      <td>0.351927</td>\n",
       "      <td>0.913976</td>\n",
       "      <td>0.703429</td>\n",
       "      <td>0.885743</td>\n",
       "      <td>0.628037</td>\n",
       "      <td>0.899860</td>\n",
       "    </tr>\n",
       "    <tr>\n",
       "      <th>Home Runs</th>\n",
       "      <td>0.950284</td>\n",
       "      <td>0.301156</td>\n",
       "      <td>0.128469</td>\n",
       "      <td>1.220040</td>\n",
       "      <td>0.693946</td>\n",
       "      <td>0.760598</td>\n",
       "    </tr>\n",
       "    <tr>\n",
       "      <th>On base plus slug</th>\n",
       "      <td>0.556549</td>\n",
       "      <td>1.413487</td>\n",
       "      <td>0.813714</td>\n",
       "      <td>1.361499</td>\n",
       "      <td>0.663835</td>\n",
       "      <td>1.387493</td>\n",
       "    </tr>\n",
       "  </tbody>\n",
       "</table>\n",
       "</div>"
      ],
      "text/plain": [
       "                     Christian Yelich  Mookie Betts  Mike Trout  \\\n",
       "Batting Avg                  0.569497      0.240306    0.177270   \n",
       "Hit Percentage               0.010060      0.424066    0.590402   \n",
       "Slugging Percentage          0.204622      0.499510    0.110285   \n",
       "On Base Percentage           0.351927      0.913976    0.703429   \n",
       "Home Runs                    0.950284      0.301156    0.128469   \n",
       "On base plus slug            0.556549      1.413487    0.813714   \n",
       "\n",
       "                     Cody Bellinger  Jose Ramirez   Dodgers  \n",
       "Batting Avg                0.191070      0.290944  0.215688  \n",
       "Hit Percentage             0.759650      0.641249  0.591858  \n",
       "Slugging Percentage        0.475756      0.035798  0.487633  \n",
       "On Base Percentage         0.885743      0.628037  0.899860  \n",
       "Home Runs                  1.220040      0.693946  0.760598  \n",
       "On base plus slug          1.361499      0.663835  1.387493  "
      ]
     },
     "execution_count": 17,
     "metadata": {},
     "output_type": "execute_result"
    }
   ],
   "source": [
    "# Adding columns with arithmetic \n",
    "\n",
    "moneyball['Dodgers'] = (moneyball['Mookie Betts'] + moneyball['Cody Bellinger']) / 2\n",
    "moneyball"
   ]
  },
  {
   "cell_type": "markdown",
   "metadata": {},
   "source": [
    "##### Removing data from a dataframe"
   ]
  },
  {
   "cell_type": "code",
   "execution_count": 18,
   "metadata": {},
   "outputs": [
    {
     "data": {
      "text/html": [
       "<div>\n",
       "<style scoped>\n",
       "    .dataframe tbody tr th:only-of-type {\n",
       "        vertical-align: middle;\n",
       "    }\n",
       "\n",
       "    .dataframe tbody tr th {\n",
       "        vertical-align: top;\n",
       "    }\n",
       "\n",
       "    .dataframe thead th {\n",
       "        text-align: right;\n",
       "    }\n",
       "</style>\n",
       "<table border=\"1\" class=\"dataframe\">\n",
       "  <thead>\n",
       "    <tr style=\"text-align: right;\">\n",
       "      <th></th>\n",
       "      <th>Christian Yelich</th>\n",
       "      <th>Mookie Betts</th>\n",
       "      <th>Mike Trout</th>\n",
       "      <th>Cody Bellinger</th>\n",
       "      <th>Jose Ramirez</th>\n",
       "      <th>Dodgers</th>\n",
       "    </tr>\n",
       "  </thead>\n",
       "  <tbody>\n",
       "    <tr>\n",
       "      <th>Batting Avg</th>\n",
       "      <td>0.569497</td>\n",
       "      <td>0.240306</td>\n",
       "      <td>0.177270</td>\n",
       "      <td>0.191070</td>\n",
       "      <td>0.290944</td>\n",
       "      <td>0.215688</td>\n",
       "    </tr>\n",
       "    <tr>\n",
       "      <th>Hit Percentage</th>\n",
       "      <td>0.010060</td>\n",
       "      <td>0.424066</td>\n",
       "      <td>0.590402</td>\n",
       "      <td>0.759650</td>\n",
       "      <td>0.641249</td>\n",
       "      <td>0.591858</td>\n",
       "    </tr>\n",
       "    <tr>\n",
       "      <th>Slugging Percentage</th>\n",
       "      <td>0.204622</td>\n",
       "      <td>0.499510</td>\n",
       "      <td>0.110285</td>\n",
       "      <td>0.475756</td>\n",
       "      <td>0.035798</td>\n",
       "      <td>0.487633</td>\n",
       "    </tr>\n",
       "    <tr>\n",
       "      <th>On Base Percentage</th>\n",
       "      <td>0.351927</td>\n",
       "      <td>0.913976</td>\n",
       "      <td>0.703429</td>\n",
       "      <td>0.885743</td>\n",
       "      <td>0.628037</td>\n",
       "      <td>0.899860</td>\n",
       "    </tr>\n",
       "    <tr>\n",
       "      <th>On base plus slug</th>\n",
       "      <td>0.556549</td>\n",
       "      <td>1.413487</td>\n",
       "      <td>0.813714</td>\n",
       "      <td>1.361499</td>\n",
       "      <td>0.663835</td>\n",
       "      <td>1.387493</td>\n",
       "    </tr>\n",
       "  </tbody>\n",
       "</table>\n",
       "</div>"
      ],
      "text/plain": [
       "                     Christian Yelich  Mookie Betts  Mike Trout  \\\n",
       "Batting Avg                  0.569497      0.240306    0.177270   \n",
       "Hit Percentage               0.010060      0.424066    0.590402   \n",
       "Slugging Percentage          0.204622      0.499510    0.110285   \n",
       "On Base Percentage           0.351927      0.913976    0.703429   \n",
       "On base plus slug            0.556549      1.413487    0.813714   \n",
       "\n",
       "                     Cody Bellinger  Jose Ramirez   Dodgers  \n",
       "Batting Avg                0.191070      0.290944  0.215688  \n",
       "Hit Percentage             0.759650      0.641249  0.591858  \n",
       "Slugging Percentage        0.475756      0.035798  0.487633  \n",
       "On Base Percentage         0.885743      0.628037  0.899860  \n",
       "On base plus slug          1.361499      0.663835  1.387493  "
      ]
     },
     "execution_count": 18,
     "metadata": {},
     "output_type": "execute_result"
    }
   ],
   "source": [
    "# Disregard a row\n",
    "moneyball.drop('Home Runs')"
   ]
  },
  {
   "cell_type": "code",
   "execution_count": 19,
   "metadata": {},
   "outputs": [
    {
     "data": {
      "text/html": [
       "<div>\n",
       "<style scoped>\n",
       "    .dataframe tbody tr th:only-of-type {\n",
       "        vertical-align: middle;\n",
       "    }\n",
       "\n",
       "    .dataframe tbody tr th {\n",
       "        vertical-align: top;\n",
       "    }\n",
       "\n",
       "    .dataframe thead th {\n",
       "        text-align: right;\n",
       "    }\n",
       "</style>\n",
       "<table border=\"1\" class=\"dataframe\">\n",
       "  <thead>\n",
       "    <tr style=\"text-align: right;\">\n",
       "      <th></th>\n",
       "      <th>Christian Yelich</th>\n",
       "      <th>Mookie Betts</th>\n",
       "      <th>Mike Trout</th>\n",
       "      <th>Cody Bellinger</th>\n",
       "      <th>Jose Ramirez</th>\n",
       "      <th>Dodgers</th>\n",
       "    </tr>\n",
       "  </thead>\n",
       "  <tbody>\n",
       "    <tr>\n",
       "      <th>Batting Avg</th>\n",
       "      <td>0.569497</td>\n",
       "      <td>0.240306</td>\n",
       "      <td>0.177270</td>\n",
       "      <td>0.191070</td>\n",
       "      <td>0.290944</td>\n",
       "      <td>0.215688</td>\n",
       "    </tr>\n",
       "    <tr>\n",
       "      <th>Hit Percentage</th>\n",
       "      <td>0.010060</td>\n",
       "      <td>0.424066</td>\n",
       "      <td>0.590402</td>\n",
       "      <td>0.759650</td>\n",
       "      <td>0.641249</td>\n",
       "      <td>0.591858</td>\n",
       "    </tr>\n",
       "    <tr>\n",
       "      <th>Slugging Percentage</th>\n",
       "      <td>0.204622</td>\n",
       "      <td>0.499510</td>\n",
       "      <td>0.110285</td>\n",
       "      <td>0.475756</td>\n",
       "      <td>0.035798</td>\n",
       "      <td>0.487633</td>\n",
       "    </tr>\n",
       "    <tr>\n",
       "      <th>On Base Percentage</th>\n",
       "      <td>0.351927</td>\n",
       "      <td>0.913976</td>\n",
       "      <td>0.703429</td>\n",
       "      <td>0.885743</td>\n",
       "      <td>0.628037</td>\n",
       "      <td>0.899860</td>\n",
       "    </tr>\n",
       "    <tr>\n",
       "      <th>Home Runs</th>\n",
       "      <td>0.950284</td>\n",
       "      <td>0.301156</td>\n",
       "      <td>0.128469</td>\n",
       "      <td>1.220040</td>\n",
       "      <td>0.693946</td>\n",
       "      <td>0.760598</td>\n",
       "    </tr>\n",
       "    <tr>\n",
       "      <th>On base plus slug</th>\n",
       "      <td>0.556549</td>\n",
       "      <td>1.413487</td>\n",
       "      <td>0.813714</td>\n",
       "      <td>1.361499</td>\n",
       "      <td>0.663835</td>\n",
       "      <td>1.387493</td>\n",
       "    </tr>\n",
       "  </tbody>\n",
       "</table>\n",
       "</div>"
      ],
      "text/plain": [
       "                     Christian Yelich  Mookie Betts  Mike Trout  \\\n",
       "Batting Avg                  0.569497      0.240306    0.177270   \n",
       "Hit Percentage               0.010060      0.424066    0.590402   \n",
       "Slugging Percentage          0.204622      0.499510    0.110285   \n",
       "On Base Percentage           0.351927      0.913976    0.703429   \n",
       "Home Runs                    0.950284      0.301156    0.128469   \n",
       "On base plus slug            0.556549      1.413487    0.813714   \n",
       "\n",
       "                     Cody Bellinger  Jose Ramirez   Dodgers  \n",
       "Batting Avg                0.191070      0.290944  0.215688  \n",
       "Hit Percentage             0.759650      0.641249  0.591858  \n",
       "Slugging Percentage        0.475756      0.035798  0.487633  \n",
       "On Base Percentage         0.885743      0.628037  0.899860  \n",
       "Home Runs                  1.220040      0.693946  0.760598  \n",
       "On base plus slug          1.361499      0.663835  1.387493  "
      ]
     },
     "execution_count": 19,
     "metadata": {},
     "output_type": "execute_result"
    }
   ],
   "source": [
    "# Note: The dropped row is still in the actual dataframe\n",
    "moneyball"
   ]
  },
  {
   "cell_type": "code",
   "execution_count": 20,
   "metadata": {},
   "outputs": [
    {
     "data": {
      "text/html": [
       "<div>\n",
       "<style scoped>\n",
       "    .dataframe tbody tr th:only-of-type {\n",
       "        vertical-align: middle;\n",
       "    }\n",
       "\n",
       "    .dataframe tbody tr th {\n",
       "        vertical-align: top;\n",
       "    }\n",
       "\n",
       "    .dataframe thead th {\n",
       "        text-align: right;\n",
       "    }\n",
       "</style>\n",
       "<table border=\"1\" class=\"dataframe\">\n",
       "  <thead>\n",
       "    <tr style=\"text-align: right;\">\n",
       "      <th></th>\n",
       "      <th>Christian Yelich</th>\n",
       "      <th>Mookie Betts</th>\n",
       "      <th>Mike Trout</th>\n",
       "      <th>Cody Bellinger</th>\n",
       "      <th>Jose Ramirez</th>\n",
       "      <th>Dodgers</th>\n",
       "    </tr>\n",
       "  </thead>\n",
       "  <tbody>\n",
       "    <tr>\n",
       "      <th>Batting Avg</th>\n",
       "      <td>0.569497</td>\n",
       "      <td>0.240306</td>\n",
       "      <td>0.177270</td>\n",
       "      <td>0.191070</td>\n",
       "      <td>0.290944</td>\n",
       "      <td>0.215688</td>\n",
       "    </tr>\n",
       "    <tr>\n",
       "      <th>Hit Percentage</th>\n",
       "      <td>0.010060</td>\n",
       "      <td>0.424066</td>\n",
       "      <td>0.590402</td>\n",
       "      <td>0.759650</td>\n",
       "      <td>0.641249</td>\n",
       "      <td>0.591858</td>\n",
       "    </tr>\n",
       "    <tr>\n",
       "      <th>Slugging Percentage</th>\n",
       "      <td>0.204622</td>\n",
       "      <td>0.499510</td>\n",
       "      <td>0.110285</td>\n",
       "      <td>0.475756</td>\n",
       "      <td>0.035798</td>\n",
       "      <td>0.487633</td>\n",
       "    </tr>\n",
       "    <tr>\n",
       "      <th>On Base Percentage</th>\n",
       "      <td>0.351927</td>\n",
       "      <td>0.913976</td>\n",
       "      <td>0.703429</td>\n",
       "      <td>0.885743</td>\n",
       "      <td>0.628037</td>\n",
       "      <td>0.899860</td>\n",
       "    </tr>\n",
       "    <tr>\n",
       "      <th>On base plus slug</th>\n",
       "      <td>0.556549</td>\n",
       "      <td>1.413487</td>\n",
       "      <td>0.813714</td>\n",
       "      <td>1.361499</td>\n",
       "      <td>0.663835</td>\n",
       "      <td>1.387493</td>\n",
       "    </tr>\n",
       "  </tbody>\n",
       "</table>\n",
       "</div>"
      ],
      "text/plain": [
       "                     Christian Yelich  Mookie Betts  Mike Trout  \\\n",
       "Batting Avg                  0.569497      0.240306    0.177270   \n",
       "Hit Percentage               0.010060      0.424066    0.590402   \n",
       "Slugging Percentage          0.204622      0.499510    0.110285   \n",
       "On Base Percentage           0.351927      0.913976    0.703429   \n",
       "On base plus slug            0.556549      1.413487    0.813714   \n",
       "\n",
       "                     Cody Bellinger  Jose Ramirez   Dodgers  \n",
       "Batting Avg                0.191070      0.290944  0.215688  \n",
       "Hit Percentage             0.759650      0.641249  0.591858  \n",
       "Slugging Percentage        0.475756      0.035798  0.487633  \n",
       "On Base Percentage         0.885743      0.628037  0.899860  \n",
       "On base plus slug          1.361499      0.663835  1.387493  "
      ]
     },
     "execution_count": 20,
     "metadata": {},
     "output_type": "execute_result"
    }
   ],
   "source": [
    "# You have to specify that you want to remove it in place (pandas safety feature for not losing data)\n",
    "moneyball.drop('Home Runs', axis=0, inplace=True)\n",
    "moneyball"
   ]
  },
  {
   "cell_type": "code",
   "execution_count": 21,
   "metadata": {},
   "outputs": [
    {
     "data": {
      "text/html": [
       "<div>\n",
       "<style scoped>\n",
       "    .dataframe tbody tr th:only-of-type {\n",
       "        vertical-align: middle;\n",
       "    }\n",
       "\n",
       "    .dataframe tbody tr th {\n",
       "        vertical-align: top;\n",
       "    }\n",
       "\n",
       "    .dataframe thead th {\n",
       "        text-align: right;\n",
       "    }\n",
       "</style>\n",
       "<table border=\"1\" class=\"dataframe\">\n",
       "  <thead>\n",
       "    <tr style=\"text-align: right;\">\n",
       "      <th></th>\n",
       "      <th>Christian Yelich</th>\n",
       "      <th>Mookie Betts</th>\n",
       "      <th>Mike Trout</th>\n",
       "      <th>Cody Bellinger</th>\n",
       "      <th>Jose Ramirez</th>\n",
       "    </tr>\n",
       "  </thead>\n",
       "  <tbody>\n",
       "    <tr>\n",
       "      <th>Batting Avg</th>\n",
       "      <td>0.569497</td>\n",
       "      <td>0.240306</td>\n",
       "      <td>0.177270</td>\n",
       "      <td>0.191070</td>\n",
       "      <td>0.290944</td>\n",
       "    </tr>\n",
       "    <tr>\n",
       "      <th>Hit Percentage</th>\n",
       "      <td>0.010060</td>\n",
       "      <td>0.424066</td>\n",
       "      <td>0.590402</td>\n",
       "      <td>0.759650</td>\n",
       "      <td>0.641249</td>\n",
       "    </tr>\n",
       "    <tr>\n",
       "      <th>Slugging Percentage</th>\n",
       "      <td>0.204622</td>\n",
       "      <td>0.499510</td>\n",
       "      <td>0.110285</td>\n",
       "      <td>0.475756</td>\n",
       "      <td>0.035798</td>\n",
       "    </tr>\n",
       "    <tr>\n",
       "      <th>On Base Percentage</th>\n",
       "      <td>0.351927</td>\n",
       "      <td>0.913976</td>\n",
       "      <td>0.703429</td>\n",
       "      <td>0.885743</td>\n",
       "      <td>0.628037</td>\n",
       "    </tr>\n",
       "    <tr>\n",
       "      <th>On base plus slug</th>\n",
       "      <td>0.556549</td>\n",
       "      <td>1.413487</td>\n",
       "      <td>0.813714</td>\n",
       "      <td>1.361499</td>\n",
       "      <td>0.663835</td>\n",
       "    </tr>\n",
       "  </tbody>\n",
       "</table>\n",
       "</div>"
      ],
      "text/plain": [
       "                     Christian Yelich  Mookie Betts  Mike Trout  \\\n",
       "Batting Avg                  0.569497      0.240306    0.177270   \n",
       "Hit Percentage               0.010060      0.424066    0.590402   \n",
       "Slugging Percentage          0.204622      0.499510    0.110285   \n",
       "On Base Percentage           0.351927      0.913976    0.703429   \n",
       "On base plus slug            0.556549      1.413487    0.813714   \n",
       "\n",
       "                     Cody Bellinger  Jose Ramirez  \n",
       "Batting Avg                0.191070      0.290944  \n",
       "Hit Percentage             0.759650      0.641249  \n",
       "Slugging Percentage        0.475756      0.035798  \n",
       "On Base Percentage         0.885743      0.628037  \n",
       "On base plus slug          1.361499      0.663835  "
      ]
     },
     "execution_count": 21,
     "metadata": {},
     "output_type": "execute_result"
    }
   ],
   "source": [
    "# Disregard a column\n",
    "\n",
    "# Specify axis = 1 for columns\n",
    "moneyball.drop('Dodgers', axis=1)"
   ]
  },
  {
   "cell_type": "code",
   "execution_count": 22,
   "metadata": {},
   "outputs": [
    {
     "data": {
      "text/html": [
       "<div>\n",
       "<style scoped>\n",
       "    .dataframe tbody tr th:only-of-type {\n",
       "        vertical-align: middle;\n",
       "    }\n",
       "\n",
       "    .dataframe tbody tr th {\n",
       "        vertical-align: top;\n",
       "    }\n",
       "\n",
       "    .dataframe thead th {\n",
       "        text-align: right;\n",
       "    }\n",
       "</style>\n",
       "<table border=\"1\" class=\"dataframe\">\n",
       "  <thead>\n",
       "    <tr style=\"text-align: right;\">\n",
       "      <th></th>\n",
       "      <th>Christian Yelich</th>\n",
       "      <th>Mookie Betts</th>\n",
       "      <th>Mike Trout</th>\n",
       "      <th>Cody Bellinger</th>\n",
       "      <th>Jose Ramirez</th>\n",
       "      <th>Dodgers</th>\n",
       "    </tr>\n",
       "  </thead>\n",
       "  <tbody>\n",
       "    <tr>\n",
       "      <th>Batting Avg</th>\n",
       "      <td>0.569497</td>\n",
       "      <td>0.240306</td>\n",
       "      <td>0.177270</td>\n",
       "      <td>0.191070</td>\n",
       "      <td>0.290944</td>\n",
       "      <td>0.215688</td>\n",
       "    </tr>\n",
       "    <tr>\n",
       "      <th>Hit Percentage</th>\n",
       "      <td>0.010060</td>\n",
       "      <td>0.424066</td>\n",
       "      <td>0.590402</td>\n",
       "      <td>0.759650</td>\n",
       "      <td>0.641249</td>\n",
       "      <td>0.591858</td>\n",
       "    </tr>\n",
       "    <tr>\n",
       "      <th>Slugging Percentage</th>\n",
       "      <td>0.204622</td>\n",
       "      <td>0.499510</td>\n",
       "      <td>0.110285</td>\n",
       "      <td>0.475756</td>\n",
       "      <td>0.035798</td>\n",
       "      <td>0.487633</td>\n",
       "    </tr>\n",
       "    <tr>\n",
       "      <th>On Base Percentage</th>\n",
       "      <td>0.351927</td>\n",
       "      <td>0.913976</td>\n",
       "      <td>0.703429</td>\n",
       "      <td>0.885743</td>\n",
       "      <td>0.628037</td>\n",
       "      <td>0.899860</td>\n",
       "    </tr>\n",
       "    <tr>\n",
       "      <th>On base plus slug</th>\n",
       "      <td>0.556549</td>\n",
       "      <td>1.413487</td>\n",
       "      <td>0.813714</td>\n",
       "      <td>1.361499</td>\n",
       "      <td>0.663835</td>\n",
       "      <td>1.387493</td>\n",
       "    </tr>\n",
       "  </tbody>\n",
       "</table>\n",
       "</div>"
      ],
      "text/plain": [
       "                     Christian Yelich  Mookie Betts  Mike Trout  \\\n",
       "Batting Avg                  0.569497      0.240306    0.177270   \n",
       "Hit Percentage               0.010060      0.424066    0.590402   \n",
       "Slugging Percentage          0.204622      0.499510    0.110285   \n",
       "On Base Percentage           0.351927      0.913976    0.703429   \n",
       "On base plus slug            0.556549      1.413487    0.813714   \n",
       "\n",
       "                     Cody Bellinger  Jose Ramirez   Dodgers  \n",
       "Batting Avg                0.191070      0.290944  0.215688  \n",
       "Hit Percentage             0.759650      0.641249  0.591858  \n",
       "Slugging Percentage        0.475756      0.035798  0.487633  \n",
       "On Base Percentage         0.885743      0.628037  0.899860  \n",
       "On base plus slug          1.361499      0.663835  1.387493  "
      ]
     },
     "execution_count": 22,
     "metadata": {},
     "output_type": "execute_result"
    }
   ],
   "source": [
    "# Dropped column still in dataframe\n",
    "\n",
    "moneyball"
   ]
  },
  {
   "cell_type": "code",
   "execution_count": 23,
   "metadata": {},
   "outputs": [
    {
     "data": {
      "text/html": [
       "<div>\n",
       "<style scoped>\n",
       "    .dataframe tbody tr th:only-of-type {\n",
       "        vertical-align: middle;\n",
       "    }\n",
       "\n",
       "    .dataframe tbody tr th {\n",
       "        vertical-align: top;\n",
       "    }\n",
       "\n",
       "    .dataframe thead th {\n",
       "        text-align: right;\n",
       "    }\n",
       "</style>\n",
       "<table border=\"1\" class=\"dataframe\">\n",
       "  <thead>\n",
       "    <tr style=\"text-align: right;\">\n",
       "      <th></th>\n",
       "      <th>Christian Yelich</th>\n",
       "      <th>Mookie Betts</th>\n",
       "      <th>Mike Trout</th>\n",
       "      <th>Cody Bellinger</th>\n",
       "      <th>Jose Ramirez</th>\n",
       "    </tr>\n",
       "  </thead>\n",
       "  <tbody>\n",
       "    <tr>\n",
       "      <th>Batting Avg</th>\n",
       "      <td>0.569497</td>\n",
       "      <td>0.240306</td>\n",
       "      <td>0.177270</td>\n",
       "      <td>0.191070</td>\n",
       "      <td>0.290944</td>\n",
       "    </tr>\n",
       "    <tr>\n",
       "      <th>Hit Percentage</th>\n",
       "      <td>0.010060</td>\n",
       "      <td>0.424066</td>\n",
       "      <td>0.590402</td>\n",
       "      <td>0.759650</td>\n",
       "      <td>0.641249</td>\n",
       "    </tr>\n",
       "    <tr>\n",
       "      <th>Slugging Percentage</th>\n",
       "      <td>0.204622</td>\n",
       "      <td>0.499510</td>\n",
       "      <td>0.110285</td>\n",
       "      <td>0.475756</td>\n",
       "      <td>0.035798</td>\n",
       "    </tr>\n",
       "    <tr>\n",
       "      <th>On Base Percentage</th>\n",
       "      <td>0.351927</td>\n",
       "      <td>0.913976</td>\n",
       "      <td>0.703429</td>\n",
       "      <td>0.885743</td>\n",
       "      <td>0.628037</td>\n",
       "    </tr>\n",
       "    <tr>\n",
       "      <th>On base plus slug</th>\n",
       "      <td>0.556549</td>\n",
       "      <td>1.413487</td>\n",
       "      <td>0.813714</td>\n",
       "      <td>1.361499</td>\n",
       "      <td>0.663835</td>\n",
       "    </tr>\n",
       "  </tbody>\n",
       "</table>\n",
       "</div>"
      ],
      "text/plain": [
       "                     Christian Yelich  Mookie Betts  Mike Trout  \\\n",
       "Batting Avg                  0.569497      0.240306    0.177270   \n",
       "Hit Percentage               0.010060      0.424066    0.590402   \n",
       "Slugging Percentage          0.204622      0.499510    0.110285   \n",
       "On Base Percentage           0.351927      0.913976    0.703429   \n",
       "On base plus slug            0.556549      1.413487    0.813714   \n",
       "\n",
       "                     Cody Bellinger  Jose Ramirez  \n",
       "Batting Avg                0.191070      0.290944  \n",
       "Hit Percentage             0.759650      0.641249  \n",
       "Slugging Percentage        0.475756      0.035798  \n",
       "On Base Percentage         0.885743      0.628037  \n",
       "On base plus slug          1.361499      0.663835  "
      ]
     },
     "execution_count": 23,
     "metadata": {},
     "output_type": "execute_result"
    }
   ],
   "source": [
    "# Remove the column data completely \n",
    "moneyball.drop('Dodgers', axis=1, inplace=True)\n",
    "moneyball"
   ]
  },
  {
   "cell_type": "code",
   "execution_count": 24,
   "metadata": {},
   "outputs": [
    {
     "data": {
      "text/plain": [
       "(5, 5)"
      ]
     },
     "execution_count": 24,
     "metadata": {},
     "output_type": "execute_result"
    }
   ],
   "source": [
    "# Get the dataframe's shape (rows, cols)\n",
    "moneyball.shape"
   ]
  },
  {
   "cell_type": "markdown",
   "metadata": {},
   "source": [
    "##### Getting specific subsets of the dataframe"
   ]
  },
  {
   "cell_type": "code",
   "execution_count": 25,
   "metadata": {},
   "outputs": [
    {
     "data": {
      "text/plain": [
       "0.7596500856365155"
      ]
     },
     "execution_count": 25,
     "metadata": {},
     "output_type": "execute_result"
    }
   ],
   "source": [
    "# Get Cody Bellinger's hit percentage\n",
    "moneyball.loc['Hit Percentage', 'Cody Bellinger']"
   ]
  },
  {
   "cell_type": "code",
   "execution_count": 26,
   "metadata": {},
   "outputs": [
    {
     "data": {
      "text/html": [
       "<div>\n",
       "<style scoped>\n",
       "    .dataframe tbody tr th:only-of-type {\n",
       "        vertical-align: middle;\n",
       "    }\n",
       "\n",
       "    .dataframe tbody tr th {\n",
       "        vertical-align: top;\n",
       "    }\n",
       "\n",
       "    .dataframe thead th {\n",
       "        text-align: right;\n",
       "    }\n",
       "</style>\n",
       "<table border=\"1\" class=\"dataframe\">\n",
       "  <thead>\n",
       "    <tr style=\"text-align: right;\">\n",
       "      <th></th>\n",
       "      <th>Mike Trout</th>\n",
       "      <th>Jose Ramirez</th>\n",
       "      <th>Mookie Betts</th>\n",
       "    </tr>\n",
       "  </thead>\n",
       "  <tbody>\n",
       "    <tr>\n",
       "      <th>Hit Percentage</th>\n",
       "      <td>0.590402</td>\n",
       "      <td>0.641249</td>\n",
       "      <td>0.424066</td>\n",
       "    </tr>\n",
       "    <tr>\n",
       "      <th>Slugging Percentage</th>\n",
       "      <td>0.110285</td>\n",
       "      <td>0.035798</td>\n",
       "      <td>0.499510</td>\n",
       "    </tr>\n",
       "    <tr>\n",
       "      <th>On Base Percentage</th>\n",
       "      <td>0.703429</td>\n",
       "      <td>0.628037</td>\n",
       "      <td>0.913976</td>\n",
       "    </tr>\n",
       "  </tbody>\n",
       "</table>\n",
       "</div>"
      ],
      "text/plain": [
       "                     Mike Trout  Jose Ramirez  Mookie Betts\n",
       "Hit Percentage         0.590402      0.641249      0.424066\n",
       "Slugging Percentage    0.110285      0.035798      0.499510\n",
       "On Base Percentage     0.703429      0.628037      0.913976"
      ]
     },
     "execution_count": 26,
     "metadata": {},
     "output_type": "execute_result"
    }
   ],
   "source": [
    "# Get Mike Trout, Jose Ramirez, and Mookie Betts' on base percentage, hit percentage, and slugging percentages\n",
    "# Syntax df.loc[rows,cols]\n",
    "moneyball.loc[['Hit Percentage','Slugging Percentage','On Base Percentage'], ['Mike Trout', 'Jose Ramirez', 'Mookie Betts']]"
   ]
  },
  {
   "cell_type": "markdown",
   "metadata": {},
   "source": [
    "##### Conditional Selection"
   ]
  },
  {
   "cell_type": "code",
   "execution_count": 27,
   "metadata": {},
   "outputs": [
    {
     "data": {
      "text/html": [
       "<div>\n",
       "<style scoped>\n",
       "    .dataframe tbody tr th:only-of-type {\n",
       "        vertical-align: middle;\n",
       "    }\n",
       "\n",
       "    .dataframe tbody tr th {\n",
       "        vertical-align: top;\n",
       "    }\n",
       "\n",
       "    .dataframe thead th {\n",
       "        text-align: right;\n",
       "    }\n",
       "</style>\n",
       "<table border=\"1\" class=\"dataframe\">\n",
       "  <thead>\n",
       "    <tr style=\"text-align: right;\">\n",
       "      <th></th>\n",
       "      <th>Christian Yelich</th>\n",
       "      <th>Mookie Betts</th>\n",
       "      <th>Mike Trout</th>\n",
       "      <th>Cody Bellinger</th>\n",
       "      <th>Jose Ramirez</th>\n",
       "    </tr>\n",
       "  </thead>\n",
       "  <tbody>\n",
       "    <tr>\n",
       "      <th>Hit Percentage</th>\n",
       "      <td>0.010060</td>\n",
       "      <td>0.424066</td>\n",
       "      <td>0.590402</td>\n",
       "      <td>0.759650</td>\n",
       "      <td>0.641249</td>\n",
       "    </tr>\n",
       "    <tr>\n",
       "      <th>On Base Percentage</th>\n",
       "      <td>0.351927</td>\n",
       "      <td>0.913976</td>\n",
       "      <td>0.703429</td>\n",
       "      <td>0.885743</td>\n",
       "      <td>0.628037</td>\n",
       "    </tr>\n",
       "    <tr>\n",
       "      <th>On base plus slug</th>\n",
       "      <td>0.556549</td>\n",
       "      <td>1.413487</td>\n",
       "      <td>0.813714</td>\n",
       "      <td>1.361499</td>\n",
       "      <td>0.663835</td>\n",
       "    </tr>\n",
       "  </tbody>\n",
       "</table>\n",
       "</div>"
      ],
      "text/plain": [
       "                    Christian Yelich  Mookie Betts  Mike Trout  \\\n",
       "Hit Percentage              0.010060      0.424066    0.590402   \n",
       "On Base Percentage          0.351927      0.913976    0.703429   \n",
       "On base plus slug           0.556549      1.413487    0.813714   \n",
       "\n",
       "                    Cody Bellinger  Jose Ramirez  \n",
       "Hit Percentage            0.759650      0.641249  \n",
       "On Base Percentage        0.885743      0.628037  \n",
       "On base plus slug         1.361499      0.663835  "
      ]
     },
     "execution_count": 27,
     "metadata": {},
     "output_type": "execute_result"
    }
   ],
   "source": [
    "# Only select the stats where Mike Trout scores better than 0.3\n",
    "goodStats = moneyball[moneyball['Mike Trout'] > 0.3] # Batting average and On base plus slug\n",
    "goodStats"
   ]
  },
  {
   "cell_type": "code",
   "execution_count": 28,
   "metadata": {
    "scrolled": true
   },
   "outputs": [
    {
     "data": {
      "text/html": [
       "<div>\n",
       "<style scoped>\n",
       "    .dataframe tbody tr th:only-of-type {\n",
       "        vertical-align: middle;\n",
       "    }\n",
       "\n",
       "    .dataframe tbody tr th {\n",
       "        vertical-align: top;\n",
       "    }\n",
       "\n",
       "    .dataframe thead th {\n",
       "        text-align: right;\n",
       "    }\n",
       "</style>\n",
       "<table border=\"1\" class=\"dataframe\">\n",
       "  <thead>\n",
       "    <tr style=\"text-align: right;\">\n",
       "      <th></th>\n",
       "      <th>Christian Yelich</th>\n",
       "      <th>Mookie Betts</th>\n",
       "    </tr>\n",
       "  </thead>\n",
       "  <tbody>\n",
       "    <tr>\n",
       "      <th>Hit Percentage</th>\n",
       "      <td>0.010060</td>\n",
       "      <td>0.424066</td>\n",
       "    </tr>\n",
       "    <tr>\n",
       "      <th>On Base Percentage</th>\n",
       "      <td>0.351927</td>\n",
       "      <td>0.913976</td>\n",
       "    </tr>\n",
       "    <tr>\n",
       "      <th>On base plus slug</th>\n",
       "      <td>0.556549</td>\n",
       "      <td>1.413487</td>\n",
       "    </tr>\n",
       "  </tbody>\n",
       "</table>\n",
       "</div>"
      ],
      "text/plain": [
       "                    Christian Yelich  Mookie Betts\n",
       "Hit Percentage              0.010060      0.424066\n",
       "On Base Percentage          0.351927      0.913976\n",
       "On base plus slug           0.556549      1.413487"
      ]
     },
     "execution_count": 28,
     "metadata": {},
     "output_type": "execute_result"
    }
   ],
   "source": [
    "# You can select certain items from a conditionally selected subset of the df\n",
    "\n",
    "# See how Yelich and Betts score on batting average and obp\n",
    "goodStats[['Christian Yelich', 'Mookie Betts']]"
   ]
  },
  {
   "cell_type": "code",
   "execution_count": 29,
   "metadata": {},
   "outputs": [
    {
     "data": {
      "text/plain": [
       "Batting Avg            0.177270\n",
       "Slugging Percentage    0.110285\n",
       "Name: Mike Trout, dtype: float64"
      ]
     },
     "execution_count": 29,
     "metadata": {},
     "output_type": "execute_result"
    }
   ],
   "source": [
    "# You can stack the conditional and index selection commands \n",
    "\n",
    "# Mike Trout's stats where Mike Trout scores less than 0.3\n",
    "moneyball[moneyball['Mike Trout'] < 0.3]['Mike Trout']"
   ]
  },
  {
   "cell_type": "code",
   "execution_count": 30,
   "metadata": {},
   "outputs": [
    {
     "data": {
      "text/html": [
       "<div>\n",
       "<style scoped>\n",
       "    .dataframe tbody tr th:only-of-type {\n",
       "        vertical-align: middle;\n",
       "    }\n",
       "\n",
       "    .dataframe tbody tr th {\n",
       "        vertical-align: top;\n",
       "    }\n",
       "\n",
       "    .dataframe thead th {\n",
       "        text-align: right;\n",
       "    }\n",
       "</style>\n",
       "<table border=\"1\" class=\"dataframe\">\n",
       "  <thead>\n",
       "    <tr style=\"text-align: right;\">\n",
       "      <th></th>\n",
       "      <th>Jose Ramirez</th>\n",
       "      <th>Cody Bellinger</th>\n",
       "    </tr>\n",
       "  </thead>\n",
       "  <tbody>\n",
       "    <tr>\n",
       "      <th>Batting Avg</th>\n",
       "      <td>NaN</td>\n",
       "      <td>NaN</td>\n",
       "    </tr>\n",
       "    <tr>\n",
       "      <th>Hit Percentage</th>\n",
       "      <td>0.641249</td>\n",
       "      <td>0.759650</td>\n",
       "    </tr>\n",
       "    <tr>\n",
       "      <th>Slugging Percentage</th>\n",
       "      <td>NaN</td>\n",
       "      <td>0.475756</td>\n",
       "    </tr>\n",
       "    <tr>\n",
       "      <th>On Base Percentage</th>\n",
       "      <td>0.628037</td>\n",
       "      <td>0.885743</td>\n",
       "    </tr>\n",
       "    <tr>\n",
       "      <th>On base plus slug</th>\n",
       "      <td>0.663835</td>\n",
       "      <td>1.361499</td>\n",
       "    </tr>\n",
       "  </tbody>\n",
       "</table>\n",
       "</div>"
      ],
      "text/plain": [
       "                     Jose Ramirez  Cody Bellinger\n",
       "Batting Avg                   NaN             NaN\n",
       "Hit Percentage           0.641249        0.759650\n",
       "Slugging Percentage           NaN        0.475756\n",
       "On Base Percentage       0.628037        0.885743\n",
       "On base plus slug        0.663835        1.361499"
      ]
     },
     "execution_count": 30,
     "metadata": {},
     "output_type": "execute_result"
    }
   ],
   "source": [
    "# See where Ramirez and Bellinger score more than 0.3\n",
    "moneyball[moneyball[['Cody Bellinger', 'Jose Ramirez']] > 0.3][['Jose Ramirez', 'Cody Bellinger']]"
   ]
  },
  {
   "cell_type": "markdown",
   "metadata": {},
   "source": [
    "##### Conditional Selection with multiple conditions \n",
    "\n",
    "Use `&` or `|`"
   ]
  },
  {
   "cell_type": "code",
   "execution_count": 31,
   "metadata": {},
   "outputs": [
    {
     "data": {
      "text/html": [
       "<div>\n",
       "<style scoped>\n",
       "    .dataframe tbody tr th:only-of-type {\n",
       "        vertical-align: middle;\n",
       "    }\n",
       "\n",
       "    .dataframe tbody tr th {\n",
       "        vertical-align: top;\n",
       "    }\n",
       "\n",
       "    .dataframe thead th {\n",
       "        text-align: right;\n",
       "    }\n",
       "</style>\n",
       "<table border=\"1\" class=\"dataframe\">\n",
       "  <thead>\n",
       "    <tr style=\"text-align: right;\">\n",
       "      <th></th>\n",
       "      <th>Cody Bellinger</th>\n",
       "      <th>Mike Trout</th>\n",
       "    </tr>\n",
       "  </thead>\n",
       "  <tbody>\n",
       "    <tr>\n",
       "      <th>Slugging Percentage</th>\n",
       "      <td>0.475756</td>\n",
       "      <td>0.110285</td>\n",
       "    </tr>\n",
       "  </tbody>\n",
       "</table>\n",
       "</div>"
      ],
      "text/plain": [
       "                     Cody Bellinger  Mike Trout\n",
       "Slugging Percentage        0.475756    0.110285"
      ]
     },
     "execution_count": 31,
     "metadata": {},
     "output_type": "execute_result"
    }
   ],
   "source": [
    "# See where Cody Bellinger does well AND Mike Trout does poorly\n",
    "moneyball[(moneyball['Mike Trout'] < 0.3) & (moneyball['Cody Bellinger'] > 0.3)][['Cody Bellinger', 'Mike Trout']]"
   ]
  },
  {
   "cell_type": "code",
   "execution_count": 32,
   "metadata": {},
   "outputs": [
    {
     "data": {
      "text/html": [
       "<div>\n",
       "<style scoped>\n",
       "    .dataframe tbody tr th:only-of-type {\n",
       "        vertical-align: middle;\n",
       "    }\n",
       "\n",
       "    .dataframe tbody tr th {\n",
       "        vertical-align: top;\n",
       "    }\n",
       "\n",
       "    .dataframe thead th {\n",
       "        text-align: right;\n",
       "    }\n",
       "</style>\n",
       "<table border=\"1\" class=\"dataframe\">\n",
       "  <thead>\n",
       "    <tr style=\"text-align: right;\">\n",
       "      <th></th>\n",
       "      <th>Cody Bellinger</th>\n",
       "      <th>Mookie Betts</th>\n",
       "    </tr>\n",
       "  </thead>\n",
       "  <tbody>\n",
       "    <tr>\n",
       "      <th>Hit Percentage</th>\n",
       "      <td>0.759650</td>\n",
       "      <td>0.424066</td>\n",
       "    </tr>\n",
       "    <tr>\n",
       "      <th>Slugging Percentage</th>\n",
       "      <td>0.475756</td>\n",
       "      <td>0.499510</td>\n",
       "    </tr>\n",
       "    <tr>\n",
       "      <th>On Base Percentage</th>\n",
       "      <td>0.885743</td>\n",
       "      <td>0.913976</td>\n",
       "    </tr>\n",
       "    <tr>\n",
       "      <th>On base plus slug</th>\n",
       "      <td>1.361499</td>\n",
       "      <td>1.413487</td>\n",
       "    </tr>\n",
       "  </tbody>\n",
       "</table>\n",
       "</div>"
      ],
      "text/plain": [
       "                     Cody Bellinger  Mookie Betts\n",
       "Hit Percentage             0.759650      0.424066\n",
       "Slugging Percentage        0.475756      0.499510\n",
       "On Base Percentage         0.885743      0.913976\n",
       "On base plus slug          1.361499      1.413487"
      ]
     },
     "execution_count": 32,
     "metadata": {},
     "output_type": "execute_result"
    }
   ],
   "source": [
    "# Select the best batter for the Dodgers: See where Cody Bellinger does well or Mookie Betts does well\n",
    "moneyball[(moneyball['Mookie Betts'] > 0.3) | (moneyball['Cody Bellinger'] > 0.3)][['Cody Bellinger', 'Mookie Betts']]"
   ]
  },
  {
   "cell_type": "markdown",
   "metadata": {},
   "source": [
    "##### Resetting the labeled indices to a column"
   ]
  },
  {
   "cell_type": "code",
   "execution_count": 33,
   "metadata": {},
   "outputs": [
    {
     "data": {
      "text/html": [
       "<div>\n",
       "<style scoped>\n",
       "    .dataframe tbody tr th:only-of-type {\n",
       "        vertical-align: middle;\n",
       "    }\n",
       "\n",
       "    .dataframe tbody tr th {\n",
       "        vertical-align: top;\n",
       "    }\n",
       "\n",
       "    .dataframe thead th {\n",
       "        text-align: right;\n",
       "    }\n",
       "</style>\n",
       "<table border=\"1\" class=\"dataframe\">\n",
       "  <thead>\n",
       "    <tr style=\"text-align: right;\">\n",
       "      <th></th>\n",
       "      <th>index</th>\n",
       "      <th>Christian Yelich</th>\n",
       "      <th>Mookie Betts</th>\n",
       "      <th>Mike Trout</th>\n",
       "      <th>Cody Bellinger</th>\n",
       "      <th>Jose Ramirez</th>\n",
       "    </tr>\n",
       "  </thead>\n",
       "  <tbody>\n",
       "    <tr>\n",
       "      <th>0</th>\n",
       "      <td>Batting Avg</td>\n",
       "      <td>0.569497</td>\n",
       "      <td>0.240306</td>\n",
       "      <td>0.177270</td>\n",
       "      <td>0.191070</td>\n",
       "      <td>0.290944</td>\n",
       "    </tr>\n",
       "    <tr>\n",
       "      <th>1</th>\n",
       "      <td>Hit Percentage</td>\n",
       "      <td>0.010060</td>\n",
       "      <td>0.424066</td>\n",
       "      <td>0.590402</td>\n",
       "      <td>0.759650</td>\n",
       "      <td>0.641249</td>\n",
       "    </tr>\n",
       "    <tr>\n",
       "      <th>2</th>\n",
       "      <td>Slugging Percentage</td>\n",
       "      <td>0.204622</td>\n",
       "      <td>0.499510</td>\n",
       "      <td>0.110285</td>\n",
       "      <td>0.475756</td>\n",
       "      <td>0.035798</td>\n",
       "    </tr>\n",
       "    <tr>\n",
       "      <th>3</th>\n",
       "      <td>On Base Percentage</td>\n",
       "      <td>0.351927</td>\n",
       "      <td>0.913976</td>\n",
       "      <td>0.703429</td>\n",
       "      <td>0.885743</td>\n",
       "      <td>0.628037</td>\n",
       "    </tr>\n",
       "    <tr>\n",
       "      <th>4</th>\n",
       "      <td>On base plus slug</td>\n",
       "      <td>0.556549</td>\n",
       "      <td>1.413487</td>\n",
       "      <td>0.813714</td>\n",
       "      <td>1.361499</td>\n",
       "      <td>0.663835</td>\n",
       "    </tr>\n",
       "  </tbody>\n",
       "</table>\n",
       "</div>"
      ],
      "text/plain": [
       "                 index  Christian Yelich  Mookie Betts  Mike Trout  \\\n",
       "0          Batting Avg          0.569497      0.240306    0.177270   \n",
       "1       Hit Percentage          0.010060      0.424066    0.590402   \n",
       "2  Slugging Percentage          0.204622      0.499510    0.110285   \n",
       "3   On Base Percentage          0.351927      0.913976    0.703429   \n",
       "4    On base plus slug          0.556549      1.413487    0.813714   \n",
       "\n",
       "   Cody Bellinger  Jose Ramirez  \n",
       "0        0.191070      0.290944  \n",
       "1        0.759650      0.641249  \n",
       "2        0.475756      0.035798  \n",
       "3        0.885743      0.628037  \n",
       "4        1.361499      0.663835  "
      ]
     },
     "execution_count": 33,
     "metadata": {},
     "output_type": "execute_result"
    }
   ],
   "source": [
    "# Put the labels in a column\n",
    "moneyball.reset_index() # This doesn't occur in place unless you specify inplace=True"
   ]
  },
  {
   "cell_type": "code",
   "execution_count": 34,
   "metadata": {},
   "outputs": [
    {
     "data": {
      "text/html": [
       "<div>\n",
       "<style scoped>\n",
       "    .dataframe tbody tr th:only-of-type {\n",
       "        vertical-align: middle;\n",
       "    }\n",
       "\n",
       "    .dataframe tbody tr th {\n",
       "        vertical-align: top;\n",
       "    }\n",
       "\n",
       "    .dataframe thead th {\n",
       "        text-align: right;\n",
       "    }\n",
       "</style>\n",
       "<table border=\"1\" class=\"dataframe\">\n",
       "  <thead>\n",
       "    <tr style=\"text-align: right;\">\n",
       "      <th></th>\n",
       "      <th>Song</th>\n",
       "    </tr>\n",
       "  </thead>\n",
       "  <tbody>\n",
       "    <tr>\n",
       "      <th>Umm Kulthum</th>\n",
       "      <td>Alf Leila W Leila</td>\n",
       "    </tr>\n",
       "    <tr>\n",
       "      <th>Nancy Ajram</th>\n",
       "      <td>Ah W Noss</td>\n",
       "    </tr>\n",
       "    <tr>\n",
       "      <th>Hassan Shakosh</th>\n",
       "      <td>Mahragan Bent El Geran</td>\n",
       "    </tr>\n",
       "    <tr>\n",
       "      <th>Sting</th>\n",
       "      <td>Desert Rose</td>\n",
       "    </tr>\n",
       "    <tr>\n",
       "      <th>Qusai</th>\n",
       "      <td>From Jeddah to LA</td>\n",
       "    </tr>\n",
       "  </tbody>\n",
       "</table>\n",
       "</div>"
      ],
      "text/plain": [
       "                                  Song\n",
       "Umm Kulthum          Alf Leila W Leila\n",
       "Nancy Ajram                  Ah W Noss\n",
       "Hassan Shakosh  Mahragan Bent El Geran\n",
       "Sting                      Desert Rose\n",
       "Qusai                From Jeddah to LA"
      ]
     },
     "execution_count": 34,
     "metadata": {},
     "output_type": "execute_result"
    }
   ],
   "source": [
    "# Example of resetting and setting the index\n",
    "\n",
    "# Create a dataframe\n",
    "songs = ['Alf Leila W Leila', 'Ah W Noss', 'Mahragan Bent El Geran', 'Desert Rose', 'From Jeddah to LA']\n",
    "artists = ['Umm Kulthum', 'Nancy Ajram', 'Hassan Shakosh', 'Sting', 'Qusai']\n",
    "df = pd.DataFrame(songs, artists, ['Song'])\n",
    "df"
   ]
  },
  {
   "cell_type": "code",
   "execution_count": 35,
   "metadata": {},
   "outputs": [],
   "source": [
    "# Reset the index to 0,1,2,3...\n",
    "df.reset_index(inplace=True)"
   ]
  },
  {
   "cell_type": "code",
   "execution_count": 36,
   "metadata": {},
   "outputs": [
    {
     "data": {
      "text/html": [
       "<div>\n",
       "<style scoped>\n",
       "    .dataframe tbody tr th:only-of-type {\n",
       "        vertical-align: middle;\n",
       "    }\n",
       "\n",
       "    .dataframe tbody tr th {\n",
       "        vertical-align: top;\n",
       "    }\n",
       "\n",
       "    .dataframe thead th {\n",
       "        text-align: right;\n",
       "    }\n",
       "</style>\n",
       "<table border=\"1\" class=\"dataframe\">\n",
       "  <thead>\n",
       "    <tr style=\"text-align: right;\">\n",
       "      <th></th>\n",
       "      <th>index</th>\n",
       "      <th>Song</th>\n",
       "    </tr>\n",
       "    <tr>\n",
       "      <th>Genre</th>\n",
       "      <th></th>\n",
       "      <th></th>\n",
       "    </tr>\n",
       "  </thead>\n",
       "  <tbody>\n",
       "    <tr>\n",
       "      <th>Classical Egyptian</th>\n",
       "      <td>Umm Kulthum</td>\n",
       "      <td>Alf Leila W Leila</td>\n",
       "    </tr>\n",
       "    <tr>\n",
       "      <th>Arabic Pop</th>\n",
       "      <td>Nancy Ajram</td>\n",
       "      <td>Ah W Noss</td>\n",
       "    </tr>\n",
       "    <tr>\n",
       "      <th>Sha3by</th>\n",
       "      <td>Hassan Shakosh</td>\n",
       "      <td>Mahragan Bent El Geran</td>\n",
       "    </tr>\n",
       "    <tr>\n",
       "      <th>Rock</th>\n",
       "      <td>Sting</td>\n",
       "      <td>Desert Rose</td>\n",
       "    </tr>\n",
       "    <tr>\n",
       "      <th>Hip Hop</th>\n",
       "      <td>Qusai</td>\n",
       "      <td>From Jeddah to LA</td>\n",
       "    </tr>\n",
       "  </tbody>\n",
       "</table>\n",
       "</div>"
      ],
      "text/plain": [
       "                             index                    Song\n",
       "Genre                                                     \n",
       "Classical Egyptian     Umm Kulthum       Alf Leila W Leila\n",
       "Arabic Pop             Nancy Ajram               Ah W Noss\n",
       "Sha3by              Hassan Shakosh  Mahragan Bent El Geran\n",
       "Rock                         Sting             Desert Rose\n",
       "Hip Hop                      Qusai       From Jeddah to LA"
      ]
     },
     "execution_count": 36,
     "metadata": {},
     "output_type": "execute_result"
    }
   ],
   "source": [
    "# Add a column\n",
    "df['Genre'] = ['Classical Egyptian', 'Arabic Pop', 'Sha3by', 'Rock', 'Hip Hop']\n",
    "# Set the column data as the indices\n",
    "df.set_index('Genre')"
   ]
  },
  {
   "cell_type": "code",
   "execution_count": 37,
   "metadata": {},
   "outputs": [
    {
     "data": {
      "text/html": [
       "<div>\n",
       "<style scoped>\n",
       "    .dataframe tbody tr th:only-of-type {\n",
       "        vertical-align: middle;\n",
       "    }\n",
       "\n",
       "    .dataframe tbody tr th {\n",
       "        vertical-align: top;\n",
       "    }\n",
       "\n",
       "    .dataframe thead th {\n",
       "        text-align: right;\n",
       "    }\n",
       "</style>\n",
       "<table border=\"1\" class=\"dataframe\">\n",
       "  <thead>\n",
       "    <tr style=\"text-align: right;\">\n",
       "      <th></th>\n",
       "      <th>Song</th>\n",
       "      <th>Genre</th>\n",
       "      <th>Artist</th>\n",
       "    </tr>\n",
       "  </thead>\n",
       "  <tbody>\n",
       "    <tr>\n",
       "      <th>0</th>\n",
       "      <td>Alf Leila W Leila</td>\n",
       "      <td>Classical Egyptian</td>\n",
       "      <td>Umm Kulthum</td>\n",
       "    </tr>\n",
       "    <tr>\n",
       "      <th>1</th>\n",
       "      <td>Ah W Noss</td>\n",
       "      <td>Arabic Pop</td>\n",
       "      <td>Nancy Ajram</td>\n",
       "    </tr>\n",
       "    <tr>\n",
       "      <th>2</th>\n",
       "      <td>Mahragan Bent El Geran</td>\n",
       "      <td>Sha3by</td>\n",
       "      <td>Hassan Shakosh</td>\n",
       "    </tr>\n",
       "    <tr>\n",
       "      <th>3</th>\n",
       "      <td>Desert Rose</td>\n",
       "      <td>Rock</td>\n",
       "      <td>Sting</td>\n",
       "    </tr>\n",
       "    <tr>\n",
       "      <th>4</th>\n",
       "      <td>From Jeddah to LA</td>\n",
       "      <td>Hip Hop</td>\n",
       "      <td>Qusai</td>\n",
       "    </tr>\n",
       "  </tbody>\n",
       "</table>\n",
       "</div>"
      ],
      "text/plain": [
       "                     Song               Genre          Artist\n",
       "0       Alf Leila W Leila  Classical Egyptian     Umm Kulthum\n",
       "1               Ah W Noss          Arabic Pop     Nancy Ajram\n",
       "2  Mahragan Bent El Geran              Sha3by  Hassan Shakosh\n",
       "3             Desert Rose                Rock           Sting\n",
       "4       From Jeddah to LA             Hip Hop           Qusai"
      ]
     },
     "execution_count": 37,
     "metadata": {},
     "output_type": "execute_result"
    }
   ],
   "source": [
    "# Just for clarity, rename the old index data to what they represent\n",
    "df['Artist'] = df['index']\n",
    "df.drop('index', axis=1, inplace=True)\n",
    "df"
   ]
  },
  {
   "cell_type": "markdown",
   "metadata": {},
   "source": [
    "### Hierarchical indexing \n",
    "\n",
    "###### Creating a dataframe with multi-index levels\n",
    "\n",
    "Dataframes can have as many index layers as you want"
   ]
  },
  {
   "cell_type": "code",
   "execution_count": 38,
   "metadata": {},
   "outputs": [
    {
     "data": {
      "text/plain": [
       "MultiIndex([('G1', 1),\n",
       "            ('G1', 2),\n",
       "            ('G1', 3),\n",
       "            ('G2', 1),\n",
       "            ('G2', 2),\n",
       "            ('G2', 3)],\n",
       "           )"
      ]
     },
     "execution_count": 38,
     "metadata": {},
     "output_type": "execute_result"
    }
   ],
   "source": [
    "# Index level \n",
    "outside = ['G1', 'G1', 'G1', 'G2', 'G2', 'G2']\n",
    "# Index level\n",
    "inside = [1,2,3,1,2,3]\n",
    "# Pair the values from each index level together in a list of tuples\n",
    "hierarchicalIndex = list(zip(outside, inside))\n",
    "# Create multi-index levels  \n",
    "hierarchicalIndex = pd.MultiIndex.from_tuples(hierarchicalIndex)\n",
    "hierarchicalIndex"
   ]
  },
  {
   "cell_type": "code",
   "execution_count": 39,
   "metadata": {},
   "outputs": [
    {
     "data": {
      "text/html": [
       "<div>\n",
       "<style scoped>\n",
       "    .dataframe tbody tr th:only-of-type {\n",
       "        vertical-align: middle;\n",
       "    }\n",
       "\n",
       "    .dataframe tbody tr th {\n",
       "        vertical-align: top;\n",
       "    }\n",
       "\n",
       "    .dataframe thead th {\n",
       "        text-align: right;\n",
       "    }\n",
       "</style>\n",
       "<table border=\"1\" class=\"dataframe\">\n",
       "  <thead>\n",
       "    <tr style=\"text-align: right;\">\n",
       "      <th></th>\n",
       "      <th></th>\n",
       "      <th>A</th>\n",
       "      <th>B</th>\n",
       "    </tr>\n",
       "  </thead>\n",
       "  <tbody>\n",
       "    <tr>\n",
       "      <th rowspan=\"3\" valign=\"top\">G1</th>\n",
       "      <th>1</th>\n",
       "      <td>-1.498710</td>\n",
       "      <td>1.108396</td>\n",
       "    </tr>\n",
       "    <tr>\n",
       "      <th>2</th>\n",
       "      <td>1.167638</td>\n",
       "      <td>0.434092</td>\n",
       "    </tr>\n",
       "    <tr>\n",
       "      <th>3</th>\n",
       "      <td>0.213168</td>\n",
       "      <td>1.504804</td>\n",
       "    </tr>\n",
       "    <tr>\n",
       "      <th rowspan=\"3\" valign=\"top\">G2</th>\n",
       "      <th>1</th>\n",
       "      <td>-0.014228</td>\n",
       "      <td>-1.088841</td>\n",
       "    </tr>\n",
       "    <tr>\n",
       "      <th>2</th>\n",
       "      <td>-1.591891</td>\n",
       "      <td>0.730687</td>\n",
       "    </tr>\n",
       "    <tr>\n",
       "      <th>3</th>\n",
       "      <td>0.500184</td>\n",
       "      <td>-0.561454</td>\n",
       "    </tr>\n",
       "  </tbody>\n",
       "</table>\n",
       "</div>"
      ],
      "text/plain": [
       "             A         B\n",
       "G1 1 -1.498710  1.108396\n",
       "   2  1.167638  0.434092\n",
       "   3  0.213168  1.504804\n",
       "G2 1 -0.014228 -1.088841\n",
       "   2 -1.591891  0.730687\n",
       "   3  0.500184 -0.561454"
      ]
     },
     "execution_count": 39,
     "metadata": {},
     "output_type": "execute_result"
    }
   ],
   "source": [
    "# Create a dataframe with multi-index levels\n",
    "df = pd.DataFrame(np.random.randn(6,2), hierarchicalIndex, ['A','B'])\n",
    "df # Shows the outside index level and inside index level"
   ]
  },
  {
   "cell_type": "markdown",
   "metadata": {},
   "source": [
    "##### Getting data from dataframes with multi-index levels\n",
    "\n",
    "You call from the outside index towards the inside levels"
   ]
  },
  {
   "cell_type": "code",
   "execution_count": 40,
   "metadata": {},
   "outputs": [
    {
     "data": {
      "text/html": [
       "<div>\n",
       "<style scoped>\n",
       "    .dataframe tbody tr th:only-of-type {\n",
       "        vertical-align: middle;\n",
       "    }\n",
       "\n",
       "    .dataframe tbody tr th {\n",
       "        vertical-align: top;\n",
       "    }\n",
       "\n",
       "    .dataframe thead th {\n",
       "        text-align: right;\n",
       "    }\n",
       "</style>\n",
       "<table border=\"1\" class=\"dataframe\">\n",
       "  <thead>\n",
       "    <tr style=\"text-align: right;\">\n",
       "      <th></th>\n",
       "      <th>A</th>\n",
       "      <th>B</th>\n",
       "    </tr>\n",
       "  </thead>\n",
       "  <tbody>\n",
       "    <tr>\n",
       "      <th>1</th>\n",
       "      <td>-1.498710</td>\n",
       "      <td>1.108396</td>\n",
       "    </tr>\n",
       "    <tr>\n",
       "      <th>2</th>\n",
       "      <td>1.167638</td>\n",
       "      <td>0.434092</td>\n",
       "    </tr>\n",
       "    <tr>\n",
       "      <th>3</th>\n",
       "      <td>0.213168</td>\n",
       "      <td>1.504804</td>\n",
       "    </tr>\n",
       "  </tbody>\n",
       "</table>\n",
       "</div>"
      ],
      "text/plain": [
       "          A         B\n",
       "1 -1.498710  1.108396\n",
       "2  1.167638  0.434092\n",
       "3  0.213168  1.504804"
      ]
     },
     "execution_count": 40,
     "metadata": {},
     "output_type": "execute_result"
    }
   ],
   "source": [
    "# Get data from outer level\n",
    "df.loc['G1']"
   ]
  },
  {
   "cell_type": "code",
   "execution_count": 41,
   "metadata": {},
   "outputs": [
    {
     "data": {
      "text/plain": [
       "A    1.167638\n",
       "B    0.434092\n",
       "Name: 2, dtype: float64"
      ]
     },
     "execution_count": 41,
     "metadata": {},
     "output_type": "execute_result"
    }
   ],
   "source": [
    "# Get data from inner levels: index the outer level, then the deeper level\n",
    "df.loc['G1'].loc[2]"
   ]
  },
  {
   "cell_type": "code",
   "execution_count": 42,
   "metadata": {},
   "outputs": [
    {
     "data": {
      "text/plain": [
       "0.43409158857951397"
      ]
     },
     "execution_count": 42,
     "metadata": {},
     "output_type": "execute_result"
    }
   ],
   "source": [
    "# get one particular data point\n",
    "df['B'].loc['G1'].loc[2] # Or df.loc['G1'].loc[2]['B']"
   ]
  },
  {
   "cell_type": "markdown",
   "metadata": {},
   "source": [
    "###### Naming the index levels "
   ]
  },
  {
   "cell_type": "code",
   "execution_count": 43,
   "metadata": {},
   "outputs": [
    {
     "data": {
      "text/plain": [
       "FrozenList([None, None])"
      ]
     },
     "execution_count": 43,
     "metadata": {},
     "output_type": "execute_result"
    }
   ],
   "source": [
    "# Get the names of the index levels\n",
    "df.index.names # no names yet"
   ]
  },
  {
   "cell_type": "code",
   "execution_count": 44,
   "metadata": {},
   "outputs": [
    {
     "data": {
      "text/plain": [
       "FrozenList(['Group', 'Participant'])"
      ]
     },
     "execution_count": 44,
     "metadata": {},
     "output_type": "execute_result"
    }
   ],
   "source": [
    "# Set the names of the index levels\n",
    "df.index.names = ['Group', 'Participant']\n",
    "df.index.names"
   ]
  },
  {
   "cell_type": "code",
   "execution_count": 45,
   "metadata": {},
   "outputs": [
    {
     "data": {
      "text/html": [
       "<div>\n",
       "<style scoped>\n",
       "    .dataframe tbody tr th:only-of-type {\n",
       "        vertical-align: middle;\n",
       "    }\n",
       "\n",
       "    .dataframe tbody tr th {\n",
       "        vertical-align: top;\n",
       "    }\n",
       "\n",
       "    .dataframe thead th {\n",
       "        text-align: right;\n",
       "    }\n",
       "</style>\n",
       "<table border=\"1\" class=\"dataframe\">\n",
       "  <thead>\n",
       "    <tr style=\"text-align: right;\">\n",
       "      <th></th>\n",
       "      <th></th>\n",
       "      <th>A</th>\n",
       "      <th>B</th>\n",
       "    </tr>\n",
       "    <tr>\n",
       "      <th>Group</th>\n",
       "      <th>Participant</th>\n",
       "      <th></th>\n",
       "      <th></th>\n",
       "    </tr>\n",
       "  </thead>\n",
       "  <tbody>\n",
       "    <tr>\n",
       "      <th rowspan=\"3\" valign=\"top\">G1</th>\n",
       "      <th>1</th>\n",
       "      <td>-1.498710</td>\n",
       "      <td>1.108396</td>\n",
       "    </tr>\n",
       "    <tr>\n",
       "      <th>2</th>\n",
       "      <td>1.167638</td>\n",
       "      <td>0.434092</td>\n",
       "    </tr>\n",
       "    <tr>\n",
       "      <th>3</th>\n",
       "      <td>0.213168</td>\n",
       "      <td>1.504804</td>\n",
       "    </tr>\n",
       "    <tr>\n",
       "      <th rowspan=\"3\" valign=\"top\">G2</th>\n",
       "      <th>1</th>\n",
       "      <td>-0.014228</td>\n",
       "      <td>-1.088841</td>\n",
       "    </tr>\n",
       "    <tr>\n",
       "      <th>2</th>\n",
       "      <td>-1.591891</td>\n",
       "      <td>0.730687</td>\n",
       "    </tr>\n",
       "    <tr>\n",
       "      <th>3</th>\n",
       "      <td>0.500184</td>\n",
       "      <td>-0.561454</td>\n",
       "    </tr>\n",
       "  </tbody>\n",
       "</table>\n",
       "</div>"
      ],
      "text/plain": [
       "                          A         B\n",
       "Group Participant                    \n",
       "G1    1           -1.498710  1.108396\n",
       "      2            1.167638  0.434092\n",
       "      3            0.213168  1.504804\n",
       "G2    1           -0.014228 -1.088841\n",
       "      2           -1.591891  0.730687\n",
       "      3            0.500184 -0.561454"
      ]
     },
     "execution_count": 45,
     "metadata": {},
     "output_type": "execute_result"
    }
   ],
   "source": [
    "# show how the index names appear in the dataframe\n",
    "df"
   ]
  },
  {
   "cell_type": "markdown",
   "metadata": {},
   "source": [
    "###### Grabbing data with the cross section `xs` method"
   ]
  },
  {
   "cell_type": "code",
   "execution_count": 46,
   "metadata": {},
   "outputs": [
    {
     "data": {
      "text/html": [
       "<div>\n",
       "<style scoped>\n",
       "    .dataframe tbody tr th:only-of-type {\n",
       "        vertical-align: middle;\n",
       "    }\n",
       "\n",
       "    .dataframe tbody tr th {\n",
       "        vertical-align: top;\n",
       "    }\n",
       "\n",
       "    .dataframe thead th {\n",
       "        text-align: right;\n",
       "    }\n",
       "</style>\n",
       "<table border=\"1\" class=\"dataframe\">\n",
       "  <thead>\n",
       "    <tr style=\"text-align: right;\">\n",
       "      <th></th>\n",
       "      <th>A</th>\n",
       "      <th>B</th>\n",
       "    </tr>\n",
       "    <tr>\n",
       "      <th>Participant</th>\n",
       "      <th></th>\n",
       "      <th></th>\n",
       "    </tr>\n",
       "  </thead>\n",
       "  <tbody>\n",
       "    <tr>\n",
       "      <th>1</th>\n",
       "      <td>-1.498710</td>\n",
       "      <td>1.108396</td>\n",
       "    </tr>\n",
       "    <tr>\n",
       "      <th>2</th>\n",
       "      <td>1.167638</td>\n",
       "      <td>0.434092</td>\n",
       "    </tr>\n",
       "    <tr>\n",
       "      <th>3</th>\n",
       "      <td>0.213168</td>\n",
       "      <td>1.504804</td>\n",
       "    </tr>\n",
       "  </tbody>\n",
       "</table>\n",
       "</div>"
      ],
      "text/plain": [
       "                    A         B\n",
       "Participant                    \n",
       "1           -1.498710  1.108396\n",
       "2            1.167638  0.434092\n",
       "3            0.213168  1.504804"
      ]
     },
     "execution_count": 46,
     "metadata": {},
     "output_type": "execute_result"
    }
   ],
   "source": [
    "# xs can grab data from the outer level easily\n",
    "df.xs('G1')"
   ]
  },
  {
   "cell_type": "code",
   "execution_count": 47,
   "metadata": {},
   "outputs": [
    {
     "data": {
      "text/html": [
       "<div>\n",
       "<style scoped>\n",
       "    .dataframe tbody tr th:only-of-type {\n",
       "        vertical-align: middle;\n",
       "    }\n",
       "\n",
       "    .dataframe tbody tr th {\n",
       "        vertical-align: top;\n",
       "    }\n",
       "\n",
       "    .dataframe thead th {\n",
       "        text-align: right;\n",
       "    }\n",
       "</style>\n",
       "<table border=\"1\" class=\"dataframe\">\n",
       "  <thead>\n",
       "    <tr style=\"text-align: right;\">\n",
       "      <th></th>\n",
       "      <th>A</th>\n",
       "      <th>B</th>\n",
       "    </tr>\n",
       "    <tr>\n",
       "      <th>Group</th>\n",
       "      <th></th>\n",
       "      <th></th>\n",
       "    </tr>\n",
       "  </thead>\n",
       "  <tbody>\n",
       "    <tr>\n",
       "      <th>G1</th>\n",
       "      <td>0.213168</td>\n",
       "      <td>1.504804</td>\n",
       "    </tr>\n",
       "    <tr>\n",
       "      <th>G2</th>\n",
       "      <td>0.500184</td>\n",
       "      <td>-0.561454</td>\n",
       "    </tr>\n",
       "  </tbody>\n",
       "</table>\n",
       "</div>"
      ],
      "text/plain": [
       "              A         B\n",
       "Group                    \n",
       "G1     0.213168  1.504804\n",
       "G2     0.500184 -0.561454"
      ]
     },
     "execution_count": 47,
     "metadata": {},
     "output_type": "execute_result"
    }
   ],
   "source": [
    "# Unlike loc, xs can also grab data from the INNER LEVELS easily. You just have to specify the level.\n",
    "df.xs(3,level='Participant')"
   ]
  }
 ],
 "metadata": {
  "kernelspec": {
   "display_name": "Python 3",
   "language": "python",
   "name": "python3"
  },
  "language_info": {
   "codemirror_mode": {
    "name": "ipython",
    "version": 3
   },
   "file_extension": ".py",
   "mimetype": "text/x-python",
   "name": "python",
   "nbconvert_exporter": "python",
   "pygments_lexer": "ipython3",
   "version": "3.8.3"
  }
 },
 "nbformat": 4,
 "nbformat_minor": 4
}
