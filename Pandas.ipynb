{
 "cells": [
  {
   "cell_type": "markdown",
   "metadata": {},
   "source": [
    "# Pandas\n",
    "\n",
    "* Pandas is an open source library built on top of NumPy\n",
    "* It allows for fast analysis and data cleaning and preparation \n",
    "* It excels in performance and productivity\n",
    "* It has built-in visualization features\n",
    "* It can work with data from a wide variety of sources"
   ]
  },
  {
   "cell_type": "markdown",
   "metadata": {},
   "source": [
    "### Installing pandas \n",
    "`conda install pandas`"
   ]
  },
  {
   "cell_type": "code",
   "execution_count": 1,
   "metadata": {},
   "outputs": [],
   "source": [
    "#import \n",
    "import numpy as np\n",
    "import pandas as pd"
   ]
  },
  {
   "cell_type": "markdown",
   "metadata": {},
   "source": [
    "### Pandas Series"
   ]
  },
  {
   "cell_type": "markdown",
   "metadata": {},
   "source": [
    "#####  Creating a Pandas Series"
   ]
  },
  {
   "cell_type": "code",
   "execution_count": 2,
   "metadata": {
    "scrolled": true
   },
   "outputs": [
    {
     "data": {
      "text/plain": [
       "apartment       Rawda1\n",
       "apartment       Rawda2\n",
       "house             Naim\n",
       "dorm            Rieber\n",
       "dorm           Hedrick\n",
       "townhouse      Palazzo\n",
       "apartment      Atrium1\n",
       "townhouse    AtriumFoy\n",
       "apartment      Atrium3\n",
       "compound        Venice\n",
       "compound          Soma\n",
       "dtype: object"
      ]
     },
     "execution_count": 2,
     "metadata": {},
     "output_type": "execute_result"
    }
   ],
   "source": [
    "# Labeled indices\n",
    "labels = ['apartment', 'apartment', 'house', 'dorm', 'dorm', 'townhouse', 'apartment', 'townhouse', 'apartment','compound', 'compound']\n",
    "# Set of unlabeled data\n",
    "my_data = ['Rawda1', 'Rawda2', 'Naim', 'Rieber', 'Hedrick', 'Palazzo', 'Atrium1', 'AtriumFoy', 'Atrium3', 'Venice', 'Soma'] \n",
    "\n",
    "# Create a pandas series with the data and corresponding labeled indices\n",
    "pd.Series(data= my_data, index = labels)"
   ]
  },
  {
   "cell_type": "code",
   "execution_count": 3,
   "metadata": {},
   "outputs": [
    {
     "data": {
      "text/plain": [
       "first     Rayan\n",
       "Second     Sara\n",
       "Third     Salma\n",
       "Fourth     Omar\n",
       "dtype: object"
      ]
     },
     "execution_count": 3,
     "metadata": {},
     "output_type": "execute_result"
    }
   ],
   "source": [
    "# you can also use a numpy array as the data or index\n",
    "labels = np.array(['first', 'Second', 'Third', 'Fourth'])\n",
    "my_data = np.array(['Rayan', 'Sara', 'Salma', 'Omar'])\n",
    "\n",
    "pd.Series(my_data,labels)"
   ]
  },
  {
   "cell_type": "code",
   "execution_count": 4,
   "metadata": {},
   "outputs": [
    {
     "data": {
      "text/plain": [
       "Snoop       Dogg\n",
       "Wiz      Khalifa\n",
       "Mac       Miller\n",
       "Lil        Wayne\n",
       "Young       Thug\n",
       "dtype: object"
      ]
     },
     "execution_count": 4,
     "metadata": {},
     "output_type": "execute_result"
    }
   ],
   "source": [
    "# You can also create a Series from a dictionary (key becomes index, value becomes data point)\n",
    "labeled_data = {'Snoop': 'Dogg', 'Wiz': 'Khalifa', 'Mac': 'Miller', 'Lil': 'Wayne', 'Young': 'Thug'}\n",
    "pd.Series(labeled_data)"
   ]
  },
  {
   "cell_type": "markdown",
   "metadata": {},
   "source": [
    "##### Pandas Series can hold a variety of data types"
   ]
  },
  {
   "cell_type": "code",
   "execution_count": 5,
   "metadata": {
    "scrolled": true
   },
   "outputs": [
    {
     "data": {
      "text/plain": [
       "0                            1\n",
       "1             This is a string\n",
       "2      <built-in function sum>\n",
       "3    <built-in function print>\n",
       "4      <built-in function len>\n",
       "5                 [l1, 12, ok]\n",
       "dtype: object"
      ]
     },
     "execution_count": 5,
     "metadata": {},
     "output_type": "execute_result"
    }
   ],
   "source": [
    "# e.g. int, string, functions, lists\n",
    "pd.Series([1, 'This is a string', sum,print,len, ['l1',12,'ok']])"
   ]
  },
  {
   "cell_type": "markdown",
   "metadata": {},
   "source": [
    "###### Getting data from a Pandas Series"
   ]
  },
  {
   "cell_type": "code",
   "execution_count": 6,
   "metadata": {},
   "outputs": [
    {
     "data": {
      "text/plain": [
       "'Rohingyas'"
      ]
     },
     "execution_count": 6,
     "metadata": {},
     "output_type": "execute_result"
    }
   ],
   "source": [
    "# You can call particular data points in the series using the index\n",
    "\n",
    "# Create Series\n",
    "crimesAgainstHumanity = {'East Asia':'Uighurs', 'South Asia':'Rohingyas', 'Levant':'Palestinians', 'Arabian Gulf':'Yemenis'}\n",
    "refugees = pd.Series(crimesAgainstHumanity)\n",
    "\n",
    "# Retrieve data point from labeled index\n",
    "refugees['South Asia']"
   ]
  },
  {
   "cell_type": "markdown",
   "metadata": {},
   "source": [
    "##### Operations with Pandas Series"
   ]
  },
  {
   "cell_type": "code",
   "execution_count": 7,
   "metadata": {},
   "outputs": [
    {
     "name": "stdout",
     "output_type": "stream",
     "text": [
      "audiobooks     6.0\n",
      "books          4.0\n",
      "courses       13.0\n",
      "podcasts       NaN\n",
      "videos        20.0\n",
      "dtype: float64\n",
      "audiobooks    -2.0\n",
      "books          2.0\n",
      "courses        7.0\n",
      "podcasts       NaN\n",
      "videos       -10.0\n",
      "dtype: float64\n",
      "audiobooks     8.0\n",
      "books          3.0\n",
      "courses       30.0\n",
      "podcasts       NaN\n",
      "videos        75.0\n",
      "dtype: float64\n",
      "audiobooks    0.500000\n",
      "books         3.000000\n",
      "courses       3.333333\n",
      "podcasts           NaN\n",
      "videos        0.333333\n",
      "dtype: float64\n",
      "audiobooks    2.0\n",
      "books         0.0\n",
      "courses       1.0\n",
      "podcasts      NaN\n",
      "videos        5.0\n",
      "dtype: float64\n",
      "audiobooks    1.600000e+01\n",
      "books         3.000000e+00\n",
      "courses       1.000000e+03\n",
      "podcasts      1.000000e+00\n",
      "videos        3.051758e+10\n",
      "dtype: float64\n"
     ]
    }
   ],
   "source": [
    "# With Numbers\n",
    "\n",
    "# First Series\n",
    "learn = pd.Series({'podcasts': 1, 'books': 3, 'audiobooks': 2, 'videos': 5, 'courses': 10})\n",
    "# Second Series\n",
    "learn2 = pd.Series({'books': 1, 'audiobooks': 4, 'videos': 15, 'courses': 3}) # Where there's no matching index, operations return NaN\n",
    "# Sum them up \n",
    "print(learn + learn2)\n",
    "# Subtract them \n",
    "print(learn - learn2)\n",
    "# Mutliply them \n",
    "print(learn * learn2)\n",
    "# Divide them\n",
    "print(learn / learn2)\n",
    "# Get the remainder\n",
    "print(learn % learn2)\n",
    "# Raise to the power\n",
    "print(learn ** learn2)\n",
    "# ..."
   ]
  },
  {
   "cell_type": "code",
   "execution_count": 8,
   "metadata": {},
   "outputs": [
    {
     "data": {
      "text/plain": [
       "podcast                    Lex Fridman, Talking Machines\n",
       "book             Homo Deus, The Deep Learning Revolution\n",
       "competition                          XPRIZE, AI for GOOD\n",
       "deep learning             Geoffrey Hinton, Yoshua Bengio\n",
       "dtype: object"
      ]
     },
     "execution_count": 8,
     "metadata": {},
     "output_type": "execute_result"
    }
   ],
   "source": [
    "# Operating with strings\n",
    "\n",
    "# First Series\n",
    "ai = pd.Series({'podcast': 'Lex Fridman', 'book': 'Homo Deus', 'competition': 'XPRIZE', 'deep learning': 'Geoffrey Hinton'})\n",
    "# Second Series\n",
    "ai2 = pd.Series({'podcast': 'Talking Machines', 'book': 'The Deep Learning Revolution', 'competition': 'AI for GOOD', 'deep learning': 'Yoshua Bengio'})\n",
    "# Concatenate \n",
    "ai + ', ' + ai2"
   ]
  },
  {
   "cell_type": "markdown",
   "metadata": {},
   "source": [
    "### Pandas Dataframes"
   ]
  },
  {
   "cell_type": "markdown",
   "metadata": {},
   "source": [
    "##### Creating a pandas df"
   ]
  },
  {
   "cell_type": "code",
   "execution_count": 9,
   "metadata": {},
   "outputs": [
    {
     "data": {
      "text/html": [
       "<div>\n",
       "<style scoped>\n",
       "    .dataframe tbody tr th:only-of-type {\n",
       "        vertical-align: middle;\n",
       "    }\n",
       "\n",
       "    .dataframe tbody tr th {\n",
       "        vertical-align: top;\n",
       "    }\n",
       "\n",
       "    .dataframe thead th {\n",
       "        text-align: right;\n",
       "    }\n",
       "</style>\n",
       "<table border=\"1\" class=\"dataframe\">\n",
       "  <thead>\n",
       "    <tr style=\"text-align: right;\">\n",
       "      <th></th>\n",
       "      <th>Christian Yelich</th>\n",
       "      <th>Mookie Betts</th>\n",
       "      <th>Mike Trout</th>\n",
       "      <th>Cody Bellinger</th>\n",
       "    </tr>\n",
       "  </thead>\n",
       "  <tbody>\n",
       "    <tr>\n",
       "      <th>Batting Avg</th>\n",
       "      <td>0.550215</td>\n",
       "      <td>0.424384</td>\n",
       "      <td>0.464826</td>\n",
       "      <td>0.591292</td>\n",
       "    </tr>\n",
       "    <tr>\n",
       "      <th>Hit Percentage</th>\n",
       "      <td>0.203347</td>\n",
       "      <td>0.038523</td>\n",
       "      <td>0.858152</td>\n",
       "      <td>0.233722</td>\n",
       "    </tr>\n",
       "    <tr>\n",
       "      <th>Slugging Percentage</th>\n",
       "      <td>0.492254</td>\n",
       "      <td>0.693949</td>\n",
       "      <td>0.032256</td>\n",
       "      <td>0.059070</td>\n",
       "    </tr>\n",
       "    <tr>\n",
       "      <th>On Base Percentage</th>\n",
       "      <td>0.104318</td>\n",
       "      <td>0.362760</td>\n",
       "      <td>0.503211</td>\n",
       "      <td>0.431501</td>\n",
       "    </tr>\n",
       "    <tr>\n",
       "      <th>Home Runs</th>\n",
       "      <td>0.047997</td>\n",
       "      <td>0.344066</td>\n",
       "      <td>0.243360</td>\n",
       "      <td>0.966386</td>\n",
       "    </tr>\n",
       "  </tbody>\n",
       "</table>\n",
       "</div>"
      ],
      "text/plain": [
       "                     Christian Yelich  Mookie Betts  Mike Trout  \\\n",
       "Batting Avg                  0.550215      0.424384    0.464826   \n",
       "Hit Percentage               0.203347      0.038523    0.858152   \n",
       "Slugging Percentage          0.492254      0.693949    0.032256   \n",
       "On Base Percentage           0.104318      0.362760    0.503211   \n",
       "Home Runs                    0.047997      0.344066    0.243360   \n",
       "\n",
       "                     Cody Bellinger  \n",
       "Batting Avg                0.591292  \n",
       "Hit Percentage             0.233722  \n",
       "Slugging Percentage        0.059070  \n",
       "On Base Percentage         0.431501  \n",
       "Home Runs                  0.966386  "
      ]
     },
     "execution_count": 9,
     "metadata": {},
     "output_type": "execute_result"
    }
   ],
   "source": [
    "from numpy.random import randn\n",
    "\n",
    "moneyball = pd.DataFrame(abs(randn(5,4))/2,['Batting Avg','Hit Percentage','Slugging Percentage','On Base Percentage', 'Home Runs'], ['Christian Yelich', 'Mookie Betts', 'Mike Trout', 'Cody Bellinger'])\n",
    "moneyball"
   ]
  },
  {
   "cell_type": "markdown",
   "metadata": {},
   "source": [
    "###### Getting data from a pandas df"
   ]
  },
  {
   "cell_type": "code",
   "execution_count": 10,
   "metadata": {},
   "outputs": [
    {
     "data": {
      "text/plain": [
       "Batting Avg            0.464826\n",
       "Hit Percentage         0.858152\n",
       "Slugging Percentage    0.032256\n",
       "On Base Percentage     0.503211\n",
       "Home Runs              0.243360\n",
       "Name: Mike Trout, dtype: float64"
      ]
     },
     "execution_count": 10,
     "metadata": {},
     "output_type": "execute_result"
    }
   ],
   "source": [
    "# Getting a column returns a series\n",
    "\n",
    "# Get the stats for Mike Trout\n",
    "moneyball['Mike Trout']"
   ]
  },
  {
   "cell_type": "code",
   "execution_count": 11,
   "metadata": {},
   "outputs": [
    {
     "data": {
      "text/html": [
       "<div>\n",
       "<style scoped>\n",
       "    .dataframe tbody tr th:only-of-type {\n",
       "        vertical-align: middle;\n",
       "    }\n",
       "\n",
       "    .dataframe tbody tr th {\n",
       "        vertical-align: top;\n",
       "    }\n",
       "\n",
       "    .dataframe thead th {\n",
       "        text-align: right;\n",
       "    }\n",
       "</style>\n",
       "<table border=\"1\" class=\"dataframe\">\n",
       "  <thead>\n",
       "    <tr style=\"text-align: right;\">\n",
       "      <th></th>\n",
       "      <th>Christian Yelich</th>\n",
       "      <th>Cody Bellinger</th>\n",
       "    </tr>\n",
       "  </thead>\n",
       "  <tbody>\n",
       "    <tr>\n",
       "      <th>Batting Avg</th>\n",
       "      <td>0.550215</td>\n",
       "      <td>0.591292</td>\n",
       "    </tr>\n",
       "    <tr>\n",
       "      <th>Hit Percentage</th>\n",
       "      <td>0.203347</td>\n",
       "      <td>0.233722</td>\n",
       "    </tr>\n",
       "    <tr>\n",
       "      <th>Slugging Percentage</th>\n",
       "      <td>0.492254</td>\n",
       "      <td>0.059070</td>\n",
       "    </tr>\n",
       "    <tr>\n",
       "      <th>On Base Percentage</th>\n",
       "      <td>0.104318</td>\n",
       "      <td>0.431501</td>\n",
       "    </tr>\n",
       "    <tr>\n",
       "      <th>Home Runs</th>\n",
       "      <td>0.047997</td>\n",
       "      <td>0.966386</td>\n",
       "    </tr>\n",
       "  </tbody>\n",
       "</table>\n",
       "</div>"
      ],
      "text/plain": [
       "                     Christian Yelich  Cody Bellinger\n",
       "Batting Avg                  0.550215        0.591292\n",
       "Hit Percentage               0.203347        0.233722\n",
       "Slugging Percentage          0.492254        0.059070\n",
       "On Base Percentage           0.104318        0.431501\n",
       "Home Runs                    0.047997        0.966386"
      ]
     },
     "execution_count": 11,
     "metadata": {},
     "output_type": "execute_result"
    }
   ],
   "source": [
    "# Getting multiple columns returns a dataframe\n",
    "\n",
    "# Get the stats for Yelich and Bellinger\n",
    "moneyball[['Christian Yelich', 'Cody Bellinger']] # Need to pass in the column names as a list in the index"
   ]
  },
  {
   "cell_type": "code",
   "execution_count": 12,
   "metadata": {},
   "outputs": [
    {
     "data": {
      "text/plain": [
       "Christian Yelich    0.203347\n",
       "Mookie Betts        0.038523\n",
       "Mike Trout          0.858152\n",
       "Cody Bellinger      0.233722\n",
       "Name: Hit Percentage, dtype: float64"
      ]
     },
     "execution_count": 12,
     "metadata": {},
     "output_type": "execute_result"
    }
   ],
   "source": [
    "# Getting 1 row's data returns a series\n",
    "\n",
    "moneyball.loc['Hit Percentage']"
   ]
  },
  {
   "cell_type": "code",
   "execution_count": 13,
   "metadata": {},
   "outputs": [
    {
     "data": {
      "text/html": [
       "<div>\n",
       "<style scoped>\n",
       "    .dataframe tbody tr th:only-of-type {\n",
       "        vertical-align: middle;\n",
       "    }\n",
       "\n",
       "    .dataframe tbody tr th {\n",
       "        vertical-align: top;\n",
       "    }\n",
       "\n",
       "    .dataframe thead th {\n",
       "        text-align: right;\n",
       "    }\n",
       "</style>\n",
       "<table border=\"1\" class=\"dataframe\">\n",
       "  <thead>\n",
       "    <tr style=\"text-align: right;\">\n",
       "      <th></th>\n",
       "      <th>Christian Yelich</th>\n",
       "      <th>Mookie Betts</th>\n",
       "      <th>Mike Trout</th>\n",
       "      <th>Cody Bellinger</th>\n",
       "    </tr>\n",
       "  </thead>\n",
       "  <tbody>\n",
       "    <tr>\n",
       "      <th>Hit Percentage</th>\n",
       "      <td>0.203347</td>\n",
       "      <td>0.038523</td>\n",
       "      <td>0.858152</td>\n",
       "      <td>0.233722</td>\n",
       "    </tr>\n",
       "    <tr>\n",
       "      <th>Batting Avg</th>\n",
       "      <td>0.550215</td>\n",
       "      <td>0.424384</td>\n",
       "      <td>0.464826</td>\n",
       "      <td>0.591292</td>\n",
       "    </tr>\n",
       "  </tbody>\n",
       "</table>\n",
       "</div>"
      ],
      "text/plain": [
       "                Christian Yelich  Mookie Betts  Mike Trout  Cody Bellinger\n",
       "Hit Percentage          0.203347      0.038523    0.858152        0.233722\n",
       "Batting Avg             0.550215      0.424384    0.464826        0.591292"
      ]
     },
     "execution_count": 13,
     "metadata": {},
     "output_type": "execute_result"
    }
   ],
   "source": [
    "# Getting mutliple rows' data returns a dataframe\n",
    "\n",
    "moneyball.loc[['Hit Percentage', 'Batting Avg']]"
   ]
  },
  {
   "cell_type": "code",
   "execution_count": 14,
   "metadata": {},
   "outputs": [
    {
     "data": {
      "text/html": [
       "<div>\n",
       "<style scoped>\n",
       "    .dataframe tbody tr th:only-of-type {\n",
       "        vertical-align: middle;\n",
       "    }\n",
       "\n",
       "    .dataframe tbody tr th {\n",
       "        vertical-align: top;\n",
       "    }\n",
       "\n",
       "    .dataframe thead th {\n",
       "        text-align: right;\n",
       "    }\n",
       "</style>\n",
       "<table border=\"1\" class=\"dataframe\">\n",
       "  <thead>\n",
       "    <tr style=\"text-align: right;\">\n",
       "      <th></th>\n",
       "      <th>Christian Yelich</th>\n",
       "      <th>Mookie Betts</th>\n",
       "      <th>Mike Trout</th>\n",
       "      <th>Cody Bellinger</th>\n",
       "    </tr>\n",
       "  </thead>\n",
       "  <tbody>\n",
       "    <tr>\n",
       "      <th>Hit Percentage</th>\n",
       "      <td>0.203347</td>\n",
       "      <td>0.038523</td>\n",
       "      <td>0.858152</td>\n",
       "      <td>0.233722</td>\n",
       "    </tr>\n",
       "    <tr>\n",
       "      <th>On Base Percentage</th>\n",
       "      <td>0.104318</td>\n",
       "      <td>0.362760</td>\n",
       "      <td>0.503211</td>\n",
       "      <td>0.431501</td>\n",
       "    </tr>\n",
       "  </tbody>\n",
       "</table>\n",
       "</div>"
      ],
      "text/plain": [
       "                    Christian Yelich  Mookie Betts  Mike Trout  Cody Bellinger\n",
       "Hit Percentage              0.203347      0.038523    0.858152        0.233722\n",
       "On Base Percentage          0.104318      0.362760    0.503211        0.431501"
      ]
     },
     "execution_count": 14,
     "metadata": {},
     "output_type": "execute_result"
    }
   ],
   "source": [
    "# You can also select rows from their numerical index\n",
    "moneyball.iloc[[1, 3]]"
   ]
  },
  {
   "cell_type": "markdown",
   "metadata": {},
   "source": [
    "###### Adding new data to a dataframe"
   ]
  },
  {
   "cell_type": "code",
   "execution_count": 15,
   "metadata": {},
   "outputs": [
    {
     "data": {
      "text/html": [
       "<div>\n",
       "<style scoped>\n",
       "    .dataframe tbody tr th:only-of-type {\n",
       "        vertical-align: middle;\n",
       "    }\n",
       "\n",
       "    .dataframe tbody tr th {\n",
       "        vertical-align: top;\n",
       "    }\n",
       "\n",
       "    .dataframe thead th {\n",
       "        text-align: right;\n",
       "    }\n",
       "</style>\n",
       "<table border=\"1\" class=\"dataframe\">\n",
       "  <thead>\n",
       "    <tr style=\"text-align: right;\">\n",
       "      <th></th>\n",
       "      <th>Christian Yelich</th>\n",
       "      <th>Mookie Betts</th>\n",
       "      <th>Mike Trout</th>\n",
       "      <th>Cody Bellinger</th>\n",
       "      <th>Jose Ramirez</th>\n",
       "    </tr>\n",
       "  </thead>\n",
       "  <tbody>\n",
       "    <tr>\n",
       "      <th>Batting Avg</th>\n",
       "      <td>0.550215</td>\n",
       "      <td>0.424384</td>\n",
       "      <td>0.464826</td>\n",
       "      <td>0.591292</td>\n",
       "      <td>0.928418</td>\n",
       "    </tr>\n",
       "    <tr>\n",
       "      <th>Hit Percentage</th>\n",
       "      <td>0.203347</td>\n",
       "      <td>0.038523</td>\n",
       "      <td>0.858152</td>\n",
       "      <td>0.233722</td>\n",
       "      <td>-0.838135</td>\n",
       "    </tr>\n",
       "    <tr>\n",
       "      <th>Slugging Percentage</th>\n",
       "      <td>0.492254</td>\n",
       "      <td>0.693949</td>\n",
       "      <td>0.032256</td>\n",
       "      <td>0.059070</td>\n",
       "      <td>-1.606647</td>\n",
       "    </tr>\n",
       "    <tr>\n",
       "      <th>On Base Percentage</th>\n",
       "      <td>0.104318</td>\n",
       "      <td>0.362760</td>\n",
       "      <td>0.503211</td>\n",
       "      <td>0.431501</td>\n",
       "      <td>0.394476</td>\n",
       "    </tr>\n",
       "    <tr>\n",
       "      <th>Home Runs</th>\n",
       "      <td>0.047997</td>\n",
       "      <td>0.344066</td>\n",
       "      <td>0.243360</td>\n",
       "      <td>0.966386</td>\n",
       "      <td>-0.016065</td>\n",
       "    </tr>\n",
       "  </tbody>\n",
       "</table>\n",
       "</div>"
      ],
      "text/plain": [
       "                     Christian Yelich  Mookie Betts  Mike Trout  \\\n",
       "Batting Avg                  0.550215      0.424384    0.464826   \n",
       "Hit Percentage               0.203347      0.038523    0.858152   \n",
       "Slugging Percentage          0.492254      0.693949    0.032256   \n",
       "On Base Percentage           0.104318      0.362760    0.503211   \n",
       "Home Runs                    0.047997      0.344066    0.243360   \n",
       "\n",
       "                     Cody Bellinger  Jose Ramirez  \n",
       "Batting Avg                0.591292      0.928418  \n",
       "Hit Percentage             0.233722     -0.838135  \n",
       "Slugging Percentage        0.059070     -1.606647  \n",
       "On Base Percentage         0.431501      0.394476  \n",
       "Home Runs                  0.966386     -0.016065  "
      ]
     },
     "execution_count": 15,
     "metadata": {},
     "output_type": "execute_result"
    }
   ],
   "source": [
    "# Add a new Column\n",
    "\n",
    "moneyball['Jose Ramirez'] = abs(np.random.randn(5))/2\n",
    "moneyball"
   ]
  },
  {
   "cell_type": "code",
   "execution_count": 16,
   "metadata": {},
   "outputs": [
    {
     "data": {
      "text/html": [
       "<div>\n",
       "<style scoped>\n",
       "    .dataframe tbody tr th:only-of-type {\n",
       "        vertical-align: middle;\n",
       "    }\n",
       "\n",
       "    .dataframe tbody tr th {\n",
       "        vertical-align: top;\n",
       "    }\n",
       "\n",
       "    .dataframe thead th {\n",
       "        text-align: right;\n",
       "    }\n",
       "</style>\n",
       "<table border=\"1\" class=\"dataframe\">\n",
       "  <thead>\n",
       "    <tr style=\"text-align: right;\">\n",
       "      <th></th>\n",
       "      <th>Christian Yelich</th>\n",
       "      <th>Mookie Betts</th>\n",
       "      <th>Mike Trout</th>\n",
       "      <th>Cody Bellinger</th>\n",
       "      <th>Jose Ramirez</th>\n",
       "    </tr>\n",
       "  </thead>\n",
       "  <tbody>\n",
       "    <tr>\n",
       "      <th>Batting Avg</th>\n",
       "      <td>0.550215</td>\n",
       "      <td>0.424384</td>\n",
       "      <td>0.464826</td>\n",
       "      <td>0.591292</td>\n",
       "      <td>0.928418</td>\n",
       "    </tr>\n",
       "    <tr>\n",
       "      <th>Hit Percentage</th>\n",
       "      <td>0.203347</td>\n",
       "      <td>0.038523</td>\n",
       "      <td>0.858152</td>\n",
       "      <td>0.233722</td>\n",
       "      <td>-0.838135</td>\n",
       "    </tr>\n",
       "    <tr>\n",
       "      <th>Slugging Percentage</th>\n",
       "      <td>0.492254</td>\n",
       "      <td>0.693949</td>\n",
       "      <td>0.032256</td>\n",
       "      <td>0.059070</td>\n",
       "      <td>-1.606647</td>\n",
       "    </tr>\n",
       "    <tr>\n",
       "      <th>On Base Percentage</th>\n",
       "      <td>0.104318</td>\n",
       "      <td>0.362760</td>\n",
       "      <td>0.503211</td>\n",
       "      <td>0.431501</td>\n",
       "      <td>0.394476</td>\n",
       "    </tr>\n",
       "    <tr>\n",
       "      <th>Home Runs</th>\n",
       "      <td>0.047997</td>\n",
       "      <td>0.344066</td>\n",
       "      <td>0.243360</td>\n",
       "      <td>0.966386</td>\n",
       "      <td>-0.016065</td>\n",
       "    </tr>\n",
       "    <tr>\n",
       "      <th>On base plus slug</th>\n",
       "      <td>0.596573</td>\n",
       "      <td>1.056709</td>\n",
       "      <td>0.535467</td>\n",
       "      <td>0.490572</td>\n",
       "      <td>-1.212170</td>\n",
       "    </tr>\n",
       "  </tbody>\n",
       "</table>\n",
       "</div>"
      ],
      "text/plain": [
       "                     Christian Yelich  Mookie Betts  Mike Trout  \\\n",
       "Batting Avg                  0.550215      0.424384    0.464826   \n",
       "Hit Percentage               0.203347      0.038523    0.858152   \n",
       "Slugging Percentage          0.492254      0.693949    0.032256   \n",
       "On Base Percentage           0.104318      0.362760    0.503211   \n",
       "Home Runs                    0.047997      0.344066    0.243360   \n",
       "On base plus slug            0.596573      1.056709    0.535467   \n",
       "\n",
       "                     Cody Bellinger  Jose Ramirez  \n",
       "Batting Avg                0.591292      0.928418  \n",
       "Hit Percentage             0.233722     -0.838135  \n",
       "Slugging Percentage        0.059070     -1.606647  \n",
       "On Base Percentage         0.431501      0.394476  \n",
       "Home Runs                  0.966386     -0.016065  \n",
       "On base plus slug          0.490572     -1.212170  "
      ]
     },
     "execution_count": 16,
     "metadata": {},
     "output_type": "execute_result"
    }
   ],
   "source": [
    "# Add a new row\n",
    "moneyball.loc['On base plus slug'] = moneyball.loc['On Base Percentage'] + moneyball.loc['Slugging Percentage']\n",
    "moneyball"
   ]
  },
  {
   "cell_type": "code",
   "execution_count": 17,
   "metadata": {},
   "outputs": [
    {
     "data": {
      "text/html": [
       "<div>\n",
       "<style scoped>\n",
       "    .dataframe tbody tr th:only-of-type {\n",
       "        vertical-align: middle;\n",
       "    }\n",
       "\n",
       "    .dataframe tbody tr th {\n",
       "        vertical-align: top;\n",
       "    }\n",
       "\n",
       "    .dataframe thead th {\n",
       "        text-align: right;\n",
       "    }\n",
       "</style>\n",
       "<table border=\"1\" class=\"dataframe\">\n",
       "  <thead>\n",
       "    <tr style=\"text-align: right;\">\n",
       "      <th></th>\n",
       "      <th>Christian Yelich</th>\n",
       "      <th>Mookie Betts</th>\n",
       "      <th>Mike Trout</th>\n",
       "      <th>Cody Bellinger</th>\n",
       "      <th>Jose Ramirez</th>\n",
       "      <th>Dodgers</th>\n",
       "    </tr>\n",
       "  </thead>\n",
       "  <tbody>\n",
       "    <tr>\n",
       "      <th>Batting Avg</th>\n",
       "      <td>0.550215</td>\n",
       "      <td>0.424384</td>\n",
       "      <td>0.464826</td>\n",
       "      <td>0.591292</td>\n",
       "      <td>0.928418</td>\n",
       "      <td>0.507838</td>\n",
       "    </tr>\n",
       "    <tr>\n",
       "      <th>Hit Percentage</th>\n",
       "      <td>0.203347</td>\n",
       "      <td>0.038523</td>\n",
       "      <td>0.858152</td>\n",
       "      <td>0.233722</td>\n",
       "      <td>-0.838135</td>\n",
       "      <td>0.136123</td>\n",
       "    </tr>\n",
       "    <tr>\n",
       "      <th>Slugging Percentage</th>\n",
       "      <td>0.492254</td>\n",
       "      <td>0.693949</td>\n",
       "      <td>0.032256</td>\n",
       "      <td>0.059070</td>\n",
       "      <td>-1.606647</td>\n",
       "      <td>0.376510</td>\n",
       "    </tr>\n",
       "    <tr>\n",
       "      <th>On Base Percentage</th>\n",
       "      <td>0.104318</td>\n",
       "      <td>0.362760</td>\n",
       "      <td>0.503211</td>\n",
       "      <td>0.431501</td>\n",
       "      <td>0.394476</td>\n",
       "      <td>0.397131</td>\n",
       "    </tr>\n",
       "    <tr>\n",
       "      <th>Home Runs</th>\n",
       "      <td>0.047997</td>\n",
       "      <td>0.344066</td>\n",
       "      <td>0.243360</td>\n",
       "      <td>0.966386</td>\n",
       "      <td>-0.016065</td>\n",
       "      <td>0.655226</td>\n",
       "    </tr>\n",
       "    <tr>\n",
       "      <th>On base plus slug</th>\n",
       "      <td>0.596573</td>\n",
       "      <td>1.056709</td>\n",
       "      <td>0.535467</td>\n",
       "      <td>0.490572</td>\n",
       "      <td>-1.212170</td>\n",
       "      <td>0.773640</td>\n",
       "    </tr>\n",
       "  </tbody>\n",
       "</table>\n",
       "</div>"
      ],
      "text/plain": [
       "                     Christian Yelich  Mookie Betts  Mike Trout  \\\n",
       "Batting Avg                  0.550215      0.424384    0.464826   \n",
       "Hit Percentage               0.203347      0.038523    0.858152   \n",
       "Slugging Percentage          0.492254      0.693949    0.032256   \n",
       "On Base Percentage           0.104318      0.362760    0.503211   \n",
       "Home Runs                    0.047997      0.344066    0.243360   \n",
       "On base plus slug            0.596573      1.056709    0.535467   \n",
       "\n",
       "                     Cody Bellinger  Jose Ramirez   Dodgers  \n",
       "Batting Avg                0.591292      0.928418  0.507838  \n",
       "Hit Percentage             0.233722     -0.838135  0.136123  \n",
       "Slugging Percentage        0.059070     -1.606647  0.376510  \n",
       "On Base Percentage         0.431501      0.394476  0.397131  \n",
       "Home Runs                  0.966386     -0.016065  0.655226  \n",
       "On base plus slug          0.490572     -1.212170  0.773640  "
      ]
     },
     "execution_count": 17,
     "metadata": {},
     "output_type": "execute_result"
    }
   ],
   "source": [
    "# Adding columns with arithmetic \n",
    "\n",
    "moneyball['Dodgers'] = (moneyball['Mookie Betts'] + moneyball['Cody Bellinger']) / 2\n",
    "moneyball"
   ]
  },
  {
   "cell_type": "markdown",
   "metadata": {},
   "source": [
    "##### Removing data from a dataframe"
   ]
  },
  {
   "cell_type": "code",
   "execution_count": 18,
   "metadata": {},
   "outputs": [
    {
     "data": {
      "text/html": [
       "<div>\n",
       "<style scoped>\n",
       "    .dataframe tbody tr th:only-of-type {\n",
       "        vertical-align: middle;\n",
       "    }\n",
       "\n",
       "    .dataframe tbody tr th {\n",
       "        vertical-align: top;\n",
       "    }\n",
       "\n",
       "    .dataframe thead th {\n",
       "        text-align: right;\n",
       "    }\n",
       "</style>\n",
       "<table border=\"1\" class=\"dataframe\">\n",
       "  <thead>\n",
       "    <tr style=\"text-align: right;\">\n",
       "      <th></th>\n",
       "      <th>Christian Yelich</th>\n",
       "      <th>Mookie Betts</th>\n",
       "      <th>Mike Trout</th>\n",
       "      <th>Cody Bellinger</th>\n",
       "      <th>Jose Ramirez</th>\n",
       "      <th>Dodgers</th>\n",
       "    </tr>\n",
       "  </thead>\n",
       "  <tbody>\n",
       "    <tr>\n",
       "      <th>Batting Avg</th>\n",
       "      <td>0.550215</td>\n",
       "      <td>0.424384</td>\n",
       "      <td>0.464826</td>\n",
       "      <td>0.591292</td>\n",
       "      <td>0.928418</td>\n",
       "      <td>0.507838</td>\n",
       "    </tr>\n",
       "    <tr>\n",
       "      <th>Hit Percentage</th>\n",
       "      <td>0.203347</td>\n",
       "      <td>0.038523</td>\n",
       "      <td>0.858152</td>\n",
       "      <td>0.233722</td>\n",
       "      <td>-0.838135</td>\n",
       "      <td>0.136123</td>\n",
       "    </tr>\n",
       "    <tr>\n",
       "      <th>Slugging Percentage</th>\n",
       "      <td>0.492254</td>\n",
       "      <td>0.693949</td>\n",
       "      <td>0.032256</td>\n",
       "      <td>0.059070</td>\n",
       "      <td>-1.606647</td>\n",
       "      <td>0.376510</td>\n",
       "    </tr>\n",
       "    <tr>\n",
       "      <th>On Base Percentage</th>\n",
       "      <td>0.104318</td>\n",
       "      <td>0.362760</td>\n",
       "      <td>0.503211</td>\n",
       "      <td>0.431501</td>\n",
       "      <td>0.394476</td>\n",
       "      <td>0.397131</td>\n",
       "    </tr>\n",
       "    <tr>\n",
       "      <th>On base plus slug</th>\n",
       "      <td>0.596573</td>\n",
       "      <td>1.056709</td>\n",
       "      <td>0.535467</td>\n",
       "      <td>0.490572</td>\n",
       "      <td>-1.212170</td>\n",
       "      <td>0.773640</td>\n",
       "    </tr>\n",
       "  </tbody>\n",
       "</table>\n",
       "</div>"
      ],
      "text/plain": [
       "                     Christian Yelich  Mookie Betts  Mike Trout  \\\n",
       "Batting Avg                  0.550215      0.424384    0.464826   \n",
       "Hit Percentage               0.203347      0.038523    0.858152   \n",
       "Slugging Percentage          0.492254      0.693949    0.032256   \n",
       "On Base Percentage           0.104318      0.362760    0.503211   \n",
       "On base plus slug            0.596573      1.056709    0.535467   \n",
       "\n",
       "                     Cody Bellinger  Jose Ramirez   Dodgers  \n",
       "Batting Avg                0.591292      0.928418  0.507838  \n",
       "Hit Percentage             0.233722     -0.838135  0.136123  \n",
       "Slugging Percentage        0.059070     -1.606647  0.376510  \n",
       "On Base Percentage         0.431501      0.394476  0.397131  \n",
       "On base plus slug          0.490572     -1.212170  0.773640  "
      ]
     },
     "execution_count": 18,
     "metadata": {},
     "output_type": "execute_result"
    }
   ],
   "source": [
    "# Disregard a row\n",
    "moneyball.drop('Home Runs')"
   ]
  },
  {
   "cell_type": "code",
   "execution_count": 19,
   "metadata": {},
   "outputs": [
    {
     "data": {
      "text/html": [
       "<div>\n",
       "<style scoped>\n",
       "    .dataframe tbody tr th:only-of-type {\n",
       "        vertical-align: middle;\n",
       "    }\n",
       "\n",
       "    .dataframe tbody tr th {\n",
       "        vertical-align: top;\n",
       "    }\n",
       "\n",
       "    .dataframe thead th {\n",
       "        text-align: right;\n",
       "    }\n",
       "</style>\n",
       "<table border=\"1\" class=\"dataframe\">\n",
       "  <thead>\n",
       "    <tr style=\"text-align: right;\">\n",
       "      <th></th>\n",
       "      <th>Christian Yelich</th>\n",
       "      <th>Mookie Betts</th>\n",
       "      <th>Mike Trout</th>\n",
       "      <th>Cody Bellinger</th>\n",
       "      <th>Jose Ramirez</th>\n",
       "      <th>Dodgers</th>\n",
       "    </tr>\n",
       "  </thead>\n",
       "  <tbody>\n",
       "    <tr>\n",
       "      <th>Batting Avg</th>\n",
       "      <td>0.550215</td>\n",
       "      <td>0.424384</td>\n",
       "      <td>0.464826</td>\n",
       "      <td>0.591292</td>\n",
       "      <td>0.928418</td>\n",
       "      <td>0.507838</td>\n",
       "    </tr>\n",
       "    <tr>\n",
       "      <th>Hit Percentage</th>\n",
       "      <td>0.203347</td>\n",
       "      <td>0.038523</td>\n",
       "      <td>0.858152</td>\n",
       "      <td>0.233722</td>\n",
       "      <td>-0.838135</td>\n",
       "      <td>0.136123</td>\n",
       "    </tr>\n",
       "    <tr>\n",
       "      <th>Slugging Percentage</th>\n",
       "      <td>0.492254</td>\n",
       "      <td>0.693949</td>\n",
       "      <td>0.032256</td>\n",
       "      <td>0.059070</td>\n",
       "      <td>-1.606647</td>\n",
       "      <td>0.376510</td>\n",
       "    </tr>\n",
       "    <tr>\n",
       "      <th>On Base Percentage</th>\n",
       "      <td>0.104318</td>\n",
       "      <td>0.362760</td>\n",
       "      <td>0.503211</td>\n",
       "      <td>0.431501</td>\n",
       "      <td>0.394476</td>\n",
       "      <td>0.397131</td>\n",
       "    </tr>\n",
       "    <tr>\n",
       "      <th>Home Runs</th>\n",
       "      <td>0.047997</td>\n",
       "      <td>0.344066</td>\n",
       "      <td>0.243360</td>\n",
       "      <td>0.966386</td>\n",
       "      <td>-0.016065</td>\n",
       "      <td>0.655226</td>\n",
       "    </tr>\n",
       "    <tr>\n",
       "      <th>On base plus slug</th>\n",
       "      <td>0.596573</td>\n",
       "      <td>1.056709</td>\n",
       "      <td>0.535467</td>\n",
       "      <td>0.490572</td>\n",
       "      <td>-1.212170</td>\n",
       "      <td>0.773640</td>\n",
       "    </tr>\n",
       "  </tbody>\n",
       "</table>\n",
       "</div>"
      ],
      "text/plain": [
       "                     Christian Yelich  Mookie Betts  Mike Trout  \\\n",
       "Batting Avg                  0.550215      0.424384    0.464826   \n",
       "Hit Percentage               0.203347      0.038523    0.858152   \n",
       "Slugging Percentage          0.492254      0.693949    0.032256   \n",
       "On Base Percentage           0.104318      0.362760    0.503211   \n",
       "Home Runs                    0.047997      0.344066    0.243360   \n",
       "On base plus slug            0.596573      1.056709    0.535467   \n",
       "\n",
       "                     Cody Bellinger  Jose Ramirez   Dodgers  \n",
       "Batting Avg                0.591292      0.928418  0.507838  \n",
       "Hit Percentage             0.233722     -0.838135  0.136123  \n",
       "Slugging Percentage        0.059070     -1.606647  0.376510  \n",
       "On Base Percentage         0.431501      0.394476  0.397131  \n",
       "Home Runs                  0.966386     -0.016065  0.655226  \n",
       "On base plus slug          0.490572     -1.212170  0.773640  "
      ]
     },
     "execution_count": 19,
     "metadata": {},
     "output_type": "execute_result"
    }
   ],
   "source": [
    "# Note: The dropped row is still in the actual dataframe\n",
    "moneyball"
   ]
  },
  {
   "cell_type": "code",
   "execution_count": 20,
   "metadata": {},
   "outputs": [
    {
     "data": {
      "text/html": [
       "<div>\n",
       "<style scoped>\n",
       "    .dataframe tbody tr th:only-of-type {\n",
       "        vertical-align: middle;\n",
       "    }\n",
       "\n",
       "    .dataframe tbody tr th {\n",
       "        vertical-align: top;\n",
       "    }\n",
       "\n",
       "    .dataframe thead th {\n",
       "        text-align: right;\n",
       "    }\n",
       "</style>\n",
       "<table border=\"1\" class=\"dataframe\">\n",
       "  <thead>\n",
       "    <tr style=\"text-align: right;\">\n",
       "      <th></th>\n",
       "      <th>Christian Yelich</th>\n",
       "      <th>Mookie Betts</th>\n",
       "      <th>Mike Trout</th>\n",
       "      <th>Cody Bellinger</th>\n",
       "      <th>Jose Ramirez</th>\n",
       "      <th>Dodgers</th>\n",
       "    </tr>\n",
       "  </thead>\n",
       "  <tbody>\n",
       "    <tr>\n",
       "      <th>Batting Avg</th>\n",
       "      <td>0.550215</td>\n",
       "      <td>0.424384</td>\n",
       "      <td>0.464826</td>\n",
       "      <td>0.591292</td>\n",
       "      <td>0.928418</td>\n",
       "      <td>0.507838</td>\n",
       "    </tr>\n",
       "    <tr>\n",
       "      <th>Hit Percentage</th>\n",
       "      <td>0.203347</td>\n",
       "      <td>0.038523</td>\n",
       "      <td>0.858152</td>\n",
       "      <td>0.233722</td>\n",
       "      <td>-0.838135</td>\n",
       "      <td>0.136123</td>\n",
       "    </tr>\n",
       "    <tr>\n",
       "      <th>Slugging Percentage</th>\n",
       "      <td>0.492254</td>\n",
       "      <td>0.693949</td>\n",
       "      <td>0.032256</td>\n",
       "      <td>0.059070</td>\n",
       "      <td>-1.606647</td>\n",
       "      <td>0.376510</td>\n",
       "    </tr>\n",
       "    <tr>\n",
       "      <th>On Base Percentage</th>\n",
       "      <td>0.104318</td>\n",
       "      <td>0.362760</td>\n",
       "      <td>0.503211</td>\n",
       "      <td>0.431501</td>\n",
       "      <td>0.394476</td>\n",
       "      <td>0.397131</td>\n",
       "    </tr>\n",
       "    <tr>\n",
       "      <th>On base plus slug</th>\n",
       "      <td>0.596573</td>\n",
       "      <td>1.056709</td>\n",
       "      <td>0.535467</td>\n",
       "      <td>0.490572</td>\n",
       "      <td>-1.212170</td>\n",
       "      <td>0.773640</td>\n",
       "    </tr>\n",
       "  </tbody>\n",
       "</table>\n",
       "</div>"
      ],
      "text/plain": [
       "                     Christian Yelich  Mookie Betts  Mike Trout  \\\n",
       "Batting Avg                  0.550215      0.424384    0.464826   \n",
       "Hit Percentage               0.203347      0.038523    0.858152   \n",
       "Slugging Percentage          0.492254      0.693949    0.032256   \n",
       "On Base Percentage           0.104318      0.362760    0.503211   \n",
       "On base plus slug            0.596573      1.056709    0.535467   \n",
       "\n",
       "                     Cody Bellinger  Jose Ramirez   Dodgers  \n",
       "Batting Avg                0.591292      0.928418  0.507838  \n",
       "Hit Percentage             0.233722     -0.838135  0.136123  \n",
       "Slugging Percentage        0.059070     -1.606647  0.376510  \n",
       "On Base Percentage         0.431501      0.394476  0.397131  \n",
       "On base plus slug          0.490572     -1.212170  0.773640  "
      ]
     },
     "execution_count": 20,
     "metadata": {},
     "output_type": "execute_result"
    }
   ],
   "source": [
    "# You have to specify that you want to remove it in place (pandas safety feature for not losing data)\n",
    "moneyball.drop('Home Runs', axis=0, inplace=True)\n",
    "moneyball"
   ]
  },
  {
   "cell_type": "code",
   "execution_count": 21,
   "metadata": {},
   "outputs": [
    {
     "data": {
      "text/html": [
       "<div>\n",
       "<style scoped>\n",
       "    .dataframe tbody tr th:only-of-type {\n",
       "        vertical-align: middle;\n",
       "    }\n",
       "\n",
       "    .dataframe tbody tr th {\n",
       "        vertical-align: top;\n",
       "    }\n",
       "\n",
       "    .dataframe thead th {\n",
       "        text-align: right;\n",
       "    }\n",
       "</style>\n",
       "<table border=\"1\" class=\"dataframe\">\n",
       "  <thead>\n",
       "    <tr style=\"text-align: right;\">\n",
       "      <th></th>\n",
       "      <th>Christian Yelich</th>\n",
       "      <th>Mookie Betts</th>\n",
       "      <th>Mike Trout</th>\n",
       "      <th>Cody Bellinger</th>\n",
       "      <th>Jose Ramirez</th>\n",
       "    </tr>\n",
       "  </thead>\n",
       "  <tbody>\n",
       "    <tr>\n",
       "      <th>Batting Avg</th>\n",
       "      <td>0.550215</td>\n",
       "      <td>0.424384</td>\n",
       "      <td>0.464826</td>\n",
       "      <td>0.591292</td>\n",
       "      <td>0.928418</td>\n",
       "    </tr>\n",
       "    <tr>\n",
       "      <th>Hit Percentage</th>\n",
       "      <td>0.203347</td>\n",
       "      <td>0.038523</td>\n",
       "      <td>0.858152</td>\n",
       "      <td>0.233722</td>\n",
       "      <td>-0.838135</td>\n",
       "    </tr>\n",
       "    <tr>\n",
       "      <th>Slugging Percentage</th>\n",
       "      <td>0.492254</td>\n",
       "      <td>0.693949</td>\n",
       "      <td>0.032256</td>\n",
       "      <td>0.059070</td>\n",
       "      <td>-1.606647</td>\n",
       "    </tr>\n",
       "    <tr>\n",
       "      <th>On Base Percentage</th>\n",
       "      <td>0.104318</td>\n",
       "      <td>0.362760</td>\n",
       "      <td>0.503211</td>\n",
       "      <td>0.431501</td>\n",
       "      <td>0.394476</td>\n",
       "    </tr>\n",
       "    <tr>\n",
       "      <th>On base plus slug</th>\n",
       "      <td>0.596573</td>\n",
       "      <td>1.056709</td>\n",
       "      <td>0.535467</td>\n",
       "      <td>0.490572</td>\n",
       "      <td>-1.212170</td>\n",
       "    </tr>\n",
       "  </tbody>\n",
       "</table>\n",
       "</div>"
      ],
      "text/plain": [
       "                     Christian Yelich  Mookie Betts  Mike Trout  \\\n",
       "Batting Avg                  0.550215      0.424384    0.464826   \n",
       "Hit Percentage               0.203347      0.038523    0.858152   \n",
       "Slugging Percentage          0.492254      0.693949    0.032256   \n",
       "On Base Percentage           0.104318      0.362760    0.503211   \n",
       "On base plus slug            0.596573      1.056709    0.535467   \n",
       "\n",
       "                     Cody Bellinger  Jose Ramirez  \n",
       "Batting Avg                0.591292      0.928418  \n",
       "Hit Percentage             0.233722     -0.838135  \n",
       "Slugging Percentage        0.059070     -1.606647  \n",
       "On Base Percentage         0.431501      0.394476  \n",
       "On base plus slug          0.490572     -1.212170  "
      ]
     },
     "execution_count": 21,
     "metadata": {},
     "output_type": "execute_result"
    }
   ],
   "source": [
    "# Disregard a column\n",
    "\n",
    "# Specify axis = 1 for columns\n",
    "moneyball.drop('Dodgers', axis=1)"
   ]
  },
  {
   "cell_type": "code",
   "execution_count": 22,
   "metadata": {},
   "outputs": [
    {
     "data": {
      "text/html": [
       "<div>\n",
       "<style scoped>\n",
       "    .dataframe tbody tr th:only-of-type {\n",
       "        vertical-align: middle;\n",
       "    }\n",
       "\n",
       "    .dataframe tbody tr th {\n",
       "        vertical-align: top;\n",
       "    }\n",
       "\n",
       "    .dataframe thead th {\n",
       "        text-align: right;\n",
       "    }\n",
       "</style>\n",
       "<table border=\"1\" class=\"dataframe\">\n",
       "  <thead>\n",
       "    <tr style=\"text-align: right;\">\n",
       "      <th></th>\n",
       "      <th>Christian Yelich</th>\n",
       "      <th>Mookie Betts</th>\n",
       "      <th>Mike Trout</th>\n",
       "      <th>Cody Bellinger</th>\n",
       "      <th>Jose Ramirez</th>\n",
       "      <th>Dodgers</th>\n",
       "    </tr>\n",
       "  </thead>\n",
       "  <tbody>\n",
       "    <tr>\n",
       "      <th>Batting Avg</th>\n",
       "      <td>0.550215</td>\n",
       "      <td>0.424384</td>\n",
       "      <td>0.464826</td>\n",
       "      <td>0.591292</td>\n",
       "      <td>0.928418</td>\n",
       "      <td>0.507838</td>\n",
       "    </tr>\n",
       "    <tr>\n",
       "      <th>Hit Percentage</th>\n",
       "      <td>0.203347</td>\n",
       "      <td>0.038523</td>\n",
       "      <td>0.858152</td>\n",
       "      <td>0.233722</td>\n",
       "      <td>-0.838135</td>\n",
       "      <td>0.136123</td>\n",
       "    </tr>\n",
       "    <tr>\n",
       "      <th>Slugging Percentage</th>\n",
       "      <td>0.492254</td>\n",
       "      <td>0.693949</td>\n",
       "      <td>0.032256</td>\n",
       "      <td>0.059070</td>\n",
       "      <td>-1.606647</td>\n",
       "      <td>0.376510</td>\n",
       "    </tr>\n",
       "    <tr>\n",
       "      <th>On Base Percentage</th>\n",
       "      <td>0.104318</td>\n",
       "      <td>0.362760</td>\n",
       "      <td>0.503211</td>\n",
       "      <td>0.431501</td>\n",
       "      <td>0.394476</td>\n",
       "      <td>0.397131</td>\n",
       "    </tr>\n",
       "    <tr>\n",
       "      <th>On base plus slug</th>\n",
       "      <td>0.596573</td>\n",
       "      <td>1.056709</td>\n",
       "      <td>0.535467</td>\n",
       "      <td>0.490572</td>\n",
       "      <td>-1.212170</td>\n",
       "      <td>0.773640</td>\n",
       "    </tr>\n",
       "  </tbody>\n",
       "</table>\n",
       "</div>"
      ],
      "text/plain": [
       "                     Christian Yelich  Mookie Betts  Mike Trout  \\\n",
       "Batting Avg                  0.550215      0.424384    0.464826   \n",
       "Hit Percentage               0.203347      0.038523    0.858152   \n",
       "Slugging Percentage          0.492254      0.693949    0.032256   \n",
       "On Base Percentage           0.104318      0.362760    0.503211   \n",
       "On base plus slug            0.596573      1.056709    0.535467   \n",
       "\n",
       "                     Cody Bellinger  Jose Ramirez   Dodgers  \n",
       "Batting Avg                0.591292      0.928418  0.507838  \n",
       "Hit Percentage             0.233722     -0.838135  0.136123  \n",
       "Slugging Percentage        0.059070     -1.606647  0.376510  \n",
       "On Base Percentage         0.431501      0.394476  0.397131  \n",
       "On base plus slug          0.490572     -1.212170  0.773640  "
      ]
     },
     "execution_count": 22,
     "metadata": {},
     "output_type": "execute_result"
    }
   ],
   "source": [
    "# Dropped column still in dataframe\n",
    "\n",
    "moneyball"
   ]
  },
  {
   "cell_type": "code",
   "execution_count": 23,
   "metadata": {},
   "outputs": [
    {
     "data": {
      "text/html": [
       "<div>\n",
       "<style scoped>\n",
       "    .dataframe tbody tr th:only-of-type {\n",
       "        vertical-align: middle;\n",
       "    }\n",
       "\n",
       "    .dataframe tbody tr th {\n",
       "        vertical-align: top;\n",
       "    }\n",
       "\n",
       "    .dataframe thead th {\n",
       "        text-align: right;\n",
       "    }\n",
       "</style>\n",
       "<table border=\"1\" class=\"dataframe\">\n",
       "  <thead>\n",
       "    <tr style=\"text-align: right;\">\n",
       "      <th></th>\n",
       "      <th>Christian Yelich</th>\n",
       "      <th>Mookie Betts</th>\n",
       "      <th>Mike Trout</th>\n",
       "      <th>Cody Bellinger</th>\n",
       "      <th>Jose Ramirez</th>\n",
       "    </tr>\n",
       "  </thead>\n",
       "  <tbody>\n",
       "    <tr>\n",
       "      <th>Batting Avg</th>\n",
       "      <td>0.550215</td>\n",
       "      <td>0.424384</td>\n",
       "      <td>0.464826</td>\n",
       "      <td>0.591292</td>\n",
       "      <td>0.928418</td>\n",
       "    </tr>\n",
       "    <tr>\n",
       "      <th>Hit Percentage</th>\n",
       "      <td>0.203347</td>\n",
       "      <td>0.038523</td>\n",
       "      <td>0.858152</td>\n",
       "      <td>0.233722</td>\n",
       "      <td>-0.838135</td>\n",
       "    </tr>\n",
       "    <tr>\n",
       "      <th>Slugging Percentage</th>\n",
       "      <td>0.492254</td>\n",
       "      <td>0.693949</td>\n",
       "      <td>0.032256</td>\n",
       "      <td>0.059070</td>\n",
       "      <td>-1.606647</td>\n",
       "    </tr>\n",
       "    <tr>\n",
       "      <th>On Base Percentage</th>\n",
       "      <td>0.104318</td>\n",
       "      <td>0.362760</td>\n",
       "      <td>0.503211</td>\n",
       "      <td>0.431501</td>\n",
       "      <td>0.394476</td>\n",
       "    </tr>\n",
       "    <tr>\n",
       "      <th>On base plus slug</th>\n",
       "      <td>0.596573</td>\n",
       "      <td>1.056709</td>\n",
       "      <td>0.535467</td>\n",
       "      <td>0.490572</td>\n",
       "      <td>-1.212170</td>\n",
       "    </tr>\n",
       "  </tbody>\n",
       "</table>\n",
       "</div>"
      ],
      "text/plain": [
       "                     Christian Yelich  Mookie Betts  Mike Trout  \\\n",
       "Batting Avg                  0.550215      0.424384    0.464826   \n",
       "Hit Percentage               0.203347      0.038523    0.858152   \n",
       "Slugging Percentage          0.492254      0.693949    0.032256   \n",
       "On Base Percentage           0.104318      0.362760    0.503211   \n",
       "On base plus slug            0.596573      1.056709    0.535467   \n",
       "\n",
       "                     Cody Bellinger  Jose Ramirez  \n",
       "Batting Avg                0.591292      0.928418  \n",
       "Hit Percentage             0.233722     -0.838135  \n",
       "Slugging Percentage        0.059070     -1.606647  \n",
       "On Base Percentage         0.431501      0.394476  \n",
       "On base plus slug          0.490572     -1.212170  "
      ]
     },
     "execution_count": 23,
     "metadata": {},
     "output_type": "execute_result"
    }
   ],
   "source": [
    "# Remove the column data completely \n",
    "moneyball.drop('Dodgers', axis=1, inplace=True)\n",
    "moneyball"
   ]
  },
  {
   "cell_type": "code",
   "execution_count": 24,
   "metadata": {},
   "outputs": [
    {
     "data": {
      "text/plain": [
       "(5, 5)"
      ]
     },
     "execution_count": 24,
     "metadata": {},
     "output_type": "execute_result"
    }
   ],
   "source": [
    "# Get the dataframe's shape (rows, cols)\n",
    "moneyball.shape"
   ]
  },
  {
   "cell_type": "markdown",
   "metadata": {},
   "source": [
    "##### Getting specific subsets of the dataframe"
   ]
  },
  {
   "cell_type": "code",
   "execution_count": 25,
   "metadata": {},
   "outputs": [
    {
     "data": {
      "text/plain": [
       "0.2337219488281241"
      ]
     },
     "execution_count": 25,
     "metadata": {},
     "output_type": "execute_result"
    }
   ],
   "source": [
    "# Get Cody Bellinger's hit percentage\n",
    "moneyball.loc['Hit Percentage', 'Cody Bellinger']"
   ]
  },
  {
   "cell_type": "code",
   "execution_count": 26,
   "metadata": {},
   "outputs": [
    {
     "data": {
      "text/html": [
       "<div>\n",
       "<style scoped>\n",
       "    .dataframe tbody tr th:only-of-type {\n",
       "        vertical-align: middle;\n",
       "    }\n",
       "\n",
       "    .dataframe tbody tr th {\n",
       "        vertical-align: top;\n",
       "    }\n",
       "\n",
       "    .dataframe thead th {\n",
       "        text-align: right;\n",
       "    }\n",
       "</style>\n",
       "<table border=\"1\" class=\"dataframe\">\n",
       "  <thead>\n",
       "    <tr style=\"text-align: right;\">\n",
       "      <th></th>\n",
       "      <th>Mike Trout</th>\n",
       "      <th>Jose Ramirez</th>\n",
       "      <th>Mookie Betts</th>\n",
       "    </tr>\n",
       "  </thead>\n",
       "  <tbody>\n",
       "    <tr>\n",
       "      <th>Hit Percentage</th>\n",
       "      <td>0.858152</td>\n",
       "      <td>-0.838135</td>\n",
       "      <td>0.038523</td>\n",
       "    </tr>\n",
       "    <tr>\n",
       "      <th>Slugging Percentage</th>\n",
       "      <td>0.032256</td>\n",
       "      <td>-1.606647</td>\n",
       "      <td>0.693949</td>\n",
       "    </tr>\n",
       "    <tr>\n",
       "      <th>On Base Percentage</th>\n",
       "      <td>0.503211</td>\n",
       "      <td>0.394476</td>\n",
       "      <td>0.362760</td>\n",
       "    </tr>\n",
       "  </tbody>\n",
       "</table>\n",
       "</div>"
      ],
      "text/plain": [
       "                     Mike Trout  Jose Ramirez  Mookie Betts\n",
       "Hit Percentage         0.858152     -0.838135      0.038523\n",
       "Slugging Percentage    0.032256     -1.606647      0.693949\n",
       "On Base Percentage     0.503211      0.394476      0.362760"
      ]
     },
     "execution_count": 26,
     "metadata": {},
     "output_type": "execute_result"
    }
   ],
   "source": [
    "# Get Mike Trout, Jose Ramirez, and Mookie Betts' on base percentage, hit percentage, and slugging percentages\n",
    "# Syntax df.loc[rows,cols]\n",
    "moneyball.loc[['Hit Percentage','Slugging Percentage','On Base Percentage'], ['Mike Trout', 'Jose Ramirez', 'Mookie Betts']]"
   ]
  }
 ],
 "metadata": {
  "kernelspec": {
   "display_name": "Python 3",
   "language": "python",
   "name": "python3"
  },
  "language_info": {
   "codemirror_mode": {
    "name": "ipython",
    "version": 3
   },
   "file_extension": ".py",
   "mimetype": "text/x-python",
   "name": "python",
   "nbconvert_exporter": "python",
   "pygments_lexer": "ipython3",
   "version": "3.8.3"
  }
 },
 "nbformat": 4,
 "nbformat_minor": 4
}
