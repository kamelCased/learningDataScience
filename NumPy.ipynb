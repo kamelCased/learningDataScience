{
 "cells": [
  {
   "cell_type": "markdown",
   "metadata": {},
   "source": [
    "# Python for Data Analysis"
   ]
  },
  {
   "cell_type": "markdown",
   "metadata": {},
   "source": [
    "### Numpy\n",
    "\n",
    "NumPy is a linear algebra library for Python. Most other data science libraries in Python rely on it. "
   ]
  },
  {
   "cell_type": "code",
   "execution_count": 3,
   "metadata": {},
   "outputs": [],
   "source": [
    "#import \n",
    "import numpy as np"
   ]
  },
  {
   "cell_type": "markdown",
   "metadata": {},
   "source": [
    "#### Numpy Arrays\n",
    "\n",
    "1-D Vectors or n-D matrices"
   ]
  },
  {
   "cell_type": "markdown",
   "metadata": {},
   "source": [
    "###### Casting a List to a NumPy array"
   ]
  },
  {
   "cell_type": "code",
   "execution_count": 5,
   "metadata": {},
   "outputs": [
    {
     "data": {
      "text/plain": [
       "array([1, 2, 3])"
      ]
     },
     "execution_count": 5,
     "metadata": {},
     "output_type": "execute_result"
    }
   ],
   "source": [
    "# 1D Array\n",
    "\n",
    "# Create a list\n",
    "myList = [1,2,3]\n",
    "# Cast it to a NumPy array\n",
    "arr1 = np.array(myList)\n",
    "arr1"
   ]
  },
  {
   "cell_type": "code",
   "execution_count": 71,
   "metadata": {},
   "outputs": [
    {
     "data": {
      "text/plain": [
       "array([[1, 2, 3],\n",
       "       [4, 5, 6],\n",
       "       [7, 8, 9]])"
      ]
     },
     "execution_count": 71,
     "metadata": {},
     "output_type": "execute_result"
    }
   ],
   "source": [
    "# 2D Array (can be noticed by number of square brackets on either end)\n",
    "\n",
    "# Create a list\n",
    "myMatrix = [[1,2,3],[4,5,6],[7,8,9]]\n",
    "# Cast it to a NumPy array\n",
    "arr2 = np.array(myMatrix)\n",
    "arr2"
   ]
  },
  {
   "cell_type": "markdown",
   "metadata": {},
   "source": [
    "###### Creating an array with arange\n",
    "\n",
    "`arange` is NumPy's built in range function. It takes a start, end, and increment and returns an array containing the specified values"
   ]
  },
  {
   "cell_type": "code",
   "execution_count": 8,
   "metadata": {},
   "outputs": [
    {
     "data": {
      "text/plain": [
       "array([ 0,  2,  4,  6,  8, 10])"
      ]
     },
     "execution_count": 8,
     "metadata": {},
     "output_type": "execute_result"
    }
   ],
   "source": [
    "#np.arange(start,stop,Optional:step)\n",
    "np.arange(0,11,2)"
   ]
  },
  {
   "cell_type": "markdown",
   "metadata": {},
   "source": [
    "###### Creating an array of zeros"
   ]
  },
  {
   "cell_type": "code",
   "execution_count": 9,
   "metadata": {},
   "outputs": [
    {
     "data": {
      "text/plain": [
       "array([0., 0., 0.])"
      ]
     },
     "execution_count": 9,
     "metadata": {},
     "output_type": "execute_result"
    }
   ],
   "source": [
    "# To create a vector, pass a number as the argument\n",
    "np.zeros(3)"
   ]
  },
  {
   "cell_type": "code",
   "execution_count": 10,
   "metadata": {},
   "outputs": [
    {
     "data": {
      "text/plain": [
       "array([[0., 0., 0.],\n",
       "       [0., 0., 0.],\n",
       "       [0., 0., 0.]])"
      ]
     },
     "execution_count": 10,
     "metadata": {},
     "output_type": "execute_result"
    }
   ],
   "source": [
    "# To create a matrix, pass a tuple as the argument \n",
    "np.zeros((3,3)) # np.zeros((rows,cols))"
   ]
  },
  {
   "cell_type": "markdown",
   "metadata": {},
   "source": [
    "###### Creating an array of ones "
   ]
  },
  {
   "cell_type": "code",
   "execution_count": 11,
   "metadata": {},
   "outputs": [
    {
     "data": {
      "text/plain": [
       "array([1., 1., 1., 1.])"
      ]
     },
     "execution_count": 11,
     "metadata": {},
     "output_type": "execute_result"
    }
   ],
   "source": [
    "# To create a vector, pass a number as the argument\n",
    "np.ones(4)"
   ]
  },
  {
   "cell_type": "code",
   "execution_count": 12,
   "metadata": {},
   "outputs": [
    {
     "data": {
      "text/plain": [
       "array([[1., 1., 1., 1.],\n",
       "       [1., 1., 1., 1.],\n",
       "       [1., 1., 1., 1.],\n",
       "       [1., 1., 1., 1.]])"
      ]
     },
     "execution_count": 12,
     "metadata": {},
     "output_type": "execute_result"
    }
   ],
   "source": [
    "# To create a matrix, pass a tuple as the argument \n",
    "np.ones((4,4)) # np.ones((rows,cols))"
   ]
  },
  {
   "cell_type": "markdown",
   "metadata": {},
   "source": [
    "###### Create an array with linearly spaced data points"
   ]
  },
  {
   "cell_type": "code",
   "execution_count": 14,
   "metadata": {},
   "outputs": [
    {
     "data": {
      "text/plain": [
       "array([ 0.        ,  0.20408163,  0.40816327,  0.6122449 ,  0.81632653,\n",
       "        1.02040816,  1.2244898 ,  1.42857143,  1.63265306,  1.83673469,\n",
       "        2.04081633,  2.24489796,  2.44897959,  2.65306122,  2.85714286,\n",
       "        3.06122449,  3.26530612,  3.46938776,  3.67346939,  3.87755102,\n",
       "        4.08163265,  4.28571429,  4.48979592,  4.69387755,  4.89795918,\n",
       "        5.10204082,  5.30612245,  5.51020408,  5.71428571,  5.91836735,\n",
       "        6.12244898,  6.32653061,  6.53061224,  6.73469388,  6.93877551,\n",
       "        7.14285714,  7.34693878,  7.55102041,  7.75510204,  7.95918367,\n",
       "        8.16326531,  8.36734694,  8.57142857,  8.7755102 ,  8.97959184,\n",
       "        9.18367347,  9.3877551 ,  9.59183673,  9.79591837, 10.        ])"
      ]
     },
     "execution_count": 14,
     "metadata": {},
     "output_type": "execute_result"
    }
   ],
   "source": [
    "# Syntax: np.linspace(start,end,number of points)\n",
    "np.linspace(0,10,50) # Note: Returns a 1D array"
   ]
  },
  {
   "cell_type": "markdown",
   "metadata": {},
   "source": [
    "###### Create an identity matrix \n",
    "\n",
    "An identity matrix has the same number of rows and columns. It has ones across the diagonal and zeros in all other positions."
   ]
  },
  {
   "cell_type": "code",
   "execution_count": 16,
   "metadata": {},
   "outputs": [
    {
     "data": {
      "text/plain": [
       "array([[1., 0., 0., 0., 0.],\n",
       "       [0., 1., 0., 0., 0.],\n",
       "       [0., 0., 1., 0., 0.],\n",
       "       [0., 0., 0., 1., 0.],\n",
       "       [0., 0., 0., 0., 1.]])"
      ]
     },
     "execution_count": 16,
     "metadata": {},
     "output_type": "execute_result"
    }
   ],
   "source": [
    "# Syntax: np.eye(rows/cols)\n",
    "np.eye(5) # Returns a 2D identity matrix with 5 rows and 5 columns"
   ]
  },
  {
   "cell_type": "markdown",
   "metadata": {},
   "source": [
    "###### Creating arrays with random values\n"
   ]
  },
  {
   "cell_type": "code",
   "execution_count": 23,
   "metadata": {
    "scrolled": true
   },
   "outputs": [
    {
     "data": {
      "text/plain": [
       "array([[0.56917302, 0.05407427, 0.52416213, 0.03847885, 0.80021745],\n",
       "       [0.90001541, 0.14142558, 0.75115883, 0.50821146, 0.98504355],\n",
       "       [0.54352542, 0.71966944, 0.1630343 , 0.91373674, 0.0627205 ],\n",
       "       [0.78557284, 0.8020569 , 0.5747332 , 0.54500796, 0.09948941]])"
      ]
     },
     "execution_count": 23,
     "metadata": {},
     "output_type": "execute_result"
    }
   ],
   "source": [
    "# Random decimals in [0.1)\n",
    "\n",
    "#Syntax: np.random.rand(dim0,dim1,...dimn)\n",
    "np.random.rand(4,5) # 4x5 array with random values in [0,1)"
   ]
  },
  {
   "cell_type": "code",
   "execution_count": 24,
   "metadata": {},
   "outputs": [
    {
     "data": {
      "text/plain": [
       "array([[53.86741984, 36.4077494 ,  8.45523383, 39.42445448, 51.70756889],\n",
       "       [32.12762217, 93.19454572,  6.74069396, 48.73559963,  6.30002572],\n",
       "       [61.06957299, 59.67455017, 80.7914452 ,  3.69814625, 23.18610572],\n",
       "       [ 2.24346398, 83.27183254, 19.90266183, 23.72061949,  0.38115931]])"
      ]
     },
     "execution_count": 24,
     "metadata": {},
     "output_type": "execute_result"
    }
   ],
   "source": [
    "# You can multiply by any number to make the array values in the range [0,n)\n",
    "\n",
    "# Multiply by 100 to get random uniform percentages \n",
    "np.random.rand(4,5) * 100"
   ]
  },
  {
   "cell_type": "code",
   "execution_count": 26,
   "metadata": {},
   "outputs": [
    {
     "data": {
      "text/plain": [
       "array([[-0.15723575, -0.88253217,  0.34465247,  0.46600816],\n",
       "       [-0.04879528,  2.06707059,  2.90109884,  0.61548412],\n",
       "       [-1.46275379,  1.47455577,  0.45522763,  0.24555068],\n",
       "       [ 0.63723559, -0.00855502,  0.55067381,  0.49089246],\n",
       "       [ 0.19293276,  1.81941795,  1.08784421, -0.61137709],\n",
       "       [-1.67671716,  0.56413566,  1.11119478, -0.50797801],\n",
       "       [ 0.67374776,  0.8281145 , -0.14161263,  1.14110179]])"
      ]
     },
     "execution_count": 26,
     "metadata": {},
     "output_type": "execute_result"
    }
   ],
   "source": [
    "# Random decimals from a standard normal distribution (Gaussian) centered around 0\n",
    "\n",
    "# Syntax: np.random.randn(dim0,dim1,...dimn)\n",
    "np.random.randn(7,4)"
   ]
  },
  {
   "cell_type": "code",
   "execution_count": 30,
   "metadata": {},
   "outputs": [
    {
     "data": {
      "text/plain": [
       "array([[65, 29, 57, 26, 96],\n",
       "       [98, 55, 29, 87, 13],\n",
       "       [ 6, 59, 29, 20, 47],\n",
       "       [76, 51, 91, 36, 52],\n",
       "       [88, 51, 66, 24, 99],\n",
       "       [ 5, 48, 75, 31, 88],\n",
       "       [63, 35, 99, 25, 41],\n",
       "       [19, 25, 51, 56, 33],\n",
       "       [78, 77, 24, 66, 51],\n",
       "       [ 7,  8,  5, 70,  7]])"
      ]
     },
     "execution_count": 30,
     "metadata": {},
     "output_type": "execute_result"
    }
   ],
   "source": [
    "# Random integers in a range \n",
    "\n",
    "# Syntax: np.random.randint(start,end,number of points)\n",
    "np.random.randint(1,100,(10,5)) # Number of points can be a number for 1D vectors or a tuple for 2D vectors"
   ]
  },
  {
   "cell_type": "markdown",
   "metadata": {},
   "source": [
    "##### Reshaping an array"
   ]
  },
  {
   "cell_type": "code",
   "execution_count": 32,
   "metadata": {},
   "outputs": [
    {
     "data": {
      "text/plain": [
       "array([[27, 12, 33, 52, 34],\n",
       "       [11, 46, 12, 23, 95],\n",
       "       [92, 58, 39, 78, 30],\n",
       "       [39, 52, 22, 17, 98]])"
      ]
     },
     "execution_count": 32,
     "metadata": {},
     "output_type": "execute_result"
    }
   ],
   "source": [
    "# Creage an array of 20 random numbers\n",
    "arr = np.random.randint(1,100,20)\n",
    "# Syntax: array.reshape(rows,cols)\n",
    "arr.reshape(4,5) # reshape the array to 4x5 "
   ]
  },
  {
   "cell_type": "code",
   "execution_count": 33,
   "metadata": {},
   "outputs": [
    {
     "ename": "ValueError",
     "evalue": "cannot reshape array of size 20 into shape (7,3)",
     "output_type": "error",
     "traceback": [
      "\u001b[0;31m---------------------------------------------------------------------------\u001b[0m",
      "\u001b[0;31mValueError\u001b[0m                                Traceback (most recent call last)",
      "\u001b[0;32m<ipython-input-33-39053a0cfd6f>\u001b[0m in \u001b[0;36m<module>\u001b[0;34m\u001b[0m\n\u001b[1;32m      1\u001b[0m \u001b[0;31m# Note: The total size of the new array must be unchanged\u001b[0m\u001b[0;34m\u001b[0m\u001b[0;34m\u001b[0m\u001b[0;34m\u001b[0m\u001b[0m\n\u001b[0;32m----> 2\u001b[0;31m \u001b[0marr\u001b[0m\u001b[0;34m.\u001b[0m\u001b[0mreshape\u001b[0m\u001b[0;34m(\u001b[0m\u001b[0;36m7\u001b[0m\u001b[0;34m,\u001b[0m\u001b[0;36m3\u001b[0m\u001b[0;34m)\u001b[0m\u001b[0;34m\u001b[0m\u001b[0;34m\u001b[0m\u001b[0m\n\u001b[0m",
      "\u001b[0;31mValueError\u001b[0m: cannot reshape array of size 20 into shape (7,3)"
     ]
    }
   ],
   "source": [
    "# Note: The total size of the new array must be unchanged\n",
    "arr.reshape(7,3) # (7x3 = 21) != 20"
   ]
  },
  {
   "cell_type": "markdown",
   "metadata": {},
   "source": [
    "###### Getting the maximum and minimum values in the array "
   ]
  },
  {
   "cell_type": "code",
   "execution_count": 35,
   "metadata": {},
   "outputs": [
    {
     "data": {
      "text/plain": [
       "98"
      ]
     },
     "execution_count": 35,
     "metadata": {},
     "output_type": "execute_result"
    }
   ],
   "source": [
    "# Get the maximum value in the array\n",
    "arr.max()"
   ]
  },
  {
   "cell_type": "code",
   "execution_count": 36,
   "metadata": {},
   "outputs": [
    {
     "data": {
      "text/plain": [
       "11"
      ]
     },
     "execution_count": 36,
     "metadata": {},
     "output_type": "execute_result"
    }
   ],
   "source": [
    "# Get the minimum value in the array\n",
    "arr.min()"
   ]
  },
  {
   "cell_type": "code",
   "execution_count": 37,
   "metadata": {},
   "outputs": [
    {
     "data": {
      "text/plain": [
       "19"
      ]
     },
     "execution_count": 37,
     "metadata": {},
     "output_type": "execute_result"
    }
   ],
   "source": [
    "# You can get the index of the maximum and minimum values in an array \n",
    "arr.argmax() # The maximum value 98 has index 19"
   ]
  },
  {
   "cell_type": "code",
   "execution_count": 38,
   "metadata": {},
   "outputs": [
    {
     "data": {
      "text/plain": [
       "5"
      ]
     },
     "execution_count": 38,
     "metadata": {},
     "output_type": "execute_result"
    }
   ],
   "source": [
    "arr.argmin() # The minimum value 11 has index 5"
   ]
  },
  {
   "cell_type": "markdown",
   "metadata": {},
   "source": [
    "###### Find out the shape of an array"
   ]
  },
  {
   "cell_type": "code",
   "execution_count": 40,
   "metadata": {},
   "outputs": [
    {
     "data": {
      "text/plain": [
       "(20,)"
      ]
     },
     "execution_count": 40,
     "metadata": {},
     "output_type": "execute_result"
    }
   ],
   "source": [
    "arr.shape # 1D Vector with 20 elements"
   ]
  },
  {
   "cell_type": "code",
   "execution_count": 41,
   "metadata": {},
   "outputs": [
    {
     "data": {
      "text/plain": [
       "(4, 5)"
      ]
     },
     "execution_count": 41,
     "metadata": {},
     "output_type": "execute_result"
    }
   ],
   "source": [
    "arr = arr.reshape(4,5) # arr is now a 2D array with 4 rows and 5 cols\n",
    "arr.shape "
   ]
  },
  {
   "cell_type": "markdown",
   "metadata": {},
   "source": [
    "#### Array indexing\n",
    "\n",
    "Forward indexing `array[0,1, ..., n-1]`\n",
    "\n",
    "Backward indexing `array[-n, ..., -2, -1]`"
   ]
  },
  {
   "cell_type": "code",
   "execution_count": 73,
   "metadata": {},
   "outputs": [
    {
     "name": "stdout",
     "output_type": "stream",
     "text": [
      "[10 11 12 13 14 15 16 17 18 19]\n"
     ]
    },
    {
     "data": {
      "text/plain": [
       "13"
      ]
     },
     "execution_count": 73,
     "metadata": {},
     "output_type": "execute_result"
    }
   ],
   "source": [
    "arr2 = np.arange(10,20)\n",
    "print(arr2)\n",
    "# Syntax: array[index]\n",
    "arr2[3] # Get the element at index 3"
   ]
  },
  {
   "cell_type": "code",
   "execution_count": 48,
   "metadata": {},
   "outputs": [
    {
     "name": "stdout",
     "output_type": "stream",
     "text": [
      "[[27 12 33 52 34]\n",
      " [11 46 12 23 95]\n",
      " [92 58 39 78 30]\n",
      " [39 52 22 17 98]]\n"
     ]
    },
    {
     "data": {
      "text/plain": [
       "array([39, 52, 22, 17, 98])"
      ]
     },
     "execution_count": 48,
     "metadata": {},
     "output_type": "execute_result"
    }
   ],
   "source": [
    "print(arr)\n",
    "# Syntax: array[row index][col index]\n",
    "arr[3] # Get the 4th row "
   ]
  },
  {
   "cell_type": "code",
   "execution_count": 51,
   "metadata": {},
   "outputs": [
    {
     "data": {
      "text/plain": [
       "23"
      ]
     },
     "execution_count": 51,
     "metadata": {},
     "output_type": "execute_result"
    }
   ],
   "source": [
    "arr[1][3] # Get the fourth item in the second row"
   ]
  },
  {
   "cell_type": "code",
   "execution_count": 81,
   "metadata": {},
   "outputs": [
    {
     "data": {
      "text/plain": [
       "23"
      ]
     },
     "execution_count": 81,
     "metadata": {},
     "output_type": "execute_result"
    }
   ],
   "source": [
    "# You can also use single bracket notation to index 2D arrays\n",
    "# Syntax: array[row,col]\n",
    "arr[1,3]"
   ]
  },
  {
   "cell_type": "markdown",
   "metadata": {},
   "source": [
    "###### Array Slicing"
   ]
  },
  {
   "cell_type": "code",
   "execution_count": 53,
   "metadata": {},
   "outputs": [
    {
     "name": "stdout",
     "output_type": "stream",
     "text": [
      "[10 11 12 13 14 15 16 17 18 19]\n"
     ]
    },
    {
     "data": {
      "text/plain": [
       "array([13, 14, 15, 16])"
      ]
     },
     "execution_count": 53,
     "metadata": {},
     "output_type": "execute_result"
    }
   ],
   "source": [
    "print(arr2)\n",
    "arr2[3:7] # Get the 4,5,6,7th items"
   ]
  },
  {
   "cell_type": "code",
   "execution_count": 62,
   "metadata": {},
   "outputs": [
    {
     "name": "stdout",
     "output_type": "stream",
     "text": [
      "[[27 12 33 52 34]\n",
      " [11 46 12 23 95]\n",
      " [92 58 39 78 30]\n",
      " [39 52 22 17 98]]\n"
     ]
    },
    {
     "data": {
      "text/plain": [
       "array([[11, 46, 12, 23, 95],\n",
       "       [92, 58, 39, 78, 30]])"
      ]
     },
     "execution_count": 62,
     "metadata": {},
     "output_type": "execute_result"
    }
   ],
   "source": [
    "print(arr)\n",
    "arr[1:3] # Get the second and third rows"
   ]
  },
  {
   "cell_type": "code",
   "execution_count": 63,
   "metadata": {},
   "outputs": [
    {
     "data": {
      "text/plain": [
       "array([15, 16, 17, 18, 19])"
      ]
     },
     "execution_count": 63,
     "metadata": {},
     "output_type": "execute_result"
    }
   ],
   "source": [
    "arr2[-5:] # get the last 5 items"
   ]
  },
  {
   "cell_type": "code",
   "execution_count": 85,
   "metadata": {},
   "outputs": [
    {
     "name": "stdout",
     "output_type": "stream",
     "text": [
      "[[27 12 33 52 34]\n",
      " [11 46 12 23 95]\n",
      " [92 58 39 78 30]\n",
      " [39 52 22 17 98]]\n"
     ]
    },
    {
     "data": {
      "text/plain": [
       "array([[52, 34],\n",
       "       [23, 95]])"
      ]
     },
     "execution_count": 85,
     "metadata": {},
     "output_type": "execute_result"
    }
   ],
   "source": [
    "# You van grab subsections of arrays\n",
    "\n",
    "# Grab the top 2x2 right corner of arr\n",
    "print(arr)\n",
    "# Syntax: array[rowstart:rowend, colstart:colend]\n",
    "arr[:2,-2:] # Grab the items in the first two rows and last two columns"
   ]
  },
  {
   "cell_type": "code",
   "execution_count": 100,
   "metadata": {},
   "outputs": [
    {
     "name": "stdout",
     "output_type": "stream",
     "text": [
      "[[ 0  1  2  3  4  5  6  7]\n",
      " [ 8  9 10 11 12 13 14 15]\n",
      " [16 17 18 19 20 21 22 23]\n",
      " [24 25 26 27 28 29 30 31]\n",
      " [32 33 34 35 36 37 38 39]\n",
      " [40 41 42 43 44 45 46 47]\n",
      " [48 49 50 51 52 53 54 55]] \n",
      "\n"
     ]
    },
    {
     "data": {
      "text/plain": [
       "array([[12, 13, 14],\n",
       "       [20, 21, 22],\n",
       "       [28, 29, 30]])"
      ]
     },
     "execution_count": 100,
     "metadata": {},
     "output_type": "execute_result"
    }
   ],
   "source": [
    "# bigger example\n",
    "arr_2d = np.arange(56).reshape(7,8)\n",
    "print(arr_2d, '\\n')\n",
    "\n",
    "# Grab 12,13,14,20,21,22,28,29,30\n",
    "arr_2d[1:4,4:7]"
   ]
  },
  {
   "cell_type": "markdown",
   "metadata": {},
   "source": [
    "#### Broadcasting\n",
    "\n",
    "You can change values in a NumPy array with broadcasting"
   ]
  },
  {
   "cell_type": "code",
   "execution_count": 75,
   "metadata": {},
   "outputs": [
    {
     "name": "stdout",
     "output_type": "stream",
     "text": [
      "[10 11 12 13 14 15 16 17 18 19]\n",
      "[ 10  11  12  13 100 100 100  17  18  19]\n"
     ]
    }
   ],
   "source": [
    "print(arr2)\n",
    "# Broadcast elements in positions 4,5,6 to 100\n",
    "arr2[4:7] = 100\n",
    "print(arr2)"
   ]
  },
  {
   "cell_type": "code",
   "execution_count": 77,
   "metadata": {},
   "outputs": [
    {
     "name": "stdout",
     "output_type": "stream",
     "text": [
      "[47 47 47]\n",
      "[10 11 12 13 47 47 47 17 18 19]\n"
     ]
    }
   ],
   "source": [
    "# Note: Broadcasting on array slices affects the original array (the slice is just a view of the original array)\n",
    "\n",
    "# Grab a slice of the array\n",
    "arr2_slice = arr2[4:7]\n",
    "# Change the values in the slice to 47\n",
    "arr2_slice[:] = 47\n",
    "# Show the changed values in slice\n",
    "print(arr2_slice)\n",
    "# Values are also changed in original array\n",
    "print(arr2)"
   ]
  },
  {
   "cell_type": "code",
   "execution_count": 80,
   "metadata": {},
   "outputs": [
    {
     "name": "stdout",
     "output_type": "stream",
     "text": [
      "[17 18 19]\n",
      "[42 42 42]\n",
      "[10 11 12 13 47 47 47 17 18 19]\n"
     ]
    }
   ],
   "source": [
    "# To leave original array values unchanged\n",
    "\n",
    "# Copy values into separate array\n",
    "# Syntax: array.copy()\n",
    "copy_arr2 = arr2.copy()[7:] \n",
    "print(copy_arr2)\n",
    "# Change the values in the copy\n",
    "copy_arr2[:] = 42\n",
    "# Values change in the copy \n",
    "print(copy_arr2)\n",
    "# Values don't change in the original\n",
    "print(arr2)"
   ]
  },
  {
   "cell_type": "markdown",
   "metadata": {},
   "source": [
    "#### Conditional Selection"
   ]
  },
  {
   "cell_type": "code",
   "execution_count": 93,
   "metadata": {},
   "outputs": [
    {
     "name": "stdout",
     "output_type": "stream",
     "text": [
      "[[27 12 33 52 34]\n",
      " [11 46 12 23 95]\n",
      " [92 58 39 78 30]\n",
      " [39 52 22 17 98]] \n",
      "\n",
      "[[False False False  True False]\n",
      " [False False False False  True]\n",
      " [ True  True False  True False]\n",
      " [False  True False False  True]] \n",
      "\n"
     ]
    },
    {
     "data": {
      "text/plain": [
       "array([52, 95, 92, 58, 78, 52, 98])"
      ]
     },
     "execution_count": 93,
     "metadata": {},
     "output_type": "execute_result"
    }
   ],
   "source": [
    "# The full array \n",
    "print(arr,'\\n')\n",
    "# Create a condition \n",
    "condition = arr > 50 # Returns an array with True at the positions whose values are greater than 50 and False elsewhere\n",
    "print(condition, '\\n')\n",
    "\n",
    "# Use the boolean array to get the values in the array that pass the condition \n",
    "arr[condition]"
   ]
  },
  {
   "cell_type": "code",
   "execution_count": 97,
   "metadata": {},
   "outputs": [
    {
     "name": "stdout",
     "output_type": "stream",
     "text": [
      "[[27 12 33 52 34]\n",
      " [11 46 12 23 95]\n",
      " [92 58 39 78 30]\n",
      " [39 52 22 17 98]]\n"
     ]
    },
    {
     "data": {
      "text/plain": [
       "array([27, 12, 33, 34, 11, 46, 12, 23, 39, 30, 39, 22, 17])"
      ]
     },
     "execution_count": 97,
     "metadata": {},
     "output_type": "execute_result"
    }
   ],
   "source": [
    "# You can also directly pass in the condition to the array index\n",
    "print(arr)\n",
    "# Get the values under 50\n",
    "arr[arr < 50]"
   ]
  },
  {
   "cell_type": "markdown",
   "metadata": {},
   "source": [
    "#### Numpy Operations\n",
    "\n",
    "* Array with Array\n",
    "* Array with Scalar\n",
    "* Universal Array Functions"
   ]
  },
  {
   "cell_type": "markdown",
   "metadata": {},
   "source": [
    "###### Array with Array Addition"
   ]
  },
  {
   "cell_type": "code",
   "execution_count": 7,
   "metadata": {},
   "outputs": [
    {
     "name": "stdout",
     "output_type": "stream",
     "text": [
      "[20 22 24 26 28 30 32 34 36 38 40 42 44 46 48] \n",
      "\n",
      "[15 31 39 32 23 21 14 21 22 18 17 14 17 26 25] \n",
      "\n"
     ]
    },
    {
     "data": {
      "text/plain": [
       "array([35, 53, 63, 58, 51, 51, 46, 55, 58, 56, 57, 56, 61, 72, 73])"
      ]
     },
     "execution_count": 7,
     "metadata": {},
     "output_type": "execute_result"
    }
   ],
   "source": [
    "import numpy as np\n",
    "\n",
    "#Create an array \n",
    "arr1 = np.arange(20,50,2)\n",
    "print(arr1, '\\n')\n",
    "\n",
    "#Create another array with the same size\n",
    "arr2 = np.random.randint(10,40,15)\n",
    "print(arr2, '\\n')\n",
    "\n",
    "# Add the arrays together\n",
    "arr1 + arr2 "
   ]
  },
  {
   "cell_type": "code",
   "execution_count": 11,
   "metadata": {},
   "outputs": [
    {
     "name": "stdout",
     "output_type": "stream",
     "text": [
      "[[42 40 38]\n",
      " [36 34 32]\n",
      " [30 28 26]\n",
      " [24 22 20]] \n",
      "\n",
      "[[26 25 33]\n",
      " [29 28 31]\n",
      " [27 29 23]\n",
      " [20 25 27]] \n",
      "\n"
     ]
    },
    {
     "data": {
      "text/plain": [
       "array([[68, 65, 71],\n",
       "       [65, 62, 63],\n",
       "       [57, 57, 49],\n",
       "       [44, 47, 47]])"
      ]
     },
     "execution_count": 11,
     "metadata": {},
     "output_type": "execute_result"
    }
   ],
   "source": [
    "# 2D matrix addition\n",
    "\n",
    "# Create a 4x3 matrix\n",
    "arr1 = np.arange(42,18,-2).reshape(4,3)\n",
    "print(arr1, '\\n')\n",
    "\n",
    "# Create another 4x3 matrix\n",
    "arr2 = np.random.randint(20,40,12).reshape(4,3)\n",
    "print(arr2, '\\n')\n",
    "\n",
    "#Add the matrix elements together\n",
    "arr1 + arr2"
   ]
  },
  {
   "cell_type": "markdown",
   "metadata": {},
   "source": [
    "###### Array with Array Subtraction"
   ]
  },
  {
   "cell_type": "code",
   "execution_count": 14,
   "metadata": {},
   "outputs": [
    {
     "name": "stdout",
     "output_type": "stream",
     "text": [
      "[20. 30. 40. 50.] \n",
      "\n",
      "[18.78247856  1.31739748 13.14952119 14.59439678] \n",
      "\n"
     ]
    },
    {
     "data": {
      "text/plain": [
       "array([ 1.21752144, 28.68260252, 26.85047881, 35.40560322])"
      ]
     },
     "execution_count": 14,
     "metadata": {},
     "output_type": "execute_result"
    }
   ],
   "source": [
    "# Create an array \n",
    "arr1 = np.linspace(20,50,4)\n",
    "print(arr1, '\\n')\n",
    "\n",
    "#Create another array with the same size\n",
    "arr2 = np.random.rand(4) * 20\n",
    "print(arr2, '\\n')\n",
    "\n",
    "# Subtract the array elements \n",
    "arr1 - arr2 "
   ]
  },
  {
   "cell_type": "code",
   "execution_count": 21,
   "metadata": {},
   "outputs": [
    {
     "name": "stdout",
     "output_type": "stream",
     "text": [
      "First array:\n",
      " [[60.         60.86956522 61.73913043]\n",
      " [62.60869565 63.47826087 64.34782609]\n",
      " [65.2173913  66.08695652 66.95652174]\n",
      " [67.82608696 68.69565217 69.56521739]\n",
      " [70.43478261 71.30434783 72.17391304]\n",
      " [73.04347826 73.91304348 74.7826087 ]\n",
      " [75.65217391 76.52173913 77.39130435]\n",
      " [78.26086957 79.13043478 80.        ]] \n",
      "\n",
      "Second array:\n",
      " [[ 9.03280613 18.00639594 40.37678845]\n",
      " [19.73240941 16.35365828 20.23871489]\n",
      " [68.80500087 41.26039001 69.37437617]\n",
      " [18.73323783 69.83527979 66.31995321]\n",
      " [38.24839402 34.3984941  48.45726993]\n",
      " [42.01625049 59.40662626 10.99000346]\n",
      " [56.17002594 55.14936489 38.26632932]\n",
      " [69.5049668  66.04931939 22.43788371]] \n",
      "\n",
      "Subtracted Array:\n"
     ]
    },
    {
     "data": {
      "text/plain": [
       "array([[50.96719387, 42.86316927, 21.36234199],\n",
       "       [42.87628625, 47.12460259, 44.1091112 ],\n",
       "       [-3.58760957, 24.82656651, -2.41785443],\n",
       "       [49.09284913, -1.13962762,  3.24526418],\n",
       "       [32.18638858, 36.90585372, 23.71664311],\n",
       "       [31.02722778, 14.50641721, 63.79260523],\n",
       "       [19.48214798, 21.37237424, 39.12497503],\n",
       "       [ 8.75590277, 13.08111539, 57.56211629]])"
      ]
     },
     "execution_count": 21,
     "metadata": {},
     "output_type": "execute_result"
    }
   ],
   "source": [
    "# 2D matrix\n",
    "\n",
    "# Create a matrix\n",
    "arr1 = np.linspace(60,80,24).reshape(8,3)\n",
    "print('First array:\\n', arr1, '\\n')\n",
    "\n",
    "#Create another array with the same size\n",
    "arr2 = np.random.rand(8,3) * 70\n",
    "print('Second array:\\n', arr2, '\\n\\nSubtracted Array:')\n",
    "\n",
    "# Subtract the array elements \n",
    "arr1 - arr2 "
   ]
  },
  {
   "cell_type": "markdown",
   "metadata": {},
   "source": [
    "###### Array with Array Multiplication"
   ]
  },
  {
   "cell_type": "code",
   "execution_count": 23,
   "metadata": {},
   "outputs": [
    {
     "name": "stdout",
     "output_type": "stream",
     "text": [
      "First array:\n",
      " [0.88560111 0.46987769 0.68559791 0.94035248 0.76055429 0.4718252\n",
      " 0.35648714] \n",
      "\n",
      "Second array:\n",
      " [0.4335182  0.1764055  0.84879574 0.38490329 0.09045907 0.93869569\n",
      " 0.94950076] \n",
      "\n",
      "Product Array:\n"
     ]
    },
    {
     "data": {
      "text/plain": [
       "array([0.3839242 , 0.08288901, 0.58193258, 0.36194476, 0.06879903,\n",
       "       0.44290028, 0.3384848 ])"
      ]
     },
     "execution_count": 23,
     "metadata": {},
     "output_type": "execute_result"
    }
   ],
   "source": [
    "# Create an array\n",
    "arr1 = np.random.rand(7)\n",
    "print('First array:\\n', arr1, '\\n')\n",
    "\n",
    "#Create another array with the same size\n",
    "arr2 = np.random.rand(7)\n",
    "print('Second array:\\n', arr2, '\\n\\nProduct Array:')\n",
    "\n",
    "# Multiply the array elements \n",
    "arr1 * arr2 "
   ]
  },
  {
   "cell_type": "code",
   "execution_count": 25,
   "metadata": {},
   "outputs": [
    {
     "name": "stdout",
     "output_type": "stream",
     "text": [
      "First array:\n",
      " [[49 33 36]\n",
      " [42 37 22]\n",
      " [52 56 17]\n",
      " [67  7 24]\n",
      " [16 64 61]] \n",
      "\n",
      "Second array:\n",
      " [[0.69789033 0.5821928  0.33641137]\n",
      " [0.02175689 0.16357224 0.85062891]\n",
      " [0.01408864 0.10874972 0.46611847]\n",
      " [0.67697436 0.23362903 0.57643409]\n",
      " [0.06567563 0.99173243 0.87757867]] \n",
      "\n",
      "Product Array:\n"
     ]
    },
    {
     "data": {
      "text/plain": [
       "array([[34.19662593, 19.21236229, 12.11080946],\n",
       "       [ 0.91378946,  6.05217284, 18.71383603],\n",
       "       [ 0.73260907,  6.0899842 ,  7.92401407],\n",
       "       [45.35728226,  1.63540324, 13.83441827],\n",
       "       [ 1.05081006, 63.47087568, 53.53229896]])"
      ]
     },
     "execution_count": 25,
     "metadata": {},
     "output_type": "execute_result"
    }
   ],
   "source": [
    "#2D matrix\n",
    "\n",
    "# Create a matrix\n",
    "arr1 = np.random.randint(7,72,(5,3))\n",
    "print('First array:\\n', arr1, '\\n')\n",
    "\n",
    "# Create another matrix with the same size\n",
    "arr2 = np.random.rand(5,3)\n",
    "print('Second array:\\n', arr2, '\\n\\nProduct Array:')\n",
    "\n",
    "# Multiply the array elements \n",
    "arr1 * arr2 "
   ]
  },
  {
   "cell_type": "markdown",
   "metadata": {},
   "source": [
    "###### Array with Array Division "
   ]
  },
  {
   "cell_type": "code",
   "execution_count": 27,
   "metadata": {},
   "outputs": [
    {
     "name": "stdout",
     "output_type": "stream",
     "text": [
      "First array:\n",
      " [-0.66907199  0.35901183  0.02082345 -0.519228    0.13106221 -0.93638848\n",
      " -0.53371471 -0.05049385 -0.33833608 -1.12320158  0.4333472  -1.85225355] \n",
      "\n",
      "Second array:\n",
      " [ 0.62335989 -0.66262247 -1.34924704 -0.82687864  0.53929439  0.59821594\n",
      "  0.62728036 -1.3926174  -0.71965457  1.87759978 -0.1347179   0.74696933] \n",
      "\n",
      "Quotient Array:\n"
     ]
    },
    {
     "data": {
      "text/plain": [
       "array([-1.07333179, -0.54180449, -0.01543339,  0.62793737,  0.24302535,\n",
       "       -1.56530179, -0.85083917,  0.03625823,  0.47013677, -0.59821139,\n",
       "       -3.21670103, -2.47969158])"
      ]
     },
     "execution_count": 27,
     "metadata": {},
     "output_type": "execute_result"
    }
   ],
   "source": [
    "# Create an array\n",
    "arr1 = np.random.randn(12)\n",
    "print('First array:\\n', arr1, '\\n')\n",
    "\n",
    "# Create another array with the same size\n",
    "arr2 = np.random.randn(12)\n",
    "print('Second array:\\n', arr2, '\\n\\nQuotient Array:')\n",
    "\n",
    "# Divide the array elements \n",
    "arr1 / arr2 "
   ]
  },
  {
   "cell_type": "code",
   "execution_count": 28,
   "metadata": {},
   "outputs": [
    {
     "name": "stdout",
     "output_type": "stream",
     "text": [
      "First array:\n",
      " [[ 193.30332721  -16.5930582   -50.14593995  -85.16875179]\n",
      " [ -18.34843102  219.33703989   62.43735182  -66.35228363]\n",
      " [   3.47848411  -21.44142768   75.23731917 -100.74201103]\n",
      " [  96.1973034    22.65434075  -47.96457547  -47.94598668]\n",
      " [  50.98773807   80.83285328   -9.46995568   75.15554258]\n",
      " [ -84.59900417  -54.37463653   86.89710908   96.36566211]\n",
      " [ 169.17620802    0.5649174     0.72815064  -16.97834443]\n",
      " [ -99.93897292  175.89844652  217.05660701  -36.98806879]] \n",
      "\n",
      "Second array:\n",
      " [[ -7.2748341    2.72884266   8.29053195  -1.23391759]\n",
      " [ -2.99956555   9.18976735   5.09068148 -12.67419254]\n",
      " [  2.710901    -9.91470088 -15.26014799   6.25219673]\n",
      " [  1.61538946  -3.88788688   2.39733555 -12.80477908]\n",
      " [ 17.03211142   3.36100203  10.82016313   1.32371689]\n",
      " [ -4.29437567   3.50955539  -8.95018103 -12.62432409]\n",
      " [-15.82213567 -16.08895193 -15.26441527  -7.13572105]\n",
      " [-21.29185879  12.01154487   9.96964501   5.68095916]] \n",
      "\n",
      "Quotient Array:\n"
     ]
    },
    {
     "data": {
      "text/plain": [
       "array([[-2.65715100e+01, -6.08062108e+00, -6.04857930e+00,\n",
       "         6.90230471e+01],\n",
       "       [ 6.11702952e+00,  2.38675291e+01,  1.22650282e+01,\n",
       "         5.23522768e+00],\n",
       "       [ 1.28314686e+00,  2.16258947e+00, -4.93031386e+00,\n",
       "        -1.61130584e+01],\n",
       "       [ 5.95505330e+01, -5.82690327e+00, -2.00074518e+01,\n",
       "         3.74438219e+00],\n",
       "       [ 2.99362403e+00,  2.40502245e+01, -8.75213763e-01,\n",
       "         5.67761455e+01],\n",
       "       [ 1.96999543e+01, -1.54933120e+01, -9.70897782e+00,\n",
       "        -7.63333240e+00],\n",
       "       [-1.06923750e+01, -3.51121316e-02, -4.77024916e-02,\n",
       "         2.37934531e+00],\n",
       "       [ 4.69376459e+00,  1.46441152e+01,  2.17717488e+01,\n",
       "        -6.51088447e+00]])"
      ]
     },
     "execution_count": 28,
     "metadata": {},
     "output_type": "execute_result"
    }
   ],
   "source": [
    "# 2D matrix\n",
    "\n",
    "# Create a matrix\n",
    "arr1 = np.random.randn(8,4) * 100\n",
    "print('First array:\\n', arr1, '\\n')\n",
    "\n",
    "# Create another matrix with the same size\n",
    "arr2 = np.random.randn(8,4) * 10\n",
    "print('Second array:\\n', arr2, '\\n\\nQuotient Array:')\n",
    "\n",
    "# Divide the array elements \n",
    "arr1 / arr2 "
   ]
  },
  {
   "cell_type": "markdown",
   "metadata": {},
   "source": [
    "###### Array with Scalar Operations\n",
    "\n",
    "The Scalar number is broadcasted to perform the desired operation with every element in the array."
   ]
  },
  {
   "cell_type": "code",
   "execution_count": 31,
   "metadata": {},
   "outputs": [
    {
     "name": "stdout",
     "output_type": "stream",
     "text": [
      "Array before:\n",
      " [[25 10]\n",
      " [34 19]\n",
      " [ 8  8]\n",
      " [22  3]\n",
      " [ 2 11]\n",
      " [20 14]\n",
      " [ 7 17]] \n",
      "\n",
      "Array after:\n"
     ]
    },
    {
     "data": {
      "text/plain": [
       "array([[28, 13],\n",
       "       [37, 22],\n",
       "       [11, 11],\n",
       "       [25,  6],\n",
       "       [ 5, 14],\n",
       "       [23, 17],\n",
       "       [10, 20]])"
      ]
     },
     "execution_count": 31,
     "metadata": {},
     "output_type": "execute_result"
    }
   ],
   "source": [
    "# Addition\n",
    "\n",
    "# Scalar\n",
    "a = 3\n",
    "# Array\n",
    "arr1 = np.random.randint(1,36,(7,2))\n",
    "print('Array before:\\n', arr1,'\\n\\nArray after:')\n",
    "# Add the scalar and the array\n",
    "arr1 + a"
   ]
  },
  {
   "cell_type": "code",
   "execution_count": 34,
   "metadata": {},
   "outputs": [
    {
     "name": "stdout",
     "output_type": "stream",
     "text": [
      "After Subtraction:\n"
     ]
    },
    {
     "data": {
      "text/plain": [
       "array([[22,  7],\n",
       "       [31, 16],\n",
       "       [ 5,  5],\n",
       "       [19,  0],\n",
       "       [-1,  8],\n",
       "       [17, 11],\n",
       "       [ 4, 14]])"
      ]
     },
     "execution_count": 34,
     "metadata": {},
     "output_type": "execute_result"
    }
   ],
   "source": [
    "# Subtraction\n",
    "print('After Subtraction:') \n",
    "arr1 - a"
   ]
  },
  {
   "cell_type": "code",
   "execution_count": 35,
   "metadata": {},
   "outputs": [
    {
     "name": "stdout",
     "output_type": "stream",
     "text": [
      "Multiplication:\n"
     ]
    },
    {
     "data": {
      "text/plain": [
       "array([[ 75,  30],\n",
       "       [102,  57],\n",
       "       [ 24,  24],\n",
       "       [ 66,   9],\n",
       "       [  6,  33],\n",
       "       [ 60,  42],\n",
       "       [ 21,  51]])"
      ]
     },
     "execution_count": 35,
     "metadata": {},
     "output_type": "execute_result"
    }
   ],
   "source": [
    "# Multiplication\n",
    "print('Multiplication:') \n",
    "arr1 * a"
   ]
  },
  {
   "cell_type": "code",
   "execution_count": 41,
   "metadata": {},
   "outputs": [
    {
     "name": "stdout",
     "output_type": "stream",
     "text": [
      "Division:\n"
     ]
    },
    {
     "data": {
      "text/plain": [
       "array([[ 8.33333333,  3.33333333],\n",
       "       [11.33333333,  6.33333333],\n",
       "       [ 2.66666667,  2.66666667],\n",
       "       [ 7.33333333,  1.        ],\n",
       "       [ 0.66666667,  3.66666667],\n",
       "       [ 6.66666667,  4.66666667],\n",
       "       [ 2.33333333,  5.66666667]])"
      ]
     },
     "execution_count": 41,
     "metadata": {},
     "output_type": "execute_result"
    }
   ],
   "source": [
    "# Division\n",
    "print('Division:') \n",
    "arr1 / a"
   ]
  },
  {
   "cell_type": "code",
   "execution_count": 40,
   "metadata": {},
   "outputs": [
    {
     "name": "stderr",
     "output_type": "stream",
     "text": [
      "<ipython-input-40-39bd96c249df>:5: RuntimeWarning: divide by zero encountered in true_divide\n",
      "  arr1/arr2\n"
     ]
    },
    {
     "data": {
      "text/plain": [
       "array([[        inf, 10.        ],\n",
       "       [17.        ,  6.33333333],\n",
       "       [ 2.        ,  1.6       ],\n",
       "       [ 3.66666667,  0.42857143],\n",
       "       [ 0.25      ,  1.22222222],\n",
       "       [ 2.        ,  1.27272727],\n",
       "       [ 0.58333333,  1.30769231]])"
      ]
     },
     "execution_count": 40,
     "metadata": {},
     "output_type": "execute_result"
    }
   ],
   "source": [
    "# Caution: NumPy only issues a watning for certain arithmetic errors\n",
    "    \n",
    "# Division by 0\n",
    "arr2 = np.arange(0,14,1).reshape(7,2)\n",
    "arr1/arr2 # issues a warning and returns infinity for the first value (divided by 0)"
   ]
  },
  {
   "cell_type": "markdown",
   "metadata": {},
   "source": [
    "###### You can also do exponent and modular operations with arrays"
   ]
  },
  {
   "cell_type": "code",
   "execution_count": 42,
   "metadata": {},
   "outputs": [
    {
     "data": {
      "text/plain": [
       "array([[15625,  1000],\n",
       "       [39304,  6859],\n",
       "       [  512,   512],\n",
       "       [10648,    27],\n",
       "       [    8,  1331],\n",
       "       [ 8000,  2744],\n",
       "       [  343,  4913]])"
      ]
     },
     "execution_count": 42,
     "metadata": {},
     "output_type": "execute_result"
    }
   ],
   "source": [
    "# Exp with scalar\n",
    "arr1 **3"
   ]
  },
  {
   "cell_type": "code",
   "execution_count": 43,
   "metadata": {},
   "outputs": [
    {
     "data": {
      "text/plain": [
       "array([[1, 0],\n",
       "       [0, 1],\n",
       "       [0, 0],\n",
       "       [0, 1],\n",
       "       [0, 1],\n",
       "       [0, 0],\n",
       "       [1, 1]])"
      ]
     },
     "execution_count": 43,
     "metadata": {},
     "output_type": "execute_result"
    }
   ],
   "source": [
    "# mod with scalar\n",
    "arr1 % 2"
   ]
  },
  {
   "cell_type": "code",
   "execution_count": 44,
   "metadata": {},
   "outputs": [
    {
     "data": {
      "text/plain": [
       "array([[-6776596920136667815,          10000000000],\n",
       "       [-5296008294479953920,  6353754964178307979],\n",
       "       [            16777216,             16777216],\n",
       "       [ 4981753131911086080,                   27],\n",
       "       [                   4,         285311670611],\n",
       "       [-2101438300051996672,    11112006825558016],\n",
       "       [              823543, -2863221430593058543]])"
      ]
     },
     "execution_count": 44,
     "metadata": {},
     "output_type": "execute_result"
    }
   ],
   "source": [
    "# Exp with array \n",
    "arr1 ** arr1"
   ]
  },
  {
   "cell_type": "code",
   "execution_count": 46,
   "metadata": {},
   "outputs": [
    {
     "name": "stderr",
     "output_type": "stream",
     "text": [
      "<ipython-input-46-845b0029d311>:2: RuntimeWarning: divide by zero encountered in remainder\n",
      "  arr1 % arr2\n"
     ]
    },
    {
     "data": {
      "text/plain": [
       "array([[0, 0],\n",
       "       [0, 1],\n",
       "       [0, 3],\n",
       "       [4, 3],\n",
       "       [2, 2],\n",
       "       [0, 3],\n",
       "       [7, 4]])"
      ]
     },
     "execution_count": 46,
     "metadata": {},
     "output_type": "execute_result"
    }
   ],
   "source": [
    "# mod with array\n",
    "arr1 % arr2"
   ]
  },
  {
   "cell_type": "markdown",
   "metadata": {},
   "source": [
    "#### Other Universal Array Functions\n",
    "\n",
    "Functions that can broadcast to every element in the array. \n",
    "\n",
    "The list can be found here: https://numpy.org/doc/stable/reference/ufuncs.html"
   ]
  },
  {
   "cell_type": "markdown",
   "metadata": {},
   "source": [
    "###### Square Root\n",
    "\n",
    "`sqrt(array)`"
   ]
  },
  {
   "cell_type": "code",
   "execution_count": 47,
   "metadata": {},
   "outputs": [
    {
     "name": "stdout",
     "output_type": "stream",
     "text": [
      "Base Array:\n",
      " [[25 10]\n",
      " [34 19]\n",
      " [ 8  8]\n",
      " [22  3]\n",
      " [ 2 11]\n",
      " [20 14]\n",
      " [ 7 17]] \n",
      "\n",
      "Square Root Array\n"
     ]
    },
    {
     "data": {
      "text/plain": [
       "array([[5.        , 3.16227766],\n",
       "       [5.83095189, 4.35889894],\n",
       "       [2.82842712, 2.82842712],\n",
       "       [4.69041576, 1.73205081],\n",
       "       [1.41421356, 3.31662479],\n",
       "       [4.47213595, 3.74165739],\n",
       "       [2.64575131, 4.12310563]])"
      ]
     },
     "execution_count": 47,
     "metadata": {},
     "output_type": "execute_result"
    }
   ],
   "source": [
    "# Take the square root\n",
    "print('Base Array:\\n', arr1, '\\n\\nSquare Root Array')\n",
    "np.sqrt(arr1)"
   ]
  },
  {
   "cell_type": "markdown",
   "metadata": {},
   "source": [
    "###### Exponential\n",
    "\n",
    "`exp(array)`"
   ]
  },
  {
   "cell_type": "code",
   "execution_count": 48,
   "metadata": {},
   "outputs": [
    {
     "name": "stdout",
     "output_type": "stream",
     "text": [
      "Base Array:\n",
      " [[25 10]\n",
      " [34 19]\n",
      " [ 8  8]\n",
      " [22  3]\n",
      " [ 2 11]\n",
      " [20 14]\n",
      " [ 7 17]] \n",
      "\n",
      "Exponent Array\n"
     ]
    },
    {
     "data": {
      "text/plain": [
       "array([[7.20048993e+10, 2.20264658e+04],\n",
       "       [5.83461743e+14, 1.78482301e+08],\n",
       "       [2.98095799e+03, 2.98095799e+03],\n",
       "       [3.58491285e+09, 2.00855369e+01],\n",
       "       [7.38905610e+00, 5.98741417e+04],\n",
       "       [4.85165195e+08, 1.20260428e+06],\n",
       "       [1.09663316e+03, 2.41549528e+07]])"
      ]
     },
     "execution_count": 48,
     "metadata": {},
     "output_type": "execute_result"
    }
   ],
   "source": [
    "# Raise to e\n",
    "print('Base Array:\\n', arr1, '\\n\\nExponent Array')\n",
    "np.exp(arr1)"
   ]
  },
  {
   "cell_type": "markdown",
   "metadata": {},
   "source": [
    "###### Maximum and Minimum"
   ]
  },
  {
   "cell_type": "code",
   "execution_count": 50,
   "metadata": {},
   "outputs": [
    {
     "name": "stdout",
     "output_type": "stream",
     "text": [
      "Max is: 34\n",
      "Min is: 2\n"
     ]
    }
   ],
   "source": [
    "print('Max is:', np.max(arr1))\n",
    "print('Min is:', np.min(arr1))"
   ]
  },
  {
   "cell_type": "markdown",
   "metadata": {},
   "source": [
    "###### Trigonometric Functions (sin, cos, tan ...)"
   ]
  },
  {
   "cell_type": "code",
   "execution_count": 51,
   "metadata": {},
   "outputs": [
    {
     "data": {
      "text/plain": [
       "array([[-0.13235175, -0.54402111],\n",
       "       [ 0.52908269,  0.14987721],\n",
       "       [ 0.98935825,  0.98935825],\n",
       "       [-0.00885131,  0.14112001],\n",
       "       [ 0.90929743, -0.99999021],\n",
       "       [ 0.91294525,  0.99060736],\n",
       "       [ 0.6569866 , -0.96139749]])"
      ]
     },
     "execution_count": 51,
     "metadata": {},
     "output_type": "execute_result"
    }
   ],
   "source": [
    "# pass in every element of arr1 into sin\n",
    "np.sin(arr1)"
   ]
  },
  {
   "cell_type": "code",
   "execution_count": 55,
   "metadata": {},
   "outputs": [
    {
     "data": {
      "text/plain": [
       "array([[1432.39448783,  572.95779513],\n",
       "       [1948.05650344, 1088.61981075],\n",
       "       [ 458.3662361 ,  458.3662361 ],\n",
       "       [1260.50714929,  171.88733854],\n",
       "       [ 114.59155903,  630.25357464],\n",
       "       [1145.91559026,  802.14091318],\n",
       "       [ 401.07045659,  974.02825172]])"
      ]
     },
     "execution_count": 55,
     "metadata": {},
     "output_type": "execute_result"
    }
   ],
   "source": [
    "# Geyt the value for every element of arr1 in degrees\n",
    "np.degrees(arr1)"
   ]
  },
  {
   "cell_type": "code",
   "execution_count": 58,
   "metadata": {},
   "outputs": [
    {
     "data": {
      "text/plain": [
       "array([[0.00761544, 0.00304617],\n",
       "       [0.01035699, 0.00578773],\n",
       "       [0.00243694, 0.00243694],\n",
       "       [0.00670158, 0.00091385],\n",
       "       [0.00060923, 0.00335079],\n",
       "       [0.00609235, 0.00426464],\n",
       "       [0.00213232, 0.0051785 ]])"
      ]
     },
     "execution_count": 58,
     "metadata": {},
     "output_type": "execute_result"
    }
   ],
   "source": [
    "# Get the value for every element of arr1 in radians\n",
    "arr1 = np.radians(arr1)\n",
    "arr1"
   ]
  },
  {
   "cell_type": "markdown",
   "metadata": {},
   "source": [
    "###### Logarithmic functions (log, log2, log10 ...)"
   ]
  },
  {
   "cell_type": "code",
   "execution_count": 62,
   "metadata": {},
   "outputs": [
    {
     "data": {
      "text/plain": [
       "array([[-4.87757811, -5.79386884],\n",
       "       [-4.57009341, -5.15201495],\n",
       "       [-6.01701239, -6.01701239],\n",
       "       [-5.00541148, -6.99784164],\n",
       "       [-7.40330675, -5.69855866],\n",
       "       [-5.10072166, -5.4573966 ],\n",
       "       [-6.15054378, -5.26324059]])"
      ]
     },
     "execution_count": 62,
     "metadata": {},
     "output_type": "execute_result"
    }
   ],
   "source": [
    "# natural log\n",
    "np.log(arr1)"
   ]
  },
  {
   "cell_type": "code",
   "execution_count": 63,
   "metadata": {},
   "outputs": [
    {
     "data": {
      "text/plain": [
       "array([[ -7.03685774,  -8.35878584],\n",
       "       [ -6.59325109,  -7.43278642],\n",
       "       [ -8.68071393,  -8.68071393],\n",
       "       [ -7.22128232, -10.09575143],\n",
       "       [-10.68071393,  -8.22128232],\n",
       "       [ -7.35878584,  -7.87335901],\n",
       "       [ -8.87335901,  -7.59325109]])"
      ]
     },
     "execution_count": 63,
     "metadata": {},
     "output_type": "execute_result"
    }
   ],
   "source": [
    "# log base 2\n",
    "np.log2(arr1)"
   ]
  },
  {
   "cell_type": "code",
   "execution_count": 64,
   "metadata": {},
   "outputs": [
    {
     "data": {
      "text/plain": [
       "array([[ -7.03685774,  -8.35878584],\n",
       "       [ -6.59325109,  -7.43278642],\n",
       "       [ -8.68071393,  -8.68071393],\n",
       "       [ -7.22128232, -10.09575143],\n",
       "       [-10.68071393,  -8.22128232],\n",
       "       [ -7.35878584,  -7.87335901],\n",
       "       [ -8.87335901,  -7.59325109]])"
      ]
     },
     "execution_count": 64,
     "metadata": {},
     "output_type": "execute_result"
    }
   ],
   "source": [
    "# log base 10 \n",
    "np.log2(arr1)"
   ]
  }
 ],
 "metadata": {
  "kernelspec": {
   "display_name": "Python 3",
   "language": "python",
   "name": "python3"
  },
  "language_info": {
   "codemirror_mode": {
    "name": "ipython",
    "version": 3
   },
   "file_extension": ".py",
   "mimetype": "text/x-python",
   "name": "python",
   "nbconvert_exporter": "python",
   "pygments_lexer": "ipython3",
   "version": "3.8.3"
  }
 },
 "nbformat": 4,
 "nbformat_minor": 4
}
