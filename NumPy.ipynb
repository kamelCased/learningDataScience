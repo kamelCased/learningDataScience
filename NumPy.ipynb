{
 "cells": [
  {
   "cell_type": "markdown",
   "metadata": {},
   "source": [
    "# Python for Data Analysis"
   ]
  },
  {
   "cell_type": "markdown",
   "metadata": {},
   "source": [
    "### Numpy\n",
    "\n",
    "NumPy is a linear algebra library for Python. Most other data science libraries in Python rely on it. "
   ]
  },
  {
   "cell_type": "code",
   "execution_count": 3,
   "metadata": {},
   "outputs": [],
   "source": [
    "#import \n",
    "import numpy as np"
   ]
  },
  {
   "cell_type": "markdown",
   "metadata": {},
   "source": [
    "#### Numpy Arrays\n",
    "\n",
    "1-D Vectors or n-D matrices"
   ]
  },
  {
   "cell_type": "markdown",
   "metadata": {},
   "source": [
    "###### Casting a List to a NumPy array"
   ]
  },
  {
   "cell_type": "code",
   "execution_count": 5,
   "metadata": {},
   "outputs": [
    {
     "data": {
      "text/plain": [
       "array([1, 2, 3])"
      ]
     },
     "execution_count": 5,
     "metadata": {},
     "output_type": "execute_result"
    }
   ],
   "source": [
    "# 1D Array\n",
    "\n",
    "# Create a list\n",
    "myList = [1,2,3]\n",
    "# Cast it to a NumPy array\n",
    "arr1 = np.array(myList)\n",
    "arr1"
   ]
  },
  {
   "cell_type": "code",
   "execution_count": 71,
   "metadata": {},
   "outputs": [
    {
     "data": {
      "text/plain": [
       "array([[1, 2, 3],\n",
       "       [4, 5, 6],\n",
       "       [7, 8, 9]])"
      ]
     },
     "execution_count": 71,
     "metadata": {},
     "output_type": "execute_result"
    }
   ],
   "source": [
    "# 2D Array (can be noticed by number of square brackets on either end)\n",
    "\n",
    "# Create a list\n",
    "myMatrix = [[1,2,3],[4,5,6],[7,8,9]]\n",
    "# Cast it to a NumPy array\n",
    "arr2 = np.array(myMatrix)\n",
    "arr2"
   ]
  },
  {
   "cell_type": "markdown",
   "metadata": {},
   "source": [
    "###### Creating an array with arange\n",
    "\n",
    "`arange` is NumPy's built in range function. It takes a start, end, and increment and returns an array containing the specified values"
   ]
  },
  {
   "cell_type": "code",
   "execution_count": 8,
   "metadata": {},
   "outputs": [
    {
     "data": {
      "text/plain": [
       "array([ 0,  2,  4,  6,  8, 10])"
      ]
     },
     "execution_count": 8,
     "metadata": {},
     "output_type": "execute_result"
    }
   ],
   "source": [
    "#np.arange(start,stop,Optional:step)\n",
    "np.arange(0,11,2)"
   ]
  },
  {
   "cell_type": "markdown",
   "metadata": {},
   "source": [
    "###### Creating an array of zeros"
   ]
  },
  {
   "cell_type": "code",
   "execution_count": 9,
   "metadata": {},
   "outputs": [
    {
     "data": {
      "text/plain": [
       "array([0., 0., 0.])"
      ]
     },
     "execution_count": 9,
     "metadata": {},
     "output_type": "execute_result"
    }
   ],
   "source": [
    "# To create a vector, pass a number as the argument\n",
    "np.zeros(3)"
   ]
  },
  {
   "cell_type": "code",
   "execution_count": 10,
   "metadata": {},
   "outputs": [
    {
     "data": {
      "text/plain": [
       "array([[0., 0., 0.],\n",
       "       [0., 0., 0.],\n",
       "       [0., 0., 0.]])"
      ]
     },
     "execution_count": 10,
     "metadata": {},
     "output_type": "execute_result"
    }
   ],
   "source": [
    "# To create a matrix, pass a tuple as the argument \n",
    "np.zeros((3,3)) # np.zeros((rows,cols))"
   ]
  },
  {
   "cell_type": "markdown",
   "metadata": {},
   "source": [
    "###### Creating an array of ones "
   ]
  },
  {
   "cell_type": "code",
   "execution_count": 11,
   "metadata": {},
   "outputs": [
    {
     "data": {
      "text/plain": [
       "array([1., 1., 1., 1.])"
      ]
     },
     "execution_count": 11,
     "metadata": {},
     "output_type": "execute_result"
    }
   ],
   "source": [
    "# To create a vector, pass a number as the argument\n",
    "np.ones(4)"
   ]
  },
  {
   "cell_type": "code",
   "execution_count": 12,
   "metadata": {},
   "outputs": [
    {
     "data": {
      "text/plain": [
       "array([[1., 1., 1., 1.],\n",
       "       [1., 1., 1., 1.],\n",
       "       [1., 1., 1., 1.],\n",
       "       [1., 1., 1., 1.]])"
      ]
     },
     "execution_count": 12,
     "metadata": {},
     "output_type": "execute_result"
    }
   ],
   "source": [
    "# To create a matrix, pass a tuple as the argument \n",
    "np.ones((4,4)) # np.ones((rows,cols))"
   ]
  },
  {
   "cell_type": "markdown",
   "metadata": {},
   "source": [
    "###### Create an array with linearly spaced data points"
   ]
  },
  {
   "cell_type": "code",
   "execution_count": 14,
   "metadata": {},
   "outputs": [
    {
     "data": {
      "text/plain": [
       "array([ 0.        ,  0.20408163,  0.40816327,  0.6122449 ,  0.81632653,\n",
       "        1.02040816,  1.2244898 ,  1.42857143,  1.63265306,  1.83673469,\n",
       "        2.04081633,  2.24489796,  2.44897959,  2.65306122,  2.85714286,\n",
       "        3.06122449,  3.26530612,  3.46938776,  3.67346939,  3.87755102,\n",
       "        4.08163265,  4.28571429,  4.48979592,  4.69387755,  4.89795918,\n",
       "        5.10204082,  5.30612245,  5.51020408,  5.71428571,  5.91836735,\n",
       "        6.12244898,  6.32653061,  6.53061224,  6.73469388,  6.93877551,\n",
       "        7.14285714,  7.34693878,  7.55102041,  7.75510204,  7.95918367,\n",
       "        8.16326531,  8.36734694,  8.57142857,  8.7755102 ,  8.97959184,\n",
       "        9.18367347,  9.3877551 ,  9.59183673,  9.79591837, 10.        ])"
      ]
     },
     "execution_count": 14,
     "metadata": {},
     "output_type": "execute_result"
    }
   ],
   "source": [
    "# Syntax: np.linspace(start,end,number of points)\n",
    "np.linspace(0,10,50) # Note: Returns a 1D array"
   ]
  },
  {
   "cell_type": "markdown",
   "metadata": {},
   "source": [
    "###### Create an identity matrix \n",
    "\n",
    "An identity matrix has the same number of rows and columns. It has ones across the diagonal and zeros in all other positions."
   ]
  },
  {
   "cell_type": "code",
   "execution_count": 16,
   "metadata": {},
   "outputs": [
    {
     "data": {
      "text/plain": [
       "array([[1., 0., 0., 0., 0.],\n",
       "       [0., 1., 0., 0., 0.],\n",
       "       [0., 0., 1., 0., 0.],\n",
       "       [0., 0., 0., 1., 0.],\n",
       "       [0., 0., 0., 0., 1.]])"
      ]
     },
     "execution_count": 16,
     "metadata": {},
     "output_type": "execute_result"
    }
   ],
   "source": [
    "# Syntax: np.eye(rows/cols)\n",
    "np.eye(5) # Returns a 2D identity matrix with 5 rows and 5 columns"
   ]
  },
  {
   "cell_type": "markdown",
   "metadata": {},
   "source": [
    "###### Creating arrays with random values\n"
   ]
  },
  {
   "cell_type": "code",
   "execution_count": 23,
   "metadata": {
    "scrolled": true
   },
   "outputs": [
    {
     "data": {
      "text/plain": [
       "array([[0.56917302, 0.05407427, 0.52416213, 0.03847885, 0.80021745],\n",
       "       [0.90001541, 0.14142558, 0.75115883, 0.50821146, 0.98504355],\n",
       "       [0.54352542, 0.71966944, 0.1630343 , 0.91373674, 0.0627205 ],\n",
       "       [0.78557284, 0.8020569 , 0.5747332 , 0.54500796, 0.09948941]])"
      ]
     },
     "execution_count": 23,
     "metadata": {},
     "output_type": "execute_result"
    }
   ],
   "source": [
    "# Random decimals in [0.1)\n",
    "\n",
    "#Syntax: np.random.rand(dim0,dim1,...dimn)\n",
    "np.random.rand(4,5) # 4x5 array with random values in [0,1)"
   ]
  },
  {
   "cell_type": "code",
   "execution_count": 24,
   "metadata": {},
   "outputs": [
    {
     "data": {
      "text/plain": [
       "array([[53.86741984, 36.4077494 ,  8.45523383, 39.42445448, 51.70756889],\n",
       "       [32.12762217, 93.19454572,  6.74069396, 48.73559963,  6.30002572],\n",
       "       [61.06957299, 59.67455017, 80.7914452 ,  3.69814625, 23.18610572],\n",
       "       [ 2.24346398, 83.27183254, 19.90266183, 23.72061949,  0.38115931]])"
      ]
     },
     "execution_count": 24,
     "metadata": {},
     "output_type": "execute_result"
    }
   ],
   "source": [
    "# You can multiply by any number to make the array values in the range [0,n)\n",
    "\n",
    "# Multiply by 100 to get random uniform percentages \n",
    "np.random.rand(4,5) * 100"
   ]
  },
  {
   "cell_type": "code",
   "execution_count": 26,
   "metadata": {},
   "outputs": [
    {
     "data": {
      "text/plain": [
       "array([[-0.15723575, -0.88253217,  0.34465247,  0.46600816],\n",
       "       [-0.04879528,  2.06707059,  2.90109884,  0.61548412],\n",
       "       [-1.46275379,  1.47455577,  0.45522763,  0.24555068],\n",
       "       [ 0.63723559, -0.00855502,  0.55067381,  0.49089246],\n",
       "       [ 0.19293276,  1.81941795,  1.08784421, -0.61137709],\n",
       "       [-1.67671716,  0.56413566,  1.11119478, -0.50797801],\n",
       "       [ 0.67374776,  0.8281145 , -0.14161263,  1.14110179]])"
      ]
     },
     "execution_count": 26,
     "metadata": {},
     "output_type": "execute_result"
    }
   ],
   "source": [
    "# Random decimals from a standard normal distribution (Gaussian) centered around 0\n",
    "\n",
    "# Syntax: np.random.randn(dim0,dim1,...dimn)\n",
    "np.random.randn(7,4)"
   ]
  },
  {
   "cell_type": "code",
   "execution_count": 30,
   "metadata": {},
   "outputs": [
    {
     "data": {
      "text/plain": [
       "array([[65, 29, 57, 26, 96],\n",
       "       [98, 55, 29, 87, 13],\n",
       "       [ 6, 59, 29, 20, 47],\n",
       "       [76, 51, 91, 36, 52],\n",
       "       [88, 51, 66, 24, 99],\n",
       "       [ 5, 48, 75, 31, 88],\n",
       "       [63, 35, 99, 25, 41],\n",
       "       [19, 25, 51, 56, 33],\n",
       "       [78, 77, 24, 66, 51],\n",
       "       [ 7,  8,  5, 70,  7]])"
      ]
     },
     "execution_count": 30,
     "metadata": {},
     "output_type": "execute_result"
    }
   ],
   "source": [
    "# Random integers in a range \n",
    "\n",
    "# Syntax: np.random.randint(start,end,number of points)\n",
    "np.random.randint(1,100,(10,5)) # Number of points can be a number for 1D vectors or a tuple for 2D vectors"
   ]
  },
  {
   "cell_type": "markdown",
   "metadata": {},
   "source": [
    "##### Reshaping an array"
   ]
  },
  {
   "cell_type": "code",
   "execution_count": 32,
   "metadata": {},
   "outputs": [
    {
     "data": {
      "text/plain": [
       "array([[27, 12, 33, 52, 34],\n",
       "       [11, 46, 12, 23, 95],\n",
       "       [92, 58, 39, 78, 30],\n",
       "       [39, 52, 22, 17, 98]])"
      ]
     },
     "execution_count": 32,
     "metadata": {},
     "output_type": "execute_result"
    }
   ],
   "source": [
    "# Creage an array of 20 random numbers\n",
    "arr = np.random.randint(1,100,20)\n",
    "# Syntax: array.reshape(rows,cols)\n",
    "arr.reshape(4,5) # reshape the array to 4x5 "
   ]
  },
  {
   "cell_type": "code",
   "execution_count": 33,
   "metadata": {},
   "outputs": [
    {
     "ename": "ValueError",
     "evalue": "cannot reshape array of size 20 into shape (7,3)",
     "output_type": "error",
     "traceback": [
      "\u001b[0;31m---------------------------------------------------------------------------\u001b[0m",
      "\u001b[0;31mValueError\u001b[0m                                Traceback (most recent call last)",
      "\u001b[0;32m<ipython-input-33-39053a0cfd6f>\u001b[0m in \u001b[0;36m<module>\u001b[0;34m\u001b[0m\n\u001b[1;32m      1\u001b[0m \u001b[0;31m# Note: The total size of the new array must be unchanged\u001b[0m\u001b[0;34m\u001b[0m\u001b[0;34m\u001b[0m\u001b[0;34m\u001b[0m\u001b[0m\n\u001b[0;32m----> 2\u001b[0;31m \u001b[0marr\u001b[0m\u001b[0;34m.\u001b[0m\u001b[0mreshape\u001b[0m\u001b[0;34m(\u001b[0m\u001b[0;36m7\u001b[0m\u001b[0;34m,\u001b[0m\u001b[0;36m3\u001b[0m\u001b[0;34m)\u001b[0m\u001b[0;34m\u001b[0m\u001b[0;34m\u001b[0m\u001b[0m\n\u001b[0m",
      "\u001b[0;31mValueError\u001b[0m: cannot reshape array of size 20 into shape (7,3)"
     ]
    }
   ],
   "source": [
    "# Note: The total size of the new array must be unchanged\n",
    "arr.reshape(7,3) # (7x3 = 21) != 20"
   ]
  },
  {
   "cell_type": "markdown",
   "metadata": {},
   "source": [
    "###### Getting the maximum and minimum values in the array "
   ]
  },
  {
   "cell_type": "code",
   "execution_count": 35,
   "metadata": {},
   "outputs": [
    {
     "data": {
      "text/plain": [
       "98"
      ]
     },
     "execution_count": 35,
     "metadata": {},
     "output_type": "execute_result"
    }
   ],
   "source": [
    "# Get the maximum value in the array\n",
    "arr.max()"
   ]
  },
  {
   "cell_type": "code",
   "execution_count": 36,
   "metadata": {},
   "outputs": [
    {
     "data": {
      "text/plain": [
       "11"
      ]
     },
     "execution_count": 36,
     "metadata": {},
     "output_type": "execute_result"
    }
   ],
   "source": [
    "# Get the minimum value in the array\n",
    "arr.min()"
   ]
  },
  {
   "cell_type": "code",
   "execution_count": 37,
   "metadata": {},
   "outputs": [
    {
     "data": {
      "text/plain": [
       "19"
      ]
     },
     "execution_count": 37,
     "metadata": {},
     "output_type": "execute_result"
    }
   ],
   "source": [
    "# You can get the index of the maximum and minimum values in an array \n",
    "arr.argmax() # The maximum value 98 has index 19"
   ]
  },
  {
   "cell_type": "code",
   "execution_count": 38,
   "metadata": {},
   "outputs": [
    {
     "data": {
      "text/plain": [
       "5"
      ]
     },
     "execution_count": 38,
     "metadata": {},
     "output_type": "execute_result"
    }
   ],
   "source": [
    "arr.argmin() # The minimum value 11 has index 5"
   ]
  },
  {
   "cell_type": "markdown",
   "metadata": {},
   "source": [
    "###### Find out the shape of an array"
   ]
  },
  {
   "cell_type": "code",
   "execution_count": 40,
   "metadata": {},
   "outputs": [
    {
     "data": {
      "text/plain": [
       "(20,)"
      ]
     },
     "execution_count": 40,
     "metadata": {},
     "output_type": "execute_result"
    }
   ],
   "source": [
    "arr.shape # 1D Vector with 20 elements"
   ]
  },
  {
   "cell_type": "code",
   "execution_count": 41,
   "metadata": {},
   "outputs": [
    {
     "data": {
      "text/plain": [
       "(4, 5)"
      ]
     },
     "execution_count": 41,
     "metadata": {},
     "output_type": "execute_result"
    }
   ],
   "source": [
    "arr = arr.reshape(4,5) # arr is now a 2D array with 4 rows and 5 cols\n",
    "arr.shape "
   ]
  },
  {
   "cell_type": "markdown",
   "metadata": {},
   "source": [
    "#### Array indexing\n",
    "\n",
    "Forward indexing `array[0,1, ..., n-1]`\n",
    "\n",
    "Backward indexing `array[-n, ..., -2, -1]`"
   ]
  },
  {
   "cell_type": "code",
   "execution_count": 73,
   "metadata": {},
   "outputs": [
    {
     "name": "stdout",
     "output_type": "stream",
     "text": [
      "[10 11 12 13 14 15 16 17 18 19]\n"
     ]
    },
    {
     "data": {
      "text/plain": [
       "13"
      ]
     },
     "execution_count": 73,
     "metadata": {},
     "output_type": "execute_result"
    }
   ],
   "source": [
    "arr2 = np.arange(10,20)\n",
    "print(arr2)\n",
    "# Syntax: array[index]\n",
    "arr2[3] # Get the element at index 3"
   ]
  },
  {
   "cell_type": "code",
   "execution_count": 48,
   "metadata": {},
   "outputs": [
    {
     "name": "stdout",
     "output_type": "stream",
     "text": [
      "[[27 12 33 52 34]\n",
      " [11 46 12 23 95]\n",
      " [92 58 39 78 30]\n",
      " [39 52 22 17 98]]\n"
     ]
    },
    {
     "data": {
      "text/plain": [
       "array([39, 52, 22, 17, 98])"
      ]
     },
     "execution_count": 48,
     "metadata": {},
     "output_type": "execute_result"
    }
   ],
   "source": [
    "print(arr)\n",
    "# Syntax: array[row index][col index]\n",
    "arr[3] # Get the 4th row "
   ]
  },
  {
   "cell_type": "code",
   "execution_count": 51,
   "metadata": {},
   "outputs": [
    {
     "data": {
      "text/plain": [
       "23"
      ]
     },
     "execution_count": 51,
     "metadata": {},
     "output_type": "execute_result"
    }
   ],
   "source": [
    "arr[1][3] # Get the fourth item in the second row"
   ]
  },
  {
   "cell_type": "code",
   "execution_count": 81,
   "metadata": {},
   "outputs": [
    {
     "data": {
      "text/plain": [
       "23"
      ]
     },
     "execution_count": 81,
     "metadata": {},
     "output_type": "execute_result"
    }
   ],
   "source": [
    "# You can also use single bracket notation to index 2D arrays\n",
    "# Syntax: array[row,col]\n",
    "arr[1,3]"
   ]
  },
  {
   "cell_type": "markdown",
   "metadata": {},
   "source": [
    "###### Array Slicing"
   ]
  },
  {
   "cell_type": "code",
   "execution_count": 53,
   "metadata": {},
   "outputs": [
    {
     "name": "stdout",
     "output_type": "stream",
     "text": [
      "[10 11 12 13 14 15 16 17 18 19]\n"
     ]
    },
    {
     "data": {
      "text/plain": [
       "array([13, 14, 15, 16])"
      ]
     },
     "execution_count": 53,
     "metadata": {},
     "output_type": "execute_result"
    }
   ],
   "source": [
    "print(arr2)\n",
    "arr2[3:7] # Get the 4,5,6,7th items"
   ]
  },
  {
   "cell_type": "code",
   "execution_count": 62,
   "metadata": {},
   "outputs": [
    {
     "name": "stdout",
     "output_type": "stream",
     "text": [
      "[[27 12 33 52 34]\n",
      " [11 46 12 23 95]\n",
      " [92 58 39 78 30]\n",
      " [39 52 22 17 98]]\n"
     ]
    },
    {
     "data": {
      "text/plain": [
       "array([[11, 46, 12, 23, 95],\n",
       "       [92, 58, 39, 78, 30]])"
      ]
     },
     "execution_count": 62,
     "metadata": {},
     "output_type": "execute_result"
    }
   ],
   "source": [
    "print(arr)\n",
    "arr[1:3] # Get the second and third rows"
   ]
  },
  {
   "cell_type": "code",
   "execution_count": 63,
   "metadata": {},
   "outputs": [
    {
     "data": {
      "text/plain": [
       "array([15, 16, 17, 18, 19])"
      ]
     },
     "execution_count": 63,
     "metadata": {},
     "output_type": "execute_result"
    }
   ],
   "source": [
    "arr2[-5:] # get the last 5 items"
   ]
  },
  {
   "cell_type": "code",
   "execution_count": 85,
   "metadata": {},
   "outputs": [
    {
     "name": "stdout",
     "output_type": "stream",
     "text": [
      "[[27 12 33 52 34]\n",
      " [11 46 12 23 95]\n",
      " [92 58 39 78 30]\n",
      " [39 52 22 17 98]]\n"
     ]
    },
    {
     "data": {
      "text/plain": [
       "array([[52, 34],\n",
       "       [23, 95]])"
      ]
     },
     "execution_count": 85,
     "metadata": {},
     "output_type": "execute_result"
    }
   ],
   "source": [
    "# You van grab subsections of arrays\n",
    "\n",
    "# Grab the top 2x2 right corner of arr\n",
    "print(arr)\n",
    "# Syntax: array[rowstart:rowend, colstart:colend]\n",
    "arr[:2,-2:] # Grab the items in the first two rows and last two columns"
   ]
  },
  {
   "cell_type": "markdown",
   "metadata": {},
   "source": [
    "#### Broadcasting\n",
    "\n",
    "You can change values in a NumPy array with broadcasting"
   ]
  },
  {
   "cell_type": "code",
   "execution_count": 75,
   "metadata": {},
   "outputs": [
    {
     "name": "stdout",
     "output_type": "stream",
     "text": [
      "[10 11 12 13 14 15 16 17 18 19]\n",
      "[ 10  11  12  13 100 100 100  17  18  19]\n"
     ]
    }
   ],
   "source": [
    "print(arr2)\n",
    "# Broadcast elements in positions 4,5,6 to 100\n",
    "arr2[4:7] = 100\n",
    "print(arr2)"
   ]
  },
  {
   "cell_type": "code",
   "execution_count": 77,
   "metadata": {},
   "outputs": [
    {
     "name": "stdout",
     "output_type": "stream",
     "text": [
      "[47 47 47]\n",
      "[10 11 12 13 47 47 47 17 18 19]\n"
     ]
    }
   ],
   "source": [
    "# Note: Broadcasting on array slices affects the original array (the slice is just a view of the original array)\n",
    "\n",
    "# Grab a slice of the array\n",
    "arr2_slice = arr2[4:7]\n",
    "# Change the values in the slice to 47\n",
    "arr2_slice[:] = 47\n",
    "# Show the changed values in slice\n",
    "print(arr2_slice)\n",
    "# Values are also changed in original array\n",
    "print(arr2)"
   ]
  },
  {
   "cell_type": "code",
   "execution_count": 80,
   "metadata": {},
   "outputs": [
    {
     "name": "stdout",
     "output_type": "stream",
     "text": [
      "[17 18 19]\n",
      "[42 42 42]\n",
      "[10 11 12 13 47 47 47 17 18 19]\n"
     ]
    }
   ],
   "source": [
    "# To leave original array values unchanged\n",
    "\n",
    "# Copy values into separate array\n",
    "# Syntax: array.copy()\n",
    "copy_arr2 = arr2.copy()[7:] \n",
    "print(copy_arr2)\n",
    "# Change the values in the copy\n",
    "copy_arr2[:] = 42\n",
    "# Values change in the copy \n",
    "print(copy_arr2)\n",
    "# Values don't change in the original\n",
    "print(arr2)"
   ]
  },
  {
   "cell_type": "code",
   "execution_count": null,
   "metadata": {},
   "outputs": [],
   "source": []
  }
 ],
 "metadata": {
  "kernelspec": {
   "display_name": "Python 3",
   "language": "python",
   "name": "python3"
  },
  "language_info": {
   "codemirror_mode": {
    "name": "ipython",
    "version": 3
   },
   "file_extension": ".py",
   "mimetype": "text/x-python",
   "name": "python",
   "nbconvert_exporter": "python",
   "pygments_lexer": "ipython3",
   "version": "3.8.3"
  }
 },
 "nbformat": 4,
 "nbformat_minor": 4
}
