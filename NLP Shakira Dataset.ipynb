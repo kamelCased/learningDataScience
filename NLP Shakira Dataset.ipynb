{
 "cells": [
  {
   "cell_type": "markdown",
   "metadata": {},
   "source": [
    "# NLP Shakira Dataset"
   ]
  },
  {
   "cell_type": "code",
   "execution_count": 1,
   "metadata": {},
   "outputs": [],
   "source": [
    "import numpy as np\n",
    "import pandas as pd"
   ]
  },
  {
   "cell_type": "markdown",
   "metadata": {},
   "source": [
    "## Get data"
   ]
  },
  {
   "cell_type": "code",
   "execution_count": 2,
   "metadata": {},
   "outputs": [
    {
     "name": "stdout",
     "output_type": "stream",
     "text": [
      "<class 'pandas.core.frame.DataFrame'>\n",
      "RangeIndex: 370 entries, 0 to 369\n",
      "Data columns (total 5 columns):\n",
      " #   Column      Non-Null Count  Dtype \n",
      "---  ------      --------------  ----- \n",
      " 0   COMMENT_ID  370 non-null    object\n",
      " 1   AUTHOR      370 non-null    object\n",
      " 2   DATE        370 non-null    object\n",
      " 3   CONTENT     370 non-null    object\n",
      " 4   CLASS       370 non-null    int64 \n",
      "dtypes: int64(1), object(4)\n",
      "memory usage: 14.6+ KB\n"
     ]
    }
   ],
   "source": [
    "df = pd.read_csv('files/Youtube05-Shakira.csv')\n",
    "df.info() # 370 comments and their class"
   ]
  },
  {
   "cell_type": "code",
   "execution_count": 3,
   "metadata": {},
   "outputs": [
    {
     "data": {
      "text/html": [
       "<div>\n",
       "<style scoped>\n",
       "    .dataframe tbody tr th:only-of-type {\n",
       "        vertical-align: middle;\n",
       "    }\n",
       "\n",
       "    .dataframe tbody tr th {\n",
       "        vertical-align: top;\n",
       "    }\n",
       "\n",
       "    .dataframe thead th {\n",
       "        text-align: right;\n",
       "    }\n",
       "</style>\n",
       "<table border=\"1\" class=\"dataframe\">\n",
       "  <thead>\n",
       "    <tr style=\"text-align: right;\">\n",
       "      <th></th>\n",
       "      <th>COMMENT_ID</th>\n",
       "      <th>AUTHOR</th>\n",
       "      <th>DATE</th>\n",
       "      <th>CONTENT</th>\n",
       "      <th>CLASS</th>\n",
       "    </tr>\n",
       "  </thead>\n",
       "  <tbody>\n",
       "    <tr>\n",
       "      <th>0</th>\n",
       "      <td>z13lgffb5w3ddx1ul22qy1wxspy5cpkz504</td>\n",
       "      <td>dharma pal</td>\n",
       "      <td>2015-05-29T02:30:18.971000</td>\n",
       "      <td>Nice song﻿</td>\n",
       "      <td>0</td>\n",
       "    </tr>\n",
       "    <tr>\n",
       "      <th>1</th>\n",
       "      <td>z123dbgb0mqjfxbtz22ucjc5jvzcv3ykj</td>\n",
       "      <td>Tiza Arellano</td>\n",
       "      <td>2015-05-29T00:14:48.748000</td>\n",
       "      <td>I love song ﻿</td>\n",
       "      <td>0</td>\n",
       "    </tr>\n",
       "    <tr>\n",
       "      <th>2</th>\n",
       "      <td>z12quxxp2vutflkxv04cihggzt2azl34pms0k</td>\n",
       "      <td>Prìñçeśś Âliś Łøvê Dømíñø Mâđiś™ ﻿</td>\n",
       "      <td>2015-05-28T21:00:08.607000</td>\n",
       "      <td>I love song ﻿</td>\n",
       "      <td>0</td>\n",
       "    </tr>\n",
       "    <tr>\n",
       "      <th>3</th>\n",
       "      <td>z12icv3ysqvlwth2c23eddlykyqut5z1h</td>\n",
       "      <td>Eric Gonzalez</td>\n",
       "      <td>2015-05-28T20:47:12.193000</td>\n",
       "      <td>860,000,000 lets make it first female to reach...</td>\n",
       "      <td>0</td>\n",
       "    </tr>\n",
       "    <tr>\n",
       "      <th>4</th>\n",
       "      <td>z133stly3kete3tly22petvwdpmghrlli</td>\n",
       "      <td>Analena López</td>\n",
       "      <td>2015-05-28T17:08:29.827000</td>\n",
       "      <td>shakira is best for worldcup﻿</td>\n",
       "      <td>0</td>\n",
       "    </tr>\n",
       "  </tbody>\n",
       "</table>\n",
       "</div>"
      ],
      "text/plain": [
       "                              COMMENT_ID                              AUTHOR  \\\n",
       "0    z13lgffb5w3ddx1ul22qy1wxspy5cpkz504                          dharma pal   \n",
       "1      z123dbgb0mqjfxbtz22ucjc5jvzcv3ykj                       Tiza Arellano   \n",
       "2  z12quxxp2vutflkxv04cihggzt2azl34pms0k  Prìñçeśś Âliś Łøvê Dømíñø Mâđiś™ ﻿   \n",
       "3      z12icv3ysqvlwth2c23eddlykyqut5z1h                       Eric Gonzalez   \n",
       "4      z133stly3kete3tly22petvwdpmghrlli                       Analena López   \n",
       "\n",
       "                         DATE  \\\n",
       "0  2015-05-29T02:30:18.971000   \n",
       "1  2015-05-29T00:14:48.748000   \n",
       "2  2015-05-28T21:00:08.607000   \n",
       "3  2015-05-28T20:47:12.193000   \n",
       "4  2015-05-28T17:08:29.827000   \n",
       "\n",
       "                                             CONTENT  CLASS  \n",
       "0                                         Nice song﻿      0  \n",
       "1                                      I love song ﻿      0  \n",
       "2                                      I love song ﻿      0  \n",
       "3  860,000,000 lets make it first female to reach...      0  \n",
       "4                      shakira is best for worldcup﻿      0  "
      ]
     },
     "execution_count": 3,
     "metadata": {},
     "output_type": "execute_result"
    }
   ],
   "source": [
    "df.head()"
   ]
  },
  {
   "cell_type": "markdown",
   "metadata": {},
   "source": [
    "## Some EDA\n",
    "\n",
    "#### Target class breakdown"
   ]
  },
  {
   "cell_type": "code",
   "execution_count": 8,
   "metadata": {},
   "outputs": [
    {
     "data": {
      "text/plain": [
       "0    196\n",
       "1    174\n",
       "Name: CLASS, dtype: int64"
      ]
     },
     "execution_count": 8,
     "metadata": {},
     "output_type": "execute_result"
    }
   ],
   "source": [
    "df['CLASS'].value_counts() # 196 in class 0 and 174 in class 1. "
   ]
  },
  {
   "cell_type": "code",
   "execution_count": 10,
   "metadata": {},
   "outputs": [
    {
     "data": {
      "text/html": [
       "<div>\n",
       "<style scoped>\n",
       "    .dataframe tbody tr th:only-of-type {\n",
       "        vertical-align: middle;\n",
       "    }\n",
       "\n",
       "    .dataframe tbody tr th {\n",
       "        vertical-align: top;\n",
       "    }\n",
       "\n",
       "    .dataframe thead th {\n",
       "        text-align: right;\n",
       "    }\n",
       "</style>\n",
       "<table border=\"1\" class=\"dataframe\">\n",
       "  <thead>\n",
       "    <tr style=\"text-align: right;\">\n",
       "      <th></th>\n",
       "      <th>COMMENT_ID</th>\n",
       "      <th>AUTHOR</th>\n",
       "      <th>DATE</th>\n",
       "      <th>CONTENT</th>\n",
       "      <th>CLASS</th>\n",
       "    </tr>\n",
       "  </thead>\n",
       "  <tbody>\n",
       "    <tr>\n",
       "      <th>7</th>\n",
       "      <td>z12uujnj2sifvzvav04chpypvofvexpoggg</td>\n",
       "      <td>Sudheer Yadav</td>\n",
       "      <td>2015-05-28T10:28:25.133000</td>\n",
       "      <td>SEE SOME MORE SONG OPEN GOOGLE AND TYPE Shakir...</td>\n",
       "      <td>1</td>\n",
       "    </tr>\n",
       "    <tr>\n",
       "      <th>22</th>\n",
       "      <td>z13zjlpo2nbehxwf322gelhzwmqwgn1mt</td>\n",
       "      <td>Raafat saeed</td>\n",
       "      <td>2015-05-27T04:19:29.178000</td>\n",
       "      <td>Check out this playlist on YouTube:﻿</td>\n",
       "      <td>1</td>\n",
       "    </tr>\n",
       "    <tr>\n",
       "      <th>31</th>\n",
       "      <td>z13uhhxp5nvig15yc04citszvtagwtmpqcc</td>\n",
       "      <td>Terry Short</td>\n",
       "      <td>2015-05-26T14:33:52.496000</td>\n",
       "      <td>Support the fight for your 4th amendment right...</td>\n",
       "      <td>1</td>\n",
       "    </tr>\n",
       "    <tr>\n",
       "      <th>36</th>\n",
       "      <td>z13gv1bxbuytgjl3o23fdr5r3kaadbbm1</td>\n",
       "      <td>‫حلم الشباب‬‎</td>\n",
       "      <td>2015-05-25T23:42:49.533000</td>\n",
       "      <td>Check out this video on YouTube:﻿</td>\n",
       "      <td>1</td>\n",
       "    </tr>\n",
       "    <tr>\n",
       "      <th>51</th>\n",
       "      <td>z12bfraboyajftgbz04ccbkr3xjxfxyxsew</td>\n",
       "      <td>Abdullah Fawzi</td>\n",
       "      <td>2015-05-25T06:25:22.319000</td>\n",
       "      <td>coby this USL and past :&lt;br /&gt;&lt;a href=\"http://...</td>\n",
       "      <td>1</td>\n",
       "    </tr>\n",
       "  </tbody>\n",
       "</table>\n",
       "</div>"
      ],
      "text/plain": [
       "                             COMMENT_ID          AUTHOR  \\\n",
       "7   z12uujnj2sifvzvav04chpypvofvexpoggg   Sudheer Yadav   \n",
       "22    z13zjlpo2nbehxwf322gelhzwmqwgn1mt    Raafat saeed   \n",
       "31  z13uhhxp5nvig15yc04citszvtagwtmpqcc     Terry Short   \n",
       "36    z13gv1bxbuytgjl3o23fdr5r3kaadbbm1   ‫حلم الشباب‬‎   \n",
       "51  z12bfraboyajftgbz04ccbkr3xjxfxyxsew  Abdullah Fawzi   \n",
       "\n",
       "                          DATE  \\\n",
       "7   2015-05-28T10:28:25.133000   \n",
       "22  2015-05-27T04:19:29.178000   \n",
       "31  2015-05-26T14:33:52.496000   \n",
       "36  2015-05-25T23:42:49.533000   \n",
       "51  2015-05-25T06:25:22.319000   \n",
       "\n",
       "                                              CONTENT  CLASS  \n",
       "7   SEE SOME MORE SONG OPEN GOOGLE AND TYPE Shakir...      1  \n",
       "22               Check out this playlist on YouTube:﻿      1  \n",
       "31  Support the fight for your 4th amendment right...      1  \n",
       "36                  Check out this video on YouTube:﻿      1  \n",
       "51  coby this USL and past :<br /><a href=\"http://...      1  "
      ]
     },
     "execution_count": 10,
     "metadata": {},
     "output_type": "execute_result"
    }
   ],
   "source": [
    "df[df['CLASS'] == 1].head() # so class 0 is ham, class 1 is spam"
   ]
  },
  {
   "cell_type": "markdown",
   "metadata": {},
   "source": [
    "#### Comment length"
   ]
  },
  {
   "cell_type": "code",
   "execution_count": 11,
   "metadata": {},
   "outputs": [],
   "source": [
    "df['length'] = df['CONTENT'].apply(len)"
   ]
  },
  {
   "cell_type": "code",
   "execution_count": 12,
   "metadata": {},
   "outputs": [
    {
     "data": {
      "text/plain": [
       "<seaborn.axisgrid.FacetGrid at 0x7fb845c56ac0>"
      ]
     },
     "execution_count": 12,
     "metadata": {},
     "output_type": "execute_result"
    },
    {
     "data": {
      "image/png": "[encoded data removed]",
      "text/plain": [
       "<Figure size 402.375x360 with 1 Axes>"
      ]
     },
     "metadata": {
      "needs_background": "light"
     },
     "output_type": "display_data"
    }
   ],
   "source": [
    "sns.displot(data=df, x='length', hue='CLASS') # spam comments tend to be longer"
   ]
  },
  {
   "cell_type": "markdown",
   "metadata": {},
   "source": [
    "## Preprocessing "
   ]
  },
  {
   "cell_type": "code",
   "execution_count": 13,
   "metadata": {},
   "outputs": [],
   "source": [
    "import string\n",
    "from nltk.corpus import stopwords\n",
    "from sklearn.feature_extraction.text import CountVectorizer\n",
    "from sklearn.feature_extraction.text import TfidfTransformer"
   ]
  },
  {
   "cell_type": "code",
   "execution_count": 14,
   "metadata": {},
   "outputs": [],
   "source": [
    "# Function that tokenizes text message\n",
    "def text_process(review):\n",
    "    \"\"\" \n",
    "    1. Remove punctuation\n",
    "    2. Remove stop words\n",
    "    3. Return list of clean text words\n",
    "    Opt: For future, also do stemming (break down words into stems to add up derived words) and other text normalization methods\n",
    "    \"\"\"\n",
    "    # Remove punctuation\n",
    "    nopunc = [char for char in review if char not in string.punctuation]\n",
    "    nopunc = ''.join(nopunc)\n",
    "    # Remove stop words\n",
    "    clean = [word for word in nopunc.split() if word.lower() not in stopwords.words('English')]\n",
    "    # Return list of clean words\n",
    "    return clean"
   ]
  },
  {
   "cell_type": "markdown",
   "metadata": {},
   "source": [
    "## Split data into train and test "
   ]
  },
  {
   "cell_type": "code",
   "execution_count": 15,
   "metadata": {},
   "outputs": [],
   "source": [
    "from sklearn.model_selection import train_test_split"
   ]
  },
  {
   "cell_type": "code",
   "execution_count": 16,
   "metadata": {},
   "outputs": [],
   "source": [
    "X = df['CONTENT'] \n",
    "y = df['CLASS']\n",
    "\n",
    "X_train_valid, X_test, y_train_valid, y_test = train_test_split(X, y, test_size=0.25)\n",
    "X_train, X_valid, y_train, y_valid = train_test_split(X_train_valid, y_train_valid, test_size=0.3)"
   ]
  },
  {
   "cell_type": "markdown",
   "metadata": {},
   "source": [
    "## Modelling"
   ]
  },
  {
   "cell_type": "markdown",
   "metadata": {},
   "source": [
    "### Logistic Regression \n",
    "\n",
    "#### Build and train model"
   ]
  },
  {
   "cell_type": "code",
   "execution_count": 17,
   "metadata": {},
   "outputs": [],
   "source": [
    "from sklearn.linear_model import LogisticRegression"
   ]
  },
  {
   "cell_type": "code",
   "execution_count": 18,
   "metadata": {},
   "outputs": [],
   "source": [
    "from sklearn.pipeline import Pipeline"
   ]
  },
  {
   "cell_type": "code",
   "execution_count": 19,
   "metadata": {},
   "outputs": [],
   "source": [
    "# build pipeline\n",
    "lr_pipeline = Pipeline([\n",
    "    # (step_name, what_to_do)\n",
    "    \n",
    "    # Step 1: Turn corpus into bag of words \n",
    "    ('bow', CountVectorizer(analyzer=text_process)),\n",
    "    \n",
    "    # Step 2: Give TF-IDF weights to bag of words\n",
    "    ('tfidf', TfidfTransformer()),\n",
    "    \n",
    "    # Step 3: Fit classification model\n",
    "    ('classifier', LogisticRegression(max_iter=2000))\n",
    "])"
   ]
  },
  {
   "cell_type": "code",
   "execution_count": 20,
   "metadata": {},
   "outputs": [
    {
     "data": {
      "text/plain": [
       "Pipeline(steps=[('bow',\n",
       "                 CountVectorizer(analyzer=<function text_process at 0x7fb8471a0c10>)),\n",
       "                ('tfidf', TfidfTransformer()),\n",
       "                ('classifier', LogisticRegression(max_iter=2000))])"
      ]
     },
     "execution_count": 20,
     "metadata": {},
     "output_type": "execute_result"
    }
   ],
   "source": [
    "lr_pipeline.fit(X_train, y_train)"
   ]
  },
  {
   "cell_type": "markdown",
   "metadata": {},
   "source": [
    "#### Make predictions "
   ]
  },
  {
   "cell_type": "code",
   "execution_count": 21,
   "metadata": {},
   "outputs": [],
   "source": [
    "lr_pred = lr_pipeline.predict(X_valid)"
   ]
  },
  {
   "cell_type": "markdown",
   "metadata": {},
   "source": [
    "#### Evaluate model performance"
   ]
  },
  {
   "cell_type": "code",
   "execution_count": 22,
   "metadata": {},
   "outputs": [],
   "source": [
    "from sklearn.metrics import confusion_matrix, classification_report"
   ]
  },
  {
   "cell_type": "code",
   "execution_count": 23,
   "metadata": {},
   "outputs": [
    {
     "data": {
      "text/plain": [
       "<AxesSubplot:>"
      ]
     },
     "execution_count": 23,
     "metadata": {},
     "output_type": "execute_result"
    },
    {
     "data": {
      "image/png": "[encoded data removed]",
      "text/plain": [
       "<Figure size 432x288 with 2 Axes>"
      ]
     },
     "metadata": {
      "needs_background": "light"
     },
     "output_type": "display_data"
    }
   ],
   "source": [
    "# 40 TN 3 FP, 4 FN, 37 TP\n",
    "sns.heatmap(confusion_matrix(y_valid, lr_pred), annot=True, fmt='g')"
   ]
  },
  {
   "cell_type": "code",
   "execution_count": 24,
   "metadata": {},
   "outputs": [
    {
     "name": "stdout",
     "output_type": "stream",
     "text": [
      "              precision    recall  f1-score   support\n",
      "\n",
      "           0       0.91      0.93      0.92        43\n",
      "           1       0.93      0.90      0.91        41\n",
      "\n",
      "    accuracy                           0.92        84\n",
      "   macro avg       0.92      0.92      0.92        84\n",
      "weighted avg       0.92      0.92      0.92        84\n",
      "\n"
     ]
    }
   ],
   "source": [
    "# 92% accuracy, precision, recall, f1 score\n",
    "print(classification_report(y_valid, lr_pred))"
   ]
  },
  {
   "cell_type": "markdown",
   "metadata": {},
   "source": [
    "### K Nearest Neighbors\n",
    "\n",
    "#### Build and train model"
   ]
  },
  {
   "cell_type": "code",
   "execution_count": 25,
   "metadata": {},
   "outputs": [],
   "source": [
    "from sklearn.neighbors import KNeighborsClassifier"
   ]
  },
  {
   "cell_type": "code",
   "execution_count": 26,
   "metadata": {},
   "outputs": [],
   "source": [
    "# build pipeline\n",
    "knn_pipeline = Pipeline([\n",
    "    # (step_name, what_to_do)\n",
    "    \n",
    "    # Step 1: Turn corpus into bag of words \n",
    "    ('bow', CountVectorizer(analyzer=text_process)),\n",
    "    \n",
    "    # Step 2: Give TF-IDF weights to bag of words\n",
    "    ('tfidf', TfidfTransformer()),\n",
    "    \n",
    "    # Step 3: Fit classification model\n",
    "    ('classifier', KNeighborsClassifier())\n",
    "])"
   ]
  },
  {
   "cell_type": "code",
   "execution_count": 27,
   "metadata": {},
   "outputs": [
    {
     "data": {
      "text/plain": [
       "Pipeline(steps=[('bow',\n",
       "                 CountVectorizer(analyzer=<function text_process at 0x7fb8471a0c10>)),\n",
       "                ('tfidf', TfidfTransformer()),\n",
       "                ('classifier', KNeighborsClassifier())])"
      ]
     },
     "execution_count": 27,
     "metadata": {},
     "output_type": "execute_result"
    }
   ],
   "source": [
    "knn_pipeline.fit(X_train,y_train)"
   ]
  },
  {
   "cell_type": "markdown",
   "metadata": {},
   "source": [
    "#### Make predictions "
   ]
  },
  {
   "cell_type": "code",
   "execution_count": 28,
   "metadata": {},
   "outputs": [],
   "source": [
    "knn_pred = knn_pipeline.predict(X_valid)"
   ]
  },
  {
   "cell_type": "markdown",
   "metadata": {},
   "source": [
    "#### Evaluate model performance"
   ]
  },
  {
   "cell_type": "code",
   "execution_count": 29,
   "metadata": {},
   "outputs": [
    {
     "data": {
      "text/plain": [
       "<AxesSubplot:>"
      ]
     },
     "execution_count": 29,
     "metadata": {},
     "output_type": "execute_result"
    },
    {
     "data": {
      "image/png": "[encoded data removed]",
      "text/plain": [
       "<Figure size 432x288 with 2 Axes>"
      ]
     },
     "metadata": {
      "needs_background": "light"
     },
     "output_type": "display_data"
    }
   ],
   "source": [
    "# 41 TN 2 FP, 12 FN, 29 TP\n",
    "sns.heatmap(confusion_matrix(y_valid,knn_pred), annot=True, fmt='g')"
   ]
  },
  {
   "cell_type": "code",
   "execution_count": 30,
   "metadata": {},
   "outputs": [
    {
     "name": "stdout",
     "output_type": "stream",
     "text": [
      "              precision    recall  f1-score   support\n",
      "\n",
      "           0       0.77      0.95      0.85        43\n",
      "           1       0.94      0.71      0.81        41\n",
      "\n",
      "    accuracy                           0.83        84\n",
      "   macro avg       0.85      0.83      0.83        84\n",
      "weighted avg       0.85      0.83      0.83        84\n",
      "\n"
     ]
    }
   ],
   "source": [
    "# 83% accuracy, 85% precision, 83% recall, 83% f1 score\n",
    "print(classification_report(y_valid, knn_pred))"
   ]
  },
  {
   "cell_type": "markdown",
   "metadata": {},
   "source": [
    "#### Tune hyperparameter"
   ]
  },
  {
   "cell_type": "code",
   "execution_count": 36,
   "metadata": {},
   "outputs": [],
   "source": [
    "error_rates = []\n",
    "\n",
    "for k in range(1,100):\n",
    "    # build pipeline\n",
    "    knn_pipeline = Pipeline([\n",
    "        # (step_name, what_to_do)\n",
    "\n",
    "        # Step 1: Turn corpus into bag of words \n",
    "        ('bow', CountVectorizer(analyzer=text_process)),\n",
    "\n",
    "        # Step 2: Give TF-IDF weights to bag of words\n",
    "        ('tfidf', TfidfTransformer()),\n",
    "\n",
    "        # Step 3: Fit classification model\n",
    "        ('classifier', KNeighborsClassifier(n_neighbors=k))\n",
    "    ])\n",
    "    # fit \n",
    "    knn_pipeline.fit(X_train,y_train)\n",
    "    # predict\n",
    "    knn_pred = knn_pipeline.predict(X_valid)\n",
    "    # calculate error\n",
    "    err = np.mean(y_valid != knn_pred)\n",
    "    error_rates.append(err)"
   ]
  },
  {
   "cell_type": "code",
   "execution_count": 37,
   "metadata": {},
   "outputs": [
    {
     "data": {
      "application/vnd.plotly.v1+json": {
       "config": {
        "plotlyServerURL": "https://plot.ly"
       },
       "data": [
        {
         "hovertemplate": "K=%{x}<br>Error Rate=%{y}<extra></extra>",
         "legendgroup": "",
         "line": {
          "color": "#636efa",
          "dash": "solid"
         },
         "mode": "lines",
         "name": "",
         "orientation": "v",
         "showlegend": false,
         "type": "scatter",
         "x": [
          1,
          2,
          3,
          4,
          5,
          6,
          7,
          8,
          9,
          10,
          11,
          12,
          13,
          14,
          15,
          16,
          17,
          18,
          19,
          20,
          21,
          22,
          23,
          24,
          25,
          26,
          27,
          28,
          29,
          30,
          31,
          32,
          33,
          34,
          35,
          36,
          37,
          38,
          39,
          40,
          41,
          42,
          43,
          44,
          45,
          46,
          47,
          48,
          49,
          50,
          51,
          52,
          53,
          54,
          55,
          56,
          57,
          58,
          59,
          60,
          61,
          62,
          63,
          64,
          65,
          66,
          67,
          68,
          69,
          70,
          71,
          72,
          73,
          74,
          75,
          76,
          77,
          78,
          79,
          80,
          81,
          82,
          83,
          84,
          85,
          86,
          87,
          88,
          89,
          90,
          91,
          92,
          93,
          94,
          95,
          96,
          97,
          98,
          99
         ],
         "xaxis": "x",
         "y": [
          0.25,
          0.38095238095238093,
          0.38095238095238093,
          0.39285714285714285,
          0.16666666666666666,
          0.19047619047619047,
          0.19047619047619047,
          0.20238095238095238,
          0.2261904761904762,
          0.2261904761904762,
          0.21428571428571427,
          0.21428571428571427,
          0.23809523809523808,
          0.25,
          0.25,
          0.2261904761904762,
          0.27380952380952384,
          0.21428571428571427,
          0.2857142857142857,
          0.21428571428571427,
          0.2619047619047619,
          0.2261904761904762,
          0.25,
          0.20238095238095238,
          0.23809523809523808,
          0.17857142857142858,
          0.21428571428571427,
          0.16666666666666666,
          0.17857142857142858,
          0.17857142857142858,
          0.19047619047619047,
          0.15476190476190477,
          0.16666666666666666,
          0.17857142857142858,
          0.20238095238095238,
          0.16666666666666666,
          0.16666666666666666,
          0.14285714285714285,
          0.14285714285714285,
          0.17857142857142858,
          0.17857142857142858,
          0.17857142857142858,
          0.16666666666666666,
          0.16666666666666666,
          0.21428571428571427,
          0.19047619047619047,
          0.21428571428571427,
          0.17857142857142858,
          0.20238095238095238,
          0.20238095238095238,
          0.2261904761904762,
          0.21428571428571427,
          0.2261904761904762,
          0.21428571428571427,
          0.21428571428571427,
          0.2261904761904762,
          0.20238095238095238,
          0.17857142857142858,
          0.21428571428571427,
          0.17857142857142858,
          0.16666666666666666,
          0.19047619047619047,
          0.15476190476190477,
          0.14285714285714285,
          0.15476190476190477,
          0.15476190476190477,
          0.15476190476190477,
          0.13095238095238096,
          0.15476190476190477,
          0.19047619047619047,
          0.16666666666666666,
          0.13095238095238096,
          0.15476190476190477,
          0.14285714285714285,
          0.16666666666666666,
          0.14285714285714285,
          0.15476190476190477,
          0.14285714285714285,
          0.16666666666666666,
          0.15476190476190477,
          0.16666666666666666,
          0.14285714285714285,
          0.15476190476190477,
          0.15476190476190477,
          0.14285714285714285,
          0.15476190476190477,
          0.14285714285714285,
          0.19047619047619047,
          0.19047619047619047,
          0.20238095238095238,
          0.2261904761904762,
          0.20238095238095238,
          0.19047619047619047,
          0.20238095238095238,
          0.17857142857142858,
          0.17857142857142858,
          0.15476190476190477,
          0.16666666666666666,
          0.17857142857142858
         ],
         "yaxis": "y"
        }
       ],
       "layout": {
        "legend": {
         "tracegroupgap": 0
        },
        "template": {
         "data": {
          "bar": [
           {
            "error_x": {
             "color": "#2a3f5f"
            },
            "error_y": {
             "color": "#2a3f5f"
            },
            "marker": {
             "line": {
              "color": "#E5ECF6",
              "width": 0.5
             }
            },
            "type": "bar"
           }
          ],
          "barpolar": [
           {
            "marker": {
             "line": {
              "color": "#E5ECF6",
              "width": 0.5
             }
            },
            "type": "barpolar"
           }
          ],
          "carpet": [
           {
            "aaxis": {
             "endlinecolor": "#2a3f5f",
             "gridcolor": "white",
             "linecolor": "white",
             "minorgridcolor": "white",
             "startlinecolor": "#2a3f5f"
            },
            "baxis": {
             "endlinecolor": "#2a3f5f",
             "gridcolor": "white",
             "linecolor": "white",
             "minorgridcolor": "white",
             "startlinecolor": "#2a3f5f"
            },
            "type": "carpet"
           }
          ],
          "choropleth": [
           {
            "colorbar": {
             "outlinewidth": 0,
             "ticks": ""
            },
            "type": "choropleth"
           }
          ],
          "contour": [
           {
            "colorbar": {
             "outlinewidth": 0,
             "ticks": ""
            },
            "colorscale": [
             [
              0,
              "#0d0887"
             ],
             [
              0.1111111111111111,
              "#46039f"
             ],
             [
              0.2222222222222222,
              "#7201a8"
             ],
             [
              0.3333333333333333,
              "#9c179e"
             ],
             [
              0.4444444444444444,
              "#bd3786"
             ],
             [
              0.5555555555555556,
              "#d8576b"
             ],
             [
              0.6666666666666666,
              "#ed7953"
             ],
             [
              0.7777777777777778,
              "#fb9f3a"
             ],
             [
              0.8888888888888888,
              "#fdca26"
             ],
             [
              1,
              "#f0f921"
             ]
            ],
            "type": "contour"
           }
          ],
          "contourcarpet": [
           {
            "colorbar": {
             "outlinewidth": 0,
             "ticks": ""
            },
            "type": "contourcarpet"
           }
          ],
          "heatmap": [
           {
            "colorbar": {
             "outlinewidth": 0,
             "ticks": ""
            },
            "colorscale": [
             [
              0,
              "#0d0887"
             ],
             [
              0.1111111111111111,
              "#46039f"
             ],
             [
              0.2222222222222222,
              "#7201a8"
             ],
             [
              0.3333333333333333,
              "#9c179e"
             ],
             [
              0.4444444444444444,
              "#bd3786"
             ],
             [
              0.5555555555555556,
              "#d8576b"
             ],
             [
              0.6666666666666666,
              "#ed7953"
             ],
             [
              0.7777777777777778,
              "#fb9f3a"
             ],
             [
              0.8888888888888888,
              "#fdca26"
             ],
             [
              1,
              "#f0f921"
             ]
            ],
            "type": "heatmap"
           }
          ],
          "heatmapgl": [
           {
            "colorbar": {
             "outlinewidth": 0,
             "ticks": ""
            },
            "colorscale": [
             [
              0,
              "#0d0887"
             ],
             [
              0.1111111111111111,
              "#46039f"
             ],
             [
              0.2222222222222222,
              "#7201a8"
             ],
             [
              0.3333333333333333,
              "#9c179e"
             ],
             [
              0.4444444444444444,
              "#bd3786"
             ],
             [
              0.5555555555555556,
              "#d8576b"
             ],
             [
              0.6666666666666666,
              "#ed7953"
             ],
             [
              0.7777777777777778,
              "#fb9f3a"
             ],
             [
              0.8888888888888888,
              "#fdca26"
             ],
             [
              1,
              "#f0f921"
             ]
            ],
            "type": "heatmapgl"
           }
          ],
          "histogram": [
           {
            "marker": {
             "colorbar": {
              "outlinewidth": 0,
              "ticks": ""
             }
            },
            "type": "histogram"
           }
          ],
          "histogram2d": [
           {
            "colorbar": {
             "outlinewidth": 0,
             "ticks": ""
            },
            "colorscale": [
             [
              0,
              "#0d0887"
             ],
             [
              0.1111111111111111,
              "#46039f"
             ],
             [
              0.2222222222222222,
              "#7201a8"
             ],
             [
              0.3333333333333333,
              "#9c179e"
             ],
             [
              0.4444444444444444,
              "#bd3786"
             ],
             [
              0.5555555555555556,
              "#d8576b"
             ],
             [
              0.6666666666666666,
              "#ed7953"
             ],
             [
              0.7777777777777778,
              "#fb9f3a"
             ],
             [
              0.8888888888888888,
              "#fdca26"
             ],
             [
              1,
              "#f0f921"
             ]
            ],
            "type": "histogram2d"
           }
          ],
          "histogram2dcontour": [
           {
            "colorbar": {
             "outlinewidth": 0,
             "ticks": ""
            },
            "colorscale": [
             [
              0,
              "#0d0887"
             ],
             [
              0.1111111111111111,
              "#46039f"
             ],
             [
              0.2222222222222222,
              "#7201a8"
             ],
             [
              0.3333333333333333,
              "#9c179e"
             ],
             [
              0.4444444444444444,
              "#bd3786"
             ],
             [
              0.5555555555555556,
              "#d8576b"
             ],
             [
              0.6666666666666666,
              "#ed7953"
             ],
             [
              0.7777777777777778,
              "#fb9f3a"
             ],
             [
              0.8888888888888888,
              "#fdca26"
             ],
             [
              1,
              "#f0f921"
             ]
            ],
            "type": "histogram2dcontour"
           }
          ],
          "mesh3d": [
           {
            "colorbar": {
             "outlinewidth": 0,
             "ticks": ""
            },
            "type": "mesh3d"
           }
          ],
          "parcoords": [
           {
            "line": {
             "colorbar": {
              "outlinewidth": 0,
              "ticks": ""
             }
            },
            "type": "parcoords"
           }
          ],
          "pie": [
           {
            "automargin": true,
            "type": "pie"
           }
          ],
          "scatter": [
           {
            "marker": {
             "colorbar": {
              "outlinewidth": 0,
              "ticks": ""
             }
            },
            "type": "scatter"
           }
          ],
          "scatter3d": [
           {
            "line": {
             "colorbar": {
              "outlinewidth": 0,
              "ticks": ""
             }
            },
            "marker": {
             "colorbar": {
              "outlinewidth": 0,
              "ticks": ""
             }
            },
            "type": "scatter3d"
           }
          ],
          "scattercarpet": [
           {
            "marker": {
             "colorbar": {
              "outlinewidth": 0,
              "ticks": ""
             }
            },
            "type": "scattercarpet"
           }
          ],
          "scattergeo": [
           {
            "marker": {
             "colorbar": {
              "outlinewidth": 0,
              "ticks": ""
             }
            },
            "type": "scattergeo"
           }
          ],
          "scattergl": [
           {
            "marker": {
             "colorbar": {
              "outlinewidth": 0,
              "ticks": ""
             }
            },
            "type": "scattergl"
           }
          ],
          "scattermapbox": [
           {
            "marker": {
             "colorbar": {
              "outlinewidth": 0,
              "ticks": ""
             }
            },
            "type": "scattermapbox"
           }
          ],
          "scatterpolar": [
           {
            "marker": {
             "colorbar": {
              "outlinewidth": 0,
              "ticks": ""
             }
            },
            "type": "scatterpolar"
           }
          ],
          "scatterpolargl": [
           {
            "marker": {
             "colorbar": {
              "outlinewidth": 0,
              "ticks": ""
             }
            },
            "type": "scatterpolargl"
           }
          ],
          "scatterternary": [
           {
            "marker": {
             "colorbar": {
              "outlinewidth": 0,
              "ticks": ""
             }
            },
            "type": "scatterternary"
           }
          ],
          "surface": [
           {
            "colorbar": {
             "outlinewidth": 0,
             "ticks": ""
            },
            "colorscale": [
             [
              0,
              "#0d0887"
             ],
             [
              0.1111111111111111,
              "#46039f"
             ],
             [
              0.2222222222222222,
              "#7201a8"
             ],
             [
              0.3333333333333333,
              "#9c179e"
             ],
             [
              0.4444444444444444,
              "#bd3786"
             ],
             [
              0.5555555555555556,
              "#d8576b"
             ],
             [
              0.6666666666666666,
              "#ed7953"
             ],
             [
              0.7777777777777778,
              "#fb9f3a"
             ],
             [
              0.8888888888888888,
              "#fdca26"
             ],
             [
              1,
              "#f0f921"
             ]
            ],
            "type": "surface"
           }
          ],
          "table": [
           {
            "cells": {
             "fill": {
              "color": "#EBF0F8"
             },
             "line": {
              "color": "white"
             }
            },
            "header": {
             "fill": {
              "color": "#C8D4E3"
             },
             "line": {
              "color": "white"
             }
            },
            "type": "table"
           }
          ]
         },
         "layout": {
          "annotationdefaults": {
           "arrowcolor": "#2a3f5f",
           "arrowhead": 0,
           "arrowwidth": 1
          },
          "coloraxis": {
           "colorbar": {
            "outlinewidth": 0,
            "ticks": ""
           }
          },
          "colorscale": {
           "diverging": [
            [
             0,
             "#8e0152"
            ],
            [
             0.1,
             "#c51b7d"
            ],
            [
             0.2,
             "#de77ae"
            ],
            [
             0.3,
             "#f1b6da"
            ],
            [
             0.4,
             "#fde0ef"
            ],
            [
             0.5,
             "#f7f7f7"
            ],
            [
             0.6,
             "#e6f5d0"
            ],
            [
             0.7,
             "#b8e186"
            ],
            [
             0.8,
             "#7fbc41"
            ],
            [
             0.9,
             "#4d9221"
            ],
            [
             1,
             "#276419"
            ]
           ],
           "sequential": [
            [
             0,
             "#0d0887"
            ],
            [
             0.1111111111111111,
             "#46039f"
            ],
            [
             0.2222222222222222,
             "#7201a8"
            ],
            [
             0.3333333333333333,
             "#9c179e"
            ],
            [
             0.4444444444444444,
             "#bd3786"
            ],
            [
             0.5555555555555556,
             "#d8576b"
            ],
            [
             0.6666666666666666,
             "#ed7953"
            ],
            [
             0.7777777777777778,
             "#fb9f3a"
            ],
            [
             0.8888888888888888,
             "#fdca26"
            ],
            [
             1,
             "#f0f921"
            ]
           ],
           "sequentialminus": [
            [
             0,
             "#0d0887"
            ],
            [
             0.1111111111111111,
             "#46039f"
            ],
            [
             0.2222222222222222,
             "#7201a8"
            ],
            [
             0.3333333333333333,
             "#9c179e"
            ],
            [
             0.4444444444444444,
             "#bd3786"
            ],
            [
             0.5555555555555556,
             "#d8576b"
            ],
            [
             0.6666666666666666,
             "#ed7953"
            ],
            [
             0.7777777777777778,
             "#fb9f3a"
            ],
            [
             0.8888888888888888,
             "#fdca26"
            ],
            [
             1,
             "#f0f921"
            ]
           ]
          },
          "colorway": [
           "#636efa",
           "#EF553B",
           "#00cc96",
           "#ab63fa",
           "#FFA15A",
           "#19d3f3",
           "#FF6692",
           "#B6E880",
           "#FF97FF",
           "#FECB52"
          ],
          "font": {
           "color": "#2a3f5f"
          },
          "geo": {
           "bgcolor": "white",
           "lakecolor": "white",
           "landcolor": "#E5ECF6",
           "showlakes": true,
           "showland": true,
           "subunitcolor": "white"
          },
          "hoverlabel": {
           "align": "left"
          },
          "hovermode": "closest",
          "mapbox": {
           "style": "light"
          },
          "paper_bgcolor": "white",
          "plot_bgcolor": "#E5ECF6",
          "polar": {
           "angularaxis": {
            "gridcolor": "white",
            "linecolor": "white",
            "ticks": ""
           },
           "bgcolor": "#E5ECF6",
           "radialaxis": {
            "gridcolor": "white",
            "linecolor": "white",
            "ticks": ""
           }
          },
          "scene": {
           "xaxis": {
            "backgroundcolor": "#E5ECF6",
            "gridcolor": "white",
            "gridwidth": 2,
            "linecolor": "white",
            "showbackground": true,
            "ticks": "",
            "zerolinecolor": "white"
           },
           "yaxis": {
            "backgroundcolor": "#E5ECF6",
            "gridcolor": "white",
            "gridwidth": 2,
            "linecolor": "white",
            "showbackground": true,
            "ticks": "",
            "zerolinecolor": "white"
           },
           "zaxis": {
            "backgroundcolor": "#E5ECF6",
            "gridcolor": "white",
            "gridwidth": 2,
            "linecolor": "white",
            "showbackground": true,
            "ticks": "",
            "zerolinecolor": "white"
           }
          },
          "shapedefaults": {
           "line": {
            "color": "#2a3f5f"
           }
          },
          "ternary": {
           "aaxis": {
            "gridcolor": "white",
            "linecolor": "white",
            "ticks": ""
           },
           "baxis": {
            "gridcolor": "white",
            "linecolor": "white",
            "ticks": ""
           },
           "bgcolor": "#E5ECF6",
           "caxis": {
            "gridcolor": "white",
            "linecolor": "white",
            "ticks": ""
           }
          },
          "title": {
           "x": 0.05
          },
          "xaxis": {
           "automargin": true,
           "gridcolor": "white",
           "linecolor": "white",
           "ticks": "",
           "title": {
            "standoff": 15
           },
           "zerolinecolor": "white",
           "zerolinewidth": 2
          },
          "yaxis": {
           "automargin": true,
           "gridcolor": "white",
           "linecolor": "white",
           "ticks": "",
           "title": {
            "standoff": 15
           },
           "zerolinecolor": "white",
           "zerolinewidth": 2
          }
         }
        },
        "title": {
         "text": "Error Rate vs. K value"
        },
        "xaxis": {
         "anchor": "y",
         "domain": [
          0,
          1
         ],
         "title": {
          "text": "K"
         }
        },
        "yaxis": {
         "anchor": "x",
         "domain": [
          0,
          1
         ],
         "title": {
          "text": "Error Rate"
         }
        }
       }
      },
      "text/html": [
       "<div>                            <div id=\"a8a611ff-bf98-4d77-9c5b-c1e23b2865a9\" class=\"plotly-graph-div\" style=\"height:525px; width:100%;\"></div>            <script type=\"text/javascript\">                require([\"plotly\"], function(Plotly) {                    window.PLOTLYENV=window.PLOTLYENV || {};                                    if (document.getElementById(\"a8a611ff-bf98-4d77-9c5b-c1e23b2865a9\")) {                    Plotly.newPlot(                        \"a8a611ff-bf98-4d77-9c5b-c1e23b2865a9\",                        [{\"hovertemplate\": \"K=%{x}<br>Error Rate=%{y}<extra></extra>\", \"legendgroup\": \"\", \"line\": {\"color\": \"#636efa\", \"dash\": \"solid\"}, \"mode\": \"lines\", \"name\": \"\", \"orientation\": \"v\", \"showlegend\": false, \"type\": \"scatter\", \"x\": [1, 2, 3, 4, 5, 6, 7, 8, 9, 10, 11, 12, 13, 14, 15, 16, 17, 18, 19, 20, 21, 22, 23, 24, 25, 26, 27, 28, 29, 30, 31, 32, 33, 34, 35, 36, 37, 38, 39, 40, 41, 42, 43, 44, 45, 46, 47, 48, 49, 50, 51, 52, 53, 54, 55, 56, 57, 58, 59, 60, 61, 62, 63, 64, 65, 66, 67, 68, 69, 70, 71, 72, 73, 74, 75, 76, 77, 78, 79, 80, 81, 82, 83, 84, 85, 86, 87, 88, 89, 90, 91, 92, 93, 94, 95, 96, 97, 98, 99], \"xaxis\": \"x\", \"y\": [0.25, 0.38095238095238093, 0.38095238095238093, 0.39285714285714285, 0.16666666666666666, 0.19047619047619047, 0.19047619047619047, 0.20238095238095238, 0.2261904761904762, 0.2261904761904762, 0.21428571428571427, 0.21428571428571427, 0.23809523809523808, 0.25, 0.25, 0.2261904761904762, 0.27380952380952384, 0.21428571428571427, 0.2857142857142857, 0.21428571428571427, 0.2619047619047619, 0.2261904761904762, 0.25, 0.20238095238095238, 0.23809523809523808, 0.17857142857142858, 0.21428571428571427, 0.16666666666666666, 0.17857142857142858, 0.17857142857142858, 0.19047619047619047, 0.15476190476190477, 0.16666666666666666, 0.17857142857142858, 0.20238095238095238, 0.16666666666666666, 0.16666666666666666, 0.14285714285714285, 0.14285714285714285, 0.17857142857142858, 0.17857142857142858, 0.17857142857142858, 0.16666666666666666, 0.16666666666666666, 0.21428571428571427, 0.19047619047619047, 0.21428571428571427, 0.17857142857142858, 0.20238095238095238, 0.20238095238095238, 0.2261904761904762, 0.21428571428571427, 0.2261904761904762, 0.21428571428571427, 0.21428571428571427, 0.2261904761904762, 0.20238095238095238, 0.17857142857142858, 0.21428571428571427, 0.17857142857142858, 0.16666666666666666, 0.19047619047619047, 0.15476190476190477, 0.14285714285714285, 0.15476190476190477, 0.15476190476190477, 0.15476190476190477, 0.13095238095238096, 0.15476190476190477, 0.19047619047619047, 0.16666666666666666, 0.13095238095238096, 0.15476190476190477, 0.14285714285714285, 0.16666666666666666, 0.14285714285714285, 0.15476190476190477, 0.14285714285714285, 0.16666666666666666, 0.15476190476190477, 0.16666666666666666, 0.14285714285714285, 0.15476190476190477, 0.15476190476190477, 0.14285714285714285, 0.15476190476190477, 0.14285714285714285, 0.19047619047619047, 0.19047619047619047, 0.20238095238095238, 0.2261904761904762, 0.20238095238095238, 0.19047619047619047, 0.20238095238095238, 0.17857142857142858, 0.17857142857142858, 0.15476190476190477, 0.16666666666666666, 0.17857142857142858], \"yaxis\": \"y\"}],                        {\"legend\": {\"tracegroupgap\": 0}, \"template\": {\"data\": {\"bar\": [{\"error_x\": {\"color\": \"#2a3f5f\"}, \"error_y\": {\"color\": \"#2a3f5f\"}, \"marker\": {\"line\": {\"color\": \"#E5ECF6\", \"width\": 0.5}}, \"type\": \"bar\"}], \"barpolar\": [{\"marker\": {\"line\": {\"color\": \"#E5ECF6\", \"width\": 0.5}}, \"type\": \"barpolar\"}], \"carpet\": [{\"aaxis\": {\"endlinecolor\": \"#2a3f5f\", \"gridcolor\": \"white\", \"linecolor\": \"white\", \"minorgridcolor\": \"white\", \"startlinecolor\": \"#2a3f5f\"}, \"baxis\": {\"endlinecolor\": \"#2a3f5f\", \"gridcolor\": \"white\", \"linecolor\": \"white\", \"minorgridcolor\": \"white\", \"startlinecolor\": \"#2a3f5f\"}, \"type\": \"carpet\"}], \"choropleth\": [{\"colorbar\": {\"outlinewidth\": 0, \"ticks\": \"\"}, \"type\": \"choropleth\"}], \"contour\": [{\"colorbar\": {\"outlinewidth\": 0, \"ticks\": \"\"}, \"colorscale\": [[0.0, \"#0d0887\"], [0.1111111111111111, \"#46039f\"], [0.2222222222222222, \"#7201a8\"], [0.3333333333333333, \"#9c179e\"], [0.4444444444444444, \"#bd3786\"], [0.5555555555555556, \"#d8576b\"], [0.6666666666666666, \"#ed7953\"], [0.7777777777777778, \"#fb9f3a\"], [0.8888888888888888, \"#fdca26\"], [1.0, \"#f0f921\"]], \"type\": \"contour\"}], \"contourcarpet\": [{\"colorbar\": {\"outlinewidth\": 0, \"ticks\": \"\"}, \"type\": \"contourcarpet\"}], \"heatmap\": [{\"colorbar\": {\"outlinewidth\": 0, \"ticks\": \"\"}, \"colorscale\": [[0.0, \"#0d0887\"], [0.1111111111111111, \"#46039f\"], [0.2222222222222222, \"#7201a8\"], [0.3333333333333333, \"#9c179e\"], [0.4444444444444444, \"#bd3786\"], [0.5555555555555556, \"#d8576b\"], [0.6666666666666666, \"#ed7953\"], [0.7777777777777778, \"#fb9f3a\"], [0.8888888888888888, \"#fdca26\"], [1.0, \"#f0f921\"]], \"type\": \"heatmap\"}], \"heatmapgl\": [{\"colorbar\": {\"outlinewidth\": 0, \"ticks\": \"\"}, \"colorscale\": [[0.0, \"#0d0887\"], [0.1111111111111111, \"#46039f\"], [0.2222222222222222, \"#7201a8\"], [0.3333333333333333, \"#9c179e\"], [0.4444444444444444, \"#bd3786\"], [0.5555555555555556, \"#d8576b\"], [0.6666666666666666, \"#ed7953\"], [0.7777777777777778, \"#fb9f3a\"], [0.8888888888888888, \"#fdca26\"], [1.0, \"#f0f921\"]], \"type\": \"heatmapgl\"}], \"histogram\": [{\"marker\": {\"colorbar\": {\"outlinewidth\": 0, \"ticks\": \"\"}}, \"type\": \"histogram\"}], \"histogram2d\": [{\"colorbar\": {\"outlinewidth\": 0, \"ticks\": \"\"}, \"colorscale\": [[0.0, \"#0d0887\"], [0.1111111111111111, \"#46039f\"], [0.2222222222222222, \"#7201a8\"], [0.3333333333333333, \"#9c179e\"], [0.4444444444444444, \"#bd3786\"], [0.5555555555555556, \"#d8576b\"], [0.6666666666666666, \"#ed7953\"], [0.7777777777777778, \"#fb9f3a\"], [0.8888888888888888, \"#fdca26\"], [1.0, \"#f0f921\"]], \"type\": \"histogram2d\"}], \"histogram2dcontour\": [{\"colorbar\": {\"outlinewidth\": 0, \"ticks\": \"\"}, \"colorscale\": [[0.0, \"#0d0887\"], [0.1111111111111111, \"#46039f\"], [0.2222222222222222, \"#7201a8\"], [0.3333333333333333, \"#9c179e\"], [0.4444444444444444, \"#bd3786\"], [0.5555555555555556, \"#d8576b\"], [0.6666666666666666, \"#ed7953\"], [0.7777777777777778, \"#fb9f3a\"], [0.8888888888888888, \"#fdca26\"], [1.0, \"#f0f921\"]], \"type\": \"histogram2dcontour\"}], \"mesh3d\": [{\"colorbar\": {\"outlinewidth\": 0, \"ticks\": \"\"}, \"type\": \"mesh3d\"}], \"parcoords\": [{\"line\": {\"colorbar\": {\"outlinewidth\": 0, \"ticks\": \"\"}}, \"type\": \"parcoords\"}], \"pie\": [{\"automargin\": true, \"type\": \"pie\"}], \"scatter\": [{\"marker\": {\"colorbar\": {\"outlinewidth\": 0, \"ticks\": \"\"}}, \"type\": \"scatter\"}], \"scatter3d\": [{\"line\": {\"colorbar\": {\"outlinewidth\": 0, \"ticks\": \"\"}}, \"marker\": {\"colorbar\": {\"outlinewidth\": 0, \"ticks\": \"\"}}, \"type\": \"scatter3d\"}], \"scattercarpet\": [{\"marker\": {\"colorbar\": {\"outlinewidth\": 0, \"ticks\": \"\"}}, \"type\": \"scattercarpet\"}], \"scattergeo\": [{\"marker\": {\"colorbar\": {\"outlinewidth\": 0, \"ticks\": \"\"}}, \"type\": \"scattergeo\"}], \"scattergl\": [{\"marker\": {\"colorbar\": {\"outlinewidth\": 0, \"ticks\": \"\"}}, \"type\": \"scattergl\"}], \"scattermapbox\": [{\"marker\": {\"colorbar\": {\"outlinewidth\": 0, \"ticks\": \"\"}}, \"type\": \"scattermapbox\"}], \"scatterpolar\": [{\"marker\": {\"colorbar\": {\"outlinewidth\": 0, \"ticks\": \"\"}}, \"type\": \"scatterpolar\"}], \"scatterpolargl\": [{\"marker\": {\"colorbar\": {\"outlinewidth\": 0, \"ticks\": \"\"}}, \"type\": \"scatterpolargl\"}], \"scatterternary\": [{\"marker\": {\"colorbar\": {\"outlinewidth\": 0, \"ticks\": \"\"}}, \"type\": \"scatterternary\"}], \"surface\": [{\"colorbar\": {\"outlinewidth\": 0, \"ticks\": \"\"}, \"colorscale\": [[0.0, \"#0d0887\"], [0.1111111111111111, \"#46039f\"], [0.2222222222222222, \"#7201a8\"], [0.3333333333333333, \"#9c179e\"], [0.4444444444444444, \"#bd3786\"], [0.5555555555555556, \"#d8576b\"], [0.6666666666666666, \"#ed7953\"], [0.7777777777777778, \"#fb9f3a\"], [0.8888888888888888, \"#fdca26\"], [1.0, \"#f0f921\"]], \"type\": \"surface\"}], \"table\": [{\"cells\": {\"fill\": {\"color\": \"#EBF0F8\"}, \"line\": {\"color\": \"white\"}}, \"header\": {\"fill\": {\"color\": \"#C8D4E3\"}, \"line\": {\"color\": \"white\"}}, \"type\": \"table\"}]}, \"layout\": {\"annotationdefaults\": {\"arrowcolor\": \"#2a3f5f\", \"arrowhead\": 0, \"arrowwidth\": 1}, \"coloraxis\": {\"colorbar\": {\"outlinewidth\": 0, \"ticks\": \"\"}}, \"colorscale\": {\"diverging\": [[0, \"#8e0152\"], [0.1, \"#c51b7d\"], [0.2, \"#de77ae\"], [0.3, \"#f1b6da\"], [0.4, \"#fde0ef\"], [0.5, \"#f7f7f7\"], [0.6, \"#e6f5d0\"], [0.7, \"#b8e186\"], [0.8, \"#7fbc41\"], [0.9, \"#4d9221\"], [1, \"#276419\"]], \"sequential\": [[0.0, \"#0d0887\"], [0.1111111111111111, \"#46039f\"], [0.2222222222222222, \"#7201a8\"], [0.3333333333333333, \"#9c179e\"], [0.4444444444444444, \"#bd3786\"], [0.5555555555555556, \"#d8576b\"], [0.6666666666666666, \"#ed7953\"], [0.7777777777777778, \"#fb9f3a\"], [0.8888888888888888, \"#fdca26\"], [1.0, \"#f0f921\"]], \"sequentialminus\": [[0.0, \"#0d0887\"], [0.1111111111111111, \"#46039f\"], [0.2222222222222222, \"#7201a8\"], [0.3333333333333333, \"#9c179e\"], [0.4444444444444444, \"#bd3786\"], [0.5555555555555556, \"#d8576b\"], [0.6666666666666666, \"#ed7953\"], [0.7777777777777778, \"#fb9f3a\"], [0.8888888888888888, \"#fdca26\"], [1.0, \"#f0f921\"]]}, \"colorway\": [\"#636efa\", \"#EF553B\", \"#00cc96\", \"#ab63fa\", \"#FFA15A\", \"#19d3f3\", \"#FF6692\", \"#B6E880\", \"#FF97FF\", \"#FECB52\"], \"font\": {\"color\": \"#2a3f5f\"}, \"geo\": {\"bgcolor\": \"white\", \"lakecolor\": \"white\", \"landcolor\": \"#E5ECF6\", \"showlakes\": true, \"showland\": true, \"subunitcolor\": \"white\"}, \"hoverlabel\": {\"align\": \"left\"}, \"hovermode\": \"closest\", \"mapbox\": {\"style\": \"light\"}, \"paper_bgcolor\": \"white\", \"plot_bgcolor\": \"#E5ECF6\", \"polar\": {\"angularaxis\": {\"gridcolor\": \"white\", \"linecolor\": \"white\", \"ticks\": \"\"}, \"bgcolor\": \"#E5ECF6\", \"radialaxis\": {\"gridcolor\": \"white\", \"linecolor\": \"white\", \"ticks\": \"\"}}, \"scene\": {\"xaxis\": {\"backgroundcolor\": \"#E5ECF6\", \"gridcolor\": \"white\", \"gridwidth\": 2, \"linecolor\": \"white\", \"showbackground\": true, \"ticks\": \"\", \"zerolinecolor\": \"white\"}, \"yaxis\": {\"backgroundcolor\": \"#E5ECF6\", \"gridcolor\": \"white\", \"gridwidth\": 2, \"linecolor\": \"white\", \"showbackground\": true, \"ticks\": \"\", \"zerolinecolor\": \"white\"}, \"zaxis\": {\"backgroundcolor\": \"#E5ECF6\", \"gridcolor\": \"white\", \"gridwidth\": 2, \"linecolor\": \"white\", \"showbackground\": true, \"ticks\": \"\", \"zerolinecolor\": \"white\"}}, \"shapedefaults\": {\"line\": {\"color\": \"#2a3f5f\"}}, \"ternary\": {\"aaxis\": {\"gridcolor\": \"white\", \"linecolor\": \"white\", \"ticks\": \"\"}, \"baxis\": {\"gridcolor\": \"white\", \"linecolor\": \"white\", \"ticks\": \"\"}, \"bgcolor\": \"#E5ECF6\", \"caxis\": {\"gridcolor\": \"white\", \"linecolor\": \"white\", \"ticks\": \"\"}}, \"title\": {\"x\": 0.05}, \"xaxis\": {\"automargin\": true, \"gridcolor\": \"white\", \"linecolor\": \"white\", \"ticks\": \"\", \"title\": {\"standoff\": 15}, \"zerolinecolor\": \"white\", \"zerolinewidth\": 2}, \"yaxis\": {\"automargin\": true, \"gridcolor\": \"white\", \"linecolor\": \"white\", \"ticks\": \"\", \"title\": {\"standoff\": 15}, \"zerolinecolor\": \"white\", \"zerolinewidth\": 2}}}, \"title\": {\"text\": \"Error Rate vs. K value\"}, \"xaxis\": {\"anchor\": \"y\", \"domain\": [0.0, 1.0], \"title\": {\"text\": \"K\"}}, \"yaxis\": {\"anchor\": \"x\", \"domain\": [0.0, 1.0], \"title\": {\"text\": \"Error Rate\"}}},                        {\"responsive\": true}                    ).then(function(){\n",
       "                            \n",
       "var gd = document.getElementById('a8a611ff-bf98-4d77-9c5b-c1e23b2865a9');\n",
       "var x = new MutationObserver(function (mutations, observer) {{\n",
       "        var display = window.getComputedStyle(gd).display;\n",
       "        if (!display || display === 'none') {{\n",
       "            console.log([gd, 'removed!']);\n",
       "            Plotly.purge(gd);\n",
       "            observer.disconnect();\n",
       "        }}\n",
       "}});\n",
       "\n",
       "// Listen for the removal of the full notebook cells\n",
       "var notebookContainer = gd.closest('#notebook-container');\n",
       "if (notebookContainer) {{\n",
       "    x.observe(notebookContainer, {childList: true});\n",
       "}}\n",
       "\n",
       "// Listen for the clearing of the current output cell\n",
       "var outputEl = gd.closest('.output');\n",
       "if (outputEl) {{\n",
       "    x.observe(outputEl, {childList: true});\n",
       "}}\n",
       "\n",
       "                        })                };                });            </script>        </div>"
      ]
     },
     "metadata": {},
     "output_type": "display_data"
    }
   ],
   "source": [
    "import plotly.express as px \n",
    "px.line(df, x=range(1,100), y=error_rates, title='Error Rate vs. K value', labels={'x':'K','y':'Error Rate'})"
   ]
  },
  {
   "cell_type": "code",
   "execution_count": 38,
   "metadata": {},
   "outputs": [],
   "source": [
    "# build pipeline\n",
    "knn_pipeline = Pipeline([\n",
    "    # (step_name, what_to_do)\n",
    "\n",
    "    # Step 1: Turn corpus into bag of words \n",
    "    ('bow', CountVectorizer(analyzer=text_process)),\n",
    "\n",
    "    # Step 2: Give TF-IDF weights to bag of words\n",
    "    ('tfidf', TfidfTransformer()),\n",
    "\n",
    "    # Step 3: Fit classification model\n",
    "    ('classifier', KNeighborsClassifier(n_neighbors=68))\n",
    "])\n",
    "# fit \n",
    "knn_pipeline.fit(X_train,y_train)\n",
    "# predict\n",
    "knn_pred = knn_pipeline.predict(X_valid)"
   ]
  },
  {
   "cell_type": "code",
   "execution_count": 40,
   "metadata": {},
   "outputs": [
    {
     "data": {
      "text/plain": [
       "<AxesSubplot:>"
      ]
     },
     "execution_count": 40,
     "metadata": {},
     "output_type": "execute_result"
    },
    {
     "data": {
      "image/png": "[encoded data removed]",
      "text/plain": [
       "<Figure size 432x288 with 2 Axes>"
      ]
     },
     "metadata": {
      "needs_background": "light"
     },
     "output_type": "display_data"
    }
   ],
   "source": [
    "# 41 TN 2 FP, 9 FN, 32 TP\n",
    "sns.heatmap(confusion_matrix(y_valid,knn_pred), annot=True, fmt='g')"
   ]
  },
  {
   "cell_type": "code",
   "execution_count": 39,
   "metadata": {},
   "outputs": [
    {
     "name": "stdout",
     "output_type": "stream",
     "text": [
      "              precision    recall  f1-score   support\n",
      "\n",
      "           0       0.82      0.95      0.88        43\n",
      "           1       0.94      0.78      0.85        41\n",
      "\n",
      "    accuracy                           0.87        84\n",
      "   macro avg       0.88      0.87      0.87        84\n",
      "weighted avg       0.88      0.87      0.87        84\n",
      "\n"
     ]
    }
   ],
   "source": [
    "# 87% accuracy, 88% precision, 87% recall, 87% f1 score\n",
    "print(classification_report(y_valid, knn_pred))"
   ]
  },
  {
   "cell_type": "markdown",
   "metadata": {},
   "source": [
    "### Decision Tree\n",
    "\n",
    "#### Build and train model"
   ]
  },
  {
   "cell_type": "code",
   "execution_count": 41,
   "metadata": {},
   "outputs": [],
   "source": [
    "from sklearn.tree import DecisionTreeClassifier"
   ]
  },
  {
   "cell_type": "code",
   "execution_count": 42,
   "metadata": {},
   "outputs": [],
   "source": [
    "# build pipeline\n",
    "dt_pipeline = Pipeline([\n",
    "    # (step_name, what_to_do)\n",
    "    \n",
    "    # Step 1: Turn corpus into bag of words \n",
    "    ('bow', CountVectorizer(analyzer=text_process)),\n",
    "    \n",
    "    # Step 2: Give TF-IDF weights to bag of words\n",
    "    ('tfidf', TfidfTransformer()),\n",
    "    \n",
    "    # Step 3: Fit classification model\n",
    "    ('classifier', DecisionTreeClassifier())\n",
    "])"
   ]
  },
  {
   "cell_type": "code",
   "execution_count": 43,
   "metadata": {},
   "outputs": [
    {
     "data": {
      "text/plain": [
       "Pipeline(steps=[('bow',\n",
       "                 CountVectorizer(analyzer=<function text_process at 0x7fb8471a0c10>)),\n",
       "                ('tfidf', TfidfTransformer()),\n",
       "                ('classifier', DecisionTreeClassifier())])"
      ]
     },
     "execution_count": 43,
     "metadata": {},
     "output_type": "execute_result"
    }
   ],
   "source": [
    "dt_pipeline.fit(X_train,y_train)"
   ]
  },
  {
   "cell_type": "markdown",
   "metadata": {},
   "source": [
    "#### Make predictions "
   ]
  },
  {
   "cell_type": "code",
   "execution_count": 44,
   "metadata": {},
   "outputs": [],
   "source": [
    "dt_pred = dt_pipeline.predict(X_valid)"
   ]
  },
  {
   "cell_type": "markdown",
   "metadata": {},
   "source": [
    "#### Evaluate model performance"
   ]
  },
  {
   "cell_type": "code",
   "execution_count": 45,
   "metadata": {},
   "outputs": [
    {
     "data": {
      "text/plain": [
       "<AxesSubplot:>"
      ]
     },
     "execution_count": 45,
     "metadata": {},
     "output_type": "execute_result"
    },
    {
     "data": {
      "image/png": "[encoded data removed]",
      "text/plain": [
       "<Figure size 432x288 with 2 Axes>"
      ]
     },
     "metadata": {
      "needs_background": "light"
     },
     "output_type": "display_data"
    }
   ],
   "source": [
    "# 41 TN 2 FP, 9 FN, 32 TP\n",
    "sns.heatmap(confusion_matrix(y_valid, dt_pred), annot=True, fmt='g')"
   ]
  },
  {
   "cell_type": "code",
   "execution_count": 46,
   "metadata": {},
   "outputs": [
    {
     "name": "stdout",
     "output_type": "stream",
     "text": [
      "              precision    recall  f1-score   support\n",
      "\n",
      "           0       0.82      0.95      0.88        43\n",
      "           1       0.94      0.78      0.85        41\n",
      "\n",
      "    accuracy                           0.87        84\n",
      "   macro avg       0.88      0.87      0.87        84\n",
      "weighted avg       0.88      0.87      0.87        84\n",
      "\n"
     ]
    }
   ],
   "source": [
    "# 87% accuracy, 88% precision, 87% recall, 87% f1 score\n",
    "print(classification_report(y_valid, dt_pred))"
   ]
  },
  {
   "cell_type": "markdown",
   "metadata": {},
   "source": [
    "### Random Forest\n",
    "\n",
    "#### Build and train model"
   ]
  },
  {
   "cell_type": "code",
   "execution_count": 47,
   "metadata": {},
   "outputs": [],
   "source": [
    "from sklearn.ensemble import RandomForestClassifier"
   ]
  },
  {
   "cell_type": "code",
   "execution_count": 48,
   "metadata": {},
   "outputs": [],
   "source": [
    "# build pipeline\n",
    "rf_pipeline = Pipeline([\n",
    "    # (step_name, what_to_do)\n",
    "    \n",
    "    # Step 1: Turn corpus into bag of words \n",
    "    ('bow', CountVectorizer(analyzer=text_process)),\n",
    "    \n",
    "    # Step 2: Give TF-IDF weights to bag of words\n",
    "    ('tfidf', TfidfTransformer()),\n",
    "    \n",
    "    # Step 3: Fit classification model\n",
    "    ('classifier', RandomForestClassifier())\n",
    "])"
   ]
  },
  {
   "cell_type": "code",
   "execution_count": 49,
   "metadata": {},
   "outputs": [
    {
     "data": {
      "text/plain": [
       "Pipeline(steps=[('bow',\n",
       "                 CountVectorizer(analyzer=<function text_process at 0x7fb8471a0c10>)),\n",
       "                ('tfidf', TfidfTransformer()),\n",
       "                ('classifier', RandomForestClassifier())])"
      ]
     },
     "execution_count": 49,
     "metadata": {},
     "output_type": "execute_result"
    }
   ],
   "source": [
    "rf_pipeline.fit(X_train,y_train)"
   ]
  },
  {
   "cell_type": "markdown",
   "metadata": {},
   "source": [
    "#### Make predictions "
   ]
  },
  {
   "cell_type": "code",
   "execution_count": 50,
   "metadata": {},
   "outputs": [],
   "source": [
    "rf_pred = rf_pipeline.predict(X_valid)"
   ]
  },
  {
   "cell_type": "markdown",
   "metadata": {},
   "source": [
    "#### Evaluate model performance"
   ]
  },
  {
   "cell_type": "code",
   "execution_count": 51,
   "metadata": {},
   "outputs": [
    {
     "data": {
      "text/plain": [
       "<AxesSubplot:>"
      ]
     },
     "execution_count": 51,
     "metadata": {},
     "output_type": "execute_result"
    },
    {
     "data": {
      "image/png": "[encoded data removed]",
      "text/plain": [
       "<Figure size 432x288 with 2 Axes>"
      ]
     },
     "metadata": {
      "needs_background": "light"
     },
     "output_type": "display_data"
    }
   ],
   "source": [
    "# 42 TN 1 FP, 9 FN, 32 TP\n",
    "sns.heatmap(confusion_matrix(y_valid, rf_pred), annot=True, fmt='g')"
   ]
  },
  {
   "cell_type": "code",
   "execution_count": 52,
   "metadata": {},
   "outputs": [
    {
     "name": "stdout",
     "output_type": "stream",
     "text": [
      "              precision    recall  f1-score   support\n",
      "\n",
      "           0       0.82      0.98      0.89        43\n",
      "           1       0.97      0.78      0.86        41\n",
      "\n",
      "    accuracy                           0.88        84\n",
      "   macro avg       0.90      0.88      0.88        84\n",
      "weighted avg       0.89      0.88      0.88        84\n",
      "\n"
     ]
    }
   ],
   "source": [
    "# 88% accuracy, 89% precision, 88% recall, 88% f1 score\n",
    "print(classification_report(y_valid, rf_pred))"
   ]
  },
  {
   "cell_type": "markdown",
   "metadata": {},
   "source": [
    "### SVM\n",
    "\n",
    "#### Build and train model"
   ]
  },
  {
   "cell_type": "code",
   "execution_count": 53,
   "metadata": {},
   "outputs": [],
   "source": [
    "from sklearn.svm import SVC"
   ]
  },
  {
   "cell_type": "code",
   "execution_count": 55,
   "metadata": {},
   "outputs": [],
   "source": [
    "# build pipeline\n",
    "svm_pipeline = Pipeline([\n",
    "    # (step_name, what_to_do)\n",
    "    \n",
    "    # Step 1: Turn corpus into bag of words \n",
    "    ('bow', CountVectorizer(analyzer=text_process)),\n",
    "    \n",
    "    # Step 2: Give TF-IDF weights to bag of words\n",
    "    ('tfidf', TfidfTransformer()),\n",
    "    \n",
    "    # Step 3: Fit classification model\n",
    "    ('classifier', SVC())\n",
    "])"
   ]
  },
  {
   "cell_type": "code",
   "execution_count": 56,
   "metadata": {},
   "outputs": [
    {
     "data": {
      "text/plain": [
       "Pipeline(steps=[('bow',\n",
       "                 CountVectorizer(analyzer=<function text_process at 0x7fb8471a0c10>)),\n",
       "                ('tfidf', TfidfTransformer()), ('classifier', SVC())])"
      ]
     },
     "execution_count": 56,
     "metadata": {},
     "output_type": "execute_result"
    }
   ],
   "source": [
    "svm_pipeline.fit(X_train,y_train)"
   ]
  },
  {
   "cell_type": "markdown",
   "metadata": {},
   "source": [
    "#### Make predictions "
   ]
  },
  {
   "cell_type": "code",
   "execution_count": 57,
   "metadata": {},
   "outputs": [],
   "source": [
    "svm_pred = svm_pipeline.predict(X_valid)"
   ]
  },
  {
   "cell_type": "markdown",
   "metadata": {},
   "source": [
    "#### Evaluate model performance"
   ]
  },
  {
   "cell_type": "code",
   "execution_count": 58,
   "metadata": {},
   "outputs": [
    {
     "data": {
      "text/plain": [
       "<AxesSubplot:>"
      ]
     },
     "execution_count": 58,
     "metadata": {},
     "output_type": "execute_result"
    },
    {
     "data": {
      "image/png": "[encoded data removed]",
      "text/plain": [
       "<Figure size 432x288 with 2 Axes>"
      ]
     },
     "metadata": {
      "needs_background": "light"
     },
     "output_type": "display_data"
    }
   ],
   "source": [
    "# 41 TN 2 FP, 3 FN, 38 TP\n",
    "sns.heatmap(confusion_matrix(y_valid, svm_pred), annot=True, fmt='g')"
   ]
  },
  {
   "cell_type": "code",
   "execution_count": 59,
   "metadata": {},
   "outputs": [
    {
     "name": "stdout",
     "output_type": "stream",
     "text": [
      "              precision    recall  f1-score   support\n",
      "\n",
      "           0       0.93      0.95      0.94        43\n",
      "           1       0.95      0.93      0.94        41\n",
      "\n",
      "    accuracy                           0.94        84\n",
      "   macro avg       0.94      0.94      0.94        84\n",
      "weighted avg       0.94      0.94      0.94        84\n",
      "\n"
     ]
    }
   ],
   "source": [
    "# 94% accuracy, 94% precision, 94% recall, 94% f1 score\n",
    "print(classification_report(y_valid, svm_pred))"
   ]
  },
  {
   "cell_type": "markdown",
   "metadata": {},
   "source": [
    "### Naive Bayes\n",
    "\n",
    "#### Build and train model"
   ]
  },
  {
   "cell_type": "code",
   "execution_count": 60,
   "metadata": {},
   "outputs": [],
   "source": [
    "from sklearn.naive_bayes import MultinomialNB"
   ]
  },
  {
   "cell_type": "code",
   "execution_count": 61,
   "metadata": {},
   "outputs": [],
   "source": [
    "# build pipeline\n",
    "nb_pipeline = Pipeline([\n",
    "    # (step_name, what_to_do)\n",
    "    \n",
    "    # Step 1: Turn corpus into bag of words \n",
    "    ('bow', CountVectorizer(analyzer=text_process)),\n",
    "    \n",
    "    # Step 2: Give TF-IDF weights to bag of words\n",
    "    ('tfidf', TfidfTransformer()),\n",
    "    \n",
    "    # Step 3: Fit classification model\n",
    "    ('classifier', MultinomialNB())\n",
    "])"
   ]
  },
  {
   "cell_type": "code",
   "execution_count": 62,
   "metadata": {},
   "outputs": [
    {
     "data": {
      "text/plain": [
       "Pipeline(steps=[('bow',\n",
       "                 CountVectorizer(analyzer=<function text_process at 0x7fb8471a0c10>)),\n",
       "                ('tfidf', TfidfTransformer()),\n",
       "                ('classifier', MultinomialNB())])"
      ]
     },
     "execution_count": 62,
     "metadata": {},
     "output_type": "execute_result"
    }
   ],
   "source": [
    "nb_pipeline.fit(X_train,y_train)"
   ]
  },
  {
   "cell_type": "markdown",
   "metadata": {},
   "source": [
    "#### Make predictions "
   ]
  },
  {
   "cell_type": "code",
   "execution_count": 63,
   "metadata": {},
   "outputs": [],
   "source": [
    "nb_pred = nb_pipeline.predict(X_valid)"
   ]
  },
  {
   "cell_type": "markdown",
   "metadata": {},
   "source": [
    "#### Evaluate model performance"
   ]
  },
  {
   "cell_type": "code",
   "execution_count": 64,
   "metadata": {},
   "outputs": [
    {
     "data": {
      "text/plain": [
       "<AxesSubplot:>"
      ]
     },
     "execution_count": 64,
     "metadata": {},
     "output_type": "execute_result"
    },
    {
     "data": {
      "image/png": "[encoded data removed]",
      "text/plain": [
       "<Figure size 432x288 with 2 Axes>"
      ]
     },
     "metadata": {
      "needs_background": "light"
     },
     "output_type": "display_data"
    }
   ],
   "source": [
    "# 40 TN 3 FP, 4 FN, 37 TP\n",
    "sns.heatmap(confusion_matrix(y_valid, nb_pred), annot=True, fmt='g')"
   ]
  },
  {
   "cell_type": "code",
   "execution_count": 65,
   "metadata": {
    "scrolled": true
   },
   "outputs": [
    {
     "name": "stdout",
     "output_type": "stream",
     "text": [
      "              precision    recall  f1-score   support\n",
      "\n",
      "           0       0.91      0.93      0.92        43\n",
      "           1       0.93      0.90      0.91        41\n",
      "\n",
      "    accuracy                           0.92        84\n",
      "   macro avg       0.92      0.92      0.92        84\n",
      "weighted avg       0.92      0.92      0.92        84\n",
      "\n"
     ]
    }
   ],
   "source": [
    "# 92% accuracy, 92% precision, 92% recall, 92% f1 score\n",
    "print(classification_report(y_valid, nb_pred))"
   ]
  },
  {
   "cell_type": "markdown",
   "metadata": {},
   "source": [
    "### Neural Network\n",
    "\n",
    "#### Build and train model"
   ]
  },
  {
   "cell_type": "code",
   "execution_count": 69,
   "metadata": {},
   "outputs": [],
   "source": [
    "from sklearn.neural_network import MLPClassifier"
   ]
  },
  {
   "cell_type": "code",
   "execution_count": 70,
   "metadata": {},
   "outputs": [],
   "source": [
    "# build pipeline\n",
    "nn_pipeline = Pipeline([\n",
    "    # (step_name, what_to_do)\n",
    "    \n",
    "    # Step 1: Turn corpus into bag of words \n",
    "    ('bow', CountVectorizer(analyzer=text_process)),\n",
    "    \n",
    "    # Step 2: Give TF-IDF weights to bag of words\n",
    "    ('tfidf', TfidfTransformer()),\n",
    "    \n",
    "    # Step 3: Fit classification model\n",
    "    ('classifier', MLPClassifier(max_iter=2000))\n",
    "])"
   ]
  },
  {
   "cell_type": "code",
   "execution_count": 71,
   "metadata": {},
   "outputs": [
    {
     "data": {
      "text/plain": [
       "Pipeline(steps=[('bow',\n",
       "                 CountVectorizer(analyzer=<function text_process at 0x7fb8471a0c10>)),\n",
       "                ('tfidf', TfidfTransformer()),\n",
       "                ('classifier', MLPClassifier(max_iter=2000))])"
      ]
     },
     "execution_count": 71,
     "metadata": {},
     "output_type": "execute_result"
    }
   ],
   "source": [
    "nn_pipeline.fit(X_train,y_train)"
   ]
  },
  {
   "cell_type": "markdown",
   "metadata": {},
   "source": [
    "#### Make predictions "
   ]
  },
  {
   "cell_type": "code",
   "execution_count": 72,
   "metadata": {},
   "outputs": [],
   "source": [
    "nn_pred = nn_pipeline.predict(X_valid)"
   ]
  },
  {
   "cell_type": "markdown",
   "metadata": {},
   "source": [
    "#### Evaluate model performance"
   ]
  },
  {
   "cell_type": "code",
   "execution_count": 73,
   "metadata": {},
   "outputs": [
    {
     "data": {
      "text/plain": [
       "<AxesSubplot:>"
      ]
     },
     "execution_count": 73,
     "metadata": {},
     "output_type": "execute_result"
    },
    {
     "data": {
      "image/png": "[encoded data removed]",
      "text/plain": [
       "<Figure size 432x288 with 2 Axes>"
      ]
     },
     "metadata": {
      "needs_background": "light"
     },
     "output_type": "display_data"
    }
   ],
   "source": [
    "# 41 TN 2 FP, 4 FN, 37 TP\n",
    "sns.heatmap(confusion_matrix(y_valid, nn_pred), annot=True, fmt='g')"
   ]
  },
  {
   "cell_type": "code",
   "execution_count": 74,
   "metadata": {},
   "outputs": [
    {
     "name": "stdout",
     "output_type": "stream",
     "text": [
      "              precision    recall  f1-score   support\n",
      "\n",
      "           0       0.91      0.95      0.93        43\n",
      "           1       0.95      0.90      0.92        41\n",
      "\n",
      "    accuracy                           0.93        84\n",
      "   macro avg       0.93      0.93      0.93        84\n",
      "weighted avg       0.93      0.93      0.93        84\n",
      "\n"
     ]
    }
   ],
   "source": [
    "# 93% accuracy, precision, recall, f1 score\n",
    "print(classification_report(y_valid, nn_pred))"
   ]
  },
  {
   "cell_type": "markdown",
   "metadata": {},
   "source": [
    "#### Tune hyperparameters"
   ]
  },
  {
   "cell_type": "code",
   "execution_count": 104,
   "metadata": {},
   "outputs": [],
   "source": [
    "p_grid = {\n",
    "    'hidden_layer_sizes': [(100,), (100,100,), (100,100,100,)],\n",
    "    'alpha': [0.001,0.01,0.1,1,10],\n",
    "    'learning_rate_init': [0.0001,0.001,0.01,0.1,1],\n",
    "    'solver': ['lbfgs', 'sgd', 'adam']    \n",
    "}"
   ]
  },
  {
   "cell_type": "code",
   "execution_count": 76,
   "metadata": {},
   "outputs": [],
   "source": [
    "from sklearn.model_selection import GridSearchCV"
   ]
  },
  {
   "cell_type": "code",
   "execution_count": 105,
   "metadata": {},
   "outputs": [],
   "source": [
    "# build pipeline\n",
    "nn_pipeline = Pipeline([\n",
    "    # (step_name, what_to_do)\n",
    "    \n",
    "    # Step 1: Turn corpus into bag of words \n",
    "    ('bow', CountVectorizer(analyzer=text_process)),\n",
    "    \n",
    "    # Step 2: Give TF-IDF weights to bag of words\n",
    "    ('tfidf', TfidfTransformer()),\n",
    "    \n",
    "    # Step 3: Fit classification model\n",
    "    ('classifier', GridSearchCV(MLPClassifier(max_iter=2000), p_grid, verbose=3))\n",
    "])"
   ]
  },
  {
   "cell_type": "code",
   "execution_count": 106,
   "metadata": {},
   "outputs": [
    {
     "name": "stdout",
     "output_type": "stream",
     "text": [
      "Fitting 5 folds for each of 225 candidates, totalling 1125 fits\n",
      "[CV] alpha=0.001, hidden_layer_sizes=(100,), learning_rate_init=0.0001, solver=lbfgs \n"
     ]
    },
    {
     "name": "stderr",
     "output_type": "stream",
     "text": [
      "[Parallel(n_jobs=1)]: Using backend SequentialBackend with 1 concurrent workers.\n"
     ]
    },
    {
     "name": "stdout",
     "output_type": "stream",
     "text": [
      "[CV]  alpha=0.001, hidden_layer_sizes=(100,), learning_rate_init=0.0001, solver=lbfgs, score=0.897, total=   0.3s\n",
      "[CV] alpha=0.001, hidden_layer_sizes=(100,), learning_rate_init=0.0001, solver=lbfgs \n"
     ]
    },
    {
     "name": "stderr",
     "output_type": "stream",
     "text": [
      "[Parallel(n_jobs=1)]: Done   1 out of   1 | elapsed:    0.3s remaining:    0.0s\n"
     ]
    },
    {
     "name": "stdout",
     "output_type": "stream",
     "text": [
      "[CV]  alpha=0.001, hidden_layer_sizes=(100,), learning_rate_init=0.0001, solver=lbfgs, score=0.872, total=   0.5s\n",
      "[CV] alpha=0.001, hidden_layer_sizes=(100,), learning_rate_init=0.0001, solver=lbfgs \n"
     ]
    },
    {
     "name": "stderr",
     "output_type": "stream",
     "text": [
      "[Parallel(n_jobs=1)]: Done   2 out of   2 | elapsed:    0.7s remaining:    0.0s\n"
     ]
    },
    {
     "name": "stdout",
     "output_type": "stream",
     "text": [
      "[CV]  alpha=0.001, hidden_layer_sizes=(100,), learning_rate_init=0.0001, solver=lbfgs, score=0.769, total=   0.4s\n",
      "[CV] alpha=0.001, hidden_layer_sizes=(100,), learning_rate_init=0.0001, solver=lbfgs \n",
      "[CV]  alpha=0.001, hidden_layer_sizes=(100,), learning_rate_init=0.0001, solver=lbfgs, score=0.868, total=   0.3s\n",
      "[CV] alpha=0.001, hidden_layer_sizes=(100,), learning_rate_init=0.0001, solver=lbfgs \n",
      "[CV]  alpha=0.001, hidden_layer_sizes=(100,), learning_rate_init=0.0001, solver=lbfgs, score=0.737, total=   0.4s\n",
      "[CV] alpha=0.001, hidden_layer_sizes=(100,), learning_rate_init=0.0001, solver=sgd \n",
      "[CV]  alpha=0.001, hidden_layer_sizes=(100,), learning_rate_init=0.0001, solver=sgd, score=0.487, total=   0.0s\n",
      "[CV] alpha=0.001, hidden_layer_sizes=(100,), learning_rate_init=0.0001, solver=sgd \n",
      "[CV]  alpha=0.001, hidden_layer_sizes=(100,), learning_rate_init=0.0001, solver=sgd, score=0.487, total=   0.0s\n",
      "[CV] alpha=0.001, hidden_layer_sizes=(100,), learning_rate_init=0.0001, solver=sgd \n",
      "[CV]  alpha=0.001, hidden_layer_sizes=(100,), learning_rate_init=0.0001, solver=sgd, score=0.538, total=   0.0s\n",
      "[CV] alpha=0.001, hidden_layer_sizes=(100,), learning_rate_init=0.0001, solver=sgd \n",
      "[CV]  alpha=0.001, hidden_layer_sizes=(100,), learning_rate_init=0.0001, solver=sgd, score=0.526, total=   0.0s\n",
      "[CV] alpha=0.001, hidden_layer_sizes=(100,), learning_rate_init=0.0001, solver=sgd \n",
      "[CV]  alpha=0.001, hidden_layer_sizes=(100,), learning_rate_init=0.0001, solver=sgd, score=0.474, total=   0.0s\n",
      "[CV] alpha=0.001, hidden_layer_sizes=(100,), learning_rate_init=0.0001, solver=adam \n",
      "[CV]  alpha=0.001, hidden_layer_sizes=(100,), learning_rate_init=0.0001, solver=adam, score=0.897, total=   2.0s\n",
      "[CV] alpha=0.001, hidden_layer_sizes=(100,), learning_rate_init=0.0001, solver=adam \n",
      "[CV]  alpha=0.001, hidden_layer_sizes=(100,), learning_rate_init=0.0001, solver=adam, score=0.846, total=   2.1s\n",
      "[CV] alpha=0.001, hidden_layer_sizes=(100,), learning_rate_init=0.0001, solver=adam \n",
      "[CV]  alpha=0.001, hidden_layer_sizes=(100,), learning_rate_init=0.0001, solver=adam, score=0.821, total=   2.1s\n",
      "[CV] alpha=0.001, hidden_layer_sizes=(100,), learning_rate_init=0.0001, solver=adam \n",
      "[CV]  alpha=0.001, hidden_layer_sizes=(100,), learning_rate_init=0.0001, solver=adam, score=0.868, total=   2.0s\n",
      "[CV] alpha=0.001, hidden_layer_sizes=(100,), learning_rate_init=0.0001, solver=adam \n",
      "[CV]  alpha=0.001, hidden_layer_sizes=(100,), learning_rate_init=0.0001, solver=adam, score=0.763, total=   1.9s\n",
      "[CV] alpha=0.001, hidden_layer_sizes=(100,), learning_rate_init=0.001, solver=lbfgs \n",
      "[CV]  alpha=0.001, hidden_layer_sizes=(100,), learning_rate_init=0.001, solver=lbfgs, score=0.769, total=   0.3s\n",
      "[CV] alpha=0.001, hidden_layer_sizes=(100,), learning_rate_init=0.001, solver=lbfgs \n",
      "[CV]  alpha=0.001, hidden_layer_sizes=(100,), learning_rate_init=0.001, solver=lbfgs, score=0.872, total=   0.2s\n",
      "[CV] alpha=0.001, hidden_layer_sizes=(100,), learning_rate_init=0.001, solver=lbfgs \n",
      "[CV]  alpha=0.001, hidden_layer_sizes=(100,), learning_rate_init=0.001, solver=lbfgs, score=0.769, total=   0.4s\n",
      "[CV] alpha=0.001, hidden_layer_sizes=(100,), learning_rate_init=0.001, solver=lbfgs \n",
      "[CV]  alpha=0.001, hidden_layer_sizes=(100,), learning_rate_init=0.001, solver=lbfgs, score=0.868, total=   0.3s\n",
      "[CV] alpha=0.001, hidden_layer_sizes=(100,), learning_rate_init=0.001, solver=lbfgs \n",
      "[CV]  alpha=0.001, hidden_layer_sizes=(100,), learning_rate_init=0.001, solver=lbfgs, score=0.684, total=   0.3s\n",
      "[CV] alpha=0.001, hidden_layer_sizes=(100,), learning_rate_init=0.001, solver=sgd \n",
      "[CV]  alpha=0.001, hidden_layer_sizes=(100,), learning_rate_init=0.001, solver=sgd, score=0.513, total=   0.0s\n",
      "[CV] alpha=0.001, hidden_layer_sizes=(100,), learning_rate_init=0.001, solver=sgd \n",
      "[CV]  alpha=0.001, hidden_layer_sizes=(100,), learning_rate_init=0.001, solver=sgd, score=0.513, total=   0.0s\n",
      "[CV] alpha=0.001, hidden_layer_sizes=(100,), learning_rate_init=0.001, solver=sgd \n",
      "[CV]  alpha=0.001, hidden_layer_sizes=(100,), learning_rate_init=0.001, solver=sgd, score=0.462, total=   0.0s\n",
      "[CV] alpha=0.001, hidden_layer_sizes=(100,), learning_rate_init=0.001, solver=sgd \n",
      "[CV]  alpha=0.001, hidden_layer_sizes=(100,), learning_rate_init=0.001, solver=sgd, score=0.474, total=   0.0s\n",
      "[CV] alpha=0.001, hidden_layer_sizes=(100,), learning_rate_init=0.001, solver=sgd \n",
      "[CV]  alpha=0.001, hidden_layer_sizes=(100,), learning_rate_init=0.001, solver=sgd, score=0.526, total=   0.0s\n",
      "[CV] alpha=0.001, hidden_layer_sizes=(100,), learning_rate_init=0.001, solver=adam \n",
      "[CV]  alpha=0.001, hidden_layer_sizes=(100,), learning_rate_init=0.001, solver=adam, score=0.897, total=   0.4s\n",
      "[CV] alpha=0.001, hidden_layer_sizes=(100,), learning_rate_init=0.001, solver=adam \n",
      "[CV]  alpha=0.001, hidden_layer_sizes=(100,), learning_rate_init=0.001, solver=adam, score=0.872, total=   0.5s\n",
      "[CV] alpha=0.001, hidden_layer_sizes=(100,), learning_rate_init=0.001, solver=adam \n",
      "[CV]  alpha=0.001, hidden_layer_sizes=(100,), learning_rate_init=0.001, solver=adam, score=0.769, total=   0.5s\n",
      "[CV] alpha=0.001, hidden_layer_sizes=(100,), learning_rate_init=0.001, solver=adam \n",
      "[CV]  alpha=0.001, hidden_layer_sizes=(100,), learning_rate_init=0.001, solver=adam, score=0.868, total=   0.4s\n",
      "[CV] alpha=0.001, hidden_layer_sizes=(100,), learning_rate_init=0.001, solver=adam \n",
      "[CV]  alpha=0.001, hidden_layer_sizes=(100,), learning_rate_init=0.001, solver=adam, score=0.763, total=   0.4s\n",
      "[CV] alpha=0.001, hidden_layer_sizes=(100,), learning_rate_init=0.01, solver=lbfgs \n",
      "[CV]  alpha=0.001, hidden_layer_sizes=(100,), learning_rate_init=0.01, solver=lbfgs, score=0.923, total=   0.4s\n",
      "[CV] alpha=0.001, hidden_layer_sizes=(100,), learning_rate_init=0.01, solver=lbfgs \n",
      "[CV]  alpha=0.001, hidden_layer_sizes=(100,), learning_rate_init=0.01, solver=lbfgs, score=0.872, total=   0.3s\n",
      "[CV] alpha=0.001, hidden_layer_sizes=(100,), learning_rate_init=0.01, solver=lbfgs \n",
      "[CV]  alpha=0.001, hidden_layer_sizes=(100,), learning_rate_init=0.01, solver=lbfgs, score=0.769, total=   0.3s\n",
      "[CV] alpha=0.001, hidden_layer_sizes=(100,), learning_rate_init=0.01, solver=lbfgs \n",
      "[CV]  alpha=0.001, hidden_layer_sizes=(100,), learning_rate_init=0.01, solver=lbfgs, score=0.895, total=   0.3s\n",
      "[CV] alpha=0.001, hidden_layer_sizes=(100,), learning_rate_init=0.01, solver=lbfgs \n",
      "[CV]  alpha=0.001, hidden_layer_sizes=(100,), learning_rate_init=0.01, solver=lbfgs, score=0.789, total=   0.3s\n",
      "[CV] alpha=0.001, hidden_layer_sizes=(100,), learning_rate_init=0.01, solver=sgd \n",
      "[CV]  alpha=0.001, hidden_layer_sizes=(100,), learning_rate_init=0.01, solver=sgd, score=0.923, total=   1.4s\n",
      "[CV] alpha=0.001, hidden_layer_sizes=(100,), learning_rate_init=0.01, solver=sgd \n",
      "[CV]  alpha=0.001, hidden_layer_sizes=(100,), learning_rate_init=0.01, solver=sgd, score=0.897, total=   1.6s\n",
      "[CV] alpha=0.001, hidden_layer_sizes=(100,), learning_rate_init=0.01, solver=sgd \n",
      "[CV]  alpha=0.001, hidden_layer_sizes=(100,), learning_rate_init=0.01, solver=sgd, score=0.821, total=   1.5s\n",
      "[CV] alpha=0.001, hidden_layer_sizes=(100,), learning_rate_init=0.01, solver=sgd \n",
      "[CV]  alpha=0.001, hidden_layer_sizes=(100,), learning_rate_init=0.01, solver=sgd, score=0.895, total=   1.7s\n",
      "[CV] alpha=0.001, hidden_layer_sizes=(100,), learning_rate_init=0.01, solver=sgd \n",
      "[CV]  alpha=0.001, hidden_layer_sizes=(100,), learning_rate_init=0.01, solver=sgd, score=0.816, total=   1.5s\n",
      "[CV] alpha=0.001, hidden_layer_sizes=(100,), learning_rate_init=0.01, solver=adam \n",
      "[CV]  alpha=0.001, hidden_layer_sizes=(100,), learning_rate_init=0.01, solver=adam, score=0.923, total=   0.1s\n",
      "[CV] alpha=0.001, hidden_layer_sizes=(100,), learning_rate_init=0.01, solver=adam \n",
      "[CV]  alpha=0.001, hidden_layer_sizes=(100,), learning_rate_init=0.01, solver=adam, score=0.872, total=   0.1s\n",
      "[CV] alpha=0.001, hidden_layer_sizes=(100,), learning_rate_init=0.01, solver=adam \n",
      "[CV]  alpha=0.001, hidden_layer_sizes=(100,), learning_rate_init=0.01, solver=adam, score=0.744, total=   0.1s\n",
      "[CV] alpha=0.001, hidden_layer_sizes=(100,), learning_rate_init=0.01, solver=adam \n",
      "[CV]  alpha=0.001, hidden_layer_sizes=(100,), learning_rate_init=0.01, solver=adam, score=0.868, total=   0.1s\n",
      "[CV] alpha=0.001, hidden_layer_sizes=(100,), learning_rate_init=0.01, solver=adam \n",
      "[CV]  alpha=0.001, hidden_layer_sizes=(100,), learning_rate_init=0.01, solver=adam, score=0.763, total=   0.1s\n",
      "[CV] alpha=0.001, hidden_layer_sizes=(100,), learning_rate_init=0.1, solver=lbfgs \n"
     ]
    },
    {
     "name": "stdout",
     "output_type": "stream",
     "text": [
      "[CV]  alpha=0.001, hidden_layer_sizes=(100,), learning_rate_init=0.1, solver=lbfgs, score=0.846, total=   0.2s\n",
      "[CV] alpha=0.001, hidden_layer_sizes=(100,), learning_rate_init=0.1, solver=lbfgs \n",
      "[CV]  alpha=0.001, hidden_layer_sizes=(100,), learning_rate_init=0.1, solver=lbfgs, score=0.872, total=   0.5s\n",
      "[CV] alpha=0.001, hidden_layer_sizes=(100,), learning_rate_init=0.1, solver=lbfgs \n",
      "[CV]  alpha=0.001, hidden_layer_sizes=(100,), learning_rate_init=0.1, solver=lbfgs, score=0.769, total=   0.4s\n",
      "[CV] alpha=0.001, hidden_layer_sizes=(100,), learning_rate_init=0.1, solver=lbfgs \n",
      "[CV]  alpha=0.001, hidden_layer_sizes=(100,), learning_rate_init=0.1, solver=lbfgs, score=0.868, total=   0.3s\n",
      "[CV] alpha=0.001, hidden_layer_sizes=(100,), learning_rate_init=0.1, solver=lbfgs \n",
      "[CV]  alpha=0.001, hidden_layer_sizes=(100,), learning_rate_init=0.1, solver=lbfgs, score=0.684, total=   0.4s\n",
      "[CV] alpha=0.001, hidden_layer_sizes=(100,), learning_rate_init=0.1, solver=sgd \n",
      "[CV]  alpha=0.001, hidden_layer_sizes=(100,), learning_rate_init=0.1, solver=sgd, score=0.897, total=   0.3s\n",
      "[CV] alpha=0.001, hidden_layer_sizes=(100,), learning_rate_init=0.1, solver=sgd \n",
      "[CV]  alpha=0.001, hidden_layer_sizes=(100,), learning_rate_init=0.1, solver=sgd, score=0.872, total=   0.3s\n",
      "[CV] alpha=0.001, hidden_layer_sizes=(100,), learning_rate_init=0.1, solver=sgd \n",
      "[CV]  alpha=0.001, hidden_layer_sizes=(100,), learning_rate_init=0.1, solver=sgd, score=0.821, total=   0.3s\n",
      "[CV] alpha=0.001, hidden_layer_sizes=(100,), learning_rate_init=0.1, solver=sgd \n",
      "[CV]  alpha=0.001, hidden_layer_sizes=(100,), learning_rate_init=0.1, solver=sgd, score=0.868, total=   0.4s\n",
      "[CV] alpha=0.001, hidden_layer_sizes=(100,), learning_rate_init=0.1, solver=sgd \n",
      "[CV]  alpha=0.001, hidden_layer_sizes=(100,), learning_rate_init=0.1, solver=sgd, score=0.789, total=   0.4s\n",
      "[CV] alpha=0.001, hidden_layer_sizes=(100,), learning_rate_init=0.1, solver=adam \n",
      "[CV]  alpha=0.001, hidden_layer_sizes=(100,), learning_rate_init=0.1, solver=adam, score=0.744, total=   0.0s\n",
      "[CV] alpha=0.001, hidden_layer_sizes=(100,), learning_rate_init=0.1, solver=adam \n",
      "[CV]  alpha=0.001, hidden_layer_sizes=(100,), learning_rate_init=0.1, solver=adam, score=0.872, total=   0.0s\n",
      "[CV] alpha=0.001, hidden_layer_sizes=(100,), learning_rate_init=0.1, solver=adam \n",
      "[CV]  alpha=0.001, hidden_layer_sizes=(100,), learning_rate_init=0.1, solver=adam, score=0.769, total=   0.0s\n",
      "[CV] alpha=0.001, hidden_layer_sizes=(100,), learning_rate_init=0.1, solver=adam \n",
      "[CV]  alpha=0.001, hidden_layer_sizes=(100,), learning_rate_init=0.1, solver=adam, score=0.895, total=   0.0s\n",
      "[CV] alpha=0.001, hidden_layer_sizes=(100,), learning_rate_init=0.1, solver=adam \n",
      "[CV]  alpha=0.001, hidden_layer_sizes=(100,), learning_rate_init=0.1, solver=adam, score=0.842, total=   0.0s\n",
      "[CV] alpha=0.001, hidden_layer_sizes=(100,), learning_rate_init=1, solver=lbfgs \n",
      "[CV]  alpha=0.001, hidden_layer_sizes=(100,), learning_rate_init=1, solver=lbfgs, score=0.744, total=   0.2s\n",
      "[CV] alpha=0.001, hidden_layer_sizes=(100,), learning_rate_init=1, solver=lbfgs \n",
      "[CV]  alpha=0.001, hidden_layer_sizes=(100,), learning_rate_init=1, solver=lbfgs, score=0.872, total=   0.4s\n",
      "[CV] alpha=0.001, hidden_layer_sizes=(100,), learning_rate_init=1, solver=lbfgs \n",
      "[CV]  alpha=0.001, hidden_layer_sizes=(100,), learning_rate_init=1, solver=lbfgs, score=0.769, total=   0.4s\n",
      "[CV] alpha=0.001, hidden_layer_sizes=(100,), learning_rate_init=1, solver=lbfgs \n",
      "[CV]  alpha=0.001, hidden_layer_sizes=(100,), learning_rate_init=1, solver=lbfgs, score=0.868, total=   0.4s\n",
      "[CV] alpha=0.001, hidden_layer_sizes=(100,), learning_rate_init=1, solver=lbfgs \n",
      "[CV]  alpha=0.001, hidden_layer_sizes=(100,), learning_rate_init=1, solver=lbfgs, score=0.711, total=   0.3s\n",
      "[CV] alpha=0.001, hidden_layer_sizes=(100,), learning_rate_init=1, solver=sgd \n",
      "[CV]  alpha=0.001, hidden_layer_sizes=(100,), learning_rate_init=1, solver=sgd, score=0.897, total=   0.1s\n",
      "[CV] alpha=0.001, hidden_layer_sizes=(100,), learning_rate_init=1, solver=sgd \n",
      "[CV]  alpha=0.001, hidden_layer_sizes=(100,), learning_rate_init=1, solver=sgd, score=0.872, total=   0.1s\n",
      "[CV] alpha=0.001, hidden_layer_sizes=(100,), learning_rate_init=1, solver=sgd \n",
      "[CV]  alpha=0.001, hidden_layer_sizes=(100,), learning_rate_init=1, solver=sgd, score=0.795, total=   0.0s\n",
      "[CV] alpha=0.001, hidden_layer_sizes=(100,), learning_rate_init=1, solver=sgd \n",
      "[CV]  alpha=0.001, hidden_layer_sizes=(100,), learning_rate_init=1, solver=sgd, score=0.868, total=   0.0s\n",
      "[CV] alpha=0.001, hidden_layer_sizes=(100,), learning_rate_init=1, solver=sgd \n",
      "[CV]  alpha=0.001, hidden_layer_sizes=(100,), learning_rate_init=1, solver=sgd, score=0.763, total=   0.1s\n",
      "[CV] alpha=0.001, hidden_layer_sizes=(100,), learning_rate_init=1, solver=adam \n",
      "[CV]  alpha=0.001, hidden_layer_sizes=(100,), learning_rate_init=1, solver=adam, score=0.923, total=   0.0s\n",
      "[CV] alpha=0.001, hidden_layer_sizes=(100,), learning_rate_init=1, solver=adam \n",
      "[CV]  alpha=0.001, hidden_layer_sizes=(100,), learning_rate_init=1, solver=adam, score=0.821, total=   0.0s\n",
      "[CV] alpha=0.001, hidden_layer_sizes=(100,), learning_rate_init=1, solver=adam \n",
      "[CV]  alpha=0.001, hidden_layer_sizes=(100,), learning_rate_init=1, solver=adam, score=0.872, total=   0.0s\n",
      "[CV] alpha=0.001, hidden_layer_sizes=(100,), learning_rate_init=1, solver=adam \n",
      "[CV]  alpha=0.001, hidden_layer_sizes=(100,), learning_rate_init=1, solver=adam, score=0.895, total=   0.0s\n",
      "[CV] alpha=0.001, hidden_layer_sizes=(100,), learning_rate_init=1, solver=adam \n",
      "[CV]  alpha=0.001, hidden_layer_sizes=(100,), learning_rate_init=1, solver=adam, score=0.816, total=   0.0s\n",
      "[CV] alpha=0.001, hidden_layer_sizes=(100, 100), learning_rate_init=0.0001, solver=lbfgs \n",
      "[CV]  alpha=0.001, hidden_layer_sizes=(100, 100), learning_rate_init=0.0001, solver=lbfgs, score=0.949, total=   0.6s\n",
      "[CV] alpha=0.001, hidden_layer_sizes=(100, 100), learning_rate_init=0.0001, solver=lbfgs \n",
      "[CV]  alpha=0.001, hidden_layer_sizes=(100, 100), learning_rate_init=0.0001, solver=lbfgs, score=0.872, total=   0.6s\n",
      "[CV] alpha=0.001, hidden_layer_sizes=(100, 100), learning_rate_init=0.0001, solver=lbfgs \n",
      "[CV]  alpha=0.001, hidden_layer_sizes=(100, 100), learning_rate_init=0.0001, solver=lbfgs, score=0.769, total=   0.5s\n",
      "[CV] alpha=0.001, hidden_layer_sizes=(100, 100), learning_rate_init=0.0001, solver=lbfgs \n",
      "[CV]  alpha=0.001, hidden_layer_sizes=(100, 100), learning_rate_init=0.0001, solver=lbfgs, score=0.868, total=   0.6s\n",
      "[CV] alpha=0.001, hidden_layer_sizes=(100, 100), learning_rate_init=0.0001, solver=lbfgs \n",
      "[CV]  alpha=0.001, hidden_layer_sizes=(100, 100), learning_rate_init=0.0001, solver=lbfgs, score=0.789, total=   0.5s\n",
      "[CV] alpha=0.001, hidden_layer_sizes=(100, 100), learning_rate_init=0.0001, solver=sgd \n",
      "[CV]  alpha=0.001, hidden_layer_sizes=(100, 100), learning_rate_init=0.0001, solver=sgd, score=0.513, total=   0.0s\n",
      "[CV] alpha=0.001, hidden_layer_sizes=(100, 100), learning_rate_init=0.0001, solver=sgd \n",
      "[CV]  alpha=0.001, hidden_layer_sizes=(100, 100), learning_rate_init=0.0001, solver=sgd, score=0.385, total=   0.0s\n",
      "[CV] alpha=0.001, hidden_layer_sizes=(100, 100), learning_rate_init=0.0001, solver=sgd \n",
      "[CV]  alpha=0.001, hidden_layer_sizes=(100, 100), learning_rate_init=0.0001, solver=sgd, score=0.538, total=   0.0s\n",
      "[CV] alpha=0.001, hidden_layer_sizes=(100, 100), learning_rate_init=0.0001, solver=sgd \n",
      "[CV]  alpha=0.001, hidden_layer_sizes=(100, 100), learning_rate_init=0.0001, solver=sgd, score=0.553, total=   0.0s\n",
      "[CV] alpha=0.001, hidden_layer_sizes=(100, 100), learning_rate_init=0.0001, solver=sgd \n",
      "[CV]  alpha=0.001, hidden_layer_sizes=(100, 100), learning_rate_init=0.0001, solver=sgd, score=0.474, total=   0.0s\n",
      "[CV] alpha=0.001, hidden_layer_sizes=(100, 100), learning_rate_init=0.0001, solver=adam \n",
      "[CV]  alpha=0.001, hidden_layer_sizes=(100, 100), learning_rate_init=0.0001, solver=adam, score=0.897, total=   1.5s\n",
      "[CV] alpha=0.001, hidden_layer_sizes=(100, 100), learning_rate_init=0.0001, solver=adam \n",
      "[CV]  alpha=0.001, hidden_layer_sizes=(100, 100), learning_rate_init=0.0001, solver=adam, score=0.872, total=   1.6s\n",
      "[CV] alpha=0.001, hidden_layer_sizes=(100, 100), learning_rate_init=0.0001, solver=adam \n",
      "[CV]  alpha=0.001, hidden_layer_sizes=(100, 100), learning_rate_init=0.0001, solver=adam, score=0.795, total=   1.6s\n",
      "[CV] alpha=0.001, hidden_layer_sizes=(100, 100), learning_rate_init=0.0001, solver=adam \n"
     ]
    },
    {
     "name": "stdout",
     "output_type": "stream",
     "text": [
      "[CV]  alpha=0.001, hidden_layer_sizes=(100, 100), learning_rate_init=0.0001, solver=adam, score=0.868, total=   1.6s\n",
      "[CV] alpha=0.001, hidden_layer_sizes=(100, 100), learning_rate_init=0.0001, solver=adam \n",
      "[CV]  alpha=0.001, hidden_layer_sizes=(100, 100), learning_rate_init=0.0001, solver=adam, score=0.763, total=   1.6s\n",
      "[CV] alpha=0.001, hidden_layer_sizes=(100, 100), learning_rate_init=0.001, solver=lbfgs \n",
      "[CV]  alpha=0.001, hidden_layer_sizes=(100, 100), learning_rate_init=0.001, solver=lbfgs, score=0.821, total=   0.4s\n",
      "[CV] alpha=0.001, hidden_layer_sizes=(100, 100), learning_rate_init=0.001, solver=lbfgs \n",
      "[CV]  alpha=0.001, hidden_layer_sizes=(100, 100), learning_rate_init=0.001, solver=lbfgs, score=0.821, total=   0.4s\n",
      "[CV] alpha=0.001, hidden_layer_sizes=(100, 100), learning_rate_init=0.001, solver=lbfgs \n",
      "[CV]  alpha=0.001, hidden_layer_sizes=(100, 100), learning_rate_init=0.001, solver=lbfgs, score=0.821, total=   0.4s\n",
      "[CV] alpha=0.001, hidden_layer_sizes=(100, 100), learning_rate_init=0.001, solver=lbfgs \n",
      "[CV]  alpha=0.001, hidden_layer_sizes=(100, 100), learning_rate_init=0.001, solver=lbfgs, score=0.868, total=   0.5s\n",
      "[CV] alpha=0.001, hidden_layer_sizes=(100, 100), learning_rate_init=0.001, solver=lbfgs \n",
      "[CV]  alpha=0.001, hidden_layer_sizes=(100, 100), learning_rate_init=0.001, solver=lbfgs, score=0.711, total=   0.5s\n",
      "[CV] alpha=0.001, hidden_layer_sizes=(100, 100), learning_rate_init=0.001, solver=sgd \n",
      "[CV]  alpha=0.001, hidden_layer_sizes=(100, 100), learning_rate_init=0.001, solver=sgd, score=0.513, total=   0.0s\n",
      "[CV] alpha=0.001, hidden_layer_sizes=(100, 100), learning_rate_init=0.001, solver=sgd \n",
      "[CV]  alpha=0.001, hidden_layer_sizes=(100, 100), learning_rate_init=0.001, solver=sgd, score=0.513, total=   0.0s\n",
      "[CV] alpha=0.001, hidden_layer_sizes=(100, 100), learning_rate_init=0.001, solver=sgd \n",
      "[CV]  alpha=0.001, hidden_layer_sizes=(100, 100), learning_rate_init=0.001, solver=sgd, score=0.462, total=   0.2s\n",
      "[CV] alpha=0.001, hidden_layer_sizes=(100, 100), learning_rate_init=0.001, solver=sgd \n",
      "[CV]  alpha=0.001, hidden_layer_sizes=(100, 100), learning_rate_init=0.001, solver=sgd, score=0.474, total=   0.2s\n",
      "[CV] alpha=0.001, hidden_layer_sizes=(100, 100), learning_rate_init=0.001, solver=sgd \n",
      "[CV]  alpha=0.001, hidden_layer_sizes=(100, 100), learning_rate_init=0.001, solver=sgd, score=0.526, total=   0.0s\n",
      "[CV] alpha=0.001, hidden_layer_sizes=(100, 100), learning_rate_init=0.001, solver=adam \n",
      "[CV]  alpha=0.001, hidden_layer_sizes=(100, 100), learning_rate_init=0.001, solver=adam, score=0.897, total=   0.3s\n",
      "[CV] alpha=0.001, hidden_layer_sizes=(100, 100), learning_rate_init=0.001, solver=adam \n",
      "[CV]  alpha=0.001, hidden_layer_sizes=(100, 100), learning_rate_init=0.001, solver=adam, score=0.872, total=   0.3s\n",
      "[CV] alpha=0.001, hidden_layer_sizes=(100, 100), learning_rate_init=0.001, solver=adam \n",
      "[CV]  alpha=0.001, hidden_layer_sizes=(100, 100), learning_rate_init=0.001, solver=adam, score=0.744, total=   0.3s\n",
      "[CV] alpha=0.001, hidden_layer_sizes=(100, 100), learning_rate_init=0.001, solver=adam \n",
      "[CV]  alpha=0.001, hidden_layer_sizes=(100, 100), learning_rate_init=0.001, solver=adam, score=0.868, total=   0.3s\n",
      "[CV] alpha=0.001, hidden_layer_sizes=(100, 100), learning_rate_init=0.001, solver=adam \n",
      "[CV]  alpha=0.001, hidden_layer_sizes=(100, 100), learning_rate_init=0.001, solver=adam, score=0.789, total=   0.3s\n",
      "[CV] alpha=0.001, hidden_layer_sizes=(100, 100), learning_rate_init=0.01, solver=lbfgs \n",
      "[CV]  alpha=0.001, hidden_layer_sizes=(100, 100), learning_rate_init=0.01, solver=lbfgs, score=0.872, total=   0.3s\n",
      "[CV] alpha=0.001, hidden_layer_sizes=(100, 100), learning_rate_init=0.01, solver=lbfgs \n",
      "[CV]  alpha=0.001, hidden_layer_sizes=(100, 100), learning_rate_init=0.01, solver=lbfgs, score=0.872, total=   0.5s\n",
      "[CV] alpha=0.001, hidden_layer_sizes=(100, 100), learning_rate_init=0.01, solver=lbfgs \n",
      "[CV]  alpha=0.001, hidden_layer_sizes=(100, 100), learning_rate_init=0.01, solver=lbfgs, score=0.795, total=   0.4s\n",
      "[CV] alpha=0.001, hidden_layer_sizes=(100, 100), learning_rate_init=0.01, solver=lbfgs \n",
      "[CV]  alpha=0.001, hidden_layer_sizes=(100, 100), learning_rate_init=0.01, solver=lbfgs, score=0.868, total=   0.5s\n",
      "[CV] alpha=0.001, hidden_layer_sizes=(100, 100), learning_rate_init=0.01, solver=lbfgs \n",
      "[CV]  alpha=0.001, hidden_layer_sizes=(100, 100), learning_rate_init=0.01, solver=lbfgs, score=0.816, total=   0.4s\n",
      "[CV] alpha=0.001, hidden_layer_sizes=(100, 100), learning_rate_init=0.01, solver=sgd \n",
      "[CV]  alpha=0.001, hidden_layer_sizes=(100, 100), learning_rate_init=0.01, solver=sgd, score=0.846, total=   1.2s\n",
      "[CV] alpha=0.001, hidden_layer_sizes=(100, 100), learning_rate_init=0.01, solver=sgd \n",
      "[CV]  alpha=0.001, hidden_layer_sizes=(100, 100), learning_rate_init=0.01, solver=sgd, score=0.846, total=   1.3s\n",
      "[CV] alpha=0.001, hidden_layer_sizes=(100, 100), learning_rate_init=0.01, solver=sgd \n",
      "[CV]  alpha=0.001, hidden_layer_sizes=(100, 100), learning_rate_init=0.01, solver=sgd, score=0.795, total=   1.1s\n",
      "[CV] alpha=0.001, hidden_layer_sizes=(100, 100), learning_rate_init=0.01, solver=sgd \n",
      "[CV]  alpha=0.001, hidden_layer_sizes=(100, 100), learning_rate_init=0.01, solver=sgd, score=0.842, total=   1.2s\n",
      "[CV] alpha=0.001, hidden_layer_sizes=(100, 100), learning_rate_init=0.01, solver=sgd \n",
      "[CV]  alpha=0.001, hidden_layer_sizes=(100, 100), learning_rate_init=0.01, solver=sgd, score=0.842, total=   1.1s\n",
      "[CV] alpha=0.001, hidden_layer_sizes=(100, 100), learning_rate_init=0.01, solver=adam \n",
      "[CV]  alpha=0.001, hidden_layer_sizes=(100, 100), learning_rate_init=0.01, solver=adam, score=0.923, total=   0.1s\n",
      "[CV] alpha=0.001, hidden_layer_sizes=(100, 100), learning_rate_init=0.01, solver=adam \n",
      "[CV]  alpha=0.001, hidden_layer_sizes=(100, 100), learning_rate_init=0.01, solver=adam, score=0.872, total=   0.1s\n",
      "[CV] alpha=0.001, hidden_layer_sizes=(100, 100), learning_rate_init=0.01, solver=adam \n",
      "[CV]  alpha=0.001, hidden_layer_sizes=(100, 100), learning_rate_init=0.01, solver=adam, score=0.769, total=   0.1s\n",
      "[CV] alpha=0.001, hidden_layer_sizes=(100, 100), learning_rate_init=0.01, solver=adam \n",
      "[CV]  alpha=0.001, hidden_layer_sizes=(100, 100), learning_rate_init=0.01, solver=adam, score=0.868, total=   0.1s\n",
      "[CV] alpha=0.001, hidden_layer_sizes=(100, 100), learning_rate_init=0.01, solver=adam \n",
      "[CV]  alpha=0.001, hidden_layer_sizes=(100, 100), learning_rate_init=0.01, solver=adam, score=0.789, total=   0.1s\n",
      "[CV] alpha=0.001, hidden_layer_sizes=(100, 100), learning_rate_init=0.1, solver=lbfgs \n",
      "[CV]  alpha=0.001, hidden_layer_sizes=(100, 100), learning_rate_init=0.1, solver=lbfgs, score=0.795, total=   0.4s\n",
      "[CV] alpha=0.001, hidden_layer_sizes=(100, 100), learning_rate_init=0.1, solver=lbfgs \n",
      "[CV]  alpha=0.001, hidden_layer_sizes=(100, 100), learning_rate_init=0.1, solver=lbfgs, score=0.872, total=   0.6s\n",
      "[CV] alpha=0.001, hidden_layer_sizes=(100, 100), learning_rate_init=0.1, solver=lbfgs \n",
      "[CV]  alpha=0.001, hidden_layer_sizes=(100, 100), learning_rate_init=0.1, solver=lbfgs, score=0.795, total=   0.4s\n",
      "[CV] alpha=0.001, hidden_layer_sizes=(100, 100), learning_rate_init=0.1, solver=lbfgs \n",
      "[CV]  alpha=0.001, hidden_layer_sizes=(100, 100), learning_rate_init=0.1, solver=lbfgs, score=0.895, total=   0.4s\n",
      "[CV] alpha=0.001, hidden_layer_sizes=(100, 100), learning_rate_init=0.1, solver=lbfgs \n",
      "[CV]  alpha=0.001, hidden_layer_sizes=(100, 100), learning_rate_init=0.1, solver=lbfgs, score=0.763, total=   0.5s\n",
      "[CV] alpha=0.001, hidden_layer_sizes=(100, 100), learning_rate_init=0.1, solver=sgd \n",
      "[CV]  alpha=0.001, hidden_layer_sizes=(100, 100), learning_rate_init=0.1, solver=sgd, score=0.846, total=   0.2s\n",
      "[CV] alpha=0.001, hidden_layer_sizes=(100, 100), learning_rate_init=0.1, solver=sgd \n",
      "[CV]  alpha=0.001, hidden_layer_sizes=(100, 100), learning_rate_init=0.1, solver=sgd, score=0.872, total=   0.2s\n",
      "[CV] alpha=0.001, hidden_layer_sizes=(100, 100), learning_rate_init=0.1, solver=sgd \n",
      "[CV]  alpha=0.001, hidden_layer_sizes=(100, 100), learning_rate_init=0.1, solver=sgd, score=0.821, total=   0.2s\n",
      "[CV] alpha=0.001, hidden_layer_sizes=(100, 100), learning_rate_init=0.1, solver=sgd \n",
      "[CV]  alpha=0.001, hidden_layer_sizes=(100, 100), learning_rate_init=0.1, solver=sgd, score=0.868, total=   0.2s\n",
      "[CV] alpha=0.001, hidden_layer_sizes=(100, 100), learning_rate_init=0.1, solver=sgd \n"
     ]
    },
    {
     "name": "stdout",
     "output_type": "stream",
     "text": [
      "[CV]  alpha=0.001, hidden_layer_sizes=(100, 100), learning_rate_init=0.1, solver=sgd, score=0.737, total=   0.2s\n",
      "[CV] alpha=0.001, hidden_layer_sizes=(100, 100), learning_rate_init=0.1, solver=adam \n",
      "[CV]  alpha=0.001, hidden_layer_sizes=(100, 100), learning_rate_init=0.1, solver=adam, score=0.923, total=   0.0s\n",
      "[CV] alpha=0.001, hidden_layer_sizes=(100, 100), learning_rate_init=0.1, solver=adam \n",
      "[CV]  alpha=0.001, hidden_layer_sizes=(100, 100), learning_rate_init=0.1, solver=adam, score=0.872, total=   0.1s\n",
      "[CV] alpha=0.001, hidden_layer_sizes=(100, 100), learning_rate_init=0.1, solver=adam \n",
      "[CV]  alpha=0.001, hidden_layer_sizes=(100, 100), learning_rate_init=0.1, solver=adam, score=0.769, total=   0.0s\n",
      "[CV] alpha=0.001, hidden_layer_sizes=(100, 100), learning_rate_init=0.1, solver=adam \n",
      "[CV]  alpha=0.001, hidden_layer_sizes=(100, 100), learning_rate_init=0.1, solver=adam, score=0.842, total=   0.0s\n",
      "[CV] alpha=0.001, hidden_layer_sizes=(100, 100), learning_rate_init=0.1, solver=adam \n",
      "[CV]  alpha=0.001, hidden_layer_sizes=(100, 100), learning_rate_init=0.1, solver=adam, score=0.763, total=   0.0s\n",
      "[CV] alpha=0.001, hidden_layer_sizes=(100, 100), learning_rate_init=1, solver=lbfgs \n",
      "[CV]  alpha=0.001, hidden_layer_sizes=(100, 100), learning_rate_init=1, solver=lbfgs, score=0.744, total=   0.4s\n",
      "[CV] alpha=0.001, hidden_layer_sizes=(100, 100), learning_rate_init=1, solver=lbfgs \n",
      "[CV]  alpha=0.001, hidden_layer_sizes=(100, 100), learning_rate_init=1, solver=lbfgs, score=0.872, total=   0.5s\n",
      "[CV] alpha=0.001, hidden_layer_sizes=(100, 100), learning_rate_init=1, solver=lbfgs \n",
      "[CV]  alpha=0.001, hidden_layer_sizes=(100, 100), learning_rate_init=1, solver=lbfgs, score=0.769, total=   0.4s\n",
      "[CV] alpha=0.001, hidden_layer_sizes=(100, 100), learning_rate_init=1, solver=lbfgs \n",
      "[CV]  alpha=0.001, hidden_layer_sizes=(100, 100), learning_rate_init=1, solver=lbfgs, score=0.868, total=   0.7s\n",
      "[CV] alpha=0.001, hidden_layer_sizes=(100, 100), learning_rate_init=1, solver=lbfgs \n",
      "[CV]  alpha=0.001, hidden_layer_sizes=(100, 100), learning_rate_init=1, solver=lbfgs, score=0.737, total=   0.6s\n",
      "[CV] alpha=0.001, hidden_layer_sizes=(100, 100), learning_rate_init=1, solver=sgd \n",
      "[CV]  alpha=0.001, hidden_layer_sizes=(100, 100), learning_rate_init=1, solver=sgd, score=0.513, total=   0.0s\n",
      "[CV] alpha=0.001, hidden_layer_sizes=(100, 100), learning_rate_init=1, solver=sgd \n",
      "[CV]  alpha=0.001, hidden_layer_sizes=(100, 100), learning_rate_init=1, solver=sgd, score=0.513, total=   0.0s\n",
      "[CV] alpha=0.001, hidden_layer_sizes=(100, 100), learning_rate_init=1, solver=sgd \n",
      "[CV]  alpha=0.001, hidden_layer_sizes=(100, 100), learning_rate_init=1, solver=sgd, score=0.769, total=   0.1s\n",
      "[CV] alpha=0.001, hidden_layer_sizes=(100, 100), learning_rate_init=1, solver=sgd \n",
      "[CV]  alpha=0.001, hidden_layer_sizes=(100, 100), learning_rate_init=1, solver=sgd, score=0.474, total=   0.1s\n",
      "[CV] alpha=0.001, hidden_layer_sizes=(100, 100), learning_rate_init=1, solver=sgd \n",
      "[CV]  alpha=0.001, hidden_layer_sizes=(100, 100), learning_rate_init=1, solver=sgd, score=0.526, total=   0.1s\n",
      "[CV] alpha=0.001, hidden_layer_sizes=(100, 100), learning_rate_init=1, solver=adam \n",
      "[CV]  alpha=0.001, hidden_layer_sizes=(100, 100), learning_rate_init=1, solver=adam, score=0.923, total=   0.0s\n",
      "[CV] alpha=0.001, hidden_layer_sizes=(100, 100), learning_rate_init=1, solver=adam \n",
      "[CV]  alpha=0.001, hidden_layer_sizes=(100, 100), learning_rate_init=1, solver=adam, score=0.872, total=   0.0s\n",
      "[CV] alpha=0.001, hidden_layer_sizes=(100, 100), learning_rate_init=1, solver=adam \n",
      "[CV]  alpha=0.001, hidden_layer_sizes=(100, 100), learning_rate_init=1, solver=adam, score=0.795, total=   0.0s\n",
      "[CV] alpha=0.001, hidden_layer_sizes=(100, 100), learning_rate_init=1, solver=adam \n",
      "[CV]  alpha=0.001, hidden_layer_sizes=(100, 100), learning_rate_init=1, solver=adam, score=0.868, total=   0.0s\n",
      "[CV] alpha=0.001, hidden_layer_sizes=(100, 100), learning_rate_init=1, solver=adam \n",
      "[CV]  alpha=0.001, hidden_layer_sizes=(100, 100), learning_rate_init=1, solver=adam, score=0.789, total=   0.0s\n",
      "[CV] alpha=0.001, hidden_layer_sizes=(100, 100, 100), learning_rate_init=0.0001, solver=lbfgs \n",
      "[CV]  alpha=0.001, hidden_layer_sizes=(100, 100, 100), learning_rate_init=0.0001, solver=lbfgs, score=0.769, total=   0.3s\n",
      "[CV] alpha=0.001, hidden_layer_sizes=(100, 100, 100), learning_rate_init=0.0001, solver=lbfgs \n",
      "[CV]  alpha=0.001, hidden_layer_sizes=(100, 100, 100), learning_rate_init=0.0001, solver=lbfgs, score=0.872, total=   0.6s\n",
      "[CV] alpha=0.001, hidden_layer_sizes=(100, 100, 100), learning_rate_init=0.0001, solver=lbfgs \n",
      "[CV]  alpha=0.001, hidden_layer_sizes=(100, 100, 100), learning_rate_init=0.0001, solver=lbfgs, score=0.795, total=   0.5s\n",
      "[CV] alpha=0.001, hidden_layer_sizes=(100, 100, 100), learning_rate_init=0.0001, solver=lbfgs \n",
      "[CV]  alpha=0.001, hidden_layer_sizes=(100, 100, 100), learning_rate_init=0.0001, solver=lbfgs, score=0.868, total=   0.7s\n",
      "[CV] alpha=0.001, hidden_layer_sizes=(100, 100, 100), learning_rate_init=0.0001, solver=lbfgs \n",
      "[CV]  alpha=0.001, hidden_layer_sizes=(100, 100, 100), learning_rate_init=0.0001, solver=lbfgs, score=0.763, total=   0.7s\n",
      "[CV] alpha=0.001, hidden_layer_sizes=(100, 100, 100), learning_rate_init=0.0001, solver=sgd \n",
      "[CV]  alpha=0.001, hidden_layer_sizes=(100, 100, 100), learning_rate_init=0.0001, solver=sgd, score=0.410, total=   0.0s\n",
      "[CV] alpha=0.001, hidden_layer_sizes=(100, 100, 100), learning_rate_init=0.0001, solver=sgd \n",
      "[CV]  alpha=0.001, hidden_layer_sizes=(100, 100, 100), learning_rate_init=0.0001, solver=sgd, score=0.487, total=   0.0s\n",
      "[CV] alpha=0.001, hidden_layer_sizes=(100, 100, 100), learning_rate_init=0.0001, solver=sgd \n",
      "[CV]  alpha=0.001, hidden_layer_sizes=(100, 100, 100), learning_rate_init=0.0001, solver=sgd, score=0.462, total=   0.0s\n",
      "[CV] alpha=0.001, hidden_layer_sizes=(100, 100, 100), learning_rate_init=0.0001, solver=sgd \n",
      "[CV]  alpha=0.001, hidden_layer_sizes=(100, 100, 100), learning_rate_init=0.0001, solver=sgd, score=0.526, total=   0.0s\n",
      "[CV] alpha=0.001, hidden_layer_sizes=(100, 100, 100), learning_rate_init=0.0001, solver=sgd \n",
      "[CV]  alpha=0.001, hidden_layer_sizes=(100, 100, 100), learning_rate_init=0.0001, solver=sgd, score=0.474, total=   0.0s\n",
      "[CV] alpha=0.001, hidden_layer_sizes=(100, 100, 100), learning_rate_init=0.0001, solver=adam \n",
      "[CV]  alpha=0.001, hidden_layer_sizes=(100, 100, 100), learning_rate_init=0.0001, solver=adam, score=0.923, total=   1.3s\n",
      "[CV] alpha=0.001, hidden_layer_sizes=(100, 100, 100), learning_rate_init=0.0001, solver=adam \n",
      "[CV]  alpha=0.001, hidden_layer_sizes=(100, 100, 100), learning_rate_init=0.0001, solver=adam, score=0.872, total=   1.3s\n",
      "[CV] alpha=0.001, hidden_layer_sizes=(100, 100, 100), learning_rate_init=0.0001, solver=adam \n",
      "[CV]  alpha=0.001, hidden_layer_sizes=(100, 100, 100), learning_rate_init=0.0001, solver=adam, score=0.744, total=   1.3s\n",
      "[CV] alpha=0.001, hidden_layer_sizes=(100, 100, 100), learning_rate_init=0.0001, solver=adam \n",
      "[CV]  alpha=0.001, hidden_layer_sizes=(100, 100, 100), learning_rate_init=0.0001, solver=adam, score=0.868, total=   1.3s\n",
      "[CV] alpha=0.001, hidden_layer_sizes=(100, 100, 100), learning_rate_init=0.0001, solver=adam \n",
      "[CV]  alpha=0.001, hidden_layer_sizes=(100, 100, 100), learning_rate_init=0.0001, solver=adam, score=0.763, total=   1.3s\n",
      "[CV] alpha=0.001, hidden_layer_sizes=(100, 100, 100), learning_rate_init=0.001, solver=lbfgs \n",
      "[CV]  alpha=0.001, hidden_layer_sizes=(100, 100, 100), learning_rate_init=0.001, solver=lbfgs, score=0.821, total=   0.6s\n",
      "[CV] alpha=0.001, hidden_layer_sizes=(100, 100, 100), learning_rate_init=0.001, solver=lbfgs \n",
      "[CV]  alpha=0.001, hidden_layer_sizes=(100, 100, 100), learning_rate_init=0.001, solver=lbfgs, score=0.872, total=   0.5s\n",
      "[CV] alpha=0.001, hidden_layer_sizes=(100, 100, 100), learning_rate_init=0.001, solver=lbfgs \n",
      "[CV]  alpha=0.001, hidden_layer_sizes=(100, 100, 100), learning_rate_init=0.001, solver=lbfgs, score=0.769, total=   0.5s\n",
      "[CV] alpha=0.001, hidden_layer_sizes=(100, 100, 100), learning_rate_init=0.001, solver=lbfgs \n",
      "[CV]  alpha=0.001, hidden_layer_sizes=(100, 100, 100), learning_rate_init=0.001, solver=lbfgs, score=0.842, total=   0.9s\n",
      "[CV] alpha=0.001, hidden_layer_sizes=(100, 100, 100), learning_rate_init=0.001, solver=lbfgs \n"
     ]
    },
    {
     "name": "stdout",
     "output_type": "stream",
     "text": [
      "[CV]  alpha=0.001, hidden_layer_sizes=(100, 100, 100), learning_rate_init=0.001, solver=lbfgs, score=0.737, total=   0.6s\n",
      "[CV] alpha=0.001, hidden_layer_sizes=(100, 100, 100), learning_rate_init=0.001, solver=sgd \n",
      "[CV]  alpha=0.001, hidden_layer_sizes=(100, 100, 100), learning_rate_init=0.001, solver=sgd, score=0.513, total=   0.0s\n",
      "[CV] alpha=0.001, hidden_layer_sizes=(100, 100, 100), learning_rate_init=0.001, solver=sgd \n",
      "[CV]  alpha=0.001, hidden_layer_sizes=(100, 100, 100), learning_rate_init=0.001, solver=sgd, score=0.513, total=   0.0s\n",
      "[CV] alpha=0.001, hidden_layer_sizes=(100, 100, 100), learning_rate_init=0.001, solver=sgd \n",
      "[CV]  alpha=0.001, hidden_layer_sizes=(100, 100, 100), learning_rate_init=0.001, solver=sgd, score=0.538, total=   0.2s\n",
      "[CV] alpha=0.001, hidden_layer_sizes=(100, 100, 100), learning_rate_init=0.001, solver=sgd \n",
      "[CV]  alpha=0.001, hidden_layer_sizes=(100, 100, 100), learning_rate_init=0.001, solver=sgd, score=0.474, total=   0.3s\n",
      "[CV] alpha=0.001, hidden_layer_sizes=(100, 100, 100), learning_rate_init=0.001, solver=sgd \n",
      "[CV]  alpha=0.001, hidden_layer_sizes=(100, 100, 100), learning_rate_init=0.001, solver=sgd, score=0.474, total=   0.0s\n",
      "[CV] alpha=0.001, hidden_layer_sizes=(100, 100, 100), learning_rate_init=0.001, solver=adam \n",
      "[CV]  alpha=0.001, hidden_layer_sizes=(100, 100, 100), learning_rate_init=0.001, solver=adam, score=0.897, total=   0.3s\n",
      "[CV] alpha=0.001, hidden_layer_sizes=(100, 100, 100), learning_rate_init=0.001, solver=adam \n",
      "[CV]  alpha=0.001, hidden_layer_sizes=(100, 100, 100), learning_rate_init=0.001, solver=adam, score=0.872, total=   0.3s\n",
      "[CV] alpha=0.001, hidden_layer_sizes=(100, 100, 100), learning_rate_init=0.001, solver=adam \n",
      "[CV]  alpha=0.001, hidden_layer_sizes=(100, 100, 100), learning_rate_init=0.001, solver=adam, score=0.744, total=   0.3s\n",
      "[CV] alpha=0.001, hidden_layer_sizes=(100, 100, 100), learning_rate_init=0.001, solver=adam \n",
      "[CV]  alpha=0.001, hidden_layer_sizes=(100, 100, 100), learning_rate_init=0.001, solver=adam, score=0.868, total=   0.3s\n",
      "[CV] alpha=0.001, hidden_layer_sizes=(100, 100, 100), learning_rate_init=0.001, solver=adam \n",
      "[CV]  alpha=0.001, hidden_layer_sizes=(100, 100, 100), learning_rate_init=0.001, solver=adam, score=0.763, total=   0.3s\n",
      "[CV] alpha=0.001, hidden_layer_sizes=(100, 100, 100), learning_rate_init=0.01, solver=lbfgs \n",
      "[CV]  alpha=0.001, hidden_layer_sizes=(100, 100, 100), learning_rate_init=0.01, solver=lbfgs, score=0.846, total=   0.9s\n",
      "[CV] alpha=0.001, hidden_layer_sizes=(100, 100, 100), learning_rate_init=0.01, solver=lbfgs \n",
      "[CV]  alpha=0.001, hidden_layer_sizes=(100, 100, 100), learning_rate_init=0.01, solver=lbfgs, score=0.872, total=   0.5s\n",
      "[CV] alpha=0.001, hidden_layer_sizes=(100, 100, 100), learning_rate_init=0.01, solver=lbfgs \n",
      "[CV]  alpha=0.001, hidden_layer_sizes=(100, 100, 100), learning_rate_init=0.01, solver=lbfgs, score=0.846, total=   1.2s\n",
      "[CV] alpha=0.001, hidden_layer_sizes=(100, 100, 100), learning_rate_init=0.01, solver=lbfgs \n",
      "[CV]  alpha=0.001, hidden_layer_sizes=(100, 100, 100), learning_rate_init=0.01, solver=lbfgs, score=0.868, total=   0.8s\n",
      "[CV] alpha=0.001, hidden_layer_sizes=(100, 100, 100), learning_rate_init=0.01, solver=lbfgs \n",
      "[CV]  alpha=0.001, hidden_layer_sizes=(100, 100, 100), learning_rate_init=0.01, solver=lbfgs, score=0.711, total=   0.7s\n",
      "[CV] alpha=0.001, hidden_layer_sizes=(100, 100, 100), learning_rate_init=0.01, solver=sgd \n",
      "[CV]  alpha=0.001, hidden_layer_sizes=(100, 100, 100), learning_rate_init=0.01, solver=sgd, score=0.744, total=   1.4s\n",
      "[CV] alpha=0.001, hidden_layer_sizes=(100, 100, 100), learning_rate_init=0.01, solver=sgd \n",
      "[CV]  alpha=0.001, hidden_layer_sizes=(100, 100, 100), learning_rate_init=0.01, solver=sgd, score=0.872, total=   1.5s\n",
      "[CV] alpha=0.001, hidden_layer_sizes=(100, 100, 100), learning_rate_init=0.01, solver=sgd \n",
      "[CV]  alpha=0.001, hidden_layer_sizes=(100, 100, 100), learning_rate_init=0.01, solver=sgd, score=0.846, total=   1.5s\n",
      "[CV] alpha=0.001, hidden_layer_sizes=(100, 100, 100), learning_rate_init=0.01, solver=sgd \n",
      "[CV]  alpha=0.001, hidden_layer_sizes=(100, 100, 100), learning_rate_init=0.01, solver=sgd, score=0.895, total=   1.6s\n",
      "[CV] alpha=0.001, hidden_layer_sizes=(100, 100, 100), learning_rate_init=0.01, solver=sgd \n",
      "[CV]  alpha=0.001, hidden_layer_sizes=(100, 100, 100), learning_rate_init=0.01, solver=sgd, score=0.684, total=   1.4s\n",
      "[CV] alpha=0.001, hidden_layer_sizes=(100, 100, 100), learning_rate_init=0.01, solver=adam \n",
      "[CV]  alpha=0.001, hidden_layer_sizes=(100, 100, 100), learning_rate_init=0.01, solver=adam, score=0.923, total=   0.1s\n",
      "[CV] alpha=0.001, hidden_layer_sizes=(100, 100, 100), learning_rate_init=0.01, solver=adam \n",
      "[CV]  alpha=0.001, hidden_layer_sizes=(100, 100, 100), learning_rate_init=0.01, solver=adam, score=0.821, total=   0.1s\n",
      "[CV] alpha=0.001, hidden_layer_sizes=(100, 100, 100), learning_rate_init=0.01, solver=adam \n",
      "[CV]  alpha=0.001, hidden_layer_sizes=(100, 100, 100), learning_rate_init=0.01, solver=adam, score=0.821, total=   0.1s\n",
      "[CV] alpha=0.001, hidden_layer_sizes=(100, 100, 100), learning_rate_init=0.01, solver=adam \n",
      "[CV]  alpha=0.001, hidden_layer_sizes=(100, 100, 100), learning_rate_init=0.01, solver=adam, score=0.868, total=   0.1s\n",
      "[CV] alpha=0.001, hidden_layer_sizes=(100, 100, 100), learning_rate_init=0.01, solver=adam \n",
      "[CV]  alpha=0.001, hidden_layer_sizes=(100, 100, 100), learning_rate_init=0.01, solver=adam, score=0.789, total=   0.1s\n",
      "[CV] alpha=0.001, hidden_layer_sizes=(100, 100, 100), learning_rate_init=0.1, solver=lbfgs \n",
      "[CV]  alpha=0.001, hidden_layer_sizes=(100, 100, 100), learning_rate_init=0.1, solver=lbfgs, score=0.897, total=   0.5s\n",
      "[CV] alpha=0.001, hidden_layer_sizes=(100, 100, 100), learning_rate_init=0.1, solver=lbfgs \n",
      "[CV]  alpha=0.001, hidden_layer_sizes=(100, 100, 100), learning_rate_init=0.1, solver=lbfgs, score=0.872, total=   0.5s\n",
      "[CV] alpha=0.001, hidden_layer_sizes=(100, 100, 100), learning_rate_init=0.1, solver=lbfgs \n",
      "[CV]  alpha=0.001, hidden_layer_sizes=(100, 100, 100), learning_rate_init=0.1, solver=lbfgs, score=0.769, total=   0.6s\n",
      "[CV] alpha=0.001, hidden_layer_sizes=(100, 100, 100), learning_rate_init=0.1, solver=lbfgs \n",
      "[CV]  alpha=0.001, hidden_layer_sizes=(100, 100, 100), learning_rate_init=0.1, solver=lbfgs, score=0.868, total=   0.9s\n",
      "[CV] alpha=0.001, hidden_layer_sizes=(100, 100, 100), learning_rate_init=0.1, solver=lbfgs \n",
      "[CV]  alpha=0.001, hidden_layer_sizes=(100, 100, 100), learning_rate_init=0.1, solver=lbfgs, score=0.711, total=   0.8s\n",
      "[CV] alpha=0.001, hidden_layer_sizes=(100, 100, 100), learning_rate_init=0.1, solver=sgd \n",
      "[CV]  alpha=0.001, hidden_layer_sizes=(100, 100, 100), learning_rate_init=0.1, solver=sgd, score=0.846, total=   0.2s\n",
      "[CV] alpha=0.001, hidden_layer_sizes=(100, 100, 100), learning_rate_init=0.1, solver=sgd \n",
      "[CV]  alpha=0.001, hidden_layer_sizes=(100, 100, 100), learning_rate_init=0.1, solver=sgd, score=0.872, total=   0.2s\n",
      "[CV] alpha=0.001, hidden_layer_sizes=(100, 100, 100), learning_rate_init=0.1, solver=sgd \n",
      "[CV]  alpha=0.001, hidden_layer_sizes=(100, 100, 100), learning_rate_init=0.1, solver=sgd, score=0.846, total=   0.2s\n",
      "[CV] alpha=0.001, hidden_layer_sizes=(100, 100, 100), learning_rate_init=0.1, solver=sgd \n",
      "[CV]  alpha=0.001, hidden_layer_sizes=(100, 100, 100), learning_rate_init=0.1, solver=sgd, score=0.868, total=   0.2s\n",
      "[CV] alpha=0.001, hidden_layer_sizes=(100, 100, 100), learning_rate_init=0.1, solver=sgd \n",
      "[CV]  alpha=0.001, hidden_layer_sizes=(100, 100, 100), learning_rate_init=0.1, solver=sgd, score=0.737, total=   0.2s\n",
      "[CV] alpha=0.001, hidden_layer_sizes=(100, 100, 100), learning_rate_init=0.1, solver=adam \n",
      "[CV]  alpha=0.001, hidden_layer_sizes=(100, 100, 100), learning_rate_init=0.1, solver=adam, score=0.769, total=   0.1s\n",
      "[CV] alpha=0.001, hidden_layer_sizes=(100, 100, 100), learning_rate_init=0.1, solver=adam \n",
      "[CV]  alpha=0.001, hidden_layer_sizes=(100, 100, 100), learning_rate_init=0.1, solver=adam, score=0.821, total=   0.1s\n",
      "[CV] alpha=0.001, hidden_layer_sizes=(100, 100, 100), learning_rate_init=0.1, solver=adam \n",
      "[CV]  alpha=0.001, hidden_layer_sizes=(100, 100, 100), learning_rate_init=0.1, solver=adam, score=0.846, total=   0.1s\n",
      "[CV] alpha=0.001, hidden_layer_sizes=(100, 100, 100), learning_rate_init=0.1, solver=adam \n",
      "[CV]  alpha=0.001, hidden_layer_sizes=(100, 100, 100), learning_rate_init=0.1, solver=adam, score=0.868, total=   0.1s\n",
      "[CV] alpha=0.001, hidden_layer_sizes=(100, 100, 100), learning_rate_init=0.1, solver=adam \n",
      "[CV]  alpha=0.001, hidden_layer_sizes=(100, 100, 100), learning_rate_init=0.1, solver=adam, score=0.789, total=   0.1s\n",
      "[CV] alpha=0.001, hidden_layer_sizes=(100, 100, 100), learning_rate_init=1, solver=lbfgs \n"
     ]
    },
    {
     "name": "stdout",
     "output_type": "stream",
     "text": [
      "[CV]  alpha=0.001, hidden_layer_sizes=(100, 100, 100), learning_rate_init=1, solver=lbfgs, score=0.897, total=   0.7s\n",
      "[CV] alpha=0.001, hidden_layer_sizes=(100, 100, 100), learning_rate_init=1, solver=lbfgs \n",
      "[CV]  alpha=0.001, hidden_layer_sizes=(100, 100, 100), learning_rate_init=1, solver=lbfgs, score=0.872, total=   0.7s\n",
      "[CV] alpha=0.001, hidden_layer_sizes=(100, 100, 100), learning_rate_init=1, solver=lbfgs \n",
      "[CV]  alpha=0.001, hidden_layer_sizes=(100, 100, 100), learning_rate_init=1, solver=lbfgs, score=0.795, total=   0.7s\n",
      "[CV] alpha=0.001, hidden_layer_sizes=(100, 100, 100), learning_rate_init=1, solver=lbfgs \n",
      "[CV]  alpha=0.001, hidden_layer_sizes=(100, 100, 100), learning_rate_init=1, solver=lbfgs, score=0.868, total=   0.8s\n",
      "[CV] alpha=0.001, hidden_layer_sizes=(100, 100, 100), learning_rate_init=1, solver=lbfgs \n",
      "[CV]  alpha=0.001, hidden_layer_sizes=(100, 100, 100), learning_rate_init=1, solver=lbfgs, score=0.763, total=   0.6s\n",
      "[CV] alpha=0.001, hidden_layer_sizes=(100, 100, 100), learning_rate_init=1, solver=sgd \n",
      "[CV]  alpha=0.001, hidden_layer_sizes=(100, 100, 100), learning_rate_init=1, solver=sgd, score=0.513, total=   0.1s\n",
      "[CV] alpha=0.001, hidden_layer_sizes=(100, 100, 100), learning_rate_init=1, solver=sgd \n",
      "[CV]  alpha=0.001, hidden_layer_sizes=(100, 100, 100), learning_rate_init=1, solver=sgd, score=0.513, total=   0.1s\n",
      "[CV] alpha=0.001, hidden_layer_sizes=(100, 100, 100), learning_rate_init=1, solver=sgd \n",
      "[CV]  alpha=0.001, hidden_layer_sizes=(100, 100, 100), learning_rate_init=1, solver=sgd, score=0.615, total=   0.1s\n",
      "[CV] alpha=0.001, hidden_layer_sizes=(100, 100, 100), learning_rate_init=1, solver=sgd \n",
      "[CV]  alpha=0.001, hidden_layer_sizes=(100, 100, 100), learning_rate_init=1, solver=sgd, score=0.474, total=   0.1s\n",
      "[CV] alpha=0.001, hidden_layer_sizes=(100, 100, 100), learning_rate_init=1, solver=sgd \n",
      "[CV]  alpha=0.001, hidden_layer_sizes=(100, 100, 100), learning_rate_init=1, solver=sgd, score=0.711, total=   0.1s\n",
      "[CV] alpha=0.001, hidden_layer_sizes=(100, 100, 100), learning_rate_init=1, solver=adam \n",
      "[CV]  alpha=0.001, hidden_layer_sizes=(100, 100, 100), learning_rate_init=1, solver=adam, score=0.744, total=   0.0s\n",
      "[CV] alpha=0.001, hidden_layer_sizes=(100, 100, 100), learning_rate_init=1, solver=adam \n",
      "[CV]  alpha=0.001, hidden_layer_sizes=(100, 100, 100), learning_rate_init=1, solver=adam, score=0.897, total=   0.1s\n",
      "[CV] alpha=0.001, hidden_layer_sizes=(100, 100, 100), learning_rate_init=1, solver=adam \n",
      "[CV]  alpha=0.001, hidden_layer_sizes=(100, 100, 100), learning_rate_init=1, solver=adam, score=0.872, total=   0.0s\n",
      "[CV] alpha=0.001, hidden_layer_sizes=(100, 100, 100), learning_rate_init=1, solver=adam \n",
      "[CV]  alpha=0.001, hidden_layer_sizes=(100, 100, 100), learning_rate_init=1, solver=adam, score=0.526, total=   0.0s\n",
      "[CV] alpha=0.001, hidden_layer_sizes=(100, 100, 100), learning_rate_init=1, solver=adam \n",
      "[CV]  alpha=0.001, hidden_layer_sizes=(100, 100, 100), learning_rate_init=1, solver=adam, score=0.526, total=   0.0s\n",
      "[CV] alpha=0.01, hidden_layer_sizes=(100,), learning_rate_init=0.0001, solver=lbfgs \n",
      "[CV]  alpha=0.01, hidden_layer_sizes=(100,), learning_rate_init=0.0001, solver=lbfgs, score=0.923, total=   0.6s\n",
      "[CV] alpha=0.01, hidden_layer_sizes=(100,), learning_rate_init=0.0001, solver=lbfgs \n",
      "[CV]  alpha=0.01, hidden_layer_sizes=(100,), learning_rate_init=0.0001, solver=lbfgs, score=0.872, total=   0.4s\n",
      "[CV] alpha=0.01, hidden_layer_sizes=(100,), learning_rate_init=0.0001, solver=lbfgs \n",
      "[CV]  alpha=0.01, hidden_layer_sizes=(100,), learning_rate_init=0.0001, solver=lbfgs, score=0.795, total=   0.5s\n",
      "[CV] alpha=0.01, hidden_layer_sizes=(100,), learning_rate_init=0.0001, solver=lbfgs \n",
      "[CV]  alpha=0.01, hidden_layer_sizes=(100,), learning_rate_init=0.0001, solver=lbfgs, score=0.868, total=   0.3s\n",
      "[CV] alpha=0.01, hidden_layer_sizes=(100,), learning_rate_init=0.0001, solver=lbfgs \n",
      "[CV]  alpha=0.01, hidden_layer_sizes=(100,), learning_rate_init=0.0001, solver=lbfgs, score=0.737, total=   0.5s\n",
      "[CV] alpha=0.01, hidden_layer_sizes=(100,), learning_rate_init=0.0001, solver=sgd \n",
      "[CV]  alpha=0.01, hidden_layer_sizes=(100,), learning_rate_init=0.0001, solver=sgd, score=0.513, total=   0.0s\n",
      "[CV] alpha=0.01, hidden_layer_sizes=(100,), learning_rate_init=0.0001, solver=sgd \n",
      "[CV]  alpha=0.01, hidden_layer_sizes=(100,), learning_rate_init=0.0001, solver=sgd, score=0.513, total=   0.0s\n",
      "[CV] alpha=0.01, hidden_layer_sizes=(100,), learning_rate_init=0.0001, solver=sgd \n",
      "[CV]  alpha=0.01, hidden_layer_sizes=(100,), learning_rate_init=0.0001, solver=sgd, score=0.538, total=   0.0s\n",
      "[CV] alpha=0.01, hidden_layer_sizes=(100,), learning_rate_init=0.0001, solver=sgd \n",
      "[CV]  alpha=0.01, hidden_layer_sizes=(100,), learning_rate_init=0.0001, solver=sgd, score=0.526, total=   0.0s\n",
      "[CV] alpha=0.01, hidden_layer_sizes=(100,), learning_rate_init=0.0001, solver=sgd \n",
      "[CV]  alpha=0.01, hidden_layer_sizes=(100,), learning_rate_init=0.0001, solver=sgd, score=0.474, total=   0.0s\n",
      "[CV] alpha=0.01, hidden_layer_sizes=(100,), learning_rate_init=0.0001, solver=adam \n",
      "[CV]  alpha=0.01, hidden_layer_sizes=(100,), learning_rate_init=0.0001, solver=adam, score=0.923, total=   2.4s\n",
      "[CV] alpha=0.01, hidden_layer_sizes=(100,), learning_rate_init=0.0001, solver=adam \n",
      "[CV]  alpha=0.01, hidden_layer_sizes=(100,), learning_rate_init=0.0001, solver=adam, score=0.872, total=   2.6s\n",
      "[CV] alpha=0.01, hidden_layer_sizes=(100,), learning_rate_init=0.0001, solver=adam \n",
      "[CV]  alpha=0.01, hidden_layer_sizes=(100,), learning_rate_init=0.0001, solver=adam, score=0.821, total=   2.8s\n",
      "[CV] alpha=0.01, hidden_layer_sizes=(100,), learning_rate_init=0.0001, solver=adam \n",
      "[CV]  alpha=0.01, hidden_layer_sizes=(100,), learning_rate_init=0.0001, solver=adam, score=0.868, total=   2.7s\n",
      "[CV] alpha=0.01, hidden_layer_sizes=(100,), learning_rate_init=0.0001, solver=adam \n",
      "[CV]  alpha=0.01, hidden_layer_sizes=(100,), learning_rate_init=0.0001, solver=adam, score=0.763, total=   2.6s\n",
      "[CV] alpha=0.01, hidden_layer_sizes=(100,), learning_rate_init=0.001, solver=lbfgs \n",
      "[CV]  alpha=0.01, hidden_layer_sizes=(100,), learning_rate_init=0.001, solver=lbfgs, score=0.923, total=   0.6s\n",
      "[CV] alpha=0.01, hidden_layer_sizes=(100,), learning_rate_init=0.001, solver=lbfgs \n",
      "[CV]  alpha=0.01, hidden_layer_sizes=(100,), learning_rate_init=0.001, solver=lbfgs, score=0.872, total=   0.4s\n",
      "[CV] alpha=0.01, hidden_layer_sizes=(100,), learning_rate_init=0.001, solver=lbfgs \n",
      "[CV]  alpha=0.01, hidden_layer_sizes=(100,), learning_rate_init=0.001, solver=lbfgs, score=0.744, total=   0.4s\n",
      "[CV] alpha=0.01, hidden_layer_sizes=(100,), learning_rate_init=0.001, solver=lbfgs \n",
      "[CV]  alpha=0.01, hidden_layer_sizes=(100,), learning_rate_init=0.001, solver=lbfgs, score=0.842, total=   0.5s\n",
      "[CV] alpha=0.01, hidden_layer_sizes=(100,), learning_rate_init=0.001, solver=lbfgs \n",
      "[CV]  alpha=0.01, hidden_layer_sizes=(100,), learning_rate_init=0.001, solver=lbfgs, score=0.737, total=   0.5s\n",
      "[CV] alpha=0.01, hidden_layer_sizes=(100,), learning_rate_init=0.001, solver=sgd \n",
      "[CV]  alpha=0.01, hidden_layer_sizes=(100,), learning_rate_init=0.001, solver=sgd, score=0.436, total=   0.0s\n",
      "[CV] alpha=0.01, hidden_layer_sizes=(100,), learning_rate_init=0.001, solver=sgd \n",
      "[CV]  alpha=0.01, hidden_layer_sizes=(100,), learning_rate_init=0.001, solver=sgd, score=0.513, total=   0.0s\n",
      "[CV] alpha=0.01, hidden_layer_sizes=(100,), learning_rate_init=0.001, solver=sgd \n",
      "[CV]  alpha=0.01, hidden_layer_sizes=(100,), learning_rate_init=0.001, solver=sgd, score=0.538, total=   0.0s\n",
      "[CV] alpha=0.01, hidden_layer_sizes=(100,), learning_rate_init=0.001, solver=sgd \n",
      "[CV]  alpha=0.01, hidden_layer_sizes=(100,), learning_rate_init=0.001, solver=sgd, score=0.500, total=   0.0s\n",
      "[CV] alpha=0.01, hidden_layer_sizes=(100,), learning_rate_init=0.001, solver=sgd \n",
      "[CV]  alpha=0.01, hidden_layer_sizes=(100,), learning_rate_init=0.001, solver=sgd, score=0.526, total=   0.0s\n",
      "[CV] alpha=0.01, hidden_layer_sizes=(100,), learning_rate_init=0.001, solver=adam \n",
      "[CV]  alpha=0.01, hidden_layer_sizes=(100,), learning_rate_init=0.001, solver=adam, score=0.897, total=   0.5s\n",
      "[CV] alpha=0.01, hidden_layer_sizes=(100,), learning_rate_init=0.001, solver=adam \n",
      "[CV]  alpha=0.01, hidden_layer_sizes=(100,), learning_rate_init=0.001, solver=adam, score=0.872, total=   0.5s\n",
      "[CV] alpha=0.01, hidden_layer_sizes=(100,), learning_rate_init=0.001, solver=adam \n"
     ]
    },
    {
     "name": "stdout",
     "output_type": "stream",
     "text": [
      "[CV]  alpha=0.01, hidden_layer_sizes=(100,), learning_rate_init=0.001, solver=adam, score=0.744, total=   0.5s\n",
      "[CV] alpha=0.01, hidden_layer_sizes=(100,), learning_rate_init=0.001, solver=adam \n",
      "[CV]  alpha=0.01, hidden_layer_sizes=(100,), learning_rate_init=0.001, solver=adam, score=0.868, total=   0.5s\n",
      "[CV] alpha=0.01, hidden_layer_sizes=(100,), learning_rate_init=0.001, solver=adam \n",
      "[CV]  alpha=0.01, hidden_layer_sizes=(100,), learning_rate_init=0.001, solver=adam, score=0.789, total=   0.5s\n",
      "[CV] alpha=0.01, hidden_layer_sizes=(100,), learning_rate_init=0.01, solver=lbfgs \n",
      "[CV]  alpha=0.01, hidden_layer_sizes=(100,), learning_rate_init=0.01, solver=lbfgs, score=0.923, total=   0.4s\n",
      "[CV] alpha=0.01, hidden_layer_sizes=(100,), learning_rate_init=0.01, solver=lbfgs \n",
      "[CV]  alpha=0.01, hidden_layer_sizes=(100,), learning_rate_init=0.01, solver=lbfgs, score=0.872, total=   0.6s\n",
      "[CV] alpha=0.01, hidden_layer_sizes=(100,), learning_rate_init=0.01, solver=lbfgs \n",
      "[CV]  alpha=0.01, hidden_layer_sizes=(100,), learning_rate_init=0.01, solver=lbfgs, score=0.795, total=   0.6s\n",
      "[CV] alpha=0.01, hidden_layer_sizes=(100,), learning_rate_init=0.01, solver=lbfgs \n",
      "[CV]  alpha=0.01, hidden_layer_sizes=(100,), learning_rate_init=0.01, solver=lbfgs, score=0.868, total=   0.4s\n",
      "[CV] alpha=0.01, hidden_layer_sizes=(100,), learning_rate_init=0.01, solver=lbfgs \n",
      "[CV]  alpha=0.01, hidden_layer_sizes=(100,), learning_rate_init=0.01, solver=lbfgs, score=0.737, total=   0.6s\n",
      "[CV] alpha=0.01, hidden_layer_sizes=(100,), learning_rate_init=0.01, solver=sgd \n",
      "[CV]  alpha=0.01, hidden_layer_sizes=(100,), learning_rate_init=0.01, solver=sgd, score=0.897, total=   1.7s\n",
      "[CV] alpha=0.01, hidden_layer_sizes=(100,), learning_rate_init=0.01, solver=sgd \n",
      "[CV]  alpha=0.01, hidden_layer_sizes=(100,), learning_rate_init=0.01, solver=sgd, score=0.872, total=   2.0s\n",
      "[CV] alpha=0.01, hidden_layer_sizes=(100,), learning_rate_init=0.01, solver=sgd \n",
      "[CV]  alpha=0.01, hidden_layer_sizes=(100,), learning_rate_init=0.01, solver=sgd, score=0.821, total=   1.8s\n",
      "[CV] alpha=0.01, hidden_layer_sizes=(100,), learning_rate_init=0.01, solver=sgd \n",
      "[CV]  alpha=0.01, hidden_layer_sizes=(100,), learning_rate_init=0.01, solver=sgd, score=0.868, total=   1.9s\n",
      "[CV] alpha=0.01, hidden_layer_sizes=(100,), learning_rate_init=0.01, solver=sgd \n",
      "[CV]  alpha=0.01, hidden_layer_sizes=(100,), learning_rate_init=0.01, solver=sgd, score=0.789, total=   1.8s\n",
      "[CV] alpha=0.01, hidden_layer_sizes=(100,), learning_rate_init=0.01, solver=adam \n",
      "[CV]  alpha=0.01, hidden_layer_sizes=(100,), learning_rate_init=0.01, solver=adam, score=0.872, total=   0.3s\n",
      "[CV] alpha=0.01, hidden_layer_sizes=(100,), learning_rate_init=0.01, solver=adam \n",
      "[CV]  alpha=0.01, hidden_layer_sizes=(100,), learning_rate_init=0.01, solver=adam, score=0.872, total=   0.3s\n",
      "[CV] alpha=0.01, hidden_layer_sizes=(100,), learning_rate_init=0.01, solver=adam \n",
      "[CV]  alpha=0.01, hidden_layer_sizes=(100,), learning_rate_init=0.01, solver=adam, score=0.795, total=   0.3s\n",
      "[CV] alpha=0.01, hidden_layer_sizes=(100,), learning_rate_init=0.01, solver=adam \n",
      "[CV]  alpha=0.01, hidden_layer_sizes=(100,), learning_rate_init=0.01, solver=adam, score=0.868, total=   0.3s\n",
      "[CV] alpha=0.01, hidden_layer_sizes=(100,), learning_rate_init=0.01, solver=adam \n",
      "[CV]  alpha=0.01, hidden_layer_sizes=(100,), learning_rate_init=0.01, solver=adam, score=0.763, total=   0.2s\n",
      "[CV] alpha=0.01, hidden_layer_sizes=(100,), learning_rate_init=0.1, solver=lbfgs \n",
      "[CV]  alpha=0.01, hidden_layer_sizes=(100,), learning_rate_init=0.1, solver=lbfgs, score=0.897, total=   0.4s\n",
      "[CV] alpha=0.01, hidden_layer_sizes=(100,), learning_rate_init=0.1, solver=lbfgs \n",
      "[CV]  alpha=0.01, hidden_layer_sizes=(100,), learning_rate_init=0.1, solver=lbfgs, score=0.872, total=   0.5s\n",
      "[CV] alpha=0.01, hidden_layer_sizes=(100,), learning_rate_init=0.1, solver=lbfgs \n",
      "[CV]  alpha=0.01, hidden_layer_sizes=(100,), learning_rate_init=0.1, solver=lbfgs, score=0.769, total=   0.5s\n",
      "[CV] alpha=0.01, hidden_layer_sizes=(100,), learning_rate_init=0.1, solver=lbfgs \n",
      "[CV]  alpha=0.01, hidden_layer_sizes=(100,), learning_rate_init=0.1, solver=lbfgs, score=0.868, total=   0.4s\n",
      "[CV] alpha=0.01, hidden_layer_sizes=(100,), learning_rate_init=0.1, solver=lbfgs \n",
      "[CV]  alpha=0.01, hidden_layer_sizes=(100,), learning_rate_init=0.1, solver=lbfgs, score=0.711, total=   0.4s\n",
      "[CV] alpha=0.01, hidden_layer_sizes=(100,), learning_rate_init=0.1, solver=sgd \n",
      "[CV]  alpha=0.01, hidden_layer_sizes=(100,), learning_rate_init=0.1, solver=sgd, score=0.846, total=   0.4s\n",
      "[CV] alpha=0.01, hidden_layer_sizes=(100,), learning_rate_init=0.1, solver=sgd \n",
      "[CV]  alpha=0.01, hidden_layer_sizes=(100,), learning_rate_init=0.1, solver=sgd, score=0.872, total=   0.4s\n",
      "[CV] alpha=0.01, hidden_layer_sizes=(100,), learning_rate_init=0.1, solver=sgd \n",
      "[CV]  alpha=0.01, hidden_layer_sizes=(100,), learning_rate_init=0.1, solver=sgd, score=0.769, total=   0.4s\n",
      "[CV] alpha=0.01, hidden_layer_sizes=(100,), learning_rate_init=0.1, solver=sgd \n",
      "[CV]  alpha=0.01, hidden_layer_sizes=(100,), learning_rate_init=0.1, solver=sgd, score=0.868, total=   0.4s\n",
      "[CV] alpha=0.01, hidden_layer_sizes=(100,), learning_rate_init=0.1, solver=sgd \n",
      "[CV]  alpha=0.01, hidden_layer_sizes=(100,), learning_rate_init=0.1, solver=sgd, score=0.789, total=   0.4s\n",
      "[CV] alpha=0.01, hidden_layer_sizes=(100,), learning_rate_init=0.1, solver=adam \n",
      "[CV]  alpha=0.01, hidden_layer_sizes=(100,), learning_rate_init=0.1, solver=adam, score=0.795, total=   0.0s\n",
      "[CV] alpha=0.01, hidden_layer_sizes=(100,), learning_rate_init=0.1, solver=adam \n",
      "[CV]  alpha=0.01, hidden_layer_sizes=(100,), learning_rate_init=0.1, solver=adam, score=0.872, total=   0.0s\n",
      "[CV] alpha=0.01, hidden_layer_sizes=(100,), learning_rate_init=0.1, solver=adam \n",
      "[CV]  alpha=0.01, hidden_layer_sizes=(100,), learning_rate_init=0.1, solver=adam, score=0.769, total=   0.0s\n",
      "[CV] alpha=0.01, hidden_layer_sizes=(100,), learning_rate_init=0.1, solver=adam \n",
      "[CV]  alpha=0.01, hidden_layer_sizes=(100,), learning_rate_init=0.1, solver=adam, score=0.868, total=   0.0s\n",
      "[CV] alpha=0.01, hidden_layer_sizes=(100,), learning_rate_init=0.1, solver=adam \n",
      "[CV]  alpha=0.01, hidden_layer_sizes=(100,), learning_rate_init=0.1, solver=adam, score=0.763, total=   0.0s\n",
      "[CV] alpha=0.01, hidden_layer_sizes=(100,), learning_rate_init=1, solver=lbfgs \n",
      "[CV]  alpha=0.01, hidden_layer_sizes=(100,), learning_rate_init=1, solver=lbfgs, score=0.923, total=   0.6s\n",
      "[CV] alpha=0.01, hidden_layer_sizes=(100,), learning_rate_init=1, solver=lbfgs \n",
      "[CV]  alpha=0.01, hidden_layer_sizes=(100,), learning_rate_init=1, solver=lbfgs, score=0.872, total=   0.5s\n",
      "[CV] alpha=0.01, hidden_layer_sizes=(100,), learning_rate_init=1, solver=lbfgs \n",
      "[CV]  alpha=0.01, hidden_layer_sizes=(100,), learning_rate_init=1, solver=lbfgs, score=0.795, total=   0.5s\n",
      "[CV] alpha=0.01, hidden_layer_sizes=(100,), learning_rate_init=1, solver=lbfgs \n",
      "[CV]  alpha=0.01, hidden_layer_sizes=(100,), learning_rate_init=1, solver=lbfgs, score=0.868, total=   0.6s\n",
      "[CV] alpha=0.01, hidden_layer_sizes=(100,), learning_rate_init=1, solver=lbfgs \n",
      "[CV]  alpha=0.01, hidden_layer_sizes=(100,), learning_rate_init=1, solver=lbfgs, score=0.737, total=   0.4s\n",
      "[CV] alpha=0.01, hidden_layer_sizes=(100,), learning_rate_init=1, solver=sgd \n",
      "[CV]  alpha=0.01, hidden_layer_sizes=(100,), learning_rate_init=1, solver=sgd, score=0.872, total=   0.1s\n",
      "[CV] alpha=0.01, hidden_layer_sizes=(100,), learning_rate_init=1, solver=sgd \n",
      "[CV]  alpha=0.01, hidden_layer_sizes=(100,), learning_rate_init=1, solver=sgd, score=0.821, total=   0.1s\n",
      "[CV] alpha=0.01, hidden_layer_sizes=(100,), learning_rate_init=1, solver=sgd \n",
      "[CV]  alpha=0.01, hidden_layer_sizes=(100,), learning_rate_init=1, solver=sgd, score=0.795, total=   0.1s\n",
      "[CV] alpha=0.01, hidden_layer_sizes=(100,), learning_rate_init=1, solver=sgd \n",
      "[CV]  alpha=0.01, hidden_layer_sizes=(100,), learning_rate_init=1, solver=sgd, score=0.868, total=   0.1s\n",
      "[CV] alpha=0.01, hidden_layer_sizes=(100,), learning_rate_init=1, solver=sgd \n",
      "[CV]  alpha=0.01, hidden_layer_sizes=(100,), learning_rate_init=1, solver=sgd, score=0.763, total=   0.1s\n",
      "[CV] alpha=0.01, hidden_layer_sizes=(100,), learning_rate_init=1, solver=adam \n",
      "[CV]  alpha=0.01, hidden_layer_sizes=(100,), learning_rate_init=1, solver=adam, score=0.821, total=   0.0s\n",
      "[CV] alpha=0.01, hidden_layer_sizes=(100,), learning_rate_init=1, solver=adam \n",
      "[CV]  alpha=0.01, hidden_layer_sizes=(100,), learning_rate_init=1, solver=adam, score=0.744, total=   0.0s\n",
      "[CV] alpha=0.01, hidden_layer_sizes=(100,), learning_rate_init=1, solver=adam \n",
      "[CV]  alpha=0.01, hidden_layer_sizes=(100,), learning_rate_init=1, solver=adam, score=0.769, total=   0.0s\n",
      "[CV] alpha=0.01, hidden_layer_sizes=(100,), learning_rate_init=1, solver=adam \n",
      "[CV]  alpha=0.01, hidden_layer_sizes=(100,), learning_rate_init=1, solver=adam, score=0.895, total=   0.0s\n",
      "[CV] alpha=0.01, hidden_layer_sizes=(100,), learning_rate_init=1, solver=adam \n",
      "[CV]  alpha=0.01, hidden_layer_sizes=(100,), learning_rate_init=1, solver=adam, score=0.868, total=   0.0s\n",
      "[CV] alpha=0.01, hidden_layer_sizes=(100, 100), learning_rate_init=0.0001, solver=lbfgs \n"
     ]
    },
    {
     "name": "stdout",
     "output_type": "stream",
     "text": [
      "[CV]  alpha=0.01, hidden_layer_sizes=(100, 100), learning_rate_init=0.0001, solver=lbfgs, score=0.846, total=   0.5s\n",
      "[CV] alpha=0.01, hidden_layer_sizes=(100, 100), learning_rate_init=0.0001, solver=lbfgs \n",
      "[CV]  alpha=0.01, hidden_layer_sizes=(100, 100), learning_rate_init=0.0001, solver=lbfgs, score=0.923, total=   0.7s\n",
      "[CV] alpha=0.01, hidden_layer_sizes=(100, 100), learning_rate_init=0.0001, solver=lbfgs \n",
      "[CV]  alpha=0.01, hidden_layer_sizes=(100, 100), learning_rate_init=0.0001, solver=lbfgs, score=0.769, total=   0.8s\n",
      "[CV] alpha=0.01, hidden_layer_sizes=(100, 100), learning_rate_init=0.0001, solver=lbfgs \n",
      "[CV]  alpha=0.01, hidden_layer_sizes=(100, 100), learning_rate_init=0.0001, solver=lbfgs, score=0.868, total=   0.4s\n",
      "[CV] alpha=0.01, hidden_layer_sizes=(100, 100), learning_rate_init=0.0001, solver=lbfgs \n",
      "[CV]  alpha=0.01, hidden_layer_sizes=(100, 100), learning_rate_init=0.0001, solver=lbfgs, score=0.737, total=   0.6s\n",
      "[CV] alpha=0.01, hidden_layer_sizes=(100, 100), learning_rate_init=0.0001, solver=sgd \n",
      "[CV]  alpha=0.01, hidden_layer_sizes=(100, 100), learning_rate_init=0.0001, solver=sgd, score=0.462, total=   0.0s\n",
      "[CV] alpha=0.01, hidden_layer_sizes=(100, 100), learning_rate_init=0.0001, solver=sgd \n",
      "[CV]  alpha=0.01, hidden_layer_sizes=(100, 100), learning_rate_init=0.0001, solver=sgd, score=0.513, total=   0.0s\n",
      "[CV] alpha=0.01, hidden_layer_sizes=(100, 100), learning_rate_init=0.0001, solver=sgd \n",
      "[CV]  alpha=0.01, hidden_layer_sizes=(100, 100), learning_rate_init=0.0001, solver=sgd, score=0.538, total=   0.0s\n",
      "[CV] alpha=0.01, hidden_layer_sizes=(100, 100), learning_rate_init=0.0001, solver=sgd \n",
      "[CV]  alpha=0.01, hidden_layer_sizes=(100, 100), learning_rate_init=0.0001, solver=sgd, score=0.526, total=   0.0s\n",
      "[CV] alpha=0.01, hidden_layer_sizes=(100, 100), learning_rate_init=0.0001, solver=sgd \n",
      "[CV]  alpha=0.01, hidden_layer_sizes=(100, 100), learning_rate_init=0.0001, solver=sgd, score=0.474, total=   0.0s\n",
      "[CV] alpha=0.01, hidden_layer_sizes=(100, 100), learning_rate_init=0.0001, solver=adam \n",
      "[CV]  alpha=0.01, hidden_layer_sizes=(100, 100), learning_rate_init=0.0001, solver=adam, score=0.923, total=   1.8s\n",
      "[CV] alpha=0.01, hidden_layer_sizes=(100, 100), learning_rate_init=0.0001, solver=adam \n",
      "[CV]  alpha=0.01, hidden_layer_sizes=(100, 100), learning_rate_init=0.0001, solver=adam, score=0.872, total=   1.8s\n",
      "[CV] alpha=0.01, hidden_layer_sizes=(100, 100), learning_rate_init=0.0001, solver=adam \n",
      "[CV]  alpha=0.01, hidden_layer_sizes=(100, 100), learning_rate_init=0.0001, solver=adam, score=0.744, total=   1.9s\n",
      "[CV] alpha=0.01, hidden_layer_sizes=(100, 100), learning_rate_init=0.0001, solver=adam \n",
      "[CV]  alpha=0.01, hidden_layer_sizes=(100, 100), learning_rate_init=0.0001, solver=adam, score=0.868, total=   1.8s\n",
      "[CV] alpha=0.01, hidden_layer_sizes=(100, 100), learning_rate_init=0.0001, solver=adam \n",
      "[CV]  alpha=0.01, hidden_layer_sizes=(100, 100), learning_rate_init=0.0001, solver=adam, score=0.763, total=   1.7s\n",
      "[CV] alpha=0.01, hidden_layer_sizes=(100, 100), learning_rate_init=0.001, solver=lbfgs \n",
      "[CV]  alpha=0.01, hidden_layer_sizes=(100, 100), learning_rate_init=0.001, solver=lbfgs, score=0.872, total=   0.6s\n",
      "[CV] alpha=0.01, hidden_layer_sizes=(100, 100), learning_rate_init=0.001, solver=lbfgs \n",
      "[CV]  alpha=0.01, hidden_layer_sizes=(100, 100), learning_rate_init=0.001, solver=lbfgs, score=0.821, total=   1.0s\n",
      "[CV] alpha=0.01, hidden_layer_sizes=(100, 100), learning_rate_init=0.001, solver=lbfgs \n",
      "[CV]  alpha=0.01, hidden_layer_sizes=(100, 100), learning_rate_init=0.001, solver=lbfgs, score=0.795, total=   0.6s\n",
      "[CV] alpha=0.01, hidden_layer_sizes=(100, 100), learning_rate_init=0.001, solver=lbfgs \n",
      "[CV]  alpha=0.01, hidden_layer_sizes=(100, 100), learning_rate_init=0.001, solver=lbfgs, score=0.868, total=   0.7s\n",
      "[CV] alpha=0.01, hidden_layer_sizes=(100, 100), learning_rate_init=0.001, solver=lbfgs \n",
      "[CV]  alpha=0.01, hidden_layer_sizes=(100, 100), learning_rate_init=0.001, solver=lbfgs, score=0.711, total=   0.9s\n",
      "[CV] alpha=0.01, hidden_layer_sizes=(100, 100), learning_rate_init=0.001, solver=sgd \n",
      "[CV]  alpha=0.01, hidden_layer_sizes=(100, 100), learning_rate_init=0.001, solver=sgd, score=0.436, total=   0.0s\n",
      "[CV] alpha=0.01, hidden_layer_sizes=(100, 100), learning_rate_init=0.001, solver=sgd \n",
      "[CV]  alpha=0.01, hidden_layer_sizes=(100, 100), learning_rate_init=0.001, solver=sgd, score=0.487, total=   0.0s\n",
      "[CV] alpha=0.01, hidden_layer_sizes=(100, 100), learning_rate_init=0.001, solver=sgd \n",
      "[CV]  alpha=0.01, hidden_layer_sizes=(100, 100), learning_rate_init=0.001, solver=sgd, score=0.462, total=   0.2s\n",
      "[CV] alpha=0.01, hidden_layer_sizes=(100, 100), learning_rate_init=0.001, solver=sgd \n",
      "[CV]  alpha=0.01, hidden_layer_sizes=(100, 100), learning_rate_init=0.001, solver=sgd, score=0.474, total=   0.2s\n",
      "[CV] alpha=0.01, hidden_layer_sizes=(100, 100), learning_rate_init=0.001, solver=sgd \n",
      "[CV]  alpha=0.01, hidden_layer_sizes=(100, 100), learning_rate_init=0.001, solver=sgd, score=0.474, total=   0.0s\n",
      "[CV] alpha=0.01, hidden_layer_sizes=(100, 100), learning_rate_init=0.001, solver=adam \n",
      "[CV]  alpha=0.01, hidden_layer_sizes=(100, 100), learning_rate_init=0.001, solver=adam, score=0.923, total=   0.3s\n",
      "[CV] alpha=0.01, hidden_layer_sizes=(100, 100), learning_rate_init=0.001, solver=adam \n",
      "[CV]  alpha=0.01, hidden_layer_sizes=(100, 100), learning_rate_init=0.001, solver=adam, score=0.872, total=   0.3s\n",
      "[CV] alpha=0.01, hidden_layer_sizes=(100, 100), learning_rate_init=0.001, solver=adam \n",
      "[CV]  alpha=0.01, hidden_layer_sizes=(100, 100), learning_rate_init=0.001, solver=adam, score=0.744, total=   0.3s\n",
      "[CV] alpha=0.01, hidden_layer_sizes=(100, 100), learning_rate_init=0.001, solver=adam \n",
      "[CV]  alpha=0.01, hidden_layer_sizes=(100, 100), learning_rate_init=0.001, solver=adam, score=0.868, total=   0.3s\n",
      "[CV] alpha=0.01, hidden_layer_sizes=(100, 100), learning_rate_init=0.001, solver=adam \n",
      "[CV]  alpha=0.01, hidden_layer_sizes=(100, 100), learning_rate_init=0.001, solver=adam, score=0.737, total=   0.3s\n",
      "[CV] alpha=0.01, hidden_layer_sizes=(100, 100), learning_rate_init=0.01, solver=lbfgs \n",
      "[CV]  alpha=0.01, hidden_layer_sizes=(100, 100), learning_rate_init=0.01, solver=lbfgs, score=0.897, total=   0.6s\n",
      "[CV] alpha=0.01, hidden_layer_sizes=(100, 100), learning_rate_init=0.01, solver=lbfgs \n",
      "[CV]  alpha=0.01, hidden_layer_sizes=(100, 100), learning_rate_init=0.01, solver=lbfgs, score=0.872, total=   0.7s\n",
      "[CV] alpha=0.01, hidden_layer_sizes=(100, 100), learning_rate_init=0.01, solver=lbfgs \n",
      "[CV]  alpha=0.01, hidden_layer_sizes=(100, 100), learning_rate_init=0.01, solver=lbfgs, score=0.769, total=   1.0s\n",
      "[CV] alpha=0.01, hidden_layer_sizes=(100, 100), learning_rate_init=0.01, solver=lbfgs \n",
      "[CV]  alpha=0.01, hidden_layer_sizes=(100, 100), learning_rate_init=0.01, solver=lbfgs, score=0.868, total=   0.9s\n",
      "[CV] alpha=0.01, hidden_layer_sizes=(100, 100), learning_rate_init=0.01, solver=lbfgs \n",
      "[CV]  alpha=0.01, hidden_layer_sizes=(100, 100), learning_rate_init=0.01, solver=lbfgs, score=0.789, total=   0.6s\n",
      "[CV] alpha=0.01, hidden_layer_sizes=(100, 100), learning_rate_init=0.01, solver=sgd \n",
      "[CV]  alpha=0.01, hidden_layer_sizes=(100, 100), learning_rate_init=0.01, solver=sgd, score=0.923, total=   1.0s\n",
      "[CV] alpha=0.01, hidden_layer_sizes=(100, 100), learning_rate_init=0.01, solver=sgd \n",
      "[CV]  alpha=0.01, hidden_layer_sizes=(100, 100), learning_rate_init=0.01, solver=sgd, score=0.872, total=   1.2s\n",
      "[CV] alpha=0.01, hidden_layer_sizes=(100, 100), learning_rate_init=0.01, solver=sgd \n",
      "[CV]  alpha=0.01, hidden_layer_sizes=(100, 100), learning_rate_init=0.01, solver=sgd, score=0.821, total=   1.2s\n",
      "[CV] alpha=0.01, hidden_layer_sizes=(100, 100), learning_rate_init=0.01, solver=sgd \n",
      "[CV]  alpha=0.01, hidden_layer_sizes=(100, 100), learning_rate_init=0.01, solver=sgd, score=0.921, total=   1.2s\n",
      "[CV] alpha=0.01, hidden_layer_sizes=(100, 100), learning_rate_init=0.01, solver=sgd \n",
      "[CV]  alpha=0.01, hidden_layer_sizes=(100, 100), learning_rate_init=0.01, solver=sgd, score=0.789, total=   1.2s\n",
      "[CV] alpha=0.01, hidden_layer_sizes=(100, 100), learning_rate_init=0.01, solver=adam \n",
      "[CV]  alpha=0.01, hidden_layer_sizes=(100, 100), learning_rate_init=0.01, solver=adam, score=0.923, total=   0.1s\n",
      "[CV] alpha=0.01, hidden_layer_sizes=(100, 100), learning_rate_init=0.01, solver=adam \n",
      "[CV]  alpha=0.01, hidden_layer_sizes=(100, 100), learning_rate_init=0.01, solver=adam, score=0.821, total=   0.1s\n",
      "[CV] alpha=0.01, hidden_layer_sizes=(100, 100), learning_rate_init=0.01, solver=adam \n"
     ]
    },
    {
     "name": "stdout",
     "output_type": "stream",
     "text": [
      "[CV]  alpha=0.01, hidden_layer_sizes=(100, 100), learning_rate_init=0.01, solver=adam, score=0.744, total=   0.1s\n",
      "[CV] alpha=0.01, hidden_layer_sizes=(100, 100), learning_rate_init=0.01, solver=adam \n",
      "[CV]  alpha=0.01, hidden_layer_sizes=(100, 100), learning_rate_init=0.01, solver=adam, score=0.868, total=   0.1s\n",
      "[CV] alpha=0.01, hidden_layer_sizes=(100, 100), learning_rate_init=0.01, solver=adam \n",
      "[CV]  alpha=0.01, hidden_layer_sizes=(100, 100), learning_rate_init=0.01, solver=adam, score=0.789, total=   0.1s\n",
      "[CV] alpha=0.01, hidden_layer_sizes=(100, 100), learning_rate_init=0.1, solver=lbfgs \n",
      "[CV]  alpha=0.01, hidden_layer_sizes=(100, 100), learning_rate_init=0.1, solver=lbfgs, score=0.923, total=   0.6s\n",
      "[CV] alpha=0.01, hidden_layer_sizes=(100, 100), learning_rate_init=0.1, solver=lbfgs \n",
      "[CV]  alpha=0.01, hidden_layer_sizes=(100, 100), learning_rate_init=0.1, solver=lbfgs, score=0.872, total=   0.8s\n",
      "[CV] alpha=0.01, hidden_layer_sizes=(100, 100), learning_rate_init=0.1, solver=lbfgs \n",
      "[CV]  alpha=0.01, hidden_layer_sizes=(100, 100), learning_rate_init=0.1, solver=lbfgs, score=0.769, total=   0.9s\n",
      "[CV] alpha=0.01, hidden_layer_sizes=(100, 100), learning_rate_init=0.1, solver=lbfgs \n",
      "[CV]  alpha=0.01, hidden_layer_sizes=(100, 100), learning_rate_init=0.1, solver=lbfgs, score=0.868, total=   0.8s\n",
      "[CV] alpha=0.01, hidden_layer_sizes=(100, 100), learning_rate_init=0.1, solver=lbfgs \n",
      "[CV]  alpha=0.01, hidden_layer_sizes=(100, 100), learning_rate_init=0.1, solver=lbfgs, score=0.737, total=   0.7s\n",
      "[CV] alpha=0.01, hidden_layer_sizes=(100, 100), learning_rate_init=0.1, solver=sgd \n",
      "[CV]  alpha=0.01, hidden_layer_sizes=(100, 100), learning_rate_init=0.1, solver=sgd, score=0.846, total=   0.2s\n",
      "[CV] alpha=0.01, hidden_layer_sizes=(100, 100), learning_rate_init=0.1, solver=sgd \n",
      "[CV]  alpha=0.01, hidden_layer_sizes=(100, 100), learning_rate_init=0.1, solver=sgd, score=0.872, total=   0.2s\n",
      "[CV] alpha=0.01, hidden_layer_sizes=(100, 100), learning_rate_init=0.1, solver=sgd \n",
      "[CV]  alpha=0.01, hidden_layer_sizes=(100, 100), learning_rate_init=0.1, solver=sgd, score=0.821, total=   0.2s\n",
      "[CV] alpha=0.01, hidden_layer_sizes=(100, 100), learning_rate_init=0.1, solver=sgd \n",
      "[CV]  alpha=0.01, hidden_layer_sizes=(100, 100), learning_rate_init=0.1, solver=sgd, score=0.868, total=   0.2s\n",
      "[CV] alpha=0.01, hidden_layer_sizes=(100, 100), learning_rate_init=0.1, solver=sgd \n",
      "[CV]  alpha=0.01, hidden_layer_sizes=(100, 100), learning_rate_init=0.1, solver=sgd, score=0.763, total=   0.2s\n",
      "[CV] alpha=0.01, hidden_layer_sizes=(100, 100), learning_rate_init=0.1, solver=adam \n",
      "[CV]  alpha=0.01, hidden_layer_sizes=(100, 100), learning_rate_init=0.1, solver=adam, score=0.923, total=   0.1s\n",
      "[CV] alpha=0.01, hidden_layer_sizes=(100, 100), learning_rate_init=0.1, solver=adam \n",
      "[CV]  alpha=0.01, hidden_layer_sizes=(100, 100), learning_rate_init=0.1, solver=adam, score=0.872, total=   0.1s\n",
      "[CV] alpha=0.01, hidden_layer_sizes=(100, 100), learning_rate_init=0.1, solver=adam \n",
      "[CV]  alpha=0.01, hidden_layer_sizes=(100, 100), learning_rate_init=0.1, solver=adam, score=0.846, total=   0.1s\n",
      "[CV] alpha=0.01, hidden_layer_sizes=(100, 100), learning_rate_init=0.1, solver=adam \n",
      "[CV]  alpha=0.01, hidden_layer_sizes=(100, 100), learning_rate_init=0.1, solver=adam, score=0.895, total=   0.1s\n",
      "[CV] alpha=0.01, hidden_layer_sizes=(100, 100), learning_rate_init=0.1, solver=adam \n",
      "[CV]  alpha=0.01, hidden_layer_sizes=(100, 100), learning_rate_init=0.1, solver=adam, score=0.816, total=   0.1s\n",
      "[CV] alpha=0.01, hidden_layer_sizes=(100, 100), learning_rate_init=1, solver=lbfgs \n",
      "[CV]  alpha=0.01, hidden_layer_sizes=(100, 100), learning_rate_init=1, solver=lbfgs, score=0.897, total=   0.8s\n",
      "[CV] alpha=0.01, hidden_layer_sizes=(100, 100), learning_rate_init=1, solver=lbfgs \n",
      "[CV]  alpha=0.01, hidden_layer_sizes=(100, 100), learning_rate_init=1, solver=lbfgs, score=0.872, total=   0.8s\n",
      "[CV] alpha=0.01, hidden_layer_sizes=(100, 100), learning_rate_init=1, solver=lbfgs \n",
      "[CV]  alpha=0.01, hidden_layer_sizes=(100, 100), learning_rate_init=1, solver=lbfgs, score=0.718, total=   0.4s\n",
      "[CV] alpha=0.01, hidden_layer_sizes=(100, 100), learning_rate_init=1, solver=lbfgs \n",
      "[CV]  alpha=0.01, hidden_layer_sizes=(100, 100), learning_rate_init=1, solver=lbfgs, score=0.868, total=   0.9s\n",
      "[CV] alpha=0.01, hidden_layer_sizes=(100, 100), learning_rate_init=1, solver=lbfgs \n",
      "[CV]  alpha=0.01, hidden_layer_sizes=(100, 100), learning_rate_init=1, solver=lbfgs, score=0.763, total=   0.7s\n",
      "[CV] alpha=0.01, hidden_layer_sizes=(100, 100), learning_rate_init=1, solver=sgd \n",
      "[CV]  alpha=0.01, hidden_layer_sizes=(100, 100), learning_rate_init=1, solver=sgd, score=0.487, total=   0.0s\n",
      "[CV] alpha=0.01, hidden_layer_sizes=(100, 100), learning_rate_init=1, solver=sgd \n",
      "[CV]  alpha=0.01, hidden_layer_sizes=(100, 100), learning_rate_init=1, solver=sgd, score=0.718, total=   0.0s\n",
      "[CV] alpha=0.01, hidden_layer_sizes=(100, 100), learning_rate_init=1, solver=sgd \n",
      "[CV]  alpha=0.01, hidden_layer_sizes=(100, 100), learning_rate_init=1, solver=sgd, score=0.641, total=   0.0s\n",
      "[CV] alpha=0.01, hidden_layer_sizes=(100, 100), learning_rate_init=1, solver=sgd \n",
      "[CV]  alpha=0.01, hidden_layer_sizes=(100, 100), learning_rate_init=1, solver=sgd, score=0.763, total=   0.0s\n",
      "[CV] alpha=0.01, hidden_layer_sizes=(100, 100), learning_rate_init=1, solver=sgd \n",
      "[CV]  alpha=0.01, hidden_layer_sizes=(100, 100), learning_rate_init=1, solver=sgd, score=0.526, total=   0.1s\n",
      "[CV] alpha=0.01, hidden_layer_sizes=(100, 100), learning_rate_init=1, solver=adam \n",
      "[CV]  alpha=0.01, hidden_layer_sizes=(100, 100), learning_rate_init=1, solver=adam, score=0.897, total=   0.0s\n",
      "[CV] alpha=0.01, hidden_layer_sizes=(100, 100), learning_rate_init=1, solver=adam \n",
      "[CV]  alpha=0.01, hidden_layer_sizes=(100, 100), learning_rate_init=1, solver=adam, score=0.846, total=   0.0s\n",
      "[CV] alpha=0.01, hidden_layer_sizes=(100, 100), learning_rate_init=1, solver=adam \n",
      "[CV]  alpha=0.01, hidden_layer_sizes=(100, 100), learning_rate_init=1, solver=adam, score=0.897, total=   0.0s\n",
      "[CV] alpha=0.01, hidden_layer_sizes=(100, 100), learning_rate_init=1, solver=adam \n",
      "[CV]  alpha=0.01, hidden_layer_sizes=(100, 100), learning_rate_init=1, solver=adam, score=0.868, total=   0.0s\n",
      "[CV] alpha=0.01, hidden_layer_sizes=(100, 100), learning_rate_init=1, solver=adam \n",
      "[CV]  alpha=0.01, hidden_layer_sizes=(100, 100), learning_rate_init=1, solver=adam, score=0.816, total=   0.0s\n",
      "[CV] alpha=0.01, hidden_layer_sizes=(100, 100, 100), learning_rate_init=0.0001, solver=lbfgs \n",
      "[CV]  alpha=0.01, hidden_layer_sizes=(100, 100, 100), learning_rate_init=0.0001, solver=lbfgs, score=0.897, total=   1.3s\n",
      "[CV] alpha=0.01, hidden_layer_sizes=(100, 100, 100), learning_rate_init=0.0001, solver=lbfgs \n",
      "[CV]  alpha=0.01, hidden_layer_sizes=(100, 100, 100), learning_rate_init=0.0001, solver=lbfgs, score=0.846, total=   0.9s\n",
      "[CV] alpha=0.01, hidden_layer_sizes=(100, 100, 100), learning_rate_init=0.0001, solver=lbfgs \n",
      "[CV]  alpha=0.01, hidden_layer_sizes=(100, 100, 100), learning_rate_init=0.0001, solver=lbfgs, score=0.821, total=   0.6s\n",
      "[CV] alpha=0.01, hidden_layer_sizes=(100, 100, 100), learning_rate_init=0.0001, solver=lbfgs \n",
      "[CV]  alpha=0.01, hidden_layer_sizes=(100, 100, 100), learning_rate_init=0.0001, solver=lbfgs, score=0.868, total=   0.8s\n",
      "[CV] alpha=0.01, hidden_layer_sizes=(100, 100, 100), learning_rate_init=0.0001, solver=lbfgs \n",
      "[CV]  alpha=0.01, hidden_layer_sizes=(100, 100, 100), learning_rate_init=0.0001, solver=lbfgs, score=0.737, total=   1.5s\n",
      "[CV] alpha=0.01, hidden_layer_sizes=(100, 100, 100), learning_rate_init=0.0001, solver=sgd \n",
      "[CV]  alpha=0.01, hidden_layer_sizes=(100, 100, 100), learning_rate_init=0.0001, solver=sgd, score=0.487, total=   0.0s\n",
      "[CV] alpha=0.01, hidden_layer_sizes=(100, 100, 100), learning_rate_init=0.0001, solver=sgd \n",
      "[CV]  alpha=0.01, hidden_layer_sizes=(100, 100, 100), learning_rate_init=0.0001, solver=sgd, score=0.487, total=   0.0s\n",
      "[CV] alpha=0.01, hidden_layer_sizes=(100, 100, 100), learning_rate_init=0.0001, solver=sgd \n",
      "[CV]  alpha=0.01, hidden_layer_sizes=(100, 100, 100), learning_rate_init=0.0001, solver=sgd, score=0.462, total=   0.0s\n",
      "[CV] alpha=0.01, hidden_layer_sizes=(100, 100, 100), learning_rate_init=0.0001, solver=sgd \n",
      "[CV]  alpha=0.01, hidden_layer_sizes=(100, 100, 100), learning_rate_init=0.0001, solver=sgd, score=0.474, total=   0.0s\n",
      "[CV] alpha=0.01, hidden_layer_sizes=(100, 100, 100), learning_rate_init=0.0001, solver=sgd \n",
      "[CV]  alpha=0.01, hidden_layer_sizes=(100, 100, 100), learning_rate_init=0.0001, solver=sgd, score=0.526, total=   0.0s\n",
      "[CV] alpha=0.01, hidden_layer_sizes=(100, 100, 100), learning_rate_init=0.0001, solver=adam \n"
     ]
    },
    {
     "name": "stdout",
     "output_type": "stream",
     "text": [
      "[CV]  alpha=0.01, hidden_layer_sizes=(100, 100, 100), learning_rate_init=0.0001, solver=adam, score=0.872, total=   1.4s\n",
      "[CV] alpha=0.01, hidden_layer_sizes=(100, 100, 100), learning_rate_init=0.0001, solver=adam \n",
      "[CV]  alpha=0.01, hidden_layer_sizes=(100, 100, 100), learning_rate_init=0.0001, solver=adam, score=0.872, total=   1.5s\n",
      "[CV] alpha=0.01, hidden_layer_sizes=(100, 100, 100), learning_rate_init=0.0001, solver=adam \n",
      "[CV]  alpha=0.01, hidden_layer_sizes=(100, 100, 100), learning_rate_init=0.0001, solver=adam, score=0.769, total=   1.3s\n",
      "[CV] alpha=0.01, hidden_layer_sizes=(100, 100, 100), learning_rate_init=0.0001, solver=adam \n",
      "[CV]  alpha=0.01, hidden_layer_sizes=(100, 100, 100), learning_rate_init=0.0001, solver=adam, score=0.868, total=   1.3s\n",
      "[CV] alpha=0.01, hidden_layer_sizes=(100, 100, 100), learning_rate_init=0.0001, solver=adam \n",
      "[CV]  alpha=0.01, hidden_layer_sizes=(100, 100, 100), learning_rate_init=0.0001, solver=adam, score=0.789, total=   1.4s\n",
      "[CV] alpha=0.01, hidden_layer_sizes=(100, 100, 100), learning_rate_init=0.001, solver=lbfgs \n",
      "[CV]  alpha=0.01, hidden_layer_sizes=(100, 100, 100), learning_rate_init=0.001, solver=lbfgs, score=0.923, total=   0.7s\n",
      "[CV] alpha=0.01, hidden_layer_sizes=(100, 100, 100), learning_rate_init=0.001, solver=lbfgs \n",
      "[CV]  alpha=0.01, hidden_layer_sizes=(100, 100, 100), learning_rate_init=0.001, solver=lbfgs, score=0.897, total=   1.3s\n",
      "[CV] alpha=0.01, hidden_layer_sizes=(100, 100, 100), learning_rate_init=0.001, solver=lbfgs \n",
      "[CV]  alpha=0.01, hidden_layer_sizes=(100, 100, 100), learning_rate_init=0.001, solver=lbfgs, score=0.769, total=   1.7s\n",
      "[CV] alpha=0.01, hidden_layer_sizes=(100, 100, 100), learning_rate_init=0.001, solver=lbfgs \n",
      "[CV]  alpha=0.01, hidden_layer_sizes=(100, 100, 100), learning_rate_init=0.001, solver=lbfgs, score=0.868, total=   1.2s\n",
      "[CV] alpha=0.01, hidden_layer_sizes=(100, 100, 100), learning_rate_init=0.001, solver=lbfgs \n",
      "[CV]  alpha=0.01, hidden_layer_sizes=(100, 100, 100), learning_rate_init=0.001, solver=lbfgs, score=0.816, total=   1.3s\n",
      "[CV] alpha=0.01, hidden_layer_sizes=(100, 100, 100), learning_rate_init=0.001, solver=sgd \n",
      "[CV]  alpha=0.01, hidden_layer_sizes=(100, 100, 100), learning_rate_init=0.001, solver=sgd, score=0.487, total=   0.3s\n",
      "[CV] alpha=0.01, hidden_layer_sizes=(100, 100, 100), learning_rate_init=0.001, solver=sgd \n",
      "[CV]  alpha=0.01, hidden_layer_sizes=(100, 100, 100), learning_rate_init=0.001, solver=sgd, score=0.513, total=   0.0s\n",
      "[CV] alpha=0.01, hidden_layer_sizes=(100, 100, 100), learning_rate_init=0.001, solver=sgd \n",
      "[CV]  alpha=0.01, hidden_layer_sizes=(100, 100, 100), learning_rate_init=0.001, solver=sgd, score=0.462, total=   0.0s\n",
      "[CV] alpha=0.01, hidden_layer_sizes=(100, 100, 100), learning_rate_init=0.001, solver=sgd \n",
      "[CV]  alpha=0.01, hidden_layer_sizes=(100, 100, 100), learning_rate_init=0.001, solver=sgd, score=0.526, total=   0.0s\n",
      "[CV] alpha=0.01, hidden_layer_sizes=(100, 100, 100), learning_rate_init=0.001, solver=sgd \n",
      "[CV]  alpha=0.01, hidden_layer_sizes=(100, 100, 100), learning_rate_init=0.001, solver=sgd, score=0.526, total=   0.0s\n",
      "[CV] alpha=0.01, hidden_layer_sizes=(100, 100, 100), learning_rate_init=0.001, solver=adam \n",
      "[CV]  alpha=0.01, hidden_layer_sizes=(100, 100, 100), learning_rate_init=0.001, solver=adam, score=0.872, total=   0.3s\n",
      "[CV] alpha=0.01, hidden_layer_sizes=(100, 100, 100), learning_rate_init=0.001, solver=adam \n",
      "[CV]  alpha=0.01, hidden_layer_sizes=(100, 100, 100), learning_rate_init=0.001, solver=adam, score=0.872, total=   0.3s\n",
      "[CV] alpha=0.01, hidden_layer_sizes=(100, 100, 100), learning_rate_init=0.001, solver=adam \n",
      "[CV]  alpha=0.01, hidden_layer_sizes=(100, 100, 100), learning_rate_init=0.001, solver=adam, score=0.769, total=   0.3s\n",
      "[CV] alpha=0.01, hidden_layer_sizes=(100, 100, 100), learning_rate_init=0.001, solver=adam \n",
      "[CV]  alpha=0.01, hidden_layer_sizes=(100, 100, 100), learning_rate_init=0.001, solver=adam, score=0.868, total=   0.3s\n",
      "[CV] alpha=0.01, hidden_layer_sizes=(100, 100, 100), learning_rate_init=0.001, solver=adam \n",
      "[CV]  alpha=0.01, hidden_layer_sizes=(100, 100, 100), learning_rate_init=0.001, solver=adam, score=0.737, total=   0.3s\n",
      "[CV] alpha=0.01, hidden_layer_sizes=(100, 100, 100), learning_rate_init=0.01, solver=lbfgs \n",
      "[CV]  alpha=0.01, hidden_layer_sizes=(100, 100, 100), learning_rate_init=0.01, solver=lbfgs, score=0.846, total=   0.5s\n",
      "[CV] alpha=0.01, hidden_layer_sizes=(100, 100, 100), learning_rate_init=0.01, solver=lbfgs \n",
      "[CV]  alpha=0.01, hidden_layer_sizes=(100, 100, 100), learning_rate_init=0.01, solver=lbfgs, score=0.872, total=   1.7s\n",
      "[CV] alpha=0.01, hidden_layer_sizes=(100, 100, 100), learning_rate_init=0.01, solver=lbfgs \n",
      "[CV]  alpha=0.01, hidden_layer_sizes=(100, 100, 100), learning_rate_init=0.01, solver=lbfgs, score=0.769, total=   1.3s\n",
      "[CV] alpha=0.01, hidden_layer_sizes=(100, 100, 100), learning_rate_init=0.01, solver=lbfgs \n",
      "[CV]  alpha=0.01, hidden_layer_sizes=(100, 100, 100), learning_rate_init=0.01, solver=lbfgs, score=0.895, total=   1.4s\n",
      "[CV] alpha=0.01, hidden_layer_sizes=(100, 100, 100), learning_rate_init=0.01, solver=lbfgs \n",
      "[CV]  alpha=0.01, hidden_layer_sizes=(100, 100, 100), learning_rate_init=0.01, solver=lbfgs, score=0.658, total=   1.0s\n",
      "[CV] alpha=0.01, hidden_layer_sizes=(100, 100, 100), learning_rate_init=0.01, solver=sgd \n",
      "[CV]  alpha=0.01, hidden_layer_sizes=(100, 100, 100), learning_rate_init=0.01, solver=sgd, score=0.821, total=   1.1s\n",
      "[CV] alpha=0.01, hidden_layer_sizes=(100, 100, 100), learning_rate_init=0.01, solver=sgd \n",
      "[CV]  alpha=0.01, hidden_layer_sizes=(100, 100, 100), learning_rate_init=0.01, solver=sgd, score=0.821, total=   1.2s\n",
      "[CV] alpha=0.01, hidden_layer_sizes=(100, 100, 100), learning_rate_init=0.01, solver=sgd \n",
      "[CV]  alpha=0.01, hidden_layer_sizes=(100, 100, 100), learning_rate_init=0.01, solver=sgd, score=0.821, total=   1.1s\n",
      "[CV] alpha=0.01, hidden_layer_sizes=(100, 100, 100), learning_rate_init=0.01, solver=sgd \n",
      "[CV]  alpha=0.01, hidden_layer_sizes=(100, 100, 100), learning_rate_init=0.01, solver=sgd, score=0.895, total=   1.2s\n",
      "[CV] alpha=0.01, hidden_layer_sizes=(100, 100, 100), learning_rate_init=0.01, solver=sgd \n",
      "[CV]  alpha=0.01, hidden_layer_sizes=(100, 100, 100), learning_rate_init=0.01, solver=sgd, score=0.737, total=   1.1s\n",
      "[CV] alpha=0.01, hidden_layer_sizes=(100, 100, 100), learning_rate_init=0.01, solver=adam \n",
      "[CV]  alpha=0.01, hidden_layer_sizes=(100, 100, 100), learning_rate_init=0.01, solver=adam, score=0.769, total=   0.1s\n",
      "[CV] alpha=0.01, hidden_layer_sizes=(100, 100, 100), learning_rate_init=0.01, solver=adam \n",
      "[CV]  alpha=0.01, hidden_layer_sizes=(100, 100, 100), learning_rate_init=0.01, solver=adam, score=0.821, total=   0.1s\n",
      "[CV] alpha=0.01, hidden_layer_sizes=(100, 100, 100), learning_rate_init=0.01, solver=adam \n",
      "[CV]  alpha=0.01, hidden_layer_sizes=(100, 100, 100), learning_rate_init=0.01, solver=adam, score=0.821, total=   0.1s\n",
      "[CV] alpha=0.01, hidden_layer_sizes=(100, 100, 100), learning_rate_init=0.01, solver=adam \n",
      "[CV]  alpha=0.01, hidden_layer_sizes=(100, 100, 100), learning_rate_init=0.01, solver=adam, score=0.868, total=   0.1s\n",
      "[CV] alpha=0.01, hidden_layer_sizes=(100, 100, 100), learning_rate_init=0.01, solver=adam \n",
      "[CV]  alpha=0.01, hidden_layer_sizes=(100, 100, 100), learning_rate_init=0.01, solver=adam, score=0.763, total=   0.1s\n",
      "[CV] alpha=0.01, hidden_layer_sizes=(100, 100, 100), learning_rate_init=0.1, solver=lbfgs \n",
      "[CV]  alpha=0.01, hidden_layer_sizes=(100, 100, 100), learning_rate_init=0.1, solver=lbfgs, score=0.846, total=   0.6s\n",
      "[CV] alpha=0.01, hidden_layer_sizes=(100, 100, 100), learning_rate_init=0.1, solver=lbfgs \n",
      "[CV]  alpha=0.01, hidden_layer_sizes=(100, 100, 100), learning_rate_init=0.1, solver=lbfgs, score=0.872, total=   1.3s\n",
      "[CV] alpha=0.01, hidden_layer_sizes=(100, 100, 100), learning_rate_init=0.1, solver=lbfgs \n",
      "[CV]  alpha=0.01, hidden_layer_sizes=(100, 100, 100), learning_rate_init=0.1, solver=lbfgs, score=0.795, total=   1.4s\n",
      "[CV] alpha=0.01, hidden_layer_sizes=(100, 100, 100), learning_rate_init=0.1, solver=lbfgs \n",
      "[CV]  alpha=0.01, hidden_layer_sizes=(100, 100, 100), learning_rate_init=0.1, solver=lbfgs, score=0.842, total=   1.2s\n",
      "[CV] alpha=0.01, hidden_layer_sizes=(100, 100, 100), learning_rate_init=0.1, solver=lbfgs \n"
     ]
    },
    {
     "name": "stdout",
     "output_type": "stream",
     "text": [
      "[CV]  alpha=0.01, hidden_layer_sizes=(100, 100, 100), learning_rate_init=0.1, solver=lbfgs, score=0.737, total=   0.9s\n",
      "[CV] alpha=0.01, hidden_layer_sizes=(100, 100, 100), learning_rate_init=0.1, solver=sgd \n",
      "[CV]  alpha=0.01, hidden_layer_sizes=(100, 100, 100), learning_rate_init=0.1, solver=sgd, score=0.872, total=   0.2s\n",
      "[CV] alpha=0.01, hidden_layer_sizes=(100, 100, 100), learning_rate_init=0.1, solver=sgd \n",
      "[CV]  alpha=0.01, hidden_layer_sizes=(100, 100, 100), learning_rate_init=0.1, solver=sgd, score=0.846, total=   0.2s\n",
      "[CV] alpha=0.01, hidden_layer_sizes=(100, 100, 100), learning_rate_init=0.1, solver=sgd \n",
      "[CV]  alpha=0.01, hidden_layer_sizes=(100, 100, 100), learning_rate_init=0.1, solver=sgd, score=0.769, total=   0.2s\n",
      "[CV] alpha=0.01, hidden_layer_sizes=(100, 100, 100), learning_rate_init=0.1, solver=sgd \n",
      "[CV]  alpha=0.01, hidden_layer_sizes=(100, 100, 100), learning_rate_init=0.1, solver=sgd, score=0.868, total=   0.2s\n",
      "[CV] alpha=0.01, hidden_layer_sizes=(100, 100, 100), learning_rate_init=0.1, solver=sgd \n",
      "[CV]  alpha=0.01, hidden_layer_sizes=(100, 100, 100), learning_rate_init=0.1, solver=sgd, score=0.842, total=   0.2s\n",
      "[CV] alpha=0.01, hidden_layer_sizes=(100, 100, 100), learning_rate_init=0.1, solver=adam \n",
      "[CV]  alpha=0.01, hidden_layer_sizes=(100, 100, 100), learning_rate_init=0.1, solver=adam, score=0.949, total=   0.1s\n",
      "[CV] alpha=0.01, hidden_layer_sizes=(100, 100, 100), learning_rate_init=0.1, solver=adam \n",
      "[CV]  alpha=0.01, hidden_layer_sizes=(100, 100, 100), learning_rate_init=0.1, solver=adam, score=0.872, total=   0.1s\n",
      "[CV] alpha=0.01, hidden_layer_sizes=(100, 100, 100), learning_rate_init=0.1, solver=adam \n",
      "[CV]  alpha=0.01, hidden_layer_sizes=(100, 100, 100), learning_rate_init=0.1, solver=adam, score=0.769, total=   0.1s\n",
      "[CV] alpha=0.01, hidden_layer_sizes=(100, 100, 100), learning_rate_init=0.1, solver=adam \n",
      "[CV]  alpha=0.01, hidden_layer_sizes=(100, 100, 100), learning_rate_init=0.1, solver=adam, score=0.868, total=   0.8s\n",
      "[CV] alpha=0.01, hidden_layer_sizes=(100, 100, 100), learning_rate_init=0.1, solver=adam \n",
      "[CV]  alpha=0.01, hidden_layer_sizes=(100, 100, 100), learning_rate_init=0.1, solver=adam, score=0.868, total=   0.1s\n",
      "[CV] alpha=0.01, hidden_layer_sizes=(100, 100, 100), learning_rate_init=1, solver=lbfgs \n",
      "[CV]  alpha=0.01, hidden_layer_sizes=(100, 100, 100), learning_rate_init=1, solver=lbfgs, score=0.795, total=   0.9s\n",
      "[CV] alpha=0.01, hidden_layer_sizes=(100, 100, 100), learning_rate_init=1, solver=lbfgs \n",
      "[CV]  alpha=0.01, hidden_layer_sizes=(100, 100, 100), learning_rate_init=1, solver=lbfgs, score=0.872, total=   1.0s\n",
      "[CV] alpha=0.01, hidden_layer_sizes=(100, 100, 100), learning_rate_init=1, solver=lbfgs \n",
      "[CV]  alpha=0.01, hidden_layer_sizes=(100, 100, 100), learning_rate_init=1, solver=lbfgs, score=0.795, total=   0.7s\n",
      "[CV] alpha=0.01, hidden_layer_sizes=(100, 100, 100), learning_rate_init=1, solver=lbfgs \n",
      "[CV]  alpha=0.01, hidden_layer_sizes=(100, 100, 100), learning_rate_init=1, solver=lbfgs, score=0.868, total=   1.3s\n",
      "[CV] alpha=0.01, hidden_layer_sizes=(100, 100, 100), learning_rate_init=1, solver=lbfgs \n",
      "[CV]  alpha=0.01, hidden_layer_sizes=(100, 100, 100), learning_rate_init=1, solver=lbfgs, score=0.658, total=   1.1s\n",
      "[CV] alpha=0.01, hidden_layer_sizes=(100, 100, 100), learning_rate_init=1, solver=sgd \n",
      "[CV]  alpha=0.01, hidden_layer_sizes=(100, 100, 100), learning_rate_init=1, solver=sgd, score=0.513, total=   0.1s\n",
      "[CV] alpha=0.01, hidden_layer_sizes=(100, 100, 100), learning_rate_init=1, solver=sgd \n",
      "[CV]  alpha=0.01, hidden_layer_sizes=(100, 100, 100), learning_rate_init=1, solver=sgd, score=0.513, total=   0.1s\n",
      "[CV] alpha=0.01, hidden_layer_sizes=(100, 100, 100), learning_rate_init=1, solver=sgd \n",
      "[CV]  alpha=0.01, hidden_layer_sizes=(100, 100, 100), learning_rate_init=1, solver=sgd, score=0.538, total=   0.1s\n",
      "[CV] alpha=0.01, hidden_layer_sizes=(100, 100, 100), learning_rate_init=1, solver=sgd \n",
      "[CV]  alpha=0.01, hidden_layer_sizes=(100, 100, 100), learning_rate_init=1, solver=sgd, score=0.526, total=   0.1s\n",
      "[CV] alpha=0.01, hidden_layer_sizes=(100, 100, 100), learning_rate_init=1, solver=sgd \n",
      "[CV]  alpha=0.01, hidden_layer_sizes=(100, 100, 100), learning_rate_init=1, solver=sgd, score=0.526, total=   0.0s\n",
      "[CV] alpha=0.01, hidden_layer_sizes=(100, 100, 100), learning_rate_init=1, solver=adam \n",
      "[CV]  alpha=0.01, hidden_layer_sizes=(100, 100, 100), learning_rate_init=1, solver=adam, score=0.872, total=   0.0s\n",
      "[CV] alpha=0.01, hidden_layer_sizes=(100, 100, 100), learning_rate_init=1, solver=adam \n",
      "[CV]  alpha=0.01, hidden_layer_sizes=(100, 100, 100), learning_rate_init=1, solver=adam, score=0.744, total=   0.0s\n",
      "[CV] alpha=0.01, hidden_layer_sizes=(100, 100, 100), learning_rate_init=1, solver=adam \n",
      "[CV]  alpha=0.01, hidden_layer_sizes=(100, 100, 100), learning_rate_init=1, solver=adam, score=0.462, total=   0.0s\n",
      "[CV] alpha=0.01, hidden_layer_sizes=(100, 100, 100), learning_rate_init=1, solver=adam \n",
      "[CV]  alpha=0.01, hidden_layer_sizes=(100, 100, 100), learning_rate_init=1, solver=adam, score=0.895, total=   0.0s\n",
      "[CV] alpha=0.01, hidden_layer_sizes=(100, 100, 100), learning_rate_init=1, solver=adam \n",
      "[CV]  alpha=0.01, hidden_layer_sizes=(100, 100, 100), learning_rate_init=1, solver=adam, score=0.789, total=   0.0s\n",
      "[CV] alpha=0.1, hidden_layer_sizes=(100,), learning_rate_init=0.0001, solver=lbfgs \n",
      "[CV]  alpha=0.1, hidden_layer_sizes=(100,), learning_rate_init=0.0001, solver=lbfgs, score=0.923, total=   0.6s\n",
      "[CV] alpha=0.1, hidden_layer_sizes=(100,), learning_rate_init=0.0001, solver=lbfgs \n",
      "[CV]  alpha=0.1, hidden_layer_sizes=(100,), learning_rate_init=0.0001, solver=lbfgs, score=0.872, total=   0.5s\n",
      "[CV] alpha=0.1, hidden_layer_sizes=(100,), learning_rate_init=0.0001, solver=lbfgs \n",
      "[CV]  alpha=0.1, hidden_layer_sizes=(100,), learning_rate_init=0.0001, solver=lbfgs, score=0.769, total=   0.4s\n",
      "[CV] alpha=0.1, hidden_layer_sizes=(100,), learning_rate_init=0.0001, solver=lbfgs \n",
      "[CV]  alpha=0.1, hidden_layer_sizes=(100,), learning_rate_init=0.0001, solver=lbfgs, score=0.868, total=   0.6s\n",
      "[CV] alpha=0.1, hidden_layer_sizes=(100,), learning_rate_init=0.0001, solver=lbfgs \n",
      "[CV]  alpha=0.1, hidden_layer_sizes=(100,), learning_rate_init=0.0001, solver=lbfgs, score=0.737, total=   0.6s\n",
      "[CV] alpha=0.1, hidden_layer_sizes=(100,), learning_rate_init=0.0001, solver=sgd \n",
      "[CV]  alpha=0.1, hidden_layer_sizes=(100,), learning_rate_init=0.0001, solver=sgd, score=0.513, total=   0.0s\n",
      "[CV] alpha=0.1, hidden_layer_sizes=(100,), learning_rate_init=0.0001, solver=sgd \n",
      "[CV]  alpha=0.1, hidden_layer_sizes=(100,), learning_rate_init=0.0001, solver=sgd, score=0.513, total=   0.0s\n",
      "[CV] alpha=0.1, hidden_layer_sizes=(100,), learning_rate_init=0.0001, solver=sgd \n",
      "[CV]  alpha=0.1, hidden_layer_sizes=(100,), learning_rate_init=0.0001, solver=sgd, score=0.513, total=   0.0s\n",
      "[CV] alpha=0.1, hidden_layer_sizes=(100,), learning_rate_init=0.0001, solver=sgd \n",
      "[CV]  alpha=0.1, hidden_layer_sizes=(100,), learning_rate_init=0.0001, solver=sgd, score=0.474, total=   0.0s\n",
      "[CV] alpha=0.1, hidden_layer_sizes=(100,), learning_rate_init=0.0001, solver=sgd \n",
      "[CV]  alpha=0.1, hidden_layer_sizes=(100,), learning_rate_init=0.0001, solver=sgd, score=0.474, total=   0.0s\n",
      "[CV] alpha=0.1, hidden_layer_sizes=(100,), learning_rate_init=0.0001, solver=adam \n",
      "[CV]  alpha=0.1, hidden_layer_sizes=(100,), learning_rate_init=0.0001, solver=adam, score=0.923, total=   2.1s\n",
      "[CV] alpha=0.1, hidden_layer_sizes=(100,), learning_rate_init=0.0001, solver=adam \n",
      "[CV]  alpha=0.1, hidden_layer_sizes=(100,), learning_rate_init=0.0001, solver=adam, score=0.872, total=   2.2s\n",
      "[CV] alpha=0.1, hidden_layer_sizes=(100,), learning_rate_init=0.0001, solver=adam \n",
      "[CV]  alpha=0.1, hidden_layer_sizes=(100,), learning_rate_init=0.0001, solver=adam, score=0.821, total=   2.4s\n",
      "[CV] alpha=0.1, hidden_layer_sizes=(100,), learning_rate_init=0.0001, solver=adam \n",
      "[CV]  alpha=0.1, hidden_layer_sizes=(100,), learning_rate_init=0.0001, solver=adam, score=0.868, total=   2.3s\n",
      "[CV] alpha=0.1, hidden_layer_sizes=(100,), learning_rate_init=0.0001, solver=adam \n",
      "[CV]  alpha=0.1, hidden_layer_sizes=(100,), learning_rate_init=0.0001, solver=adam, score=0.816, total=   2.2s\n",
      "[CV] alpha=0.1, hidden_layer_sizes=(100,), learning_rate_init=0.001, solver=lbfgs \n"
     ]
    },
    {
     "name": "stdout",
     "output_type": "stream",
     "text": [
      "[CV]  alpha=0.1, hidden_layer_sizes=(100,), learning_rate_init=0.001, solver=lbfgs, score=0.923, total=   0.4s\n",
      "[CV] alpha=0.1, hidden_layer_sizes=(100,), learning_rate_init=0.001, solver=lbfgs \n",
      "[CV]  alpha=0.1, hidden_layer_sizes=(100,), learning_rate_init=0.001, solver=lbfgs, score=0.872, total=   0.6s\n",
      "[CV] alpha=0.1, hidden_layer_sizes=(100,), learning_rate_init=0.001, solver=lbfgs \n",
      "[CV]  alpha=0.1, hidden_layer_sizes=(100,), learning_rate_init=0.001, solver=lbfgs, score=0.769, total=   0.5s\n",
      "[CV] alpha=0.1, hidden_layer_sizes=(100,), learning_rate_init=0.001, solver=lbfgs \n",
      "[CV]  alpha=0.1, hidden_layer_sizes=(100,), learning_rate_init=0.001, solver=lbfgs, score=0.868, total=   0.6s\n",
      "[CV] alpha=0.1, hidden_layer_sizes=(100,), learning_rate_init=0.001, solver=lbfgs \n",
      "[CV]  alpha=0.1, hidden_layer_sizes=(100,), learning_rate_init=0.001, solver=lbfgs, score=0.737, total=   0.4s\n",
      "[CV] alpha=0.1, hidden_layer_sizes=(100,), learning_rate_init=0.001, solver=sgd \n",
      "[CV]  alpha=0.1, hidden_layer_sizes=(100,), learning_rate_init=0.001, solver=sgd, score=0.487, total=   0.2s\n",
      "[CV] alpha=0.1, hidden_layer_sizes=(100,), learning_rate_init=0.001, solver=sgd \n",
      "[CV]  alpha=0.1, hidden_layer_sizes=(100,), learning_rate_init=0.001, solver=sgd, score=0.513, total=   0.0s\n",
      "[CV] alpha=0.1, hidden_layer_sizes=(100,), learning_rate_init=0.001, solver=sgd \n",
      "[CV]  alpha=0.1, hidden_layer_sizes=(100,), learning_rate_init=0.001, solver=sgd, score=0.538, total=   0.0s\n",
      "[CV] alpha=0.1, hidden_layer_sizes=(100,), learning_rate_init=0.001, solver=sgd \n",
      "[CV]  alpha=0.1, hidden_layer_sizes=(100,), learning_rate_init=0.001, solver=sgd, score=0.474, total=   0.0s\n",
      "[CV] alpha=0.1, hidden_layer_sizes=(100,), learning_rate_init=0.001, solver=sgd \n",
      "[CV]  alpha=0.1, hidden_layer_sizes=(100,), learning_rate_init=0.001, solver=sgd, score=0.395, total=   0.0s\n",
      "[CV] alpha=0.1, hidden_layer_sizes=(100,), learning_rate_init=0.001, solver=adam \n",
      "[CV]  alpha=0.1, hidden_layer_sizes=(100,), learning_rate_init=0.001, solver=adam, score=0.923, total=   0.6s\n",
      "[CV] alpha=0.1, hidden_layer_sizes=(100,), learning_rate_init=0.001, solver=adam \n",
      "[CV]  alpha=0.1, hidden_layer_sizes=(100,), learning_rate_init=0.001, solver=adam, score=0.872, total=   0.7s\n",
      "[CV] alpha=0.1, hidden_layer_sizes=(100,), learning_rate_init=0.001, solver=adam \n",
      "[CV]  alpha=0.1, hidden_layer_sizes=(100,), learning_rate_init=0.001, solver=adam, score=0.769, total=   0.6s\n",
      "[CV] alpha=0.1, hidden_layer_sizes=(100,), learning_rate_init=0.001, solver=adam \n",
      "[CV]  alpha=0.1, hidden_layer_sizes=(100,), learning_rate_init=0.001, solver=adam, score=0.868, total=   0.6s\n",
      "[CV] alpha=0.1, hidden_layer_sizes=(100,), learning_rate_init=0.001, solver=adam \n",
      "[CV]  alpha=0.1, hidden_layer_sizes=(100,), learning_rate_init=0.001, solver=adam, score=0.789, total=   0.6s\n",
      "[CV] alpha=0.1, hidden_layer_sizes=(100,), learning_rate_init=0.01, solver=lbfgs \n",
      "[CV]  alpha=0.1, hidden_layer_sizes=(100,), learning_rate_init=0.01, solver=lbfgs, score=0.923, total=   0.6s\n",
      "[CV] alpha=0.1, hidden_layer_sizes=(100,), learning_rate_init=0.01, solver=lbfgs \n",
      "[CV]  alpha=0.1, hidden_layer_sizes=(100,), learning_rate_init=0.01, solver=lbfgs, score=0.872, total=   0.5s\n",
      "[CV] alpha=0.1, hidden_layer_sizes=(100,), learning_rate_init=0.01, solver=lbfgs \n",
      "[CV]  alpha=0.1, hidden_layer_sizes=(100,), learning_rate_init=0.01, solver=lbfgs, score=0.769, total=   0.5s\n",
      "[CV] alpha=0.1, hidden_layer_sizes=(100,), learning_rate_init=0.01, solver=lbfgs \n",
      "[CV]  alpha=0.1, hidden_layer_sizes=(100,), learning_rate_init=0.01, solver=lbfgs, score=0.868, total=   0.5s\n",
      "[CV] alpha=0.1, hidden_layer_sizes=(100,), learning_rate_init=0.01, solver=lbfgs \n",
      "[CV]  alpha=0.1, hidden_layer_sizes=(100,), learning_rate_init=0.01, solver=lbfgs, score=0.737, total=   0.4s\n",
      "[CV] alpha=0.1, hidden_layer_sizes=(100,), learning_rate_init=0.01, solver=sgd \n",
      "[CV]  alpha=0.1, hidden_layer_sizes=(100,), learning_rate_init=0.01, solver=sgd, score=0.923, total=   1.5s\n",
      "[CV] alpha=0.1, hidden_layer_sizes=(100,), learning_rate_init=0.01, solver=sgd \n",
      "[CV]  alpha=0.1, hidden_layer_sizes=(100,), learning_rate_init=0.01, solver=sgd, score=0.872, total=   1.5s\n",
      "[CV] alpha=0.1, hidden_layer_sizes=(100,), learning_rate_init=0.01, solver=sgd \n",
      "[CV]  alpha=0.1, hidden_layer_sizes=(100,), learning_rate_init=0.01, solver=sgd, score=0.795, total=   1.6s\n",
      "[CV] alpha=0.1, hidden_layer_sizes=(100,), learning_rate_init=0.01, solver=sgd \n",
      "[CV]  alpha=0.1, hidden_layer_sizes=(100,), learning_rate_init=0.01, solver=sgd, score=0.868, total=   1.7s\n",
      "[CV] alpha=0.1, hidden_layer_sizes=(100,), learning_rate_init=0.01, solver=sgd \n",
      "[CV]  alpha=0.1, hidden_layer_sizes=(100,), learning_rate_init=0.01, solver=sgd, score=0.842, total=   1.5s\n",
      "[CV] alpha=0.1, hidden_layer_sizes=(100,), learning_rate_init=0.01, solver=adam \n",
      "[CV]  alpha=0.1, hidden_layer_sizes=(100,), learning_rate_init=0.01, solver=adam, score=0.923, total=   0.2s\n",
      "[CV] alpha=0.1, hidden_layer_sizes=(100,), learning_rate_init=0.01, solver=adam \n",
      "[CV]  alpha=0.1, hidden_layer_sizes=(100,), learning_rate_init=0.01, solver=adam, score=0.872, total=   0.2s\n",
      "[CV] alpha=0.1, hidden_layer_sizes=(100,), learning_rate_init=0.01, solver=adam \n",
      "[CV]  alpha=0.1, hidden_layer_sizes=(100,), learning_rate_init=0.01, solver=adam, score=0.769, total=   0.2s\n",
      "[CV] alpha=0.1, hidden_layer_sizes=(100,), learning_rate_init=0.01, solver=adam \n",
      "[CV]  alpha=0.1, hidden_layer_sizes=(100,), learning_rate_init=0.01, solver=adam, score=0.868, total=   0.2s\n",
      "[CV] alpha=0.1, hidden_layer_sizes=(100,), learning_rate_init=0.01, solver=adam \n",
      "[CV]  alpha=0.1, hidden_layer_sizes=(100,), learning_rate_init=0.01, solver=adam, score=0.737, total=   0.2s\n",
      "[CV] alpha=0.1, hidden_layer_sizes=(100,), learning_rate_init=0.1, solver=lbfgs \n",
      "[CV]  alpha=0.1, hidden_layer_sizes=(100,), learning_rate_init=0.1, solver=lbfgs, score=0.923, total=   0.5s\n",
      "[CV] alpha=0.1, hidden_layer_sizes=(100,), learning_rate_init=0.1, solver=lbfgs \n",
      "[CV]  alpha=0.1, hidden_layer_sizes=(100,), learning_rate_init=0.1, solver=lbfgs, score=0.872, total=   0.5s\n",
      "[CV] alpha=0.1, hidden_layer_sizes=(100,), learning_rate_init=0.1, solver=lbfgs \n",
      "[CV]  alpha=0.1, hidden_layer_sizes=(100,), learning_rate_init=0.1, solver=lbfgs, score=0.769, total=   0.4s\n",
      "[CV] alpha=0.1, hidden_layer_sizes=(100,), learning_rate_init=0.1, solver=lbfgs \n",
      "[CV]  alpha=0.1, hidden_layer_sizes=(100,), learning_rate_init=0.1, solver=lbfgs, score=0.868, total=   0.6s\n",
      "[CV] alpha=0.1, hidden_layer_sizes=(100,), learning_rate_init=0.1, solver=lbfgs \n",
      "[CV]  alpha=0.1, hidden_layer_sizes=(100,), learning_rate_init=0.1, solver=lbfgs, score=0.737, total=   0.5s\n",
      "[CV] alpha=0.1, hidden_layer_sizes=(100,), learning_rate_init=0.1, solver=sgd \n",
      "[CV]  alpha=0.1, hidden_layer_sizes=(100,), learning_rate_init=0.1, solver=sgd, score=0.923, total=   0.3s\n",
      "[CV] alpha=0.1, hidden_layer_sizes=(100,), learning_rate_init=0.1, solver=sgd \n",
      "[CV]  alpha=0.1, hidden_layer_sizes=(100,), learning_rate_init=0.1, solver=sgd, score=0.872, total=   0.4s\n",
      "[CV] alpha=0.1, hidden_layer_sizes=(100,), learning_rate_init=0.1, solver=sgd \n",
      "[CV]  alpha=0.1, hidden_layer_sizes=(100,), learning_rate_init=0.1, solver=sgd, score=0.821, total=   0.4s\n",
      "[CV] alpha=0.1, hidden_layer_sizes=(100,), learning_rate_init=0.1, solver=sgd \n",
      "[CV]  alpha=0.1, hidden_layer_sizes=(100,), learning_rate_init=0.1, solver=sgd, score=0.868, total=   0.4s\n",
      "[CV] alpha=0.1, hidden_layer_sizes=(100,), learning_rate_init=0.1, solver=sgd \n",
      "[CV]  alpha=0.1, hidden_layer_sizes=(100,), learning_rate_init=0.1, solver=sgd, score=0.789, total=   0.4s\n",
      "[CV] alpha=0.1, hidden_layer_sizes=(100,), learning_rate_init=0.1, solver=adam \n",
      "[CV]  alpha=0.1, hidden_layer_sizes=(100,), learning_rate_init=0.1, solver=adam, score=0.923, total=   0.1s\n",
      "[CV] alpha=0.1, hidden_layer_sizes=(100,), learning_rate_init=0.1, solver=adam \n",
      "[CV]  alpha=0.1, hidden_layer_sizes=(100,), learning_rate_init=0.1, solver=adam, score=0.872, total=   0.1s\n",
      "[CV] alpha=0.1, hidden_layer_sizes=(100,), learning_rate_init=0.1, solver=adam \n",
      "[CV]  alpha=0.1, hidden_layer_sizes=(100,), learning_rate_init=0.1, solver=adam, score=0.795, total=   0.1s\n",
      "[CV] alpha=0.1, hidden_layer_sizes=(100,), learning_rate_init=0.1, solver=adam \n",
      "[CV]  alpha=0.1, hidden_layer_sizes=(100,), learning_rate_init=0.1, solver=adam, score=0.895, total=   0.2s\n",
      "[CV] alpha=0.1, hidden_layer_sizes=(100,), learning_rate_init=0.1, solver=adam \n",
      "[CV]  alpha=0.1, hidden_layer_sizes=(100,), learning_rate_init=0.1, solver=adam, score=0.763, total=   0.1s\n",
      "[CV] alpha=0.1, hidden_layer_sizes=(100,), learning_rate_init=1, solver=lbfgs \n"
     ]
    },
    {
     "name": "stdout",
     "output_type": "stream",
     "text": [
      "[CV]  alpha=0.1, hidden_layer_sizes=(100,), learning_rate_init=1, solver=lbfgs, score=0.923, total=   0.4s\n",
      "[CV] alpha=0.1, hidden_layer_sizes=(100,), learning_rate_init=1, solver=lbfgs \n",
      "[CV]  alpha=0.1, hidden_layer_sizes=(100,), learning_rate_init=1, solver=lbfgs, score=0.872, total=   0.6s\n",
      "[CV] alpha=0.1, hidden_layer_sizes=(100,), learning_rate_init=1, solver=lbfgs \n",
      "[CV]  alpha=0.1, hidden_layer_sizes=(100,), learning_rate_init=1, solver=lbfgs, score=0.769, total=   0.6s\n",
      "[CV] alpha=0.1, hidden_layer_sizes=(100,), learning_rate_init=1, solver=lbfgs \n",
      "[CV]  alpha=0.1, hidden_layer_sizes=(100,), learning_rate_init=1, solver=lbfgs, score=0.868, total=   0.4s\n",
      "[CV] alpha=0.1, hidden_layer_sizes=(100,), learning_rate_init=1, solver=lbfgs \n",
      "[CV]  alpha=0.1, hidden_layer_sizes=(100,), learning_rate_init=1, solver=lbfgs, score=0.737, total=   0.5s\n",
      "[CV] alpha=0.1, hidden_layer_sizes=(100,), learning_rate_init=1, solver=sgd \n",
      "[CV]  alpha=0.1, hidden_layer_sizes=(100,), learning_rate_init=1, solver=sgd, score=0.872, total=   0.0s\n",
      "[CV] alpha=0.1, hidden_layer_sizes=(100,), learning_rate_init=1, solver=sgd \n",
      "[CV]  alpha=0.1, hidden_layer_sizes=(100,), learning_rate_init=1, solver=sgd, score=0.872, total=   0.3s\n",
      "[CV] alpha=0.1, hidden_layer_sizes=(100,), learning_rate_init=1, solver=sgd \n",
      "[CV]  alpha=0.1, hidden_layer_sizes=(100,), learning_rate_init=1, solver=sgd, score=0.769, total=   0.1s\n",
      "[CV] alpha=0.1, hidden_layer_sizes=(100,), learning_rate_init=1, solver=sgd \n",
      "[CV]  alpha=0.1, hidden_layer_sizes=(100,), learning_rate_init=1, solver=sgd, score=0.868, total=   0.0s\n",
      "[CV] alpha=0.1, hidden_layer_sizes=(100,), learning_rate_init=1, solver=sgd \n",
      "[CV]  alpha=0.1, hidden_layer_sizes=(100,), learning_rate_init=1, solver=sgd, score=0.816, total=   0.0s\n",
      "[CV] alpha=0.1, hidden_layer_sizes=(100,), learning_rate_init=1, solver=adam \n",
      "[CV]  alpha=0.1, hidden_layer_sizes=(100,), learning_rate_init=1, solver=adam, score=0.897, total=   0.0s\n",
      "[CV] alpha=0.1, hidden_layer_sizes=(100,), learning_rate_init=1, solver=adam \n",
      "[CV]  alpha=0.1, hidden_layer_sizes=(100,), learning_rate_init=1, solver=adam, score=0.795, total=   0.0s\n",
      "[CV] alpha=0.1, hidden_layer_sizes=(100,), learning_rate_init=1, solver=adam \n",
      "[CV]  alpha=0.1, hidden_layer_sizes=(100,), learning_rate_init=1, solver=adam, score=0.795, total=   0.0s\n",
      "[CV] alpha=0.1, hidden_layer_sizes=(100,), learning_rate_init=1, solver=adam \n",
      "[CV]  alpha=0.1, hidden_layer_sizes=(100,), learning_rate_init=1, solver=adam, score=0.868, total=   0.0s\n",
      "[CV] alpha=0.1, hidden_layer_sizes=(100,), learning_rate_init=1, solver=adam \n",
      "[CV]  alpha=0.1, hidden_layer_sizes=(100,), learning_rate_init=1, solver=adam, score=0.895, total=   0.0s\n",
      "[CV] alpha=0.1, hidden_layer_sizes=(100, 100), learning_rate_init=0.0001, solver=lbfgs \n",
      "[CV]  alpha=0.1, hidden_layer_sizes=(100, 100), learning_rate_init=0.0001, solver=lbfgs, score=0.923, total=   0.8s\n",
      "[CV] alpha=0.1, hidden_layer_sizes=(100, 100), learning_rate_init=0.0001, solver=lbfgs \n",
      "[CV]  alpha=0.1, hidden_layer_sizes=(100, 100), learning_rate_init=0.0001, solver=lbfgs, score=0.872, total=   0.9s\n",
      "[CV] alpha=0.1, hidden_layer_sizes=(100, 100), learning_rate_init=0.0001, solver=lbfgs \n",
      "[CV]  alpha=0.1, hidden_layer_sizes=(100, 100), learning_rate_init=0.0001, solver=lbfgs, score=0.795, total=   0.9s\n",
      "[CV] alpha=0.1, hidden_layer_sizes=(100, 100), learning_rate_init=0.0001, solver=lbfgs \n",
      "[CV]  alpha=0.1, hidden_layer_sizes=(100, 100), learning_rate_init=0.0001, solver=lbfgs, score=0.868, total=   0.8s\n",
      "[CV] alpha=0.1, hidden_layer_sizes=(100, 100), learning_rate_init=0.0001, solver=lbfgs \n",
      "[CV]  alpha=0.1, hidden_layer_sizes=(100, 100), learning_rate_init=0.0001, solver=lbfgs, score=0.737, total=   0.7s\n",
      "[CV] alpha=0.1, hidden_layer_sizes=(100, 100), learning_rate_init=0.0001, solver=sgd \n",
      "[CV]  alpha=0.1, hidden_layer_sizes=(100, 100), learning_rate_init=0.0001, solver=sgd, score=0.513, total=   0.0s\n",
      "[CV] alpha=0.1, hidden_layer_sizes=(100, 100), learning_rate_init=0.0001, solver=sgd \n",
      "[CV]  alpha=0.1, hidden_layer_sizes=(100, 100), learning_rate_init=0.0001, solver=sgd, score=0.487, total=   0.0s\n",
      "[CV] alpha=0.1, hidden_layer_sizes=(100, 100), learning_rate_init=0.0001, solver=sgd \n",
      "[CV]  alpha=0.1, hidden_layer_sizes=(100, 100), learning_rate_init=0.0001, solver=sgd, score=0.538, total=   0.0s\n",
      "[CV] alpha=0.1, hidden_layer_sizes=(100, 100), learning_rate_init=0.0001, solver=sgd \n",
      "[CV]  alpha=0.1, hidden_layer_sizes=(100, 100), learning_rate_init=0.0001, solver=sgd, score=0.526, total=   0.0s\n",
      "[CV] alpha=0.1, hidden_layer_sizes=(100, 100), learning_rate_init=0.0001, solver=sgd \n",
      "[CV]  alpha=0.1, hidden_layer_sizes=(100, 100), learning_rate_init=0.0001, solver=sgd, score=0.526, total=   0.0s\n",
      "[CV] alpha=0.1, hidden_layer_sizes=(100, 100), learning_rate_init=0.0001, solver=adam \n",
      "[CV]  alpha=0.1, hidden_layer_sizes=(100, 100), learning_rate_init=0.0001, solver=adam, score=0.897, total=   1.8s\n",
      "[CV] alpha=0.1, hidden_layer_sizes=(100, 100), learning_rate_init=0.0001, solver=adam \n",
      "[CV]  alpha=0.1, hidden_layer_sizes=(100, 100), learning_rate_init=0.0001, solver=adam, score=0.872, total=   1.7s\n",
      "[CV] alpha=0.1, hidden_layer_sizes=(100, 100), learning_rate_init=0.0001, solver=adam \n",
      "[CV]  alpha=0.1, hidden_layer_sizes=(100, 100), learning_rate_init=0.0001, solver=adam, score=0.769, total=   1.8s\n",
      "[CV] alpha=0.1, hidden_layer_sizes=(100, 100), learning_rate_init=0.0001, solver=adam \n",
      "[CV]  alpha=0.1, hidden_layer_sizes=(100, 100), learning_rate_init=0.0001, solver=adam, score=0.868, total=   1.8s\n",
      "[CV] alpha=0.1, hidden_layer_sizes=(100, 100), learning_rate_init=0.0001, solver=adam \n",
      "[CV]  alpha=0.1, hidden_layer_sizes=(100, 100), learning_rate_init=0.0001, solver=adam, score=0.789, total=   1.7s\n",
      "[CV] alpha=0.1, hidden_layer_sizes=(100, 100), learning_rate_init=0.001, solver=lbfgs \n",
      "[CV]  alpha=0.1, hidden_layer_sizes=(100, 100), learning_rate_init=0.001, solver=lbfgs, score=0.923, total=   0.8s\n",
      "[CV] alpha=0.1, hidden_layer_sizes=(100, 100), learning_rate_init=0.001, solver=lbfgs \n",
      "[CV]  alpha=0.1, hidden_layer_sizes=(100, 100), learning_rate_init=0.001, solver=lbfgs, score=0.872, total=   0.8s\n",
      "[CV] alpha=0.1, hidden_layer_sizes=(100, 100), learning_rate_init=0.001, solver=lbfgs \n",
      "[CV]  alpha=0.1, hidden_layer_sizes=(100, 100), learning_rate_init=0.001, solver=lbfgs, score=0.795, total=   0.8s\n",
      "[CV] alpha=0.1, hidden_layer_sizes=(100, 100), learning_rate_init=0.001, solver=lbfgs \n",
      "[CV]  alpha=0.1, hidden_layer_sizes=(100, 100), learning_rate_init=0.001, solver=lbfgs, score=0.868, total=   0.9s\n",
      "[CV] alpha=0.1, hidden_layer_sizes=(100, 100), learning_rate_init=0.001, solver=lbfgs \n",
      "[CV]  alpha=0.1, hidden_layer_sizes=(100, 100), learning_rate_init=0.001, solver=lbfgs, score=0.737, total=   0.8s\n",
      "[CV] alpha=0.1, hidden_layer_sizes=(100, 100), learning_rate_init=0.001, solver=sgd \n",
      "[CV]  alpha=0.1, hidden_layer_sizes=(100, 100), learning_rate_init=0.001, solver=sgd, score=0.487, total=   0.0s\n",
      "[CV] alpha=0.1, hidden_layer_sizes=(100, 100), learning_rate_init=0.001, solver=sgd \n",
      "[CV]  alpha=0.1, hidden_layer_sizes=(100, 100), learning_rate_init=0.001, solver=sgd, score=0.513, total=   0.0s\n",
      "[CV] alpha=0.1, hidden_layer_sizes=(100, 100), learning_rate_init=0.001, solver=sgd \n",
      "[CV]  alpha=0.1, hidden_layer_sizes=(100, 100), learning_rate_init=0.001, solver=sgd, score=0.538, total=   0.0s\n",
      "[CV] alpha=0.1, hidden_layer_sizes=(100, 100), learning_rate_init=0.001, solver=sgd \n",
      "[CV]  alpha=0.1, hidden_layer_sizes=(100, 100), learning_rate_init=0.001, solver=sgd, score=0.526, total=   0.0s\n",
      "[CV] alpha=0.1, hidden_layer_sizes=(100, 100), learning_rate_init=0.001, solver=sgd \n",
      "[CV]  alpha=0.1, hidden_layer_sizes=(100, 100), learning_rate_init=0.001, solver=sgd, score=0.474, total=   0.0s\n",
      "[CV] alpha=0.1, hidden_layer_sizes=(100, 100), learning_rate_init=0.001, solver=adam \n",
      "[CV]  alpha=0.1, hidden_layer_sizes=(100, 100), learning_rate_init=0.001, solver=adam, score=0.949, total=   0.5s\n",
      "[CV] alpha=0.1, hidden_layer_sizes=(100, 100), learning_rate_init=0.001, solver=adam \n",
      "[CV]  alpha=0.1, hidden_layer_sizes=(100, 100), learning_rate_init=0.001, solver=adam, score=0.872, total=   0.6s\n",
      "[CV] alpha=0.1, hidden_layer_sizes=(100, 100), learning_rate_init=0.001, solver=adam \n"
     ]
    },
    {
     "name": "stdout",
     "output_type": "stream",
     "text": [
      "[CV]  alpha=0.1, hidden_layer_sizes=(100, 100), learning_rate_init=0.001, solver=adam, score=0.769, total=   0.6s\n",
      "[CV] alpha=0.1, hidden_layer_sizes=(100, 100), learning_rate_init=0.001, solver=adam \n",
      "[CV]  alpha=0.1, hidden_layer_sizes=(100, 100), learning_rate_init=0.001, solver=adam, score=0.868, total=   0.6s\n",
      "[CV] alpha=0.1, hidden_layer_sizes=(100, 100), learning_rate_init=0.001, solver=adam \n",
      "[CV]  alpha=0.1, hidden_layer_sizes=(100, 100), learning_rate_init=0.001, solver=adam, score=0.763, total=   0.5s\n",
      "[CV] alpha=0.1, hidden_layer_sizes=(100, 100), learning_rate_init=0.01, solver=lbfgs \n",
      "[CV]  alpha=0.1, hidden_layer_sizes=(100, 100), learning_rate_init=0.01, solver=lbfgs, score=0.923, total=   0.9s\n",
      "[CV] alpha=0.1, hidden_layer_sizes=(100, 100), learning_rate_init=0.01, solver=lbfgs \n",
      "[CV]  alpha=0.1, hidden_layer_sizes=(100, 100), learning_rate_init=0.01, solver=lbfgs, score=0.872, total=   0.9s\n",
      "[CV] alpha=0.1, hidden_layer_sizes=(100, 100), learning_rate_init=0.01, solver=lbfgs \n",
      "[CV]  alpha=0.1, hidden_layer_sizes=(100, 100), learning_rate_init=0.01, solver=lbfgs, score=0.795, total=   1.0s\n",
      "[CV] alpha=0.1, hidden_layer_sizes=(100, 100), learning_rate_init=0.01, solver=lbfgs \n",
      "[CV]  alpha=0.1, hidden_layer_sizes=(100, 100), learning_rate_init=0.01, solver=lbfgs, score=0.868, total=   0.7s\n",
      "[CV] alpha=0.1, hidden_layer_sizes=(100, 100), learning_rate_init=0.01, solver=lbfgs \n",
      "[CV]  alpha=0.1, hidden_layer_sizes=(100, 100), learning_rate_init=0.01, solver=lbfgs, score=0.737, total=   0.8s\n",
      "[CV] alpha=0.1, hidden_layer_sizes=(100, 100), learning_rate_init=0.01, solver=sgd \n",
      "[CV]  alpha=0.1, hidden_layer_sizes=(100, 100), learning_rate_init=0.01, solver=sgd, score=0.897, total=   1.1s\n",
      "[CV] alpha=0.1, hidden_layer_sizes=(100, 100), learning_rate_init=0.01, solver=sgd \n",
      "[CV]  alpha=0.1, hidden_layer_sizes=(100, 100), learning_rate_init=0.01, solver=sgd, score=0.846, total=   1.1s\n",
      "[CV] alpha=0.1, hidden_layer_sizes=(100, 100), learning_rate_init=0.01, solver=sgd \n",
      "[CV]  alpha=0.1, hidden_layer_sizes=(100, 100), learning_rate_init=0.01, solver=sgd, score=0.846, total=   1.1s\n",
      "[CV] alpha=0.1, hidden_layer_sizes=(100, 100), learning_rate_init=0.01, solver=sgd \n",
      "[CV]  alpha=0.1, hidden_layer_sizes=(100, 100), learning_rate_init=0.01, solver=sgd, score=0.921, total=   1.1s\n",
      "[CV] alpha=0.1, hidden_layer_sizes=(100, 100), learning_rate_init=0.01, solver=sgd \n",
      "[CV]  alpha=0.1, hidden_layer_sizes=(100, 100), learning_rate_init=0.01, solver=sgd, score=0.816, total=   1.1s\n",
      "[CV] alpha=0.1, hidden_layer_sizes=(100, 100), learning_rate_init=0.01, solver=adam \n",
      "[CV]  alpha=0.1, hidden_layer_sizes=(100, 100), learning_rate_init=0.01, solver=adam, score=0.923, total=   0.3s\n",
      "[CV] alpha=0.1, hidden_layer_sizes=(100, 100), learning_rate_init=0.01, solver=adam \n",
      "[CV]  alpha=0.1, hidden_layer_sizes=(100, 100), learning_rate_init=0.01, solver=adam, score=0.872, total=   0.3s\n",
      "[CV] alpha=0.1, hidden_layer_sizes=(100, 100), learning_rate_init=0.01, solver=adam \n",
      "[CV]  alpha=0.1, hidden_layer_sizes=(100, 100), learning_rate_init=0.01, solver=adam, score=0.795, total=   0.3s\n",
      "[CV] alpha=0.1, hidden_layer_sizes=(100, 100), learning_rate_init=0.01, solver=adam \n",
      "[CV]  alpha=0.1, hidden_layer_sizes=(100, 100), learning_rate_init=0.01, solver=adam, score=0.868, total=   0.3s\n",
      "[CV] alpha=0.1, hidden_layer_sizes=(100, 100), learning_rate_init=0.01, solver=adam \n",
      "[CV]  alpha=0.1, hidden_layer_sizes=(100, 100), learning_rate_init=0.01, solver=adam, score=0.737, total=   0.3s\n",
      "[CV] alpha=0.1, hidden_layer_sizes=(100, 100), learning_rate_init=0.1, solver=lbfgs \n",
      "[CV]  alpha=0.1, hidden_layer_sizes=(100, 100), learning_rate_init=0.1, solver=lbfgs, score=0.923, total=   0.7s\n",
      "[CV] alpha=0.1, hidden_layer_sizes=(100, 100), learning_rate_init=0.1, solver=lbfgs \n",
      "[CV]  alpha=0.1, hidden_layer_sizes=(100, 100), learning_rate_init=0.1, solver=lbfgs, score=0.872, total=   0.9s\n",
      "[CV] alpha=0.1, hidden_layer_sizes=(100, 100), learning_rate_init=0.1, solver=lbfgs \n",
      "[CV]  alpha=0.1, hidden_layer_sizes=(100, 100), learning_rate_init=0.1, solver=lbfgs, score=0.795, total=   0.7s\n",
      "[CV] alpha=0.1, hidden_layer_sizes=(100, 100), learning_rate_init=0.1, solver=lbfgs \n",
      "[CV]  alpha=0.1, hidden_layer_sizes=(100, 100), learning_rate_init=0.1, solver=lbfgs, score=0.868, total=   0.9s\n",
      "[CV] alpha=0.1, hidden_layer_sizes=(100, 100), learning_rate_init=0.1, solver=lbfgs \n",
      "[CV]  alpha=0.1, hidden_layer_sizes=(100, 100), learning_rate_init=0.1, solver=lbfgs, score=0.737, total=   1.0s\n",
      "[CV] alpha=0.1, hidden_layer_sizes=(100, 100), learning_rate_init=0.1, solver=sgd \n",
      "[CV]  alpha=0.1, hidden_layer_sizes=(100, 100), learning_rate_init=0.1, solver=sgd, score=0.949, total=   0.3s\n",
      "[CV] alpha=0.1, hidden_layer_sizes=(100, 100), learning_rate_init=0.1, solver=sgd \n",
      "[CV]  alpha=0.1, hidden_layer_sizes=(100, 100), learning_rate_init=0.1, solver=sgd, score=0.872, total=   0.4s\n",
      "[CV] alpha=0.1, hidden_layer_sizes=(100, 100), learning_rate_init=0.1, solver=sgd \n",
      "[CV]  alpha=0.1, hidden_layer_sizes=(100, 100), learning_rate_init=0.1, solver=sgd, score=0.795, total=   0.4s\n",
      "[CV] alpha=0.1, hidden_layer_sizes=(100, 100), learning_rate_init=0.1, solver=sgd \n",
      "[CV]  alpha=0.1, hidden_layer_sizes=(100, 100), learning_rate_init=0.1, solver=sgd, score=0.868, total=   0.4s\n",
      "[CV] alpha=0.1, hidden_layer_sizes=(100, 100), learning_rate_init=0.1, solver=sgd \n",
      "[CV]  alpha=0.1, hidden_layer_sizes=(100, 100), learning_rate_init=0.1, solver=sgd, score=0.737, total=   0.4s\n",
      "[CV] alpha=0.1, hidden_layer_sizes=(100, 100), learning_rate_init=0.1, solver=adam \n",
      "[CV]  alpha=0.1, hidden_layer_sizes=(100, 100), learning_rate_init=0.1, solver=adam, score=0.795, total=   0.2s\n",
      "[CV] alpha=0.1, hidden_layer_sizes=(100, 100), learning_rate_init=0.1, solver=adam \n",
      "[CV]  alpha=0.1, hidden_layer_sizes=(100, 100), learning_rate_init=0.1, solver=adam, score=0.872, total=   0.3s\n",
      "[CV] alpha=0.1, hidden_layer_sizes=(100, 100), learning_rate_init=0.1, solver=adam \n",
      "[CV]  alpha=0.1, hidden_layer_sizes=(100, 100), learning_rate_init=0.1, solver=adam, score=0.846, total=   0.0s\n",
      "[CV] alpha=0.1, hidden_layer_sizes=(100, 100), learning_rate_init=0.1, solver=adam \n",
      "[CV]  alpha=0.1, hidden_layer_sizes=(100, 100), learning_rate_init=0.1, solver=adam, score=0.895, total=   0.0s\n",
      "[CV] alpha=0.1, hidden_layer_sizes=(100, 100), learning_rate_init=0.1, solver=adam \n",
      "[CV]  alpha=0.1, hidden_layer_sizes=(100, 100), learning_rate_init=0.1, solver=adam, score=0.763, total=   0.2s\n",
      "[CV] alpha=0.1, hidden_layer_sizes=(100, 100), learning_rate_init=1, solver=lbfgs \n",
      "[CV]  alpha=0.1, hidden_layer_sizes=(100, 100), learning_rate_init=1, solver=lbfgs, score=0.923, total=   0.8s\n",
      "[CV] alpha=0.1, hidden_layer_sizes=(100, 100), learning_rate_init=1, solver=lbfgs \n",
      "[CV]  alpha=0.1, hidden_layer_sizes=(100, 100), learning_rate_init=1, solver=lbfgs, score=0.872, total=   0.9s\n",
      "[CV] alpha=0.1, hidden_layer_sizes=(100, 100), learning_rate_init=1, solver=lbfgs \n",
      "[CV]  alpha=0.1, hidden_layer_sizes=(100, 100), learning_rate_init=1, solver=lbfgs, score=0.795, total=   1.0s\n",
      "[CV] alpha=0.1, hidden_layer_sizes=(100, 100), learning_rate_init=1, solver=lbfgs \n",
      "[CV]  alpha=0.1, hidden_layer_sizes=(100, 100), learning_rate_init=1, solver=lbfgs, score=0.868, total=   0.8s\n",
      "[CV] alpha=0.1, hidden_layer_sizes=(100, 100), learning_rate_init=1, solver=lbfgs \n",
      "[CV]  alpha=0.1, hidden_layer_sizes=(100, 100), learning_rate_init=1, solver=lbfgs, score=0.737, total=   0.8s\n",
      "[CV] alpha=0.1, hidden_layer_sizes=(100, 100), learning_rate_init=1, solver=sgd \n",
      "[CV]  alpha=0.1, hidden_layer_sizes=(100, 100), learning_rate_init=1, solver=sgd, score=0.718, total=   0.1s\n",
      "[CV] alpha=0.1, hidden_layer_sizes=(100, 100), learning_rate_init=1, solver=sgd \n",
      "[CV]  alpha=0.1, hidden_layer_sizes=(100, 100), learning_rate_init=1, solver=sgd, score=0.487, total=   0.0s\n",
      "[CV] alpha=0.1, hidden_layer_sizes=(100, 100), learning_rate_init=1, solver=sgd \n",
      "[CV]  alpha=0.1, hidden_layer_sizes=(100, 100), learning_rate_init=1, solver=sgd, score=0.615, total=   0.0s\n",
      "[CV] alpha=0.1, hidden_layer_sizes=(100, 100), learning_rate_init=1, solver=sgd \n",
      "[CV]  alpha=0.1, hidden_layer_sizes=(100, 100), learning_rate_init=1, solver=sgd, score=0.474, total=   0.0s\n",
      "[CV] alpha=0.1, hidden_layer_sizes=(100, 100), learning_rate_init=1, solver=sgd \n"
     ]
    },
    {
     "name": "stdout",
     "output_type": "stream",
     "text": [
      "[CV]  alpha=0.1, hidden_layer_sizes=(100, 100), learning_rate_init=1, solver=sgd, score=0.632, total=   0.0s\n",
      "[CV] alpha=0.1, hidden_layer_sizes=(100, 100), learning_rate_init=1, solver=adam \n",
      "[CV]  alpha=0.1, hidden_layer_sizes=(100, 100), learning_rate_init=1, solver=adam, score=0.692, total=   0.0s\n",
      "[CV] alpha=0.1, hidden_layer_sizes=(100, 100), learning_rate_init=1, solver=adam \n",
      "[CV]  alpha=0.1, hidden_layer_sizes=(100, 100), learning_rate_init=1, solver=adam, score=0.872, total=   0.0s\n",
      "[CV] alpha=0.1, hidden_layer_sizes=(100, 100), learning_rate_init=1, solver=adam \n",
      "[CV]  alpha=0.1, hidden_layer_sizes=(100, 100), learning_rate_init=1, solver=adam, score=0.897, total=   0.0s\n",
      "[CV] alpha=0.1, hidden_layer_sizes=(100, 100), learning_rate_init=1, solver=adam \n",
      "[CV]  alpha=0.1, hidden_layer_sizes=(100, 100), learning_rate_init=1, solver=adam, score=0.737, total=   0.0s\n",
      "[CV] alpha=0.1, hidden_layer_sizes=(100, 100), learning_rate_init=1, solver=adam \n",
      "[CV]  alpha=0.1, hidden_layer_sizes=(100, 100), learning_rate_init=1, solver=adam, score=0.763, total=   0.0s\n",
      "[CV] alpha=0.1, hidden_layer_sizes=(100, 100, 100), learning_rate_init=0.0001, solver=lbfgs \n",
      "[CV]  alpha=0.1, hidden_layer_sizes=(100, 100, 100), learning_rate_init=0.0001, solver=lbfgs, score=0.923, total=   0.9s\n",
      "[CV] alpha=0.1, hidden_layer_sizes=(100, 100, 100), learning_rate_init=0.0001, solver=lbfgs \n",
      "[CV]  alpha=0.1, hidden_layer_sizes=(100, 100, 100), learning_rate_init=0.0001, solver=lbfgs, score=0.872, total=   1.6s\n",
      "[CV] alpha=0.1, hidden_layer_sizes=(100, 100, 100), learning_rate_init=0.0001, solver=lbfgs \n",
      "[CV]  alpha=0.1, hidden_layer_sizes=(100, 100, 100), learning_rate_init=0.0001, solver=lbfgs, score=0.795, total=   1.3s\n",
      "[CV] alpha=0.1, hidden_layer_sizes=(100, 100, 100), learning_rate_init=0.0001, solver=lbfgs \n",
      "[CV]  alpha=0.1, hidden_layer_sizes=(100, 100, 100), learning_rate_init=0.0001, solver=lbfgs, score=0.868, total=   1.2s\n",
      "[CV] alpha=0.1, hidden_layer_sizes=(100, 100, 100), learning_rate_init=0.0001, solver=lbfgs \n",
      "[CV]  alpha=0.1, hidden_layer_sizes=(100, 100, 100), learning_rate_init=0.0001, solver=lbfgs, score=0.737, total=   1.1s\n",
      "[CV] alpha=0.1, hidden_layer_sizes=(100, 100, 100), learning_rate_init=0.0001, solver=sgd \n",
      "[CV]  alpha=0.1, hidden_layer_sizes=(100, 100, 100), learning_rate_init=0.0001, solver=sgd, score=0.513, total=   0.0s\n",
      "[CV] alpha=0.1, hidden_layer_sizes=(100, 100, 100), learning_rate_init=0.0001, solver=sgd \n",
      "[CV]  alpha=0.1, hidden_layer_sizes=(100, 100, 100), learning_rate_init=0.0001, solver=sgd, score=0.462, total=   0.0s\n",
      "[CV] alpha=0.1, hidden_layer_sizes=(100, 100, 100), learning_rate_init=0.0001, solver=sgd \n",
      "[CV]  alpha=0.1, hidden_layer_sizes=(100, 100, 100), learning_rate_init=0.0001, solver=sgd, score=0.538, total=   0.0s\n",
      "[CV] alpha=0.1, hidden_layer_sizes=(100, 100, 100), learning_rate_init=0.0001, solver=sgd \n",
      "[CV]  alpha=0.1, hidden_layer_sizes=(100, 100, 100), learning_rate_init=0.0001, solver=sgd, score=0.474, total=   0.0s\n",
      "[CV] alpha=0.1, hidden_layer_sizes=(100, 100, 100), learning_rate_init=0.0001, solver=sgd \n",
      "[CV]  alpha=0.1, hidden_layer_sizes=(100, 100, 100), learning_rate_init=0.0001, solver=sgd, score=0.526, total=   0.0s\n",
      "[CV] alpha=0.1, hidden_layer_sizes=(100, 100, 100), learning_rate_init=0.0001, solver=adam \n",
      "[CV]  alpha=0.1, hidden_layer_sizes=(100, 100, 100), learning_rate_init=0.0001, solver=adam, score=0.872, total=   1.8s\n",
      "[CV] alpha=0.1, hidden_layer_sizes=(100, 100, 100), learning_rate_init=0.0001, solver=adam \n",
      "[CV]  alpha=0.1, hidden_layer_sizes=(100, 100, 100), learning_rate_init=0.0001, solver=adam, score=0.872, total=   1.9s\n",
      "[CV] alpha=0.1, hidden_layer_sizes=(100, 100, 100), learning_rate_init=0.0001, solver=adam \n",
      "[CV]  alpha=0.1, hidden_layer_sizes=(100, 100, 100), learning_rate_init=0.0001, solver=adam, score=0.744, total=   1.8s\n",
      "[CV] alpha=0.1, hidden_layer_sizes=(100, 100, 100), learning_rate_init=0.0001, solver=adam \n",
      "[CV]  alpha=0.1, hidden_layer_sizes=(100, 100, 100), learning_rate_init=0.0001, solver=adam, score=0.868, total=   1.9s\n",
      "[CV] alpha=0.1, hidden_layer_sizes=(100, 100, 100), learning_rate_init=0.0001, solver=adam \n",
      "[CV]  alpha=0.1, hidden_layer_sizes=(100, 100, 100), learning_rate_init=0.0001, solver=adam, score=0.737, total=   1.9s\n",
      "[CV] alpha=0.1, hidden_layer_sizes=(100, 100, 100), learning_rate_init=0.001, solver=lbfgs \n",
      "[CV]  alpha=0.1, hidden_layer_sizes=(100, 100, 100), learning_rate_init=0.001, solver=lbfgs, score=0.923, total=   1.4s\n",
      "[CV] alpha=0.1, hidden_layer_sizes=(100, 100, 100), learning_rate_init=0.001, solver=lbfgs \n",
      "[CV]  alpha=0.1, hidden_layer_sizes=(100, 100, 100), learning_rate_init=0.001, solver=lbfgs, score=0.872, total=   1.1s\n",
      "[CV] alpha=0.1, hidden_layer_sizes=(100, 100, 100), learning_rate_init=0.001, solver=lbfgs \n",
      "[CV]  alpha=0.1, hidden_layer_sizes=(100, 100, 100), learning_rate_init=0.001, solver=lbfgs, score=0.795, total=   1.5s\n",
      "[CV] alpha=0.1, hidden_layer_sizes=(100, 100, 100), learning_rate_init=0.001, solver=lbfgs \n",
      "[CV]  alpha=0.1, hidden_layer_sizes=(100, 100, 100), learning_rate_init=0.001, solver=lbfgs, score=0.868, total=   1.3s\n",
      "[CV] alpha=0.1, hidden_layer_sizes=(100, 100, 100), learning_rate_init=0.001, solver=lbfgs \n",
      "[CV]  alpha=0.1, hidden_layer_sizes=(100, 100, 100), learning_rate_init=0.001, solver=lbfgs, score=0.737, total=   0.9s\n",
      "[CV] alpha=0.1, hidden_layer_sizes=(100, 100, 100), learning_rate_init=0.001, solver=sgd \n",
      "[CV]  alpha=0.1, hidden_layer_sizes=(100, 100, 100), learning_rate_init=0.001, solver=sgd, score=0.487, total=   0.3s\n",
      "[CV] alpha=0.1, hidden_layer_sizes=(100, 100, 100), learning_rate_init=0.001, solver=sgd \n",
      "[CV]  alpha=0.1, hidden_layer_sizes=(100, 100, 100), learning_rate_init=0.001, solver=sgd, score=0.487, total=   0.2s\n",
      "[CV] alpha=0.1, hidden_layer_sizes=(100, 100, 100), learning_rate_init=0.001, solver=sgd \n",
      "[CV]  alpha=0.1, hidden_layer_sizes=(100, 100, 100), learning_rate_init=0.001, solver=sgd, score=0.538, total=   0.0s\n",
      "[CV] alpha=0.1, hidden_layer_sizes=(100, 100, 100), learning_rate_init=0.001, solver=sgd \n",
      "[CV]  alpha=0.1, hidden_layer_sizes=(100, 100, 100), learning_rate_init=0.001, solver=sgd, score=0.526, total=   0.0s\n",
      "[CV] alpha=0.1, hidden_layer_sizes=(100, 100, 100), learning_rate_init=0.001, solver=sgd \n",
      "[CV]  alpha=0.1, hidden_layer_sizes=(100, 100, 100), learning_rate_init=0.001, solver=sgd, score=0.526, total=   0.0s\n",
      "[CV] alpha=0.1, hidden_layer_sizes=(100, 100, 100), learning_rate_init=0.001, solver=adam \n",
      "[CV]  alpha=0.1, hidden_layer_sizes=(100, 100, 100), learning_rate_init=0.001, solver=adam, score=0.923, total=   0.6s\n",
      "[CV] alpha=0.1, hidden_layer_sizes=(100, 100, 100), learning_rate_init=0.001, solver=adam \n",
      "[CV]  alpha=0.1, hidden_layer_sizes=(100, 100, 100), learning_rate_init=0.001, solver=adam, score=0.872, total=   0.6s\n",
      "[CV] alpha=0.1, hidden_layer_sizes=(100, 100, 100), learning_rate_init=0.001, solver=adam \n",
      "[CV]  alpha=0.1, hidden_layer_sizes=(100, 100, 100), learning_rate_init=0.001, solver=adam, score=0.769, total=   0.6s\n",
      "[CV] alpha=0.1, hidden_layer_sizes=(100, 100, 100), learning_rate_init=0.001, solver=adam \n",
      "[CV]  alpha=0.1, hidden_layer_sizes=(100, 100, 100), learning_rate_init=0.001, solver=adam, score=0.868, total=   0.6s\n",
      "[CV] alpha=0.1, hidden_layer_sizes=(100, 100, 100), learning_rate_init=0.001, solver=adam \n",
      "[CV]  alpha=0.1, hidden_layer_sizes=(100, 100, 100), learning_rate_init=0.001, solver=adam, score=0.737, total=   0.6s\n",
      "[CV] alpha=0.1, hidden_layer_sizes=(100, 100, 100), learning_rate_init=0.01, solver=lbfgs \n",
      "[CV]  alpha=0.1, hidden_layer_sizes=(100, 100, 100), learning_rate_init=0.01, solver=lbfgs, score=0.923, total=   1.4s\n",
      "[CV] alpha=0.1, hidden_layer_sizes=(100, 100, 100), learning_rate_init=0.01, solver=lbfgs \n",
      "[CV]  alpha=0.1, hidden_layer_sizes=(100, 100, 100), learning_rate_init=0.01, solver=lbfgs, score=0.872, total=   1.1s\n",
      "[CV] alpha=0.1, hidden_layer_sizes=(100, 100, 100), learning_rate_init=0.01, solver=lbfgs \n",
      "[CV]  alpha=0.1, hidden_layer_sizes=(100, 100, 100), learning_rate_init=0.01, solver=lbfgs, score=0.795, total=   1.3s\n",
      "[CV] alpha=0.1, hidden_layer_sizes=(100, 100, 100), learning_rate_init=0.01, solver=lbfgs \n",
      "[CV]  alpha=0.1, hidden_layer_sizes=(100, 100, 100), learning_rate_init=0.01, solver=lbfgs, score=0.868, total=   1.1s\n",
      "[CV] alpha=0.1, hidden_layer_sizes=(100, 100, 100), learning_rate_init=0.01, solver=lbfgs \n"
     ]
    },
    {
     "name": "stdout",
     "output_type": "stream",
     "text": [
      "[CV]  alpha=0.1, hidden_layer_sizes=(100, 100, 100), learning_rate_init=0.01, solver=lbfgs, score=0.737, total=   1.2s\n",
      "[CV] alpha=0.1, hidden_layer_sizes=(100, 100, 100), learning_rate_init=0.01, solver=sgd \n",
      "[CV]  alpha=0.1, hidden_layer_sizes=(100, 100, 100), learning_rate_init=0.01, solver=sgd, score=0.872, total=   1.1s\n",
      "[CV] alpha=0.1, hidden_layer_sizes=(100, 100, 100), learning_rate_init=0.01, solver=sgd \n",
      "[CV]  alpha=0.1, hidden_layer_sizes=(100, 100, 100), learning_rate_init=0.01, solver=sgd, score=0.897, total=   1.0s\n",
      "[CV] alpha=0.1, hidden_layer_sizes=(100, 100, 100), learning_rate_init=0.01, solver=sgd \n",
      "[CV]  alpha=0.1, hidden_layer_sizes=(100, 100, 100), learning_rate_init=0.01, solver=sgd, score=0.795, total=   0.9s\n",
      "[CV] alpha=0.1, hidden_layer_sizes=(100, 100, 100), learning_rate_init=0.01, solver=sgd \n",
      "[CV]  alpha=0.1, hidden_layer_sizes=(100, 100, 100), learning_rate_init=0.01, solver=sgd, score=0.526, total=   0.0s\n",
      "[CV] alpha=0.1, hidden_layer_sizes=(100, 100, 100), learning_rate_init=0.01, solver=sgd \n",
      "[CV]  alpha=0.1, hidden_layer_sizes=(100, 100, 100), learning_rate_init=0.01, solver=sgd, score=0.789, total=   1.0s\n",
      "[CV] alpha=0.1, hidden_layer_sizes=(100, 100, 100), learning_rate_init=0.01, solver=adam \n",
      "[CV]  alpha=0.1, hidden_layer_sizes=(100, 100, 100), learning_rate_init=0.01, solver=adam, score=0.923, total=   0.3s\n",
      "[CV] alpha=0.1, hidden_layer_sizes=(100, 100, 100), learning_rate_init=0.01, solver=adam \n",
      "[CV]  alpha=0.1, hidden_layer_sizes=(100, 100, 100), learning_rate_init=0.01, solver=adam, score=0.872, total=   0.3s\n",
      "[CV] alpha=0.1, hidden_layer_sizes=(100, 100, 100), learning_rate_init=0.01, solver=adam \n",
      "[CV]  alpha=0.1, hidden_layer_sizes=(100, 100, 100), learning_rate_init=0.01, solver=adam, score=0.795, total=   0.3s\n",
      "[CV] alpha=0.1, hidden_layer_sizes=(100, 100, 100), learning_rate_init=0.01, solver=adam \n",
      "[CV]  alpha=0.1, hidden_layer_sizes=(100, 100, 100), learning_rate_init=0.01, solver=adam, score=0.868, total=   0.3s\n",
      "[CV] alpha=0.1, hidden_layer_sizes=(100, 100, 100), learning_rate_init=0.01, solver=adam \n",
      "[CV]  alpha=0.1, hidden_layer_sizes=(100, 100, 100), learning_rate_init=0.01, solver=adam, score=0.737, total=   0.3s\n",
      "[CV] alpha=0.1, hidden_layer_sizes=(100, 100, 100), learning_rate_init=0.1, solver=lbfgs \n",
      "[CV]  alpha=0.1, hidden_layer_sizes=(100, 100, 100), learning_rate_init=0.1, solver=lbfgs, score=0.923, total=   1.4s\n",
      "[CV] alpha=0.1, hidden_layer_sizes=(100, 100, 100), learning_rate_init=0.1, solver=lbfgs \n",
      "[CV]  alpha=0.1, hidden_layer_sizes=(100, 100, 100), learning_rate_init=0.1, solver=lbfgs, score=0.872, total=   1.3s\n",
      "[CV] alpha=0.1, hidden_layer_sizes=(100, 100, 100), learning_rate_init=0.1, solver=lbfgs \n",
      "[CV]  alpha=0.1, hidden_layer_sizes=(100, 100, 100), learning_rate_init=0.1, solver=lbfgs, score=0.795, total=   1.2s\n",
      "[CV] alpha=0.1, hidden_layer_sizes=(100, 100, 100), learning_rate_init=0.1, solver=lbfgs \n",
      "[CV]  alpha=0.1, hidden_layer_sizes=(100, 100, 100), learning_rate_init=0.1, solver=lbfgs, score=0.868, total=   1.2s\n",
      "[CV] alpha=0.1, hidden_layer_sizes=(100, 100, 100), learning_rate_init=0.1, solver=lbfgs \n",
      "[CV]  alpha=0.1, hidden_layer_sizes=(100, 100, 100), learning_rate_init=0.1, solver=lbfgs, score=0.737, total=   1.4s\n",
      "[CV] alpha=0.1, hidden_layer_sizes=(100, 100, 100), learning_rate_init=0.1, solver=sgd \n",
      "[CV]  alpha=0.1, hidden_layer_sizes=(100, 100, 100), learning_rate_init=0.1, solver=sgd, score=0.821, total=   0.9s\n",
      "[CV] alpha=0.1, hidden_layer_sizes=(100, 100, 100), learning_rate_init=0.1, solver=sgd \n",
      "[CV]  alpha=0.1, hidden_layer_sizes=(100, 100, 100), learning_rate_init=0.1, solver=sgd, score=0.872, total=   0.9s\n",
      "[CV] alpha=0.1, hidden_layer_sizes=(100, 100, 100), learning_rate_init=0.1, solver=sgd \n",
      "[CV]  alpha=0.1, hidden_layer_sizes=(100, 100, 100), learning_rate_init=0.1, solver=sgd, score=0.769, total=   0.9s\n",
      "[CV] alpha=0.1, hidden_layer_sizes=(100, 100, 100), learning_rate_init=0.1, solver=sgd \n",
      "[CV]  alpha=0.1, hidden_layer_sizes=(100, 100, 100), learning_rate_init=0.1, solver=sgd, score=0.868, total=   0.9s\n",
      "[CV] alpha=0.1, hidden_layer_sizes=(100, 100, 100), learning_rate_init=0.1, solver=sgd \n",
      "[CV]  alpha=0.1, hidden_layer_sizes=(100, 100, 100), learning_rate_init=0.1, solver=sgd, score=0.737, total=   0.9s\n",
      "[CV] alpha=0.1, hidden_layer_sizes=(100, 100, 100), learning_rate_init=0.1, solver=adam \n",
      "[CV]  alpha=0.1, hidden_layer_sizes=(100, 100, 100), learning_rate_init=0.1, solver=adam, score=0.923, total=   0.6s\n",
      "[CV] alpha=0.1, hidden_layer_sizes=(100, 100, 100), learning_rate_init=0.1, solver=adam \n",
      "[CV]  alpha=0.1, hidden_layer_sizes=(100, 100, 100), learning_rate_init=0.1, solver=adam, score=0.872, total=   0.0s\n",
      "[CV] alpha=0.1, hidden_layer_sizes=(100, 100, 100), learning_rate_init=0.1, solver=adam \n",
      "[CV]  alpha=0.1, hidden_layer_sizes=(100, 100, 100), learning_rate_init=0.1, solver=adam, score=0.795, total=   0.6s\n",
      "[CV] alpha=0.1, hidden_layer_sizes=(100, 100, 100), learning_rate_init=0.1, solver=adam \n",
      "[CV]  alpha=0.1, hidden_layer_sizes=(100, 100, 100), learning_rate_init=0.1, solver=adam, score=0.921, total=   0.0s\n",
      "[CV] alpha=0.1, hidden_layer_sizes=(100, 100, 100), learning_rate_init=0.1, solver=adam \n",
      "[CV]  alpha=0.1, hidden_layer_sizes=(100, 100, 100), learning_rate_init=0.1, solver=adam, score=0.763, total=   0.0s\n",
      "[CV] alpha=0.1, hidden_layer_sizes=(100, 100, 100), learning_rate_init=1, solver=lbfgs \n",
      "[CV]  alpha=0.1, hidden_layer_sizes=(100, 100, 100), learning_rate_init=1, solver=lbfgs, score=0.923, total=   1.3s\n",
      "[CV] alpha=0.1, hidden_layer_sizes=(100, 100, 100), learning_rate_init=1, solver=lbfgs \n",
      "[CV]  alpha=0.1, hidden_layer_sizes=(100, 100, 100), learning_rate_init=1, solver=lbfgs, score=0.872, total=   1.2s\n",
      "[CV] alpha=0.1, hidden_layer_sizes=(100, 100, 100), learning_rate_init=1, solver=lbfgs \n",
      "[CV]  alpha=0.1, hidden_layer_sizes=(100, 100, 100), learning_rate_init=1, solver=lbfgs, score=0.795, total=   1.4s\n",
      "[CV] alpha=0.1, hidden_layer_sizes=(100, 100, 100), learning_rate_init=1, solver=lbfgs \n",
      "[CV]  alpha=0.1, hidden_layer_sizes=(100, 100, 100), learning_rate_init=1, solver=lbfgs, score=0.868, total=   1.2s\n",
      "[CV] alpha=0.1, hidden_layer_sizes=(100, 100, 100), learning_rate_init=1, solver=lbfgs \n",
      "[CV]  alpha=0.1, hidden_layer_sizes=(100, 100, 100), learning_rate_init=1, solver=lbfgs, score=0.737, total=   1.2s\n",
      "[CV] alpha=0.1, hidden_layer_sizes=(100, 100, 100), learning_rate_init=1, solver=sgd \n",
      "[CV]  alpha=0.1, hidden_layer_sizes=(100, 100, 100), learning_rate_init=1, solver=sgd, score=0.487, total=   0.1s\n",
      "[CV] alpha=0.1, hidden_layer_sizes=(100, 100, 100), learning_rate_init=1, solver=sgd \n",
      "[CV]  alpha=0.1, hidden_layer_sizes=(100, 100, 100), learning_rate_init=1, solver=sgd, score=0.513, total=   0.1s\n",
      "[CV] alpha=0.1, hidden_layer_sizes=(100, 100, 100), learning_rate_init=1, solver=sgd \n",
      "[CV]  alpha=0.1, hidden_layer_sizes=(100, 100, 100), learning_rate_init=1, solver=sgd, score=0.462, total=   0.1s\n",
      "[CV] alpha=0.1, hidden_layer_sizes=(100, 100, 100), learning_rate_init=1, solver=sgd \n",
      "[CV]  alpha=0.1, hidden_layer_sizes=(100, 100, 100), learning_rate_init=1, solver=sgd, score=0.474, total=   0.1s\n",
      "[CV] alpha=0.1, hidden_layer_sizes=(100, 100, 100), learning_rate_init=1, solver=sgd \n",
      "[CV]  alpha=0.1, hidden_layer_sizes=(100, 100, 100), learning_rate_init=1, solver=sgd, score=0.526, total=   0.1s\n",
      "[CV] alpha=0.1, hidden_layer_sizes=(100, 100, 100), learning_rate_init=1, solver=adam \n",
      "[CV]  alpha=0.1, hidden_layer_sizes=(100, 100, 100), learning_rate_init=1, solver=adam, score=0.923, total=   0.0s\n",
      "[CV] alpha=0.1, hidden_layer_sizes=(100, 100, 100), learning_rate_init=1, solver=adam \n",
      "[CV]  alpha=0.1, hidden_layer_sizes=(100, 100, 100), learning_rate_init=1, solver=adam, score=0.487, total=   0.0s\n",
      "[CV] alpha=0.1, hidden_layer_sizes=(100, 100, 100), learning_rate_init=1, solver=adam \n",
      "[CV]  alpha=0.1, hidden_layer_sizes=(100, 100, 100), learning_rate_init=1, solver=adam, score=0.795, total=   0.0s\n",
      "[CV] alpha=0.1, hidden_layer_sizes=(100, 100, 100), learning_rate_init=1, solver=adam \n",
      "[CV]  alpha=0.1, hidden_layer_sizes=(100, 100, 100), learning_rate_init=1, solver=adam, score=0.789, total=   0.0s\n",
      "[CV] alpha=0.1, hidden_layer_sizes=(100, 100, 100), learning_rate_init=1, solver=adam \n",
      "[CV]  alpha=0.1, hidden_layer_sizes=(100, 100, 100), learning_rate_init=1, solver=adam, score=0.553, total=   0.0s\n",
      "[CV] alpha=1, hidden_layer_sizes=(100,), learning_rate_init=0.0001, solver=lbfgs \n"
     ]
    },
    {
     "name": "stdout",
     "output_type": "stream",
     "text": [
      "[CV]  alpha=1, hidden_layer_sizes=(100,), learning_rate_init=0.0001, solver=lbfgs, score=0.923, total=   0.4s\n",
      "[CV] alpha=1, hidden_layer_sizes=(100,), learning_rate_init=0.0001, solver=lbfgs \n",
      "[CV]  alpha=1, hidden_layer_sizes=(100,), learning_rate_init=0.0001, solver=lbfgs, score=0.872, total=   0.5s\n",
      "[CV] alpha=1, hidden_layer_sizes=(100,), learning_rate_init=0.0001, solver=lbfgs \n",
      "[CV]  alpha=1, hidden_layer_sizes=(100,), learning_rate_init=0.0001, solver=lbfgs, score=0.795, total=   0.2s\n",
      "[CV] alpha=1, hidden_layer_sizes=(100,), learning_rate_init=0.0001, solver=lbfgs \n",
      "[CV]  alpha=1, hidden_layer_sizes=(100,), learning_rate_init=0.0001, solver=lbfgs, score=0.868, total=   0.4s\n",
      "[CV] alpha=1, hidden_layer_sizes=(100,), learning_rate_init=0.0001, solver=lbfgs \n",
      "[CV]  alpha=1, hidden_layer_sizes=(100,), learning_rate_init=0.0001, solver=lbfgs, score=0.816, total=   0.4s\n",
      "[CV] alpha=1, hidden_layer_sizes=(100,), learning_rate_init=0.0001, solver=sgd \n",
      "[CV]  alpha=1, hidden_layer_sizes=(100,), learning_rate_init=0.0001, solver=sgd, score=0.513, total=   0.0s\n",
      "[CV] alpha=1, hidden_layer_sizes=(100,), learning_rate_init=0.0001, solver=sgd \n",
      "[CV]  alpha=1, hidden_layer_sizes=(100,), learning_rate_init=0.0001, solver=sgd, score=0.513, total=   0.0s\n",
      "[CV] alpha=1, hidden_layer_sizes=(100,), learning_rate_init=0.0001, solver=sgd \n",
      "[CV]  alpha=1, hidden_layer_sizes=(100,), learning_rate_init=0.0001, solver=sgd, score=0.462, total=   0.0s\n",
      "[CV] alpha=1, hidden_layer_sizes=(100,), learning_rate_init=0.0001, solver=sgd \n",
      "[CV]  alpha=1, hidden_layer_sizes=(100,), learning_rate_init=0.0001, solver=sgd, score=0.474, total=   0.0s\n",
      "[CV] alpha=1, hidden_layer_sizes=(100,), learning_rate_init=0.0001, solver=sgd \n",
      "[CV]  alpha=1, hidden_layer_sizes=(100,), learning_rate_init=0.0001, solver=sgd, score=0.526, total=   0.0s\n",
      "[CV] alpha=1, hidden_layer_sizes=(100,), learning_rate_init=0.0001, solver=adam \n",
      "[CV]  alpha=1, hidden_layer_sizes=(100,), learning_rate_init=0.0001, solver=adam, score=0.949, total=   2.5s\n",
      "[CV] alpha=1, hidden_layer_sizes=(100,), learning_rate_init=0.0001, solver=adam \n",
      "[CV]  alpha=1, hidden_layer_sizes=(100,), learning_rate_init=0.0001, solver=adam, score=0.872, total=   2.2s\n",
      "[CV] alpha=1, hidden_layer_sizes=(100,), learning_rate_init=0.0001, solver=adam \n",
      "[CV]  alpha=1, hidden_layer_sizes=(100,), learning_rate_init=0.0001, solver=adam, score=0.821, total=   2.2s\n",
      "[CV] alpha=1, hidden_layer_sizes=(100,), learning_rate_init=0.0001, solver=adam \n",
      "[CV]  alpha=1, hidden_layer_sizes=(100,), learning_rate_init=0.0001, solver=adam, score=0.868, total=   2.2s\n",
      "[CV] alpha=1, hidden_layer_sizes=(100,), learning_rate_init=0.0001, solver=adam \n",
      "[CV]  alpha=1, hidden_layer_sizes=(100,), learning_rate_init=0.0001, solver=adam, score=0.842, total=   2.2s\n",
      "[CV] alpha=1, hidden_layer_sizes=(100,), learning_rate_init=0.001, solver=lbfgs \n",
      "[CV]  alpha=1, hidden_layer_sizes=(100,), learning_rate_init=0.001, solver=lbfgs, score=0.923, total=   0.3s\n",
      "[CV] alpha=1, hidden_layer_sizes=(100,), learning_rate_init=0.001, solver=lbfgs \n",
      "[CV]  alpha=1, hidden_layer_sizes=(100,), learning_rate_init=0.001, solver=lbfgs, score=0.872, total=   0.4s\n",
      "[CV] alpha=1, hidden_layer_sizes=(100,), learning_rate_init=0.001, solver=lbfgs \n",
      "[CV]  alpha=1, hidden_layer_sizes=(100,), learning_rate_init=0.001, solver=lbfgs, score=0.795, total=   0.4s\n",
      "[CV] alpha=1, hidden_layer_sizes=(100,), learning_rate_init=0.001, solver=lbfgs \n",
      "[CV]  alpha=1, hidden_layer_sizes=(100,), learning_rate_init=0.001, solver=lbfgs, score=0.868, total=   0.3s\n",
      "[CV] alpha=1, hidden_layer_sizes=(100,), learning_rate_init=0.001, solver=lbfgs \n",
      "[CV]  alpha=1, hidden_layer_sizes=(100,), learning_rate_init=0.001, solver=lbfgs, score=0.816, total=   0.4s\n",
      "[CV] alpha=1, hidden_layer_sizes=(100,), learning_rate_init=0.001, solver=sgd \n",
      "[CV]  alpha=1, hidden_layer_sizes=(100,), learning_rate_init=0.001, solver=sgd, score=0.513, total=   0.0s\n",
      "[CV] alpha=1, hidden_layer_sizes=(100,), learning_rate_init=0.001, solver=sgd \n"
     ]
    },
    {
     "name": "stderr",
     "output_type": "stream",
     "text": [
      "/Users/kbgazzaz/opt/anaconda3/lib/python3.8/site-packages/sklearn/neural_network/_multilayer_perceptron.py:582: ConvergenceWarning:\n",
      "\n",
      "Stochastic Optimizer: Maximum iterations (2000) reached and the optimization hasn't converged yet.\n",
      "\n"
     ]
    },
    {
     "name": "stdout",
     "output_type": "stream",
     "text": [
      "[CV]  alpha=1, hidden_layer_sizes=(100,), learning_rate_init=0.001, solver=sgd, score=0.795, total=   2.9s\n",
      "[CV] alpha=1, hidden_layer_sizes=(100,), learning_rate_init=0.001, solver=sgd \n",
      "[CV]  alpha=1, hidden_layer_sizes=(100,), learning_rate_init=0.001, solver=sgd, score=0.538, total=   0.0s\n",
      "[CV] alpha=1, hidden_layer_sizes=(100,), learning_rate_init=0.001, solver=sgd \n",
      "[CV]  alpha=1, hidden_layer_sizes=(100,), learning_rate_init=0.001, solver=sgd, score=0.526, total=   0.0s\n",
      "[CV] alpha=1, hidden_layer_sizes=(100,), learning_rate_init=0.001, solver=sgd \n",
      "[CV]  alpha=1, hidden_layer_sizes=(100,), learning_rate_init=0.001, solver=sgd, score=0.474, total=   0.0s\n",
      "[CV] alpha=1, hidden_layer_sizes=(100,), learning_rate_init=0.001, solver=adam \n",
      "[CV]  alpha=1, hidden_layer_sizes=(100,), learning_rate_init=0.001, solver=adam, score=0.923, total=   0.7s\n",
      "[CV] alpha=1, hidden_layer_sizes=(100,), learning_rate_init=0.001, solver=adam \n",
      "[CV]  alpha=1, hidden_layer_sizes=(100,), learning_rate_init=0.001, solver=adam, score=0.872, total=   0.7s\n",
      "[CV] alpha=1, hidden_layer_sizes=(100,), learning_rate_init=0.001, solver=adam \n",
      "[CV]  alpha=1, hidden_layer_sizes=(100,), learning_rate_init=0.001, solver=adam, score=0.821, total=   0.6s\n",
      "[CV] alpha=1, hidden_layer_sizes=(100,), learning_rate_init=0.001, solver=adam \n",
      "[CV]  alpha=1, hidden_layer_sizes=(100,), learning_rate_init=0.001, solver=adam, score=0.868, total=   0.7s\n",
      "[CV] alpha=1, hidden_layer_sizes=(100,), learning_rate_init=0.001, solver=adam \n",
      "[CV]  alpha=1, hidden_layer_sizes=(100,), learning_rate_init=0.001, solver=adam, score=0.816, total=   0.7s\n",
      "[CV] alpha=1, hidden_layer_sizes=(100,), learning_rate_init=0.01, solver=lbfgs \n",
      "[CV]  alpha=1, hidden_layer_sizes=(100,), learning_rate_init=0.01, solver=lbfgs, score=0.923, total=   0.4s\n",
      "[CV] alpha=1, hidden_layer_sizes=(100,), learning_rate_init=0.01, solver=lbfgs \n",
      "[CV]  alpha=1, hidden_layer_sizes=(100,), learning_rate_init=0.01, solver=lbfgs, score=0.872, total=   0.2s\n",
      "[CV] alpha=1, hidden_layer_sizes=(100,), learning_rate_init=0.01, solver=lbfgs \n",
      "[CV]  alpha=1, hidden_layer_sizes=(100,), learning_rate_init=0.01, solver=lbfgs, score=0.795, total=   0.4s\n",
      "[CV] alpha=1, hidden_layer_sizes=(100,), learning_rate_init=0.01, solver=lbfgs \n",
      "[CV]  alpha=1, hidden_layer_sizes=(100,), learning_rate_init=0.01, solver=lbfgs, score=0.868, total=   0.4s\n",
      "[CV] alpha=1, hidden_layer_sizes=(100,), learning_rate_init=0.01, solver=lbfgs \n",
      "[CV]  alpha=1, hidden_layer_sizes=(100,), learning_rate_init=0.01, solver=lbfgs, score=0.789, total=   0.2s\n",
      "[CV] alpha=1, hidden_layer_sizes=(100,), learning_rate_init=0.01, solver=sgd \n",
      "[CV]  alpha=1, hidden_layer_sizes=(100,), learning_rate_init=0.01, solver=sgd, score=0.923, total=   2.3s\n",
      "[CV] alpha=1, hidden_layer_sizes=(100,), learning_rate_init=0.01, solver=sgd \n",
      "[CV]  alpha=1, hidden_layer_sizes=(100,), learning_rate_init=0.01, solver=sgd, score=0.872, total=   2.3s\n",
      "[CV] alpha=1, hidden_layer_sizes=(100,), learning_rate_init=0.01, solver=sgd \n",
      "[CV]  alpha=1, hidden_layer_sizes=(100,), learning_rate_init=0.01, solver=sgd, score=0.821, total=   2.3s\n",
      "[CV] alpha=1, hidden_layer_sizes=(100,), learning_rate_init=0.01, solver=sgd \n",
      "[CV]  alpha=1, hidden_layer_sizes=(100,), learning_rate_init=0.01, solver=sgd, score=0.868, total=   2.4s\n",
      "[CV] alpha=1, hidden_layer_sizes=(100,), learning_rate_init=0.01, solver=sgd \n",
      "[CV]  alpha=1, hidden_layer_sizes=(100,), learning_rate_init=0.01, solver=sgd, score=0.842, total=   2.4s\n",
      "[CV] alpha=1, hidden_layer_sizes=(100,), learning_rate_init=0.01, solver=adam \n",
      "[CV]  alpha=1, hidden_layer_sizes=(100,), learning_rate_init=0.01, solver=adam, score=0.923, total=   0.1s\n",
      "[CV] alpha=1, hidden_layer_sizes=(100,), learning_rate_init=0.01, solver=adam \n",
      "[CV]  alpha=1, hidden_layer_sizes=(100,), learning_rate_init=0.01, solver=adam, score=0.872, total=   0.1s\n",
      "[CV] alpha=1, hidden_layer_sizes=(100,), learning_rate_init=0.01, solver=adam \n",
      "[CV]  alpha=1, hidden_layer_sizes=(100,), learning_rate_init=0.01, solver=adam, score=0.795, total=   0.1s\n",
      "[CV] alpha=1, hidden_layer_sizes=(100,), learning_rate_init=0.01, solver=adam \n",
      "[CV]  alpha=1, hidden_layer_sizes=(100,), learning_rate_init=0.01, solver=adam, score=0.868, total=   0.1s\n",
      "[CV] alpha=1, hidden_layer_sizes=(100,), learning_rate_init=0.01, solver=adam \n",
      "[CV]  alpha=1, hidden_layer_sizes=(100,), learning_rate_init=0.01, solver=adam, score=0.816, total=   0.1s\n",
      "[CV] alpha=1, hidden_layer_sizes=(100,), learning_rate_init=0.1, solver=lbfgs \n",
      "[CV]  alpha=1, hidden_layer_sizes=(100,), learning_rate_init=0.1, solver=lbfgs, score=0.923, total=   0.4s\n",
      "[CV] alpha=1, hidden_layer_sizes=(100,), learning_rate_init=0.1, solver=lbfgs \n",
      "[CV]  alpha=1, hidden_layer_sizes=(100,), learning_rate_init=0.1, solver=lbfgs, score=0.872, total=   0.3s\n",
      "[CV] alpha=1, hidden_layer_sizes=(100,), learning_rate_init=0.1, solver=lbfgs \n",
      "[CV]  alpha=1, hidden_layer_sizes=(100,), learning_rate_init=0.1, solver=lbfgs, score=0.795, total=   0.4s\n",
      "[CV] alpha=1, hidden_layer_sizes=(100,), learning_rate_init=0.1, solver=lbfgs \n",
      "[CV]  alpha=1, hidden_layer_sizes=(100,), learning_rate_init=0.1, solver=lbfgs, score=0.868, total=   0.3s\n",
      "[CV] alpha=1, hidden_layer_sizes=(100,), learning_rate_init=0.1, solver=lbfgs \n",
      "[CV]  alpha=1, hidden_layer_sizes=(100,), learning_rate_init=0.1, solver=lbfgs, score=0.816, total=   0.2s\n",
      "[CV] alpha=1, hidden_layer_sizes=(100,), learning_rate_init=0.1, solver=sgd \n",
      "[CV]  alpha=1, hidden_layer_sizes=(100,), learning_rate_init=0.1, solver=sgd, score=0.949, total=   0.5s\n",
      "[CV] alpha=1, hidden_layer_sizes=(100,), learning_rate_init=0.1, solver=sgd \n",
      "[CV]  alpha=1, hidden_layer_sizes=(100,), learning_rate_init=0.1, solver=sgd, score=0.872, total=   0.5s\n",
      "[CV] alpha=1, hidden_layer_sizes=(100,), learning_rate_init=0.1, solver=sgd \n",
      "[CV]  alpha=1, hidden_layer_sizes=(100,), learning_rate_init=0.1, solver=sgd, score=0.795, total=   0.5s\n",
      "[CV] alpha=1, hidden_layer_sizes=(100,), learning_rate_init=0.1, solver=sgd \n",
      "[CV]  alpha=1, hidden_layer_sizes=(100,), learning_rate_init=0.1, solver=sgd, score=0.868, total=   0.5s\n",
      "[CV] alpha=1, hidden_layer_sizes=(100,), learning_rate_init=0.1, solver=sgd \n",
      "[CV]  alpha=1, hidden_layer_sizes=(100,), learning_rate_init=0.1, solver=sgd, score=0.816, total=   0.5s\n",
      "[CV] alpha=1, hidden_layer_sizes=(100,), learning_rate_init=0.1, solver=adam \n",
      "[CV]  alpha=1, hidden_layer_sizes=(100,), learning_rate_init=0.1, solver=adam, score=0.923, total=   0.1s\n",
      "[CV] alpha=1, hidden_layer_sizes=(100,), learning_rate_init=0.1, solver=adam \n",
      "[CV]  alpha=1, hidden_layer_sizes=(100,), learning_rate_init=0.1, solver=adam, score=0.872, total=   0.1s\n",
      "[CV] alpha=1, hidden_layer_sizes=(100,), learning_rate_init=0.1, solver=adam \n",
      "[CV]  alpha=1, hidden_layer_sizes=(100,), learning_rate_init=0.1, solver=adam, score=0.795, total=   0.1s\n",
      "[CV] alpha=1, hidden_layer_sizes=(100,), learning_rate_init=0.1, solver=adam \n",
      "[CV]  alpha=1, hidden_layer_sizes=(100,), learning_rate_init=0.1, solver=adam, score=0.868, total=   0.1s\n",
      "[CV] alpha=1, hidden_layer_sizes=(100,), learning_rate_init=0.1, solver=adam \n",
      "[CV]  alpha=1, hidden_layer_sizes=(100,), learning_rate_init=0.1, solver=adam, score=0.789, total=   0.2s\n",
      "[CV] alpha=1, hidden_layer_sizes=(100,), learning_rate_init=1, solver=lbfgs \n",
      "[CV]  alpha=1, hidden_layer_sizes=(100,), learning_rate_init=1, solver=lbfgs, score=0.923, total=   0.4s\n",
      "[CV] alpha=1, hidden_layer_sizes=(100,), learning_rate_init=1, solver=lbfgs \n",
      "[CV]  alpha=1, hidden_layer_sizes=(100,), learning_rate_init=1, solver=lbfgs, score=0.872, total=   0.4s\n",
      "[CV] alpha=1, hidden_layer_sizes=(100,), learning_rate_init=1, solver=lbfgs \n",
      "[CV]  alpha=1, hidden_layer_sizes=(100,), learning_rate_init=1, solver=lbfgs, score=0.795, total=   0.4s\n",
      "[CV] alpha=1, hidden_layer_sizes=(100,), learning_rate_init=1, solver=lbfgs \n",
      "[CV]  alpha=1, hidden_layer_sizes=(100,), learning_rate_init=1, solver=lbfgs, score=0.868, total=   0.3s\n",
      "[CV] alpha=1, hidden_layer_sizes=(100,), learning_rate_init=1, solver=lbfgs \n",
      "[CV]  alpha=1, hidden_layer_sizes=(100,), learning_rate_init=1, solver=lbfgs, score=0.789, total=   0.4s\n",
      "[CV] alpha=1, hidden_layer_sizes=(100,), learning_rate_init=1, solver=sgd \n",
      "[CV]  alpha=1, hidden_layer_sizes=(100,), learning_rate_init=1, solver=sgd, score=0.718, total=   0.0s\n",
      "[CV] alpha=1, hidden_layer_sizes=(100,), learning_rate_init=1, solver=sgd \n",
      "[CV]  alpha=1, hidden_layer_sizes=(100,), learning_rate_init=1, solver=sgd, score=0.615, total=   0.0s\n",
      "[CV] alpha=1, hidden_layer_sizes=(100,), learning_rate_init=1, solver=sgd \n",
      "[CV]  alpha=1, hidden_layer_sizes=(100,), learning_rate_init=1, solver=sgd, score=0.718, total=   0.0s\n",
      "[CV] alpha=1, hidden_layer_sizes=(100,), learning_rate_init=1, solver=sgd \n",
      "[CV]  alpha=1, hidden_layer_sizes=(100,), learning_rate_init=1, solver=sgd, score=0.868, total=   0.0s\n",
      "[CV] alpha=1, hidden_layer_sizes=(100,), learning_rate_init=1, solver=sgd \n"
     ]
    },
    {
     "name": "stdout",
     "output_type": "stream",
     "text": [
      "[CV]  alpha=1, hidden_layer_sizes=(100,), learning_rate_init=1, solver=sgd, score=0.763, total=   0.0s\n",
      "[CV] alpha=1, hidden_layer_sizes=(100,), learning_rate_init=1, solver=adam \n",
      "[CV]  alpha=1, hidden_layer_sizes=(100,), learning_rate_init=1, solver=adam, score=0.590, total=   0.0s\n",
      "[CV] alpha=1, hidden_layer_sizes=(100,), learning_rate_init=1, solver=adam \n",
      "[CV]  alpha=1, hidden_layer_sizes=(100,), learning_rate_init=1, solver=adam, score=0.846, total=   0.0s\n",
      "[CV] alpha=1, hidden_layer_sizes=(100,), learning_rate_init=1, solver=adam \n",
      "[CV]  alpha=1, hidden_layer_sizes=(100,), learning_rate_init=1, solver=adam, score=0.692, total=   0.0s\n",
      "[CV] alpha=1, hidden_layer_sizes=(100,), learning_rate_init=1, solver=adam \n",
      "[CV]  alpha=1, hidden_layer_sizes=(100,), learning_rate_init=1, solver=adam, score=0.763, total=   0.0s\n",
      "[CV] alpha=1, hidden_layer_sizes=(100,), learning_rate_init=1, solver=adam \n",
      "[CV]  alpha=1, hidden_layer_sizes=(100,), learning_rate_init=1, solver=adam, score=0.605, total=   0.0s\n",
      "[CV] alpha=1, hidden_layer_sizes=(100, 100), learning_rate_init=0.0001, solver=lbfgs \n",
      "[CV]  alpha=1, hidden_layer_sizes=(100, 100), learning_rate_init=0.0001, solver=lbfgs, score=0.923, total=   0.8s\n",
      "[CV] alpha=1, hidden_layer_sizes=(100, 100), learning_rate_init=0.0001, solver=lbfgs \n",
      "[CV]  alpha=1, hidden_layer_sizes=(100, 100), learning_rate_init=0.0001, solver=lbfgs, score=0.872, total=   0.6s\n",
      "[CV] alpha=1, hidden_layer_sizes=(100, 100), learning_rate_init=0.0001, solver=lbfgs \n",
      "[CV]  alpha=1, hidden_layer_sizes=(100, 100), learning_rate_init=0.0001, solver=lbfgs, score=0.769, total=   0.8s\n",
      "[CV] alpha=1, hidden_layer_sizes=(100, 100), learning_rate_init=0.0001, solver=lbfgs \n",
      "[CV]  alpha=1, hidden_layer_sizes=(100, 100), learning_rate_init=0.0001, solver=lbfgs, score=0.868, total=   0.8s\n",
      "[CV] alpha=1, hidden_layer_sizes=(100, 100), learning_rate_init=0.0001, solver=lbfgs \n",
      "[CV]  alpha=1, hidden_layer_sizes=(100, 100), learning_rate_init=0.0001, solver=lbfgs, score=0.763, total=   0.6s\n",
      "[CV] alpha=1, hidden_layer_sizes=(100, 100), learning_rate_init=0.0001, solver=sgd \n",
      "[CV]  alpha=1, hidden_layer_sizes=(100, 100), learning_rate_init=0.0001, solver=sgd, score=0.513, total=   0.0s\n",
      "[CV] alpha=1, hidden_layer_sizes=(100, 100), learning_rate_init=0.0001, solver=sgd \n",
      "[CV]  alpha=1, hidden_layer_sizes=(100, 100), learning_rate_init=0.0001, solver=sgd, score=0.487, total=   0.0s\n",
      "[CV] alpha=1, hidden_layer_sizes=(100, 100), learning_rate_init=0.0001, solver=sgd \n",
      "[CV]  alpha=1, hidden_layer_sizes=(100, 100), learning_rate_init=0.0001, solver=sgd, score=0.462, total=   0.0s\n",
      "[CV] alpha=1, hidden_layer_sizes=(100, 100), learning_rate_init=0.0001, solver=sgd \n",
      "[CV]  alpha=1, hidden_layer_sizes=(100, 100), learning_rate_init=0.0001, solver=sgd, score=0.474, total=   0.0s\n",
      "[CV] alpha=1, hidden_layer_sizes=(100, 100), learning_rate_init=0.0001, solver=sgd \n",
      "[CV]  alpha=1, hidden_layer_sizes=(100, 100), learning_rate_init=0.0001, solver=sgd, score=0.526, total=   0.0s\n",
      "[CV] alpha=1, hidden_layer_sizes=(100, 100), learning_rate_init=0.0001, solver=adam \n",
      "[CV]  alpha=1, hidden_layer_sizes=(100, 100), learning_rate_init=0.0001, solver=adam, score=0.923, total=   3.1s\n",
      "[CV] alpha=1, hidden_layer_sizes=(100, 100), learning_rate_init=0.0001, solver=adam \n",
      "[CV]  alpha=1, hidden_layer_sizes=(100, 100), learning_rate_init=0.0001, solver=adam, score=0.872, total=   3.2s\n",
      "[CV] alpha=1, hidden_layer_sizes=(100, 100), learning_rate_init=0.0001, solver=adam \n",
      "[CV]  alpha=1, hidden_layer_sizes=(100, 100), learning_rate_init=0.0001, solver=adam, score=0.795, total=   3.2s\n",
      "[CV] alpha=1, hidden_layer_sizes=(100, 100), learning_rate_init=0.0001, solver=adam \n",
      "[CV]  alpha=1, hidden_layer_sizes=(100, 100), learning_rate_init=0.0001, solver=adam, score=0.868, total=   3.1s\n",
      "[CV] alpha=1, hidden_layer_sizes=(100, 100), learning_rate_init=0.0001, solver=adam \n",
      "[CV]  alpha=1, hidden_layer_sizes=(100, 100), learning_rate_init=0.0001, solver=adam, score=0.789, total=   3.2s\n",
      "[CV] alpha=1, hidden_layer_sizes=(100, 100), learning_rate_init=0.001, solver=lbfgs \n",
      "[CV]  alpha=1, hidden_layer_sizes=(100, 100), learning_rate_init=0.001, solver=lbfgs, score=0.923, total=   0.6s\n",
      "[CV] alpha=1, hidden_layer_sizes=(100, 100), learning_rate_init=0.001, solver=lbfgs \n",
      "[CV]  alpha=1, hidden_layer_sizes=(100, 100), learning_rate_init=0.001, solver=lbfgs, score=0.872, total=   0.7s\n",
      "[CV] alpha=1, hidden_layer_sizes=(100, 100), learning_rate_init=0.001, solver=lbfgs \n",
      "[CV]  alpha=1, hidden_layer_sizes=(100, 100), learning_rate_init=0.001, solver=lbfgs, score=0.769, total=   0.7s\n",
      "[CV] alpha=1, hidden_layer_sizes=(100, 100), learning_rate_init=0.001, solver=lbfgs \n",
      "[CV]  alpha=1, hidden_layer_sizes=(100, 100), learning_rate_init=0.001, solver=lbfgs, score=0.868, total=   0.7s\n",
      "[CV] alpha=1, hidden_layer_sizes=(100, 100), learning_rate_init=0.001, solver=lbfgs \n",
      "[CV]  alpha=1, hidden_layer_sizes=(100, 100), learning_rate_init=0.001, solver=lbfgs, score=0.763, total=   0.7s\n",
      "[CV] alpha=1, hidden_layer_sizes=(100, 100), learning_rate_init=0.001, solver=sgd \n"
     ]
    },
    {
     "name": "stderr",
     "output_type": "stream",
     "text": [
      "/Users/kbgazzaz/opt/anaconda3/lib/python3.8/site-packages/sklearn/neural_network/_multilayer_perceptron.py:582: ConvergenceWarning:\n",
      "\n",
      "Stochastic Optimizer: Maximum iterations (2000) reached and the optimization hasn't converged yet.\n",
      "\n"
     ]
    },
    {
     "name": "stdout",
     "output_type": "stream",
     "text": [
      "[CV]  alpha=1, hidden_layer_sizes=(100, 100), learning_rate_init=0.001, solver=sgd, score=0.923, total=   3.9s\n",
      "[CV] alpha=1, hidden_layer_sizes=(100, 100), learning_rate_init=0.001, solver=sgd \n"
     ]
    },
    {
     "name": "stderr",
     "output_type": "stream",
     "text": [
      "/Users/kbgazzaz/opt/anaconda3/lib/python3.8/site-packages/sklearn/neural_network/_multilayer_perceptron.py:582: ConvergenceWarning:\n",
      "\n",
      "Stochastic Optimizer: Maximum iterations (2000) reached and the optimization hasn't converged yet.\n",
      "\n"
     ]
    },
    {
     "name": "stdout",
     "output_type": "stream",
     "text": [
      "[CV]  alpha=1, hidden_layer_sizes=(100, 100), learning_rate_init=0.001, solver=sgd, score=0.795, total=   3.9s\n",
      "[CV] alpha=1, hidden_layer_sizes=(100, 100), learning_rate_init=0.001, solver=sgd \n"
     ]
    },
    {
     "name": "stderr",
     "output_type": "stream",
     "text": [
      "/Users/kbgazzaz/opt/anaconda3/lib/python3.8/site-packages/sklearn/neural_network/_multilayer_perceptron.py:582: ConvergenceWarning:\n",
      "\n",
      "Stochastic Optimizer: Maximum iterations (2000) reached and the optimization hasn't converged yet.\n",
      "\n"
     ]
    },
    {
     "name": "stdout",
     "output_type": "stream",
     "text": [
      "[CV]  alpha=1, hidden_layer_sizes=(100, 100), learning_rate_init=0.001, solver=sgd, score=0.769, total=   3.9s\n",
      "[CV] alpha=1, hidden_layer_sizes=(100, 100), learning_rate_init=0.001, solver=sgd \n"
     ]
    },
    {
     "name": "stderr",
     "output_type": "stream",
     "text": [
      "/Users/kbgazzaz/opt/anaconda3/lib/python3.8/site-packages/sklearn/neural_network/_multilayer_perceptron.py:582: ConvergenceWarning:\n",
      "\n",
      "Stochastic Optimizer: Maximum iterations (2000) reached and the optimization hasn't converged yet.\n",
      "\n"
     ]
    },
    {
     "name": "stdout",
     "output_type": "stream",
     "text": [
      "[CV]  alpha=1, hidden_layer_sizes=(100, 100), learning_rate_init=0.001, solver=sgd, score=0.842, total=   3.9s\n",
      "[CV] alpha=1, hidden_layer_sizes=(100, 100), learning_rate_init=0.001, solver=sgd \n"
     ]
    },
    {
     "name": "stderr",
     "output_type": "stream",
     "text": [
      "/Users/kbgazzaz/opt/anaconda3/lib/python3.8/site-packages/sklearn/neural_network/_multilayer_perceptron.py:582: ConvergenceWarning:\n",
      "\n",
      "Stochastic Optimizer: Maximum iterations (2000) reached and the optimization hasn't converged yet.\n",
      "\n"
     ]
    },
    {
     "name": "stdout",
     "output_type": "stream",
     "text": [
      "[CV]  alpha=1, hidden_layer_sizes=(100, 100), learning_rate_init=0.001, solver=sgd, score=0.658, total=   3.9s\n",
      "[CV] alpha=1, hidden_layer_sizes=(100, 100), learning_rate_init=0.001, solver=adam \n",
      "[CV]  alpha=1, hidden_layer_sizes=(100, 100), learning_rate_init=0.001, solver=adam, score=0.923, total=   0.7s\n",
      "[CV] alpha=1, hidden_layer_sizes=(100, 100), learning_rate_init=0.001, solver=adam \n",
      "[CV]  alpha=1, hidden_layer_sizes=(100, 100), learning_rate_init=0.001, solver=adam, score=0.872, total=   0.7s\n",
      "[CV] alpha=1, hidden_layer_sizes=(100, 100), learning_rate_init=0.001, solver=adam \n",
      "[CV]  alpha=1, hidden_layer_sizes=(100, 100), learning_rate_init=0.001, solver=adam, score=0.769, total=   0.8s\n",
      "[CV] alpha=1, hidden_layer_sizes=(100, 100), learning_rate_init=0.001, solver=adam \n",
      "[CV]  alpha=1, hidden_layer_sizes=(100, 100), learning_rate_init=0.001, solver=adam, score=0.868, total=   0.8s\n",
      "[CV] alpha=1, hidden_layer_sizes=(100, 100), learning_rate_init=0.001, solver=adam \n",
      "[CV]  alpha=1, hidden_layer_sizes=(100, 100), learning_rate_init=0.001, solver=adam, score=0.789, total=   0.8s\n",
      "[CV] alpha=1, hidden_layer_sizes=(100, 100), learning_rate_init=0.01, solver=lbfgs \n",
      "[CV]  alpha=1, hidden_layer_sizes=(100, 100), learning_rate_init=0.01, solver=lbfgs, score=0.923, total=   0.8s\n",
      "[CV] alpha=1, hidden_layer_sizes=(100, 100), learning_rate_init=0.01, solver=lbfgs \n",
      "[CV]  alpha=1, hidden_layer_sizes=(100, 100), learning_rate_init=0.01, solver=lbfgs, score=0.872, total=   0.8s\n",
      "[CV] alpha=1, hidden_layer_sizes=(100, 100), learning_rate_init=0.01, solver=lbfgs \n",
      "[CV]  alpha=1, hidden_layer_sizes=(100, 100), learning_rate_init=0.01, solver=lbfgs, score=0.769, total=   0.5s\n",
      "[CV] alpha=1, hidden_layer_sizes=(100, 100), learning_rate_init=0.01, solver=lbfgs \n",
      "[CV]  alpha=1, hidden_layer_sizes=(100, 100), learning_rate_init=0.01, solver=lbfgs, score=0.868, total=   0.6s\n",
      "[CV] alpha=1, hidden_layer_sizes=(100, 100), learning_rate_init=0.01, solver=lbfgs \n",
      "[CV]  alpha=1, hidden_layer_sizes=(100, 100), learning_rate_init=0.01, solver=lbfgs, score=0.737, total=   0.7s\n",
      "[CV] alpha=1, hidden_layer_sizes=(100, 100), learning_rate_init=0.01, solver=sgd \n",
      "[CV]  alpha=1, hidden_layer_sizes=(100, 100), learning_rate_init=0.01, solver=sgd, score=0.872, total=   3.6s\n",
      "[CV] alpha=1, hidden_layer_sizes=(100, 100), learning_rate_init=0.01, solver=sgd \n",
      "[CV]  alpha=1, hidden_layer_sizes=(100, 100), learning_rate_init=0.01, solver=sgd, score=0.872, total=   3.6s\n",
      "[CV] alpha=1, hidden_layer_sizes=(100, 100), learning_rate_init=0.01, solver=sgd \n",
      "[CV]  alpha=1, hidden_layer_sizes=(100, 100), learning_rate_init=0.01, solver=sgd, score=0.769, total=   3.6s\n",
      "[CV] alpha=1, hidden_layer_sizes=(100, 100), learning_rate_init=0.01, solver=sgd \n",
      "[CV]  alpha=1, hidden_layer_sizes=(100, 100), learning_rate_init=0.01, solver=sgd, score=0.868, total=   3.7s\n",
      "[CV] alpha=1, hidden_layer_sizes=(100, 100), learning_rate_init=0.01, solver=sgd \n",
      "[CV]  alpha=1, hidden_layer_sizes=(100, 100), learning_rate_init=0.01, solver=sgd, score=0.789, total=   3.7s\n",
      "[CV] alpha=1, hidden_layer_sizes=(100, 100), learning_rate_init=0.01, solver=adam \n",
      "[CV]  alpha=1, hidden_layer_sizes=(100, 100), learning_rate_init=0.01, solver=adam, score=0.923, total=   0.2s\n",
      "[CV] alpha=1, hidden_layer_sizes=(100, 100), learning_rate_init=0.01, solver=adam \n",
      "[CV]  alpha=1, hidden_layer_sizes=(100, 100), learning_rate_init=0.01, solver=adam, score=0.872, total=   0.2s\n",
      "[CV] alpha=1, hidden_layer_sizes=(100, 100), learning_rate_init=0.01, solver=adam \n",
      "[CV]  alpha=1, hidden_layer_sizes=(100, 100), learning_rate_init=0.01, solver=adam, score=0.769, total=   0.2s\n",
      "[CV] alpha=1, hidden_layer_sizes=(100, 100), learning_rate_init=0.01, solver=adam \n",
      "[CV]  alpha=1, hidden_layer_sizes=(100, 100), learning_rate_init=0.01, solver=adam, score=0.868, total=   0.2s\n",
      "[CV] alpha=1, hidden_layer_sizes=(100, 100), learning_rate_init=0.01, solver=adam \n",
      "[CV]  alpha=1, hidden_layer_sizes=(100, 100), learning_rate_init=0.01, solver=adam, score=0.737, total=   0.2s\n",
      "[CV] alpha=1, hidden_layer_sizes=(100, 100), learning_rate_init=0.1, solver=lbfgs \n",
      "[CV]  alpha=1, hidden_layer_sizes=(100, 100), learning_rate_init=0.1, solver=lbfgs, score=0.923, total=   0.8s\n",
      "[CV] alpha=1, hidden_layer_sizes=(100, 100), learning_rate_init=0.1, solver=lbfgs \n",
      "[CV]  alpha=1, hidden_layer_sizes=(100, 100), learning_rate_init=0.1, solver=lbfgs, score=0.872, total=   0.8s\n",
      "[CV] alpha=1, hidden_layer_sizes=(100, 100), learning_rate_init=0.1, solver=lbfgs \n",
      "[CV]  alpha=1, hidden_layer_sizes=(100, 100), learning_rate_init=0.1, solver=lbfgs, score=0.769, total=   0.6s\n",
      "[CV] alpha=1, hidden_layer_sizes=(100, 100), learning_rate_init=0.1, solver=lbfgs \n",
      "[CV]  alpha=1, hidden_layer_sizes=(100, 100), learning_rate_init=0.1, solver=lbfgs, score=0.868, total=   0.9s\n",
      "[CV] alpha=1, hidden_layer_sizes=(100, 100), learning_rate_init=0.1, solver=lbfgs \n",
      "[CV]  alpha=1, hidden_layer_sizes=(100, 100), learning_rate_init=0.1, solver=lbfgs, score=0.763, total=   0.7s\n",
      "[CV] alpha=1, hidden_layer_sizes=(100, 100), learning_rate_init=0.1, solver=sgd \n",
      "[CV]  alpha=1, hidden_layer_sizes=(100, 100), learning_rate_init=0.1, solver=sgd, score=0.923, total=   0.7s\n",
      "[CV] alpha=1, hidden_layer_sizes=(100, 100), learning_rate_init=0.1, solver=sgd \n",
      "[CV]  alpha=1, hidden_layer_sizes=(100, 100), learning_rate_init=0.1, solver=sgd, score=0.872, total=   0.7s\n",
      "[CV] alpha=1, hidden_layer_sizes=(100, 100), learning_rate_init=0.1, solver=sgd \n",
      "[CV]  alpha=1, hidden_layer_sizes=(100, 100), learning_rate_init=0.1, solver=sgd, score=0.769, total=   0.7s\n",
      "[CV] alpha=1, hidden_layer_sizes=(100, 100), learning_rate_init=0.1, solver=sgd \n",
      "[CV]  alpha=1, hidden_layer_sizes=(100, 100), learning_rate_init=0.1, solver=sgd, score=0.868, total=   0.7s\n",
      "[CV] alpha=1, hidden_layer_sizes=(100, 100), learning_rate_init=0.1, solver=sgd \n",
      "[CV]  alpha=1, hidden_layer_sizes=(100, 100), learning_rate_init=0.1, solver=sgd, score=0.789, total=   0.7s\n",
      "[CV] alpha=1, hidden_layer_sizes=(100, 100), learning_rate_init=0.1, solver=adam \n",
      "[CV]  alpha=1, hidden_layer_sizes=(100, 100), learning_rate_init=0.1, solver=adam, score=0.923, total=   0.2s\n",
      "[CV] alpha=1, hidden_layer_sizes=(100, 100), learning_rate_init=0.1, solver=adam \n",
      "[CV]  alpha=1, hidden_layer_sizes=(100, 100), learning_rate_init=0.1, solver=adam, score=0.872, total=   0.2s\n",
      "[CV] alpha=1, hidden_layer_sizes=(100, 100), learning_rate_init=0.1, solver=adam \n",
      "[CV]  alpha=1, hidden_layer_sizes=(100, 100), learning_rate_init=0.1, solver=adam, score=0.769, total=   0.2s\n",
      "[CV] alpha=1, hidden_layer_sizes=(100, 100), learning_rate_init=0.1, solver=adam \n",
      "[CV]  alpha=1, hidden_layer_sizes=(100, 100), learning_rate_init=0.1, solver=adam, score=0.842, total=   0.1s\n",
      "[CV] alpha=1, hidden_layer_sizes=(100, 100), learning_rate_init=0.1, solver=adam \n",
      "[CV]  alpha=1, hidden_layer_sizes=(100, 100), learning_rate_init=0.1, solver=adam, score=0.816, total=   0.0s\n",
      "[CV] alpha=1, hidden_layer_sizes=(100, 100), learning_rate_init=1, solver=lbfgs \n",
      "[CV]  alpha=1, hidden_layer_sizes=(100, 100), learning_rate_init=1, solver=lbfgs, score=0.923, total=   0.5s\n",
      "[CV] alpha=1, hidden_layer_sizes=(100, 100), learning_rate_init=1, solver=lbfgs \n",
      "[CV]  alpha=1, hidden_layer_sizes=(100, 100), learning_rate_init=1, solver=lbfgs, score=0.872, total=   0.5s\n",
      "[CV] alpha=1, hidden_layer_sizes=(100, 100), learning_rate_init=1, solver=lbfgs \n",
      "[CV]  alpha=1, hidden_layer_sizes=(100, 100), learning_rate_init=1, solver=lbfgs, score=0.769, total=   0.7s\n",
      "[CV] alpha=1, hidden_layer_sizes=(100, 100), learning_rate_init=1, solver=lbfgs \n",
      "[CV]  alpha=1, hidden_layer_sizes=(100, 100), learning_rate_init=1, solver=lbfgs, score=0.868, total=   0.6s\n",
      "[CV] alpha=1, hidden_layer_sizes=(100, 100), learning_rate_init=1, solver=lbfgs \n",
      "[CV]  alpha=1, hidden_layer_sizes=(100, 100), learning_rate_init=1, solver=lbfgs, score=0.763, total=   0.6s\n",
      "[CV] alpha=1, hidden_layer_sizes=(100, 100), learning_rate_init=1, solver=sgd \n",
      "[CV]  alpha=1, hidden_layer_sizes=(100, 100), learning_rate_init=1, solver=sgd, score=0.487, total=   0.0s\n",
      "[CV] alpha=1, hidden_layer_sizes=(100, 100), learning_rate_init=1, solver=sgd \n",
      "[CV]  alpha=1, hidden_layer_sizes=(100, 100), learning_rate_init=1, solver=sgd, score=0.487, total=   0.1s\n",
      "[CV] alpha=1, hidden_layer_sizes=(100, 100), learning_rate_init=1, solver=sgd \n",
      "[CV]  alpha=1, hidden_layer_sizes=(100, 100), learning_rate_init=1, solver=sgd, score=0.538, total=   0.0s\n",
      "[CV] alpha=1, hidden_layer_sizes=(100, 100), learning_rate_init=1, solver=sgd \n"
     ]
    },
    {
     "name": "stdout",
     "output_type": "stream",
     "text": [
      "[CV]  alpha=1, hidden_layer_sizes=(100, 100), learning_rate_init=1, solver=sgd, score=0.526, total=   0.0s\n",
      "[CV] alpha=1, hidden_layer_sizes=(100, 100), learning_rate_init=1, solver=sgd \n",
      "[CV]  alpha=1, hidden_layer_sizes=(100, 100), learning_rate_init=1, solver=sgd, score=0.605, total=   0.0s\n",
      "[CV] alpha=1, hidden_layer_sizes=(100, 100), learning_rate_init=1, solver=adam \n",
      "[CV]  alpha=1, hidden_layer_sizes=(100, 100), learning_rate_init=1, solver=adam, score=0.923, total=   0.0s\n",
      "[CV] alpha=1, hidden_layer_sizes=(100, 100), learning_rate_init=1, solver=adam \n",
      "[CV]  alpha=1, hidden_layer_sizes=(100, 100), learning_rate_init=1, solver=adam, score=0.513, total=   0.0s\n",
      "[CV] alpha=1, hidden_layer_sizes=(100, 100), learning_rate_init=1, solver=adam \n",
      "[CV]  alpha=1, hidden_layer_sizes=(100, 100), learning_rate_init=1, solver=adam, score=0.462, total=   0.0s\n",
      "[CV] alpha=1, hidden_layer_sizes=(100, 100), learning_rate_init=1, solver=adam \n",
      "[CV]  alpha=1, hidden_layer_sizes=(100, 100), learning_rate_init=1, solver=adam, score=0.632, total=   0.0s\n",
      "[CV] alpha=1, hidden_layer_sizes=(100, 100), learning_rate_init=1, solver=adam \n",
      "[CV]  alpha=1, hidden_layer_sizes=(100, 100), learning_rate_init=1, solver=adam, score=0.553, total=   0.0s\n",
      "[CV] alpha=1, hidden_layer_sizes=(100, 100, 100), learning_rate_init=0.0001, solver=lbfgs \n",
      "[CV]  alpha=1, hidden_layer_sizes=(100, 100, 100), learning_rate_init=0.0001, solver=lbfgs, score=0.923, total=   1.2s\n",
      "[CV] alpha=1, hidden_layer_sizes=(100, 100, 100), learning_rate_init=0.0001, solver=lbfgs \n",
      "[CV]  alpha=1, hidden_layer_sizes=(100, 100, 100), learning_rate_init=0.0001, solver=lbfgs, score=0.872, total=   0.9s\n",
      "[CV] alpha=1, hidden_layer_sizes=(100, 100, 100), learning_rate_init=0.0001, solver=lbfgs \n",
      "[CV]  alpha=1, hidden_layer_sizes=(100, 100, 100), learning_rate_init=0.0001, solver=lbfgs, score=0.769, total=   1.4s\n",
      "[CV] alpha=1, hidden_layer_sizes=(100, 100, 100), learning_rate_init=0.0001, solver=lbfgs \n",
      "[CV]  alpha=1, hidden_layer_sizes=(100, 100, 100), learning_rate_init=0.0001, solver=lbfgs, score=0.868, total=   1.1s\n",
      "[CV] alpha=1, hidden_layer_sizes=(100, 100, 100), learning_rate_init=0.0001, solver=lbfgs \n",
      "[CV]  alpha=1, hidden_layer_sizes=(100, 100, 100), learning_rate_init=0.0001, solver=lbfgs, score=0.737, total=   1.0s\n",
      "[CV] alpha=1, hidden_layer_sizes=(100, 100, 100), learning_rate_init=0.0001, solver=sgd \n",
      "[CV]  alpha=1, hidden_layer_sizes=(100, 100, 100), learning_rate_init=0.0001, solver=sgd, score=0.487, total=   0.0s\n",
      "[CV] alpha=1, hidden_layer_sizes=(100, 100, 100), learning_rate_init=0.0001, solver=sgd \n",
      "[CV]  alpha=1, hidden_layer_sizes=(100, 100, 100), learning_rate_init=0.0001, solver=sgd, score=0.513, total=   0.0s\n",
      "[CV] alpha=1, hidden_layer_sizes=(100, 100, 100), learning_rate_init=0.0001, solver=sgd \n",
      "[CV]  alpha=1, hidden_layer_sizes=(100, 100, 100), learning_rate_init=0.0001, solver=sgd, score=0.462, total=   0.0s\n",
      "[CV] alpha=1, hidden_layer_sizes=(100, 100, 100), learning_rate_init=0.0001, solver=sgd \n",
      "[CV]  alpha=1, hidden_layer_sizes=(100, 100, 100), learning_rate_init=0.0001, solver=sgd, score=0.579, total=   0.0s\n",
      "[CV] alpha=1, hidden_layer_sizes=(100, 100, 100), learning_rate_init=0.0001, solver=sgd \n",
      "[CV]  alpha=1, hidden_layer_sizes=(100, 100, 100), learning_rate_init=0.0001, solver=sgd, score=0.526, total=   0.0s\n",
      "[CV] alpha=1, hidden_layer_sizes=(100, 100, 100), learning_rate_init=0.0001, solver=adam \n",
      "[CV]  alpha=1, hidden_layer_sizes=(100, 100, 100), learning_rate_init=0.0001, solver=adam, score=0.923, total=   4.2s\n",
      "[CV] alpha=1, hidden_layer_sizes=(100, 100, 100), learning_rate_init=0.0001, solver=adam \n",
      "[CV]  alpha=1, hidden_layer_sizes=(100, 100, 100), learning_rate_init=0.0001, solver=adam, score=0.872, total=   4.2s\n",
      "[CV] alpha=1, hidden_layer_sizes=(100, 100, 100), learning_rate_init=0.0001, solver=adam \n",
      "[CV]  alpha=1, hidden_layer_sizes=(100, 100, 100), learning_rate_init=0.0001, solver=adam, score=0.769, total=   4.2s\n",
      "[CV] alpha=1, hidden_layer_sizes=(100, 100, 100), learning_rate_init=0.0001, solver=adam \n",
      "[CV]  alpha=1, hidden_layer_sizes=(100, 100, 100), learning_rate_init=0.0001, solver=adam, score=0.868, total=   4.3s\n",
      "[CV] alpha=1, hidden_layer_sizes=(100, 100, 100), learning_rate_init=0.0001, solver=adam \n",
      "[CV]  alpha=1, hidden_layer_sizes=(100, 100, 100), learning_rate_init=0.0001, solver=adam, score=0.737, total=   4.3s\n",
      "[CV] alpha=1, hidden_layer_sizes=(100, 100, 100), learning_rate_init=0.001, solver=lbfgs \n",
      "[CV]  alpha=1, hidden_layer_sizes=(100, 100, 100), learning_rate_init=0.001, solver=lbfgs, score=0.923, total=   1.1s\n",
      "[CV] alpha=1, hidden_layer_sizes=(100, 100, 100), learning_rate_init=0.001, solver=lbfgs \n",
      "[CV]  alpha=1, hidden_layer_sizes=(100, 100, 100), learning_rate_init=0.001, solver=lbfgs, score=0.872, total=   1.1s\n",
      "[CV] alpha=1, hidden_layer_sizes=(100, 100, 100), learning_rate_init=0.001, solver=lbfgs \n",
      "[CV]  alpha=1, hidden_layer_sizes=(100, 100, 100), learning_rate_init=0.001, solver=lbfgs, score=0.769, total=   0.9s\n",
      "[CV] alpha=1, hidden_layer_sizes=(100, 100, 100), learning_rate_init=0.001, solver=lbfgs \n",
      "[CV]  alpha=1, hidden_layer_sizes=(100, 100, 100), learning_rate_init=0.001, solver=lbfgs, score=0.868, total=   0.9s\n",
      "[CV] alpha=1, hidden_layer_sizes=(100, 100, 100), learning_rate_init=0.001, solver=lbfgs \n",
      "[CV]  alpha=1, hidden_layer_sizes=(100, 100, 100), learning_rate_init=0.001, solver=lbfgs, score=0.763, total=   1.1s\n",
      "[CV] alpha=1, hidden_layer_sizes=(100, 100, 100), learning_rate_init=0.001, solver=sgd \n"
     ]
    },
    {
     "name": "stderr",
     "output_type": "stream",
     "text": [
      "/Users/kbgazzaz/opt/anaconda3/lib/python3.8/site-packages/sklearn/neural_network/_multilayer_perceptron.py:582: ConvergenceWarning:\n",
      "\n",
      "Stochastic Optimizer: Maximum iterations (2000) reached and the optimization hasn't converged yet.\n",
      "\n"
     ]
    },
    {
     "name": "stdout",
     "output_type": "stream",
     "text": [
      "[CV]  alpha=1, hidden_layer_sizes=(100, 100, 100), learning_rate_init=0.001, solver=sgd, score=0.923, total=   4.5s\n",
      "[CV] alpha=1, hidden_layer_sizes=(100, 100, 100), learning_rate_init=0.001, solver=sgd \n"
     ]
    },
    {
     "name": "stderr",
     "output_type": "stream",
     "text": [
      "/Users/kbgazzaz/opt/anaconda3/lib/python3.8/site-packages/sklearn/neural_network/_multilayer_perceptron.py:582: ConvergenceWarning:\n",
      "\n",
      "Stochastic Optimizer: Maximum iterations (2000) reached and the optimization hasn't converged yet.\n",
      "\n"
     ]
    },
    {
     "name": "stdout",
     "output_type": "stream",
     "text": [
      "[CV]  alpha=1, hidden_layer_sizes=(100, 100, 100), learning_rate_init=0.001, solver=sgd, score=0.692, total=   4.6s\n",
      "[CV] alpha=1, hidden_layer_sizes=(100, 100, 100), learning_rate_init=0.001, solver=sgd \n"
     ]
    },
    {
     "name": "stderr",
     "output_type": "stream",
     "text": [
      "/Users/kbgazzaz/opt/anaconda3/lib/python3.8/site-packages/sklearn/neural_network/_multilayer_perceptron.py:582: ConvergenceWarning:\n",
      "\n",
      "Stochastic Optimizer: Maximum iterations (2000) reached and the optimization hasn't converged yet.\n",
      "\n"
     ]
    },
    {
     "name": "stdout",
     "output_type": "stream",
     "text": [
      "[CV]  alpha=1, hidden_layer_sizes=(100, 100, 100), learning_rate_init=0.001, solver=sgd, score=0.744, total=   4.5s\n",
      "[CV] alpha=1, hidden_layer_sizes=(100, 100, 100), learning_rate_init=0.001, solver=sgd \n"
     ]
    },
    {
     "name": "stderr",
     "output_type": "stream",
     "text": [
      "/Users/kbgazzaz/opt/anaconda3/lib/python3.8/site-packages/sklearn/neural_network/_multilayer_perceptron.py:582: ConvergenceWarning:\n",
      "\n",
      "Stochastic Optimizer: Maximum iterations (2000) reached and the optimization hasn't converged yet.\n",
      "\n"
     ]
    },
    {
     "name": "stdout",
     "output_type": "stream",
     "text": [
      "[CV]  alpha=1, hidden_layer_sizes=(100, 100, 100), learning_rate_init=0.001, solver=sgd, score=0.842, total=   4.6s\n",
      "[CV] alpha=1, hidden_layer_sizes=(100, 100, 100), learning_rate_init=0.001, solver=sgd \n"
     ]
    },
    {
     "name": "stderr",
     "output_type": "stream",
     "text": [
      "/Users/kbgazzaz/opt/anaconda3/lib/python3.8/site-packages/sklearn/neural_network/_multilayer_perceptron.py:582: ConvergenceWarning:\n",
      "\n",
      "Stochastic Optimizer: Maximum iterations (2000) reached and the optimization hasn't converged yet.\n",
      "\n"
     ]
    },
    {
     "name": "stdout",
     "output_type": "stream",
     "text": [
      "[CV]  alpha=1, hidden_layer_sizes=(100, 100, 100), learning_rate_init=0.001, solver=sgd, score=0.737, total=   4.5s\n",
      "[CV] alpha=1, hidden_layer_sizes=(100, 100, 100), learning_rate_init=0.001, solver=adam \n",
      "[CV]  alpha=1, hidden_layer_sizes=(100, 100, 100), learning_rate_init=0.001, solver=adam, score=0.923, total=   0.8s\n",
      "[CV] alpha=1, hidden_layer_sizes=(100, 100, 100), learning_rate_init=0.001, solver=adam \n",
      "[CV]  alpha=1, hidden_layer_sizes=(100, 100, 100), learning_rate_init=0.001, solver=adam, score=0.872, total=   0.9s\n",
      "[CV] alpha=1, hidden_layer_sizes=(100, 100, 100), learning_rate_init=0.001, solver=adam \n",
      "[CV]  alpha=1, hidden_layer_sizes=(100, 100, 100), learning_rate_init=0.001, solver=adam, score=0.769, total=   0.8s\n",
      "[CV] alpha=1, hidden_layer_sizes=(100, 100, 100), learning_rate_init=0.001, solver=adam \n",
      "[CV]  alpha=1, hidden_layer_sizes=(100, 100, 100), learning_rate_init=0.001, solver=adam, score=0.868, total=   0.9s\n",
      "[CV] alpha=1, hidden_layer_sizes=(100, 100, 100), learning_rate_init=0.001, solver=adam \n",
      "[CV]  alpha=1, hidden_layer_sizes=(100, 100, 100), learning_rate_init=0.001, solver=adam, score=0.763, total=   0.9s\n",
      "[CV] alpha=1, hidden_layer_sizes=(100, 100, 100), learning_rate_init=0.01, solver=lbfgs \n",
      "[CV]  alpha=1, hidden_layer_sizes=(100, 100, 100), learning_rate_init=0.01, solver=lbfgs, score=0.923, total=   1.1s\n",
      "[CV] alpha=1, hidden_layer_sizes=(100, 100, 100), learning_rate_init=0.01, solver=lbfgs \n",
      "[CV]  alpha=1, hidden_layer_sizes=(100, 100, 100), learning_rate_init=0.01, solver=lbfgs, score=0.872, total=   1.1s\n",
      "[CV] alpha=1, hidden_layer_sizes=(100, 100, 100), learning_rate_init=0.01, solver=lbfgs \n",
      "[CV]  alpha=1, hidden_layer_sizes=(100, 100, 100), learning_rate_init=0.01, solver=lbfgs, score=0.769, total=   1.0s\n",
      "[CV] alpha=1, hidden_layer_sizes=(100, 100, 100), learning_rate_init=0.01, solver=lbfgs \n",
      "[CV]  alpha=1, hidden_layer_sizes=(100, 100, 100), learning_rate_init=0.01, solver=lbfgs, score=0.868, total=   1.2s\n",
      "[CV] alpha=1, hidden_layer_sizes=(100, 100, 100), learning_rate_init=0.01, solver=lbfgs \n",
      "[CV]  alpha=1, hidden_layer_sizes=(100, 100, 100), learning_rate_init=0.01, solver=lbfgs, score=0.526, total=   0.5s\n",
      "[CV] alpha=1, hidden_layer_sizes=(100, 100, 100), learning_rate_init=0.01, solver=sgd \n"
     ]
    },
    {
     "name": "stderr",
     "output_type": "stream",
     "text": [
      "/Users/kbgazzaz/opt/anaconda3/lib/python3.8/site-packages/sklearn/neural_network/_multilayer_perceptron.py:582: ConvergenceWarning:\n",
      "\n",
      "Stochastic Optimizer: Maximum iterations (2000) reached and the optimization hasn't converged yet.\n",
      "\n"
     ]
    },
    {
     "name": "stdout",
     "output_type": "stream",
     "text": [
      "[CV]  alpha=1, hidden_layer_sizes=(100, 100, 100), learning_rate_init=0.01, solver=sgd, score=0.923, total=   4.5s\n",
      "[CV] alpha=1, hidden_layer_sizes=(100, 100, 100), learning_rate_init=0.01, solver=sgd \n"
     ]
    },
    {
     "name": "stderr",
     "output_type": "stream",
     "text": [
      "/Users/kbgazzaz/opt/anaconda3/lib/python3.8/site-packages/sklearn/neural_network/_multilayer_perceptron.py:582: ConvergenceWarning:\n",
      "\n",
      "Stochastic Optimizer: Maximum iterations (2000) reached and the optimization hasn't converged yet.\n",
      "\n"
     ]
    },
    {
     "name": "stdout",
     "output_type": "stream",
     "text": [
      "[CV]  alpha=1, hidden_layer_sizes=(100, 100, 100), learning_rate_init=0.01, solver=sgd, score=0.872, total=   4.5s\n",
      "[CV] alpha=1, hidden_layer_sizes=(100, 100, 100), learning_rate_init=0.01, solver=sgd \n"
     ]
    },
    {
     "name": "stderr",
     "output_type": "stream",
     "text": [
      "/Users/kbgazzaz/opt/anaconda3/lib/python3.8/site-packages/sklearn/neural_network/_multilayer_perceptron.py:582: ConvergenceWarning:\n",
      "\n",
      "Stochastic Optimizer: Maximum iterations (2000) reached and the optimization hasn't converged yet.\n",
      "\n"
     ]
    },
    {
     "name": "stdout",
     "output_type": "stream",
     "text": [
      "[CV]  alpha=1, hidden_layer_sizes=(100, 100, 100), learning_rate_init=0.01, solver=sgd, score=0.769, total=   4.5s\n",
      "[CV] alpha=1, hidden_layer_sizes=(100, 100, 100), learning_rate_init=0.01, solver=sgd \n"
     ]
    },
    {
     "name": "stderr",
     "output_type": "stream",
     "text": [
      "/Users/kbgazzaz/opt/anaconda3/lib/python3.8/site-packages/sklearn/neural_network/_multilayer_perceptron.py:582: ConvergenceWarning:\n",
      "\n",
      "Stochastic Optimizer: Maximum iterations (2000) reached and the optimization hasn't converged yet.\n",
      "\n"
     ]
    },
    {
     "name": "stdout",
     "output_type": "stream",
     "text": [
      "[CV]  alpha=1, hidden_layer_sizes=(100, 100, 100), learning_rate_init=0.01, solver=sgd, score=0.868, total=   4.5s\n",
      "[CV] alpha=1, hidden_layer_sizes=(100, 100, 100), learning_rate_init=0.01, solver=sgd \n"
     ]
    },
    {
     "name": "stderr",
     "output_type": "stream",
     "text": [
      "/Users/kbgazzaz/opt/anaconda3/lib/python3.8/site-packages/sklearn/neural_network/_multilayer_perceptron.py:582: ConvergenceWarning:\n",
      "\n",
      "Stochastic Optimizer: Maximum iterations (2000) reached and the optimization hasn't converged yet.\n",
      "\n"
     ]
    },
    {
     "name": "stdout",
     "output_type": "stream",
     "text": [
      "[CV]  alpha=1, hidden_layer_sizes=(100, 100, 100), learning_rate_init=0.01, solver=sgd, score=0.737, total=   4.5s\n",
      "[CV] alpha=1, hidden_layer_sizes=(100, 100, 100), learning_rate_init=0.01, solver=adam \n",
      "[CV]  alpha=1, hidden_layer_sizes=(100, 100, 100), learning_rate_init=0.01, solver=adam, score=0.923, total=   0.2s\n",
      "[CV] alpha=1, hidden_layer_sizes=(100, 100, 100), learning_rate_init=0.01, solver=adam \n",
      "[CV]  alpha=1, hidden_layer_sizes=(100, 100, 100), learning_rate_init=0.01, solver=adam, score=0.872, total=   0.2s\n",
      "[CV] alpha=1, hidden_layer_sizes=(100, 100, 100), learning_rate_init=0.01, solver=adam \n",
      "[CV]  alpha=1, hidden_layer_sizes=(100, 100, 100), learning_rate_init=0.01, solver=adam, score=0.795, total=   0.3s\n",
      "[CV] alpha=1, hidden_layer_sizes=(100, 100, 100), learning_rate_init=0.01, solver=adam \n",
      "[CV]  alpha=1, hidden_layer_sizes=(100, 100, 100), learning_rate_init=0.01, solver=adam, score=0.868, total=   0.2s\n",
      "[CV] alpha=1, hidden_layer_sizes=(100, 100, 100), learning_rate_init=0.01, solver=adam \n",
      "[CV]  alpha=1, hidden_layer_sizes=(100, 100, 100), learning_rate_init=0.01, solver=adam, score=0.737, total=   0.2s\n",
      "[CV] alpha=1, hidden_layer_sizes=(100, 100, 100), learning_rate_init=0.1, solver=lbfgs \n",
      "[CV]  alpha=1, hidden_layer_sizes=(100, 100, 100), learning_rate_init=0.1, solver=lbfgs, score=0.923, total=   1.1s\n",
      "[CV] alpha=1, hidden_layer_sizes=(100, 100, 100), learning_rate_init=0.1, solver=lbfgs \n",
      "[CV]  alpha=1, hidden_layer_sizes=(100, 100, 100), learning_rate_init=0.1, solver=lbfgs, score=0.872, total=   0.9s\n",
      "[CV] alpha=1, hidden_layer_sizes=(100, 100, 100), learning_rate_init=0.1, solver=lbfgs \n",
      "[CV]  alpha=1, hidden_layer_sizes=(100, 100, 100), learning_rate_init=0.1, solver=lbfgs, score=0.769, total=   1.0s\n",
      "[CV] alpha=1, hidden_layer_sizes=(100, 100, 100), learning_rate_init=0.1, solver=lbfgs \n",
      "[CV]  alpha=1, hidden_layer_sizes=(100, 100, 100), learning_rate_init=0.1, solver=lbfgs, score=0.868, total=   0.9s\n",
      "[CV] alpha=1, hidden_layer_sizes=(100, 100, 100), learning_rate_init=0.1, solver=lbfgs \n",
      "[CV]  alpha=1, hidden_layer_sizes=(100, 100, 100), learning_rate_init=0.1, solver=lbfgs, score=0.763, total=   1.0s\n",
      "[CV] alpha=1, hidden_layer_sizes=(100, 100, 100), learning_rate_init=0.1, solver=sgd \n",
      "[CV]  alpha=1, hidden_layer_sizes=(100, 100, 100), learning_rate_init=0.1, solver=sgd, score=0.923, total=   0.9s\n",
      "[CV] alpha=1, hidden_layer_sizes=(100, 100, 100), learning_rate_init=0.1, solver=sgd \n",
      "[CV]  alpha=1, hidden_layer_sizes=(100, 100, 100), learning_rate_init=0.1, solver=sgd, score=0.872, total=   0.9s\n",
      "[CV] alpha=1, hidden_layer_sizes=(100, 100, 100), learning_rate_init=0.1, solver=sgd \n",
      "[CV]  alpha=1, hidden_layer_sizes=(100, 100, 100), learning_rate_init=0.1, solver=sgd, score=0.769, total=   0.9s\n",
      "[CV] alpha=1, hidden_layer_sizes=(100, 100, 100), learning_rate_init=0.1, solver=sgd \n",
      "[CV]  alpha=1, hidden_layer_sizes=(100, 100, 100), learning_rate_init=0.1, solver=sgd, score=0.868, total=   0.9s\n",
      "[CV] alpha=1, hidden_layer_sizes=(100, 100, 100), learning_rate_init=0.1, solver=sgd \n",
      "[CV]  alpha=1, hidden_layer_sizes=(100, 100, 100), learning_rate_init=0.1, solver=sgd, score=0.763, total=   0.9s\n",
      "[CV] alpha=1, hidden_layer_sizes=(100, 100, 100), learning_rate_init=0.1, solver=adam \n",
      "[CV]  alpha=1, hidden_layer_sizes=(100, 100, 100), learning_rate_init=0.1, solver=adam, score=0.744, total=   0.1s\n",
      "[CV] alpha=1, hidden_layer_sizes=(100, 100, 100), learning_rate_init=0.1, solver=adam \n",
      "[CV]  alpha=1, hidden_layer_sizes=(100, 100, 100), learning_rate_init=0.1, solver=adam, score=0.846, total=   0.1s\n",
      "[CV] alpha=1, hidden_layer_sizes=(100, 100, 100), learning_rate_init=0.1, solver=adam \n",
      "[CV]  alpha=1, hidden_layer_sizes=(100, 100, 100), learning_rate_init=0.1, solver=adam, score=0.744, total=   0.1s\n",
      "[CV] alpha=1, hidden_layer_sizes=(100, 100, 100), learning_rate_init=0.1, solver=adam \n",
      "[CV]  alpha=1, hidden_layer_sizes=(100, 100, 100), learning_rate_init=0.1, solver=adam, score=0.868, total=   0.1s\n",
      "[CV] alpha=1, hidden_layer_sizes=(100, 100, 100), learning_rate_init=0.1, solver=adam \n",
      "[CV]  alpha=1, hidden_layer_sizes=(100, 100, 100), learning_rate_init=0.1, solver=adam, score=0.763, total=   0.3s\n",
      "[CV] alpha=1, hidden_layer_sizes=(100, 100, 100), learning_rate_init=1, solver=lbfgs \n",
      "[CV]  alpha=1, hidden_layer_sizes=(100, 100, 100), learning_rate_init=1, solver=lbfgs, score=0.923, total=   1.1s\n",
      "[CV] alpha=1, hidden_layer_sizes=(100, 100, 100), learning_rate_init=1, solver=lbfgs \n",
      "[CV]  alpha=1, hidden_layer_sizes=(100, 100, 100), learning_rate_init=1, solver=lbfgs, score=0.513, total=   0.3s\n",
      "[CV] alpha=1, hidden_layer_sizes=(100, 100, 100), learning_rate_init=1, solver=lbfgs \n",
      "[CV]  alpha=1, hidden_layer_sizes=(100, 100, 100), learning_rate_init=1, solver=lbfgs, score=0.769, total=   1.1s\n",
      "[CV] alpha=1, hidden_layer_sizes=(100, 100, 100), learning_rate_init=1, solver=lbfgs \n",
      "[CV]  alpha=1, hidden_layer_sizes=(100, 100, 100), learning_rate_init=1, solver=lbfgs, score=0.868, total=   1.0s\n",
      "[CV] alpha=1, hidden_layer_sizes=(100, 100, 100), learning_rate_init=1, solver=lbfgs \n",
      "[CV]  alpha=1, hidden_layer_sizes=(100, 100, 100), learning_rate_init=1, solver=lbfgs, score=0.526, total=   0.5s\n",
      "[CV] alpha=1, hidden_layer_sizes=(100, 100, 100), learning_rate_init=1, solver=sgd \n",
      "[CV]  alpha=1, hidden_layer_sizes=(100, 100, 100), learning_rate_init=1, solver=sgd, score=0.513, total=   0.1s\n",
      "[CV] alpha=1, hidden_layer_sizes=(100, 100, 100), learning_rate_init=1, solver=sgd \n",
      "[CV]  alpha=1, hidden_layer_sizes=(100, 100, 100), learning_rate_init=1, solver=sgd, score=0.513, total=   0.1s\n",
      "[CV] alpha=1, hidden_layer_sizes=(100, 100, 100), learning_rate_init=1, solver=sgd \n",
      "[CV]  alpha=1, hidden_layer_sizes=(100, 100, 100), learning_rate_init=1, solver=sgd, score=0.538, total=   0.0s\n",
      "[CV] alpha=1, hidden_layer_sizes=(100, 100, 100), learning_rate_init=1, solver=sgd \n",
      "[CV]  alpha=1, hidden_layer_sizes=(100, 100, 100), learning_rate_init=1, solver=sgd, score=0.474, total=   0.1s\n",
      "[CV] alpha=1, hidden_layer_sizes=(100, 100, 100), learning_rate_init=1, solver=sgd \n",
      "[CV]  alpha=1, hidden_layer_sizes=(100, 100, 100), learning_rate_init=1, solver=sgd, score=0.526, total=   0.1s\n",
      "[CV] alpha=1, hidden_layer_sizes=(100, 100, 100), learning_rate_init=1, solver=adam \n",
      "[CV]  alpha=1, hidden_layer_sizes=(100, 100, 100), learning_rate_init=1, solver=adam, score=0.487, total=   0.0s\n",
      "[CV] alpha=1, hidden_layer_sizes=(100, 100, 100), learning_rate_init=1, solver=adam \n",
      "[CV]  alpha=1, hidden_layer_sizes=(100, 100, 100), learning_rate_init=1, solver=adam, score=0.513, total=   0.0s\n",
      "[CV] alpha=1, hidden_layer_sizes=(100, 100, 100), learning_rate_init=1, solver=adam \n",
      "[CV]  alpha=1, hidden_layer_sizes=(100, 100, 100), learning_rate_init=1, solver=adam, score=0.564, total=   0.0s\n",
      "[CV] alpha=1, hidden_layer_sizes=(100, 100, 100), learning_rate_init=1, solver=adam \n",
      "[CV]  alpha=1, hidden_layer_sizes=(100, 100, 100), learning_rate_init=1, solver=adam, score=0.579, total=   0.0s\n",
      "[CV] alpha=1, hidden_layer_sizes=(100, 100, 100), learning_rate_init=1, solver=adam \n",
      "[CV]  alpha=1, hidden_layer_sizes=(100, 100, 100), learning_rate_init=1, solver=adam, score=0.737, total=   0.0s\n",
      "[CV] alpha=10, hidden_layer_sizes=(100,), learning_rate_init=0.0001, solver=lbfgs \n",
      "[CV]  alpha=10, hidden_layer_sizes=(100,), learning_rate_init=0.0001, solver=lbfgs, score=0.513, total=   0.2s\n",
      "[CV] alpha=10, hidden_layer_sizes=(100,), learning_rate_init=0.0001, solver=lbfgs \n",
      "[CV]  alpha=10, hidden_layer_sizes=(100,), learning_rate_init=0.0001, solver=lbfgs, score=0.513, total=   0.3s\n",
      "[CV] alpha=10, hidden_layer_sizes=(100,), learning_rate_init=0.0001, solver=lbfgs \n",
      "[CV]  alpha=10, hidden_layer_sizes=(100,), learning_rate_init=0.0001, solver=lbfgs, score=0.538, total=   0.3s\n",
      "[CV] alpha=10, hidden_layer_sizes=(100,), learning_rate_init=0.0001, solver=lbfgs \n",
      "[CV]  alpha=10, hidden_layer_sizes=(100,), learning_rate_init=0.0001, solver=lbfgs, score=0.526, total=   0.1s\n",
      "[CV] alpha=10, hidden_layer_sizes=(100,), learning_rate_init=0.0001, solver=lbfgs \n",
      "[CV]  alpha=10, hidden_layer_sizes=(100,), learning_rate_init=0.0001, solver=lbfgs, score=0.526, total=   0.3s\n",
      "[CV] alpha=10, hidden_layer_sizes=(100,), learning_rate_init=0.0001, solver=sgd \n"
     ]
    },
    {
     "name": "stderr",
     "output_type": "stream",
     "text": [
      "/Users/kbgazzaz/opt/anaconda3/lib/python3.8/site-packages/sklearn/neural_network/_multilayer_perceptron.py:582: ConvergenceWarning:\n",
      "\n",
      "Stochastic Optimizer: Maximum iterations (2000) reached and the optimization hasn't converged yet.\n",
      "\n"
     ]
    },
    {
     "name": "stdout",
     "output_type": "stream",
     "text": [
      "[CV]  alpha=10, hidden_layer_sizes=(100,), learning_rate_init=0.0001, solver=sgd, score=0.564, total=   3.1s\n",
      "[CV] alpha=10, hidden_layer_sizes=(100,), learning_rate_init=0.0001, solver=sgd \n"
     ]
    },
    {
     "name": "stderr",
     "output_type": "stream",
     "text": [
      "/Users/kbgazzaz/opt/anaconda3/lib/python3.8/site-packages/sklearn/neural_network/_multilayer_perceptron.py:582: ConvergenceWarning:\n",
      "\n",
      "Stochastic Optimizer: Maximum iterations (2000) reached and the optimization hasn't converged yet.\n",
      "\n"
     ]
    },
    {
     "name": "stdout",
     "output_type": "stream",
     "text": [
      "[CV]  alpha=10, hidden_layer_sizes=(100,), learning_rate_init=0.0001, solver=sgd, score=0.513, total=   2.9s\n",
      "[CV] alpha=10, hidden_layer_sizes=(100,), learning_rate_init=0.0001, solver=sgd \n"
     ]
    },
    {
     "name": "stderr",
     "output_type": "stream",
     "text": [
      "/Users/kbgazzaz/opt/anaconda3/lib/python3.8/site-packages/sklearn/neural_network/_multilayer_perceptron.py:582: ConvergenceWarning:\n",
      "\n",
      "Stochastic Optimizer: Maximum iterations (2000) reached and the optimization hasn't converged yet.\n",
      "\n"
     ]
    },
    {
     "name": "stdout",
     "output_type": "stream",
     "text": [
      "[CV]  alpha=10, hidden_layer_sizes=(100,), learning_rate_init=0.0001, solver=sgd, score=0.436, total=   3.0s\n",
      "[CV] alpha=10, hidden_layer_sizes=(100,), learning_rate_init=0.0001, solver=sgd \n"
     ]
    },
    {
     "name": "stderr",
     "output_type": "stream",
     "text": [
      "/Users/kbgazzaz/opt/anaconda3/lib/python3.8/site-packages/sklearn/neural_network/_multilayer_perceptron.py:582: ConvergenceWarning:\n",
      "\n",
      "Stochastic Optimizer: Maximum iterations (2000) reached and the optimization hasn't converged yet.\n",
      "\n"
     ]
    },
    {
     "name": "stdout",
     "output_type": "stream",
     "text": [
      "[CV]  alpha=10, hidden_layer_sizes=(100,), learning_rate_init=0.0001, solver=sgd, score=0.526, total=   2.9s\n",
      "[CV] alpha=10, hidden_layer_sizes=(100,), learning_rate_init=0.0001, solver=sgd \n"
     ]
    },
    {
     "name": "stderr",
     "output_type": "stream",
     "text": [
      "/Users/kbgazzaz/opt/anaconda3/lib/python3.8/site-packages/sklearn/neural_network/_multilayer_perceptron.py:582: ConvergenceWarning:\n",
      "\n",
      "Stochastic Optimizer: Maximum iterations (2000) reached and the optimization hasn't converged yet.\n",
      "\n"
     ]
    },
    {
     "name": "stdout",
     "output_type": "stream",
     "text": [
      "[CV]  alpha=10, hidden_layer_sizes=(100,), learning_rate_init=0.0001, solver=sgd, score=0.763, total=   3.0s\n",
      "[CV] alpha=10, hidden_layer_sizes=(100,), learning_rate_init=0.0001, solver=adam \n",
      "[CV]  alpha=10, hidden_layer_sizes=(100,), learning_rate_init=0.0001, solver=adam, score=0.538, total=   2.0s\n",
      "[CV] alpha=10, hidden_layer_sizes=(100,), learning_rate_init=0.0001, solver=adam \n",
      "[CV]  alpha=10, hidden_layer_sizes=(100,), learning_rate_init=0.0001, solver=adam, score=0.590, total=   2.0s\n",
      "[CV] alpha=10, hidden_layer_sizes=(100,), learning_rate_init=0.0001, solver=adam \n",
      "[CV]  alpha=10, hidden_layer_sizes=(100,), learning_rate_init=0.0001, solver=adam, score=0.615, total=   2.0s\n",
      "[CV] alpha=10, hidden_layer_sizes=(100,), learning_rate_init=0.0001, solver=adam \n",
      "[CV]  alpha=10, hidden_layer_sizes=(100,), learning_rate_init=0.0001, solver=adam, score=0.526, total=   2.0s\n",
      "[CV] alpha=10, hidden_layer_sizes=(100,), learning_rate_init=0.0001, solver=adam \n",
      "[CV]  alpha=10, hidden_layer_sizes=(100,), learning_rate_init=0.0001, solver=adam, score=0.632, total=   2.0s\n",
      "[CV] alpha=10, hidden_layer_sizes=(100,), learning_rate_init=0.001, solver=lbfgs \n",
      "[CV]  alpha=10, hidden_layer_sizes=(100,), learning_rate_init=0.001, solver=lbfgs, score=0.513, total=   0.3s\n",
      "[CV] alpha=10, hidden_layer_sizes=(100,), learning_rate_init=0.001, solver=lbfgs \n",
      "[CV]  alpha=10, hidden_layer_sizes=(100,), learning_rate_init=0.001, solver=lbfgs, score=0.513, total=   0.2s\n",
      "[CV] alpha=10, hidden_layer_sizes=(100,), learning_rate_init=0.001, solver=lbfgs \n",
      "[CV]  alpha=10, hidden_layer_sizes=(100,), learning_rate_init=0.001, solver=lbfgs, score=0.538, total=   0.3s\n",
      "[CV] alpha=10, hidden_layer_sizes=(100,), learning_rate_init=0.001, solver=lbfgs \n",
      "[CV]  alpha=10, hidden_layer_sizes=(100,), learning_rate_init=0.001, solver=lbfgs, score=0.526, total=   0.3s\n",
      "[CV] alpha=10, hidden_layer_sizes=(100,), learning_rate_init=0.001, solver=lbfgs \n",
      "[CV]  alpha=10, hidden_layer_sizes=(100,), learning_rate_init=0.001, solver=lbfgs, score=0.526, total=   0.1s\n",
      "[CV] alpha=10, hidden_layer_sizes=(100,), learning_rate_init=0.001, solver=sgd \n"
     ]
    },
    {
     "name": "stderr",
     "output_type": "stream",
     "text": [
      "/Users/kbgazzaz/opt/anaconda3/lib/python3.8/site-packages/sklearn/neural_network/_multilayer_perceptron.py:582: ConvergenceWarning:\n",
      "\n",
      "Stochastic Optimizer: Maximum iterations (2000) reached and the optimization hasn't converged yet.\n",
      "\n"
     ]
    },
    {
     "name": "stdout",
     "output_type": "stream",
     "text": [
      "[CV]  alpha=10, hidden_layer_sizes=(100,), learning_rate_init=0.001, solver=sgd, score=0.513, total=   2.9s\n",
      "[CV] alpha=10, hidden_layer_sizes=(100,), learning_rate_init=0.001, solver=sgd \n"
     ]
    },
    {
     "name": "stderr",
     "output_type": "stream",
     "text": [
      "/Users/kbgazzaz/opt/anaconda3/lib/python3.8/site-packages/sklearn/neural_network/_multilayer_perceptron.py:582: ConvergenceWarning:\n",
      "\n",
      "Stochastic Optimizer: Maximum iterations (2000) reached and the optimization hasn't converged yet.\n",
      "\n"
     ]
    },
    {
     "name": "stdout",
     "output_type": "stream",
     "text": [
      "[CV]  alpha=10, hidden_layer_sizes=(100,), learning_rate_init=0.001, solver=sgd, score=0.513, total=   2.9s\n",
      "[CV] alpha=10, hidden_layer_sizes=(100,), learning_rate_init=0.001, solver=sgd \n"
     ]
    },
    {
     "name": "stderr",
     "output_type": "stream",
     "text": [
      "/Users/kbgazzaz/opt/anaconda3/lib/python3.8/site-packages/sklearn/neural_network/_multilayer_perceptron.py:582: ConvergenceWarning:\n",
      "\n",
      "Stochastic Optimizer: Maximum iterations (2000) reached and the optimization hasn't converged yet.\n",
      "\n"
     ]
    },
    {
     "name": "stdout",
     "output_type": "stream",
     "text": [
      "[CV]  alpha=10, hidden_layer_sizes=(100,), learning_rate_init=0.001, solver=sgd, score=0.538, total=   2.9s\n",
      "[CV] alpha=10, hidden_layer_sizes=(100,), learning_rate_init=0.001, solver=sgd \n"
     ]
    },
    {
     "name": "stderr",
     "output_type": "stream",
     "text": [
      "/Users/kbgazzaz/opt/anaconda3/lib/python3.8/site-packages/sklearn/neural_network/_multilayer_perceptron.py:582: ConvergenceWarning:\n",
      "\n",
      "Stochastic Optimizer: Maximum iterations (2000) reached and the optimization hasn't converged yet.\n",
      "\n"
     ]
    },
    {
     "name": "stdout",
     "output_type": "stream",
     "text": [
      "[CV]  alpha=10, hidden_layer_sizes=(100,), learning_rate_init=0.001, solver=sgd, score=0.553, total=   2.9s\n",
      "[CV] alpha=10, hidden_layer_sizes=(100,), learning_rate_init=0.001, solver=sgd \n"
     ]
    },
    {
     "name": "stderr",
     "output_type": "stream",
     "text": [
      "/Users/kbgazzaz/opt/anaconda3/lib/python3.8/site-packages/sklearn/neural_network/_multilayer_perceptron.py:582: ConvergenceWarning:\n",
      "\n",
      "Stochastic Optimizer: Maximum iterations (2000) reached and the optimization hasn't converged yet.\n",
      "\n"
     ]
    },
    {
     "name": "stdout",
     "output_type": "stream",
     "text": [
      "[CV]  alpha=10, hidden_layer_sizes=(100,), learning_rate_init=0.001, solver=sgd, score=0.526, total=   2.9s\n",
      "[CV] alpha=10, hidden_layer_sizes=(100,), learning_rate_init=0.001, solver=adam \n",
      "[CV]  alpha=10, hidden_layer_sizes=(100,), learning_rate_init=0.001, solver=adam, score=0.538, total=   0.3s\n",
      "[CV] alpha=10, hidden_layer_sizes=(100,), learning_rate_init=0.001, solver=adam \n",
      "[CV]  alpha=10, hidden_layer_sizes=(100,), learning_rate_init=0.001, solver=adam, score=0.513, total=   0.3s\n",
      "[CV] alpha=10, hidden_layer_sizes=(100,), learning_rate_init=0.001, solver=adam \n",
      "[CV]  alpha=10, hidden_layer_sizes=(100,), learning_rate_init=0.001, solver=adam, score=0.590, total=   0.3s\n",
      "[CV] alpha=10, hidden_layer_sizes=(100,), learning_rate_init=0.001, solver=adam \n",
      "[CV]  alpha=10, hidden_layer_sizes=(100,), learning_rate_init=0.001, solver=adam, score=0.605, total=   0.3s\n",
      "[CV] alpha=10, hidden_layer_sizes=(100,), learning_rate_init=0.001, solver=adam \n",
      "[CV]  alpha=10, hidden_layer_sizes=(100,), learning_rate_init=0.001, solver=adam, score=0.605, total=   0.3s\n",
      "[CV] alpha=10, hidden_layer_sizes=(100,), learning_rate_init=0.01, solver=lbfgs \n",
      "[CV]  alpha=10, hidden_layer_sizes=(100,), learning_rate_init=0.01, solver=lbfgs, score=0.513, total=   0.3s\n",
      "[CV] alpha=10, hidden_layer_sizes=(100,), learning_rate_init=0.01, solver=lbfgs \n",
      "[CV]  alpha=10, hidden_layer_sizes=(100,), learning_rate_init=0.01, solver=lbfgs, score=0.513, total=   0.3s\n",
      "[CV] alpha=10, hidden_layer_sizes=(100,), learning_rate_init=0.01, solver=lbfgs \n",
      "[CV]  alpha=10, hidden_layer_sizes=(100,), learning_rate_init=0.01, solver=lbfgs, score=0.538, total=   0.2s\n",
      "[CV] alpha=10, hidden_layer_sizes=(100,), learning_rate_init=0.01, solver=lbfgs \n",
      "[CV]  alpha=10, hidden_layer_sizes=(100,), learning_rate_init=0.01, solver=lbfgs, score=0.526, total=   0.3s\n",
      "[CV] alpha=10, hidden_layer_sizes=(100,), learning_rate_init=0.01, solver=lbfgs \n",
      "[CV]  alpha=10, hidden_layer_sizes=(100,), learning_rate_init=0.01, solver=lbfgs, score=0.526, total=   0.3s\n",
      "[CV] alpha=10, hidden_layer_sizes=(100,), learning_rate_init=0.01, solver=sgd \n",
      "[CV]  alpha=10, hidden_layer_sizes=(100,), learning_rate_init=0.01, solver=sgd, score=0.513, total=   0.7s\n",
      "[CV] alpha=10, hidden_layer_sizes=(100,), learning_rate_init=0.01, solver=sgd \n",
      "[CV]  alpha=10, hidden_layer_sizes=(100,), learning_rate_init=0.01, solver=sgd, score=0.513, total=   0.7s\n",
      "[CV] alpha=10, hidden_layer_sizes=(100,), learning_rate_init=0.01, solver=sgd \n",
      "[CV]  alpha=10, hidden_layer_sizes=(100,), learning_rate_init=0.01, solver=sgd, score=0.538, total=   0.7s\n",
      "[CV] alpha=10, hidden_layer_sizes=(100,), learning_rate_init=0.01, solver=sgd \n",
      "[CV]  alpha=10, hidden_layer_sizes=(100,), learning_rate_init=0.01, solver=sgd, score=0.526, total=   0.7s\n",
      "[CV] alpha=10, hidden_layer_sizes=(100,), learning_rate_init=0.01, solver=sgd \n",
      "[CV]  alpha=10, hidden_layer_sizes=(100,), learning_rate_init=0.01, solver=sgd, score=0.526, total=   0.7s\n",
      "[CV] alpha=10, hidden_layer_sizes=(100,), learning_rate_init=0.01, solver=adam \n",
      "[CV]  alpha=10, hidden_layer_sizes=(100,), learning_rate_init=0.01, solver=adam, score=0.513, total=   0.0s\n",
      "[CV] alpha=10, hidden_layer_sizes=(100,), learning_rate_init=0.01, solver=adam \n",
      "[CV]  alpha=10, hidden_layer_sizes=(100,), learning_rate_init=0.01, solver=adam, score=0.513, total=   0.0s\n",
      "[CV] alpha=10, hidden_layer_sizes=(100,), learning_rate_init=0.01, solver=adam \n",
      "[CV]  alpha=10, hidden_layer_sizes=(100,), learning_rate_init=0.01, solver=adam, score=0.564, total=   0.0s\n",
      "[CV] alpha=10, hidden_layer_sizes=(100,), learning_rate_init=0.01, solver=adam \n",
      "[CV]  alpha=10, hidden_layer_sizes=(100,), learning_rate_init=0.01, solver=adam, score=0.526, total=   0.0s\n",
      "[CV] alpha=10, hidden_layer_sizes=(100,), learning_rate_init=0.01, solver=adam \n",
      "[CV]  alpha=10, hidden_layer_sizes=(100,), learning_rate_init=0.01, solver=adam, score=0.553, total=   0.0s\n",
      "[CV] alpha=10, hidden_layer_sizes=(100,), learning_rate_init=0.1, solver=lbfgs \n",
      "[CV]  alpha=10, hidden_layer_sizes=(100,), learning_rate_init=0.1, solver=lbfgs, score=0.513, total=   0.2s\n",
      "[CV] alpha=10, hidden_layer_sizes=(100,), learning_rate_init=0.1, solver=lbfgs \n",
      "[CV]  alpha=10, hidden_layer_sizes=(100,), learning_rate_init=0.1, solver=lbfgs, score=0.513, total=   0.3s\n",
      "[CV] alpha=10, hidden_layer_sizes=(100,), learning_rate_init=0.1, solver=lbfgs \n",
      "[CV]  alpha=10, hidden_layer_sizes=(100,), learning_rate_init=0.1, solver=lbfgs, score=0.538, total=   0.3s\n",
      "[CV] alpha=10, hidden_layer_sizes=(100,), learning_rate_init=0.1, solver=lbfgs \n",
      "[CV]  alpha=10, hidden_layer_sizes=(100,), learning_rate_init=0.1, solver=lbfgs, score=0.526, total=   0.2s\n",
      "[CV] alpha=10, hidden_layer_sizes=(100,), learning_rate_init=0.1, solver=lbfgs \n",
      "[CV]  alpha=10, hidden_layer_sizes=(100,), learning_rate_init=0.1, solver=lbfgs, score=0.526, total=   0.3s\n",
      "[CV] alpha=10, hidden_layer_sizes=(100,), learning_rate_init=0.1, solver=sgd \n",
      "[CV]  alpha=10, hidden_layer_sizes=(100,), learning_rate_init=0.1, solver=sgd, score=0.513, total=   0.1s\n",
      "[CV] alpha=10, hidden_layer_sizes=(100,), learning_rate_init=0.1, solver=sgd \n",
      "[CV]  alpha=10, hidden_layer_sizes=(100,), learning_rate_init=0.1, solver=sgd, score=0.513, total=   0.1s\n",
      "[CV] alpha=10, hidden_layer_sizes=(100,), learning_rate_init=0.1, solver=sgd \n",
      "[CV]  alpha=10, hidden_layer_sizes=(100,), learning_rate_init=0.1, solver=sgd, score=0.538, total=   0.1s\n",
      "[CV] alpha=10, hidden_layer_sizes=(100,), learning_rate_init=0.1, solver=sgd \n",
      "[CV]  alpha=10, hidden_layer_sizes=(100,), learning_rate_init=0.1, solver=sgd, score=0.526, total=   0.1s\n",
      "[CV] alpha=10, hidden_layer_sizes=(100,), learning_rate_init=0.1, solver=sgd \n",
      "[CV]  alpha=10, hidden_layer_sizes=(100,), learning_rate_init=0.1, solver=sgd, score=0.526, total=   0.1s\n",
      "[CV] alpha=10, hidden_layer_sizes=(100,), learning_rate_init=0.1, solver=adam \n",
      "[CV]  alpha=10, hidden_layer_sizes=(100,), learning_rate_init=0.1, solver=adam, score=0.513, total=   0.2s\n",
      "[CV] alpha=10, hidden_layer_sizes=(100,), learning_rate_init=0.1, solver=adam \n",
      "[CV]  alpha=10, hidden_layer_sizes=(100,), learning_rate_init=0.1, solver=adam, score=0.513, total=   0.2s\n",
      "[CV] alpha=10, hidden_layer_sizes=(100,), learning_rate_init=0.1, solver=adam \n",
      "[CV]  alpha=10, hidden_layer_sizes=(100,), learning_rate_init=0.1, solver=adam, score=0.538, total=   0.2s\n",
      "[CV] alpha=10, hidden_layer_sizes=(100,), learning_rate_init=0.1, solver=adam \n",
      "[CV]  alpha=10, hidden_layer_sizes=(100,), learning_rate_init=0.1, solver=adam, score=0.526, total=   0.2s\n",
      "[CV] alpha=10, hidden_layer_sizes=(100,), learning_rate_init=0.1, solver=adam \n",
      "[CV]  alpha=10, hidden_layer_sizes=(100,), learning_rate_init=0.1, solver=adam, score=0.526, total=   0.2s\n",
      "[CV] alpha=10, hidden_layer_sizes=(100,), learning_rate_init=1, solver=lbfgs \n",
      "[CV]  alpha=10, hidden_layer_sizes=(100,), learning_rate_init=1, solver=lbfgs, score=0.513, total=   0.4s\n",
      "[CV] alpha=10, hidden_layer_sizes=(100,), learning_rate_init=1, solver=lbfgs \n",
      "[CV]  alpha=10, hidden_layer_sizes=(100,), learning_rate_init=1, solver=lbfgs, score=0.513, total=   0.2s\n",
      "[CV] alpha=10, hidden_layer_sizes=(100,), learning_rate_init=1, solver=lbfgs \n",
      "[CV]  alpha=10, hidden_layer_sizes=(100,), learning_rate_init=1, solver=lbfgs, score=0.538, total=   0.3s\n",
      "[CV] alpha=10, hidden_layer_sizes=(100,), learning_rate_init=1, solver=lbfgs \n",
      "[CV]  alpha=10, hidden_layer_sizes=(100,), learning_rate_init=1, solver=lbfgs, score=0.526, total=   0.3s\n",
      "[CV] alpha=10, hidden_layer_sizes=(100,), learning_rate_init=1, solver=lbfgs \n",
      "[CV]  alpha=10, hidden_layer_sizes=(100,), learning_rate_init=1, solver=lbfgs, score=0.526, total=   0.2s\n",
      "[CV] alpha=10, hidden_layer_sizes=(100,), learning_rate_init=1, solver=sgd \n",
      "[CV]  alpha=10, hidden_layer_sizes=(100,), learning_rate_init=1, solver=sgd, score=0.513, total=   0.0s\n",
      "[CV] alpha=10, hidden_layer_sizes=(100,), learning_rate_init=1, solver=sgd \n",
      "[CV]  alpha=10, hidden_layer_sizes=(100,), learning_rate_init=1, solver=sgd, score=0.513, total=   0.0s\n",
      "[CV] alpha=10, hidden_layer_sizes=(100,), learning_rate_init=1, solver=sgd \n",
      "[CV]  alpha=10, hidden_layer_sizes=(100,), learning_rate_init=1, solver=sgd, score=0.538, total=   0.0s\n",
      "[CV] alpha=10, hidden_layer_sizes=(100,), learning_rate_init=1, solver=sgd \n",
      "[CV]  alpha=10, hidden_layer_sizes=(100,), learning_rate_init=1, solver=sgd, score=0.526, total=   0.0s\n",
      "[CV] alpha=10, hidden_layer_sizes=(100,), learning_rate_init=1, solver=sgd \n",
      "[CV]  alpha=10, hidden_layer_sizes=(100,), learning_rate_init=1, solver=sgd, score=0.526, total=   0.0s\n",
      "[CV] alpha=10, hidden_layer_sizes=(100,), learning_rate_init=1, solver=adam \n",
      "[CV]  alpha=10, hidden_layer_sizes=(100,), learning_rate_init=1, solver=adam, score=0.641, total=   0.0s\n",
      "[CV] alpha=10, hidden_layer_sizes=(100,), learning_rate_init=1, solver=adam \n",
      "[CV]  alpha=10, hidden_layer_sizes=(100,), learning_rate_init=1, solver=adam, score=0.795, total=   0.0s\n",
      "[CV] alpha=10, hidden_layer_sizes=(100,), learning_rate_init=1, solver=adam \n",
      "[CV]  alpha=10, hidden_layer_sizes=(100,), learning_rate_init=1, solver=adam, score=0.615, total=   0.0s\n",
      "[CV] alpha=10, hidden_layer_sizes=(100,), learning_rate_init=1, solver=adam \n"
     ]
    },
    {
     "name": "stdout",
     "output_type": "stream",
     "text": [
      "[CV]  alpha=10, hidden_layer_sizes=(100,), learning_rate_init=1, solver=adam, score=0.632, total=   0.0s\n",
      "[CV] alpha=10, hidden_layer_sizes=(100,), learning_rate_init=1, solver=adam \n",
      "[CV]  alpha=10, hidden_layer_sizes=(100,), learning_rate_init=1, solver=adam, score=0.474, total=   0.0s\n",
      "[CV] alpha=10, hidden_layer_sizes=(100, 100), learning_rate_init=0.0001, solver=lbfgs \n",
      "[CV]  alpha=10, hidden_layer_sizes=(100, 100), learning_rate_init=0.0001, solver=lbfgs, score=0.513, total=   0.3s\n",
      "[CV] alpha=10, hidden_layer_sizes=(100, 100), learning_rate_init=0.0001, solver=lbfgs \n",
      "[CV]  alpha=10, hidden_layer_sizes=(100, 100), learning_rate_init=0.0001, solver=lbfgs, score=0.513, total=   0.3s\n",
      "[CV] alpha=10, hidden_layer_sizes=(100, 100), learning_rate_init=0.0001, solver=lbfgs \n",
      "[CV]  alpha=10, hidden_layer_sizes=(100, 100), learning_rate_init=0.0001, solver=lbfgs, score=0.538, total=   0.3s\n",
      "[CV] alpha=10, hidden_layer_sizes=(100, 100), learning_rate_init=0.0001, solver=lbfgs \n",
      "[CV]  alpha=10, hidden_layer_sizes=(100, 100), learning_rate_init=0.0001, solver=lbfgs, score=0.526, total=   0.2s\n",
      "[CV] alpha=10, hidden_layer_sizes=(100, 100), learning_rate_init=0.0001, solver=lbfgs \n",
      "[CV]  alpha=10, hidden_layer_sizes=(100, 100), learning_rate_init=0.0001, solver=lbfgs, score=0.526, total=   0.3s\n",
      "[CV] alpha=10, hidden_layer_sizes=(100, 100), learning_rate_init=0.0001, solver=sgd \n"
     ]
    },
    {
     "name": "stderr",
     "output_type": "stream",
     "text": [
      "/Users/kbgazzaz/opt/anaconda3/lib/python3.8/site-packages/sklearn/neural_network/_multilayer_perceptron.py:582: ConvergenceWarning:\n",
      "\n",
      "Stochastic Optimizer: Maximum iterations (2000) reached and the optimization hasn't converged yet.\n",
      "\n"
     ]
    },
    {
     "name": "stdout",
     "output_type": "stream",
     "text": [
      "[CV]  alpha=10, hidden_layer_sizes=(100, 100), learning_rate_init=0.0001, solver=sgd, score=0.513, total=   3.8s\n",
      "[CV] alpha=10, hidden_layer_sizes=(100, 100), learning_rate_init=0.0001, solver=sgd \n"
     ]
    },
    {
     "name": "stderr",
     "output_type": "stream",
     "text": [
      "/Users/kbgazzaz/opt/anaconda3/lib/python3.8/site-packages/sklearn/neural_network/_multilayer_perceptron.py:582: ConvergenceWarning:\n",
      "\n",
      "Stochastic Optimizer: Maximum iterations (2000) reached and the optimization hasn't converged yet.\n",
      "\n"
     ]
    },
    {
     "name": "stdout",
     "output_type": "stream",
     "text": [
      "[CV]  alpha=10, hidden_layer_sizes=(100, 100), learning_rate_init=0.0001, solver=sgd, score=0.513, total=   3.8s\n",
      "[CV] alpha=10, hidden_layer_sizes=(100, 100), learning_rate_init=0.0001, solver=sgd \n"
     ]
    },
    {
     "name": "stderr",
     "output_type": "stream",
     "text": [
      "/Users/kbgazzaz/opt/anaconda3/lib/python3.8/site-packages/sklearn/neural_network/_multilayer_perceptron.py:582: ConvergenceWarning:\n",
      "\n",
      "Stochastic Optimizer: Maximum iterations (2000) reached and the optimization hasn't converged yet.\n",
      "\n"
     ]
    },
    {
     "name": "stdout",
     "output_type": "stream",
     "text": [
      "[CV]  alpha=10, hidden_layer_sizes=(100, 100), learning_rate_init=0.0001, solver=sgd, score=0.513, total=   3.8s\n",
      "[CV] alpha=10, hidden_layer_sizes=(100, 100), learning_rate_init=0.0001, solver=sgd \n"
     ]
    },
    {
     "name": "stderr",
     "output_type": "stream",
     "text": [
      "/Users/kbgazzaz/opt/anaconda3/lib/python3.8/site-packages/sklearn/neural_network/_multilayer_perceptron.py:582: ConvergenceWarning:\n",
      "\n",
      "Stochastic Optimizer: Maximum iterations (2000) reached and the optimization hasn't converged yet.\n",
      "\n"
     ]
    },
    {
     "name": "stdout",
     "output_type": "stream",
     "text": [
      "[CV]  alpha=10, hidden_layer_sizes=(100, 100), learning_rate_init=0.0001, solver=sgd, score=0.526, total=   3.8s\n",
      "[CV] alpha=10, hidden_layer_sizes=(100, 100), learning_rate_init=0.0001, solver=sgd \n"
     ]
    },
    {
     "name": "stderr",
     "output_type": "stream",
     "text": [
      "/Users/kbgazzaz/opt/anaconda3/lib/python3.8/site-packages/sklearn/neural_network/_multilayer_perceptron.py:582: ConvergenceWarning:\n",
      "\n",
      "Stochastic Optimizer: Maximum iterations (2000) reached and the optimization hasn't converged yet.\n",
      "\n"
     ]
    },
    {
     "name": "stdout",
     "output_type": "stream",
     "text": [
      "[CV]  alpha=10, hidden_layer_sizes=(100, 100), learning_rate_init=0.0001, solver=sgd, score=0.526, total=   3.9s\n",
      "[CV] alpha=10, hidden_layer_sizes=(100, 100), learning_rate_init=0.0001, solver=adam \n"
     ]
    },
    {
     "name": "stderr",
     "output_type": "stream",
     "text": [
      "/Users/kbgazzaz/opt/anaconda3/lib/python3.8/site-packages/sklearn/neural_network/_multilayer_perceptron.py:582: ConvergenceWarning:\n",
      "\n",
      "Stochastic Optimizer: Maximum iterations (2000) reached and the optimization hasn't converged yet.\n",
      "\n"
     ]
    },
    {
     "name": "stdout",
     "output_type": "stream",
     "text": [
      "[CV]  alpha=10, hidden_layer_sizes=(100, 100), learning_rate_init=0.0001, solver=adam, score=0.513, total=   4.5s\n",
      "[CV] alpha=10, hidden_layer_sizes=(100, 100), learning_rate_init=0.0001, solver=adam \n"
     ]
    },
    {
     "name": "stderr",
     "output_type": "stream",
     "text": [
      "/Users/kbgazzaz/opt/anaconda3/lib/python3.8/site-packages/sklearn/neural_network/_multilayer_perceptron.py:582: ConvergenceWarning:\n",
      "\n",
      "Stochastic Optimizer: Maximum iterations (2000) reached and the optimization hasn't converged yet.\n",
      "\n"
     ]
    },
    {
     "name": "stdout",
     "output_type": "stream",
     "text": [
      "[CV]  alpha=10, hidden_layer_sizes=(100, 100), learning_rate_init=0.0001, solver=adam, score=0.513, total=   4.6s\n",
      "[CV] alpha=10, hidden_layer_sizes=(100, 100), learning_rate_init=0.0001, solver=adam \n"
     ]
    },
    {
     "name": "stderr",
     "output_type": "stream",
     "text": [
      "/Users/kbgazzaz/opt/anaconda3/lib/python3.8/site-packages/sklearn/neural_network/_multilayer_perceptron.py:582: ConvergenceWarning:\n",
      "\n",
      "Stochastic Optimizer: Maximum iterations (2000) reached and the optimization hasn't converged yet.\n",
      "\n"
     ]
    },
    {
     "name": "stdout",
     "output_type": "stream",
     "text": [
      "[CV]  alpha=10, hidden_layer_sizes=(100, 100), learning_rate_init=0.0001, solver=adam, score=0.538, total=   4.6s\n",
      "[CV] alpha=10, hidden_layer_sizes=(100, 100), learning_rate_init=0.0001, solver=adam \n"
     ]
    },
    {
     "name": "stderr",
     "output_type": "stream",
     "text": [
      "/Users/kbgazzaz/opt/anaconda3/lib/python3.8/site-packages/sklearn/neural_network/_multilayer_perceptron.py:582: ConvergenceWarning:\n",
      "\n",
      "Stochastic Optimizer: Maximum iterations (2000) reached and the optimization hasn't converged yet.\n",
      "\n"
     ]
    },
    {
     "name": "stdout",
     "output_type": "stream",
     "text": [
      "[CV]  alpha=10, hidden_layer_sizes=(100, 100), learning_rate_init=0.0001, solver=adam, score=0.526, total=   4.6s\n",
      "[CV] alpha=10, hidden_layer_sizes=(100, 100), learning_rate_init=0.0001, solver=adam \n"
     ]
    },
    {
     "name": "stderr",
     "output_type": "stream",
     "text": [
      "/Users/kbgazzaz/opt/anaconda3/lib/python3.8/site-packages/sklearn/neural_network/_multilayer_perceptron.py:582: ConvergenceWarning:\n",
      "\n",
      "Stochastic Optimizer: Maximum iterations (2000) reached and the optimization hasn't converged yet.\n",
      "\n"
     ]
    },
    {
     "name": "stdout",
     "output_type": "stream",
     "text": [
      "[CV]  alpha=10, hidden_layer_sizes=(100, 100), learning_rate_init=0.0001, solver=adam, score=0.526, total=   4.6s\n",
      "[CV] alpha=10, hidden_layer_sizes=(100, 100), learning_rate_init=0.001, solver=lbfgs \n",
      "[CV]  alpha=10, hidden_layer_sizes=(100, 100), learning_rate_init=0.001, solver=lbfgs, score=0.513, total=   0.3s\n",
      "[CV] alpha=10, hidden_layer_sizes=(100, 100), learning_rate_init=0.001, solver=lbfgs \n",
      "[CV]  alpha=10, hidden_layer_sizes=(100, 100), learning_rate_init=0.001, solver=lbfgs, score=0.513, total=   0.2s\n",
      "[CV] alpha=10, hidden_layer_sizes=(100, 100), learning_rate_init=0.001, solver=lbfgs \n",
      "[CV]  alpha=10, hidden_layer_sizes=(100, 100), learning_rate_init=0.001, solver=lbfgs, score=0.538, total=   0.3s\n",
      "[CV] alpha=10, hidden_layer_sizes=(100, 100), learning_rate_init=0.001, solver=lbfgs \n",
      "[CV]  alpha=10, hidden_layer_sizes=(100, 100), learning_rate_init=0.001, solver=lbfgs, score=0.526, total=   0.3s\n",
      "[CV] alpha=10, hidden_layer_sizes=(100, 100), learning_rate_init=0.001, solver=lbfgs \n",
      "[CV]  alpha=10, hidden_layer_sizes=(100, 100), learning_rate_init=0.001, solver=lbfgs, score=0.526, total=   0.3s\n",
      "[CV] alpha=10, hidden_layer_sizes=(100, 100), learning_rate_init=0.001, solver=sgd \n"
     ]
    },
    {
     "name": "stderr",
     "output_type": "stream",
     "text": [
      "/Users/kbgazzaz/opt/anaconda3/lib/python3.8/site-packages/sklearn/neural_network/_multilayer_perceptron.py:582: ConvergenceWarning:\n",
      "\n",
      "Stochastic Optimizer: Maximum iterations (2000) reached and the optimization hasn't converged yet.\n",
      "\n"
     ]
    },
    {
     "name": "stdout",
     "output_type": "stream",
     "text": [
      "[CV]  alpha=10, hidden_layer_sizes=(100, 100), learning_rate_init=0.001, solver=sgd, score=0.513, total=   3.8s\n",
      "[CV] alpha=10, hidden_layer_sizes=(100, 100), learning_rate_init=0.001, solver=sgd \n"
     ]
    },
    {
     "name": "stderr",
     "output_type": "stream",
     "text": [
      "/Users/kbgazzaz/opt/anaconda3/lib/python3.8/site-packages/sklearn/neural_network/_multilayer_perceptron.py:582: ConvergenceWarning:\n",
      "\n",
      "Stochastic Optimizer: Maximum iterations (2000) reached and the optimization hasn't converged yet.\n",
      "\n"
     ]
    },
    {
     "name": "stdout",
     "output_type": "stream",
     "text": [
      "[CV]  alpha=10, hidden_layer_sizes=(100, 100), learning_rate_init=0.001, solver=sgd, score=0.513, total=   3.9s\n",
      "[CV] alpha=10, hidden_layer_sizes=(100, 100), learning_rate_init=0.001, solver=sgd \n"
     ]
    },
    {
     "name": "stderr",
     "output_type": "stream",
     "text": [
      "/Users/kbgazzaz/opt/anaconda3/lib/python3.8/site-packages/sklearn/neural_network/_multilayer_perceptron.py:582: ConvergenceWarning:\n",
      "\n",
      "Stochastic Optimizer: Maximum iterations (2000) reached and the optimization hasn't converged yet.\n",
      "\n"
     ]
    },
    {
     "name": "stdout",
     "output_type": "stream",
     "text": [
      "[CV]  alpha=10, hidden_layer_sizes=(100, 100), learning_rate_init=0.001, solver=sgd, score=0.538, total=   3.9s\n",
      "[CV] alpha=10, hidden_layer_sizes=(100, 100), learning_rate_init=0.001, solver=sgd \n"
     ]
    },
    {
     "name": "stderr",
     "output_type": "stream",
     "text": [
      "/Users/kbgazzaz/opt/anaconda3/lib/python3.8/site-packages/sklearn/neural_network/_multilayer_perceptron.py:582: ConvergenceWarning:\n",
      "\n",
      "Stochastic Optimizer: Maximum iterations (2000) reached and the optimization hasn't converged yet.\n",
      "\n"
     ]
    },
    {
     "name": "stdout",
     "output_type": "stream",
     "text": [
      "[CV]  alpha=10, hidden_layer_sizes=(100, 100), learning_rate_init=0.001, solver=sgd, score=0.526, total=   3.9s\n",
      "[CV] alpha=10, hidden_layer_sizes=(100, 100), learning_rate_init=0.001, solver=sgd \n"
     ]
    },
    {
     "name": "stderr",
     "output_type": "stream",
     "text": [
      "/Users/kbgazzaz/opt/anaconda3/lib/python3.8/site-packages/sklearn/neural_network/_multilayer_perceptron.py:582: ConvergenceWarning:\n",
      "\n",
      "Stochastic Optimizer: Maximum iterations (2000) reached and the optimization hasn't converged yet.\n",
      "\n"
     ]
    },
    {
     "name": "stdout",
     "output_type": "stream",
     "text": [
      "[CV]  alpha=10, hidden_layer_sizes=(100, 100), learning_rate_init=0.001, solver=sgd, score=0.526, total=   3.9s\n",
      "[CV] alpha=10, hidden_layer_sizes=(100, 100), learning_rate_init=0.001, solver=adam \n",
      "[CV]  alpha=10, hidden_layer_sizes=(100, 100), learning_rate_init=0.001, solver=adam, score=0.513, total=   0.7s\n",
      "[CV] alpha=10, hidden_layer_sizes=(100, 100), learning_rate_init=0.001, solver=adam \n",
      "[CV]  alpha=10, hidden_layer_sizes=(100, 100), learning_rate_init=0.001, solver=adam, score=0.513, total=   0.7s\n",
      "[CV] alpha=10, hidden_layer_sizes=(100, 100), learning_rate_init=0.001, solver=adam \n",
      "[CV]  alpha=10, hidden_layer_sizes=(100, 100), learning_rate_init=0.001, solver=adam, score=0.538, total=   0.7s\n",
      "[CV] alpha=10, hidden_layer_sizes=(100, 100), learning_rate_init=0.001, solver=adam \n",
      "[CV]  alpha=10, hidden_layer_sizes=(100, 100), learning_rate_init=0.001, solver=adam, score=0.526, total=   0.7s\n",
      "[CV] alpha=10, hidden_layer_sizes=(100, 100), learning_rate_init=0.001, solver=adam \n",
      "[CV]  alpha=10, hidden_layer_sizes=(100, 100), learning_rate_init=0.001, solver=adam, score=0.526, total=   0.7s\n",
      "[CV] alpha=10, hidden_layer_sizes=(100, 100), learning_rate_init=0.01, solver=lbfgs \n",
      "[CV]  alpha=10, hidden_layer_sizes=(100, 100), learning_rate_init=0.01, solver=lbfgs, score=0.513, total=   0.2s\n",
      "[CV] alpha=10, hidden_layer_sizes=(100, 100), learning_rate_init=0.01, solver=lbfgs \n",
      "[CV]  alpha=10, hidden_layer_sizes=(100, 100), learning_rate_init=0.01, solver=lbfgs, score=0.513, total=   0.3s\n",
      "[CV] alpha=10, hidden_layer_sizes=(100, 100), learning_rate_init=0.01, solver=lbfgs \n",
      "[CV]  alpha=10, hidden_layer_sizes=(100, 100), learning_rate_init=0.01, solver=lbfgs, score=0.538, total=   0.3s\n",
      "[CV] alpha=10, hidden_layer_sizes=(100, 100), learning_rate_init=0.01, solver=lbfgs \n",
      "[CV]  alpha=10, hidden_layer_sizes=(100, 100), learning_rate_init=0.01, solver=lbfgs, score=0.526, total=   0.2s\n",
      "[CV] alpha=10, hidden_layer_sizes=(100, 100), learning_rate_init=0.01, solver=lbfgs \n",
      "[CV]  alpha=10, hidden_layer_sizes=(100, 100), learning_rate_init=0.01, solver=lbfgs, score=0.526, total=   0.3s\n",
      "[CV] alpha=10, hidden_layer_sizes=(100, 100), learning_rate_init=0.01, solver=sgd \n",
      "[CV]  alpha=10, hidden_layer_sizes=(100, 100), learning_rate_init=0.01, solver=sgd, score=0.513, total=   1.0s\n",
      "[CV] alpha=10, hidden_layer_sizes=(100, 100), learning_rate_init=0.01, solver=sgd \n",
      "[CV]  alpha=10, hidden_layer_sizes=(100, 100), learning_rate_init=0.01, solver=sgd, score=0.513, total=   1.0s\n",
      "[CV] alpha=10, hidden_layer_sizes=(100, 100), learning_rate_init=0.01, solver=sgd \n",
      "[CV]  alpha=10, hidden_layer_sizes=(100, 100), learning_rate_init=0.01, solver=sgd, score=0.538, total=   1.0s\n",
      "[CV] alpha=10, hidden_layer_sizes=(100, 100), learning_rate_init=0.01, solver=sgd \n",
      "[CV]  alpha=10, hidden_layer_sizes=(100, 100), learning_rate_init=0.01, solver=sgd, score=0.526, total=   1.0s\n",
      "[CV] alpha=10, hidden_layer_sizes=(100, 100), learning_rate_init=0.01, solver=sgd \n",
      "[CV]  alpha=10, hidden_layer_sizes=(100, 100), learning_rate_init=0.01, solver=sgd, score=0.526, total=   1.0s\n",
      "[CV] alpha=10, hidden_layer_sizes=(100, 100), learning_rate_init=0.01, solver=adam \n",
      "[CV]  alpha=10, hidden_layer_sizes=(100, 100), learning_rate_init=0.01, solver=adam, score=0.513, total=   0.2s\n",
      "[CV] alpha=10, hidden_layer_sizes=(100, 100), learning_rate_init=0.01, solver=adam \n",
      "[CV]  alpha=10, hidden_layer_sizes=(100, 100), learning_rate_init=0.01, solver=adam, score=0.513, total=   0.2s\n",
      "[CV] alpha=10, hidden_layer_sizes=(100, 100), learning_rate_init=0.01, solver=adam \n",
      "[CV]  alpha=10, hidden_layer_sizes=(100, 100), learning_rate_init=0.01, solver=adam, score=0.538, total=   0.2s\n",
      "[CV] alpha=10, hidden_layer_sizes=(100, 100), learning_rate_init=0.01, solver=adam \n",
      "[CV]  alpha=10, hidden_layer_sizes=(100, 100), learning_rate_init=0.01, solver=adam, score=0.526, total=   0.2s\n",
      "[CV] alpha=10, hidden_layer_sizes=(100, 100), learning_rate_init=0.01, solver=adam \n",
      "[CV]  alpha=10, hidden_layer_sizes=(100, 100), learning_rate_init=0.01, solver=adam, score=0.526, total=   0.2s\n",
      "[CV] alpha=10, hidden_layer_sizes=(100, 100), learning_rate_init=0.1, solver=lbfgs \n",
      "[CV]  alpha=10, hidden_layer_sizes=(100, 100), learning_rate_init=0.1, solver=lbfgs, score=0.513, total=   0.3s\n",
      "[CV] alpha=10, hidden_layer_sizes=(100, 100), learning_rate_init=0.1, solver=lbfgs \n",
      "[CV]  alpha=10, hidden_layer_sizes=(100, 100), learning_rate_init=0.1, solver=lbfgs, score=0.513, total=   0.3s\n",
      "[CV] alpha=10, hidden_layer_sizes=(100, 100), learning_rate_init=0.1, solver=lbfgs \n",
      "[CV]  alpha=10, hidden_layer_sizes=(100, 100), learning_rate_init=0.1, solver=lbfgs, score=0.538, total=   0.2s\n",
      "[CV] alpha=10, hidden_layer_sizes=(100, 100), learning_rate_init=0.1, solver=lbfgs \n",
      "[CV]  alpha=10, hidden_layer_sizes=(100, 100), learning_rate_init=0.1, solver=lbfgs, score=0.526, total=   0.3s\n",
      "[CV] alpha=10, hidden_layer_sizes=(100, 100), learning_rate_init=0.1, solver=lbfgs \n",
      "[CV]  alpha=10, hidden_layer_sizes=(100, 100), learning_rate_init=0.1, solver=lbfgs, score=0.526, total=   0.3s\n",
      "[CV] alpha=10, hidden_layer_sizes=(100, 100), learning_rate_init=0.1, solver=sgd \n",
      "[CV]  alpha=10, hidden_layer_sizes=(100, 100), learning_rate_init=0.1, solver=sgd, score=0.513, total=   0.1s\n",
      "[CV] alpha=10, hidden_layer_sizes=(100, 100), learning_rate_init=0.1, solver=sgd \n",
      "[CV]  alpha=10, hidden_layer_sizes=(100, 100), learning_rate_init=0.1, solver=sgd, score=0.513, total=   0.1s\n",
      "[CV] alpha=10, hidden_layer_sizes=(100, 100), learning_rate_init=0.1, solver=sgd \n",
      "[CV]  alpha=10, hidden_layer_sizes=(100, 100), learning_rate_init=0.1, solver=sgd, score=0.538, total=   0.1s\n",
      "[CV] alpha=10, hidden_layer_sizes=(100, 100), learning_rate_init=0.1, solver=sgd \n",
      "[CV]  alpha=10, hidden_layer_sizes=(100, 100), learning_rate_init=0.1, solver=sgd, score=0.526, total=   0.1s\n",
      "[CV] alpha=10, hidden_layer_sizes=(100, 100), learning_rate_init=0.1, solver=sgd \n",
      "[CV]  alpha=10, hidden_layer_sizes=(100, 100), learning_rate_init=0.1, solver=sgd, score=0.526, total=   0.1s\n",
      "[CV] alpha=10, hidden_layer_sizes=(100, 100), learning_rate_init=0.1, solver=adam \n",
      "[CV]  alpha=10, hidden_layer_sizes=(100, 100), learning_rate_init=0.1, solver=adam, score=0.513, total=   0.2s\n",
      "[CV] alpha=10, hidden_layer_sizes=(100, 100), learning_rate_init=0.1, solver=adam \n",
      "[CV]  alpha=10, hidden_layer_sizes=(100, 100), learning_rate_init=0.1, solver=adam, score=0.513, total=   0.2s\n",
      "[CV] alpha=10, hidden_layer_sizes=(100, 100), learning_rate_init=0.1, solver=adam \n",
      "[CV]  alpha=10, hidden_layer_sizes=(100, 100), learning_rate_init=0.1, solver=adam, score=0.538, total=   0.2s\n",
      "[CV] alpha=10, hidden_layer_sizes=(100, 100), learning_rate_init=0.1, solver=adam \n",
      "[CV]  alpha=10, hidden_layer_sizes=(100, 100), learning_rate_init=0.1, solver=adam, score=0.526, total=   0.2s\n",
      "[CV] alpha=10, hidden_layer_sizes=(100, 100), learning_rate_init=0.1, solver=adam \n",
      "[CV]  alpha=10, hidden_layer_sizes=(100, 100), learning_rate_init=0.1, solver=adam, score=0.526, total=   0.3s\n",
      "[CV] alpha=10, hidden_layer_sizes=(100, 100), learning_rate_init=1, solver=lbfgs \n",
      "[CV]  alpha=10, hidden_layer_sizes=(100, 100), learning_rate_init=1, solver=lbfgs, score=0.513, total=   0.3s\n",
      "[CV] alpha=10, hidden_layer_sizes=(100, 100), learning_rate_init=1, solver=lbfgs \n",
      "[CV]  alpha=10, hidden_layer_sizes=(100, 100), learning_rate_init=1, solver=lbfgs, score=0.513, total=   0.2s\n",
      "[CV] alpha=10, hidden_layer_sizes=(100, 100), learning_rate_init=1, solver=lbfgs \n",
      "[CV]  alpha=10, hidden_layer_sizes=(100, 100), learning_rate_init=1, solver=lbfgs, score=0.538, total=   0.3s\n",
      "[CV] alpha=10, hidden_layer_sizes=(100, 100), learning_rate_init=1, solver=lbfgs \n",
      "[CV]  alpha=10, hidden_layer_sizes=(100, 100), learning_rate_init=1, solver=lbfgs, score=0.526, total=   0.3s\n",
      "[CV] alpha=10, hidden_layer_sizes=(100, 100), learning_rate_init=1, solver=lbfgs \n",
      "[CV]  alpha=10, hidden_layer_sizes=(100, 100), learning_rate_init=1, solver=lbfgs, score=0.526, total=   0.3s\n",
      "[CV] alpha=10, hidden_layer_sizes=(100, 100), learning_rate_init=1, solver=sgd \n",
      "[CV]  alpha=10, hidden_layer_sizes=(100, 100), learning_rate_init=1, solver=sgd, score=0.513, total=   0.0s\n",
      "[CV] alpha=10, hidden_layer_sizes=(100, 100), learning_rate_init=1, solver=sgd \n",
      "[CV]  alpha=10, hidden_layer_sizes=(100, 100), learning_rate_init=1, solver=sgd, score=0.513, total=   0.0s\n",
      "[CV] alpha=10, hidden_layer_sizes=(100, 100), learning_rate_init=1, solver=sgd \n",
      "[CV]  alpha=10, hidden_layer_sizes=(100, 100), learning_rate_init=1, solver=sgd, score=0.538, total=   0.0s\n",
      "[CV] alpha=10, hidden_layer_sizes=(100, 100), learning_rate_init=1, solver=sgd \n",
      "[CV]  alpha=10, hidden_layer_sizes=(100, 100), learning_rate_init=1, solver=sgd, score=0.526, total=   0.0s\n",
      "[CV] alpha=10, hidden_layer_sizes=(100, 100), learning_rate_init=1, solver=sgd \n",
      "[CV]  alpha=10, hidden_layer_sizes=(100, 100), learning_rate_init=1, solver=sgd, score=0.526, total=   0.0s\n",
      "[CV] alpha=10, hidden_layer_sizes=(100, 100), learning_rate_init=1, solver=adam \n"
     ]
    },
    {
     "name": "stdout",
     "output_type": "stream",
     "text": [
      "[CV]  alpha=10, hidden_layer_sizes=(100, 100), learning_rate_init=1, solver=adam, score=0.513, total=   0.0s\n",
      "[CV] alpha=10, hidden_layer_sizes=(100, 100), learning_rate_init=1, solver=adam \n",
      "[CV]  alpha=10, hidden_layer_sizes=(100, 100), learning_rate_init=1, solver=adam, score=0.513, total=   0.0s\n",
      "[CV] alpha=10, hidden_layer_sizes=(100, 100), learning_rate_init=1, solver=adam \n",
      "[CV]  alpha=10, hidden_layer_sizes=(100, 100), learning_rate_init=1, solver=adam, score=0.590, total=   0.0s\n",
      "[CV] alpha=10, hidden_layer_sizes=(100, 100), learning_rate_init=1, solver=adam \n",
      "[CV]  alpha=10, hidden_layer_sizes=(100, 100), learning_rate_init=1, solver=adam, score=0.553, total=   0.0s\n",
      "[CV] alpha=10, hidden_layer_sizes=(100, 100), learning_rate_init=1, solver=adam \n",
      "[CV]  alpha=10, hidden_layer_sizes=(100, 100), learning_rate_init=1, solver=adam, score=0.526, total=   0.0s\n",
      "[CV] alpha=10, hidden_layer_sizes=(100, 100, 100), learning_rate_init=0.0001, solver=lbfgs \n",
      "[CV]  alpha=10, hidden_layer_sizes=(100, 100, 100), learning_rate_init=0.0001, solver=lbfgs, score=0.513, total=   0.4s\n",
      "[CV] alpha=10, hidden_layer_sizes=(100, 100, 100), learning_rate_init=0.0001, solver=lbfgs \n",
      "[CV]  alpha=10, hidden_layer_sizes=(100, 100, 100), learning_rate_init=0.0001, solver=lbfgs, score=0.513, total=   0.2s\n",
      "[CV] alpha=10, hidden_layer_sizes=(100, 100, 100), learning_rate_init=0.0001, solver=lbfgs \n",
      "[CV]  alpha=10, hidden_layer_sizes=(100, 100, 100), learning_rate_init=0.0001, solver=lbfgs, score=0.538, total=   0.3s\n",
      "[CV] alpha=10, hidden_layer_sizes=(100, 100, 100), learning_rate_init=0.0001, solver=lbfgs \n",
      "[CV]  alpha=10, hidden_layer_sizes=(100, 100, 100), learning_rate_init=0.0001, solver=lbfgs, score=0.526, total=   0.3s\n",
      "[CV] alpha=10, hidden_layer_sizes=(100, 100, 100), learning_rate_init=0.0001, solver=lbfgs \n",
      "[CV]  alpha=10, hidden_layer_sizes=(100, 100, 100), learning_rate_init=0.0001, solver=lbfgs, score=0.526, total=   0.3s\n",
      "[CV] alpha=10, hidden_layer_sizes=(100, 100, 100), learning_rate_init=0.0001, solver=sgd \n"
     ]
    },
    {
     "name": "stderr",
     "output_type": "stream",
     "text": [
      "/Users/kbgazzaz/opt/anaconda3/lib/python3.8/site-packages/sklearn/neural_network/_multilayer_perceptron.py:582: ConvergenceWarning:\n",
      "\n",
      "Stochastic Optimizer: Maximum iterations (2000) reached and the optimization hasn't converged yet.\n",
      "\n"
     ]
    },
    {
     "name": "stdout",
     "output_type": "stream",
     "text": [
      "[CV]  alpha=10, hidden_layer_sizes=(100, 100, 100), learning_rate_init=0.0001, solver=sgd, score=0.513, total=   4.6s\n",
      "[CV] alpha=10, hidden_layer_sizes=(100, 100, 100), learning_rate_init=0.0001, solver=sgd \n"
     ]
    },
    {
     "name": "stderr",
     "output_type": "stream",
     "text": [
      "/Users/kbgazzaz/opt/anaconda3/lib/python3.8/site-packages/sklearn/neural_network/_multilayer_perceptron.py:582: ConvergenceWarning:\n",
      "\n",
      "Stochastic Optimizer: Maximum iterations (2000) reached and the optimization hasn't converged yet.\n",
      "\n"
     ]
    },
    {
     "name": "stdout",
     "output_type": "stream",
     "text": [
      "[CV]  alpha=10, hidden_layer_sizes=(100, 100, 100), learning_rate_init=0.0001, solver=sgd, score=0.513, total=   4.5s\n",
      "[CV] alpha=10, hidden_layer_sizes=(100, 100, 100), learning_rate_init=0.0001, solver=sgd \n"
     ]
    },
    {
     "name": "stderr",
     "output_type": "stream",
     "text": [
      "/Users/kbgazzaz/opt/anaconda3/lib/python3.8/site-packages/sklearn/neural_network/_multilayer_perceptron.py:582: ConvergenceWarning:\n",
      "\n",
      "Stochastic Optimizer: Maximum iterations (2000) reached and the optimization hasn't converged yet.\n",
      "\n"
     ]
    },
    {
     "name": "stdout",
     "output_type": "stream",
     "text": [
      "[CV]  alpha=10, hidden_layer_sizes=(100, 100, 100), learning_rate_init=0.0001, solver=sgd, score=0.538, total=   4.5s\n",
      "[CV] alpha=10, hidden_layer_sizes=(100, 100, 100), learning_rate_init=0.0001, solver=sgd \n"
     ]
    },
    {
     "name": "stderr",
     "output_type": "stream",
     "text": [
      "/Users/kbgazzaz/opt/anaconda3/lib/python3.8/site-packages/sklearn/neural_network/_multilayer_perceptron.py:582: ConvergenceWarning:\n",
      "\n",
      "Stochastic Optimizer: Maximum iterations (2000) reached and the optimization hasn't converged yet.\n",
      "\n"
     ]
    },
    {
     "name": "stdout",
     "output_type": "stream",
     "text": [
      "[CV]  alpha=10, hidden_layer_sizes=(100, 100, 100), learning_rate_init=0.0001, solver=sgd, score=0.526, total=   4.6s\n",
      "[CV] alpha=10, hidden_layer_sizes=(100, 100, 100), learning_rate_init=0.0001, solver=sgd \n"
     ]
    },
    {
     "name": "stderr",
     "output_type": "stream",
     "text": [
      "/Users/kbgazzaz/opt/anaconda3/lib/python3.8/site-packages/sklearn/neural_network/_multilayer_perceptron.py:582: ConvergenceWarning:\n",
      "\n",
      "Stochastic Optimizer: Maximum iterations (2000) reached and the optimization hasn't converged yet.\n",
      "\n"
     ]
    },
    {
     "name": "stdout",
     "output_type": "stream",
     "text": [
      "[CV]  alpha=10, hidden_layer_sizes=(100, 100, 100), learning_rate_init=0.0001, solver=sgd, score=0.526, total=   4.6s\n",
      "[CV] alpha=10, hidden_layer_sizes=(100, 100, 100), learning_rate_init=0.0001, solver=adam \n"
     ]
    },
    {
     "name": "stderr",
     "output_type": "stream",
     "text": [
      "/Users/kbgazzaz/opt/anaconda3/lib/python3.8/site-packages/sklearn/neural_network/_multilayer_perceptron.py:582: ConvergenceWarning:\n",
      "\n",
      "Stochastic Optimizer: Maximum iterations (2000) reached and the optimization hasn't converged yet.\n",
      "\n"
     ]
    },
    {
     "name": "stdout",
     "output_type": "stream",
     "text": [
      "[CV]  alpha=10, hidden_layer_sizes=(100, 100, 100), learning_rate_init=0.0001, solver=adam, score=0.513, total=   5.3s\n",
      "[CV] alpha=10, hidden_layer_sizes=(100, 100, 100), learning_rate_init=0.0001, solver=adam \n"
     ]
    },
    {
     "name": "stderr",
     "output_type": "stream",
     "text": [
      "/Users/kbgazzaz/opt/anaconda3/lib/python3.8/site-packages/sklearn/neural_network/_multilayer_perceptron.py:582: ConvergenceWarning:\n",
      "\n",
      "Stochastic Optimizer: Maximum iterations (2000) reached and the optimization hasn't converged yet.\n",
      "\n"
     ]
    },
    {
     "name": "stdout",
     "output_type": "stream",
     "text": [
      "[CV]  alpha=10, hidden_layer_sizes=(100, 100, 100), learning_rate_init=0.0001, solver=adam, score=0.513, total=   5.3s\n",
      "[CV] alpha=10, hidden_layer_sizes=(100, 100, 100), learning_rate_init=0.0001, solver=adam \n"
     ]
    },
    {
     "name": "stderr",
     "output_type": "stream",
     "text": [
      "/Users/kbgazzaz/opt/anaconda3/lib/python3.8/site-packages/sklearn/neural_network/_multilayer_perceptron.py:582: ConvergenceWarning:\n",
      "\n",
      "Stochastic Optimizer: Maximum iterations (2000) reached and the optimization hasn't converged yet.\n",
      "\n"
     ]
    },
    {
     "name": "stdout",
     "output_type": "stream",
     "text": [
      "[CV]  alpha=10, hidden_layer_sizes=(100, 100, 100), learning_rate_init=0.0001, solver=adam, score=0.538, total=   5.3s\n",
      "[CV] alpha=10, hidden_layer_sizes=(100, 100, 100), learning_rate_init=0.0001, solver=adam \n"
     ]
    },
    {
     "name": "stderr",
     "output_type": "stream",
     "text": [
      "/Users/kbgazzaz/opt/anaconda3/lib/python3.8/site-packages/sklearn/neural_network/_multilayer_perceptron.py:582: ConvergenceWarning:\n",
      "\n",
      "Stochastic Optimizer: Maximum iterations (2000) reached and the optimization hasn't converged yet.\n",
      "\n"
     ]
    },
    {
     "name": "stdout",
     "output_type": "stream",
     "text": [
      "[CV]  alpha=10, hidden_layer_sizes=(100, 100, 100), learning_rate_init=0.0001, solver=adam, score=0.526, total=   5.4s\n",
      "[CV] alpha=10, hidden_layer_sizes=(100, 100, 100), learning_rate_init=0.0001, solver=adam \n"
     ]
    },
    {
     "name": "stderr",
     "output_type": "stream",
     "text": [
      "/Users/kbgazzaz/opt/anaconda3/lib/python3.8/site-packages/sklearn/neural_network/_multilayer_perceptron.py:582: ConvergenceWarning:\n",
      "\n",
      "Stochastic Optimizer: Maximum iterations (2000) reached and the optimization hasn't converged yet.\n",
      "\n"
     ]
    },
    {
     "name": "stdout",
     "output_type": "stream",
     "text": [
      "[CV]  alpha=10, hidden_layer_sizes=(100, 100, 100), learning_rate_init=0.0001, solver=adam, score=0.526, total=   5.4s\n",
      "[CV] alpha=10, hidden_layer_sizes=(100, 100, 100), learning_rate_init=0.001, solver=lbfgs \n",
      "[CV]  alpha=10, hidden_layer_sizes=(100, 100, 100), learning_rate_init=0.001, solver=lbfgs, score=0.513, total=   0.3s\n",
      "[CV] alpha=10, hidden_layer_sizes=(100, 100, 100), learning_rate_init=0.001, solver=lbfgs \n",
      "[CV]  alpha=10, hidden_layer_sizes=(100, 100, 100), learning_rate_init=0.001, solver=lbfgs, score=0.513, total=   0.3s\n",
      "[CV] alpha=10, hidden_layer_sizes=(100, 100, 100), learning_rate_init=0.001, solver=lbfgs \n",
      "[CV]  alpha=10, hidden_layer_sizes=(100, 100, 100), learning_rate_init=0.001, solver=lbfgs, score=0.538, total=   0.2s\n",
      "[CV] alpha=10, hidden_layer_sizes=(100, 100, 100), learning_rate_init=0.001, solver=lbfgs \n",
      "[CV]  alpha=10, hidden_layer_sizes=(100, 100, 100), learning_rate_init=0.001, solver=lbfgs, score=0.526, total=   0.3s\n",
      "[CV] alpha=10, hidden_layer_sizes=(100, 100, 100), learning_rate_init=0.001, solver=lbfgs \n",
      "[CV]  alpha=10, hidden_layer_sizes=(100, 100, 100), learning_rate_init=0.001, solver=lbfgs, score=0.526, total=   0.3s\n",
      "[CV] alpha=10, hidden_layer_sizes=(100, 100, 100), learning_rate_init=0.001, solver=sgd \n"
     ]
    },
    {
     "name": "stderr",
     "output_type": "stream",
     "text": [
      "/Users/kbgazzaz/opt/anaconda3/lib/python3.8/site-packages/sklearn/neural_network/_multilayer_perceptron.py:582: ConvergenceWarning:\n",
      "\n",
      "Stochastic Optimizer: Maximum iterations (2000) reached and the optimization hasn't converged yet.\n",
      "\n"
     ]
    },
    {
     "name": "stdout",
     "output_type": "stream",
     "text": [
      "[CV]  alpha=10, hidden_layer_sizes=(100, 100, 100), learning_rate_init=0.001, solver=sgd, score=0.513, total=   4.5s\n",
      "[CV] alpha=10, hidden_layer_sizes=(100, 100, 100), learning_rate_init=0.001, solver=sgd \n"
     ]
    },
    {
     "name": "stderr",
     "output_type": "stream",
     "text": [
      "/Users/kbgazzaz/opt/anaconda3/lib/python3.8/site-packages/sklearn/neural_network/_multilayer_perceptron.py:582: ConvergenceWarning:\n",
      "\n",
      "Stochastic Optimizer: Maximum iterations (2000) reached and the optimization hasn't converged yet.\n",
      "\n"
     ]
    },
    {
     "name": "stdout",
     "output_type": "stream",
     "text": [
      "[CV]  alpha=10, hidden_layer_sizes=(100, 100, 100), learning_rate_init=0.001, solver=sgd, score=0.513, total=   4.5s\n",
      "[CV] alpha=10, hidden_layer_sizes=(100, 100, 100), learning_rate_init=0.001, solver=sgd \n"
     ]
    },
    {
     "name": "stderr",
     "output_type": "stream",
     "text": [
      "/Users/kbgazzaz/opt/anaconda3/lib/python3.8/site-packages/sklearn/neural_network/_multilayer_perceptron.py:582: ConvergenceWarning:\n",
      "\n",
      "Stochastic Optimizer: Maximum iterations (2000) reached and the optimization hasn't converged yet.\n",
      "\n"
     ]
    },
    {
     "name": "stdout",
     "output_type": "stream",
     "text": [
      "[CV]  alpha=10, hidden_layer_sizes=(100, 100, 100), learning_rate_init=0.001, solver=sgd, score=0.538, total=   4.5s\n",
      "[CV] alpha=10, hidden_layer_sizes=(100, 100, 100), learning_rate_init=0.001, solver=sgd \n"
     ]
    },
    {
     "name": "stderr",
     "output_type": "stream",
     "text": [
      "/Users/kbgazzaz/opt/anaconda3/lib/python3.8/site-packages/sklearn/neural_network/_multilayer_perceptron.py:582: ConvergenceWarning:\n",
      "\n",
      "Stochastic Optimizer: Maximum iterations (2000) reached and the optimization hasn't converged yet.\n",
      "\n"
     ]
    },
    {
     "name": "stdout",
     "output_type": "stream",
     "text": [
      "[CV]  alpha=10, hidden_layer_sizes=(100, 100, 100), learning_rate_init=0.001, solver=sgd, score=0.526, total=   4.5s\n",
      "[CV] alpha=10, hidden_layer_sizes=(100, 100, 100), learning_rate_init=0.001, solver=sgd \n"
     ]
    },
    {
     "name": "stderr",
     "output_type": "stream",
     "text": [
      "/Users/kbgazzaz/opt/anaconda3/lib/python3.8/site-packages/sklearn/neural_network/_multilayer_perceptron.py:582: ConvergenceWarning:\n",
      "\n",
      "Stochastic Optimizer: Maximum iterations (2000) reached and the optimization hasn't converged yet.\n",
      "\n"
     ]
    },
    {
     "name": "stdout",
     "output_type": "stream",
     "text": [
      "[CV]  alpha=10, hidden_layer_sizes=(100, 100, 100), learning_rate_init=0.001, solver=sgd, score=0.526, total=   4.6s\n",
      "[CV] alpha=10, hidden_layer_sizes=(100, 100, 100), learning_rate_init=0.001, solver=adam \n",
      "[CV]  alpha=10, hidden_layer_sizes=(100, 100, 100), learning_rate_init=0.001, solver=adam, score=0.513, total=   0.8s\n",
      "[CV] alpha=10, hidden_layer_sizes=(100, 100, 100), learning_rate_init=0.001, solver=adam \n",
      "[CV]  alpha=10, hidden_layer_sizes=(100, 100, 100), learning_rate_init=0.001, solver=adam, score=0.513, total=   0.8s\n",
      "[CV] alpha=10, hidden_layer_sizes=(100, 100, 100), learning_rate_init=0.001, solver=adam \n",
      "[CV]  alpha=10, hidden_layer_sizes=(100, 100, 100), learning_rate_init=0.001, solver=adam, score=0.538, total=   0.8s\n",
      "[CV] alpha=10, hidden_layer_sizes=(100, 100, 100), learning_rate_init=0.001, solver=adam \n",
      "[CV]  alpha=10, hidden_layer_sizes=(100, 100, 100), learning_rate_init=0.001, solver=adam, score=0.526, total=   0.9s\n",
      "[CV] alpha=10, hidden_layer_sizes=(100, 100, 100), learning_rate_init=0.001, solver=adam \n",
      "[CV]  alpha=10, hidden_layer_sizes=(100, 100, 100), learning_rate_init=0.001, solver=adam, score=0.526, total=   0.8s\n",
      "[CV] alpha=10, hidden_layer_sizes=(100, 100, 100), learning_rate_init=0.01, solver=lbfgs \n",
      "[CV]  alpha=10, hidden_layer_sizes=(100, 100, 100), learning_rate_init=0.01, solver=lbfgs, score=0.513, total=   0.4s\n",
      "[CV] alpha=10, hidden_layer_sizes=(100, 100, 100), learning_rate_init=0.01, solver=lbfgs \n",
      "[CV]  alpha=10, hidden_layer_sizes=(100, 100, 100), learning_rate_init=0.01, solver=lbfgs, score=0.513, total=   0.2s\n",
      "[CV] alpha=10, hidden_layer_sizes=(100, 100, 100), learning_rate_init=0.01, solver=lbfgs \n",
      "[CV]  alpha=10, hidden_layer_sizes=(100, 100, 100), learning_rate_init=0.01, solver=lbfgs, score=0.538, total=   0.3s\n",
      "[CV] alpha=10, hidden_layer_sizes=(100, 100, 100), learning_rate_init=0.01, solver=lbfgs \n",
      "[CV]  alpha=10, hidden_layer_sizes=(100, 100, 100), learning_rate_init=0.01, solver=lbfgs, score=0.526, total=   0.4s\n",
      "[CV] alpha=10, hidden_layer_sizes=(100, 100, 100), learning_rate_init=0.01, solver=lbfgs \n",
      "[CV]  alpha=10, hidden_layer_sizes=(100, 100, 100), learning_rate_init=0.01, solver=lbfgs, score=0.526, total=   0.3s\n",
      "[CV] alpha=10, hidden_layer_sizes=(100, 100, 100), learning_rate_init=0.01, solver=sgd \n",
      "[CV]  alpha=10, hidden_layer_sizes=(100, 100, 100), learning_rate_init=0.01, solver=sgd, score=0.513, total=   1.2s\n",
      "[CV] alpha=10, hidden_layer_sizes=(100, 100, 100), learning_rate_init=0.01, solver=sgd \n",
      "[CV]  alpha=10, hidden_layer_sizes=(100, 100, 100), learning_rate_init=0.01, solver=sgd, score=0.513, total=   1.2s\n",
      "[CV] alpha=10, hidden_layer_sizes=(100, 100, 100), learning_rate_init=0.01, solver=sgd \n",
      "[CV]  alpha=10, hidden_layer_sizes=(100, 100, 100), learning_rate_init=0.01, solver=sgd, score=0.538, total=   1.3s\n",
      "[CV] alpha=10, hidden_layer_sizes=(100, 100, 100), learning_rate_init=0.01, solver=sgd \n",
      "[CV]  alpha=10, hidden_layer_sizes=(100, 100, 100), learning_rate_init=0.01, solver=sgd, score=0.526, total=   1.2s\n",
      "[CV] alpha=10, hidden_layer_sizes=(100, 100, 100), learning_rate_init=0.01, solver=sgd \n",
      "[CV]  alpha=10, hidden_layer_sizes=(100, 100, 100), learning_rate_init=0.01, solver=sgd, score=0.526, total=   1.3s\n",
      "[CV] alpha=10, hidden_layer_sizes=(100, 100, 100), learning_rate_init=0.01, solver=adam \n",
      "[CV]  alpha=10, hidden_layer_sizes=(100, 100, 100), learning_rate_init=0.01, solver=adam, score=0.513, total=   0.3s\n",
      "[CV] alpha=10, hidden_layer_sizes=(100, 100, 100), learning_rate_init=0.01, solver=adam \n",
      "[CV]  alpha=10, hidden_layer_sizes=(100, 100, 100), learning_rate_init=0.01, solver=adam, score=0.513, total=   0.2s\n",
      "[CV] alpha=10, hidden_layer_sizes=(100, 100, 100), learning_rate_init=0.01, solver=adam \n",
      "[CV]  alpha=10, hidden_layer_sizes=(100, 100, 100), learning_rate_init=0.01, solver=adam, score=0.538, total=   0.2s\n",
      "[CV] alpha=10, hidden_layer_sizes=(100, 100, 100), learning_rate_init=0.01, solver=adam \n",
      "[CV]  alpha=10, hidden_layer_sizes=(100, 100, 100), learning_rate_init=0.01, solver=adam, score=0.526, total=   0.2s\n",
      "[CV] alpha=10, hidden_layer_sizes=(100, 100, 100), learning_rate_init=0.01, solver=adam \n",
      "[CV]  alpha=10, hidden_layer_sizes=(100, 100, 100), learning_rate_init=0.01, solver=adam, score=0.526, total=   0.3s\n",
      "[CV] alpha=10, hidden_layer_sizes=(100, 100, 100), learning_rate_init=0.1, solver=lbfgs \n",
      "[CV]  alpha=10, hidden_layer_sizes=(100, 100, 100), learning_rate_init=0.1, solver=lbfgs, score=0.513, total=   0.4s\n",
      "[CV] alpha=10, hidden_layer_sizes=(100, 100, 100), learning_rate_init=0.1, solver=lbfgs \n",
      "[CV]  alpha=10, hidden_layer_sizes=(100, 100, 100), learning_rate_init=0.1, solver=lbfgs, score=0.513, total=   0.2s\n",
      "[CV] alpha=10, hidden_layer_sizes=(100, 100, 100), learning_rate_init=0.1, solver=lbfgs \n",
      "[CV]  alpha=10, hidden_layer_sizes=(100, 100, 100), learning_rate_init=0.1, solver=lbfgs, score=0.538, total=   0.3s\n",
      "[CV] alpha=10, hidden_layer_sizes=(100, 100, 100), learning_rate_init=0.1, solver=lbfgs \n",
      "[CV]  alpha=10, hidden_layer_sizes=(100, 100, 100), learning_rate_init=0.1, solver=lbfgs, score=0.526, total=   0.4s\n",
      "[CV] alpha=10, hidden_layer_sizes=(100, 100, 100), learning_rate_init=0.1, solver=lbfgs \n",
      "[CV]  alpha=10, hidden_layer_sizes=(100, 100, 100), learning_rate_init=0.1, solver=lbfgs, score=0.526, total=   0.3s\n",
      "[CV] alpha=10, hidden_layer_sizes=(100, 100, 100), learning_rate_init=0.1, solver=sgd \n",
      "[CV]  alpha=10, hidden_layer_sizes=(100, 100, 100), learning_rate_init=0.1, solver=sgd, score=0.513, total=   0.1s\n",
      "[CV] alpha=10, hidden_layer_sizes=(100, 100, 100), learning_rate_init=0.1, solver=sgd \n",
      "[CV]  alpha=10, hidden_layer_sizes=(100, 100, 100), learning_rate_init=0.1, solver=sgd, score=0.513, total=   0.1s\n",
      "[CV] alpha=10, hidden_layer_sizes=(100, 100, 100), learning_rate_init=0.1, solver=sgd \n",
      "[CV]  alpha=10, hidden_layer_sizes=(100, 100, 100), learning_rate_init=0.1, solver=sgd, score=0.538, total=   0.1s\n",
      "[CV] alpha=10, hidden_layer_sizes=(100, 100, 100), learning_rate_init=0.1, solver=sgd \n",
      "[CV]  alpha=10, hidden_layer_sizes=(100, 100, 100), learning_rate_init=0.1, solver=sgd, score=0.526, total=   0.1s\n",
      "[CV] alpha=10, hidden_layer_sizes=(100, 100, 100), learning_rate_init=0.1, solver=sgd \n",
      "[CV]  alpha=10, hidden_layer_sizes=(100, 100, 100), learning_rate_init=0.1, solver=sgd, score=0.526, total=   0.1s\n",
      "[CV] alpha=10, hidden_layer_sizes=(100, 100, 100), learning_rate_init=0.1, solver=adam \n",
      "[CV]  alpha=10, hidden_layer_sizes=(100, 100, 100), learning_rate_init=0.1, solver=adam, score=0.513, total=   0.3s\n",
      "[CV] alpha=10, hidden_layer_sizes=(100, 100, 100), learning_rate_init=0.1, solver=adam \n",
      "[CV]  alpha=10, hidden_layer_sizes=(100, 100, 100), learning_rate_init=0.1, solver=adam, score=0.513, total=   0.3s\n",
      "[CV] alpha=10, hidden_layer_sizes=(100, 100, 100), learning_rate_init=0.1, solver=adam \n",
      "[CV]  alpha=10, hidden_layer_sizes=(100, 100, 100), learning_rate_init=0.1, solver=adam, score=0.538, total=   0.3s\n",
      "[CV] alpha=10, hidden_layer_sizes=(100, 100, 100), learning_rate_init=0.1, solver=adam \n",
      "[CV]  alpha=10, hidden_layer_sizes=(100, 100, 100), learning_rate_init=0.1, solver=adam, score=0.526, total=   0.3s\n",
      "[CV] alpha=10, hidden_layer_sizes=(100, 100, 100), learning_rate_init=0.1, solver=adam \n",
      "[CV]  alpha=10, hidden_layer_sizes=(100, 100, 100), learning_rate_init=0.1, solver=adam, score=0.526, total=   0.3s\n",
      "[CV] alpha=10, hidden_layer_sizes=(100, 100, 100), learning_rate_init=1, solver=lbfgs \n",
      "[CV]  alpha=10, hidden_layer_sizes=(100, 100, 100), learning_rate_init=1, solver=lbfgs, score=0.513, total=   0.2s\n",
      "[CV] alpha=10, hidden_layer_sizes=(100, 100, 100), learning_rate_init=1, solver=lbfgs \n",
      "[CV]  alpha=10, hidden_layer_sizes=(100, 100, 100), learning_rate_init=1, solver=lbfgs, score=0.513, total=   0.3s\n",
      "[CV] alpha=10, hidden_layer_sizes=(100, 100, 100), learning_rate_init=1, solver=lbfgs \n",
      "[CV]  alpha=10, hidden_layer_sizes=(100, 100, 100), learning_rate_init=1, solver=lbfgs, score=0.538, total=   0.3s\n",
      "[CV] alpha=10, hidden_layer_sizes=(100, 100, 100), learning_rate_init=1, solver=lbfgs \n",
      "[CV]  alpha=10, hidden_layer_sizes=(100, 100, 100), learning_rate_init=1, solver=lbfgs, score=0.526, total=   0.4s\n",
      "[CV] alpha=10, hidden_layer_sizes=(100, 100, 100), learning_rate_init=1, solver=lbfgs \n"
     ]
    },
    {
     "name": "stdout",
     "output_type": "stream",
     "text": [
      "[CV]  alpha=10, hidden_layer_sizes=(100, 100, 100), learning_rate_init=1, solver=lbfgs, score=0.526, total=   0.2s\n",
      "[CV] alpha=10, hidden_layer_sizes=(100, 100, 100), learning_rate_init=1, solver=sgd \n",
      "[CV]  alpha=10, hidden_layer_sizes=(100, 100, 100), learning_rate_init=1, solver=sgd, score=0.513, total=   0.0s\n",
      "[CV] alpha=10, hidden_layer_sizes=(100, 100, 100), learning_rate_init=1, solver=sgd \n",
      "[CV]  alpha=10, hidden_layer_sizes=(100, 100, 100), learning_rate_init=1, solver=sgd, score=0.513, total=   0.0s\n",
      "[CV] alpha=10, hidden_layer_sizes=(100, 100, 100), learning_rate_init=1, solver=sgd \n",
      "[CV]  alpha=10, hidden_layer_sizes=(100, 100, 100), learning_rate_init=1, solver=sgd, score=0.538, total=   0.0s\n",
      "[CV] alpha=10, hidden_layer_sizes=(100, 100, 100), learning_rate_init=1, solver=sgd \n",
      "[CV]  alpha=10, hidden_layer_sizes=(100, 100, 100), learning_rate_init=1, solver=sgd, score=0.526, total=   0.0s\n",
      "[CV] alpha=10, hidden_layer_sizes=(100, 100, 100), learning_rate_init=1, solver=sgd \n",
      "[CV]  alpha=10, hidden_layer_sizes=(100, 100, 100), learning_rate_init=1, solver=sgd, score=0.526, total=   0.0s\n",
      "[CV] alpha=10, hidden_layer_sizes=(100, 100, 100), learning_rate_init=1, solver=adam \n",
      "[CV]  alpha=10, hidden_layer_sizes=(100, 100, 100), learning_rate_init=1, solver=adam, score=0.487, total=   0.0s\n",
      "[CV] alpha=10, hidden_layer_sizes=(100, 100, 100), learning_rate_init=1, solver=adam \n",
      "[CV]  alpha=10, hidden_layer_sizes=(100, 100, 100), learning_rate_init=1, solver=adam, score=0.692, total=   0.0s\n",
      "[CV] alpha=10, hidden_layer_sizes=(100, 100, 100), learning_rate_init=1, solver=adam \n",
      "[CV]  alpha=10, hidden_layer_sizes=(100, 100, 100), learning_rate_init=1, solver=adam, score=0.462, total=   0.0s\n",
      "[CV] alpha=10, hidden_layer_sizes=(100, 100, 100), learning_rate_init=1, solver=adam \n",
      "[CV]  alpha=10, hidden_layer_sizes=(100, 100, 100), learning_rate_init=1, solver=adam, score=0.868, total=   0.0s\n",
      "[CV] alpha=10, hidden_layer_sizes=(100, 100, 100), learning_rate_init=1, solver=adam \n",
      "[CV]  alpha=10, hidden_layer_sizes=(100, 100, 100), learning_rate_init=1, solver=adam, score=0.658, total=   0.0s\n"
     ]
    },
    {
     "name": "stderr",
     "output_type": "stream",
     "text": [
      "[Parallel(n_jobs=1)]: Done 1125 out of 1125 | elapsed: 13.5min finished\n"
     ]
    },
    {
     "data": {
      "text/plain": [
       "Pipeline(steps=[('bow',\n",
       "                 CountVectorizer(analyzer=<function text_process at 0x7fb8471a0c10>)),\n",
       "                ('tfidf', TfidfTransformer()),\n",
       "                ('classifier',\n",
       "                 GridSearchCV(estimator=MLPClassifier(max_iter=2000),\n",
       "                              param_grid={'alpha': [0.001, 0.01, 0.1, 1, 10],\n",
       "                                          'hidden_layer_sizes': [(100,),\n",
       "                                                                 (100, 100),\n",
       "                                                                 (100, 100,\n",
       "                                                                  100)],\n",
       "                                          'learning_rate_init': [0.0001, 0.001,\n",
       "                                                                 0.01, 0.1, 1],\n",
       "                                          'solver': ['lbfgs', 'sgd', 'adam']},\n",
       "                              verbose=3))])"
      ]
     },
     "execution_count": 106,
     "metadata": {},
     "output_type": "execute_result"
    }
   ],
   "source": [
    "nn_pipeline.fit(X_train,y_train)"
   ]
  },
  {
   "cell_type": "code",
   "execution_count": 107,
   "metadata": {},
   "outputs": [],
   "source": [
    "nn_pred = nn_pipeline.predict(X_valid)"
   ]
  },
  {
   "cell_type": "code",
   "execution_count": 108,
   "metadata": {},
   "outputs": [
    {
     "data": {
      "text/plain": [
       "<AxesSubplot:>"
      ]
     },
     "execution_count": 108,
     "metadata": {},
     "output_type": "execute_result"
    },
    {
     "data": {
      "image/png": "[encoded data removed]",
      "text/plain": [
       "<Figure size 432x288 with 2 Axes>"
      ]
     },
     "metadata": {
      "needs_background": "light"
     },
     "output_type": "display_data"
    }
   ],
   "source": [
    "# 4935 TN 710 FP, 505 FN, 5100 TP\n",
    "sns.heatmap(confusion_matrix(y_valid, nn_pred), annot=True, fmt='g')"
   ]
  },
  {
   "cell_type": "code",
   "execution_count": 109,
   "metadata": {},
   "outputs": [
    {
     "name": "stdout",
     "output_type": "stream",
     "text": [
      "              precision    recall  f1-score   support\n",
      "\n",
      "           0       0.95      0.91      0.93        43\n",
      "           1       0.91      0.95      0.93        41\n",
      "\n",
      "    accuracy                           0.93        84\n",
      "   macro avg       0.93      0.93      0.93        84\n",
      "weighted avg       0.93      0.93      0.93        84\n",
      "\n"
     ]
    }
   ],
   "source": [
    "# 93% accuracy, precision, recall, f1 score\n",
    "print(classification_report(y_valid, nn_pred))"
   ]
  },
  {
   "cell_type": "markdown",
   "metadata": {},
   "source": [
    "## Deployment"
   ]
  },
  {
   "cell_type": "code",
   "execution_count": 111,
   "metadata": {},
   "outputs": [
    {
     "name": "stdout",
     "output_type": "stream",
     "text": [
      "              precision    recall  f1-score   support\n",
      "\n",
      "           0       0.89      0.96      0.93        52\n",
      "           1       0.95      0.85      0.90        41\n",
      "\n",
      "    accuracy                           0.91        93\n",
      "   macro avg       0.92      0.91      0.91        93\n",
      "weighted avg       0.92      0.91      0.91        93\n",
      "\n"
     ]
    },
    {
     "data": {
      "image/png": "[encoded data removed]",
      "text/plain": [
       "<Figure size 432x288 with 2 Axes>"
      ]
     },
     "metadata": {
      "needs_background": "light"
     },
     "output_type": "display_data"
    }
   ],
   "source": [
    "lr_predictions = lr_pipeline.predict(X_test)\n",
    "# 50 TN 2 FP, 6 FN, 35 TP\n",
    "sns.heatmap(confusion_matrix(y_test, lr_predictions), annot=True, fmt='g')\n",
    "# 91% accuracy, 92% precision, 91% recall, 91% f1 score\n",
    "print(classification_report(y_test, lr_predictions))"
   ]
  },
  {
   "cell_type": "code",
   "execution_count": 112,
   "metadata": {},
   "outputs": [
    {
     "name": "stdout",
     "output_type": "stream",
     "text": [
      "              precision    recall  f1-score   support\n",
      "\n",
      "           0       0.91      0.98      0.94        52\n",
      "           1       0.97      0.88      0.92        41\n",
      "\n",
      "    accuracy                           0.94        93\n",
      "   macro avg       0.94      0.93      0.93        93\n",
      "weighted avg       0.94      0.94      0.94        93\n",
      "\n"
     ]
    },
    {
     "data": {
      "image/png": "[encoded data removed]",
      "text/plain": [
       "<Figure size 432x288 with 2 Axes>"
      ]
     },
     "metadata": {
      "needs_background": "light"
     },
     "output_type": "display_data"
    }
   ],
   "source": [
    "svm_predictions = svm_pipeline.predict(X_test)\n",
    "# 51 TN 1 FP, 5 FN, 36 TP\n",
    "sns.heatmap(confusion_matrix(y_test, svm_predictions), annot=True, fmt='g')\n",
    "# 94% accuracy, precision, recall, f1 score\n",
    "print(classification_report(y_test, svm_predictions))"
   ]
  },
  {
   "cell_type": "code",
   "execution_count": 113,
   "metadata": {},
   "outputs": [
    {
     "name": "stdout",
     "output_type": "stream",
     "text": [
      "              precision    recall  f1-score   support\n",
      "\n",
      "           0       0.91      0.94      0.92        52\n",
      "           1       0.92      0.88      0.90        41\n",
      "\n",
      "    accuracy                           0.91        93\n",
      "   macro avg       0.92      0.91      0.91        93\n",
      "weighted avg       0.91      0.91      0.91        93\n",
      "\n"
     ]
    },
    {
     "data": {
      "image/png": "[encoded data removed]",
      "text/plain": [
       "<Figure size 432x288 with 2 Axes>"
      ]
     },
     "metadata": {
      "needs_background": "light"
     },
     "output_type": "display_data"
    }
   ],
   "source": [
    "nb_predictions = nb_pipeline.predict(X_test)\n",
    "# 49 TN 3 FP, 5 FN, 36 TP\n",
    "sns.heatmap(confusion_matrix(y_test, nb_predictions), annot=True, fmt='g')\n",
    "# 91% accuracy, precision, recall, f1 score\n",
    "print(classification_report(y_test, nb_predictions))"
   ]
  },
  {
   "cell_type": "code",
   "execution_count": 114,
   "metadata": {},
   "outputs": [
    {
     "name": "stdout",
     "output_type": "stream",
     "text": [
      "              precision    recall  f1-score   support\n",
      "\n",
      "           0       0.92      0.94      0.93        52\n",
      "           1       0.93      0.90      0.91        41\n",
      "\n",
      "    accuracy                           0.92        93\n",
      "   macro avg       0.92      0.92      0.92        93\n",
      "weighted avg       0.92      0.92      0.92        93\n",
      "\n"
     ]
    },
    {
     "data": {
      "image/png": "[encoded data removed]",
      "text/plain": [
       "<Figure size 432x288 with 2 Axes>"
      ]
     },
     "metadata": {
      "needs_background": "light"
     },
     "output_type": "display_data"
    }
   ],
   "source": [
    "nn_predictions = nn_pipeline.predict(X_test)\n",
    "# 49 TN 3 FP, 4 FN, 37 TP\n",
    "sns.heatmap(confusion_matrix(y_test, nn_predictions), annot=True, fmt='g')\n",
    "# 92% accuracy, precision, recall, f1 score\n",
    "print(classification_report(y_test, nn_predictions))"
   ]
  },
  {
   "cell_type": "markdown",
   "metadata": {},
   "source": [
    "### Best models\n",
    "\n",
    "1. SVM\n",
    "2. Neural Network\n",
    "3. Logistic Regression\n",
    "4. Naive Bayes"
   ]
  }
 ],
 "metadata": {
  "kernelspec": {
   "display_name": "Python 3",
   "language": "python",
   "name": "python3"
  },
  "language_info": {
   "codemirror_mode": {
    "name": "ipython",
    "version": 3
   },
   "file_extension": ".py",
   "mimetype": "text/x-python",
   "name": "python",
   "nbconvert_exporter": "python",
   "pygments_lexer": "ipython3",
   "version": "3.8.3"
  }
 },
 "nbformat": 4,
 "nbformat_minor": 4
}
