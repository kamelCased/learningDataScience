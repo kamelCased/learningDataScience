{
 "cells": [
  {
   "cell_type": "markdown",
   "metadata": {},
   "source": [
    "# Plotly and Cufflinks\n",
    "* Plotly is an interactive visualization library\n",
    "* Cufflinks connects Plotly with Pandas"
   ]
  },
  {
   "cell_type": "markdown",
   "metadata": {},
   "source": [
    "### Setup"
   ]
  },
  {
   "cell_type": "code",
   "execution_count": 4,
   "metadata": {
    "scrolled": true
   },
   "outputs": [
    {
     "name": "stdout",
     "output_type": "stream",
     "text": [
      "Collecting plotly==4.11.0\n",
      "  Downloading plotly-4.11.0-py2.py3-none-any.whl (13.1 MB)\n",
      "\u001b[K     |████████████████████████████████| 13.1 MB 3.7 MB/s eta 0:00:01\n",
      "\u001b[?25hCollecting retrying>=1.3.3\n",
      "  Using cached retrying-1.3.3.tar.gz (10 kB)\n",
      "Requirement already satisfied: six in /Users/kbgazzaz/opt/anaconda3/lib/python3.8/site-packages (from plotly==4.11.0) (1.15.0)\n",
      "Building wheels for collected packages: retrying\n",
      "  Building wheel for retrying (setup.py) ... \u001b[?25ldone\n",
      "\u001b[?25h  Created wheel for retrying: filename=retrying-1.3.3-py3-none-any.whl size=11430 sha256=c31ad79e978889244cf1fe51d9355340760d402d1d0cdaf07b6fd31e1c7850ef\n",
      "  Stored in directory: /Users/kbgazzaz/Library/Caches/pip/wheels/c4/a7/48/0a434133f6d56e878ca511c0e6c38326907c0792f67b476e56\n",
      "Successfully built retrying\n",
      "Installing collected packages: retrying, plotly\n",
      "Successfully installed plotly-4.11.0 retrying-1.3.3\n",
      "Note: you may need to restart the kernel to use updated packages.\n"
     ]
    }
   ],
   "source": [
    "# install plotly\n",
    "%pip install plotly==4.11.0"
   ]
  },
  {
   "cell_type": "code",
   "execution_count": 4,
   "metadata": {},
   "outputs": [
    {
     "name": "stdout",
     "output_type": "stream",
     "text": [
      "Collecting cufflinks\n",
      "  Downloading cufflinks-0.17.3.tar.gz (81 kB)\n",
      "\u001b[K     |████████████████████████████████| 81 kB 3.5 MB/s eta 0:00:011\n",
      "\u001b[?25hRequirement already satisfied: numpy>=1.9.2 in /Users/kbgazzaz/opt/anaconda3/lib/python3.8/site-packages (from cufflinks) (1.18.5)\n",
      "Requirement already satisfied: pandas>=0.19.2 in /Users/kbgazzaz/opt/anaconda3/lib/python3.8/site-packages (from cufflinks) (1.0.5)\n",
      "Requirement already satisfied: plotly>=4.1.1 in /Users/kbgazzaz/opt/anaconda3/lib/python3.8/site-packages (from cufflinks) (4.11.0)\n",
      "Requirement already satisfied: six>=1.9.0 in /Users/kbgazzaz/opt/anaconda3/lib/python3.8/site-packages (from cufflinks) (1.15.0)\n",
      "Collecting colorlover>=0.2.1\n",
      "  Downloading colorlover-0.3.0-py3-none-any.whl (8.9 kB)\n",
      "Requirement already satisfied: setuptools>=34.4.1 in /Users/kbgazzaz/opt/anaconda3/lib/python3.8/site-packages (from cufflinks) (49.2.0.post20200714)\n",
      "Requirement already satisfied: ipython>=5.3.0 in /Users/kbgazzaz/opt/anaconda3/lib/python3.8/site-packages (from cufflinks) (7.16.1)\n",
      "Requirement already satisfied: ipywidgets>=7.0.0 in /Users/kbgazzaz/opt/anaconda3/lib/python3.8/site-packages (from cufflinks) (7.5.1)\n",
      "Requirement already satisfied: python-dateutil>=2.6.1 in /Users/kbgazzaz/opt/anaconda3/lib/python3.8/site-packages (from pandas>=0.19.2->cufflinks) (2.8.1)\n",
      "Requirement already satisfied: pytz>=2017.2 in /Users/kbgazzaz/opt/anaconda3/lib/python3.8/site-packages (from pandas>=0.19.2->cufflinks) (2020.1)\n",
      "Requirement already satisfied: retrying>=1.3.3 in /Users/kbgazzaz/opt/anaconda3/lib/python3.8/site-packages (from plotly>=4.1.1->cufflinks) (1.3.3)\n",
      "Requirement already satisfied: pygments in /Users/kbgazzaz/opt/anaconda3/lib/python3.8/site-packages (from ipython>=5.3.0->cufflinks) (2.6.1)\n",
      "Requirement already satisfied: decorator in /Users/kbgazzaz/opt/anaconda3/lib/python3.8/site-packages (from ipython>=5.3.0->cufflinks) (4.4.2)\n",
      "Requirement already satisfied: traitlets>=4.2 in /Users/kbgazzaz/opt/anaconda3/lib/python3.8/site-packages (from ipython>=5.3.0->cufflinks) (4.3.3)\n",
      "Requirement already satisfied: backcall in /Users/kbgazzaz/opt/anaconda3/lib/python3.8/site-packages (from ipython>=5.3.0->cufflinks) (0.2.0)\n",
      "Requirement already satisfied: jedi>=0.10 in /Users/kbgazzaz/opt/anaconda3/lib/python3.8/site-packages (from ipython>=5.3.0->cufflinks) (0.17.1)\n",
      "Requirement already satisfied: pickleshare in /Users/kbgazzaz/opt/anaconda3/lib/python3.8/site-packages (from ipython>=5.3.0->cufflinks) (0.7.5)\n",
      "Requirement already satisfied: prompt-toolkit!=3.0.0,!=3.0.1,<3.1.0,>=2.0.0 in /Users/kbgazzaz/opt/anaconda3/lib/python3.8/site-packages (from ipython>=5.3.0->cufflinks) (3.0.5)\n",
      "Requirement already satisfied: pexpect; sys_platform != \"win32\" in /Users/kbgazzaz/opt/anaconda3/lib/python3.8/site-packages (from ipython>=5.3.0->cufflinks) (4.8.0)\n",
      "Requirement already satisfied: appnope; sys_platform == \"darwin\" in /Users/kbgazzaz/opt/anaconda3/lib/python3.8/site-packages (from ipython>=5.3.0->cufflinks) (0.1.0)\n",
      "Requirement already satisfied: nbformat>=4.2.0 in /Users/kbgazzaz/opt/anaconda3/lib/python3.8/site-packages (from ipywidgets>=7.0.0->cufflinks) (5.0.7)\n",
      "Requirement already satisfied: widgetsnbextension~=3.5.0 in /Users/kbgazzaz/opt/anaconda3/lib/python3.8/site-packages (from ipywidgets>=7.0.0->cufflinks) (3.5.1)\n",
      "Requirement already satisfied: ipykernel>=4.5.1 in /Users/kbgazzaz/opt/anaconda3/lib/python3.8/site-packages (from ipywidgets>=7.0.0->cufflinks) (5.3.2)\n",
      "Requirement already satisfied: ipython-genutils in /Users/kbgazzaz/opt/anaconda3/lib/python3.8/site-packages (from traitlets>=4.2->ipython>=5.3.0->cufflinks) (0.2.0)\n",
      "Requirement already satisfied: parso<0.8.0,>=0.7.0 in /Users/kbgazzaz/opt/anaconda3/lib/python3.8/site-packages (from jedi>=0.10->ipython>=5.3.0->cufflinks) (0.7.0)\n",
      "Requirement already satisfied: wcwidth in /Users/kbgazzaz/opt/anaconda3/lib/python3.8/site-packages (from prompt-toolkit!=3.0.0,!=3.0.1,<3.1.0,>=2.0.0->ipython>=5.3.0->cufflinks) (0.2.5)\n",
      "Requirement already satisfied: ptyprocess>=0.5 in /Users/kbgazzaz/opt/anaconda3/lib/python3.8/site-packages (from pexpect; sys_platform != \"win32\"->ipython>=5.3.0->cufflinks) (0.6.0)\n",
      "Requirement already satisfied: jsonschema!=2.5.0,>=2.4 in /Users/kbgazzaz/opt/anaconda3/lib/python3.8/site-packages (from nbformat>=4.2.0->ipywidgets>=7.0.0->cufflinks) (3.2.0)\n",
      "Requirement already satisfied: jupyter-core in /Users/kbgazzaz/opt/anaconda3/lib/python3.8/site-packages (from nbformat>=4.2.0->ipywidgets>=7.0.0->cufflinks) (4.6.3)\n",
      "Requirement already satisfied: notebook>=4.4.1 in /Users/kbgazzaz/opt/anaconda3/lib/python3.8/site-packages (from widgetsnbextension~=3.5.0->ipywidgets>=7.0.0->cufflinks) (6.0.3)\n",
      "Requirement already satisfied: tornado>=4.2 in /Users/kbgazzaz/opt/anaconda3/lib/python3.8/site-packages (from ipykernel>=4.5.1->ipywidgets>=7.0.0->cufflinks) (6.0.4)\n",
      "Requirement already satisfied: jupyter-client in /Users/kbgazzaz/opt/anaconda3/lib/python3.8/site-packages (from ipykernel>=4.5.1->ipywidgets>=7.0.0->cufflinks) (6.1.6)\n",
      "Requirement already satisfied: pyrsistent>=0.14.0 in /Users/kbgazzaz/opt/anaconda3/lib/python3.8/site-packages (from jsonschema!=2.5.0,>=2.4->nbformat>=4.2.0->ipywidgets>=7.0.0->cufflinks) (0.16.0)\n",
      "Requirement already satisfied: attrs>=17.4.0 in /Users/kbgazzaz/opt/anaconda3/lib/python3.8/site-packages (from jsonschema!=2.5.0,>=2.4->nbformat>=4.2.0->ipywidgets>=7.0.0->cufflinks) (19.3.0)\n",
      "Requirement already satisfied: nbconvert in /Users/kbgazzaz/opt/anaconda3/lib/python3.8/site-packages (from notebook>=4.4.1->widgetsnbextension~=3.5.0->ipywidgets>=7.0.0->cufflinks) (5.6.1)\n",
      "Requirement already satisfied: jinja2 in /Users/kbgazzaz/opt/anaconda3/lib/python3.8/site-packages (from notebook>=4.4.1->widgetsnbextension~=3.5.0->ipywidgets>=7.0.0->cufflinks) (2.11.2)\n",
      "Requirement already satisfied: terminado>=0.8.1 in /Users/kbgazzaz/opt/anaconda3/lib/python3.8/site-packages (from notebook>=4.4.1->widgetsnbextension~=3.5.0->ipywidgets>=7.0.0->cufflinks) (0.8.3)\n",
      "Requirement already satisfied: prometheus-client in /Users/kbgazzaz/opt/anaconda3/lib/python3.8/site-packages (from notebook>=4.4.1->widgetsnbextension~=3.5.0->ipywidgets>=7.0.0->cufflinks) (0.8.0)\n",
      "Requirement already satisfied: pyzmq>=17 in /Users/kbgazzaz/opt/anaconda3/lib/python3.8/site-packages (from notebook>=4.4.1->widgetsnbextension~=3.5.0->ipywidgets>=7.0.0->cufflinks) (19.0.1)\n",
      "Requirement already satisfied: Send2Trash in /Users/kbgazzaz/opt/anaconda3/lib/python3.8/site-packages (from notebook>=4.4.1->widgetsnbextension~=3.5.0->ipywidgets>=7.0.0->cufflinks) (1.5.0)\n",
      "Requirement already satisfied: bleach in /Users/kbgazzaz/opt/anaconda3/lib/python3.8/site-packages (from nbconvert->notebook>=4.4.1->widgetsnbextension~=3.5.0->ipywidgets>=7.0.0->cufflinks) (3.1.5)\n",
      "Requirement already satisfied: testpath in /Users/kbgazzaz/opt/anaconda3/lib/python3.8/site-packages (from nbconvert->notebook>=4.4.1->widgetsnbextension~=3.5.0->ipywidgets>=7.0.0->cufflinks) (0.4.4)\n",
      "Requirement already satisfied: mistune<2,>=0.8.1 in /Users/kbgazzaz/opt/anaconda3/lib/python3.8/site-packages (from nbconvert->notebook>=4.4.1->widgetsnbextension~=3.5.0->ipywidgets>=7.0.0->cufflinks) (0.8.4)\n",
      "Requirement already satisfied: pandocfilters>=1.4.1 in /Users/kbgazzaz/opt/anaconda3/lib/python3.8/site-packages (from nbconvert->notebook>=4.4.1->widgetsnbextension~=3.5.0->ipywidgets>=7.0.0->cufflinks) (1.4.2)\n",
      "Requirement already satisfied: entrypoints>=0.2.2 in /Users/kbgazzaz/opt/anaconda3/lib/python3.8/site-packages (from nbconvert->notebook>=4.4.1->widgetsnbextension~=3.5.0->ipywidgets>=7.0.0->cufflinks) (0.3)\n",
      "Requirement already satisfied: defusedxml in /Users/kbgazzaz/opt/anaconda3/lib/python3.8/site-packages (from nbconvert->notebook>=4.4.1->widgetsnbextension~=3.5.0->ipywidgets>=7.0.0->cufflinks) (0.6.0)\n",
      "Requirement already satisfied: MarkupSafe>=0.23 in /Users/kbgazzaz/opt/anaconda3/lib/python3.8/site-packages (from jinja2->notebook>=4.4.1->widgetsnbextension~=3.5.0->ipywidgets>=7.0.0->cufflinks) (1.1.1)\n",
      "Requirement already satisfied: webencodings in /Users/kbgazzaz/opt/anaconda3/lib/python3.8/site-packages (from bleach->nbconvert->notebook>=4.4.1->widgetsnbextension~=3.5.0->ipywidgets>=7.0.0->cufflinks) (0.5.1)\n",
      "Requirement already satisfied: packaging in /Users/kbgazzaz/opt/anaconda3/lib/python3.8/site-packages (from bleach->nbconvert->notebook>=4.4.1->widgetsnbextension~=3.5.0->ipywidgets>=7.0.0->cufflinks) (20.4)\n"
     ]
    },
    {
     "name": "stdout",
     "output_type": "stream",
     "text": [
      "Requirement already satisfied: pyparsing>=2.0.2 in /Users/kbgazzaz/opt/anaconda3/lib/python3.8/site-packages (from packaging->bleach->nbconvert->notebook>=4.4.1->widgetsnbextension~=3.5.0->ipywidgets>=7.0.0->cufflinks) (2.4.7)\n",
      "Building wheels for collected packages: cufflinks\n",
      "  Building wheel for cufflinks (setup.py) ... \u001b[?25ldone\n",
      "\u001b[?25h  Created wheel for cufflinks: filename=cufflinks-0.17.3-py3-none-any.whl size=67921 sha256=a034ec204ed4c8a42b8d7c43486bbb14d581b097ff8497c4b959c77667e51386\n",
      "  Stored in directory: /Users/kbgazzaz/Library/Caches/pip/wheels/6b/76/62/6da97734911ffcbdd559fd1a3f28526321f0ae699182a23866\n",
      "Successfully built cufflinks\n",
      "Installing collected packages: colorlover, cufflinks\n",
      "Successfully installed colorlover-0.3.0 cufflinks-0.17.3\n",
      "Note: you may need to restart the kernel to use updated packages.\n"
     ]
    }
   ],
   "source": [
    "# install cufflinks\n",
    "%pip install cufflinks"
   ]
  },
  {
   "cell_type": "code",
   "execution_count": 1,
   "metadata": {},
   "outputs": [],
   "source": [
    "# imports\n",
    "import pandas as pd\n",
    "import numpy as np\n",
    "import plotly as py\n",
    "import cufflinks as cf"
   ]
  },
  {
   "cell_type": "code",
   "execution_count": 2,
   "metadata": {},
   "outputs": [],
   "source": [
    "# plotly imports\n",
    "from plotly.offline import download_plotlyjs, init_notebook_mode, plot, iplot"
   ]
  },
  {
   "cell_type": "code",
   "execution_count": 3,
   "metadata": {},
   "outputs": [
    {
     "data": {
      "text/html": [
       "        <script type=\"text/javascript\">\n",
       "        window.PlotlyConfig = {MathJaxConfig: 'local'};\n",
       "        if (window.MathJax) {MathJax.Hub.Config({SVG: {font: \"STIX-Web\"}});}\n",
       "        if (typeof require !== 'undefined') {\n",
       "        require.undef(\"plotly\");\n",
       "        requirejs.config({\n",
       "            paths: {\n",
       "                'plotly': ['https://cdn.plot.ly/plotly-latest.min']\n",
       "            }\n",
       "        });\n",
       "        require(['plotly'], function(Plotly) {\n",
       "            window._Plotly = Plotly;\n",
       "        });\n",
       "        }\n",
       "        </script>\n",
       "        "
      ]
     },
     "metadata": {},
     "output_type": "display_data"
    }
   ],
   "source": [
    "# Connects Jupyter notebook's javascript to plotly to allow it to display interactive visualizations\n",
    "init_notebook_mode(connected=True)"
   ]
  },
  {
   "cell_type": "code",
   "execution_count": 4,
   "metadata": {},
   "outputs": [
    {
     "data": {
      "text/html": [
       "        <script type=\"text/javascript\">\n",
       "        window.PlotlyConfig = {MathJaxConfig: 'local'};\n",
       "        if (window.MathJax) {MathJax.Hub.Config({SVG: {font: \"STIX-Web\"}});}\n",
       "        if (typeof require !== 'undefined') {\n",
       "        require.undef(\"plotly\");\n",
       "        requirejs.config({\n",
       "            paths: {\n",
       "                'plotly': ['https://cdn.plot.ly/plotly-latest.min']\n",
       "            }\n",
       "        });\n",
       "        require(['plotly'], function(Plotly) {\n",
       "            window._Plotly = Plotly;\n",
       "        });\n",
       "        }\n",
       "        </script>\n",
       "        "
      ]
     },
     "metadata": {},
     "output_type": "display_data"
    }
   ],
   "source": [
    "# Allows us to use cufflinks offline \n",
    "cf.go_offline()"
   ]
  },
  {
   "cell_type": "code",
   "execution_count": 9,
   "metadata": {},
   "outputs": [
    {
     "data": {
      "text/html": [
       "<div>\n",
       "<style scoped>\n",
       "    .dataframe tbody tr th:only-of-type {\n",
       "        vertical-align: middle;\n",
       "    }\n",
       "\n",
       "    .dataframe tbody tr th {\n",
       "        vertical-align: top;\n",
       "    }\n",
       "\n",
       "    .dataframe thead th {\n",
       "        text-align: right;\n",
       "    }\n",
       "</style>\n",
       "<table border=\"1\" class=\"dataframe\">\n",
       "  <thead>\n",
       "    <tr style=\"text-align: right;\">\n",
       "      <th></th>\n",
       "      <th>A</th>\n",
       "      <th>B</th>\n",
       "      <th>C</th>\n",
       "      <th>D</th>\n",
       "    </tr>\n",
       "  </thead>\n",
       "  <tbody>\n",
       "    <tr>\n",
       "      <th>0</th>\n",
       "      <td>0.006455</td>\n",
       "      <td>0.371541</td>\n",
       "      <td>-0.815621</td>\n",
       "      <td>-0.468968</td>\n",
       "    </tr>\n",
       "    <tr>\n",
       "      <th>1</th>\n",
       "      <td>-1.439788</td>\n",
       "      <td>-0.149690</td>\n",
       "      <td>-0.348805</td>\n",
       "      <td>0.918570</td>\n",
       "    </tr>\n",
       "    <tr>\n",
       "      <th>2</th>\n",
       "      <td>1.070861</td>\n",
       "      <td>-0.439021</td>\n",
       "      <td>1.363465</td>\n",
       "      <td>-0.951835</td>\n",
       "    </tr>\n",
       "    <tr>\n",
       "      <th>3</th>\n",
       "      <td>0.284066</td>\n",
       "      <td>1.612458</td>\n",
       "      <td>0.682765</td>\n",
       "      <td>0.481278</td>\n",
       "    </tr>\n",
       "    <tr>\n",
       "      <th>4</th>\n",
       "      <td>0.058581</td>\n",
       "      <td>0.111838</td>\n",
       "      <td>-1.057982</td>\n",
       "      <td>-1.312523</td>\n",
       "    </tr>\n",
       "  </tbody>\n",
       "</table>\n",
       "</div>"
      ],
      "text/plain": [
       "          A         B         C         D\n",
       "0  0.006455  0.371541 -0.815621 -0.468968\n",
       "1 -1.439788 -0.149690 -0.348805  0.918570\n",
       "2  1.070861 -0.439021  1.363465 -0.951835\n",
       "3  0.284066  1.612458  0.682765  0.481278\n",
       "4  0.058581  0.111838 -1.057982 -1.312523"
      ]
     },
     "execution_count": 9,
     "metadata": {},
     "output_type": "execute_result"
    }
   ],
   "source": [
    "# Generate numerical data\n",
    "df = pd.DataFrame(np.random.randn(100,4),columns='A B C D'.split())\n",
    "df.head()"
   ]
  },
  {
   "cell_type": "code",
   "execution_count": 11,
   "metadata": {},
   "outputs": [
    {
     "data": {
      "text/html": [
       "<div>\n",
       "<style scoped>\n",
       "    .dataframe tbody tr th:only-of-type {\n",
       "        vertical-align: middle;\n",
       "    }\n",
       "\n",
       "    .dataframe tbody tr th {\n",
       "        vertical-align: top;\n",
       "    }\n",
       "\n",
       "    .dataframe thead th {\n",
       "        text-align: right;\n",
       "    }\n",
       "</style>\n",
       "<table border=\"1\" class=\"dataframe\">\n",
       "  <thead>\n",
       "    <tr style=\"text-align: right;\">\n",
       "      <th></th>\n",
       "      <th>Category</th>\n",
       "      <th>Values</th>\n",
       "    </tr>\n",
       "  </thead>\n",
       "  <tbody>\n",
       "    <tr>\n",
       "      <th>0</th>\n",
       "      <td>Serie A</td>\n",
       "      <td>12</td>\n",
       "    </tr>\n",
       "    <tr>\n",
       "      <th>1</th>\n",
       "      <td>La Liga</td>\n",
       "      <td>18</td>\n",
       "    </tr>\n",
       "    <tr>\n",
       "      <th>2</th>\n",
       "      <td>EPL</td>\n",
       "      <td>13</td>\n",
       "    </tr>\n",
       "  </tbody>\n",
       "</table>\n",
       "</div>"
      ],
      "text/plain": [
       "  Category  Values\n",
       "0  Serie A      12\n",
       "1  La Liga      18\n",
       "2      EPL      13"
      ]
     },
     "execution_count": 11,
     "metadata": {},
     "output_type": "execute_result"
    }
   ],
   "source": [
    "# Generate categorical data (for bar plots...)\n",
    "df2 = pd.DataFrame({'Category':['Serie A','La Liga','EPL'],'Values':[12,18,13]})\n",
    "df2"
   ]
  },
  {
   "cell_type": "markdown",
   "metadata": {},
   "source": [
    "## Interactive Line Plots\n",
    "\n",
    "Use `iplot` to create an interactive plotly line plot. You can hover your cursor to get values, click columns on and off (from legend), pinch to zoom in, save and edit the plot, download ..."
   ]
  },
  {
   "cell_type": "code",
   "execution_count": 12,
   "metadata": {},
   "outputs": [
    {
     "data": {
      "application/vnd.plotly.v1+json": {
       "config": {
        "linkText": "Export to plot.ly",
        "plotlyServerURL": "https://plot.ly",
        "showLink": true
       },
       "data": [
        {
         "line": {
          "color": "rgba(255, 153, 51, 1.0)",
          "dash": "solid",
          "shape": "linear",
          "width": 1.3
         },
         "mode": "lines",
         "name": "A",
         "text": "",
         "type": "scatter",
         "x": [
          0,
          1,
          2,
          3,
          4,
          5,
          6,
          7,
          8,
          9,
          10,
          11,
          12,
          13,
          14,
          15,
          16,
          17,
          18,
          19,
          20,
          21,
          22,
          23,
          24,
          25,
          26,
          27,
          28,
          29,
          30,
          31,
          32,
          33,
          34,
          35,
          36,
          37,
          38,
          39,
          40,
          41,
          42,
          43,
          44,
          45,
          46,
          47,
          48,
          49,
          50,
          51,
          52,
          53,
          54,
          55,
          56,
          57,
          58,
          59,
          60,
          61,
          62,
          63,
          64,
          65,
          66,
          67,
          68,
          69,
          70,
          71,
          72,
          73,
          74,
          75,
          76,
          77,
          78,
          79,
          80,
          81,
          82,
          83,
          84,
          85,
          86,
          87,
          88,
          89,
          90,
          91,
          92,
          93,
          94,
          95,
          96,
          97,
          98,
          99
         ],
         "y": [
          0.00645505412481479,
          -1.4397876348458365,
          1.0708611347292805,
          0.28406613516333,
          0.058580630554189314,
          0.8284319830137025,
          -0.42047449551545285,
          -0.09014078165929397,
          -1.3944631937012903,
          0.05256359179847144,
          0.0409425859720373,
          -1.0208810538666255,
          1.147791416367246,
          0.7658353585491399,
          -0.4910219172880578,
          -0.8721591983562276,
          -0.9005228723828286,
          -0.560157105001934,
          0.3713100958842003,
          -1.2535692114404662,
          0.6909564571551409,
          0.1842453733842638,
          1.1379399025401098,
          1.1225527092582108,
          2.566851668670725,
          -1.670807423685407,
          1.94114639518042,
          -0.4715978936051285,
          -0.8163180921528749,
          -1.3536378264027218,
          -0.4147680876033762,
          -1.5047960860017953,
          -0.45073089384645704,
          -0.7269309668428034,
          0.7071546103928739,
          -0.5733190517411629,
          -0.6254361093893777,
          -1.5979799108505073,
          0.5170911382160981,
          0.5990087994240142,
          -0.2713626986608739,
          0.009040260923086347,
          -1.8660001972888383,
          0.40229667838475697,
          0.41585974272164616,
          -0.763893236346236,
          -0.34155596437332403,
          0.9542846586183369,
          1.0716615685885462,
          -0.060216026348868294,
          -1.1773224311305817,
          -0.9337797332054449,
          0.1749212272955488,
          -0.4016088255929763,
          1.5669389913415512,
          -0.8513635591410853,
          0.5310694215184522,
          -0.2754033351060103,
          -1.0414551990670875,
          -1.3845691960246238,
          0.11348281842005707,
          1.3575087993749007,
          -0.3954770620305859,
          0.676071850082259,
          0.4705010649987572,
          -0.3790387735935101,
          -0.8495913010737675,
          0.8382970974418101,
          -0.5153325311787621,
          -1.7022110786144058,
          1.4655183248688948,
          1.0520473235550596,
          -1.171272825456019,
          -0.7506656329216204,
          0.7543814278344634,
          0.25107938267119495,
          -0.5073680136495456,
          -0.65943015684561,
          0.04797048723213697,
          1.3725651550792377,
          0.3377203852279814,
          1.2690715670621149,
          0.3721442232698379,
          0.5626215355177316,
          -0.135971356264149,
          -1.0401702516300955,
          0.2074595019498187,
          0.6824824097281659,
          -1.2108413913024183,
          -0.14337649101770347,
          -0.15534252908565863,
          1.8190769247613148,
          -1.2625189409980964,
          1.0150403647301383,
          0.5975471562017068,
          0.7052928914556554,
          0.7574383663343425,
          0.3520597042626315,
          0.12580990970060232,
          -1.371360391325017
         ]
        },
        {
         "line": {
          "color": "rgba(55, 128, 191, 1.0)",
          "dash": "solid",
          "shape": "linear",
          "width": 1.3
         },
         "mode": "lines",
         "name": "B",
         "text": "",
         "type": "scatter",
         "x": [
          0,
          1,
          2,
          3,
          4,
          5,
          6,
          7,
          8,
          9,
          10,
          11,
          12,
          13,
          14,
          15,
          16,
          17,
          18,
          19,
          20,
          21,
          22,
          23,
          24,
          25,
          26,
          27,
          28,
          29,
          30,
          31,
          32,
          33,
          34,
          35,
          36,
          37,
          38,
          39,
          40,
          41,
          42,
          43,
          44,
          45,
          46,
          47,
          48,
          49,
          50,
          51,
          52,
          53,
          54,
          55,
          56,
          57,
          58,
          59,
          60,
          61,
          62,
          63,
          64,
          65,
          66,
          67,
          68,
          69,
          70,
          71,
          72,
          73,
          74,
          75,
          76,
          77,
          78,
          79,
          80,
          81,
          82,
          83,
          84,
          85,
          86,
          87,
          88,
          89,
          90,
          91,
          92,
          93,
          94,
          95,
          96,
          97,
          98,
          99
         ],
         "y": [
          0.3715414837853284,
          -0.1496899277411245,
          -0.4390213126824492,
          1.6124578320777376,
          0.11183836103323239,
          1.458697253376567,
          0.9643586012873291,
          0.6670443200955786,
          -0.21265059534970032,
          -0.8636786417042411,
          1.7871113503248284,
          -0.1447568525603548,
          0.9351528782010953,
          0.9625816992599668,
          -0.3733852727659238,
          -0.2822727071412232,
          -0.0358397051319197,
          2.2130874225777575,
          0.25326232890298495,
          -0.445997394922047,
          -0.12580352886153912,
          0.821603670489078,
          -0.31317514756877424,
          -1.227443779918153,
          0.08176459147203437,
          -0.13765985270634984,
          -1.1342575625974662,
          -0.6658897059835954,
          -0.8162034704460095,
          0.8322541179478329,
          -2.3019121397506352,
          0.22840969211373394,
          -0.09790587776093376,
          0.8646965614406674,
          0.8123971676173096,
          0.09931126017752998,
          -0.2851236926891674,
          -0.6546008255239986,
          0.34637604119215065,
          -0.08096229379499327,
          -1.0821639264456364,
          0.7707047699604228,
          -0.3655827162038345,
          -0.8690899907167929,
          -1.62725903133252,
          0.8473311747014874,
          0.2243054275489603,
          0.9160444771656323,
          -0.013671567941790488,
          1.1756905044906398,
          2.211644592878346,
          2.6734963742744893,
          2.403609725799866,
          -0.7828324585717606,
          -1.9352254812359753,
          2.05781884631984,
          0.22955750817913378,
          -1.41367971194844,
          -0.02222680289686833,
          -0.3265895253904034,
          -0.662586189934153,
          0.34162075972823924,
          -1.7987978352472804,
          -2.164523510479693,
          -1.0226530080529086,
          0.09527821901748883,
          -0.3735501240807589,
          -0.8341382892266959,
          -0.34868142809346037,
          1.3620090274224168,
          0.6831582769222206,
          -0.9704644017602544,
          1.0850240034716527,
          0.03189658005429582,
          1.5597883688055845,
          -0.6942070267432159,
          -0.22882318437441995,
          1.410449211516949,
          1.3503691828085254,
          0.1134970084477248,
          -0.4990774677156832,
          -1.4529230662123482,
          -0.6863896873450261,
          0.7806907699913527,
          -0.4867880186501855,
          0.9352865979372379,
          -0.5062252759718567,
          0.5592357779532194,
          0.6665247279587084,
          0.7647459179575313,
          0.4677285244089398,
          1.0166663003685206,
          1.0356066302371916,
          -0.44541082873479076,
          -0.040668349850732054,
          0.5685074541670516,
          -1.167505710044138,
          -0.370685489323101,
          0.7617607871230696,
          -0.34649327030204485
         ]
        },
        {
         "line": {
          "color": "rgba(50, 171, 96, 1.0)",
          "dash": "solid",
          "shape": "linear",
          "width": 1.3
         },
         "mode": "lines",
         "name": "C",
         "text": "",
         "type": "scatter",
         "x": [
          0,
          1,
          2,
          3,
          4,
          5,
          6,
          7,
          8,
          9,
          10,
          11,
          12,
          13,
          14,
          15,
          16,
          17,
          18,
          19,
          20,
          21,
          22,
          23,
          24,
          25,
          26,
          27,
          28,
          29,
          30,
          31,
          32,
          33,
          34,
          35,
          36,
          37,
          38,
          39,
          40,
          41,
          42,
          43,
          44,
          45,
          46,
          47,
          48,
          49,
          50,
          51,
          52,
          53,
          54,
          55,
          56,
          57,
          58,
          59,
          60,
          61,
          62,
          63,
          64,
          65,
          66,
          67,
          68,
          69,
          70,
          71,
          72,
          73,
          74,
          75,
          76,
          77,
          78,
          79,
          80,
          81,
          82,
          83,
          84,
          85,
          86,
          87,
          88,
          89,
          90,
          91,
          92,
          93,
          94,
          95,
          96,
          97,
          98,
          99
         ],
         "y": [
          -0.8156211921936473,
          -0.3488054734179534,
          1.3634652871830246,
          0.6827654196928922,
          -1.0579817213633653,
          -0.9172741010318527,
          -1.0111454672320228,
          2.1474195456264242,
          -0.029116717408046878,
          -0.10503227051826579,
          -1.8982085799443809,
          -0.061607126903382985,
          -1.461069514841389,
          -0.4159207500708357,
          0.5428281012175966,
          -1.1064321564326451,
          1.1818468571532845,
          -0.4997449331078411,
          0.6513450257522175,
          -1.0096901464963166,
          0.7777710862030701,
          1.1156051451021982,
          -1.3963977721174032,
          -2.1957740562038897,
          -0.003082555605334334,
          -0.8711334400342721,
          -1.1721695448682867,
          0.9015731399020005,
          -0.7687236581093563,
          0.648912600414831,
          -0.3370999147061945,
          -0.2557289363041199,
          1.3940022814140893,
          -1.0918291338075325,
          0.926385756882171,
          -0.02699273090378049,
          -1.9310415085129753,
          -2.0537105543928087,
          1.331393828819895,
          -1.2479264355796142,
          1.3244176563546068,
          0.4547765829735793,
          -0.9485957942455121,
          0.7711272727493926,
          0.10770503293463943,
          -0.34345388358808904,
          -0.2901651965788942,
          -1.8859801912106564,
          -0.06463771887301847,
          0.7339329153613252,
          -2.9813490059807424,
          0.49298111601570926,
          2.089197422357034,
          0.5485407093266145,
          -0.45294081667793284,
          -1.2343570095799694,
          -0.6043887454889516,
          0.19698825224500555,
          0.2525008929314805,
          0.49330016796457193,
          -1.3296448063379627,
          -1.3199625654791716,
          -0.22952536088723396,
          -2.100923552982224,
          -1.2766272123803133,
          -0.0759219486515562,
          -1.3161580407429254,
          0.06457107233952505,
          0.11828851281676804,
          -0.1854970115502745,
          -0.6904859218641665,
          0.9987015332368285,
          1.0653613654646588,
          0.30642527390970625,
          0.005411555193580738,
          0.46565443254592476,
          -0.5513607990797764,
          -0.6156892013681534,
          1.0864651990406675,
          1.2076925241549614,
          0.02996839767387277,
          -0.014468892242910269,
          2.314696376629038,
          2.208168488408517,
          -1.3983413330991918,
          0.8986343834667301,
          0.9916299241963795,
          -0.20474753074899615,
          -0.2318152457813195,
          -0.41240495042251296,
          -1.5084220112468731,
          -0.2339935120152956,
          -0.6079408227599712,
          -0.09966875704636555,
          0.23726828071761713,
          -1.7732192190847027,
          0.28673585713418004,
          -0.7359231672703281,
          0.14300452088914767,
          1.6972975653855318
         ]
        },
        {
         "line": {
          "color": "rgba(128, 0, 128, 1.0)",
          "dash": "solid",
          "shape": "linear",
          "width": 1.3
         },
         "mode": "lines",
         "name": "D",
         "text": "",
         "type": "scatter",
         "x": [
          0,
          1,
          2,
          3,
          4,
          5,
          6,
          7,
          8,
          9,
          10,
          11,
          12,
          13,
          14,
          15,
          16,
          17,
          18,
          19,
          20,
          21,
          22,
          23,
          24,
          25,
          26,
          27,
          28,
          29,
          30,
          31,
          32,
          33,
          34,
          35,
          36,
          37,
          38,
          39,
          40,
          41,
          42,
          43,
          44,
          45,
          46,
          47,
          48,
          49,
          50,
          51,
          52,
          53,
          54,
          55,
          56,
          57,
          58,
          59,
          60,
          61,
          62,
          63,
          64,
          65,
          66,
          67,
          68,
          69,
          70,
          71,
          72,
          73,
          74,
          75,
          76,
          77,
          78,
          79,
          80,
          81,
          82,
          83,
          84,
          85,
          86,
          87,
          88,
          89,
          90,
          91,
          92,
          93,
          94,
          95,
          96,
          97,
          98,
          99
         ],
         "y": [
          -0.46896793394847963,
          0.9185701612631408,
          -0.9518353470364371,
          0.48127796570390513,
          -1.3125227628679224,
          -0.6001985612883243,
          1.2438374321973853,
          -1.0553928899948373,
          0.7992286386403018,
          0.6552228453687096,
          1.531139173688056,
          -1.434972124639351,
          0.5886176757481795,
          -0.3256784096497872,
          -0.2623819605419885,
          0.8093293479850361,
          -0.33275476984830865,
          -0.2956276921472676,
          -0.16713256889711028,
          0.18389720704075418,
          0.6657691087241017,
          -1.4997126274775754,
          0.8711561678776168,
          -0.8924685564325691,
          0.6394678129395951,
          -1.196144615877988,
          2.2614519074522,
          0.11987585103470248,
          -2.579662215505832,
          -1.3178324834559312,
          0.46948793870344907,
          -0.2210025562961031,
          1.4552867861558016,
          1.326246985282575,
          -0.054439587001145,
          1.2706741490376032,
          0.7484048322067663,
          1.2710087859871775,
          0.9447743157753115,
          0.0917616016406183,
          -2.0969697544296864,
          -1.1217734741484078,
          -0.35986753254874787,
          0.12035306348613169,
          -1.1902816920463186,
          -1.2966439417613633,
          -0.017967446036095795,
          0.514611017485124,
          -1.4461382765586006,
          1.01186070273958,
          0.8879030485264665,
          0.4676220911886453,
          0.6228012943753499,
          -1.4207209081286396,
          0.2867700005446423,
          -0.6139865568654482,
          -0.5415167711981378,
          -1.9858206491463257,
          0.12723912891542727,
          -0.1793100802880613,
          0.0037780088332585375,
          1.3903163960561136,
          1.5083085016459787,
          0.3926357357086319,
          -0.9743888746263668,
          -0.9454377234958473,
          -0.8321414989740954,
          -1.620960244458763,
          -0.6017219998541727,
          -0.06238112948649538,
          1.6954621456675467,
          1.124584858797205,
          -1.15012884419011,
          -1.4364055469573436,
          0.5664302863033238,
          1.8332136136850243,
          -0.8089001901634655,
          0.43902060972417456,
          0.37600900785175306,
          -1.3948918928031053,
          -0.6904696137869282,
          0.19589727243424596,
          -1.5300619443770898,
          -1.9477439997569757,
          -0.7048608070105993,
          0.0030274862426587037,
          -0.3658721419657042,
          -0.027565836557152504,
          0.46474856183842084,
          -0.4170025571275899,
          0.5118024905797606,
          0.022175819324665814,
          0.07345976472766286,
          -0.6162389548458861,
          -0.546978786397993,
          0.00893652800919723,
          -0.3826503977720516,
          0.2771619614010083,
          0.6072349321310275,
          1.0624815146959694
         ]
        }
       ],
       "layout": {
        "legend": {
         "bgcolor": "#F5F6F9",
         "font": {
          "color": "#4D5663"
         }
        },
        "paper_bgcolor": "#F5F6F9",
        "plot_bgcolor": "#F5F6F9",
        "template": {
         "data": {
          "bar": [
           {
            "error_x": {
             "color": "#2a3f5f"
            },
            "error_y": {
             "color": "#2a3f5f"
            },
            "marker": {
             "line": {
              "color": "#E5ECF6",
              "width": 0.5
             }
            },
            "type": "bar"
           }
          ],
          "barpolar": [
           {
            "marker": {
             "line": {
              "color": "#E5ECF6",
              "width": 0.5
             }
            },
            "type": "barpolar"
           }
          ],
          "carpet": [
           {
            "aaxis": {
             "endlinecolor": "#2a3f5f",
             "gridcolor": "white",
             "linecolor": "white",
             "minorgridcolor": "white",
             "startlinecolor": "#2a3f5f"
            },
            "baxis": {
             "endlinecolor": "#2a3f5f",
             "gridcolor": "white",
             "linecolor": "white",
             "minorgridcolor": "white",
             "startlinecolor": "#2a3f5f"
            },
            "type": "carpet"
           }
          ],
          "choropleth": [
           {
            "colorbar": {
             "outlinewidth": 0,
             "ticks": ""
            },
            "type": "choropleth"
           }
          ],
          "contour": [
           {
            "colorbar": {
             "outlinewidth": 0,
             "ticks": ""
            },
            "colorscale": [
             [
              0,
              "#0d0887"
             ],
             [
              0.1111111111111111,
              "#46039f"
             ],
             [
              0.2222222222222222,
              "#7201a8"
             ],
             [
              0.3333333333333333,
              "#9c179e"
             ],
             [
              0.4444444444444444,
              "#bd3786"
             ],
             [
              0.5555555555555556,
              "#d8576b"
             ],
             [
              0.6666666666666666,
              "#ed7953"
             ],
             [
              0.7777777777777778,
              "#fb9f3a"
             ],
             [
              0.8888888888888888,
              "#fdca26"
             ],
             [
              1,
              "#f0f921"
             ]
            ],
            "type": "contour"
           }
          ],
          "contourcarpet": [
           {
            "colorbar": {
             "outlinewidth": 0,
             "ticks": ""
            },
            "type": "contourcarpet"
           }
          ],
          "heatmap": [
           {
            "colorbar": {
             "outlinewidth": 0,
             "ticks": ""
            },
            "colorscale": [
             [
              0,
              "#0d0887"
             ],
             [
              0.1111111111111111,
              "#46039f"
             ],
             [
              0.2222222222222222,
              "#7201a8"
             ],
             [
              0.3333333333333333,
              "#9c179e"
             ],
             [
              0.4444444444444444,
              "#bd3786"
             ],
             [
              0.5555555555555556,
              "#d8576b"
             ],
             [
              0.6666666666666666,
              "#ed7953"
             ],
             [
              0.7777777777777778,
              "#fb9f3a"
             ],
             [
              0.8888888888888888,
              "#fdca26"
             ],
             [
              1,
              "#f0f921"
             ]
            ],
            "type": "heatmap"
           }
          ],
          "heatmapgl": [
           {
            "colorbar": {
             "outlinewidth": 0,
             "ticks": ""
            },
            "colorscale": [
             [
              0,
              "#0d0887"
             ],
             [
              0.1111111111111111,
              "#46039f"
             ],
             [
              0.2222222222222222,
              "#7201a8"
             ],
             [
              0.3333333333333333,
              "#9c179e"
             ],
             [
              0.4444444444444444,
              "#bd3786"
             ],
             [
              0.5555555555555556,
              "#d8576b"
             ],
             [
              0.6666666666666666,
              "#ed7953"
             ],
             [
              0.7777777777777778,
              "#fb9f3a"
             ],
             [
              0.8888888888888888,
              "#fdca26"
             ],
             [
              1,
              "#f0f921"
             ]
            ],
            "type": "heatmapgl"
           }
          ],
          "histogram": [
           {
            "marker": {
             "colorbar": {
              "outlinewidth": 0,
              "ticks": ""
             }
            },
            "type": "histogram"
           }
          ],
          "histogram2d": [
           {
            "colorbar": {
             "outlinewidth": 0,
             "ticks": ""
            },
            "colorscale": [
             [
              0,
              "#0d0887"
             ],
             [
              0.1111111111111111,
              "#46039f"
             ],
             [
              0.2222222222222222,
              "#7201a8"
             ],
             [
              0.3333333333333333,
              "#9c179e"
             ],
             [
              0.4444444444444444,
              "#bd3786"
             ],
             [
              0.5555555555555556,
              "#d8576b"
             ],
             [
              0.6666666666666666,
              "#ed7953"
             ],
             [
              0.7777777777777778,
              "#fb9f3a"
             ],
             [
              0.8888888888888888,
              "#fdca26"
             ],
             [
              1,
              "#f0f921"
             ]
            ],
            "type": "histogram2d"
           }
          ],
          "histogram2dcontour": [
           {
            "colorbar": {
             "outlinewidth": 0,
             "ticks": ""
            },
            "colorscale": [
             [
              0,
              "#0d0887"
             ],
             [
              0.1111111111111111,
              "#46039f"
             ],
             [
              0.2222222222222222,
              "#7201a8"
             ],
             [
              0.3333333333333333,
              "#9c179e"
             ],
             [
              0.4444444444444444,
              "#bd3786"
             ],
             [
              0.5555555555555556,
              "#d8576b"
             ],
             [
              0.6666666666666666,
              "#ed7953"
             ],
             [
              0.7777777777777778,
              "#fb9f3a"
             ],
             [
              0.8888888888888888,
              "#fdca26"
             ],
             [
              1,
              "#f0f921"
             ]
            ],
            "type": "histogram2dcontour"
           }
          ],
          "mesh3d": [
           {
            "colorbar": {
             "outlinewidth": 0,
             "ticks": ""
            },
            "type": "mesh3d"
           }
          ],
          "parcoords": [
           {
            "line": {
             "colorbar": {
              "outlinewidth": 0,
              "ticks": ""
             }
            },
            "type": "parcoords"
           }
          ],
          "pie": [
           {
            "automargin": true,
            "type": "pie"
           }
          ],
          "scatter": [
           {
            "marker": {
             "colorbar": {
              "outlinewidth": 0,
              "ticks": ""
             }
            },
            "type": "scatter"
           }
          ],
          "scatter3d": [
           {
            "line": {
             "colorbar": {
              "outlinewidth": 0,
              "ticks": ""
             }
            },
            "marker": {
             "colorbar": {
              "outlinewidth": 0,
              "ticks": ""
             }
            },
            "type": "scatter3d"
           }
          ],
          "scattercarpet": [
           {
            "marker": {
             "colorbar": {
              "outlinewidth": 0,
              "ticks": ""
             }
            },
            "type": "scattercarpet"
           }
          ],
          "scattergeo": [
           {
            "marker": {
             "colorbar": {
              "outlinewidth": 0,
              "ticks": ""
             }
            },
            "type": "scattergeo"
           }
          ],
          "scattergl": [
           {
            "marker": {
             "colorbar": {
              "outlinewidth": 0,
              "ticks": ""
             }
            },
            "type": "scattergl"
           }
          ],
          "scattermapbox": [
           {
            "marker": {
             "colorbar": {
              "outlinewidth": 0,
              "ticks": ""
             }
            },
            "type": "scattermapbox"
           }
          ],
          "scatterpolar": [
           {
            "marker": {
             "colorbar": {
              "outlinewidth": 0,
              "ticks": ""
             }
            },
            "type": "scatterpolar"
           }
          ],
          "scatterpolargl": [
           {
            "marker": {
             "colorbar": {
              "outlinewidth": 0,
              "ticks": ""
             }
            },
            "type": "scatterpolargl"
           }
          ],
          "scatterternary": [
           {
            "marker": {
             "colorbar": {
              "outlinewidth": 0,
              "ticks": ""
             }
            },
            "type": "scatterternary"
           }
          ],
          "surface": [
           {
            "colorbar": {
             "outlinewidth": 0,
             "ticks": ""
            },
            "colorscale": [
             [
              0,
              "#0d0887"
             ],
             [
              0.1111111111111111,
              "#46039f"
             ],
             [
              0.2222222222222222,
              "#7201a8"
             ],
             [
              0.3333333333333333,
              "#9c179e"
             ],
             [
              0.4444444444444444,
              "#bd3786"
             ],
             [
              0.5555555555555556,
              "#d8576b"
             ],
             [
              0.6666666666666666,
              "#ed7953"
             ],
             [
              0.7777777777777778,
              "#fb9f3a"
             ],
             [
              0.8888888888888888,
              "#fdca26"
             ],
             [
              1,
              "#f0f921"
             ]
            ],
            "type": "surface"
           }
          ],
          "table": [
           {
            "cells": {
             "fill": {
              "color": "#EBF0F8"
             },
             "line": {
              "color": "white"
             }
            },
            "header": {
             "fill": {
              "color": "#C8D4E3"
             },
             "line": {
              "color": "white"
             }
            },
            "type": "table"
           }
          ]
         },
         "layout": {
          "annotationdefaults": {
           "arrowcolor": "#2a3f5f",
           "arrowhead": 0,
           "arrowwidth": 1
          },
          "coloraxis": {
           "colorbar": {
            "outlinewidth": 0,
            "ticks": ""
           }
          },
          "colorscale": {
           "diverging": [
            [
             0,
             "#8e0152"
            ],
            [
             0.1,
             "#c51b7d"
            ],
            [
             0.2,
             "#de77ae"
            ],
            [
             0.3,
             "#f1b6da"
            ],
            [
             0.4,
             "#fde0ef"
            ],
            [
             0.5,
             "#f7f7f7"
            ],
            [
             0.6,
             "#e6f5d0"
            ],
            [
             0.7,
             "#b8e186"
            ],
            [
             0.8,
             "#7fbc41"
            ],
            [
             0.9,
             "#4d9221"
            ],
            [
             1,
             "#276419"
            ]
           ],
           "sequential": [
            [
             0,
             "#0d0887"
            ],
            [
             0.1111111111111111,
             "#46039f"
            ],
            [
             0.2222222222222222,
             "#7201a8"
            ],
            [
             0.3333333333333333,
             "#9c179e"
            ],
            [
             0.4444444444444444,
             "#bd3786"
            ],
            [
             0.5555555555555556,
             "#d8576b"
            ],
            [
             0.6666666666666666,
             "#ed7953"
            ],
            [
             0.7777777777777778,
             "#fb9f3a"
            ],
            [
             0.8888888888888888,
             "#fdca26"
            ],
            [
             1,
             "#f0f921"
            ]
           ],
           "sequentialminus": [
            [
             0,
             "#0d0887"
            ],
            [
             0.1111111111111111,
             "#46039f"
            ],
            [
             0.2222222222222222,
             "#7201a8"
            ],
            [
             0.3333333333333333,
             "#9c179e"
            ],
            [
             0.4444444444444444,
             "#bd3786"
            ],
            [
             0.5555555555555556,
             "#d8576b"
            ],
            [
             0.6666666666666666,
             "#ed7953"
            ],
            [
             0.7777777777777778,
             "#fb9f3a"
            ],
            [
             0.8888888888888888,
             "#fdca26"
            ],
            [
             1,
             "#f0f921"
            ]
           ]
          },
          "colorway": [
           "#636efa",
           "#EF553B",
           "#00cc96",
           "#ab63fa",
           "#FFA15A",
           "#19d3f3",
           "#FF6692",
           "#B6E880",
           "#FF97FF",
           "#FECB52"
          ],
          "font": {
           "color": "#2a3f5f"
          },
          "geo": {
           "bgcolor": "white",
           "lakecolor": "white",
           "landcolor": "#E5ECF6",
           "showlakes": true,
           "showland": true,
           "subunitcolor": "white"
          },
          "hoverlabel": {
           "align": "left"
          },
          "hovermode": "closest",
          "mapbox": {
           "style": "light"
          },
          "paper_bgcolor": "white",
          "plot_bgcolor": "#E5ECF6",
          "polar": {
           "angularaxis": {
            "gridcolor": "white",
            "linecolor": "white",
            "ticks": ""
           },
           "bgcolor": "#E5ECF6",
           "radialaxis": {
            "gridcolor": "white",
            "linecolor": "white",
            "ticks": ""
           }
          },
          "scene": {
           "xaxis": {
            "backgroundcolor": "#E5ECF6",
            "gridcolor": "white",
            "gridwidth": 2,
            "linecolor": "white",
            "showbackground": true,
            "ticks": "",
            "zerolinecolor": "white"
           },
           "yaxis": {
            "backgroundcolor": "#E5ECF6",
            "gridcolor": "white",
            "gridwidth": 2,
            "linecolor": "white",
            "showbackground": true,
            "ticks": "",
            "zerolinecolor": "white"
           },
           "zaxis": {
            "backgroundcolor": "#E5ECF6",
            "gridcolor": "white",
            "gridwidth": 2,
            "linecolor": "white",
            "showbackground": true,
            "ticks": "",
            "zerolinecolor": "white"
           }
          },
          "shapedefaults": {
           "line": {
            "color": "#2a3f5f"
           }
          },
          "ternary": {
           "aaxis": {
            "gridcolor": "white",
            "linecolor": "white",
            "ticks": ""
           },
           "baxis": {
            "gridcolor": "white",
            "linecolor": "white",
            "ticks": ""
           },
           "bgcolor": "#E5ECF6",
           "caxis": {
            "gridcolor": "white",
            "linecolor": "white",
            "ticks": ""
           }
          },
          "title": {
           "x": 0.05
          },
          "xaxis": {
           "automargin": true,
           "gridcolor": "white",
           "linecolor": "white",
           "ticks": "",
           "title": {
            "standoff": 15
           },
           "zerolinecolor": "white",
           "zerolinewidth": 2
          },
          "yaxis": {
           "automargin": true,
           "gridcolor": "white",
           "linecolor": "white",
           "ticks": "",
           "title": {
            "standoff": 15
           },
           "zerolinecolor": "white",
           "zerolinewidth": 2
          }
         }
        },
        "title": {
         "font": {
          "color": "#4D5663"
         }
        },
        "xaxis": {
         "gridcolor": "#E1E5ED",
         "showgrid": true,
         "tickfont": {
          "color": "#4D5663"
         },
         "title": {
          "font": {
           "color": "#4D5663"
          },
          "text": ""
         },
         "zerolinecolor": "#E1E5ED"
        },
        "yaxis": {
         "gridcolor": "#E1E5ED",
         "showgrid": true,
         "tickfont": {
          "color": "#4D5663"
         },
         "title": {
          "font": {
           "color": "#4D5663"
          },
          "text": ""
         },
         "zerolinecolor": "#E1E5ED"
        }
       }
      },
      "text/html": [
       "<div>                            <div id=\"4e1529ef-556c-4d72-82cf-ddbeff977737\" class=\"plotly-graph-div\" style=\"height:525px; width:100%;\"></div>            <script type=\"text/javascript\">                require([\"plotly\"], function(Plotly) {                    window.PLOTLYENV=window.PLOTLYENV || {};\n",
       "                    window.PLOTLYENV.BASE_URL='https://plot.ly';                                    if (document.getElementById(\"4e1529ef-556c-4d72-82cf-ddbeff977737\")) {                    Plotly.newPlot(                        \"4e1529ef-556c-4d72-82cf-ddbeff977737\",                        [{\"line\": {\"color\": \"rgba(255, 153, 51, 1.0)\", \"dash\": \"solid\", \"shape\": \"linear\", \"width\": 1.3}, \"mode\": \"lines\", \"name\": \"A\", \"text\": \"\", \"type\": \"scatter\", \"x\": [0, 1, 2, 3, 4, 5, 6, 7, 8, 9, 10, 11, 12, 13, 14, 15, 16, 17, 18, 19, 20, 21, 22, 23, 24, 25, 26, 27, 28, 29, 30, 31, 32, 33, 34, 35, 36, 37, 38, 39, 40, 41, 42, 43, 44, 45, 46, 47, 48, 49, 50, 51, 52, 53, 54, 55, 56, 57, 58, 59, 60, 61, 62, 63, 64, 65, 66, 67, 68, 69, 70, 71, 72, 73, 74, 75, 76, 77, 78, 79, 80, 81, 82, 83, 84, 85, 86, 87, 88, 89, 90, 91, 92, 93, 94, 95, 96, 97, 98, 99], \"y\": [0.00645505412481479, -1.4397876348458365, 1.0708611347292805, 0.28406613516333, 0.058580630554189314, 0.8284319830137025, -0.42047449551545285, -0.09014078165929397, -1.3944631937012903, 0.05256359179847144, 0.0409425859720373, -1.0208810538666255, 1.147791416367246, 0.7658353585491399, -0.4910219172880578, -0.8721591983562276, -0.9005228723828286, -0.560157105001934, 0.3713100958842003, -1.2535692114404662, 0.6909564571551409, 0.1842453733842638, 1.1379399025401098, 1.1225527092582108, 2.566851668670725, -1.670807423685407, 1.94114639518042, -0.4715978936051285, -0.8163180921528749, -1.3536378264027218, -0.4147680876033762, -1.5047960860017953, -0.45073089384645704, -0.7269309668428034, 0.7071546103928739, -0.5733190517411629, -0.6254361093893777, -1.5979799108505073, 0.5170911382160981, 0.5990087994240142, -0.2713626986608739, 0.009040260923086347, -1.8660001972888383, 0.40229667838475697, 0.41585974272164616, -0.763893236346236, -0.34155596437332403, 0.9542846586183369, 1.0716615685885462, -0.060216026348868294, -1.1773224311305817, -0.9337797332054449, 0.1749212272955488, -0.4016088255929763, 1.5669389913415512, -0.8513635591410853, 0.5310694215184522, -0.2754033351060103, -1.0414551990670875, -1.3845691960246238, 0.11348281842005707, 1.3575087993749007, -0.3954770620305859, 0.676071850082259, 0.4705010649987572, -0.3790387735935101, -0.8495913010737675, 0.8382970974418101, -0.5153325311787621, -1.7022110786144058, 1.4655183248688948, 1.0520473235550596, -1.171272825456019, -0.7506656329216204, 0.7543814278344634, 0.25107938267119495, -0.5073680136495456, -0.65943015684561, 0.04797048723213697, 1.3725651550792377, 0.3377203852279814, 1.2690715670621149, 0.3721442232698379, 0.5626215355177316, -0.135971356264149, -1.0401702516300955, 0.2074595019498187, 0.6824824097281659, -1.2108413913024183, -0.14337649101770347, -0.15534252908565863, 1.8190769247613148, -1.2625189409980964, 1.0150403647301383, 0.5975471562017068, 0.7052928914556554, 0.7574383663343425, 0.3520597042626315, 0.12580990970060232, -1.371360391325017]}, {\"line\": {\"color\": \"rgba(55, 128, 191, 1.0)\", \"dash\": \"solid\", \"shape\": \"linear\", \"width\": 1.3}, \"mode\": \"lines\", \"name\": \"B\", \"text\": \"\", \"type\": \"scatter\", \"x\": [0, 1, 2, 3, 4, 5, 6, 7, 8, 9, 10, 11, 12, 13, 14, 15, 16, 17, 18, 19, 20, 21, 22, 23, 24, 25, 26, 27, 28, 29, 30, 31, 32, 33, 34, 35, 36, 37, 38, 39, 40, 41, 42, 43, 44, 45, 46, 47, 48, 49, 50, 51, 52, 53, 54, 55, 56, 57, 58, 59, 60, 61, 62, 63, 64, 65, 66, 67, 68, 69, 70, 71, 72, 73, 74, 75, 76, 77, 78, 79, 80, 81, 82, 83, 84, 85, 86, 87, 88, 89, 90, 91, 92, 93, 94, 95, 96, 97, 98, 99], \"y\": [0.3715414837853284, -0.1496899277411245, -0.4390213126824492, 1.6124578320777376, 0.11183836103323239, 1.458697253376567, 0.9643586012873291, 0.6670443200955786, -0.21265059534970032, -0.8636786417042411, 1.7871113503248284, -0.1447568525603548, 0.9351528782010953, 0.9625816992599668, -0.3733852727659238, -0.2822727071412232, -0.0358397051319197, 2.2130874225777575, 0.25326232890298495, -0.445997394922047, -0.12580352886153912, 0.821603670489078, -0.31317514756877424, -1.227443779918153, 0.08176459147203437, -0.13765985270634984, -1.1342575625974662, -0.6658897059835954, -0.8162034704460095, 0.8322541179478329, -2.3019121397506352, 0.22840969211373394, -0.09790587776093376, 0.8646965614406674, 0.8123971676173096, 0.09931126017752998, -0.2851236926891674, -0.6546008255239986, 0.34637604119215065, -0.08096229379499327, -1.0821639264456364, 0.7707047699604228, -0.3655827162038345, -0.8690899907167929, -1.62725903133252, 0.8473311747014874, 0.2243054275489603, 0.9160444771656323, -0.013671567941790488, 1.1756905044906398, 2.211644592878346, 2.6734963742744893, 2.403609725799866, -0.7828324585717606, -1.9352254812359753, 2.05781884631984, 0.22955750817913378, -1.41367971194844, -0.02222680289686833, -0.3265895253904034, -0.662586189934153, 0.34162075972823924, -1.7987978352472804, -2.164523510479693, -1.0226530080529086, 0.09527821901748883, -0.3735501240807589, -0.8341382892266959, -0.34868142809346037, 1.3620090274224168, 0.6831582769222206, -0.9704644017602544, 1.0850240034716527, 0.03189658005429582, 1.5597883688055845, -0.6942070267432159, -0.22882318437441995, 1.410449211516949, 1.3503691828085254, 0.1134970084477248, -0.4990774677156832, -1.4529230662123482, -0.6863896873450261, 0.7806907699913527, -0.4867880186501855, 0.9352865979372379, -0.5062252759718567, 0.5592357779532194, 0.6665247279587084, 0.7647459179575313, 0.4677285244089398, 1.0166663003685206, 1.0356066302371916, -0.44541082873479076, -0.040668349850732054, 0.5685074541670516, -1.167505710044138, -0.370685489323101, 0.7617607871230696, -0.34649327030204485]}, {\"line\": {\"color\": \"rgba(50, 171, 96, 1.0)\", \"dash\": \"solid\", \"shape\": \"linear\", \"width\": 1.3}, \"mode\": \"lines\", \"name\": \"C\", \"text\": \"\", \"type\": \"scatter\", \"x\": [0, 1, 2, 3, 4, 5, 6, 7, 8, 9, 10, 11, 12, 13, 14, 15, 16, 17, 18, 19, 20, 21, 22, 23, 24, 25, 26, 27, 28, 29, 30, 31, 32, 33, 34, 35, 36, 37, 38, 39, 40, 41, 42, 43, 44, 45, 46, 47, 48, 49, 50, 51, 52, 53, 54, 55, 56, 57, 58, 59, 60, 61, 62, 63, 64, 65, 66, 67, 68, 69, 70, 71, 72, 73, 74, 75, 76, 77, 78, 79, 80, 81, 82, 83, 84, 85, 86, 87, 88, 89, 90, 91, 92, 93, 94, 95, 96, 97, 98, 99], \"y\": [-0.8156211921936473, -0.3488054734179534, 1.3634652871830246, 0.6827654196928922, -1.0579817213633653, -0.9172741010318527, -1.0111454672320228, 2.1474195456264242, -0.029116717408046878, -0.10503227051826579, -1.8982085799443809, -0.061607126903382985, -1.461069514841389, -0.4159207500708357, 0.5428281012175966, -1.1064321564326451, 1.1818468571532845, -0.4997449331078411, 0.6513450257522175, -1.0096901464963166, 0.7777710862030701, 1.1156051451021982, -1.3963977721174032, -2.1957740562038897, -0.003082555605334334, -0.8711334400342721, -1.1721695448682867, 0.9015731399020005, -0.7687236581093563, 0.648912600414831, -0.3370999147061945, -0.2557289363041199, 1.3940022814140893, -1.0918291338075325, 0.926385756882171, -0.02699273090378049, -1.9310415085129753, -2.0537105543928087, 1.331393828819895, -1.2479264355796142, 1.3244176563546068, 0.4547765829735793, -0.9485957942455121, 0.7711272727493926, 0.10770503293463943, -0.34345388358808904, -0.2901651965788942, -1.8859801912106564, -0.06463771887301847, 0.7339329153613252, -2.9813490059807424, 0.49298111601570926, 2.089197422357034, 0.5485407093266145, -0.45294081667793284, -1.2343570095799694, -0.6043887454889516, 0.19698825224500555, 0.2525008929314805, 0.49330016796457193, -1.3296448063379627, -1.3199625654791716, -0.22952536088723396, -2.100923552982224, -1.2766272123803133, -0.0759219486515562, -1.3161580407429254, 0.06457107233952505, 0.11828851281676804, -0.1854970115502745, -0.6904859218641665, 0.9987015332368285, 1.0653613654646588, 0.30642527390970625, 0.005411555193580738, 0.46565443254592476, -0.5513607990797764, -0.6156892013681534, 1.0864651990406675, 1.2076925241549614, 0.02996839767387277, -0.014468892242910269, 2.314696376629038, 2.208168488408517, -1.3983413330991918, 0.8986343834667301, 0.9916299241963795, -0.20474753074899615, -0.2318152457813195, -0.41240495042251296, -1.5084220112468731, -0.2339935120152956, -0.6079408227599712, -0.09966875704636555, 0.23726828071761713, -1.7732192190847027, 0.28673585713418004, -0.7359231672703281, 0.14300452088914767, 1.6972975653855318]}, {\"line\": {\"color\": \"rgba(128, 0, 128, 1.0)\", \"dash\": \"solid\", \"shape\": \"linear\", \"width\": 1.3}, \"mode\": \"lines\", \"name\": \"D\", \"text\": \"\", \"type\": \"scatter\", \"x\": [0, 1, 2, 3, 4, 5, 6, 7, 8, 9, 10, 11, 12, 13, 14, 15, 16, 17, 18, 19, 20, 21, 22, 23, 24, 25, 26, 27, 28, 29, 30, 31, 32, 33, 34, 35, 36, 37, 38, 39, 40, 41, 42, 43, 44, 45, 46, 47, 48, 49, 50, 51, 52, 53, 54, 55, 56, 57, 58, 59, 60, 61, 62, 63, 64, 65, 66, 67, 68, 69, 70, 71, 72, 73, 74, 75, 76, 77, 78, 79, 80, 81, 82, 83, 84, 85, 86, 87, 88, 89, 90, 91, 92, 93, 94, 95, 96, 97, 98, 99], \"y\": [-0.46896793394847963, 0.9185701612631408, -0.9518353470364371, 0.48127796570390513, -1.3125227628679224, -0.6001985612883243, 1.2438374321973853, -1.0553928899948373, 0.7992286386403018, 0.6552228453687096, 1.531139173688056, -1.434972124639351, 0.5886176757481795, -0.3256784096497872, -0.2623819605419885, 0.8093293479850361, -0.33275476984830865, -0.2956276921472676, -0.16713256889711028, 0.18389720704075418, 0.6657691087241017, -1.4997126274775754, 0.8711561678776168, -0.8924685564325691, 0.6394678129395951, -1.196144615877988, 2.2614519074522, 0.11987585103470248, -2.579662215505832, -1.3178324834559312, 0.46948793870344907, -0.2210025562961031, 1.4552867861558016, 1.326246985282575, -0.054439587001145, 1.2706741490376032, 0.7484048322067663, 1.2710087859871775, 0.9447743157753115, 0.0917616016406183, -2.0969697544296864, -1.1217734741484078, -0.35986753254874787, 0.12035306348613169, -1.1902816920463186, -1.2966439417613633, -0.017967446036095795, 0.514611017485124, -1.4461382765586006, 1.01186070273958, 0.8879030485264665, 0.4676220911886453, 0.6228012943753499, -1.4207209081286396, 0.2867700005446423, -0.6139865568654482, -0.5415167711981378, -1.9858206491463257, 0.12723912891542727, -0.1793100802880613, 0.0037780088332585375, 1.3903163960561136, 1.5083085016459787, 0.3926357357086319, -0.9743888746263668, -0.9454377234958473, -0.8321414989740954, -1.620960244458763, -0.6017219998541727, -0.06238112948649538, 1.6954621456675467, 1.124584858797205, -1.15012884419011, -1.4364055469573436, 0.5664302863033238, 1.8332136136850243, -0.8089001901634655, 0.43902060972417456, 0.37600900785175306, -1.3948918928031053, -0.6904696137869282, 0.19589727243424596, -1.5300619443770898, -1.9477439997569757, -0.7048608070105993, 0.0030274862426587037, -0.3658721419657042, -0.027565836557152504, 0.46474856183842084, -0.4170025571275899, 0.5118024905797606, 0.022175819324665814, 0.07345976472766286, -0.6162389548458861, -0.546978786397993, 0.00893652800919723, -0.3826503977720516, 0.2771619614010083, 0.6072349321310275, 1.0624815146959694]}],                        {\"legend\": {\"bgcolor\": \"#F5F6F9\", \"font\": {\"color\": \"#4D5663\"}}, \"paper_bgcolor\": \"#F5F6F9\", \"plot_bgcolor\": \"#F5F6F9\", \"template\": {\"data\": {\"bar\": [{\"error_x\": {\"color\": \"#2a3f5f\"}, \"error_y\": {\"color\": \"#2a3f5f\"}, \"marker\": {\"line\": {\"color\": \"#E5ECF6\", \"width\": 0.5}}, \"type\": \"bar\"}], \"barpolar\": [{\"marker\": {\"line\": {\"color\": \"#E5ECF6\", \"width\": 0.5}}, \"type\": \"barpolar\"}], \"carpet\": [{\"aaxis\": {\"endlinecolor\": \"#2a3f5f\", \"gridcolor\": \"white\", \"linecolor\": \"white\", \"minorgridcolor\": \"white\", \"startlinecolor\": \"#2a3f5f\"}, \"baxis\": {\"endlinecolor\": \"#2a3f5f\", \"gridcolor\": \"white\", \"linecolor\": \"white\", \"minorgridcolor\": \"white\", \"startlinecolor\": \"#2a3f5f\"}, \"type\": \"carpet\"}], \"choropleth\": [{\"colorbar\": {\"outlinewidth\": 0, \"ticks\": \"\"}, \"type\": \"choropleth\"}], \"contour\": [{\"colorbar\": {\"outlinewidth\": 0, \"ticks\": \"\"}, \"colorscale\": [[0.0, \"#0d0887\"], [0.1111111111111111, \"#46039f\"], [0.2222222222222222, \"#7201a8\"], [0.3333333333333333, \"#9c179e\"], [0.4444444444444444, \"#bd3786\"], [0.5555555555555556, \"#d8576b\"], [0.6666666666666666, \"#ed7953\"], [0.7777777777777778, \"#fb9f3a\"], [0.8888888888888888, \"#fdca26\"], [1.0, \"#f0f921\"]], \"type\": \"contour\"}], \"contourcarpet\": [{\"colorbar\": {\"outlinewidth\": 0, \"ticks\": \"\"}, \"type\": \"contourcarpet\"}], \"heatmap\": [{\"colorbar\": {\"outlinewidth\": 0, \"ticks\": \"\"}, \"colorscale\": [[0.0, \"#0d0887\"], [0.1111111111111111, \"#46039f\"], [0.2222222222222222, \"#7201a8\"], [0.3333333333333333, \"#9c179e\"], [0.4444444444444444, \"#bd3786\"], [0.5555555555555556, \"#d8576b\"], [0.6666666666666666, \"#ed7953\"], [0.7777777777777778, \"#fb9f3a\"], [0.8888888888888888, \"#fdca26\"], [1.0, \"#f0f921\"]], \"type\": \"heatmap\"}], \"heatmapgl\": [{\"colorbar\": {\"outlinewidth\": 0, \"ticks\": \"\"}, \"colorscale\": [[0.0, \"#0d0887\"], [0.1111111111111111, \"#46039f\"], [0.2222222222222222, \"#7201a8\"], [0.3333333333333333, \"#9c179e\"], [0.4444444444444444, \"#bd3786\"], [0.5555555555555556, \"#d8576b\"], [0.6666666666666666, \"#ed7953\"], [0.7777777777777778, \"#fb9f3a\"], [0.8888888888888888, \"#fdca26\"], [1.0, \"#f0f921\"]], \"type\": \"heatmapgl\"}], \"histogram\": [{\"marker\": {\"colorbar\": {\"outlinewidth\": 0, \"ticks\": \"\"}}, \"type\": \"histogram\"}], \"histogram2d\": [{\"colorbar\": {\"outlinewidth\": 0, \"ticks\": \"\"}, \"colorscale\": [[0.0, \"#0d0887\"], [0.1111111111111111, \"#46039f\"], [0.2222222222222222, \"#7201a8\"], [0.3333333333333333, \"#9c179e\"], [0.4444444444444444, \"#bd3786\"], [0.5555555555555556, \"#d8576b\"], [0.6666666666666666, \"#ed7953\"], [0.7777777777777778, \"#fb9f3a\"], [0.8888888888888888, \"#fdca26\"], [1.0, \"#f0f921\"]], \"type\": \"histogram2d\"}], \"histogram2dcontour\": [{\"colorbar\": {\"outlinewidth\": 0, \"ticks\": \"\"}, \"colorscale\": [[0.0, \"#0d0887\"], [0.1111111111111111, \"#46039f\"], [0.2222222222222222, \"#7201a8\"], [0.3333333333333333, \"#9c179e\"], [0.4444444444444444, \"#bd3786\"], [0.5555555555555556, \"#d8576b\"], [0.6666666666666666, \"#ed7953\"], [0.7777777777777778, \"#fb9f3a\"], [0.8888888888888888, \"#fdca26\"], [1.0, \"#f0f921\"]], \"type\": \"histogram2dcontour\"}], \"mesh3d\": [{\"colorbar\": {\"outlinewidth\": 0, \"ticks\": \"\"}, \"type\": \"mesh3d\"}], \"parcoords\": [{\"line\": {\"colorbar\": {\"outlinewidth\": 0, \"ticks\": \"\"}}, \"type\": \"parcoords\"}], \"pie\": [{\"automargin\": true, \"type\": \"pie\"}], \"scatter\": [{\"marker\": {\"colorbar\": {\"outlinewidth\": 0, \"ticks\": \"\"}}, \"type\": \"scatter\"}], \"scatter3d\": [{\"line\": {\"colorbar\": {\"outlinewidth\": 0, \"ticks\": \"\"}}, \"marker\": {\"colorbar\": {\"outlinewidth\": 0, \"ticks\": \"\"}}, \"type\": \"scatter3d\"}], \"scattercarpet\": [{\"marker\": {\"colorbar\": {\"outlinewidth\": 0, \"ticks\": \"\"}}, \"type\": \"scattercarpet\"}], \"scattergeo\": [{\"marker\": {\"colorbar\": {\"outlinewidth\": 0, \"ticks\": \"\"}}, \"type\": \"scattergeo\"}], \"scattergl\": [{\"marker\": {\"colorbar\": {\"outlinewidth\": 0, \"ticks\": \"\"}}, \"type\": \"scattergl\"}], \"scattermapbox\": [{\"marker\": {\"colorbar\": {\"outlinewidth\": 0, \"ticks\": \"\"}}, \"type\": \"scattermapbox\"}], \"scatterpolar\": [{\"marker\": {\"colorbar\": {\"outlinewidth\": 0, \"ticks\": \"\"}}, \"type\": \"scatterpolar\"}], \"scatterpolargl\": [{\"marker\": {\"colorbar\": {\"outlinewidth\": 0, \"ticks\": \"\"}}, \"type\": \"scatterpolargl\"}], \"scatterternary\": [{\"marker\": {\"colorbar\": {\"outlinewidth\": 0, \"ticks\": \"\"}}, \"type\": \"scatterternary\"}], \"surface\": [{\"colorbar\": {\"outlinewidth\": 0, \"ticks\": \"\"}, \"colorscale\": [[0.0, \"#0d0887\"], [0.1111111111111111, \"#46039f\"], [0.2222222222222222, \"#7201a8\"], [0.3333333333333333, \"#9c179e\"], [0.4444444444444444, \"#bd3786\"], [0.5555555555555556, \"#d8576b\"], [0.6666666666666666, \"#ed7953\"], [0.7777777777777778, \"#fb9f3a\"], [0.8888888888888888, \"#fdca26\"], [1.0, \"#f0f921\"]], \"type\": \"surface\"}], \"table\": [{\"cells\": {\"fill\": {\"color\": \"#EBF0F8\"}, \"line\": {\"color\": \"white\"}}, \"header\": {\"fill\": {\"color\": \"#C8D4E3\"}, \"line\": {\"color\": \"white\"}}, \"type\": \"table\"}]}, \"layout\": {\"annotationdefaults\": {\"arrowcolor\": \"#2a3f5f\", \"arrowhead\": 0, \"arrowwidth\": 1}, \"coloraxis\": {\"colorbar\": {\"outlinewidth\": 0, \"ticks\": \"\"}}, \"colorscale\": {\"diverging\": [[0, \"#8e0152\"], [0.1, \"#c51b7d\"], [0.2, \"#de77ae\"], [0.3, \"#f1b6da\"], [0.4, \"#fde0ef\"], [0.5, \"#f7f7f7\"], [0.6, \"#e6f5d0\"], [0.7, \"#b8e186\"], [0.8, \"#7fbc41\"], [0.9, \"#4d9221\"], [1, \"#276419\"]], \"sequential\": [[0.0, \"#0d0887\"], [0.1111111111111111, \"#46039f\"], [0.2222222222222222, \"#7201a8\"], [0.3333333333333333, \"#9c179e\"], [0.4444444444444444, \"#bd3786\"], [0.5555555555555556, \"#d8576b\"], [0.6666666666666666, \"#ed7953\"], [0.7777777777777778, \"#fb9f3a\"], [0.8888888888888888, \"#fdca26\"], [1.0, \"#f0f921\"]], \"sequentialminus\": [[0.0, \"#0d0887\"], [0.1111111111111111, \"#46039f\"], [0.2222222222222222, \"#7201a8\"], [0.3333333333333333, \"#9c179e\"], [0.4444444444444444, \"#bd3786\"], [0.5555555555555556, \"#d8576b\"], [0.6666666666666666, \"#ed7953\"], [0.7777777777777778, \"#fb9f3a\"], [0.8888888888888888, \"#fdca26\"], [1.0, \"#f0f921\"]]}, \"colorway\": [\"#636efa\", \"#EF553B\", \"#00cc96\", \"#ab63fa\", \"#FFA15A\", \"#19d3f3\", \"#FF6692\", \"#B6E880\", \"#FF97FF\", \"#FECB52\"], \"font\": {\"color\": \"#2a3f5f\"}, \"geo\": {\"bgcolor\": \"white\", \"lakecolor\": \"white\", \"landcolor\": \"#E5ECF6\", \"showlakes\": true, \"showland\": true, \"subunitcolor\": \"white\"}, \"hoverlabel\": {\"align\": \"left\"}, \"hovermode\": \"closest\", \"mapbox\": {\"style\": \"light\"}, \"paper_bgcolor\": \"white\", \"plot_bgcolor\": \"#E5ECF6\", \"polar\": {\"angularaxis\": {\"gridcolor\": \"white\", \"linecolor\": \"white\", \"ticks\": \"\"}, \"bgcolor\": \"#E5ECF6\", \"radialaxis\": {\"gridcolor\": \"white\", \"linecolor\": \"white\", \"ticks\": \"\"}}, \"scene\": {\"xaxis\": {\"backgroundcolor\": \"#E5ECF6\", \"gridcolor\": \"white\", \"gridwidth\": 2, \"linecolor\": \"white\", \"showbackground\": true, \"ticks\": \"\", \"zerolinecolor\": \"white\"}, \"yaxis\": {\"backgroundcolor\": \"#E5ECF6\", \"gridcolor\": \"white\", \"gridwidth\": 2, \"linecolor\": \"white\", \"showbackground\": true, \"ticks\": \"\", \"zerolinecolor\": \"white\"}, \"zaxis\": {\"backgroundcolor\": \"#E5ECF6\", \"gridcolor\": \"white\", \"gridwidth\": 2, \"linecolor\": \"white\", \"showbackground\": true, \"ticks\": \"\", \"zerolinecolor\": \"white\"}}, \"shapedefaults\": {\"line\": {\"color\": \"#2a3f5f\"}}, \"ternary\": {\"aaxis\": {\"gridcolor\": \"white\", \"linecolor\": \"white\", \"ticks\": \"\"}, \"baxis\": {\"gridcolor\": \"white\", \"linecolor\": \"white\", \"ticks\": \"\"}, \"bgcolor\": \"#E5ECF6\", \"caxis\": {\"gridcolor\": \"white\", \"linecolor\": \"white\", \"ticks\": \"\"}}, \"title\": {\"x\": 0.05}, \"xaxis\": {\"automargin\": true, \"gridcolor\": \"white\", \"linecolor\": \"white\", \"ticks\": \"\", \"title\": {\"standoff\": 15}, \"zerolinecolor\": \"white\", \"zerolinewidth\": 2}, \"yaxis\": {\"automargin\": true, \"gridcolor\": \"white\", \"linecolor\": \"white\", \"ticks\": \"\", \"title\": {\"standoff\": 15}, \"zerolinecolor\": \"white\", \"zerolinewidth\": 2}}}, \"title\": {\"font\": {\"color\": \"#4D5663\"}}, \"xaxis\": {\"gridcolor\": \"#E1E5ED\", \"showgrid\": true, \"tickfont\": {\"color\": \"#4D5663\"}, \"title\": {\"font\": {\"color\": \"#4D5663\"}, \"text\": \"\"}, \"zerolinecolor\": \"#E1E5ED\"}, \"yaxis\": {\"gridcolor\": \"#E1E5ED\", \"showgrid\": true, \"tickfont\": {\"color\": \"#4D5663\"}, \"title\": {\"font\": {\"color\": \"#4D5663\"}, \"text\": \"\"}, \"zerolinecolor\": \"#E1E5ED\"}},                        {\"showLink\": true, \"linkText\": \"Export to plot.ly\", \"plotlyServerURL\": \"https://plot.ly\", \"responsive\": true}                    ).then(function(){\n",
       "                            \n",
       "var gd = document.getElementById('4e1529ef-556c-4d72-82cf-ddbeff977737');\n",
       "var x = new MutationObserver(function (mutations, observer) {{\n",
       "        var display = window.getComputedStyle(gd).display;\n",
       "        if (!display || display === 'none') {{\n",
       "            console.log([gd, 'removed!']);\n",
       "            Plotly.purge(gd);\n",
       "            observer.disconnect();\n",
       "        }}\n",
       "}});\n",
       "\n",
       "// Listen for the removal of the full notebook cells\n",
       "var notebookContainer = gd.closest('#notebook-container');\n",
       "if (notebookContainer) {{\n",
       "    x.observe(notebookContainer, {childList: true});\n",
       "}}\n",
       "\n",
       "// Listen for the clearing of the current output cell\n",
       "var outputEl = gd.closest('.output');\n",
       "if (outputEl) {{\n",
       "    x.observe(outputEl, {childList: true});\n",
       "}}\n",
       "\n",
       "                        })                };                });            </script>        </div>"
      ]
     },
     "metadata": {},
     "output_type": "display_data"
    }
   ],
   "source": [
    "# Create an interactive line plot with plotly\n",
    "df.iplot() # Play around with the plot, get values zoom into areas of interest, compare data on hover etc."
   ]
  },
  {
   "cell_type": "markdown",
   "metadata": {},
   "source": [
    "## Interactive Scatter Plots\n",
    "\n",
    "Specify `kind='scatter'`, add `x='column_name'` and `y='column_name'`, and `mode='markers'` to create an interactive scatter plot."
   ]
  },
  {
   "cell_type": "code",
   "execution_count": 13,
   "metadata": {},
   "outputs": [
    {
     "data": {
      "application/vnd.plotly.v1+json": {
       "config": {
        "linkText": "Export to plot.ly",
        "plotlyServerURL": "https://plot.ly",
        "showLink": true
       },
       "data": [
        {
         "line": {
          "color": "rgba(255, 153, 51, 1.0)",
          "dash": "solid",
          "shape": "linear",
          "width": 1.3
         },
         "marker": {
          "size": 12,
          "symbol": "circle"
         },
         "mode": "markers",
         "name": "B",
         "text": "",
         "type": "scatter",
         "x": [
          0.00645505412481479,
          -1.4397876348458365,
          1.0708611347292805,
          0.28406613516333,
          0.058580630554189314,
          0.8284319830137025,
          -0.42047449551545285,
          -0.09014078165929397,
          -1.3944631937012903,
          0.05256359179847144,
          0.0409425859720373,
          -1.0208810538666255,
          1.147791416367246,
          0.7658353585491399,
          -0.4910219172880578,
          -0.8721591983562276,
          -0.9005228723828286,
          -0.560157105001934,
          0.3713100958842003,
          -1.2535692114404662,
          0.6909564571551409,
          0.1842453733842638,
          1.1379399025401098,
          1.1225527092582108,
          2.566851668670725,
          -1.670807423685407,
          1.94114639518042,
          -0.4715978936051285,
          -0.8163180921528749,
          -1.3536378264027218,
          -0.4147680876033762,
          -1.5047960860017953,
          -0.45073089384645704,
          -0.7269309668428034,
          0.7071546103928739,
          -0.5733190517411629,
          -0.6254361093893777,
          -1.5979799108505073,
          0.5170911382160981,
          0.5990087994240142,
          -0.2713626986608739,
          0.009040260923086347,
          -1.8660001972888383,
          0.40229667838475697,
          0.41585974272164616,
          -0.763893236346236,
          -0.34155596437332403,
          0.9542846586183369,
          1.0716615685885462,
          -0.060216026348868294,
          -1.1773224311305817,
          -0.9337797332054449,
          0.1749212272955488,
          -0.4016088255929763,
          1.5669389913415512,
          -0.8513635591410853,
          0.5310694215184522,
          -0.2754033351060103,
          -1.0414551990670875,
          -1.3845691960246238,
          0.11348281842005707,
          1.3575087993749007,
          -0.3954770620305859,
          0.676071850082259,
          0.4705010649987572,
          -0.3790387735935101,
          -0.8495913010737675,
          0.8382970974418101,
          -0.5153325311787621,
          -1.7022110786144058,
          1.4655183248688948,
          1.0520473235550596,
          -1.171272825456019,
          -0.7506656329216204,
          0.7543814278344634,
          0.25107938267119495,
          -0.5073680136495456,
          -0.65943015684561,
          0.04797048723213697,
          1.3725651550792377,
          0.3377203852279814,
          1.2690715670621149,
          0.3721442232698379,
          0.5626215355177316,
          -0.135971356264149,
          -1.0401702516300955,
          0.2074595019498187,
          0.6824824097281659,
          -1.2108413913024183,
          -0.14337649101770347,
          -0.15534252908565863,
          1.8190769247613148,
          -1.2625189409980964,
          1.0150403647301383,
          0.5975471562017068,
          0.7052928914556554,
          0.7574383663343425,
          0.3520597042626315,
          0.12580990970060232,
          -1.371360391325017
         ],
         "y": [
          0.3715414837853284,
          -0.1496899277411245,
          -0.4390213126824492,
          1.6124578320777376,
          0.11183836103323239,
          1.458697253376567,
          0.9643586012873291,
          0.6670443200955786,
          -0.21265059534970032,
          -0.8636786417042411,
          1.7871113503248284,
          -0.1447568525603548,
          0.9351528782010953,
          0.9625816992599668,
          -0.3733852727659238,
          -0.2822727071412232,
          -0.0358397051319197,
          2.2130874225777575,
          0.25326232890298495,
          -0.445997394922047,
          -0.12580352886153912,
          0.821603670489078,
          -0.31317514756877424,
          -1.227443779918153,
          0.08176459147203437,
          -0.13765985270634984,
          -1.1342575625974662,
          -0.6658897059835954,
          -0.8162034704460095,
          0.8322541179478329,
          -2.3019121397506352,
          0.22840969211373394,
          -0.09790587776093376,
          0.8646965614406674,
          0.8123971676173096,
          0.09931126017752998,
          -0.2851236926891674,
          -0.6546008255239986,
          0.34637604119215065,
          -0.08096229379499327,
          -1.0821639264456364,
          0.7707047699604228,
          -0.3655827162038345,
          -0.8690899907167929,
          -1.62725903133252,
          0.8473311747014874,
          0.2243054275489603,
          0.9160444771656323,
          -0.013671567941790488,
          1.1756905044906398,
          2.211644592878346,
          2.6734963742744893,
          2.403609725799866,
          -0.7828324585717606,
          -1.9352254812359753,
          2.05781884631984,
          0.22955750817913378,
          -1.41367971194844,
          -0.02222680289686833,
          -0.3265895253904034,
          -0.662586189934153,
          0.34162075972823924,
          -1.7987978352472804,
          -2.164523510479693,
          -1.0226530080529086,
          0.09527821901748883,
          -0.3735501240807589,
          -0.8341382892266959,
          -0.34868142809346037,
          1.3620090274224168,
          0.6831582769222206,
          -0.9704644017602544,
          1.0850240034716527,
          0.03189658005429582,
          1.5597883688055845,
          -0.6942070267432159,
          -0.22882318437441995,
          1.410449211516949,
          1.3503691828085254,
          0.1134970084477248,
          -0.4990774677156832,
          -1.4529230662123482,
          -0.6863896873450261,
          0.7806907699913527,
          -0.4867880186501855,
          0.9352865979372379,
          -0.5062252759718567,
          0.5592357779532194,
          0.6665247279587084,
          0.7647459179575313,
          0.4677285244089398,
          1.0166663003685206,
          1.0356066302371916,
          -0.44541082873479076,
          -0.040668349850732054,
          0.5685074541670516,
          -1.167505710044138,
          -0.370685489323101,
          0.7617607871230696,
          -0.34649327030204485
         ]
        }
       ],
       "layout": {
        "legend": {
         "bgcolor": "#F5F6F9",
         "font": {
          "color": "#4D5663"
         }
        },
        "paper_bgcolor": "#F5F6F9",
        "plot_bgcolor": "#F5F6F9",
        "template": {
         "data": {
          "bar": [
           {
            "error_x": {
             "color": "#2a3f5f"
            },
            "error_y": {
             "color": "#2a3f5f"
            },
            "marker": {
             "line": {
              "color": "#E5ECF6",
              "width": 0.5
             }
            },
            "type": "bar"
           }
          ],
          "barpolar": [
           {
            "marker": {
             "line": {
              "color": "#E5ECF6",
              "width": 0.5
             }
            },
            "type": "barpolar"
           }
          ],
          "carpet": [
           {
            "aaxis": {
             "endlinecolor": "#2a3f5f",
             "gridcolor": "white",
             "linecolor": "white",
             "minorgridcolor": "white",
             "startlinecolor": "#2a3f5f"
            },
            "baxis": {
             "endlinecolor": "#2a3f5f",
             "gridcolor": "white",
             "linecolor": "white",
             "minorgridcolor": "white",
             "startlinecolor": "#2a3f5f"
            },
            "type": "carpet"
           }
          ],
          "choropleth": [
           {
            "colorbar": {
             "outlinewidth": 0,
             "ticks": ""
            },
            "type": "choropleth"
           }
          ],
          "contour": [
           {
            "colorbar": {
             "outlinewidth": 0,
             "ticks": ""
            },
            "colorscale": [
             [
              0,
              "#0d0887"
             ],
             [
              0.1111111111111111,
              "#46039f"
             ],
             [
              0.2222222222222222,
              "#7201a8"
             ],
             [
              0.3333333333333333,
              "#9c179e"
             ],
             [
              0.4444444444444444,
              "#bd3786"
             ],
             [
              0.5555555555555556,
              "#d8576b"
             ],
             [
              0.6666666666666666,
              "#ed7953"
             ],
             [
              0.7777777777777778,
              "#fb9f3a"
             ],
             [
              0.8888888888888888,
              "#fdca26"
             ],
             [
              1,
              "#f0f921"
             ]
            ],
            "type": "contour"
           }
          ],
          "contourcarpet": [
           {
            "colorbar": {
             "outlinewidth": 0,
             "ticks": ""
            },
            "type": "contourcarpet"
           }
          ],
          "heatmap": [
           {
            "colorbar": {
             "outlinewidth": 0,
             "ticks": ""
            },
            "colorscale": [
             [
              0,
              "#0d0887"
             ],
             [
              0.1111111111111111,
              "#46039f"
             ],
             [
              0.2222222222222222,
              "#7201a8"
             ],
             [
              0.3333333333333333,
              "#9c179e"
             ],
             [
              0.4444444444444444,
              "#bd3786"
             ],
             [
              0.5555555555555556,
              "#d8576b"
             ],
             [
              0.6666666666666666,
              "#ed7953"
             ],
             [
              0.7777777777777778,
              "#fb9f3a"
             ],
             [
              0.8888888888888888,
              "#fdca26"
             ],
             [
              1,
              "#f0f921"
             ]
            ],
            "type": "heatmap"
           }
          ],
          "heatmapgl": [
           {
            "colorbar": {
             "outlinewidth": 0,
             "ticks": ""
            },
            "colorscale": [
             [
              0,
              "#0d0887"
             ],
             [
              0.1111111111111111,
              "#46039f"
             ],
             [
              0.2222222222222222,
              "#7201a8"
             ],
             [
              0.3333333333333333,
              "#9c179e"
             ],
             [
              0.4444444444444444,
              "#bd3786"
             ],
             [
              0.5555555555555556,
              "#d8576b"
             ],
             [
              0.6666666666666666,
              "#ed7953"
             ],
             [
              0.7777777777777778,
              "#fb9f3a"
             ],
             [
              0.8888888888888888,
              "#fdca26"
             ],
             [
              1,
              "#f0f921"
             ]
            ],
            "type": "heatmapgl"
           }
          ],
          "histogram": [
           {
            "marker": {
             "colorbar": {
              "outlinewidth": 0,
              "ticks": ""
             }
            },
            "type": "histogram"
           }
          ],
          "histogram2d": [
           {
            "colorbar": {
             "outlinewidth": 0,
             "ticks": ""
            },
            "colorscale": [
             [
              0,
              "#0d0887"
             ],
             [
              0.1111111111111111,
              "#46039f"
             ],
             [
              0.2222222222222222,
              "#7201a8"
             ],
             [
              0.3333333333333333,
              "#9c179e"
             ],
             [
              0.4444444444444444,
              "#bd3786"
             ],
             [
              0.5555555555555556,
              "#d8576b"
             ],
             [
              0.6666666666666666,
              "#ed7953"
             ],
             [
              0.7777777777777778,
              "#fb9f3a"
             ],
             [
              0.8888888888888888,
              "#fdca26"
             ],
             [
              1,
              "#f0f921"
             ]
            ],
            "type": "histogram2d"
           }
          ],
          "histogram2dcontour": [
           {
            "colorbar": {
             "outlinewidth": 0,
             "ticks": ""
            },
            "colorscale": [
             [
              0,
              "#0d0887"
             ],
             [
              0.1111111111111111,
              "#46039f"
             ],
             [
              0.2222222222222222,
              "#7201a8"
             ],
             [
              0.3333333333333333,
              "#9c179e"
             ],
             [
              0.4444444444444444,
              "#bd3786"
             ],
             [
              0.5555555555555556,
              "#d8576b"
             ],
             [
              0.6666666666666666,
              "#ed7953"
             ],
             [
              0.7777777777777778,
              "#fb9f3a"
             ],
             [
              0.8888888888888888,
              "#fdca26"
             ],
             [
              1,
              "#f0f921"
             ]
            ],
            "type": "histogram2dcontour"
           }
          ],
          "mesh3d": [
           {
            "colorbar": {
             "outlinewidth": 0,
             "ticks": ""
            },
            "type": "mesh3d"
           }
          ],
          "parcoords": [
           {
            "line": {
             "colorbar": {
              "outlinewidth": 0,
              "ticks": ""
             }
            },
            "type": "parcoords"
           }
          ],
          "pie": [
           {
            "automargin": true,
            "type": "pie"
           }
          ],
          "scatter": [
           {
            "marker": {
             "colorbar": {
              "outlinewidth": 0,
              "ticks": ""
             }
            },
            "type": "scatter"
           }
          ],
          "scatter3d": [
           {
            "line": {
             "colorbar": {
              "outlinewidth": 0,
              "ticks": ""
             }
            },
            "marker": {
             "colorbar": {
              "outlinewidth": 0,
              "ticks": ""
             }
            },
            "type": "scatter3d"
           }
          ],
          "scattercarpet": [
           {
            "marker": {
             "colorbar": {
              "outlinewidth": 0,
              "ticks": ""
             }
            },
            "type": "scattercarpet"
           }
          ],
          "scattergeo": [
           {
            "marker": {
             "colorbar": {
              "outlinewidth": 0,
              "ticks": ""
             }
            },
            "type": "scattergeo"
           }
          ],
          "scattergl": [
           {
            "marker": {
             "colorbar": {
              "outlinewidth": 0,
              "ticks": ""
             }
            },
            "type": "scattergl"
           }
          ],
          "scattermapbox": [
           {
            "marker": {
             "colorbar": {
              "outlinewidth": 0,
              "ticks": ""
             }
            },
            "type": "scattermapbox"
           }
          ],
          "scatterpolar": [
           {
            "marker": {
             "colorbar": {
              "outlinewidth": 0,
              "ticks": ""
             }
            },
            "type": "scatterpolar"
           }
          ],
          "scatterpolargl": [
           {
            "marker": {
             "colorbar": {
              "outlinewidth": 0,
              "ticks": ""
             }
            },
            "type": "scatterpolargl"
           }
          ],
          "scatterternary": [
           {
            "marker": {
             "colorbar": {
              "outlinewidth": 0,
              "ticks": ""
             }
            },
            "type": "scatterternary"
           }
          ],
          "surface": [
           {
            "colorbar": {
             "outlinewidth": 0,
             "ticks": ""
            },
            "colorscale": [
             [
              0,
              "#0d0887"
             ],
             [
              0.1111111111111111,
              "#46039f"
             ],
             [
              0.2222222222222222,
              "#7201a8"
             ],
             [
              0.3333333333333333,
              "#9c179e"
             ],
             [
              0.4444444444444444,
              "#bd3786"
             ],
             [
              0.5555555555555556,
              "#d8576b"
             ],
             [
              0.6666666666666666,
              "#ed7953"
             ],
             [
              0.7777777777777778,
              "#fb9f3a"
             ],
             [
              0.8888888888888888,
              "#fdca26"
             ],
             [
              1,
              "#f0f921"
             ]
            ],
            "type": "surface"
           }
          ],
          "table": [
           {
            "cells": {
             "fill": {
              "color": "#EBF0F8"
             },
             "line": {
              "color": "white"
             }
            },
            "header": {
             "fill": {
              "color": "#C8D4E3"
             },
             "line": {
              "color": "white"
             }
            },
            "type": "table"
           }
          ]
         },
         "layout": {
          "annotationdefaults": {
           "arrowcolor": "#2a3f5f",
           "arrowhead": 0,
           "arrowwidth": 1
          },
          "coloraxis": {
           "colorbar": {
            "outlinewidth": 0,
            "ticks": ""
           }
          },
          "colorscale": {
           "diverging": [
            [
             0,
             "#8e0152"
            ],
            [
             0.1,
             "#c51b7d"
            ],
            [
             0.2,
             "#de77ae"
            ],
            [
             0.3,
             "#f1b6da"
            ],
            [
             0.4,
             "#fde0ef"
            ],
            [
             0.5,
             "#f7f7f7"
            ],
            [
             0.6,
             "#e6f5d0"
            ],
            [
             0.7,
             "#b8e186"
            ],
            [
             0.8,
             "#7fbc41"
            ],
            [
             0.9,
             "#4d9221"
            ],
            [
             1,
             "#276419"
            ]
           ],
           "sequential": [
            [
             0,
             "#0d0887"
            ],
            [
             0.1111111111111111,
             "#46039f"
            ],
            [
             0.2222222222222222,
             "#7201a8"
            ],
            [
             0.3333333333333333,
             "#9c179e"
            ],
            [
             0.4444444444444444,
             "#bd3786"
            ],
            [
             0.5555555555555556,
             "#d8576b"
            ],
            [
             0.6666666666666666,
             "#ed7953"
            ],
            [
             0.7777777777777778,
             "#fb9f3a"
            ],
            [
             0.8888888888888888,
             "#fdca26"
            ],
            [
             1,
             "#f0f921"
            ]
           ],
           "sequentialminus": [
            [
             0,
             "#0d0887"
            ],
            [
             0.1111111111111111,
             "#46039f"
            ],
            [
             0.2222222222222222,
             "#7201a8"
            ],
            [
             0.3333333333333333,
             "#9c179e"
            ],
            [
             0.4444444444444444,
             "#bd3786"
            ],
            [
             0.5555555555555556,
             "#d8576b"
            ],
            [
             0.6666666666666666,
             "#ed7953"
            ],
            [
             0.7777777777777778,
             "#fb9f3a"
            ],
            [
             0.8888888888888888,
             "#fdca26"
            ],
            [
             1,
             "#f0f921"
            ]
           ]
          },
          "colorway": [
           "#636efa",
           "#EF553B",
           "#00cc96",
           "#ab63fa",
           "#FFA15A",
           "#19d3f3",
           "#FF6692",
           "#B6E880",
           "#FF97FF",
           "#FECB52"
          ],
          "font": {
           "color": "#2a3f5f"
          },
          "geo": {
           "bgcolor": "white",
           "lakecolor": "white",
           "landcolor": "#E5ECF6",
           "showlakes": true,
           "showland": true,
           "subunitcolor": "white"
          },
          "hoverlabel": {
           "align": "left"
          },
          "hovermode": "closest",
          "mapbox": {
           "style": "light"
          },
          "paper_bgcolor": "white",
          "plot_bgcolor": "#E5ECF6",
          "polar": {
           "angularaxis": {
            "gridcolor": "white",
            "linecolor": "white",
            "ticks": ""
           },
           "bgcolor": "#E5ECF6",
           "radialaxis": {
            "gridcolor": "white",
            "linecolor": "white",
            "ticks": ""
           }
          },
          "scene": {
           "xaxis": {
            "backgroundcolor": "#E5ECF6",
            "gridcolor": "white",
            "gridwidth": 2,
            "linecolor": "white",
            "showbackground": true,
            "ticks": "",
            "zerolinecolor": "white"
           },
           "yaxis": {
            "backgroundcolor": "#E5ECF6",
            "gridcolor": "white",
            "gridwidth": 2,
            "linecolor": "white",
            "showbackground": true,
            "ticks": "",
            "zerolinecolor": "white"
           },
           "zaxis": {
            "backgroundcolor": "#E5ECF6",
            "gridcolor": "white",
            "gridwidth": 2,
            "linecolor": "white",
            "showbackground": true,
            "ticks": "",
            "zerolinecolor": "white"
           }
          },
          "shapedefaults": {
           "line": {
            "color": "#2a3f5f"
           }
          },
          "ternary": {
           "aaxis": {
            "gridcolor": "white",
            "linecolor": "white",
            "ticks": ""
           },
           "baxis": {
            "gridcolor": "white",
            "linecolor": "white",
            "ticks": ""
           },
           "bgcolor": "#E5ECF6",
           "caxis": {
            "gridcolor": "white",
            "linecolor": "white",
            "ticks": ""
           }
          },
          "title": {
           "x": 0.05
          },
          "xaxis": {
           "automargin": true,
           "gridcolor": "white",
           "linecolor": "white",
           "ticks": "",
           "title": {
            "standoff": 15
           },
           "zerolinecolor": "white",
           "zerolinewidth": 2
          },
          "yaxis": {
           "automargin": true,
           "gridcolor": "white",
           "linecolor": "white",
           "ticks": "",
           "title": {
            "standoff": 15
           },
           "zerolinecolor": "white",
           "zerolinewidth": 2
          }
         }
        },
        "title": {
         "font": {
          "color": "#4D5663"
         }
        },
        "xaxis": {
         "gridcolor": "#E1E5ED",
         "showgrid": true,
         "tickfont": {
          "color": "#4D5663"
         },
         "title": {
          "font": {
           "color": "#4D5663"
          },
          "text": ""
         },
         "zerolinecolor": "#E1E5ED"
        },
        "yaxis": {
         "gridcolor": "#E1E5ED",
         "showgrid": true,
         "tickfont": {
          "color": "#4D5663"
         },
         "title": {
          "font": {
           "color": "#4D5663"
          },
          "text": ""
         },
         "zerolinecolor": "#E1E5ED"
        }
       }
      },
      "text/html": [
       "<div>                            <div id=\"4971c113-a056-425f-85d7-cbd78bf149ea\" class=\"plotly-graph-div\" style=\"height:525px; width:100%;\"></div>            <script type=\"text/javascript\">                require([\"plotly\"], function(Plotly) {                    window.PLOTLYENV=window.PLOTLYENV || {};\n",
       "                    window.PLOTLYENV.BASE_URL='https://plot.ly';                                    if (document.getElementById(\"4971c113-a056-425f-85d7-cbd78bf149ea\")) {                    Plotly.newPlot(                        \"4971c113-a056-425f-85d7-cbd78bf149ea\",                        [{\"line\": {\"color\": \"rgba(255, 153, 51, 1.0)\", \"dash\": \"solid\", \"shape\": \"linear\", \"width\": 1.3}, \"marker\": {\"size\": 12, \"symbol\": \"circle\"}, \"mode\": \"markers\", \"name\": \"B\", \"text\": \"\", \"type\": \"scatter\", \"x\": [0.00645505412481479, -1.4397876348458365, 1.0708611347292805, 0.28406613516333, 0.058580630554189314, 0.8284319830137025, -0.42047449551545285, -0.09014078165929397, -1.3944631937012903, 0.05256359179847144, 0.0409425859720373, -1.0208810538666255, 1.147791416367246, 0.7658353585491399, -0.4910219172880578, -0.8721591983562276, -0.9005228723828286, -0.560157105001934, 0.3713100958842003, -1.2535692114404662, 0.6909564571551409, 0.1842453733842638, 1.1379399025401098, 1.1225527092582108, 2.566851668670725, -1.670807423685407, 1.94114639518042, -0.4715978936051285, -0.8163180921528749, -1.3536378264027218, -0.4147680876033762, -1.5047960860017953, -0.45073089384645704, -0.7269309668428034, 0.7071546103928739, -0.5733190517411629, -0.6254361093893777, -1.5979799108505073, 0.5170911382160981, 0.5990087994240142, -0.2713626986608739, 0.009040260923086347, -1.8660001972888383, 0.40229667838475697, 0.41585974272164616, -0.763893236346236, -0.34155596437332403, 0.9542846586183369, 1.0716615685885462, -0.060216026348868294, -1.1773224311305817, -0.9337797332054449, 0.1749212272955488, -0.4016088255929763, 1.5669389913415512, -0.8513635591410853, 0.5310694215184522, -0.2754033351060103, -1.0414551990670875, -1.3845691960246238, 0.11348281842005707, 1.3575087993749007, -0.3954770620305859, 0.676071850082259, 0.4705010649987572, -0.3790387735935101, -0.8495913010737675, 0.8382970974418101, -0.5153325311787621, -1.7022110786144058, 1.4655183248688948, 1.0520473235550596, -1.171272825456019, -0.7506656329216204, 0.7543814278344634, 0.25107938267119495, -0.5073680136495456, -0.65943015684561, 0.04797048723213697, 1.3725651550792377, 0.3377203852279814, 1.2690715670621149, 0.3721442232698379, 0.5626215355177316, -0.135971356264149, -1.0401702516300955, 0.2074595019498187, 0.6824824097281659, -1.2108413913024183, -0.14337649101770347, -0.15534252908565863, 1.8190769247613148, -1.2625189409980964, 1.0150403647301383, 0.5975471562017068, 0.7052928914556554, 0.7574383663343425, 0.3520597042626315, 0.12580990970060232, -1.371360391325017], \"y\": [0.3715414837853284, -0.1496899277411245, -0.4390213126824492, 1.6124578320777376, 0.11183836103323239, 1.458697253376567, 0.9643586012873291, 0.6670443200955786, -0.21265059534970032, -0.8636786417042411, 1.7871113503248284, -0.1447568525603548, 0.9351528782010953, 0.9625816992599668, -0.3733852727659238, -0.2822727071412232, -0.0358397051319197, 2.2130874225777575, 0.25326232890298495, -0.445997394922047, -0.12580352886153912, 0.821603670489078, -0.31317514756877424, -1.227443779918153, 0.08176459147203437, -0.13765985270634984, -1.1342575625974662, -0.6658897059835954, -0.8162034704460095, 0.8322541179478329, -2.3019121397506352, 0.22840969211373394, -0.09790587776093376, 0.8646965614406674, 0.8123971676173096, 0.09931126017752998, -0.2851236926891674, -0.6546008255239986, 0.34637604119215065, -0.08096229379499327, -1.0821639264456364, 0.7707047699604228, -0.3655827162038345, -0.8690899907167929, -1.62725903133252, 0.8473311747014874, 0.2243054275489603, 0.9160444771656323, -0.013671567941790488, 1.1756905044906398, 2.211644592878346, 2.6734963742744893, 2.403609725799866, -0.7828324585717606, -1.9352254812359753, 2.05781884631984, 0.22955750817913378, -1.41367971194844, -0.02222680289686833, -0.3265895253904034, -0.662586189934153, 0.34162075972823924, -1.7987978352472804, -2.164523510479693, -1.0226530080529086, 0.09527821901748883, -0.3735501240807589, -0.8341382892266959, -0.34868142809346037, 1.3620090274224168, 0.6831582769222206, -0.9704644017602544, 1.0850240034716527, 0.03189658005429582, 1.5597883688055845, -0.6942070267432159, -0.22882318437441995, 1.410449211516949, 1.3503691828085254, 0.1134970084477248, -0.4990774677156832, -1.4529230662123482, -0.6863896873450261, 0.7806907699913527, -0.4867880186501855, 0.9352865979372379, -0.5062252759718567, 0.5592357779532194, 0.6665247279587084, 0.7647459179575313, 0.4677285244089398, 1.0166663003685206, 1.0356066302371916, -0.44541082873479076, -0.040668349850732054, 0.5685074541670516, -1.167505710044138, -0.370685489323101, 0.7617607871230696, -0.34649327030204485]}],                        {\"legend\": {\"bgcolor\": \"#F5F6F9\", \"font\": {\"color\": \"#4D5663\"}}, \"paper_bgcolor\": \"#F5F6F9\", \"plot_bgcolor\": \"#F5F6F9\", \"template\": {\"data\": {\"bar\": [{\"error_x\": {\"color\": \"#2a3f5f\"}, \"error_y\": {\"color\": \"#2a3f5f\"}, \"marker\": {\"line\": {\"color\": \"#E5ECF6\", \"width\": 0.5}}, \"type\": \"bar\"}], \"barpolar\": [{\"marker\": {\"line\": {\"color\": \"#E5ECF6\", \"width\": 0.5}}, \"type\": \"barpolar\"}], \"carpet\": [{\"aaxis\": {\"endlinecolor\": \"#2a3f5f\", \"gridcolor\": \"white\", \"linecolor\": \"white\", \"minorgridcolor\": \"white\", \"startlinecolor\": \"#2a3f5f\"}, \"baxis\": {\"endlinecolor\": \"#2a3f5f\", \"gridcolor\": \"white\", \"linecolor\": \"white\", \"minorgridcolor\": \"white\", \"startlinecolor\": \"#2a3f5f\"}, \"type\": \"carpet\"}], \"choropleth\": [{\"colorbar\": {\"outlinewidth\": 0, \"ticks\": \"\"}, \"type\": \"choropleth\"}], \"contour\": [{\"colorbar\": {\"outlinewidth\": 0, \"ticks\": \"\"}, \"colorscale\": [[0.0, \"#0d0887\"], [0.1111111111111111, \"#46039f\"], [0.2222222222222222, \"#7201a8\"], [0.3333333333333333, \"#9c179e\"], [0.4444444444444444, \"#bd3786\"], [0.5555555555555556, \"#d8576b\"], [0.6666666666666666, \"#ed7953\"], [0.7777777777777778, \"#fb9f3a\"], [0.8888888888888888, \"#fdca26\"], [1.0, \"#f0f921\"]], \"type\": \"contour\"}], \"contourcarpet\": [{\"colorbar\": {\"outlinewidth\": 0, \"ticks\": \"\"}, \"type\": \"contourcarpet\"}], \"heatmap\": [{\"colorbar\": {\"outlinewidth\": 0, \"ticks\": \"\"}, \"colorscale\": [[0.0, \"#0d0887\"], [0.1111111111111111, \"#46039f\"], [0.2222222222222222, \"#7201a8\"], [0.3333333333333333, \"#9c179e\"], [0.4444444444444444, \"#bd3786\"], [0.5555555555555556, \"#d8576b\"], [0.6666666666666666, \"#ed7953\"], [0.7777777777777778, \"#fb9f3a\"], [0.8888888888888888, \"#fdca26\"], [1.0, \"#f0f921\"]], \"type\": \"heatmap\"}], \"heatmapgl\": [{\"colorbar\": {\"outlinewidth\": 0, \"ticks\": \"\"}, \"colorscale\": [[0.0, \"#0d0887\"], [0.1111111111111111, \"#46039f\"], [0.2222222222222222, \"#7201a8\"], [0.3333333333333333, \"#9c179e\"], [0.4444444444444444, \"#bd3786\"], [0.5555555555555556, \"#d8576b\"], [0.6666666666666666, \"#ed7953\"], [0.7777777777777778, \"#fb9f3a\"], [0.8888888888888888, \"#fdca26\"], [1.0, \"#f0f921\"]], \"type\": \"heatmapgl\"}], \"histogram\": [{\"marker\": {\"colorbar\": {\"outlinewidth\": 0, \"ticks\": \"\"}}, \"type\": \"histogram\"}], \"histogram2d\": [{\"colorbar\": {\"outlinewidth\": 0, \"ticks\": \"\"}, \"colorscale\": [[0.0, \"#0d0887\"], [0.1111111111111111, \"#46039f\"], [0.2222222222222222, \"#7201a8\"], [0.3333333333333333, \"#9c179e\"], [0.4444444444444444, \"#bd3786\"], [0.5555555555555556, \"#d8576b\"], [0.6666666666666666, \"#ed7953\"], [0.7777777777777778, \"#fb9f3a\"], [0.8888888888888888, \"#fdca26\"], [1.0, \"#f0f921\"]], \"type\": \"histogram2d\"}], \"histogram2dcontour\": [{\"colorbar\": {\"outlinewidth\": 0, \"ticks\": \"\"}, \"colorscale\": [[0.0, \"#0d0887\"], [0.1111111111111111, \"#46039f\"], [0.2222222222222222, \"#7201a8\"], [0.3333333333333333, \"#9c179e\"], [0.4444444444444444, \"#bd3786\"], [0.5555555555555556, \"#d8576b\"], [0.6666666666666666, \"#ed7953\"], [0.7777777777777778, \"#fb9f3a\"], [0.8888888888888888, \"#fdca26\"], [1.0, \"#f0f921\"]], \"type\": \"histogram2dcontour\"}], \"mesh3d\": [{\"colorbar\": {\"outlinewidth\": 0, \"ticks\": \"\"}, \"type\": \"mesh3d\"}], \"parcoords\": [{\"line\": {\"colorbar\": {\"outlinewidth\": 0, \"ticks\": \"\"}}, \"type\": \"parcoords\"}], \"pie\": [{\"automargin\": true, \"type\": \"pie\"}], \"scatter\": [{\"marker\": {\"colorbar\": {\"outlinewidth\": 0, \"ticks\": \"\"}}, \"type\": \"scatter\"}], \"scatter3d\": [{\"line\": {\"colorbar\": {\"outlinewidth\": 0, \"ticks\": \"\"}}, \"marker\": {\"colorbar\": {\"outlinewidth\": 0, \"ticks\": \"\"}}, \"type\": \"scatter3d\"}], \"scattercarpet\": [{\"marker\": {\"colorbar\": {\"outlinewidth\": 0, \"ticks\": \"\"}}, \"type\": \"scattercarpet\"}], \"scattergeo\": [{\"marker\": {\"colorbar\": {\"outlinewidth\": 0, \"ticks\": \"\"}}, \"type\": \"scattergeo\"}], \"scattergl\": [{\"marker\": {\"colorbar\": {\"outlinewidth\": 0, \"ticks\": \"\"}}, \"type\": \"scattergl\"}], \"scattermapbox\": [{\"marker\": {\"colorbar\": {\"outlinewidth\": 0, \"ticks\": \"\"}}, \"type\": \"scattermapbox\"}], \"scatterpolar\": [{\"marker\": {\"colorbar\": {\"outlinewidth\": 0, \"ticks\": \"\"}}, \"type\": \"scatterpolar\"}], \"scatterpolargl\": [{\"marker\": {\"colorbar\": {\"outlinewidth\": 0, \"ticks\": \"\"}}, \"type\": \"scatterpolargl\"}], \"scatterternary\": [{\"marker\": {\"colorbar\": {\"outlinewidth\": 0, \"ticks\": \"\"}}, \"type\": \"scatterternary\"}], \"surface\": [{\"colorbar\": {\"outlinewidth\": 0, \"ticks\": \"\"}, \"colorscale\": [[0.0, \"#0d0887\"], [0.1111111111111111, \"#46039f\"], [0.2222222222222222, \"#7201a8\"], [0.3333333333333333, \"#9c179e\"], [0.4444444444444444, \"#bd3786\"], [0.5555555555555556, \"#d8576b\"], [0.6666666666666666, \"#ed7953\"], [0.7777777777777778, \"#fb9f3a\"], [0.8888888888888888, \"#fdca26\"], [1.0, \"#f0f921\"]], \"type\": \"surface\"}], \"table\": [{\"cells\": {\"fill\": {\"color\": \"#EBF0F8\"}, \"line\": {\"color\": \"white\"}}, \"header\": {\"fill\": {\"color\": \"#C8D4E3\"}, \"line\": {\"color\": \"white\"}}, \"type\": \"table\"}]}, \"layout\": {\"annotationdefaults\": {\"arrowcolor\": \"#2a3f5f\", \"arrowhead\": 0, \"arrowwidth\": 1}, \"coloraxis\": {\"colorbar\": {\"outlinewidth\": 0, \"ticks\": \"\"}}, \"colorscale\": {\"diverging\": [[0, \"#8e0152\"], [0.1, \"#c51b7d\"], [0.2, \"#de77ae\"], [0.3, \"#f1b6da\"], [0.4, \"#fde0ef\"], [0.5, \"#f7f7f7\"], [0.6, \"#e6f5d0\"], [0.7, \"#b8e186\"], [0.8, \"#7fbc41\"], [0.9, \"#4d9221\"], [1, \"#276419\"]], \"sequential\": [[0.0, \"#0d0887\"], [0.1111111111111111, \"#46039f\"], [0.2222222222222222, \"#7201a8\"], [0.3333333333333333, \"#9c179e\"], [0.4444444444444444, \"#bd3786\"], [0.5555555555555556, \"#d8576b\"], [0.6666666666666666, \"#ed7953\"], [0.7777777777777778, \"#fb9f3a\"], [0.8888888888888888, \"#fdca26\"], [1.0, \"#f0f921\"]], \"sequentialminus\": [[0.0, \"#0d0887\"], [0.1111111111111111, \"#46039f\"], [0.2222222222222222, \"#7201a8\"], [0.3333333333333333, \"#9c179e\"], [0.4444444444444444, \"#bd3786\"], [0.5555555555555556, \"#d8576b\"], [0.6666666666666666, \"#ed7953\"], [0.7777777777777778, \"#fb9f3a\"], [0.8888888888888888, \"#fdca26\"], [1.0, \"#f0f921\"]]}, \"colorway\": [\"#636efa\", \"#EF553B\", \"#00cc96\", \"#ab63fa\", \"#FFA15A\", \"#19d3f3\", \"#FF6692\", \"#B6E880\", \"#FF97FF\", \"#FECB52\"], \"font\": {\"color\": \"#2a3f5f\"}, \"geo\": {\"bgcolor\": \"white\", \"lakecolor\": \"white\", \"landcolor\": \"#E5ECF6\", \"showlakes\": true, \"showland\": true, \"subunitcolor\": \"white\"}, \"hoverlabel\": {\"align\": \"left\"}, \"hovermode\": \"closest\", \"mapbox\": {\"style\": \"light\"}, \"paper_bgcolor\": \"white\", \"plot_bgcolor\": \"#E5ECF6\", \"polar\": {\"angularaxis\": {\"gridcolor\": \"white\", \"linecolor\": \"white\", \"ticks\": \"\"}, \"bgcolor\": \"#E5ECF6\", \"radialaxis\": {\"gridcolor\": \"white\", \"linecolor\": \"white\", \"ticks\": \"\"}}, \"scene\": {\"xaxis\": {\"backgroundcolor\": \"#E5ECF6\", \"gridcolor\": \"white\", \"gridwidth\": 2, \"linecolor\": \"white\", \"showbackground\": true, \"ticks\": \"\", \"zerolinecolor\": \"white\"}, \"yaxis\": {\"backgroundcolor\": \"#E5ECF6\", \"gridcolor\": \"white\", \"gridwidth\": 2, \"linecolor\": \"white\", \"showbackground\": true, \"ticks\": \"\", \"zerolinecolor\": \"white\"}, \"zaxis\": {\"backgroundcolor\": \"#E5ECF6\", \"gridcolor\": \"white\", \"gridwidth\": 2, \"linecolor\": \"white\", \"showbackground\": true, \"ticks\": \"\", \"zerolinecolor\": \"white\"}}, \"shapedefaults\": {\"line\": {\"color\": \"#2a3f5f\"}}, \"ternary\": {\"aaxis\": {\"gridcolor\": \"white\", \"linecolor\": \"white\", \"ticks\": \"\"}, \"baxis\": {\"gridcolor\": \"white\", \"linecolor\": \"white\", \"ticks\": \"\"}, \"bgcolor\": \"#E5ECF6\", \"caxis\": {\"gridcolor\": \"white\", \"linecolor\": \"white\", \"ticks\": \"\"}}, \"title\": {\"x\": 0.05}, \"xaxis\": {\"automargin\": true, \"gridcolor\": \"white\", \"linecolor\": \"white\", \"ticks\": \"\", \"title\": {\"standoff\": 15}, \"zerolinecolor\": \"white\", \"zerolinewidth\": 2}, \"yaxis\": {\"automargin\": true, \"gridcolor\": \"white\", \"linecolor\": \"white\", \"ticks\": \"\", \"title\": {\"standoff\": 15}, \"zerolinecolor\": \"white\", \"zerolinewidth\": 2}}}, \"title\": {\"font\": {\"color\": \"#4D5663\"}}, \"xaxis\": {\"gridcolor\": \"#E1E5ED\", \"showgrid\": true, \"tickfont\": {\"color\": \"#4D5663\"}, \"title\": {\"font\": {\"color\": \"#4D5663\"}, \"text\": \"\"}, \"zerolinecolor\": \"#E1E5ED\"}, \"yaxis\": {\"gridcolor\": \"#E1E5ED\", \"showgrid\": true, \"tickfont\": {\"color\": \"#4D5663\"}, \"title\": {\"font\": {\"color\": \"#4D5663\"}, \"text\": \"\"}, \"zerolinecolor\": \"#E1E5ED\"}},                        {\"showLink\": true, \"linkText\": \"Export to plot.ly\", \"plotlyServerURL\": \"https://plot.ly\", \"responsive\": true}                    ).then(function(){\n",
       "                            \n",
       "var gd = document.getElementById('4971c113-a056-425f-85d7-cbd78bf149ea');\n",
       "var x = new MutationObserver(function (mutations, observer) {{\n",
       "        var display = window.getComputedStyle(gd).display;\n",
       "        if (!display || display === 'none') {{\n",
       "            console.log([gd, 'removed!']);\n",
       "            Plotly.purge(gd);\n",
       "            observer.disconnect();\n",
       "        }}\n",
       "}});\n",
       "\n",
       "// Listen for the removal of the full notebook cells\n",
       "var notebookContainer = gd.closest('#notebook-container');\n",
       "if (notebookContainer) {{\n",
       "    x.observe(notebookContainer, {childList: true});\n",
       "}}\n",
       "\n",
       "// Listen for the clearing of the current output cell\n",
       "var outputEl = gd.closest('.output');\n",
       "if (outputEl) {{\n",
       "    x.observe(outputEl, {childList: true});\n",
       "}}\n",
       "\n",
       "                        })                };                });            </script>        </div>"
      ]
     },
     "metadata": {},
     "output_type": "display_data"
    }
   ],
   "source": [
    "# create an interactive scatter plot\n",
    "df.iplot(kind='scatter',x='A',y='B',mode='markers')"
   ]
  },
  {
   "cell_type": "markdown",
   "metadata": {},
   "source": [
    "###### Note: You can specify the `size` parameter to modify the marker size"
   ]
  },
  {
   "cell_type": "code",
   "execution_count": 14,
   "metadata": {},
   "outputs": [
    {
     "data": {
      "application/vnd.plotly.v1+json": {
       "config": {
        "linkText": "Export to plot.ly",
        "plotlyServerURL": "https://plot.ly",
        "showLink": true
       },
       "data": [
        {
         "line": {
          "color": "rgba(255, 153, 51, 1.0)",
          "dash": "solid",
          "shape": "linear",
          "width": 1.3
         },
         "marker": {
          "size": 20,
          "symbol": "circle"
         },
         "mode": "markers",
         "name": "B",
         "text": "",
         "type": "scatter",
         "x": [
          0.00645505412481479,
          -1.4397876348458365,
          1.0708611347292805,
          0.28406613516333,
          0.058580630554189314,
          0.8284319830137025,
          -0.42047449551545285,
          -0.09014078165929397,
          -1.3944631937012903,
          0.05256359179847144,
          0.0409425859720373,
          -1.0208810538666255,
          1.147791416367246,
          0.7658353585491399,
          -0.4910219172880578,
          -0.8721591983562276,
          -0.9005228723828286,
          -0.560157105001934,
          0.3713100958842003,
          -1.2535692114404662,
          0.6909564571551409,
          0.1842453733842638,
          1.1379399025401098,
          1.1225527092582108,
          2.566851668670725,
          -1.670807423685407,
          1.94114639518042,
          -0.4715978936051285,
          -0.8163180921528749,
          -1.3536378264027218,
          -0.4147680876033762,
          -1.5047960860017953,
          -0.45073089384645704,
          -0.7269309668428034,
          0.7071546103928739,
          -0.5733190517411629,
          -0.6254361093893777,
          -1.5979799108505073,
          0.5170911382160981,
          0.5990087994240142,
          -0.2713626986608739,
          0.009040260923086347,
          -1.8660001972888383,
          0.40229667838475697,
          0.41585974272164616,
          -0.763893236346236,
          -0.34155596437332403,
          0.9542846586183369,
          1.0716615685885462,
          -0.060216026348868294,
          -1.1773224311305817,
          -0.9337797332054449,
          0.1749212272955488,
          -0.4016088255929763,
          1.5669389913415512,
          -0.8513635591410853,
          0.5310694215184522,
          -0.2754033351060103,
          -1.0414551990670875,
          -1.3845691960246238,
          0.11348281842005707,
          1.3575087993749007,
          -0.3954770620305859,
          0.676071850082259,
          0.4705010649987572,
          -0.3790387735935101,
          -0.8495913010737675,
          0.8382970974418101,
          -0.5153325311787621,
          -1.7022110786144058,
          1.4655183248688948,
          1.0520473235550596,
          -1.171272825456019,
          -0.7506656329216204,
          0.7543814278344634,
          0.25107938267119495,
          -0.5073680136495456,
          -0.65943015684561,
          0.04797048723213697,
          1.3725651550792377,
          0.3377203852279814,
          1.2690715670621149,
          0.3721442232698379,
          0.5626215355177316,
          -0.135971356264149,
          -1.0401702516300955,
          0.2074595019498187,
          0.6824824097281659,
          -1.2108413913024183,
          -0.14337649101770347,
          -0.15534252908565863,
          1.8190769247613148,
          -1.2625189409980964,
          1.0150403647301383,
          0.5975471562017068,
          0.7052928914556554,
          0.7574383663343425,
          0.3520597042626315,
          0.12580990970060232,
          -1.371360391325017
         ],
         "y": [
          0.3715414837853284,
          -0.1496899277411245,
          -0.4390213126824492,
          1.6124578320777376,
          0.11183836103323239,
          1.458697253376567,
          0.9643586012873291,
          0.6670443200955786,
          -0.21265059534970032,
          -0.8636786417042411,
          1.7871113503248284,
          -0.1447568525603548,
          0.9351528782010953,
          0.9625816992599668,
          -0.3733852727659238,
          -0.2822727071412232,
          -0.0358397051319197,
          2.2130874225777575,
          0.25326232890298495,
          -0.445997394922047,
          -0.12580352886153912,
          0.821603670489078,
          -0.31317514756877424,
          -1.227443779918153,
          0.08176459147203437,
          -0.13765985270634984,
          -1.1342575625974662,
          -0.6658897059835954,
          -0.8162034704460095,
          0.8322541179478329,
          -2.3019121397506352,
          0.22840969211373394,
          -0.09790587776093376,
          0.8646965614406674,
          0.8123971676173096,
          0.09931126017752998,
          -0.2851236926891674,
          -0.6546008255239986,
          0.34637604119215065,
          -0.08096229379499327,
          -1.0821639264456364,
          0.7707047699604228,
          -0.3655827162038345,
          -0.8690899907167929,
          -1.62725903133252,
          0.8473311747014874,
          0.2243054275489603,
          0.9160444771656323,
          -0.013671567941790488,
          1.1756905044906398,
          2.211644592878346,
          2.6734963742744893,
          2.403609725799866,
          -0.7828324585717606,
          -1.9352254812359753,
          2.05781884631984,
          0.22955750817913378,
          -1.41367971194844,
          -0.02222680289686833,
          -0.3265895253904034,
          -0.662586189934153,
          0.34162075972823924,
          -1.7987978352472804,
          -2.164523510479693,
          -1.0226530080529086,
          0.09527821901748883,
          -0.3735501240807589,
          -0.8341382892266959,
          -0.34868142809346037,
          1.3620090274224168,
          0.6831582769222206,
          -0.9704644017602544,
          1.0850240034716527,
          0.03189658005429582,
          1.5597883688055845,
          -0.6942070267432159,
          -0.22882318437441995,
          1.410449211516949,
          1.3503691828085254,
          0.1134970084477248,
          -0.4990774677156832,
          -1.4529230662123482,
          -0.6863896873450261,
          0.7806907699913527,
          -0.4867880186501855,
          0.9352865979372379,
          -0.5062252759718567,
          0.5592357779532194,
          0.6665247279587084,
          0.7647459179575313,
          0.4677285244089398,
          1.0166663003685206,
          1.0356066302371916,
          -0.44541082873479076,
          -0.040668349850732054,
          0.5685074541670516,
          -1.167505710044138,
          -0.370685489323101,
          0.7617607871230696,
          -0.34649327030204485
         ]
        }
       ],
       "layout": {
        "legend": {
         "bgcolor": "#F5F6F9",
         "font": {
          "color": "#4D5663"
         }
        },
        "paper_bgcolor": "#F5F6F9",
        "plot_bgcolor": "#F5F6F9",
        "template": {
         "data": {
          "bar": [
           {
            "error_x": {
             "color": "#2a3f5f"
            },
            "error_y": {
             "color": "#2a3f5f"
            },
            "marker": {
             "line": {
              "color": "#E5ECF6",
              "width": 0.5
             }
            },
            "type": "bar"
           }
          ],
          "barpolar": [
           {
            "marker": {
             "line": {
              "color": "#E5ECF6",
              "width": 0.5
             }
            },
            "type": "barpolar"
           }
          ],
          "carpet": [
           {
            "aaxis": {
             "endlinecolor": "#2a3f5f",
             "gridcolor": "white",
             "linecolor": "white",
             "minorgridcolor": "white",
             "startlinecolor": "#2a3f5f"
            },
            "baxis": {
             "endlinecolor": "#2a3f5f",
             "gridcolor": "white",
             "linecolor": "white",
             "minorgridcolor": "white",
             "startlinecolor": "#2a3f5f"
            },
            "type": "carpet"
           }
          ],
          "choropleth": [
           {
            "colorbar": {
             "outlinewidth": 0,
             "ticks": ""
            },
            "type": "choropleth"
           }
          ],
          "contour": [
           {
            "colorbar": {
             "outlinewidth": 0,
             "ticks": ""
            },
            "colorscale": [
             [
              0,
              "#0d0887"
             ],
             [
              0.1111111111111111,
              "#46039f"
             ],
             [
              0.2222222222222222,
              "#7201a8"
             ],
             [
              0.3333333333333333,
              "#9c179e"
             ],
             [
              0.4444444444444444,
              "#bd3786"
             ],
             [
              0.5555555555555556,
              "#d8576b"
             ],
             [
              0.6666666666666666,
              "#ed7953"
             ],
             [
              0.7777777777777778,
              "#fb9f3a"
             ],
             [
              0.8888888888888888,
              "#fdca26"
             ],
             [
              1,
              "#f0f921"
             ]
            ],
            "type": "contour"
           }
          ],
          "contourcarpet": [
           {
            "colorbar": {
             "outlinewidth": 0,
             "ticks": ""
            },
            "type": "contourcarpet"
           }
          ],
          "heatmap": [
           {
            "colorbar": {
             "outlinewidth": 0,
             "ticks": ""
            },
            "colorscale": [
             [
              0,
              "#0d0887"
             ],
             [
              0.1111111111111111,
              "#46039f"
             ],
             [
              0.2222222222222222,
              "#7201a8"
             ],
             [
              0.3333333333333333,
              "#9c179e"
             ],
             [
              0.4444444444444444,
              "#bd3786"
             ],
             [
              0.5555555555555556,
              "#d8576b"
             ],
             [
              0.6666666666666666,
              "#ed7953"
             ],
             [
              0.7777777777777778,
              "#fb9f3a"
             ],
             [
              0.8888888888888888,
              "#fdca26"
             ],
             [
              1,
              "#f0f921"
             ]
            ],
            "type": "heatmap"
           }
          ],
          "heatmapgl": [
           {
            "colorbar": {
             "outlinewidth": 0,
             "ticks": ""
            },
            "colorscale": [
             [
              0,
              "#0d0887"
             ],
             [
              0.1111111111111111,
              "#46039f"
             ],
             [
              0.2222222222222222,
              "#7201a8"
             ],
             [
              0.3333333333333333,
              "#9c179e"
             ],
             [
              0.4444444444444444,
              "#bd3786"
             ],
             [
              0.5555555555555556,
              "#d8576b"
             ],
             [
              0.6666666666666666,
              "#ed7953"
             ],
             [
              0.7777777777777778,
              "#fb9f3a"
             ],
             [
              0.8888888888888888,
              "#fdca26"
             ],
             [
              1,
              "#f0f921"
             ]
            ],
            "type": "heatmapgl"
           }
          ],
          "histogram": [
           {
            "marker": {
             "colorbar": {
              "outlinewidth": 0,
              "ticks": ""
             }
            },
            "type": "histogram"
           }
          ],
          "histogram2d": [
           {
            "colorbar": {
             "outlinewidth": 0,
             "ticks": ""
            },
            "colorscale": [
             [
              0,
              "#0d0887"
             ],
             [
              0.1111111111111111,
              "#46039f"
             ],
             [
              0.2222222222222222,
              "#7201a8"
             ],
             [
              0.3333333333333333,
              "#9c179e"
             ],
             [
              0.4444444444444444,
              "#bd3786"
             ],
             [
              0.5555555555555556,
              "#d8576b"
             ],
             [
              0.6666666666666666,
              "#ed7953"
             ],
             [
              0.7777777777777778,
              "#fb9f3a"
             ],
             [
              0.8888888888888888,
              "#fdca26"
             ],
             [
              1,
              "#f0f921"
             ]
            ],
            "type": "histogram2d"
           }
          ],
          "histogram2dcontour": [
           {
            "colorbar": {
             "outlinewidth": 0,
             "ticks": ""
            },
            "colorscale": [
             [
              0,
              "#0d0887"
             ],
             [
              0.1111111111111111,
              "#46039f"
             ],
             [
              0.2222222222222222,
              "#7201a8"
             ],
             [
              0.3333333333333333,
              "#9c179e"
             ],
             [
              0.4444444444444444,
              "#bd3786"
             ],
             [
              0.5555555555555556,
              "#d8576b"
             ],
             [
              0.6666666666666666,
              "#ed7953"
             ],
             [
              0.7777777777777778,
              "#fb9f3a"
             ],
             [
              0.8888888888888888,
              "#fdca26"
             ],
             [
              1,
              "#f0f921"
             ]
            ],
            "type": "histogram2dcontour"
           }
          ],
          "mesh3d": [
           {
            "colorbar": {
             "outlinewidth": 0,
             "ticks": ""
            },
            "type": "mesh3d"
           }
          ],
          "parcoords": [
           {
            "line": {
             "colorbar": {
              "outlinewidth": 0,
              "ticks": ""
             }
            },
            "type": "parcoords"
           }
          ],
          "pie": [
           {
            "automargin": true,
            "type": "pie"
           }
          ],
          "scatter": [
           {
            "marker": {
             "colorbar": {
              "outlinewidth": 0,
              "ticks": ""
             }
            },
            "type": "scatter"
           }
          ],
          "scatter3d": [
           {
            "line": {
             "colorbar": {
              "outlinewidth": 0,
              "ticks": ""
             }
            },
            "marker": {
             "colorbar": {
              "outlinewidth": 0,
              "ticks": ""
             }
            },
            "type": "scatter3d"
           }
          ],
          "scattercarpet": [
           {
            "marker": {
             "colorbar": {
              "outlinewidth": 0,
              "ticks": ""
             }
            },
            "type": "scattercarpet"
           }
          ],
          "scattergeo": [
           {
            "marker": {
             "colorbar": {
              "outlinewidth": 0,
              "ticks": ""
             }
            },
            "type": "scattergeo"
           }
          ],
          "scattergl": [
           {
            "marker": {
             "colorbar": {
              "outlinewidth": 0,
              "ticks": ""
             }
            },
            "type": "scattergl"
           }
          ],
          "scattermapbox": [
           {
            "marker": {
             "colorbar": {
              "outlinewidth": 0,
              "ticks": ""
             }
            },
            "type": "scattermapbox"
           }
          ],
          "scatterpolar": [
           {
            "marker": {
             "colorbar": {
              "outlinewidth": 0,
              "ticks": ""
             }
            },
            "type": "scatterpolar"
           }
          ],
          "scatterpolargl": [
           {
            "marker": {
             "colorbar": {
              "outlinewidth": 0,
              "ticks": ""
             }
            },
            "type": "scatterpolargl"
           }
          ],
          "scatterternary": [
           {
            "marker": {
             "colorbar": {
              "outlinewidth": 0,
              "ticks": ""
             }
            },
            "type": "scatterternary"
           }
          ],
          "surface": [
           {
            "colorbar": {
             "outlinewidth": 0,
             "ticks": ""
            },
            "colorscale": [
             [
              0,
              "#0d0887"
             ],
             [
              0.1111111111111111,
              "#46039f"
             ],
             [
              0.2222222222222222,
              "#7201a8"
             ],
             [
              0.3333333333333333,
              "#9c179e"
             ],
             [
              0.4444444444444444,
              "#bd3786"
             ],
             [
              0.5555555555555556,
              "#d8576b"
             ],
             [
              0.6666666666666666,
              "#ed7953"
             ],
             [
              0.7777777777777778,
              "#fb9f3a"
             ],
             [
              0.8888888888888888,
              "#fdca26"
             ],
             [
              1,
              "#f0f921"
             ]
            ],
            "type": "surface"
           }
          ],
          "table": [
           {
            "cells": {
             "fill": {
              "color": "#EBF0F8"
             },
             "line": {
              "color": "white"
             }
            },
            "header": {
             "fill": {
              "color": "#C8D4E3"
             },
             "line": {
              "color": "white"
             }
            },
            "type": "table"
           }
          ]
         },
         "layout": {
          "annotationdefaults": {
           "arrowcolor": "#2a3f5f",
           "arrowhead": 0,
           "arrowwidth": 1
          },
          "coloraxis": {
           "colorbar": {
            "outlinewidth": 0,
            "ticks": ""
           }
          },
          "colorscale": {
           "diverging": [
            [
             0,
             "#8e0152"
            ],
            [
             0.1,
             "#c51b7d"
            ],
            [
             0.2,
             "#de77ae"
            ],
            [
             0.3,
             "#f1b6da"
            ],
            [
             0.4,
             "#fde0ef"
            ],
            [
             0.5,
             "#f7f7f7"
            ],
            [
             0.6,
             "#e6f5d0"
            ],
            [
             0.7,
             "#b8e186"
            ],
            [
             0.8,
             "#7fbc41"
            ],
            [
             0.9,
             "#4d9221"
            ],
            [
             1,
             "#276419"
            ]
           ],
           "sequential": [
            [
             0,
             "#0d0887"
            ],
            [
             0.1111111111111111,
             "#46039f"
            ],
            [
             0.2222222222222222,
             "#7201a8"
            ],
            [
             0.3333333333333333,
             "#9c179e"
            ],
            [
             0.4444444444444444,
             "#bd3786"
            ],
            [
             0.5555555555555556,
             "#d8576b"
            ],
            [
             0.6666666666666666,
             "#ed7953"
            ],
            [
             0.7777777777777778,
             "#fb9f3a"
            ],
            [
             0.8888888888888888,
             "#fdca26"
            ],
            [
             1,
             "#f0f921"
            ]
           ],
           "sequentialminus": [
            [
             0,
             "#0d0887"
            ],
            [
             0.1111111111111111,
             "#46039f"
            ],
            [
             0.2222222222222222,
             "#7201a8"
            ],
            [
             0.3333333333333333,
             "#9c179e"
            ],
            [
             0.4444444444444444,
             "#bd3786"
            ],
            [
             0.5555555555555556,
             "#d8576b"
            ],
            [
             0.6666666666666666,
             "#ed7953"
            ],
            [
             0.7777777777777778,
             "#fb9f3a"
            ],
            [
             0.8888888888888888,
             "#fdca26"
            ],
            [
             1,
             "#f0f921"
            ]
           ]
          },
          "colorway": [
           "#636efa",
           "#EF553B",
           "#00cc96",
           "#ab63fa",
           "#FFA15A",
           "#19d3f3",
           "#FF6692",
           "#B6E880",
           "#FF97FF",
           "#FECB52"
          ],
          "font": {
           "color": "#2a3f5f"
          },
          "geo": {
           "bgcolor": "white",
           "lakecolor": "white",
           "landcolor": "#E5ECF6",
           "showlakes": true,
           "showland": true,
           "subunitcolor": "white"
          },
          "hoverlabel": {
           "align": "left"
          },
          "hovermode": "closest",
          "mapbox": {
           "style": "light"
          },
          "paper_bgcolor": "white",
          "plot_bgcolor": "#E5ECF6",
          "polar": {
           "angularaxis": {
            "gridcolor": "white",
            "linecolor": "white",
            "ticks": ""
           },
           "bgcolor": "#E5ECF6",
           "radialaxis": {
            "gridcolor": "white",
            "linecolor": "white",
            "ticks": ""
           }
          },
          "scene": {
           "xaxis": {
            "backgroundcolor": "#E5ECF6",
            "gridcolor": "white",
            "gridwidth": 2,
            "linecolor": "white",
            "showbackground": true,
            "ticks": "",
            "zerolinecolor": "white"
           },
           "yaxis": {
            "backgroundcolor": "#E5ECF6",
            "gridcolor": "white",
            "gridwidth": 2,
            "linecolor": "white",
            "showbackground": true,
            "ticks": "",
            "zerolinecolor": "white"
           },
           "zaxis": {
            "backgroundcolor": "#E5ECF6",
            "gridcolor": "white",
            "gridwidth": 2,
            "linecolor": "white",
            "showbackground": true,
            "ticks": "",
            "zerolinecolor": "white"
           }
          },
          "shapedefaults": {
           "line": {
            "color": "#2a3f5f"
           }
          },
          "ternary": {
           "aaxis": {
            "gridcolor": "white",
            "linecolor": "white",
            "ticks": ""
           },
           "baxis": {
            "gridcolor": "white",
            "linecolor": "white",
            "ticks": ""
           },
           "bgcolor": "#E5ECF6",
           "caxis": {
            "gridcolor": "white",
            "linecolor": "white",
            "ticks": ""
           }
          },
          "title": {
           "x": 0.05
          },
          "xaxis": {
           "automargin": true,
           "gridcolor": "white",
           "linecolor": "white",
           "ticks": "",
           "title": {
            "standoff": 15
           },
           "zerolinecolor": "white",
           "zerolinewidth": 2
          },
          "yaxis": {
           "automargin": true,
           "gridcolor": "white",
           "linecolor": "white",
           "ticks": "",
           "title": {
            "standoff": 15
           },
           "zerolinecolor": "white",
           "zerolinewidth": 2
          }
         }
        },
        "title": {
         "font": {
          "color": "#4D5663"
         }
        },
        "xaxis": {
         "gridcolor": "#E1E5ED",
         "showgrid": true,
         "tickfont": {
          "color": "#4D5663"
         },
         "title": {
          "font": {
           "color": "#4D5663"
          },
          "text": ""
         },
         "zerolinecolor": "#E1E5ED"
        },
        "yaxis": {
         "gridcolor": "#E1E5ED",
         "showgrid": true,
         "tickfont": {
          "color": "#4D5663"
         },
         "title": {
          "font": {
           "color": "#4D5663"
          },
          "text": ""
         },
         "zerolinecolor": "#E1E5ED"
        }
       }
      },
      "text/html": [
       "<div>                            <div id=\"32833792-737e-441a-aabd-d82e28f4a7b3\" class=\"plotly-graph-div\" style=\"height:525px; width:100%;\"></div>            <script type=\"text/javascript\">                require([\"plotly\"], function(Plotly) {                    window.PLOTLYENV=window.PLOTLYENV || {};\n",
       "                    window.PLOTLYENV.BASE_URL='https://plot.ly';                                    if (document.getElementById(\"32833792-737e-441a-aabd-d82e28f4a7b3\")) {                    Plotly.newPlot(                        \"32833792-737e-441a-aabd-d82e28f4a7b3\",                        [{\"line\": {\"color\": \"rgba(255, 153, 51, 1.0)\", \"dash\": \"solid\", \"shape\": \"linear\", \"width\": 1.3}, \"marker\": {\"size\": 20, \"symbol\": \"circle\"}, \"mode\": \"markers\", \"name\": \"B\", \"text\": \"\", \"type\": \"scatter\", \"x\": [0.00645505412481479, -1.4397876348458365, 1.0708611347292805, 0.28406613516333, 0.058580630554189314, 0.8284319830137025, -0.42047449551545285, -0.09014078165929397, -1.3944631937012903, 0.05256359179847144, 0.0409425859720373, -1.0208810538666255, 1.147791416367246, 0.7658353585491399, -0.4910219172880578, -0.8721591983562276, -0.9005228723828286, -0.560157105001934, 0.3713100958842003, -1.2535692114404662, 0.6909564571551409, 0.1842453733842638, 1.1379399025401098, 1.1225527092582108, 2.566851668670725, -1.670807423685407, 1.94114639518042, -0.4715978936051285, -0.8163180921528749, -1.3536378264027218, -0.4147680876033762, -1.5047960860017953, -0.45073089384645704, -0.7269309668428034, 0.7071546103928739, -0.5733190517411629, -0.6254361093893777, -1.5979799108505073, 0.5170911382160981, 0.5990087994240142, -0.2713626986608739, 0.009040260923086347, -1.8660001972888383, 0.40229667838475697, 0.41585974272164616, -0.763893236346236, -0.34155596437332403, 0.9542846586183369, 1.0716615685885462, -0.060216026348868294, -1.1773224311305817, -0.9337797332054449, 0.1749212272955488, -0.4016088255929763, 1.5669389913415512, -0.8513635591410853, 0.5310694215184522, -0.2754033351060103, -1.0414551990670875, -1.3845691960246238, 0.11348281842005707, 1.3575087993749007, -0.3954770620305859, 0.676071850082259, 0.4705010649987572, -0.3790387735935101, -0.8495913010737675, 0.8382970974418101, -0.5153325311787621, -1.7022110786144058, 1.4655183248688948, 1.0520473235550596, -1.171272825456019, -0.7506656329216204, 0.7543814278344634, 0.25107938267119495, -0.5073680136495456, -0.65943015684561, 0.04797048723213697, 1.3725651550792377, 0.3377203852279814, 1.2690715670621149, 0.3721442232698379, 0.5626215355177316, -0.135971356264149, -1.0401702516300955, 0.2074595019498187, 0.6824824097281659, -1.2108413913024183, -0.14337649101770347, -0.15534252908565863, 1.8190769247613148, -1.2625189409980964, 1.0150403647301383, 0.5975471562017068, 0.7052928914556554, 0.7574383663343425, 0.3520597042626315, 0.12580990970060232, -1.371360391325017], \"y\": [0.3715414837853284, -0.1496899277411245, -0.4390213126824492, 1.6124578320777376, 0.11183836103323239, 1.458697253376567, 0.9643586012873291, 0.6670443200955786, -0.21265059534970032, -0.8636786417042411, 1.7871113503248284, -0.1447568525603548, 0.9351528782010953, 0.9625816992599668, -0.3733852727659238, -0.2822727071412232, -0.0358397051319197, 2.2130874225777575, 0.25326232890298495, -0.445997394922047, -0.12580352886153912, 0.821603670489078, -0.31317514756877424, -1.227443779918153, 0.08176459147203437, -0.13765985270634984, -1.1342575625974662, -0.6658897059835954, -0.8162034704460095, 0.8322541179478329, -2.3019121397506352, 0.22840969211373394, -0.09790587776093376, 0.8646965614406674, 0.8123971676173096, 0.09931126017752998, -0.2851236926891674, -0.6546008255239986, 0.34637604119215065, -0.08096229379499327, -1.0821639264456364, 0.7707047699604228, -0.3655827162038345, -0.8690899907167929, -1.62725903133252, 0.8473311747014874, 0.2243054275489603, 0.9160444771656323, -0.013671567941790488, 1.1756905044906398, 2.211644592878346, 2.6734963742744893, 2.403609725799866, -0.7828324585717606, -1.9352254812359753, 2.05781884631984, 0.22955750817913378, -1.41367971194844, -0.02222680289686833, -0.3265895253904034, -0.662586189934153, 0.34162075972823924, -1.7987978352472804, -2.164523510479693, -1.0226530080529086, 0.09527821901748883, -0.3735501240807589, -0.8341382892266959, -0.34868142809346037, 1.3620090274224168, 0.6831582769222206, -0.9704644017602544, 1.0850240034716527, 0.03189658005429582, 1.5597883688055845, -0.6942070267432159, -0.22882318437441995, 1.410449211516949, 1.3503691828085254, 0.1134970084477248, -0.4990774677156832, -1.4529230662123482, -0.6863896873450261, 0.7806907699913527, -0.4867880186501855, 0.9352865979372379, -0.5062252759718567, 0.5592357779532194, 0.6665247279587084, 0.7647459179575313, 0.4677285244089398, 1.0166663003685206, 1.0356066302371916, -0.44541082873479076, -0.040668349850732054, 0.5685074541670516, -1.167505710044138, -0.370685489323101, 0.7617607871230696, -0.34649327030204485]}],                        {\"legend\": {\"bgcolor\": \"#F5F6F9\", \"font\": {\"color\": \"#4D5663\"}}, \"paper_bgcolor\": \"#F5F6F9\", \"plot_bgcolor\": \"#F5F6F9\", \"template\": {\"data\": {\"bar\": [{\"error_x\": {\"color\": \"#2a3f5f\"}, \"error_y\": {\"color\": \"#2a3f5f\"}, \"marker\": {\"line\": {\"color\": \"#E5ECF6\", \"width\": 0.5}}, \"type\": \"bar\"}], \"barpolar\": [{\"marker\": {\"line\": {\"color\": \"#E5ECF6\", \"width\": 0.5}}, \"type\": \"barpolar\"}], \"carpet\": [{\"aaxis\": {\"endlinecolor\": \"#2a3f5f\", \"gridcolor\": \"white\", \"linecolor\": \"white\", \"minorgridcolor\": \"white\", \"startlinecolor\": \"#2a3f5f\"}, \"baxis\": {\"endlinecolor\": \"#2a3f5f\", \"gridcolor\": \"white\", \"linecolor\": \"white\", \"minorgridcolor\": \"white\", \"startlinecolor\": \"#2a3f5f\"}, \"type\": \"carpet\"}], \"choropleth\": [{\"colorbar\": {\"outlinewidth\": 0, \"ticks\": \"\"}, \"type\": \"choropleth\"}], \"contour\": [{\"colorbar\": {\"outlinewidth\": 0, \"ticks\": \"\"}, \"colorscale\": [[0.0, \"#0d0887\"], [0.1111111111111111, \"#46039f\"], [0.2222222222222222, \"#7201a8\"], [0.3333333333333333, \"#9c179e\"], [0.4444444444444444, \"#bd3786\"], [0.5555555555555556, \"#d8576b\"], [0.6666666666666666, \"#ed7953\"], [0.7777777777777778, \"#fb9f3a\"], [0.8888888888888888, \"#fdca26\"], [1.0, \"#f0f921\"]], \"type\": \"contour\"}], \"contourcarpet\": [{\"colorbar\": {\"outlinewidth\": 0, \"ticks\": \"\"}, \"type\": \"contourcarpet\"}], \"heatmap\": [{\"colorbar\": {\"outlinewidth\": 0, \"ticks\": \"\"}, \"colorscale\": [[0.0, \"#0d0887\"], [0.1111111111111111, \"#46039f\"], [0.2222222222222222, \"#7201a8\"], [0.3333333333333333, \"#9c179e\"], [0.4444444444444444, \"#bd3786\"], [0.5555555555555556, \"#d8576b\"], [0.6666666666666666, \"#ed7953\"], [0.7777777777777778, \"#fb9f3a\"], [0.8888888888888888, \"#fdca26\"], [1.0, \"#f0f921\"]], \"type\": \"heatmap\"}], \"heatmapgl\": [{\"colorbar\": {\"outlinewidth\": 0, \"ticks\": \"\"}, \"colorscale\": [[0.0, \"#0d0887\"], [0.1111111111111111, \"#46039f\"], [0.2222222222222222, \"#7201a8\"], [0.3333333333333333, \"#9c179e\"], [0.4444444444444444, \"#bd3786\"], [0.5555555555555556, \"#d8576b\"], [0.6666666666666666, \"#ed7953\"], [0.7777777777777778, \"#fb9f3a\"], [0.8888888888888888, \"#fdca26\"], [1.0, \"#f0f921\"]], \"type\": \"heatmapgl\"}], \"histogram\": [{\"marker\": {\"colorbar\": {\"outlinewidth\": 0, \"ticks\": \"\"}}, \"type\": \"histogram\"}], \"histogram2d\": [{\"colorbar\": {\"outlinewidth\": 0, \"ticks\": \"\"}, \"colorscale\": [[0.0, \"#0d0887\"], [0.1111111111111111, \"#46039f\"], [0.2222222222222222, \"#7201a8\"], [0.3333333333333333, \"#9c179e\"], [0.4444444444444444, \"#bd3786\"], [0.5555555555555556, \"#d8576b\"], [0.6666666666666666, \"#ed7953\"], [0.7777777777777778, \"#fb9f3a\"], [0.8888888888888888, \"#fdca26\"], [1.0, \"#f0f921\"]], \"type\": \"histogram2d\"}], \"histogram2dcontour\": [{\"colorbar\": {\"outlinewidth\": 0, \"ticks\": \"\"}, \"colorscale\": [[0.0, \"#0d0887\"], [0.1111111111111111, \"#46039f\"], [0.2222222222222222, \"#7201a8\"], [0.3333333333333333, \"#9c179e\"], [0.4444444444444444, \"#bd3786\"], [0.5555555555555556, \"#d8576b\"], [0.6666666666666666, \"#ed7953\"], [0.7777777777777778, \"#fb9f3a\"], [0.8888888888888888, \"#fdca26\"], [1.0, \"#f0f921\"]], \"type\": \"histogram2dcontour\"}], \"mesh3d\": [{\"colorbar\": {\"outlinewidth\": 0, \"ticks\": \"\"}, \"type\": \"mesh3d\"}], \"parcoords\": [{\"line\": {\"colorbar\": {\"outlinewidth\": 0, \"ticks\": \"\"}}, \"type\": \"parcoords\"}], \"pie\": [{\"automargin\": true, \"type\": \"pie\"}], \"scatter\": [{\"marker\": {\"colorbar\": {\"outlinewidth\": 0, \"ticks\": \"\"}}, \"type\": \"scatter\"}], \"scatter3d\": [{\"line\": {\"colorbar\": {\"outlinewidth\": 0, \"ticks\": \"\"}}, \"marker\": {\"colorbar\": {\"outlinewidth\": 0, \"ticks\": \"\"}}, \"type\": \"scatter3d\"}], \"scattercarpet\": [{\"marker\": {\"colorbar\": {\"outlinewidth\": 0, \"ticks\": \"\"}}, \"type\": \"scattercarpet\"}], \"scattergeo\": [{\"marker\": {\"colorbar\": {\"outlinewidth\": 0, \"ticks\": \"\"}}, \"type\": \"scattergeo\"}], \"scattergl\": [{\"marker\": {\"colorbar\": {\"outlinewidth\": 0, \"ticks\": \"\"}}, \"type\": \"scattergl\"}], \"scattermapbox\": [{\"marker\": {\"colorbar\": {\"outlinewidth\": 0, \"ticks\": \"\"}}, \"type\": \"scattermapbox\"}], \"scatterpolar\": [{\"marker\": {\"colorbar\": {\"outlinewidth\": 0, \"ticks\": \"\"}}, \"type\": \"scatterpolar\"}], \"scatterpolargl\": [{\"marker\": {\"colorbar\": {\"outlinewidth\": 0, \"ticks\": \"\"}}, \"type\": \"scatterpolargl\"}], \"scatterternary\": [{\"marker\": {\"colorbar\": {\"outlinewidth\": 0, \"ticks\": \"\"}}, \"type\": \"scatterternary\"}], \"surface\": [{\"colorbar\": {\"outlinewidth\": 0, \"ticks\": \"\"}, \"colorscale\": [[0.0, \"#0d0887\"], [0.1111111111111111, \"#46039f\"], [0.2222222222222222, \"#7201a8\"], [0.3333333333333333, \"#9c179e\"], [0.4444444444444444, \"#bd3786\"], [0.5555555555555556, \"#d8576b\"], [0.6666666666666666, \"#ed7953\"], [0.7777777777777778, \"#fb9f3a\"], [0.8888888888888888, \"#fdca26\"], [1.0, \"#f0f921\"]], \"type\": \"surface\"}], \"table\": [{\"cells\": {\"fill\": {\"color\": \"#EBF0F8\"}, \"line\": {\"color\": \"white\"}}, \"header\": {\"fill\": {\"color\": \"#C8D4E3\"}, \"line\": {\"color\": \"white\"}}, \"type\": \"table\"}]}, \"layout\": {\"annotationdefaults\": {\"arrowcolor\": \"#2a3f5f\", \"arrowhead\": 0, \"arrowwidth\": 1}, \"coloraxis\": {\"colorbar\": {\"outlinewidth\": 0, \"ticks\": \"\"}}, \"colorscale\": {\"diverging\": [[0, \"#8e0152\"], [0.1, \"#c51b7d\"], [0.2, \"#de77ae\"], [0.3, \"#f1b6da\"], [0.4, \"#fde0ef\"], [0.5, \"#f7f7f7\"], [0.6, \"#e6f5d0\"], [0.7, \"#b8e186\"], [0.8, \"#7fbc41\"], [0.9, \"#4d9221\"], [1, \"#276419\"]], \"sequential\": [[0.0, \"#0d0887\"], [0.1111111111111111, \"#46039f\"], [0.2222222222222222, \"#7201a8\"], [0.3333333333333333, \"#9c179e\"], [0.4444444444444444, \"#bd3786\"], [0.5555555555555556, \"#d8576b\"], [0.6666666666666666, \"#ed7953\"], [0.7777777777777778, \"#fb9f3a\"], [0.8888888888888888, \"#fdca26\"], [1.0, \"#f0f921\"]], \"sequentialminus\": [[0.0, \"#0d0887\"], [0.1111111111111111, \"#46039f\"], [0.2222222222222222, \"#7201a8\"], [0.3333333333333333, \"#9c179e\"], [0.4444444444444444, \"#bd3786\"], [0.5555555555555556, \"#d8576b\"], [0.6666666666666666, \"#ed7953\"], [0.7777777777777778, \"#fb9f3a\"], [0.8888888888888888, \"#fdca26\"], [1.0, \"#f0f921\"]]}, \"colorway\": [\"#636efa\", \"#EF553B\", \"#00cc96\", \"#ab63fa\", \"#FFA15A\", \"#19d3f3\", \"#FF6692\", \"#B6E880\", \"#FF97FF\", \"#FECB52\"], \"font\": {\"color\": \"#2a3f5f\"}, \"geo\": {\"bgcolor\": \"white\", \"lakecolor\": \"white\", \"landcolor\": \"#E5ECF6\", \"showlakes\": true, \"showland\": true, \"subunitcolor\": \"white\"}, \"hoverlabel\": {\"align\": \"left\"}, \"hovermode\": \"closest\", \"mapbox\": {\"style\": \"light\"}, \"paper_bgcolor\": \"white\", \"plot_bgcolor\": \"#E5ECF6\", \"polar\": {\"angularaxis\": {\"gridcolor\": \"white\", \"linecolor\": \"white\", \"ticks\": \"\"}, \"bgcolor\": \"#E5ECF6\", \"radialaxis\": {\"gridcolor\": \"white\", \"linecolor\": \"white\", \"ticks\": \"\"}}, \"scene\": {\"xaxis\": {\"backgroundcolor\": \"#E5ECF6\", \"gridcolor\": \"white\", \"gridwidth\": 2, \"linecolor\": \"white\", \"showbackground\": true, \"ticks\": \"\", \"zerolinecolor\": \"white\"}, \"yaxis\": {\"backgroundcolor\": \"#E5ECF6\", \"gridcolor\": \"white\", \"gridwidth\": 2, \"linecolor\": \"white\", \"showbackground\": true, \"ticks\": \"\", \"zerolinecolor\": \"white\"}, \"zaxis\": {\"backgroundcolor\": \"#E5ECF6\", \"gridcolor\": \"white\", \"gridwidth\": 2, \"linecolor\": \"white\", \"showbackground\": true, \"ticks\": \"\", \"zerolinecolor\": \"white\"}}, \"shapedefaults\": {\"line\": {\"color\": \"#2a3f5f\"}}, \"ternary\": {\"aaxis\": {\"gridcolor\": \"white\", \"linecolor\": \"white\", \"ticks\": \"\"}, \"baxis\": {\"gridcolor\": \"white\", \"linecolor\": \"white\", \"ticks\": \"\"}, \"bgcolor\": \"#E5ECF6\", \"caxis\": {\"gridcolor\": \"white\", \"linecolor\": \"white\", \"ticks\": \"\"}}, \"title\": {\"x\": 0.05}, \"xaxis\": {\"automargin\": true, \"gridcolor\": \"white\", \"linecolor\": \"white\", \"ticks\": \"\", \"title\": {\"standoff\": 15}, \"zerolinecolor\": \"white\", \"zerolinewidth\": 2}, \"yaxis\": {\"automargin\": true, \"gridcolor\": \"white\", \"linecolor\": \"white\", \"ticks\": \"\", \"title\": {\"standoff\": 15}, \"zerolinecolor\": \"white\", \"zerolinewidth\": 2}}}, \"title\": {\"font\": {\"color\": \"#4D5663\"}}, \"xaxis\": {\"gridcolor\": \"#E1E5ED\", \"showgrid\": true, \"tickfont\": {\"color\": \"#4D5663\"}, \"title\": {\"font\": {\"color\": \"#4D5663\"}, \"text\": \"\"}, \"zerolinecolor\": \"#E1E5ED\"}, \"yaxis\": {\"gridcolor\": \"#E1E5ED\", \"showgrid\": true, \"tickfont\": {\"color\": \"#4D5663\"}, \"title\": {\"font\": {\"color\": \"#4D5663\"}, \"text\": \"\"}, \"zerolinecolor\": \"#E1E5ED\"}},                        {\"showLink\": true, \"linkText\": \"Export to plot.ly\", \"plotlyServerURL\": \"https://plot.ly\", \"responsive\": true}                    ).then(function(){\n",
       "                            \n",
       "var gd = document.getElementById('32833792-737e-441a-aabd-d82e28f4a7b3');\n",
       "var x = new MutationObserver(function (mutations, observer) {{\n",
       "        var display = window.getComputedStyle(gd).display;\n",
       "        if (!display || display === 'none') {{\n",
       "            console.log([gd, 'removed!']);\n",
       "            Plotly.purge(gd);\n",
       "            observer.disconnect();\n",
       "        }}\n",
       "}});\n",
       "\n",
       "// Listen for the removal of the full notebook cells\n",
       "var notebookContainer = gd.closest('#notebook-container');\n",
       "if (notebookContainer) {{\n",
       "    x.observe(notebookContainer, {childList: true});\n",
       "}}\n",
       "\n",
       "// Listen for the clearing of the current output cell\n",
       "var outputEl = gd.closest('.output');\n",
       "if (outputEl) {{\n",
       "    x.observe(outputEl, {childList: true});\n",
       "}}\n",
       "\n",
       "                        })                };                });            </script>        </div>"
      ]
     },
     "metadata": {},
     "output_type": "display_data"
    }
   ],
   "source": [
    "# Create an interactive scatter plot with larger markers\n",
    "df.iplot(kind='scatter',x='A',y='B',mode='markers',size=20)"
   ]
  },
  {
   "cell_type": "markdown",
   "metadata": {},
   "source": [
    "## Interactive Bar Plots\n",
    "Specify `kind='scatter'`, add `x='categorical_column_name'` and `y='numerical_column_name'`to create an interactive scatter plot."
   ]
  },
  {
   "cell_type": "code",
   "execution_count": 16,
   "metadata": {},
   "outputs": [
    {
     "data": {
      "application/vnd.plotly.v1+json": {
       "config": {
        "linkText": "Export to plot.ly",
        "plotlyServerURL": "https://plot.ly",
        "showLink": true
       },
       "data": [
        {
         "marker": {
          "color": "rgba(255, 153, 51, 0.6)",
          "line": {
           "color": "rgba(255, 153, 51, 1.0)",
           "width": 1
          }
         },
         "name": "Values",
         "orientation": "v",
         "text": "",
         "type": "bar",
         "x": [
          "Serie A",
          "La Liga",
          "EPL"
         ],
         "y": [
          12,
          18,
          13
         ]
        }
       ],
       "layout": {
        "legend": {
         "bgcolor": "#F5F6F9",
         "font": {
          "color": "#4D5663"
         }
        },
        "paper_bgcolor": "#F5F6F9",
        "plot_bgcolor": "#F5F6F9",
        "template": {
         "data": {
          "bar": [
           {
            "error_x": {
             "color": "#2a3f5f"
            },
            "error_y": {
             "color": "#2a3f5f"
            },
            "marker": {
             "line": {
              "color": "#E5ECF6",
              "width": 0.5
             }
            },
            "type": "bar"
           }
          ],
          "barpolar": [
           {
            "marker": {
             "line": {
              "color": "#E5ECF6",
              "width": 0.5
             }
            },
            "type": "barpolar"
           }
          ],
          "carpet": [
           {
            "aaxis": {
             "endlinecolor": "#2a3f5f",
             "gridcolor": "white",
             "linecolor": "white",
             "minorgridcolor": "white",
             "startlinecolor": "#2a3f5f"
            },
            "baxis": {
             "endlinecolor": "#2a3f5f",
             "gridcolor": "white",
             "linecolor": "white",
             "minorgridcolor": "white",
             "startlinecolor": "#2a3f5f"
            },
            "type": "carpet"
           }
          ],
          "choropleth": [
           {
            "colorbar": {
             "outlinewidth": 0,
             "ticks": ""
            },
            "type": "choropleth"
           }
          ],
          "contour": [
           {
            "colorbar": {
             "outlinewidth": 0,
             "ticks": ""
            },
            "colorscale": [
             [
              0,
              "#0d0887"
             ],
             [
              0.1111111111111111,
              "#46039f"
             ],
             [
              0.2222222222222222,
              "#7201a8"
             ],
             [
              0.3333333333333333,
              "#9c179e"
             ],
             [
              0.4444444444444444,
              "#bd3786"
             ],
             [
              0.5555555555555556,
              "#d8576b"
             ],
             [
              0.6666666666666666,
              "#ed7953"
             ],
             [
              0.7777777777777778,
              "#fb9f3a"
             ],
             [
              0.8888888888888888,
              "#fdca26"
             ],
             [
              1,
              "#f0f921"
             ]
            ],
            "type": "contour"
           }
          ],
          "contourcarpet": [
           {
            "colorbar": {
             "outlinewidth": 0,
             "ticks": ""
            },
            "type": "contourcarpet"
           }
          ],
          "heatmap": [
           {
            "colorbar": {
             "outlinewidth": 0,
             "ticks": ""
            },
            "colorscale": [
             [
              0,
              "#0d0887"
             ],
             [
              0.1111111111111111,
              "#46039f"
             ],
             [
              0.2222222222222222,
              "#7201a8"
             ],
             [
              0.3333333333333333,
              "#9c179e"
             ],
             [
              0.4444444444444444,
              "#bd3786"
             ],
             [
              0.5555555555555556,
              "#d8576b"
             ],
             [
              0.6666666666666666,
              "#ed7953"
             ],
             [
              0.7777777777777778,
              "#fb9f3a"
             ],
             [
              0.8888888888888888,
              "#fdca26"
             ],
             [
              1,
              "#f0f921"
             ]
            ],
            "type": "heatmap"
           }
          ],
          "heatmapgl": [
           {
            "colorbar": {
             "outlinewidth": 0,
             "ticks": ""
            },
            "colorscale": [
             [
              0,
              "#0d0887"
             ],
             [
              0.1111111111111111,
              "#46039f"
             ],
             [
              0.2222222222222222,
              "#7201a8"
             ],
             [
              0.3333333333333333,
              "#9c179e"
             ],
             [
              0.4444444444444444,
              "#bd3786"
             ],
             [
              0.5555555555555556,
              "#d8576b"
             ],
             [
              0.6666666666666666,
              "#ed7953"
             ],
             [
              0.7777777777777778,
              "#fb9f3a"
             ],
             [
              0.8888888888888888,
              "#fdca26"
             ],
             [
              1,
              "#f0f921"
             ]
            ],
            "type": "heatmapgl"
           }
          ],
          "histogram": [
           {
            "marker": {
             "colorbar": {
              "outlinewidth": 0,
              "ticks": ""
             }
            },
            "type": "histogram"
           }
          ],
          "histogram2d": [
           {
            "colorbar": {
             "outlinewidth": 0,
             "ticks": ""
            },
            "colorscale": [
             [
              0,
              "#0d0887"
             ],
             [
              0.1111111111111111,
              "#46039f"
             ],
             [
              0.2222222222222222,
              "#7201a8"
             ],
             [
              0.3333333333333333,
              "#9c179e"
             ],
             [
              0.4444444444444444,
              "#bd3786"
             ],
             [
              0.5555555555555556,
              "#d8576b"
             ],
             [
              0.6666666666666666,
              "#ed7953"
             ],
             [
              0.7777777777777778,
              "#fb9f3a"
             ],
             [
              0.8888888888888888,
              "#fdca26"
             ],
             [
              1,
              "#f0f921"
             ]
            ],
            "type": "histogram2d"
           }
          ],
          "histogram2dcontour": [
           {
            "colorbar": {
             "outlinewidth": 0,
             "ticks": ""
            },
            "colorscale": [
             [
              0,
              "#0d0887"
             ],
             [
              0.1111111111111111,
              "#46039f"
             ],
             [
              0.2222222222222222,
              "#7201a8"
             ],
             [
              0.3333333333333333,
              "#9c179e"
             ],
             [
              0.4444444444444444,
              "#bd3786"
             ],
             [
              0.5555555555555556,
              "#d8576b"
             ],
             [
              0.6666666666666666,
              "#ed7953"
             ],
             [
              0.7777777777777778,
              "#fb9f3a"
             ],
             [
              0.8888888888888888,
              "#fdca26"
             ],
             [
              1,
              "#f0f921"
             ]
            ],
            "type": "histogram2dcontour"
           }
          ],
          "mesh3d": [
           {
            "colorbar": {
             "outlinewidth": 0,
             "ticks": ""
            },
            "type": "mesh3d"
           }
          ],
          "parcoords": [
           {
            "line": {
             "colorbar": {
              "outlinewidth": 0,
              "ticks": ""
             }
            },
            "type": "parcoords"
           }
          ],
          "pie": [
           {
            "automargin": true,
            "type": "pie"
           }
          ],
          "scatter": [
           {
            "marker": {
             "colorbar": {
              "outlinewidth": 0,
              "ticks": ""
             }
            },
            "type": "scatter"
           }
          ],
          "scatter3d": [
           {
            "line": {
             "colorbar": {
              "outlinewidth": 0,
              "ticks": ""
             }
            },
            "marker": {
             "colorbar": {
              "outlinewidth": 0,
              "ticks": ""
             }
            },
            "type": "scatter3d"
           }
          ],
          "scattercarpet": [
           {
            "marker": {
             "colorbar": {
              "outlinewidth": 0,
              "ticks": ""
             }
            },
            "type": "scattercarpet"
           }
          ],
          "scattergeo": [
           {
            "marker": {
             "colorbar": {
              "outlinewidth": 0,
              "ticks": ""
             }
            },
            "type": "scattergeo"
           }
          ],
          "scattergl": [
           {
            "marker": {
             "colorbar": {
              "outlinewidth": 0,
              "ticks": ""
             }
            },
            "type": "scattergl"
           }
          ],
          "scattermapbox": [
           {
            "marker": {
             "colorbar": {
              "outlinewidth": 0,
              "ticks": ""
             }
            },
            "type": "scattermapbox"
           }
          ],
          "scatterpolar": [
           {
            "marker": {
             "colorbar": {
              "outlinewidth": 0,
              "ticks": ""
             }
            },
            "type": "scatterpolar"
           }
          ],
          "scatterpolargl": [
           {
            "marker": {
             "colorbar": {
              "outlinewidth": 0,
              "ticks": ""
             }
            },
            "type": "scatterpolargl"
           }
          ],
          "scatterternary": [
           {
            "marker": {
             "colorbar": {
              "outlinewidth": 0,
              "ticks": ""
             }
            },
            "type": "scatterternary"
           }
          ],
          "surface": [
           {
            "colorbar": {
             "outlinewidth": 0,
             "ticks": ""
            },
            "colorscale": [
             [
              0,
              "#0d0887"
             ],
             [
              0.1111111111111111,
              "#46039f"
             ],
             [
              0.2222222222222222,
              "#7201a8"
             ],
             [
              0.3333333333333333,
              "#9c179e"
             ],
             [
              0.4444444444444444,
              "#bd3786"
             ],
             [
              0.5555555555555556,
              "#d8576b"
             ],
             [
              0.6666666666666666,
              "#ed7953"
             ],
             [
              0.7777777777777778,
              "#fb9f3a"
             ],
             [
              0.8888888888888888,
              "#fdca26"
             ],
             [
              1,
              "#f0f921"
             ]
            ],
            "type": "surface"
           }
          ],
          "table": [
           {
            "cells": {
             "fill": {
              "color": "#EBF0F8"
             },
             "line": {
              "color": "white"
             }
            },
            "header": {
             "fill": {
              "color": "#C8D4E3"
             },
             "line": {
              "color": "white"
             }
            },
            "type": "table"
           }
          ]
         },
         "layout": {
          "annotationdefaults": {
           "arrowcolor": "#2a3f5f",
           "arrowhead": 0,
           "arrowwidth": 1
          },
          "coloraxis": {
           "colorbar": {
            "outlinewidth": 0,
            "ticks": ""
           }
          },
          "colorscale": {
           "diverging": [
            [
             0,
             "#8e0152"
            ],
            [
             0.1,
             "#c51b7d"
            ],
            [
             0.2,
             "#de77ae"
            ],
            [
             0.3,
             "#f1b6da"
            ],
            [
             0.4,
             "#fde0ef"
            ],
            [
             0.5,
             "#f7f7f7"
            ],
            [
             0.6,
             "#e6f5d0"
            ],
            [
             0.7,
             "#b8e186"
            ],
            [
             0.8,
             "#7fbc41"
            ],
            [
             0.9,
             "#4d9221"
            ],
            [
             1,
             "#276419"
            ]
           ],
           "sequential": [
            [
             0,
             "#0d0887"
            ],
            [
             0.1111111111111111,
             "#46039f"
            ],
            [
             0.2222222222222222,
             "#7201a8"
            ],
            [
             0.3333333333333333,
             "#9c179e"
            ],
            [
             0.4444444444444444,
             "#bd3786"
            ],
            [
             0.5555555555555556,
             "#d8576b"
            ],
            [
             0.6666666666666666,
             "#ed7953"
            ],
            [
             0.7777777777777778,
             "#fb9f3a"
            ],
            [
             0.8888888888888888,
             "#fdca26"
            ],
            [
             1,
             "#f0f921"
            ]
           ],
           "sequentialminus": [
            [
             0,
             "#0d0887"
            ],
            [
             0.1111111111111111,
             "#46039f"
            ],
            [
             0.2222222222222222,
             "#7201a8"
            ],
            [
             0.3333333333333333,
             "#9c179e"
            ],
            [
             0.4444444444444444,
             "#bd3786"
            ],
            [
             0.5555555555555556,
             "#d8576b"
            ],
            [
             0.6666666666666666,
             "#ed7953"
            ],
            [
             0.7777777777777778,
             "#fb9f3a"
            ],
            [
             0.8888888888888888,
             "#fdca26"
            ],
            [
             1,
             "#f0f921"
            ]
           ]
          },
          "colorway": [
           "#636efa",
           "#EF553B",
           "#00cc96",
           "#ab63fa",
           "#FFA15A",
           "#19d3f3",
           "#FF6692",
           "#B6E880",
           "#FF97FF",
           "#FECB52"
          ],
          "font": {
           "color": "#2a3f5f"
          },
          "geo": {
           "bgcolor": "white",
           "lakecolor": "white",
           "landcolor": "#E5ECF6",
           "showlakes": true,
           "showland": true,
           "subunitcolor": "white"
          },
          "hoverlabel": {
           "align": "left"
          },
          "hovermode": "closest",
          "mapbox": {
           "style": "light"
          },
          "paper_bgcolor": "white",
          "plot_bgcolor": "#E5ECF6",
          "polar": {
           "angularaxis": {
            "gridcolor": "white",
            "linecolor": "white",
            "ticks": ""
           },
           "bgcolor": "#E5ECF6",
           "radialaxis": {
            "gridcolor": "white",
            "linecolor": "white",
            "ticks": ""
           }
          },
          "scene": {
           "xaxis": {
            "backgroundcolor": "#E5ECF6",
            "gridcolor": "white",
            "gridwidth": 2,
            "linecolor": "white",
            "showbackground": true,
            "ticks": "",
            "zerolinecolor": "white"
           },
           "yaxis": {
            "backgroundcolor": "#E5ECF6",
            "gridcolor": "white",
            "gridwidth": 2,
            "linecolor": "white",
            "showbackground": true,
            "ticks": "",
            "zerolinecolor": "white"
           },
           "zaxis": {
            "backgroundcolor": "#E5ECF6",
            "gridcolor": "white",
            "gridwidth": 2,
            "linecolor": "white",
            "showbackground": true,
            "ticks": "",
            "zerolinecolor": "white"
           }
          },
          "shapedefaults": {
           "line": {
            "color": "#2a3f5f"
           }
          },
          "ternary": {
           "aaxis": {
            "gridcolor": "white",
            "linecolor": "white",
            "ticks": ""
           },
           "baxis": {
            "gridcolor": "white",
            "linecolor": "white",
            "ticks": ""
           },
           "bgcolor": "#E5ECF6",
           "caxis": {
            "gridcolor": "white",
            "linecolor": "white",
            "ticks": ""
           }
          },
          "title": {
           "x": 0.05
          },
          "xaxis": {
           "automargin": true,
           "gridcolor": "white",
           "linecolor": "white",
           "ticks": "",
           "title": {
            "standoff": 15
           },
           "zerolinecolor": "white",
           "zerolinewidth": 2
          },
          "yaxis": {
           "automargin": true,
           "gridcolor": "white",
           "linecolor": "white",
           "ticks": "",
           "title": {
            "standoff": 15
           },
           "zerolinecolor": "white",
           "zerolinewidth": 2
          }
         }
        },
        "title": {
         "font": {
          "color": "#4D5663"
         }
        },
        "xaxis": {
         "gridcolor": "#E1E5ED",
         "showgrid": true,
         "tickfont": {
          "color": "#4D5663"
         },
         "title": {
          "font": {
           "color": "#4D5663"
          },
          "text": ""
         },
         "zerolinecolor": "#E1E5ED"
        },
        "yaxis": {
         "gridcolor": "#E1E5ED",
         "showgrid": true,
         "tickfont": {
          "color": "#4D5663"
         },
         "title": {
          "font": {
           "color": "#4D5663"
          },
          "text": ""
         },
         "zerolinecolor": "#E1E5ED"
        }
       }
      },
      "text/html": [
       "<div>                            <div id=\"576ebaec-f395-4adc-a41e-32e7cf692062\" class=\"plotly-graph-div\" style=\"height:525px; width:100%;\"></div>            <script type=\"text/javascript\">                require([\"plotly\"], function(Plotly) {                    window.PLOTLYENV=window.PLOTLYENV || {};\n",
       "                    window.PLOTLYENV.BASE_URL='https://plot.ly';                                    if (document.getElementById(\"576ebaec-f395-4adc-a41e-32e7cf692062\")) {                    Plotly.newPlot(                        \"576ebaec-f395-4adc-a41e-32e7cf692062\",                        [{\"marker\": {\"color\": \"rgba(255, 153, 51, 0.6)\", \"line\": {\"color\": \"rgba(255, 153, 51, 1.0)\", \"width\": 1}}, \"name\": \"Values\", \"orientation\": \"v\", \"text\": \"\", \"type\": \"bar\", \"x\": [\"Serie A\", \"La Liga\", \"EPL\"], \"y\": [12, 18, 13]}],                        {\"legend\": {\"bgcolor\": \"#F5F6F9\", \"font\": {\"color\": \"#4D5663\"}}, \"paper_bgcolor\": \"#F5F6F9\", \"plot_bgcolor\": \"#F5F6F9\", \"template\": {\"data\": {\"bar\": [{\"error_x\": {\"color\": \"#2a3f5f\"}, \"error_y\": {\"color\": \"#2a3f5f\"}, \"marker\": {\"line\": {\"color\": \"#E5ECF6\", \"width\": 0.5}}, \"type\": \"bar\"}], \"barpolar\": [{\"marker\": {\"line\": {\"color\": \"#E5ECF6\", \"width\": 0.5}}, \"type\": \"barpolar\"}], \"carpet\": [{\"aaxis\": {\"endlinecolor\": \"#2a3f5f\", \"gridcolor\": \"white\", \"linecolor\": \"white\", \"minorgridcolor\": \"white\", \"startlinecolor\": \"#2a3f5f\"}, \"baxis\": {\"endlinecolor\": \"#2a3f5f\", \"gridcolor\": \"white\", \"linecolor\": \"white\", \"minorgridcolor\": \"white\", \"startlinecolor\": \"#2a3f5f\"}, \"type\": \"carpet\"}], \"choropleth\": [{\"colorbar\": {\"outlinewidth\": 0, \"ticks\": \"\"}, \"type\": \"choropleth\"}], \"contour\": [{\"colorbar\": {\"outlinewidth\": 0, \"ticks\": \"\"}, \"colorscale\": [[0.0, \"#0d0887\"], [0.1111111111111111, \"#46039f\"], [0.2222222222222222, \"#7201a8\"], [0.3333333333333333, \"#9c179e\"], [0.4444444444444444, \"#bd3786\"], [0.5555555555555556, \"#d8576b\"], [0.6666666666666666, \"#ed7953\"], [0.7777777777777778, \"#fb9f3a\"], [0.8888888888888888, \"#fdca26\"], [1.0, \"#f0f921\"]], \"type\": \"contour\"}], \"contourcarpet\": [{\"colorbar\": {\"outlinewidth\": 0, \"ticks\": \"\"}, \"type\": \"contourcarpet\"}], \"heatmap\": [{\"colorbar\": {\"outlinewidth\": 0, \"ticks\": \"\"}, \"colorscale\": [[0.0, \"#0d0887\"], [0.1111111111111111, \"#46039f\"], [0.2222222222222222, \"#7201a8\"], [0.3333333333333333, \"#9c179e\"], [0.4444444444444444, \"#bd3786\"], [0.5555555555555556, \"#d8576b\"], [0.6666666666666666, \"#ed7953\"], [0.7777777777777778, \"#fb9f3a\"], [0.8888888888888888, \"#fdca26\"], [1.0, \"#f0f921\"]], \"type\": \"heatmap\"}], \"heatmapgl\": [{\"colorbar\": {\"outlinewidth\": 0, \"ticks\": \"\"}, \"colorscale\": [[0.0, \"#0d0887\"], [0.1111111111111111, \"#46039f\"], [0.2222222222222222, \"#7201a8\"], [0.3333333333333333, \"#9c179e\"], [0.4444444444444444, \"#bd3786\"], [0.5555555555555556, \"#d8576b\"], [0.6666666666666666, \"#ed7953\"], [0.7777777777777778, \"#fb9f3a\"], [0.8888888888888888, \"#fdca26\"], [1.0, \"#f0f921\"]], \"type\": \"heatmapgl\"}], \"histogram\": [{\"marker\": {\"colorbar\": {\"outlinewidth\": 0, \"ticks\": \"\"}}, \"type\": \"histogram\"}], \"histogram2d\": [{\"colorbar\": {\"outlinewidth\": 0, \"ticks\": \"\"}, \"colorscale\": [[0.0, \"#0d0887\"], [0.1111111111111111, \"#46039f\"], [0.2222222222222222, \"#7201a8\"], [0.3333333333333333, \"#9c179e\"], [0.4444444444444444, \"#bd3786\"], [0.5555555555555556, \"#d8576b\"], [0.6666666666666666, \"#ed7953\"], [0.7777777777777778, \"#fb9f3a\"], [0.8888888888888888, \"#fdca26\"], [1.0, \"#f0f921\"]], \"type\": \"histogram2d\"}], \"histogram2dcontour\": [{\"colorbar\": {\"outlinewidth\": 0, \"ticks\": \"\"}, \"colorscale\": [[0.0, \"#0d0887\"], [0.1111111111111111, \"#46039f\"], [0.2222222222222222, \"#7201a8\"], [0.3333333333333333, \"#9c179e\"], [0.4444444444444444, \"#bd3786\"], [0.5555555555555556, \"#d8576b\"], [0.6666666666666666, \"#ed7953\"], [0.7777777777777778, \"#fb9f3a\"], [0.8888888888888888, \"#fdca26\"], [1.0, \"#f0f921\"]], \"type\": \"histogram2dcontour\"}], \"mesh3d\": [{\"colorbar\": {\"outlinewidth\": 0, \"ticks\": \"\"}, \"type\": \"mesh3d\"}], \"parcoords\": [{\"line\": {\"colorbar\": {\"outlinewidth\": 0, \"ticks\": \"\"}}, \"type\": \"parcoords\"}], \"pie\": [{\"automargin\": true, \"type\": \"pie\"}], \"scatter\": [{\"marker\": {\"colorbar\": {\"outlinewidth\": 0, \"ticks\": \"\"}}, \"type\": \"scatter\"}], \"scatter3d\": [{\"line\": {\"colorbar\": {\"outlinewidth\": 0, \"ticks\": \"\"}}, \"marker\": {\"colorbar\": {\"outlinewidth\": 0, \"ticks\": \"\"}}, \"type\": \"scatter3d\"}], \"scattercarpet\": [{\"marker\": {\"colorbar\": {\"outlinewidth\": 0, \"ticks\": \"\"}}, \"type\": \"scattercarpet\"}], \"scattergeo\": [{\"marker\": {\"colorbar\": {\"outlinewidth\": 0, \"ticks\": \"\"}}, \"type\": \"scattergeo\"}], \"scattergl\": [{\"marker\": {\"colorbar\": {\"outlinewidth\": 0, \"ticks\": \"\"}}, \"type\": \"scattergl\"}], \"scattermapbox\": [{\"marker\": {\"colorbar\": {\"outlinewidth\": 0, \"ticks\": \"\"}}, \"type\": \"scattermapbox\"}], \"scatterpolar\": [{\"marker\": {\"colorbar\": {\"outlinewidth\": 0, \"ticks\": \"\"}}, \"type\": \"scatterpolar\"}], \"scatterpolargl\": [{\"marker\": {\"colorbar\": {\"outlinewidth\": 0, \"ticks\": \"\"}}, \"type\": \"scatterpolargl\"}], \"scatterternary\": [{\"marker\": {\"colorbar\": {\"outlinewidth\": 0, \"ticks\": \"\"}}, \"type\": \"scatterternary\"}], \"surface\": [{\"colorbar\": {\"outlinewidth\": 0, \"ticks\": \"\"}, \"colorscale\": [[0.0, \"#0d0887\"], [0.1111111111111111, \"#46039f\"], [0.2222222222222222, \"#7201a8\"], [0.3333333333333333, \"#9c179e\"], [0.4444444444444444, \"#bd3786\"], [0.5555555555555556, \"#d8576b\"], [0.6666666666666666, \"#ed7953\"], [0.7777777777777778, \"#fb9f3a\"], [0.8888888888888888, \"#fdca26\"], [1.0, \"#f0f921\"]], \"type\": \"surface\"}], \"table\": [{\"cells\": {\"fill\": {\"color\": \"#EBF0F8\"}, \"line\": {\"color\": \"white\"}}, \"header\": {\"fill\": {\"color\": \"#C8D4E3\"}, \"line\": {\"color\": \"white\"}}, \"type\": \"table\"}]}, \"layout\": {\"annotationdefaults\": {\"arrowcolor\": \"#2a3f5f\", \"arrowhead\": 0, \"arrowwidth\": 1}, \"coloraxis\": {\"colorbar\": {\"outlinewidth\": 0, \"ticks\": \"\"}}, \"colorscale\": {\"diverging\": [[0, \"#8e0152\"], [0.1, \"#c51b7d\"], [0.2, \"#de77ae\"], [0.3, \"#f1b6da\"], [0.4, \"#fde0ef\"], [0.5, \"#f7f7f7\"], [0.6, \"#e6f5d0\"], [0.7, \"#b8e186\"], [0.8, \"#7fbc41\"], [0.9, \"#4d9221\"], [1, \"#276419\"]], \"sequential\": [[0.0, \"#0d0887\"], [0.1111111111111111, \"#46039f\"], [0.2222222222222222, \"#7201a8\"], [0.3333333333333333, \"#9c179e\"], [0.4444444444444444, \"#bd3786\"], [0.5555555555555556, \"#d8576b\"], [0.6666666666666666, \"#ed7953\"], [0.7777777777777778, \"#fb9f3a\"], [0.8888888888888888, \"#fdca26\"], [1.0, \"#f0f921\"]], \"sequentialminus\": [[0.0, \"#0d0887\"], [0.1111111111111111, \"#46039f\"], [0.2222222222222222, \"#7201a8\"], [0.3333333333333333, \"#9c179e\"], [0.4444444444444444, \"#bd3786\"], [0.5555555555555556, \"#d8576b\"], [0.6666666666666666, \"#ed7953\"], [0.7777777777777778, \"#fb9f3a\"], [0.8888888888888888, \"#fdca26\"], [1.0, \"#f0f921\"]]}, \"colorway\": [\"#636efa\", \"#EF553B\", \"#00cc96\", \"#ab63fa\", \"#FFA15A\", \"#19d3f3\", \"#FF6692\", \"#B6E880\", \"#FF97FF\", \"#FECB52\"], \"font\": {\"color\": \"#2a3f5f\"}, \"geo\": {\"bgcolor\": \"white\", \"lakecolor\": \"white\", \"landcolor\": \"#E5ECF6\", \"showlakes\": true, \"showland\": true, \"subunitcolor\": \"white\"}, \"hoverlabel\": {\"align\": \"left\"}, \"hovermode\": \"closest\", \"mapbox\": {\"style\": \"light\"}, \"paper_bgcolor\": \"white\", \"plot_bgcolor\": \"#E5ECF6\", \"polar\": {\"angularaxis\": {\"gridcolor\": \"white\", \"linecolor\": \"white\", \"ticks\": \"\"}, \"bgcolor\": \"#E5ECF6\", \"radialaxis\": {\"gridcolor\": \"white\", \"linecolor\": \"white\", \"ticks\": \"\"}}, \"scene\": {\"xaxis\": {\"backgroundcolor\": \"#E5ECF6\", \"gridcolor\": \"white\", \"gridwidth\": 2, \"linecolor\": \"white\", \"showbackground\": true, \"ticks\": \"\", \"zerolinecolor\": \"white\"}, \"yaxis\": {\"backgroundcolor\": \"#E5ECF6\", \"gridcolor\": \"white\", \"gridwidth\": 2, \"linecolor\": \"white\", \"showbackground\": true, \"ticks\": \"\", \"zerolinecolor\": \"white\"}, \"zaxis\": {\"backgroundcolor\": \"#E5ECF6\", \"gridcolor\": \"white\", \"gridwidth\": 2, \"linecolor\": \"white\", \"showbackground\": true, \"ticks\": \"\", \"zerolinecolor\": \"white\"}}, \"shapedefaults\": {\"line\": {\"color\": \"#2a3f5f\"}}, \"ternary\": {\"aaxis\": {\"gridcolor\": \"white\", \"linecolor\": \"white\", \"ticks\": \"\"}, \"baxis\": {\"gridcolor\": \"white\", \"linecolor\": \"white\", \"ticks\": \"\"}, \"bgcolor\": \"#E5ECF6\", \"caxis\": {\"gridcolor\": \"white\", \"linecolor\": \"white\", \"ticks\": \"\"}}, \"title\": {\"x\": 0.05}, \"xaxis\": {\"automargin\": true, \"gridcolor\": \"white\", \"linecolor\": \"white\", \"ticks\": \"\", \"title\": {\"standoff\": 15}, \"zerolinecolor\": \"white\", \"zerolinewidth\": 2}, \"yaxis\": {\"automargin\": true, \"gridcolor\": \"white\", \"linecolor\": \"white\", \"ticks\": \"\", \"title\": {\"standoff\": 15}, \"zerolinecolor\": \"white\", \"zerolinewidth\": 2}}}, \"title\": {\"font\": {\"color\": \"#4D5663\"}}, \"xaxis\": {\"gridcolor\": \"#E1E5ED\", \"showgrid\": true, \"tickfont\": {\"color\": \"#4D5663\"}, \"title\": {\"font\": {\"color\": \"#4D5663\"}, \"text\": \"\"}, \"zerolinecolor\": \"#E1E5ED\"}, \"yaxis\": {\"gridcolor\": \"#E1E5ED\", \"showgrid\": true, \"tickfont\": {\"color\": \"#4D5663\"}, \"title\": {\"font\": {\"color\": \"#4D5663\"}, \"text\": \"\"}, \"zerolinecolor\": \"#E1E5ED\"}},                        {\"showLink\": true, \"linkText\": \"Export to plot.ly\", \"plotlyServerURL\": \"https://plot.ly\", \"responsive\": true}                    ).then(function(){\n",
       "                            \n",
       "var gd = document.getElementById('576ebaec-f395-4adc-a41e-32e7cf692062');\n",
       "var x = new MutationObserver(function (mutations, observer) {{\n",
       "        var display = window.getComputedStyle(gd).display;\n",
       "        if (!display || display === 'none') {{\n",
       "            console.log([gd, 'removed!']);\n",
       "            Plotly.purge(gd);\n",
       "            observer.disconnect();\n",
       "        }}\n",
       "}});\n",
       "\n",
       "// Listen for the removal of the full notebook cells\n",
       "var notebookContainer = gd.closest('#notebook-container');\n",
       "if (notebookContainer) {{\n",
       "    x.observe(notebookContainer, {childList: true});\n",
       "}}\n",
       "\n",
       "// Listen for the clearing of the current output cell\n",
       "var outputEl = gd.closest('.output');\n",
       "if (outputEl) {{\n",
       "    x.observe(outputEl, {childList: true});\n",
       "}}\n",
       "\n",
       "                        })                };                });            </script>        </div>"
      ]
     },
     "metadata": {},
     "output_type": "display_data"
    }
   ],
   "source": [
    "# Create an interactive bar plot\n",
    "df2.iplot(kind='bar',x='Category',y='Values')"
   ]
  },
  {
   "cell_type": "markdown",
   "metadata": {},
   "source": [
    "#### You can use aggregate functions or groupby to aggregate data into bar plots"
   ]
  },
  {
   "cell_type": "code",
   "execution_count": 17,
   "metadata": {},
   "outputs": [
    {
     "data": {
      "application/vnd.plotly.v1+json": {
       "config": {
        "linkText": "Export to plot.ly",
        "plotlyServerURL": "https://plot.ly",
        "showLink": true
       },
       "data": [
        {
         "marker": {
          "color": "rgba(255, 153, 51, 0.6)",
          "line": {
           "color": "rgba(255, 153, 51, 1.0)",
           "width": 1
          }
         },
         "name": "None",
         "orientation": "v",
         "text": "",
         "type": "bar",
         "x": [
          "A",
          "B",
          "C",
          "D"
         ],
         "y": [
          -3.8449526739215343,
          10.196850498562114,
          -14.551113257592212,
          -8.354195197298546
         ]
        }
       ],
       "layout": {
        "legend": {
         "bgcolor": "#F5F6F9",
         "font": {
          "color": "#4D5663"
         }
        },
        "paper_bgcolor": "#F5F6F9",
        "plot_bgcolor": "#F5F6F9",
        "template": {
         "data": {
          "bar": [
           {
            "error_x": {
             "color": "#2a3f5f"
            },
            "error_y": {
             "color": "#2a3f5f"
            },
            "marker": {
             "line": {
              "color": "#E5ECF6",
              "width": 0.5
             }
            },
            "type": "bar"
           }
          ],
          "barpolar": [
           {
            "marker": {
             "line": {
              "color": "#E5ECF6",
              "width": 0.5
             }
            },
            "type": "barpolar"
           }
          ],
          "carpet": [
           {
            "aaxis": {
             "endlinecolor": "#2a3f5f",
             "gridcolor": "white",
             "linecolor": "white",
             "minorgridcolor": "white",
             "startlinecolor": "#2a3f5f"
            },
            "baxis": {
             "endlinecolor": "#2a3f5f",
             "gridcolor": "white",
             "linecolor": "white",
             "minorgridcolor": "white",
             "startlinecolor": "#2a3f5f"
            },
            "type": "carpet"
           }
          ],
          "choropleth": [
           {
            "colorbar": {
             "outlinewidth": 0,
             "ticks": ""
            },
            "type": "choropleth"
           }
          ],
          "contour": [
           {
            "colorbar": {
             "outlinewidth": 0,
             "ticks": ""
            },
            "colorscale": [
             [
              0,
              "#0d0887"
             ],
             [
              0.1111111111111111,
              "#46039f"
             ],
             [
              0.2222222222222222,
              "#7201a8"
             ],
             [
              0.3333333333333333,
              "#9c179e"
             ],
             [
              0.4444444444444444,
              "#bd3786"
             ],
             [
              0.5555555555555556,
              "#d8576b"
             ],
             [
              0.6666666666666666,
              "#ed7953"
             ],
             [
              0.7777777777777778,
              "#fb9f3a"
             ],
             [
              0.8888888888888888,
              "#fdca26"
             ],
             [
              1,
              "#f0f921"
             ]
            ],
            "type": "contour"
           }
          ],
          "contourcarpet": [
           {
            "colorbar": {
             "outlinewidth": 0,
             "ticks": ""
            },
            "type": "contourcarpet"
           }
          ],
          "heatmap": [
           {
            "colorbar": {
             "outlinewidth": 0,
             "ticks": ""
            },
            "colorscale": [
             [
              0,
              "#0d0887"
             ],
             [
              0.1111111111111111,
              "#46039f"
             ],
             [
              0.2222222222222222,
              "#7201a8"
             ],
             [
              0.3333333333333333,
              "#9c179e"
             ],
             [
              0.4444444444444444,
              "#bd3786"
             ],
             [
              0.5555555555555556,
              "#d8576b"
             ],
             [
              0.6666666666666666,
              "#ed7953"
             ],
             [
              0.7777777777777778,
              "#fb9f3a"
             ],
             [
              0.8888888888888888,
              "#fdca26"
             ],
             [
              1,
              "#f0f921"
             ]
            ],
            "type": "heatmap"
           }
          ],
          "heatmapgl": [
           {
            "colorbar": {
             "outlinewidth": 0,
             "ticks": ""
            },
            "colorscale": [
             [
              0,
              "#0d0887"
             ],
             [
              0.1111111111111111,
              "#46039f"
             ],
             [
              0.2222222222222222,
              "#7201a8"
             ],
             [
              0.3333333333333333,
              "#9c179e"
             ],
             [
              0.4444444444444444,
              "#bd3786"
             ],
             [
              0.5555555555555556,
              "#d8576b"
             ],
             [
              0.6666666666666666,
              "#ed7953"
             ],
             [
              0.7777777777777778,
              "#fb9f3a"
             ],
             [
              0.8888888888888888,
              "#fdca26"
             ],
             [
              1,
              "#f0f921"
             ]
            ],
            "type": "heatmapgl"
           }
          ],
          "histogram": [
           {
            "marker": {
             "colorbar": {
              "outlinewidth": 0,
              "ticks": ""
             }
            },
            "type": "histogram"
           }
          ],
          "histogram2d": [
           {
            "colorbar": {
             "outlinewidth": 0,
             "ticks": ""
            },
            "colorscale": [
             [
              0,
              "#0d0887"
             ],
             [
              0.1111111111111111,
              "#46039f"
             ],
             [
              0.2222222222222222,
              "#7201a8"
             ],
             [
              0.3333333333333333,
              "#9c179e"
             ],
             [
              0.4444444444444444,
              "#bd3786"
             ],
             [
              0.5555555555555556,
              "#d8576b"
             ],
             [
              0.6666666666666666,
              "#ed7953"
             ],
             [
              0.7777777777777778,
              "#fb9f3a"
             ],
             [
              0.8888888888888888,
              "#fdca26"
             ],
             [
              1,
              "#f0f921"
             ]
            ],
            "type": "histogram2d"
           }
          ],
          "histogram2dcontour": [
           {
            "colorbar": {
             "outlinewidth": 0,
             "ticks": ""
            },
            "colorscale": [
             [
              0,
              "#0d0887"
             ],
             [
              0.1111111111111111,
              "#46039f"
             ],
             [
              0.2222222222222222,
              "#7201a8"
             ],
             [
              0.3333333333333333,
              "#9c179e"
             ],
             [
              0.4444444444444444,
              "#bd3786"
             ],
             [
              0.5555555555555556,
              "#d8576b"
             ],
             [
              0.6666666666666666,
              "#ed7953"
             ],
             [
              0.7777777777777778,
              "#fb9f3a"
             ],
             [
              0.8888888888888888,
              "#fdca26"
             ],
             [
              1,
              "#f0f921"
             ]
            ],
            "type": "histogram2dcontour"
           }
          ],
          "mesh3d": [
           {
            "colorbar": {
             "outlinewidth": 0,
             "ticks": ""
            },
            "type": "mesh3d"
           }
          ],
          "parcoords": [
           {
            "line": {
             "colorbar": {
              "outlinewidth": 0,
              "ticks": ""
             }
            },
            "type": "parcoords"
           }
          ],
          "pie": [
           {
            "automargin": true,
            "type": "pie"
           }
          ],
          "scatter": [
           {
            "marker": {
             "colorbar": {
              "outlinewidth": 0,
              "ticks": ""
             }
            },
            "type": "scatter"
           }
          ],
          "scatter3d": [
           {
            "line": {
             "colorbar": {
              "outlinewidth": 0,
              "ticks": ""
             }
            },
            "marker": {
             "colorbar": {
              "outlinewidth": 0,
              "ticks": ""
             }
            },
            "type": "scatter3d"
           }
          ],
          "scattercarpet": [
           {
            "marker": {
             "colorbar": {
              "outlinewidth": 0,
              "ticks": ""
             }
            },
            "type": "scattercarpet"
           }
          ],
          "scattergeo": [
           {
            "marker": {
             "colorbar": {
              "outlinewidth": 0,
              "ticks": ""
             }
            },
            "type": "scattergeo"
           }
          ],
          "scattergl": [
           {
            "marker": {
             "colorbar": {
              "outlinewidth": 0,
              "ticks": ""
             }
            },
            "type": "scattergl"
           }
          ],
          "scattermapbox": [
           {
            "marker": {
             "colorbar": {
              "outlinewidth": 0,
              "ticks": ""
             }
            },
            "type": "scattermapbox"
           }
          ],
          "scatterpolar": [
           {
            "marker": {
             "colorbar": {
              "outlinewidth": 0,
              "ticks": ""
             }
            },
            "type": "scatterpolar"
           }
          ],
          "scatterpolargl": [
           {
            "marker": {
             "colorbar": {
              "outlinewidth": 0,
              "ticks": ""
             }
            },
            "type": "scatterpolargl"
           }
          ],
          "scatterternary": [
           {
            "marker": {
             "colorbar": {
              "outlinewidth": 0,
              "ticks": ""
             }
            },
            "type": "scatterternary"
           }
          ],
          "surface": [
           {
            "colorbar": {
             "outlinewidth": 0,
             "ticks": ""
            },
            "colorscale": [
             [
              0,
              "#0d0887"
             ],
             [
              0.1111111111111111,
              "#46039f"
             ],
             [
              0.2222222222222222,
              "#7201a8"
             ],
             [
              0.3333333333333333,
              "#9c179e"
             ],
             [
              0.4444444444444444,
              "#bd3786"
             ],
             [
              0.5555555555555556,
              "#d8576b"
             ],
             [
              0.6666666666666666,
              "#ed7953"
             ],
             [
              0.7777777777777778,
              "#fb9f3a"
             ],
             [
              0.8888888888888888,
              "#fdca26"
             ],
             [
              1,
              "#f0f921"
             ]
            ],
            "type": "surface"
           }
          ],
          "table": [
           {
            "cells": {
             "fill": {
              "color": "#EBF0F8"
             },
             "line": {
              "color": "white"
             }
            },
            "header": {
             "fill": {
              "color": "#C8D4E3"
             },
             "line": {
              "color": "white"
             }
            },
            "type": "table"
           }
          ]
         },
         "layout": {
          "annotationdefaults": {
           "arrowcolor": "#2a3f5f",
           "arrowhead": 0,
           "arrowwidth": 1
          },
          "coloraxis": {
           "colorbar": {
            "outlinewidth": 0,
            "ticks": ""
           }
          },
          "colorscale": {
           "diverging": [
            [
             0,
             "#8e0152"
            ],
            [
             0.1,
             "#c51b7d"
            ],
            [
             0.2,
             "#de77ae"
            ],
            [
             0.3,
             "#f1b6da"
            ],
            [
             0.4,
             "#fde0ef"
            ],
            [
             0.5,
             "#f7f7f7"
            ],
            [
             0.6,
             "#e6f5d0"
            ],
            [
             0.7,
             "#b8e186"
            ],
            [
             0.8,
             "#7fbc41"
            ],
            [
             0.9,
             "#4d9221"
            ],
            [
             1,
             "#276419"
            ]
           ],
           "sequential": [
            [
             0,
             "#0d0887"
            ],
            [
             0.1111111111111111,
             "#46039f"
            ],
            [
             0.2222222222222222,
             "#7201a8"
            ],
            [
             0.3333333333333333,
             "#9c179e"
            ],
            [
             0.4444444444444444,
             "#bd3786"
            ],
            [
             0.5555555555555556,
             "#d8576b"
            ],
            [
             0.6666666666666666,
             "#ed7953"
            ],
            [
             0.7777777777777778,
             "#fb9f3a"
            ],
            [
             0.8888888888888888,
             "#fdca26"
            ],
            [
             1,
             "#f0f921"
            ]
           ],
           "sequentialminus": [
            [
             0,
             "#0d0887"
            ],
            [
             0.1111111111111111,
             "#46039f"
            ],
            [
             0.2222222222222222,
             "#7201a8"
            ],
            [
             0.3333333333333333,
             "#9c179e"
            ],
            [
             0.4444444444444444,
             "#bd3786"
            ],
            [
             0.5555555555555556,
             "#d8576b"
            ],
            [
             0.6666666666666666,
             "#ed7953"
            ],
            [
             0.7777777777777778,
             "#fb9f3a"
            ],
            [
             0.8888888888888888,
             "#fdca26"
            ],
            [
             1,
             "#f0f921"
            ]
           ]
          },
          "colorway": [
           "#636efa",
           "#EF553B",
           "#00cc96",
           "#ab63fa",
           "#FFA15A",
           "#19d3f3",
           "#FF6692",
           "#B6E880",
           "#FF97FF",
           "#FECB52"
          ],
          "font": {
           "color": "#2a3f5f"
          },
          "geo": {
           "bgcolor": "white",
           "lakecolor": "white",
           "landcolor": "#E5ECF6",
           "showlakes": true,
           "showland": true,
           "subunitcolor": "white"
          },
          "hoverlabel": {
           "align": "left"
          },
          "hovermode": "closest",
          "mapbox": {
           "style": "light"
          },
          "paper_bgcolor": "white",
          "plot_bgcolor": "#E5ECF6",
          "polar": {
           "angularaxis": {
            "gridcolor": "white",
            "linecolor": "white",
            "ticks": ""
           },
           "bgcolor": "#E5ECF6",
           "radialaxis": {
            "gridcolor": "white",
            "linecolor": "white",
            "ticks": ""
           }
          },
          "scene": {
           "xaxis": {
            "backgroundcolor": "#E5ECF6",
            "gridcolor": "white",
            "gridwidth": 2,
            "linecolor": "white",
            "showbackground": true,
            "ticks": "",
            "zerolinecolor": "white"
           },
           "yaxis": {
            "backgroundcolor": "#E5ECF6",
            "gridcolor": "white",
            "gridwidth": 2,
            "linecolor": "white",
            "showbackground": true,
            "ticks": "",
            "zerolinecolor": "white"
           },
           "zaxis": {
            "backgroundcolor": "#E5ECF6",
            "gridcolor": "white",
            "gridwidth": 2,
            "linecolor": "white",
            "showbackground": true,
            "ticks": "",
            "zerolinecolor": "white"
           }
          },
          "shapedefaults": {
           "line": {
            "color": "#2a3f5f"
           }
          },
          "ternary": {
           "aaxis": {
            "gridcolor": "white",
            "linecolor": "white",
            "ticks": ""
           },
           "baxis": {
            "gridcolor": "white",
            "linecolor": "white",
            "ticks": ""
           },
           "bgcolor": "#E5ECF6",
           "caxis": {
            "gridcolor": "white",
            "linecolor": "white",
            "ticks": ""
           }
          },
          "title": {
           "x": 0.05
          },
          "xaxis": {
           "automargin": true,
           "gridcolor": "white",
           "linecolor": "white",
           "ticks": "",
           "title": {
            "standoff": 15
           },
           "zerolinecolor": "white",
           "zerolinewidth": 2
          },
          "yaxis": {
           "automargin": true,
           "gridcolor": "white",
           "linecolor": "white",
           "ticks": "",
           "title": {
            "standoff": 15
           },
           "zerolinecolor": "white",
           "zerolinewidth": 2
          }
         }
        },
        "title": {
         "font": {
          "color": "#4D5663"
         }
        },
        "xaxis": {
         "gridcolor": "#E1E5ED",
         "showgrid": true,
         "tickfont": {
          "color": "#4D5663"
         },
         "title": {
          "font": {
           "color": "#4D5663"
          },
          "text": ""
         },
         "zerolinecolor": "#E1E5ED"
        },
        "yaxis": {
         "gridcolor": "#E1E5ED",
         "showgrid": true,
         "tickfont": {
          "color": "#4D5663"
         },
         "title": {
          "font": {
           "color": "#4D5663"
          },
          "text": ""
         },
         "zerolinecolor": "#E1E5ED"
        }
       }
      },
      "text/html": [
       "<div>                            <div id=\"9df748bc-33e3-42b5-a4bd-629f2228b5e1\" class=\"plotly-graph-div\" style=\"height:525px; width:100%;\"></div>            <script type=\"text/javascript\">                require([\"plotly\"], function(Plotly) {                    window.PLOTLYENV=window.PLOTLYENV || {};\n",
       "                    window.PLOTLYENV.BASE_URL='https://plot.ly';                                    if (document.getElementById(\"9df748bc-33e3-42b5-a4bd-629f2228b5e1\")) {                    Plotly.newPlot(                        \"9df748bc-33e3-42b5-a4bd-629f2228b5e1\",                        [{\"marker\": {\"color\": \"rgba(255, 153, 51, 0.6)\", \"line\": {\"color\": \"rgba(255, 153, 51, 1.0)\", \"width\": 1}}, \"name\": \"None\", \"orientation\": \"v\", \"text\": \"\", \"type\": \"bar\", \"x\": [\"A\", \"B\", \"C\", \"D\"], \"y\": [-3.8449526739215343, 10.196850498562114, -14.551113257592212, -8.354195197298546]}],                        {\"legend\": {\"bgcolor\": \"#F5F6F9\", \"font\": {\"color\": \"#4D5663\"}}, \"paper_bgcolor\": \"#F5F6F9\", \"plot_bgcolor\": \"#F5F6F9\", \"template\": {\"data\": {\"bar\": [{\"error_x\": {\"color\": \"#2a3f5f\"}, \"error_y\": {\"color\": \"#2a3f5f\"}, \"marker\": {\"line\": {\"color\": \"#E5ECF6\", \"width\": 0.5}}, \"type\": \"bar\"}], \"barpolar\": [{\"marker\": {\"line\": {\"color\": \"#E5ECF6\", \"width\": 0.5}}, \"type\": \"barpolar\"}], \"carpet\": [{\"aaxis\": {\"endlinecolor\": \"#2a3f5f\", \"gridcolor\": \"white\", \"linecolor\": \"white\", \"minorgridcolor\": \"white\", \"startlinecolor\": \"#2a3f5f\"}, \"baxis\": {\"endlinecolor\": \"#2a3f5f\", \"gridcolor\": \"white\", \"linecolor\": \"white\", \"minorgridcolor\": \"white\", \"startlinecolor\": \"#2a3f5f\"}, \"type\": \"carpet\"}], \"choropleth\": [{\"colorbar\": {\"outlinewidth\": 0, \"ticks\": \"\"}, \"type\": \"choropleth\"}], \"contour\": [{\"colorbar\": {\"outlinewidth\": 0, \"ticks\": \"\"}, \"colorscale\": [[0.0, \"#0d0887\"], [0.1111111111111111, \"#46039f\"], [0.2222222222222222, \"#7201a8\"], [0.3333333333333333, \"#9c179e\"], [0.4444444444444444, \"#bd3786\"], [0.5555555555555556, \"#d8576b\"], [0.6666666666666666, \"#ed7953\"], [0.7777777777777778, \"#fb9f3a\"], [0.8888888888888888, \"#fdca26\"], [1.0, \"#f0f921\"]], \"type\": \"contour\"}], \"contourcarpet\": [{\"colorbar\": {\"outlinewidth\": 0, \"ticks\": \"\"}, \"type\": \"contourcarpet\"}], \"heatmap\": [{\"colorbar\": {\"outlinewidth\": 0, \"ticks\": \"\"}, \"colorscale\": [[0.0, \"#0d0887\"], [0.1111111111111111, \"#46039f\"], [0.2222222222222222, \"#7201a8\"], [0.3333333333333333, \"#9c179e\"], [0.4444444444444444, \"#bd3786\"], [0.5555555555555556, \"#d8576b\"], [0.6666666666666666, \"#ed7953\"], [0.7777777777777778, \"#fb9f3a\"], [0.8888888888888888, \"#fdca26\"], [1.0, \"#f0f921\"]], \"type\": \"heatmap\"}], \"heatmapgl\": [{\"colorbar\": {\"outlinewidth\": 0, \"ticks\": \"\"}, \"colorscale\": [[0.0, \"#0d0887\"], [0.1111111111111111, \"#46039f\"], [0.2222222222222222, \"#7201a8\"], [0.3333333333333333, \"#9c179e\"], [0.4444444444444444, \"#bd3786\"], [0.5555555555555556, \"#d8576b\"], [0.6666666666666666, \"#ed7953\"], [0.7777777777777778, \"#fb9f3a\"], [0.8888888888888888, \"#fdca26\"], [1.0, \"#f0f921\"]], \"type\": \"heatmapgl\"}], \"histogram\": [{\"marker\": {\"colorbar\": {\"outlinewidth\": 0, \"ticks\": \"\"}}, \"type\": \"histogram\"}], \"histogram2d\": [{\"colorbar\": {\"outlinewidth\": 0, \"ticks\": \"\"}, \"colorscale\": [[0.0, \"#0d0887\"], [0.1111111111111111, \"#46039f\"], [0.2222222222222222, \"#7201a8\"], [0.3333333333333333, \"#9c179e\"], [0.4444444444444444, \"#bd3786\"], [0.5555555555555556, \"#d8576b\"], [0.6666666666666666, \"#ed7953\"], [0.7777777777777778, \"#fb9f3a\"], [0.8888888888888888, \"#fdca26\"], [1.0, \"#f0f921\"]], \"type\": \"histogram2d\"}], \"histogram2dcontour\": [{\"colorbar\": {\"outlinewidth\": 0, \"ticks\": \"\"}, \"colorscale\": [[0.0, \"#0d0887\"], [0.1111111111111111, \"#46039f\"], [0.2222222222222222, \"#7201a8\"], [0.3333333333333333, \"#9c179e\"], [0.4444444444444444, \"#bd3786\"], [0.5555555555555556, \"#d8576b\"], [0.6666666666666666, \"#ed7953\"], [0.7777777777777778, \"#fb9f3a\"], [0.8888888888888888, \"#fdca26\"], [1.0, \"#f0f921\"]], \"type\": \"histogram2dcontour\"}], \"mesh3d\": [{\"colorbar\": {\"outlinewidth\": 0, \"ticks\": \"\"}, \"type\": \"mesh3d\"}], \"parcoords\": [{\"line\": {\"colorbar\": {\"outlinewidth\": 0, \"ticks\": \"\"}}, \"type\": \"parcoords\"}], \"pie\": [{\"automargin\": true, \"type\": \"pie\"}], \"scatter\": [{\"marker\": {\"colorbar\": {\"outlinewidth\": 0, \"ticks\": \"\"}}, \"type\": \"scatter\"}], \"scatter3d\": [{\"line\": {\"colorbar\": {\"outlinewidth\": 0, \"ticks\": \"\"}}, \"marker\": {\"colorbar\": {\"outlinewidth\": 0, \"ticks\": \"\"}}, \"type\": \"scatter3d\"}], \"scattercarpet\": [{\"marker\": {\"colorbar\": {\"outlinewidth\": 0, \"ticks\": \"\"}}, \"type\": \"scattercarpet\"}], \"scattergeo\": [{\"marker\": {\"colorbar\": {\"outlinewidth\": 0, \"ticks\": \"\"}}, \"type\": \"scattergeo\"}], \"scattergl\": [{\"marker\": {\"colorbar\": {\"outlinewidth\": 0, \"ticks\": \"\"}}, \"type\": \"scattergl\"}], \"scattermapbox\": [{\"marker\": {\"colorbar\": {\"outlinewidth\": 0, \"ticks\": \"\"}}, \"type\": \"scattermapbox\"}], \"scatterpolar\": [{\"marker\": {\"colorbar\": {\"outlinewidth\": 0, \"ticks\": \"\"}}, \"type\": \"scatterpolar\"}], \"scatterpolargl\": [{\"marker\": {\"colorbar\": {\"outlinewidth\": 0, \"ticks\": \"\"}}, \"type\": \"scatterpolargl\"}], \"scatterternary\": [{\"marker\": {\"colorbar\": {\"outlinewidth\": 0, \"ticks\": \"\"}}, \"type\": \"scatterternary\"}], \"surface\": [{\"colorbar\": {\"outlinewidth\": 0, \"ticks\": \"\"}, \"colorscale\": [[0.0, \"#0d0887\"], [0.1111111111111111, \"#46039f\"], [0.2222222222222222, \"#7201a8\"], [0.3333333333333333, \"#9c179e\"], [0.4444444444444444, \"#bd3786\"], [0.5555555555555556, \"#d8576b\"], [0.6666666666666666, \"#ed7953\"], [0.7777777777777778, \"#fb9f3a\"], [0.8888888888888888, \"#fdca26\"], [1.0, \"#f0f921\"]], \"type\": \"surface\"}], \"table\": [{\"cells\": {\"fill\": {\"color\": \"#EBF0F8\"}, \"line\": {\"color\": \"white\"}}, \"header\": {\"fill\": {\"color\": \"#C8D4E3\"}, \"line\": {\"color\": \"white\"}}, \"type\": \"table\"}]}, \"layout\": {\"annotationdefaults\": {\"arrowcolor\": \"#2a3f5f\", \"arrowhead\": 0, \"arrowwidth\": 1}, \"coloraxis\": {\"colorbar\": {\"outlinewidth\": 0, \"ticks\": \"\"}}, \"colorscale\": {\"diverging\": [[0, \"#8e0152\"], [0.1, \"#c51b7d\"], [0.2, \"#de77ae\"], [0.3, \"#f1b6da\"], [0.4, \"#fde0ef\"], [0.5, \"#f7f7f7\"], [0.6, \"#e6f5d0\"], [0.7, \"#b8e186\"], [0.8, \"#7fbc41\"], [0.9, \"#4d9221\"], [1, \"#276419\"]], \"sequential\": [[0.0, \"#0d0887\"], [0.1111111111111111, \"#46039f\"], [0.2222222222222222, \"#7201a8\"], [0.3333333333333333, \"#9c179e\"], [0.4444444444444444, \"#bd3786\"], [0.5555555555555556, \"#d8576b\"], [0.6666666666666666, \"#ed7953\"], [0.7777777777777778, \"#fb9f3a\"], [0.8888888888888888, \"#fdca26\"], [1.0, \"#f0f921\"]], \"sequentialminus\": [[0.0, \"#0d0887\"], [0.1111111111111111, \"#46039f\"], [0.2222222222222222, \"#7201a8\"], [0.3333333333333333, \"#9c179e\"], [0.4444444444444444, \"#bd3786\"], [0.5555555555555556, \"#d8576b\"], [0.6666666666666666, \"#ed7953\"], [0.7777777777777778, \"#fb9f3a\"], [0.8888888888888888, \"#fdca26\"], [1.0, \"#f0f921\"]]}, \"colorway\": [\"#636efa\", \"#EF553B\", \"#00cc96\", \"#ab63fa\", \"#FFA15A\", \"#19d3f3\", \"#FF6692\", \"#B6E880\", \"#FF97FF\", \"#FECB52\"], \"font\": {\"color\": \"#2a3f5f\"}, \"geo\": {\"bgcolor\": \"white\", \"lakecolor\": \"white\", \"landcolor\": \"#E5ECF6\", \"showlakes\": true, \"showland\": true, \"subunitcolor\": \"white\"}, \"hoverlabel\": {\"align\": \"left\"}, \"hovermode\": \"closest\", \"mapbox\": {\"style\": \"light\"}, \"paper_bgcolor\": \"white\", \"plot_bgcolor\": \"#E5ECF6\", \"polar\": {\"angularaxis\": {\"gridcolor\": \"white\", \"linecolor\": \"white\", \"ticks\": \"\"}, \"bgcolor\": \"#E5ECF6\", \"radialaxis\": {\"gridcolor\": \"white\", \"linecolor\": \"white\", \"ticks\": \"\"}}, \"scene\": {\"xaxis\": {\"backgroundcolor\": \"#E5ECF6\", \"gridcolor\": \"white\", \"gridwidth\": 2, \"linecolor\": \"white\", \"showbackground\": true, \"ticks\": \"\", \"zerolinecolor\": \"white\"}, \"yaxis\": {\"backgroundcolor\": \"#E5ECF6\", \"gridcolor\": \"white\", \"gridwidth\": 2, \"linecolor\": \"white\", \"showbackground\": true, \"ticks\": \"\", \"zerolinecolor\": \"white\"}, \"zaxis\": {\"backgroundcolor\": \"#E5ECF6\", \"gridcolor\": \"white\", \"gridwidth\": 2, \"linecolor\": \"white\", \"showbackground\": true, \"ticks\": \"\", \"zerolinecolor\": \"white\"}}, \"shapedefaults\": {\"line\": {\"color\": \"#2a3f5f\"}}, \"ternary\": {\"aaxis\": {\"gridcolor\": \"white\", \"linecolor\": \"white\", \"ticks\": \"\"}, \"baxis\": {\"gridcolor\": \"white\", \"linecolor\": \"white\", \"ticks\": \"\"}, \"bgcolor\": \"#E5ECF6\", \"caxis\": {\"gridcolor\": \"white\", \"linecolor\": \"white\", \"ticks\": \"\"}}, \"title\": {\"x\": 0.05}, \"xaxis\": {\"automargin\": true, \"gridcolor\": \"white\", \"linecolor\": \"white\", \"ticks\": \"\", \"title\": {\"standoff\": 15}, \"zerolinecolor\": \"white\", \"zerolinewidth\": 2}, \"yaxis\": {\"automargin\": true, \"gridcolor\": \"white\", \"linecolor\": \"white\", \"ticks\": \"\", \"title\": {\"standoff\": 15}, \"zerolinecolor\": \"white\", \"zerolinewidth\": 2}}}, \"title\": {\"font\": {\"color\": \"#4D5663\"}}, \"xaxis\": {\"gridcolor\": \"#E1E5ED\", \"showgrid\": true, \"tickfont\": {\"color\": \"#4D5663\"}, \"title\": {\"font\": {\"color\": \"#4D5663\"}, \"text\": \"\"}, \"zerolinecolor\": \"#E1E5ED\"}, \"yaxis\": {\"gridcolor\": \"#E1E5ED\", \"showgrid\": true, \"tickfont\": {\"color\": \"#4D5663\"}, \"title\": {\"font\": {\"color\": \"#4D5663\"}, \"text\": \"\"}, \"zerolinecolor\": \"#E1E5ED\"}},                        {\"showLink\": true, \"linkText\": \"Export to plot.ly\", \"plotlyServerURL\": \"https://plot.ly\", \"responsive\": true}                    ).then(function(){\n",
       "                            \n",
       "var gd = document.getElementById('9df748bc-33e3-42b5-a4bd-629f2228b5e1');\n",
       "var x = new MutationObserver(function (mutations, observer) {{\n",
       "        var display = window.getComputedStyle(gd).display;\n",
       "        if (!display || display === 'none') {{\n",
       "            console.log([gd, 'removed!']);\n",
       "            Plotly.purge(gd);\n",
       "            observer.disconnect();\n",
       "        }}\n",
       "}});\n",
       "\n",
       "// Listen for the removal of the full notebook cells\n",
       "var notebookContainer = gd.closest('#notebook-container');\n",
       "if (notebookContainer) {{\n",
       "    x.observe(notebookContainer, {childList: true});\n",
       "}}\n",
       "\n",
       "// Listen for the clearing of the current output cell\n",
       "var outputEl = gd.closest('.output');\n",
       "if (outputEl) {{\n",
       "    x.observe(outputEl, {childList: true});\n",
       "}}\n",
       "\n",
       "                        })                };                });            </script>        </div>"
      ]
     },
     "metadata": {},
     "output_type": "display_data"
    }
   ],
   "source": [
    "# Aggregate numerical data and create an interactive bar plot\n",
    "df.sum().iplot(kind='bar')"
   ]
  },
  {
   "cell_type": "code",
   "execution_count": 18,
   "metadata": {},
   "outputs": [
    {
     "data": {
      "application/vnd.plotly.v1+json": {
       "config": {
        "linkText": "Export to plot.ly",
        "plotlyServerURL": "https://plot.ly",
        "showLink": true
       },
       "data": [
        {
         "marker": {
          "color": "rgba(255, 153, 51, 0.6)",
          "line": {
           "color": "rgba(255, 153, 51, 1.0)",
           "width": 1
          }
         },
         "name": "None",
         "orientation": "v",
         "text": "",
         "type": "bar",
         "x": [
          "A",
          "B",
          "C",
          "D"
         ],
         "y": [
          0.9288245991531221,
          1.0011251866025255,
          1.0659122671400942,
          0.9868315681620734
         ]
        }
       ],
       "layout": {
        "legend": {
         "bgcolor": "#F5F6F9",
         "font": {
          "color": "#4D5663"
         }
        },
        "paper_bgcolor": "#F5F6F9",
        "plot_bgcolor": "#F5F6F9",
        "template": {
         "data": {
          "bar": [
           {
            "error_x": {
             "color": "#2a3f5f"
            },
            "error_y": {
             "color": "#2a3f5f"
            },
            "marker": {
             "line": {
              "color": "#E5ECF6",
              "width": 0.5
             }
            },
            "type": "bar"
           }
          ],
          "barpolar": [
           {
            "marker": {
             "line": {
              "color": "#E5ECF6",
              "width": 0.5
             }
            },
            "type": "barpolar"
           }
          ],
          "carpet": [
           {
            "aaxis": {
             "endlinecolor": "#2a3f5f",
             "gridcolor": "white",
             "linecolor": "white",
             "minorgridcolor": "white",
             "startlinecolor": "#2a3f5f"
            },
            "baxis": {
             "endlinecolor": "#2a3f5f",
             "gridcolor": "white",
             "linecolor": "white",
             "minorgridcolor": "white",
             "startlinecolor": "#2a3f5f"
            },
            "type": "carpet"
           }
          ],
          "choropleth": [
           {
            "colorbar": {
             "outlinewidth": 0,
             "ticks": ""
            },
            "type": "choropleth"
           }
          ],
          "contour": [
           {
            "colorbar": {
             "outlinewidth": 0,
             "ticks": ""
            },
            "colorscale": [
             [
              0,
              "#0d0887"
             ],
             [
              0.1111111111111111,
              "#46039f"
             ],
             [
              0.2222222222222222,
              "#7201a8"
             ],
             [
              0.3333333333333333,
              "#9c179e"
             ],
             [
              0.4444444444444444,
              "#bd3786"
             ],
             [
              0.5555555555555556,
              "#d8576b"
             ],
             [
              0.6666666666666666,
              "#ed7953"
             ],
             [
              0.7777777777777778,
              "#fb9f3a"
             ],
             [
              0.8888888888888888,
              "#fdca26"
             ],
             [
              1,
              "#f0f921"
             ]
            ],
            "type": "contour"
           }
          ],
          "contourcarpet": [
           {
            "colorbar": {
             "outlinewidth": 0,
             "ticks": ""
            },
            "type": "contourcarpet"
           }
          ],
          "heatmap": [
           {
            "colorbar": {
             "outlinewidth": 0,
             "ticks": ""
            },
            "colorscale": [
             [
              0,
              "#0d0887"
             ],
             [
              0.1111111111111111,
              "#46039f"
             ],
             [
              0.2222222222222222,
              "#7201a8"
             ],
             [
              0.3333333333333333,
              "#9c179e"
             ],
             [
              0.4444444444444444,
              "#bd3786"
             ],
             [
              0.5555555555555556,
              "#d8576b"
             ],
             [
              0.6666666666666666,
              "#ed7953"
             ],
             [
              0.7777777777777778,
              "#fb9f3a"
             ],
             [
              0.8888888888888888,
              "#fdca26"
             ],
             [
              1,
              "#f0f921"
             ]
            ],
            "type": "heatmap"
           }
          ],
          "heatmapgl": [
           {
            "colorbar": {
             "outlinewidth": 0,
             "ticks": ""
            },
            "colorscale": [
             [
              0,
              "#0d0887"
             ],
             [
              0.1111111111111111,
              "#46039f"
             ],
             [
              0.2222222222222222,
              "#7201a8"
             ],
             [
              0.3333333333333333,
              "#9c179e"
             ],
             [
              0.4444444444444444,
              "#bd3786"
             ],
             [
              0.5555555555555556,
              "#d8576b"
             ],
             [
              0.6666666666666666,
              "#ed7953"
             ],
             [
              0.7777777777777778,
              "#fb9f3a"
             ],
             [
              0.8888888888888888,
              "#fdca26"
             ],
             [
              1,
              "#f0f921"
             ]
            ],
            "type": "heatmapgl"
           }
          ],
          "histogram": [
           {
            "marker": {
             "colorbar": {
              "outlinewidth": 0,
              "ticks": ""
             }
            },
            "type": "histogram"
           }
          ],
          "histogram2d": [
           {
            "colorbar": {
             "outlinewidth": 0,
             "ticks": ""
            },
            "colorscale": [
             [
              0,
              "#0d0887"
             ],
             [
              0.1111111111111111,
              "#46039f"
             ],
             [
              0.2222222222222222,
              "#7201a8"
             ],
             [
              0.3333333333333333,
              "#9c179e"
             ],
             [
              0.4444444444444444,
              "#bd3786"
             ],
             [
              0.5555555555555556,
              "#d8576b"
             ],
             [
              0.6666666666666666,
              "#ed7953"
             ],
             [
              0.7777777777777778,
              "#fb9f3a"
             ],
             [
              0.8888888888888888,
              "#fdca26"
             ],
             [
              1,
              "#f0f921"
             ]
            ],
            "type": "histogram2d"
           }
          ],
          "histogram2dcontour": [
           {
            "colorbar": {
             "outlinewidth": 0,
             "ticks": ""
            },
            "colorscale": [
             [
              0,
              "#0d0887"
             ],
             [
              0.1111111111111111,
              "#46039f"
             ],
             [
              0.2222222222222222,
              "#7201a8"
             ],
             [
              0.3333333333333333,
              "#9c179e"
             ],
             [
              0.4444444444444444,
              "#bd3786"
             ],
             [
              0.5555555555555556,
              "#d8576b"
             ],
             [
              0.6666666666666666,
              "#ed7953"
             ],
             [
              0.7777777777777778,
              "#fb9f3a"
             ],
             [
              0.8888888888888888,
              "#fdca26"
             ],
             [
              1,
              "#f0f921"
             ]
            ],
            "type": "histogram2dcontour"
           }
          ],
          "mesh3d": [
           {
            "colorbar": {
             "outlinewidth": 0,
             "ticks": ""
            },
            "type": "mesh3d"
           }
          ],
          "parcoords": [
           {
            "line": {
             "colorbar": {
              "outlinewidth": 0,
              "ticks": ""
             }
            },
            "type": "parcoords"
           }
          ],
          "pie": [
           {
            "automargin": true,
            "type": "pie"
           }
          ],
          "scatter": [
           {
            "marker": {
             "colorbar": {
              "outlinewidth": 0,
              "ticks": ""
             }
            },
            "type": "scatter"
           }
          ],
          "scatter3d": [
           {
            "line": {
             "colorbar": {
              "outlinewidth": 0,
              "ticks": ""
             }
            },
            "marker": {
             "colorbar": {
              "outlinewidth": 0,
              "ticks": ""
             }
            },
            "type": "scatter3d"
           }
          ],
          "scattercarpet": [
           {
            "marker": {
             "colorbar": {
              "outlinewidth": 0,
              "ticks": ""
             }
            },
            "type": "scattercarpet"
           }
          ],
          "scattergeo": [
           {
            "marker": {
             "colorbar": {
              "outlinewidth": 0,
              "ticks": ""
             }
            },
            "type": "scattergeo"
           }
          ],
          "scattergl": [
           {
            "marker": {
             "colorbar": {
              "outlinewidth": 0,
              "ticks": ""
             }
            },
            "type": "scattergl"
           }
          ],
          "scattermapbox": [
           {
            "marker": {
             "colorbar": {
              "outlinewidth": 0,
              "ticks": ""
             }
            },
            "type": "scattermapbox"
           }
          ],
          "scatterpolar": [
           {
            "marker": {
             "colorbar": {
              "outlinewidth": 0,
              "ticks": ""
             }
            },
            "type": "scatterpolar"
           }
          ],
          "scatterpolargl": [
           {
            "marker": {
             "colorbar": {
              "outlinewidth": 0,
              "ticks": ""
             }
            },
            "type": "scatterpolargl"
           }
          ],
          "scatterternary": [
           {
            "marker": {
             "colorbar": {
              "outlinewidth": 0,
              "ticks": ""
             }
            },
            "type": "scatterternary"
           }
          ],
          "surface": [
           {
            "colorbar": {
             "outlinewidth": 0,
             "ticks": ""
            },
            "colorscale": [
             [
              0,
              "#0d0887"
             ],
             [
              0.1111111111111111,
              "#46039f"
             ],
             [
              0.2222222222222222,
              "#7201a8"
             ],
             [
              0.3333333333333333,
              "#9c179e"
             ],
             [
              0.4444444444444444,
              "#bd3786"
             ],
             [
              0.5555555555555556,
              "#d8576b"
             ],
             [
              0.6666666666666666,
              "#ed7953"
             ],
             [
              0.7777777777777778,
              "#fb9f3a"
             ],
             [
              0.8888888888888888,
              "#fdca26"
             ],
             [
              1,
              "#f0f921"
             ]
            ],
            "type": "surface"
           }
          ],
          "table": [
           {
            "cells": {
             "fill": {
              "color": "#EBF0F8"
             },
             "line": {
              "color": "white"
             }
            },
            "header": {
             "fill": {
              "color": "#C8D4E3"
             },
             "line": {
              "color": "white"
             }
            },
            "type": "table"
           }
          ]
         },
         "layout": {
          "annotationdefaults": {
           "arrowcolor": "#2a3f5f",
           "arrowhead": 0,
           "arrowwidth": 1
          },
          "coloraxis": {
           "colorbar": {
            "outlinewidth": 0,
            "ticks": ""
           }
          },
          "colorscale": {
           "diverging": [
            [
             0,
             "#8e0152"
            ],
            [
             0.1,
             "#c51b7d"
            ],
            [
             0.2,
             "#de77ae"
            ],
            [
             0.3,
             "#f1b6da"
            ],
            [
             0.4,
             "#fde0ef"
            ],
            [
             0.5,
             "#f7f7f7"
            ],
            [
             0.6,
             "#e6f5d0"
            ],
            [
             0.7,
             "#b8e186"
            ],
            [
             0.8,
             "#7fbc41"
            ],
            [
             0.9,
             "#4d9221"
            ],
            [
             1,
             "#276419"
            ]
           ],
           "sequential": [
            [
             0,
             "#0d0887"
            ],
            [
             0.1111111111111111,
             "#46039f"
            ],
            [
             0.2222222222222222,
             "#7201a8"
            ],
            [
             0.3333333333333333,
             "#9c179e"
            ],
            [
             0.4444444444444444,
             "#bd3786"
            ],
            [
             0.5555555555555556,
             "#d8576b"
            ],
            [
             0.6666666666666666,
             "#ed7953"
            ],
            [
             0.7777777777777778,
             "#fb9f3a"
            ],
            [
             0.8888888888888888,
             "#fdca26"
            ],
            [
             1,
             "#f0f921"
            ]
           ],
           "sequentialminus": [
            [
             0,
             "#0d0887"
            ],
            [
             0.1111111111111111,
             "#46039f"
            ],
            [
             0.2222222222222222,
             "#7201a8"
            ],
            [
             0.3333333333333333,
             "#9c179e"
            ],
            [
             0.4444444444444444,
             "#bd3786"
            ],
            [
             0.5555555555555556,
             "#d8576b"
            ],
            [
             0.6666666666666666,
             "#ed7953"
            ],
            [
             0.7777777777777778,
             "#fb9f3a"
            ],
            [
             0.8888888888888888,
             "#fdca26"
            ],
            [
             1,
             "#f0f921"
            ]
           ]
          },
          "colorway": [
           "#636efa",
           "#EF553B",
           "#00cc96",
           "#ab63fa",
           "#FFA15A",
           "#19d3f3",
           "#FF6692",
           "#B6E880",
           "#FF97FF",
           "#FECB52"
          ],
          "font": {
           "color": "#2a3f5f"
          },
          "geo": {
           "bgcolor": "white",
           "lakecolor": "white",
           "landcolor": "#E5ECF6",
           "showlakes": true,
           "showland": true,
           "subunitcolor": "white"
          },
          "hoverlabel": {
           "align": "left"
          },
          "hovermode": "closest",
          "mapbox": {
           "style": "light"
          },
          "paper_bgcolor": "white",
          "plot_bgcolor": "#E5ECF6",
          "polar": {
           "angularaxis": {
            "gridcolor": "white",
            "linecolor": "white",
            "ticks": ""
           },
           "bgcolor": "#E5ECF6",
           "radialaxis": {
            "gridcolor": "white",
            "linecolor": "white",
            "ticks": ""
           }
          },
          "scene": {
           "xaxis": {
            "backgroundcolor": "#E5ECF6",
            "gridcolor": "white",
            "gridwidth": 2,
            "linecolor": "white",
            "showbackground": true,
            "ticks": "",
            "zerolinecolor": "white"
           },
           "yaxis": {
            "backgroundcolor": "#E5ECF6",
            "gridcolor": "white",
            "gridwidth": 2,
            "linecolor": "white",
            "showbackground": true,
            "ticks": "",
            "zerolinecolor": "white"
           },
           "zaxis": {
            "backgroundcolor": "#E5ECF6",
            "gridcolor": "white",
            "gridwidth": 2,
            "linecolor": "white",
            "showbackground": true,
            "ticks": "",
            "zerolinecolor": "white"
           }
          },
          "shapedefaults": {
           "line": {
            "color": "#2a3f5f"
           }
          },
          "ternary": {
           "aaxis": {
            "gridcolor": "white",
            "linecolor": "white",
            "ticks": ""
           },
           "baxis": {
            "gridcolor": "white",
            "linecolor": "white",
            "ticks": ""
           },
           "bgcolor": "#E5ECF6",
           "caxis": {
            "gridcolor": "white",
            "linecolor": "white",
            "ticks": ""
           }
          },
          "title": {
           "x": 0.05
          },
          "xaxis": {
           "automargin": true,
           "gridcolor": "white",
           "linecolor": "white",
           "ticks": "",
           "title": {
            "standoff": 15
           },
           "zerolinecolor": "white",
           "zerolinewidth": 2
          },
          "yaxis": {
           "automargin": true,
           "gridcolor": "white",
           "linecolor": "white",
           "ticks": "",
           "title": {
            "standoff": 15
           },
           "zerolinecolor": "white",
           "zerolinewidth": 2
          }
         }
        },
        "title": {
         "font": {
          "color": "#4D5663"
         }
        },
        "xaxis": {
         "gridcolor": "#E1E5ED",
         "showgrid": true,
         "tickfont": {
          "color": "#4D5663"
         },
         "title": {
          "font": {
           "color": "#4D5663"
          },
          "text": ""
         },
         "zerolinecolor": "#E1E5ED"
        },
        "yaxis": {
         "gridcolor": "#E1E5ED",
         "showgrid": true,
         "tickfont": {
          "color": "#4D5663"
         },
         "title": {
          "font": {
           "color": "#4D5663"
          },
          "text": ""
         },
         "zerolinecolor": "#E1E5ED"
        }
       }
      },
      "text/html": [
       "<div>                            <div id=\"f5f022a0-7898-45b3-a7e7-f31eee5c116d\" class=\"plotly-graph-div\" style=\"height:525px; width:100%;\"></div>            <script type=\"text/javascript\">                require([\"plotly\"], function(Plotly) {                    window.PLOTLYENV=window.PLOTLYENV || {};\n",
       "                    window.PLOTLYENV.BASE_URL='https://plot.ly';                                    if (document.getElementById(\"f5f022a0-7898-45b3-a7e7-f31eee5c116d\")) {                    Plotly.newPlot(                        \"f5f022a0-7898-45b3-a7e7-f31eee5c116d\",                        [{\"marker\": {\"color\": \"rgba(255, 153, 51, 0.6)\", \"line\": {\"color\": \"rgba(255, 153, 51, 1.0)\", \"width\": 1}}, \"name\": \"None\", \"orientation\": \"v\", \"text\": \"\", \"type\": \"bar\", \"x\": [\"A\", \"B\", \"C\", \"D\"], \"y\": [0.9288245991531221, 1.0011251866025255, 1.0659122671400942, 0.9868315681620734]}],                        {\"legend\": {\"bgcolor\": \"#F5F6F9\", \"font\": {\"color\": \"#4D5663\"}}, \"paper_bgcolor\": \"#F5F6F9\", \"plot_bgcolor\": \"#F5F6F9\", \"template\": {\"data\": {\"bar\": [{\"error_x\": {\"color\": \"#2a3f5f\"}, \"error_y\": {\"color\": \"#2a3f5f\"}, \"marker\": {\"line\": {\"color\": \"#E5ECF6\", \"width\": 0.5}}, \"type\": \"bar\"}], \"barpolar\": [{\"marker\": {\"line\": {\"color\": \"#E5ECF6\", \"width\": 0.5}}, \"type\": \"barpolar\"}], \"carpet\": [{\"aaxis\": {\"endlinecolor\": \"#2a3f5f\", \"gridcolor\": \"white\", \"linecolor\": \"white\", \"minorgridcolor\": \"white\", \"startlinecolor\": \"#2a3f5f\"}, \"baxis\": {\"endlinecolor\": \"#2a3f5f\", \"gridcolor\": \"white\", \"linecolor\": \"white\", \"minorgridcolor\": \"white\", \"startlinecolor\": \"#2a3f5f\"}, \"type\": \"carpet\"}], \"choropleth\": [{\"colorbar\": {\"outlinewidth\": 0, \"ticks\": \"\"}, \"type\": \"choropleth\"}], \"contour\": [{\"colorbar\": {\"outlinewidth\": 0, \"ticks\": \"\"}, \"colorscale\": [[0.0, \"#0d0887\"], [0.1111111111111111, \"#46039f\"], [0.2222222222222222, \"#7201a8\"], [0.3333333333333333, \"#9c179e\"], [0.4444444444444444, \"#bd3786\"], [0.5555555555555556, \"#d8576b\"], [0.6666666666666666, \"#ed7953\"], [0.7777777777777778, \"#fb9f3a\"], [0.8888888888888888, \"#fdca26\"], [1.0, \"#f0f921\"]], \"type\": \"contour\"}], \"contourcarpet\": [{\"colorbar\": {\"outlinewidth\": 0, \"ticks\": \"\"}, \"type\": \"contourcarpet\"}], \"heatmap\": [{\"colorbar\": {\"outlinewidth\": 0, \"ticks\": \"\"}, \"colorscale\": [[0.0, \"#0d0887\"], [0.1111111111111111, \"#46039f\"], [0.2222222222222222, \"#7201a8\"], [0.3333333333333333, \"#9c179e\"], [0.4444444444444444, \"#bd3786\"], [0.5555555555555556, \"#d8576b\"], [0.6666666666666666, \"#ed7953\"], [0.7777777777777778, \"#fb9f3a\"], [0.8888888888888888, \"#fdca26\"], [1.0, \"#f0f921\"]], \"type\": \"heatmap\"}], \"heatmapgl\": [{\"colorbar\": {\"outlinewidth\": 0, \"ticks\": \"\"}, \"colorscale\": [[0.0, \"#0d0887\"], [0.1111111111111111, \"#46039f\"], [0.2222222222222222, \"#7201a8\"], [0.3333333333333333, \"#9c179e\"], [0.4444444444444444, \"#bd3786\"], [0.5555555555555556, \"#d8576b\"], [0.6666666666666666, \"#ed7953\"], [0.7777777777777778, \"#fb9f3a\"], [0.8888888888888888, \"#fdca26\"], [1.0, \"#f0f921\"]], \"type\": \"heatmapgl\"}], \"histogram\": [{\"marker\": {\"colorbar\": {\"outlinewidth\": 0, \"ticks\": \"\"}}, \"type\": \"histogram\"}], \"histogram2d\": [{\"colorbar\": {\"outlinewidth\": 0, \"ticks\": \"\"}, \"colorscale\": [[0.0, \"#0d0887\"], [0.1111111111111111, \"#46039f\"], [0.2222222222222222, \"#7201a8\"], [0.3333333333333333, \"#9c179e\"], [0.4444444444444444, \"#bd3786\"], [0.5555555555555556, \"#d8576b\"], [0.6666666666666666, \"#ed7953\"], [0.7777777777777778, \"#fb9f3a\"], [0.8888888888888888, \"#fdca26\"], [1.0, \"#f0f921\"]], \"type\": \"histogram2d\"}], \"histogram2dcontour\": [{\"colorbar\": {\"outlinewidth\": 0, \"ticks\": \"\"}, \"colorscale\": [[0.0, \"#0d0887\"], [0.1111111111111111, \"#46039f\"], [0.2222222222222222, \"#7201a8\"], [0.3333333333333333, \"#9c179e\"], [0.4444444444444444, \"#bd3786\"], [0.5555555555555556, \"#d8576b\"], [0.6666666666666666, \"#ed7953\"], [0.7777777777777778, \"#fb9f3a\"], [0.8888888888888888, \"#fdca26\"], [1.0, \"#f0f921\"]], \"type\": \"histogram2dcontour\"}], \"mesh3d\": [{\"colorbar\": {\"outlinewidth\": 0, \"ticks\": \"\"}, \"type\": \"mesh3d\"}], \"parcoords\": [{\"line\": {\"colorbar\": {\"outlinewidth\": 0, \"ticks\": \"\"}}, \"type\": \"parcoords\"}], \"pie\": [{\"automargin\": true, \"type\": \"pie\"}], \"scatter\": [{\"marker\": {\"colorbar\": {\"outlinewidth\": 0, \"ticks\": \"\"}}, \"type\": \"scatter\"}], \"scatter3d\": [{\"line\": {\"colorbar\": {\"outlinewidth\": 0, \"ticks\": \"\"}}, \"marker\": {\"colorbar\": {\"outlinewidth\": 0, \"ticks\": \"\"}}, \"type\": \"scatter3d\"}], \"scattercarpet\": [{\"marker\": {\"colorbar\": {\"outlinewidth\": 0, \"ticks\": \"\"}}, \"type\": \"scattercarpet\"}], \"scattergeo\": [{\"marker\": {\"colorbar\": {\"outlinewidth\": 0, \"ticks\": \"\"}}, \"type\": \"scattergeo\"}], \"scattergl\": [{\"marker\": {\"colorbar\": {\"outlinewidth\": 0, \"ticks\": \"\"}}, \"type\": \"scattergl\"}], \"scattermapbox\": [{\"marker\": {\"colorbar\": {\"outlinewidth\": 0, \"ticks\": \"\"}}, \"type\": \"scattermapbox\"}], \"scatterpolar\": [{\"marker\": {\"colorbar\": {\"outlinewidth\": 0, \"ticks\": \"\"}}, \"type\": \"scatterpolar\"}], \"scatterpolargl\": [{\"marker\": {\"colorbar\": {\"outlinewidth\": 0, \"ticks\": \"\"}}, \"type\": \"scatterpolargl\"}], \"scatterternary\": [{\"marker\": {\"colorbar\": {\"outlinewidth\": 0, \"ticks\": \"\"}}, \"type\": \"scatterternary\"}], \"surface\": [{\"colorbar\": {\"outlinewidth\": 0, \"ticks\": \"\"}, \"colorscale\": [[0.0, \"#0d0887\"], [0.1111111111111111, \"#46039f\"], [0.2222222222222222, \"#7201a8\"], [0.3333333333333333, \"#9c179e\"], [0.4444444444444444, \"#bd3786\"], [0.5555555555555556, \"#d8576b\"], [0.6666666666666666, \"#ed7953\"], [0.7777777777777778, \"#fb9f3a\"], [0.8888888888888888, \"#fdca26\"], [1.0, \"#f0f921\"]], \"type\": \"surface\"}], \"table\": [{\"cells\": {\"fill\": {\"color\": \"#EBF0F8\"}, \"line\": {\"color\": \"white\"}}, \"header\": {\"fill\": {\"color\": \"#C8D4E3\"}, \"line\": {\"color\": \"white\"}}, \"type\": \"table\"}]}, \"layout\": {\"annotationdefaults\": {\"arrowcolor\": \"#2a3f5f\", \"arrowhead\": 0, \"arrowwidth\": 1}, \"coloraxis\": {\"colorbar\": {\"outlinewidth\": 0, \"ticks\": \"\"}}, \"colorscale\": {\"diverging\": [[0, \"#8e0152\"], [0.1, \"#c51b7d\"], [0.2, \"#de77ae\"], [0.3, \"#f1b6da\"], [0.4, \"#fde0ef\"], [0.5, \"#f7f7f7\"], [0.6, \"#e6f5d0\"], [0.7, \"#b8e186\"], [0.8, \"#7fbc41\"], [0.9, \"#4d9221\"], [1, \"#276419\"]], \"sequential\": [[0.0, \"#0d0887\"], [0.1111111111111111, \"#46039f\"], [0.2222222222222222, \"#7201a8\"], [0.3333333333333333, \"#9c179e\"], [0.4444444444444444, \"#bd3786\"], [0.5555555555555556, \"#d8576b\"], [0.6666666666666666, \"#ed7953\"], [0.7777777777777778, \"#fb9f3a\"], [0.8888888888888888, \"#fdca26\"], [1.0, \"#f0f921\"]], \"sequentialminus\": [[0.0, \"#0d0887\"], [0.1111111111111111, \"#46039f\"], [0.2222222222222222, \"#7201a8\"], [0.3333333333333333, \"#9c179e\"], [0.4444444444444444, \"#bd3786\"], [0.5555555555555556, \"#d8576b\"], [0.6666666666666666, \"#ed7953\"], [0.7777777777777778, \"#fb9f3a\"], [0.8888888888888888, \"#fdca26\"], [1.0, \"#f0f921\"]]}, \"colorway\": [\"#636efa\", \"#EF553B\", \"#00cc96\", \"#ab63fa\", \"#FFA15A\", \"#19d3f3\", \"#FF6692\", \"#B6E880\", \"#FF97FF\", \"#FECB52\"], \"font\": {\"color\": \"#2a3f5f\"}, \"geo\": {\"bgcolor\": \"white\", \"lakecolor\": \"white\", \"landcolor\": \"#E5ECF6\", \"showlakes\": true, \"showland\": true, \"subunitcolor\": \"white\"}, \"hoverlabel\": {\"align\": \"left\"}, \"hovermode\": \"closest\", \"mapbox\": {\"style\": \"light\"}, \"paper_bgcolor\": \"white\", \"plot_bgcolor\": \"#E5ECF6\", \"polar\": {\"angularaxis\": {\"gridcolor\": \"white\", \"linecolor\": \"white\", \"ticks\": \"\"}, \"bgcolor\": \"#E5ECF6\", \"radialaxis\": {\"gridcolor\": \"white\", \"linecolor\": \"white\", \"ticks\": \"\"}}, \"scene\": {\"xaxis\": {\"backgroundcolor\": \"#E5ECF6\", \"gridcolor\": \"white\", \"gridwidth\": 2, \"linecolor\": \"white\", \"showbackground\": true, \"ticks\": \"\", \"zerolinecolor\": \"white\"}, \"yaxis\": {\"backgroundcolor\": \"#E5ECF6\", \"gridcolor\": \"white\", \"gridwidth\": 2, \"linecolor\": \"white\", \"showbackground\": true, \"ticks\": \"\", \"zerolinecolor\": \"white\"}, \"zaxis\": {\"backgroundcolor\": \"#E5ECF6\", \"gridcolor\": \"white\", \"gridwidth\": 2, \"linecolor\": \"white\", \"showbackground\": true, \"ticks\": \"\", \"zerolinecolor\": \"white\"}}, \"shapedefaults\": {\"line\": {\"color\": \"#2a3f5f\"}}, \"ternary\": {\"aaxis\": {\"gridcolor\": \"white\", \"linecolor\": \"white\", \"ticks\": \"\"}, \"baxis\": {\"gridcolor\": \"white\", \"linecolor\": \"white\", \"ticks\": \"\"}, \"bgcolor\": \"#E5ECF6\", \"caxis\": {\"gridcolor\": \"white\", \"linecolor\": \"white\", \"ticks\": \"\"}}, \"title\": {\"x\": 0.05}, \"xaxis\": {\"automargin\": true, \"gridcolor\": \"white\", \"linecolor\": \"white\", \"ticks\": \"\", \"title\": {\"standoff\": 15}, \"zerolinecolor\": \"white\", \"zerolinewidth\": 2}, \"yaxis\": {\"automargin\": true, \"gridcolor\": \"white\", \"linecolor\": \"white\", \"ticks\": \"\", \"title\": {\"standoff\": 15}, \"zerolinecolor\": \"white\", \"zerolinewidth\": 2}}}, \"title\": {\"font\": {\"color\": \"#4D5663\"}}, \"xaxis\": {\"gridcolor\": \"#E1E5ED\", \"showgrid\": true, \"tickfont\": {\"color\": \"#4D5663\"}, \"title\": {\"font\": {\"color\": \"#4D5663\"}, \"text\": \"\"}, \"zerolinecolor\": \"#E1E5ED\"}, \"yaxis\": {\"gridcolor\": \"#E1E5ED\", \"showgrid\": true, \"tickfont\": {\"color\": \"#4D5663\"}, \"title\": {\"font\": {\"color\": \"#4D5663\"}, \"text\": \"\"}, \"zerolinecolor\": \"#E1E5ED\"}},                        {\"showLink\": true, \"linkText\": \"Export to plot.ly\", \"plotlyServerURL\": \"https://plot.ly\", \"responsive\": true}                    ).then(function(){\n",
       "                            \n",
       "var gd = document.getElementById('f5f022a0-7898-45b3-a7e7-f31eee5c116d');\n",
       "var x = new MutationObserver(function (mutations, observer) {{\n",
       "        var display = window.getComputedStyle(gd).display;\n",
       "        if (!display || display === 'none') {{\n",
       "            console.log([gd, 'removed!']);\n",
       "            Plotly.purge(gd);\n",
       "            observer.disconnect();\n",
       "        }}\n",
       "}});\n",
       "\n",
       "// Listen for the removal of the full notebook cells\n",
       "var notebookContainer = gd.closest('#notebook-container');\n",
       "if (notebookContainer) {{\n",
       "    x.observe(notebookContainer, {childList: true});\n",
       "}}\n",
       "\n",
       "// Listen for the clearing of the current output cell\n",
       "var outputEl = gd.closest('.output');\n",
       "if (outputEl) {{\n",
       "    x.observe(outputEl, {childList: true});\n",
       "}}\n",
       "\n",
       "                        })                };                });            </script>        </div>"
      ]
     },
     "metadata": {},
     "output_type": "display_data"
    }
   ],
   "source": [
    "# Aggregate numerical data and create an interactive bar plot\n",
    "df.std().iplot(kind='bar')"
   ]
  },
  {
   "cell_type": "markdown",
   "metadata": {},
   "source": [
    "## Interactive Box Plots"
   ]
  },
  {
   "cell_type": "code",
   "execution_count": 19,
   "metadata": {},
   "outputs": [
    {
     "data": {
      "application/vnd.plotly.v1+json": {
       "config": {
        "linkText": "Export to plot.ly",
        "plotlyServerURL": "https://plot.ly",
        "showLink": true
       },
       "data": [
        {
         "boxpoints": false,
         "line": {
          "width": 1.3
         },
         "marker": {
          "color": "rgba(255, 153, 51, 1.0)"
         },
         "name": "A",
         "orientation": "v",
         "type": "box",
         "y": [
          0.00645505412481479,
          -1.4397876348458365,
          1.0708611347292805,
          0.28406613516333,
          0.058580630554189314,
          0.8284319830137025,
          -0.42047449551545285,
          -0.09014078165929397,
          -1.3944631937012903,
          0.05256359179847144,
          0.0409425859720373,
          -1.0208810538666255,
          1.147791416367246,
          0.7658353585491399,
          -0.4910219172880578,
          -0.8721591983562276,
          -0.9005228723828286,
          -0.560157105001934,
          0.3713100958842003,
          -1.2535692114404662,
          0.6909564571551409,
          0.1842453733842638,
          1.1379399025401098,
          1.1225527092582108,
          2.566851668670725,
          -1.670807423685407,
          1.94114639518042,
          -0.4715978936051285,
          -0.8163180921528749,
          -1.3536378264027218,
          -0.4147680876033762,
          -1.5047960860017953,
          -0.45073089384645704,
          -0.7269309668428034,
          0.7071546103928739,
          -0.5733190517411629,
          -0.6254361093893777,
          -1.5979799108505073,
          0.5170911382160981,
          0.5990087994240142,
          -0.2713626986608739,
          0.009040260923086347,
          -1.8660001972888383,
          0.40229667838475697,
          0.41585974272164616,
          -0.763893236346236,
          -0.34155596437332403,
          0.9542846586183369,
          1.0716615685885462,
          -0.060216026348868294,
          -1.1773224311305817,
          -0.9337797332054449,
          0.1749212272955488,
          -0.4016088255929763,
          1.5669389913415512,
          -0.8513635591410853,
          0.5310694215184522,
          -0.2754033351060103,
          -1.0414551990670875,
          -1.3845691960246238,
          0.11348281842005707,
          1.3575087993749007,
          -0.3954770620305859,
          0.676071850082259,
          0.4705010649987572,
          -0.3790387735935101,
          -0.8495913010737675,
          0.8382970974418101,
          -0.5153325311787621,
          -1.7022110786144058,
          1.4655183248688948,
          1.0520473235550596,
          -1.171272825456019,
          -0.7506656329216204,
          0.7543814278344634,
          0.25107938267119495,
          -0.5073680136495456,
          -0.65943015684561,
          0.04797048723213697,
          1.3725651550792377,
          0.3377203852279814,
          1.2690715670621149,
          0.3721442232698379,
          0.5626215355177316,
          -0.135971356264149,
          -1.0401702516300955,
          0.2074595019498187,
          0.6824824097281659,
          -1.2108413913024183,
          -0.14337649101770347,
          -0.15534252908565863,
          1.8190769247613148,
          -1.2625189409980964,
          1.0150403647301383,
          0.5975471562017068,
          0.7052928914556554,
          0.7574383663343425,
          0.3520597042626315,
          0.12580990970060232,
          -1.371360391325017
         ]
        },
        {
         "boxpoints": false,
         "line": {
          "width": 1.3
         },
         "marker": {
          "color": "rgba(55, 128, 191, 1.0)"
         },
         "name": "B",
         "orientation": "v",
         "type": "box",
         "y": [
          0.3715414837853284,
          -0.1496899277411245,
          -0.4390213126824492,
          1.6124578320777376,
          0.11183836103323239,
          1.458697253376567,
          0.9643586012873291,
          0.6670443200955786,
          -0.21265059534970032,
          -0.8636786417042411,
          1.7871113503248284,
          -0.1447568525603548,
          0.9351528782010953,
          0.9625816992599668,
          -0.3733852727659238,
          -0.2822727071412232,
          -0.0358397051319197,
          2.2130874225777575,
          0.25326232890298495,
          -0.445997394922047,
          -0.12580352886153912,
          0.821603670489078,
          -0.31317514756877424,
          -1.227443779918153,
          0.08176459147203437,
          -0.13765985270634984,
          -1.1342575625974662,
          -0.6658897059835954,
          -0.8162034704460095,
          0.8322541179478329,
          -2.3019121397506352,
          0.22840969211373394,
          -0.09790587776093376,
          0.8646965614406674,
          0.8123971676173096,
          0.09931126017752998,
          -0.2851236926891674,
          -0.6546008255239986,
          0.34637604119215065,
          -0.08096229379499327,
          -1.0821639264456364,
          0.7707047699604228,
          -0.3655827162038345,
          -0.8690899907167929,
          -1.62725903133252,
          0.8473311747014874,
          0.2243054275489603,
          0.9160444771656323,
          -0.013671567941790488,
          1.1756905044906398,
          2.211644592878346,
          2.6734963742744893,
          2.403609725799866,
          -0.7828324585717606,
          -1.9352254812359753,
          2.05781884631984,
          0.22955750817913378,
          -1.41367971194844,
          -0.02222680289686833,
          -0.3265895253904034,
          -0.662586189934153,
          0.34162075972823924,
          -1.7987978352472804,
          -2.164523510479693,
          -1.0226530080529086,
          0.09527821901748883,
          -0.3735501240807589,
          -0.8341382892266959,
          -0.34868142809346037,
          1.3620090274224168,
          0.6831582769222206,
          -0.9704644017602544,
          1.0850240034716527,
          0.03189658005429582,
          1.5597883688055845,
          -0.6942070267432159,
          -0.22882318437441995,
          1.410449211516949,
          1.3503691828085254,
          0.1134970084477248,
          -0.4990774677156832,
          -1.4529230662123482,
          -0.6863896873450261,
          0.7806907699913527,
          -0.4867880186501855,
          0.9352865979372379,
          -0.5062252759718567,
          0.5592357779532194,
          0.6665247279587084,
          0.7647459179575313,
          0.4677285244089398,
          1.0166663003685206,
          1.0356066302371916,
          -0.44541082873479076,
          -0.040668349850732054,
          0.5685074541670516,
          -1.167505710044138,
          -0.370685489323101,
          0.7617607871230696,
          -0.34649327030204485
         ]
        },
        {
         "boxpoints": false,
         "line": {
          "width": 1.3
         },
         "marker": {
          "color": "rgba(50, 171, 96, 1.0)"
         },
         "name": "C",
         "orientation": "v",
         "type": "box",
         "y": [
          -0.8156211921936473,
          -0.3488054734179534,
          1.3634652871830246,
          0.6827654196928922,
          -1.0579817213633653,
          -0.9172741010318527,
          -1.0111454672320228,
          2.1474195456264242,
          -0.029116717408046878,
          -0.10503227051826579,
          -1.8982085799443809,
          -0.061607126903382985,
          -1.461069514841389,
          -0.4159207500708357,
          0.5428281012175966,
          -1.1064321564326451,
          1.1818468571532845,
          -0.4997449331078411,
          0.6513450257522175,
          -1.0096901464963166,
          0.7777710862030701,
          1.1156051451021982,
          -1.3963977721174032,
          -2.1957740562038897,
          -0.003082555605334334,
          -0.8711334400342721,
          -1.1721695448682867,
          0.9015731399020005,
          -0.7687236581093563,
          0.648912600414831,
          -0.3370999147061945,
          -0.2557289363041199,
          1.3940022814140893,
          -1.0918291338075325,
          0.926385756882171,
          -0.02699273090378049,
          -1.9310415085129753,
          -2.0537105543928087,
          1.331393828819895,
          -1.2479264355796142,
          1.3244176563546068,
          0.4547765829735793,
          -0.9485957942455121,
          0.7711272727493926,
          0.10770503293463943,
          -0.34345388358808904,
          -0.2901651965788942,
          -1.8859801912106564,
          -0.06463771887301847,
          0.7339329153613252,
          -2.9813490059807424,
          0.49298111601570926,
          2.089197422357034,
          0.5485407093266145,
          -0.45294081667793284,
          -1.2343570095799694,
          -0.6043887454889516,
          0.19698825224500555,
          0.2525008929314805,
          0.49330016796457193,
          -1.3296448063379627,
          -1.3199625654791716,
          -0.22952536088723396,
          -2.100923552982224,
          -1.2766272123803133,
          -0.0759219486515562,
          -1.3161580407429254,
          0.06457107233952505,
          0.11828851281676804,
          -0.1854970115502745,
          -0.6904859218641665,
          0.9987015332368285,
          1.0653613654646588,
          0.30642527390970625,
          0.005411555193580738,
          0.46565443254592476,
          -0.5513607990797764,
          -0.6156892013681534,
          1.0864651990406675,
          1.2076925241549614,
          0.02996839767387277,
          -0.014468892242910269,
          2.314696376629038,
          2.208168488408517,
          -1.3983413330991918,
          0.8986343834667301,
          0.9916299241963795,
          -0.20474753074899615,
          -0.2318152457813195,
          -0.41240495042251296,
          -1.5084220112468731,
          -0.2339935120152956,
          -0.6079408227599712,
          -0.09966875704636555,
          0.23726828071761713,
          -1.7732192190847027,
          0.28673585713418004,
          -0.7359231672703281,
          0.14300452088914767,
          1.6972975653855318
         ]
        },
        {
         "boxpoints": false,
         "line": {
          "width": 1.3
         },
         "marker": {
          "color": "rgba(128, 0, 128, 1.0)"
         },
         "name": "D",
         "orientation": "v",
         "type": "box",
         "y": [
          -0.46896793394847963,
          0.9185701612631408,
          -0.9518353470364371,
          0.48127796570390513,
          -1.3125227628679224,
          -0.6001985612883243,
          1.2438374321973853,
          -1.0553928899948373,
          0.7992286386403018,
          0.6552228453687096,
          1.531139173688056,
          -1.434972124639351,
          0.5886176757481795,
          -0.3256784096497872,
          -0.2623819605419885,
          0.8093293479850361,
          -0.33275476984830865,
          -0.2956276921472676,
          -0.16713256889711028,
          0.18389720704075418,
          0.6657691087241017,
          -1.4997126274775754,
          0.8711561678776168,
          -0.8924685564325691,
          0.6394678129395951,
          -1.196144615877988,
          2.2614519074522,
          0.11987585103470248,
          -2.579662215505832,
          -1.3178324834559312,
          0.46948793870344907,
          -0.2210025562961031,
          1.4552867861558016,
          1.326246985282575,
          -0.054439587001145,
          1.2706741490376032,
          0.7484048322067663,
          1.2710087859871775,
          0.9447743157753115,
          0.0917616016406183,
          -2.0969697544296864,
          -1.1217734741484078,
          -0.35986753254874787,
          0.12035306348613169,
          -1.1902816920463186,
          -1.2966439417613633,
          -0.017967446036095795,
          0.514611017485124,
          -1.4461382765586006,
          1.01186070273958,
          0.8879030485264665,
          0.4676220911886453,
          0.6228012943753499,
          -1.4207209081286396,
          0.2867700005446423,
          -0.6139865568654482,
          -0.5415167711981378,
          -1.9858206491463257,
          0.12723912891542727,
          -0.1793100802880613,
          0.0037780088332585375,
          1.3903163960561136,
          1.5083085016459787,
          0.3926357357086319,
          -0.9743888746263668,
          -0.9454377234958473,
          -0.8321414989740954,
          -1.620960244458763,
          -0.6017219998541727,
          -0.06238112948649538,
          1.6954621456675467,
          1.124584858797205,
          -1.15012884419011,
          -1.4364055469573436,
          0.5664302863033238,
          1.8332136136850243,
          -0.8089001901634655,
          0.43902060972417456,
          0.37600900785175306,
          -1.3948918928031053,
          -0.6904696137869282,
          0.19589727243424596,
          -1.5300619443770898,
          -1.9477439997569757,
          -0.7048608070105993,
          0.0030274862426587037,
          -0.3658721419657042,
          -0.027565836557152504,
          0.46474856183842084,
          -0.4170025571275899,
          0.5118024905797606,
          0.022175819324665814,
          0.07345976472766286,
          -0.6162389548458861,
          -0.546978786397993,
          0.00893652800919723,
          -0.3826503977720516,
          0.2771619614010083,
          0.6072349321310275,
          1.0624815146959694
         ]
        }
       ],
       "layout": {
        "legend": {
         "bgcolor": "#F5F6F9",
         "font": {
          "color": "#4D5663"
         }
        },
        "paper_bgcolor": "#F5F6F9",
        "plot_bgcolor": "#F5F6F9",
        "template": {
         "data": {
          "bar": [
           {
            "error_x": {
             "color": "#2a3f5f"
            },
            "error_y": {
             "color": "#2a3f5f"
            },
            "marker": {
             "line": {
              "color": "#E5ECF6",
              "width": 0.5
             }
            },
            "type": "bar"
           }
          ],
          "barpolar": [
           {
            "marker": {
             "line": {
              "color": "#E5ECF6",
              "width": 0.5
             }
            },
            "type": "barpolar"
           }
          ],
          "carpet": [
           {
            "aaxis": {
             "endlinecolor": "#2a3f5f",
             "gridcolor": "white",
             "linecolor": "white",
             "minorgridcolor": "white",
             "startlinecolor": "#2a3f5f"
            },
            "baxis": {
             "endlinecolor": "#2a3f5f",
             "gridcolor": "white",
             "linecolor": "white",
             "minorgridcolor": "white",
             "startlinecolor": "#2a3f5f"
            },
            "type": "carpet"
           }
          ],
          "choropleth": [
           {
            "colorbar": {
             "outlinewidth": 0,
             "ticks": ""
            },
            "type": "choropleth"
           }
          ],
          "contour": [
           {
            "colorbar": {
             "outlinewidth": 0,
             "ticks": ""
            },
            "colorscale": [
             [
              0,
              "#0d0887"
             ],
             [
              0.1111111111111111,
              "#46039f"
             ],
             [
              0.2222222222222222,
              "#7201a8"
             ],
             [
              0.3333333333333333,
              "#9c179e"
             ],
             [
              0.4444444444444444,
              "#bd3786"
             ],
             [
              0.5555555555555556,
              "#d8576b"
             ],
             [
              0.6666666666666666,
              "#ed7953"
             ],
             [
              0.7777777777777778,
              "#fb9f3a"
             ],
             [
              0.8888888888888888,
              "#fdca26"
             ],
             [
              1,
              "#f0f921"
             ]
            ],
            "type": "contour"
           }
          ],
          "contourcarpet": [
           {
            "colorbar": {
             "outlinewidth": 0,
             "ticks": ""
            },
            "type": "contourcarpet"
           }
          ],
          "heatmap": [
           {
            "colorbar": {
             "outlinewidth": 0,
             "ticks": ""
            },
            "colorscale": [
             [
              0,
              "#0d0887"
             ],
             [
              0.1111111111111111,
              "#46039f"
             ],
             [
              0.2222222222222222,
              "#7201a8"
             ],
             [
              0.3333333333333333,
              "#9c179e"
             ],
             [
              0.4444444444444444,
              "#bd3786"
             ],
             [
              0.5555555555555556,
              "#d8576b"
             ],
             [
              0.6666666666666666,
              "#ed7953"
             ],
             [
              0.7777777777777778,
              "#fb9f3a"
             ],
             [
              0.8888888888888888,
              "#fdca26"
             ],
             [
              1,
              "#f0f921"
             ]
            ],
            "type": "heatmap"
           }
          ],
          "heatmapgl": [
           {
            "colorbar": {
             "outlinewidth": 0,
             "ticks": ""
            },
            "colorscale": [
             [
              0,
              "#0d0887"
             ],
             [
              0.1111111111111111,
              "#46039f"
             ],
             [
              0.2222222222222222,
              "#7201a8"
             ],
             [
              0.3333333333333333,
              "#9c179e"
             ],
             [
              0.4444444444444444,
              "#bd3786"
             ],
             [
              0.5555555555555556,
              "#d8576b"
             ],
             [
              0.6666666666666666,
              "#ed7953"
             ],
             [
              0.7777777777777778,
              "#fb9f3a"
             ],
             [
              0.8888888888888888,
              "#fdca26"
             ],
             [
              1,
              "#f0f921"
             ]
            ],
            "type": "heatmapgl"
           }
          ],
          "histogram": [
           {
            "marker": {
             "colorbar": {
              "outlinewidth": 0,
              "ticks": ""
             }
            },
            "type": "histogram"
           }
          ],
          "histogram2d": [
           {
            "colorbar": {
             "outlinewidth": 0,
             "ticks": ""
            },
            "colorscale": [
             [
              0,
              "#0d0887"
             ],
             [
              0.1111111111111111,
              "#46039f"
             ],
             [
              0.2222222222222222,
              "#7201a8"
             ],
             [
              0.3333333333333333,
              "#9c179e"
             ],
             [
              0.4444444444444444,
              "#bd3786"
             ],
             [
              0.5555555555555556,
              "#d8576b"
             ],
             [
              0.6666666666666666,
              "#ed7953"
             ],
             [
              0.7777777777777778,
              "#fb9f3a"
             ],
             [
              0.8888888888888888,
              "#fdca26"
             ],
             [
              1,
              "#f0f921"
             ]
            ],
            "type": "histogram2d"
           }
          ],
          "histogram2dcontour": [
           {
            "colorbar": {
             "outlinewidth": 0,
             "ticks": ""
            },
            "colorscale": [
             [
              0,
              "#0d0887"
             ],
             [
              0.1111111111111111,
              "#46039f"
             ],
             [
              0.2222222222222222,
              "#7201a8"
             ],
             [
              0.3333333333333333,
              "#9c179e"
             ],
             [
              0.4444444444444444,
              "#bd3786"
             ],
             [
              0.5555555555555556,
              "#d8576b"
             ],
             [
              0.6666666666666666,
              "#ed7953"
             ],
             [
              0.7777777777777778,
              "#fb9f3a"
             ],
             [
              0.8888888888888888,
              "#fdca26"
             ],
             [
              1,
              "#f0f921"
             ]
            ],
            "type": "histogram2dcontour"
           }
          ],
          "mesh3d": [
           {
            "colorbar": {
             "outlinewidth": 0,
             "ticks": ""
            },
            "type": "mesh3d"
           }
          ],
          "parcoords": [
           {
            "line": {
             "colorbar": {
              "outlinewidth": 0,
              "ticks": ""
             }
            },
            "type": "parcoords"
           }
          ],
          "pie": [
           {
            "automargin": true,
            "type": "pie"
           }
          ],
          "scatter": [
           {
            "marker": {
             "colorbar": {
              "outlinewidth": 0,
              "ticks": ""
             }
            },
            "type": "scatter"
           }
          ],
          "scatter3d": [
           {
            "line": {
             "colorbar": {
              "outlinewidth": 0,
              "ticks": ""
             }
            },
            "marker": {
             "colorbar": {
              "outlinewidth": 0,
              "ticks": ""
             }
            },
            "type": "scatter3d"
           }
          ],
          "scattercarpet": [
           {
            "marker": {
             "colorbar": {
              "outlinewidth": 0,
              "ticks": ""
             }
            },
            "type": "scattercarpet"
           }
          ],
          "scattergeo": [
           {
            "marker": {
             "colorbar": {
              "outlinewidth": 0,
              "ticks": ""
             }
            },
            "type": "scattergeo"
           }
          ],
          "scattergl": [
           {
            "marker": {
             "colorbar": {
              "outlinewidth": 0,
              "ticks": ""
             }
            },
            "type": "scattergl"
           }
          ],
          "scattermapbox": [
           {
            "marker": {
             "colorbar": {
              "outlinewidth": 0,
              "ticks": ""
             }
            },
            "type": "scattermapbox"
           }
          ],
          "scatterpolar": [
           {
            "marker": {
             "colorbar": {
              "outlinewidth": 0,
              "ticks": ""
             }
            },
            "type": "scatterpolar"
           }
          ],
          "scatterpolargl": [
           {
            "marker": {
             "colorbar": {
              "outlinewidth": 0,
              "ticks": ""
             }
            },
            "type": "scatterpolargl"
           }
          ],
          "scatterternary": [
           {
            "marker": {
             "colorbar": {
              "outlinewidth": 0,
              "ticks": ""
             }
            },
            "type": "scatterternary"
           }
          ],
          "surface": [
           {
            "colorbar": {
             "outlinewidth": 0,
             "ticks": ""
            },
            "colorscale": [
             [
              0,
              "#0d0887"
             ],
             [
              0.1111111111111111,
              "#46039f"
             ],
             [
              0.2222222222222222,
              "#7201a8"
             ],
             [
              0.3333333333333333,
              "#9c179e"
             ],
             [
              0.4444444444444444,
              "#bd3786"
             ],
             [
              0.5555555555555556,
              "#d8576b"
             ],
             [
              0.6666666666666666,
              "#ed7953"
             ],
             [
              0.7777777777777778,
              "#fb9f3a"
             ],
             [
              0.8888888888888888,
              "#fdca26"
             ],
             [
              1,
              "#f0f921"
             ]
            ],
            "type": "surface"
           }
          ],
          "table": [
           {
            "cells": {
             "fill": {
              "color": "#EBF0F8"
             },
             "line": {
              "color": "white"
             }
            },
            "header": {
             "fill": {
              "color": "#C8D4E3"
             },
             "line": {
              "color": "white"
             }
            },
            "type": "table"
           }
          ]
         },
         "layout": {
          "annotationdefaults": {
           "arrowcolor": "#2a3f5f",
           "arrowhead": 0,
           "arrowwidth": 1
          },
          "coloraxis": {
           "colorbar": {
            "outlinewidth": 0,
            "ticks": ""
           }
          },
          "colorscale": {
           "diverging": [
            [
             0,
             "#8e0152"
            ],
            [
             0.1,
             "#c51b7d"
            ],
            [
             0.2,
             "#de77ae"
            ],
            [
             0.3,
             "#f1b6da"
            ],
            [
             0.4,
             "#fde0ef"
            ],
            [
             0.5,
             "#f7f7f7"
            ],
            [
             0.6,
             "#e6f5d0"
            ],
            [
             0.7,
             "#b8e186"
            ],
            [
             0.8,
             "#7fbc41"
            ],
            [
             0.9,
             "#4d9221"
            ],
            [
             1,
             "#276419"
            ]
           ],
           "sequential": [
            [
             0,
             "#0d0887"
            ],
            [
             0.1111111111111111,
             "#46039f"
            ],
            [
             0.2222222222222222,
             "#7201a8"
            ],
            [
             0.3333333333333333,
             "#9c179e"
            ],
            [
             0.4444444444444444,
             "#bd3786"
            ],
            [
             0.5555555555555556,
             "#d8576b"
            ],
            [
             0.6666666666666666,
             "#ed7953"
            ],
            [
             0.7777777777777778,
             "#fb9f3a"
            ],
            [
             0.8888888888888888,
             "#fdca26"
            ],
            [
             1,
             "#f0f921"
            ]
           ],
           "sequentialminus": [
            [
             0,
             "#0d0887"
            ],
            [
             0.1111111111111111,
             "#46039f"
            ],
            [
             0.2222222222222222,
             "#7201a8"
            ],
            [
             0.3333333333333333,
             "#9c179e"
            ],
            [
             0.4444444444444444,
             "#bd3786"
            ],
            [
             0.5555555555555556,
             "#d8576b"
            ],
            [
             0.6666666666666666,
             "#ed7953"
            ],
            [
             0.7777777777777778,
             "#fb9f3a"
            ],
            [
             0.8888888888888888,
             "#fdca26"
            ],
            [
             1,
             "#f0f921"
            ]
           ]
          },
          "colorway": [
           "#636efa",
           "#EF553B",
           "#00cc96",
           "#ab63fa",
           "#FFA15A",
           "#19d3f3",
           "#FF6692",
           "#B6E880",
           "#FF97FF",
           "#FECB52"
          ],
          "font": {
           "color": "#2a3f5f"
          },
          "geo": {
           "bgcolor": "white",
           "lakecolor": "white",
           "landcolor": "#E5ECF6",
           "showlakes": true,
           "showland": true,
           "subunitcolor": "white"
          },
          "hoverlabel": {
           "align": "left"
          },
          "hovermode": "closest",
          "mapbox": {
           "style": "light"
          },
          "paper_bgcolor": "white",
          "plot_bgcolor": "#E5ECF6",
          "polar": {
           "angularaxis": {
            "gridcolor": "white",
            "linecolor": "white",
            "ticks": ""
           },
           "bgcolor": "#E5ECF6",
           "radialaxis": {
            "gridcolor": "white",
            "linecolor": "white",
            "ticks": ""
           }
          },
          "scene": {
           "xaxis": {
            "backgroundcolor": "#E5ECF6",
            "gridcolor": "white",
            "gridwidth": 2,
            "linecolor": "white",
            "showbackground": true,
            "ticks": "",
            "zerolinecolor": "white"
           },
           "yaxis": {
            "backgroundcolor": "#E5ECF6",
            "gridcolor": "white",
            "gridwidth": 2,
            "linecolor": "white",
            "showbackground": true,
            "ticks": "",
            "zerolinecolor": "white"
           },
           "zaxis": {
            "backgroundcolor": "#E5ECF6",
            "gridcolor": "white",
            "gridwidth": 2,
            "linecolor": "white",
            "showbackground": true,
            "ticks": "",
            "zerolinecolor": "white"
           }
          },
          "shapedefaults": {
           "line": {
            "color": "#2a3f5f"
           }
          },
          "ternary": {
           "aaxis": {
            "gridcolor": "white",
            "linecolor": "white",
            "ticks": ""
           },
           "baxis": {
            "gridcolor": "white",
            "linecolor": "white",
            "ticks": ""
           },
           "bgcolor": "#E5ECF6",
           "caxis": {
            "gridcolor": "white",
            "linecolor": "white",
            "ticks": ""
           }
          },
          "title": {
           "x": 0.05
          },
          "xaxis": {
           "automargin": true,
           "gridcolor": "white",
           "linecolor": "white",
           "ticks": "",
           "title": {
            "standoff": 15
           },
           "zerolinecolor": "white",
           "zerolinewidth": 2
          },
          "yaxis": {
           "automargin": true,
           "gridcolor": "white",
           "linecolor": "white",
           "ticks": "",
           "title": {
            "standoff": 15
           },
           "zerolinecolor": "white",
           "zerolinewidth": 2
          }
         }
        },
        "title": {
         "font": {
          "color": "#4D5663"
         }
        },
        "xaxis": {
         "gridcolor": "#E1E5ED",
         "showgrid": true,
         "tickfont": {
          "color": "#4D5663"
         },
         "title": {
          "font": {
           "color": "#4D5663"
          },
          "text": ""
         },
         "zerolinecolor": "#E1E5ED"
        },
        "yaxis": {
         "gridcolor": "#E1E5ED",
         "showgrid": true,
         "tickfont": {
          "color": "#4D5663"
         },
         "title": {
          "font": {
           "color": "#4D5663"
          },
          "text": ""
         },
         "zerolinecolor": "#E1E5ED"
        }
       }
      },
      "text/html": [
       "<div>                            <div id=\"1f8a7ebd-be76-44ad-bbec-a8b500e4d09d\" class=\"plotly-graph-div\" style=\"height:525px; width:100%;\"></div>            <script type=\"text/javascript\">                require([\"plotly\"], function(Plotly) {                    window.PLOTLYENV=window.PLOTLYENV || {};\n",
       "                    window.PLOTLYENV.BASE_URL='https://plot.ly';                                    if (document.getElementById(\"1f8a7ebd-be76-44ad-bbec-a8b500e4d09d\")) {                    Plotly.newPlot(                        \"1f8a7ebd-be76-44ad-bbec-a8b500e4d09d\",                        [{\"boxpoints\": false, \"line\": {\"width\": 1.3}, \"marker\": {\"color\": \"rgba(255, 153, 51, 1.0)\"}, \"name\": \"A\", \"orientation\": \"v\", \"type\": \"box\", \"y\": [0.00645505412481479, -1.4397876348458365, 1.0708611347292805, 0.28406613516333, 0.058580630554189314, 0.8284319830137025, -0.42047449551545285, -0.09014078165929397, -1.3944631937012903, 0.05256359179847144, 0.0409425859720373, -1.0208810538666255, 1.147791416367246, 0.7658353585491399, -0.4910219172880578, -0.8721591983562276, -0.9005228723828286, -0.560157105001934, 0.3713100958842003, -1.2535692114404662, 0.6909564571551409, 0.1842453733842638, 1.1379399025401098, 1.1225527092582108, 2.566851668670725, -1.670807423685407, 1.94114639518042, -0.4715978936051285, -0.8163180921528749, -1.3536378264027218, -0.4147680876033762, -1.5047960860017953, -0.45073089384645704, -0.7269309668428034, 0.7071546103928739, -0.5733190517411629, -0.6254361093893777, -1.5979799108505073, 0.5170911382160981, 0.5990087994240142, -0.2713626986608739, 0.009040260923086347, -1.8660001972888383, 0.40229667838475697, 0.41585974272164616, -0.763893236346236, -0.34155596437332403, 0.9542846586183369, 1.0716615685885462, -0.060216026348868294, -1.1773224311305817, -0.9337797332054449, 0.1749212272955488, -0.4016088255929763, 1.5669389913415512, -0.8513635591410853, 0.5310694215184522, -0.2754033351060103, -1.0414551990670875, -1.3845691960246238, 0.11348281842005707, 1.3575087993749007, -0.3954770620305859, 0.676071850082259, 0.4705010649987572, -0.3790387735935101, -0.8495913010737675, 0.8382970974418101, -0.5153325311787621, -1.7022110786144058, 1.4655183248688948, 1.0520473235550596, -1.171272825456019, -0.7506656329216204, 0.7543814278344634, 0.25107938267119495, -0.5073680136495456, -0.65943015684561, 0.04797048723213697, 1.3725651550792377, 0.3377203852279814, 1.2690715670621149, 0.3721442232698379, 0.5626215355177316, -0.135971356264149, -1.0401702516300955, 0.2074595019498187, 0.6824824097281659, -1.2108413913024183, -0.14337649101770347, -0.15534252908565863, 1.8190769247613148, -1.2625189409980964, 1.0150403647301383, 0.5975471562017068, 0.7052928914556554, 0.7574383663343425, 0.3520597042626315, 0.12580990970060232, -1.371360391325017]}, {\"boxpoints\": false, \"line\": {\"width\": 1.3}, \"marker\": {\"color\": \"rgba(55, 128, 191, 1.0)\"}, \"name\": \"B\", \"orientation\": \"v\", \"type\": \"box\", \"y\": [0.3715414837853284, -0.1496899277411245, -0.4390213126824492, 1.6124578320777376, 0.11183836103323239, 1.458697253376567, 0.9643586012873291, 0.6670443200955786, -0.21265059534970032, -0.8636786417042411, 1.7871113503248284, -0.1447568525603548, 0.9351528782010953, 0.9625816992599668, -0.3733852727659238, -0.2822727071412232, -0.0358397051319197, 2.2130874225777575, 0.25326232890298495, -0.445997394922047, -0.12580352886153912, 0.821603670489078, -0.31317514756877424, -1.227443779918153, 0.08176459147203437, -0.13765985270634984, -1.1342575625974662, -0.6658897059835954, -0.8162034704460095, 0.8322541179478329, -2.3019121397506352, 0.22840969211373394, -0.09790587776093376, 0.8646965614406674, 0.8123971676173096, 0.09931126017752998, -0.2851236926891674, -0.6546008255239986, 0.34637604119215065, -0.08096229379499327, -1.0821639264456364, 0.7707047699604228, -0.3655827162038345, -0.8690899907167929, -1.62725903133252, 0.8473311747014874, 0.2243054275489603, 0.9160444771656323, -0.013671567941790488, 1.1756905044906398, 2.211644592878346, 2.6734963742744893, 2.403609725799866, -0.7828324585717606, -1.9352254812359753, 2.05781884631984, 0.22955750817913378, -1.41367971194844, -0.02222680289686833, -0.3265895253904034, -0.662586189934153, 0.34162075972823924, -1.7987978352472804, -2.164523510479693, -1.0226530080529086, 0.09527821901748883, -0.3735501240807589, -0.8341382892266959, -0.34868142809346037, 1.3620090274224168, 0.6831582769222206, -0.9704644017602544, 1.0850240034716527, 0.03189658005429582, 1.5597883688055845, -0.6942070267432159, -0.22882318437441995, 1.410449211516949, 1.3503691828085254, 0.1134970084477248, -0.4990774677156832, -1.4529230662123482, -0.6863896873450261, 0.7806907699913527, -0.4867880186501855, 0.9352865979372379, -0.5062252759718567, 0.5592357779532194, 0.6665247279587084, 0.7647459179575313, 0.4677285244089398, 1.0166663003685206, 1.0356066302371916, -0.44541082873479076, -0.040668349850732054, 0.5685074541670516, -1.167505710044138, -0.370685489323101, 0.7617607871230696, -0.34649327030204485]}, {\"boxpoints\": false, \"line\": {\"width\": 1.3}, \"marker\": {\"color\": \"rgba(50, 171, 96, 1.0)\"}, \"name\": \"C\", \"orientation\": \"v\", \"type\": \"box\", \"y\": [-0.8156211921936473, -0.3488054734179534, 1.3634652871830246, 0.6827654196928922, -1.0579817213633653, -0.9172741010318527, -1.0111454672320228, 2.1474195456264242, -0.029116717408046878, -0.10503227051826579, -1.8982085799443809, -0.061607126903382985, -1.461069514841389, -0.4159207500708357, 0.5428281012175966, -1.1064321564326451, 1.1818468571532845, -0.4997449331078411, 0.6513450257522175, -1.0096901464963166, 0.7777710862030701, 1.1156051451021982, -1.3963977721174032, -2.1957740562038897, -0.003082555605334334, -0.8711334400342721, -1.1721695448682867, 0.9015731399020005, -0.7687236581093563, 0.648912600414831, -0.3370999147061945, -0.2557289363041199, 1.3940022814140893, -1.0918291338075325, 0.926385756882171, -0.02699273090378049, -1.9310415085129753, -2.0537105543928087, 1.331393828819895, -1.2479264355796142, 1.3244176563546068, 0.4547765829735793, -0.9485957942455121, 0.7711272727493926, 0.10770503293463943, -0.34345388358808904, -0.2901651965788942, -1.8859801912106564, -0.06463771887301847, 0.7339329153613252, -2.9813490059807424, 0.49298111601570926, 2.089197422357034, 0.5485407093266145, -0.45294081667793284, -1.2343570095799694, -0.6043887454889516, 0.19698825224500555, 0.2525008929314805, 0.49330016796457193, -1.3296448063379627, -1.3199625654791716, -0.22952536088723396, -2.100923552982224, -1.2766272123803133, -0.0759219486515562, -1.3161580407429254, 0.06457107233952505, 0.11828851281676804, -0.1854970115502745, -0.6904859218641665, 0.9987015332368285, 1.0653613654646588, 0.30642527390970625, 0.005411555193580738, 0.46565443254592476, -0.5513607990797764, -0.6156892013681534, 1.0864651990406675, 1.2076925241549614, 0.02996839767387277, -0.014468892242910269, 2.314696376629038, 2.208168488408517, -1.3983413330991918, 0.8986343834667301, 0.9916299241963795, -0.20474753074899615, -0.2318152457813195, -0.41240495042251296, -1.5084220112468731, -0.2339935120152956, -0.6079408227599712, -0.09966875704636555, 0.23726828071761713, -1.7732192190847027, 0.28673585713418004, -0.7359231672703281, 0.14300452088914767, 1.6972975653855318]}, {\"boxpoints\": false, \"line\": {\"width\": 1.3}, \"marker\": {\"color\": \"rgba(128, 0, 128, 1.0)\"}, \"name\": \"D\", \"orientation\": \"v\", \"type\": \"box\", \"y\": [-0.46896793394847963, 0.9185701612631408, -0.9518353470364371, 0.48127796570390513, -1.3125227628679224, -0.6001985612883243, 1.2438374321973853, -1.0553928899948373, 0.7992286386403018, 0.6552228453687096, 1.531139173688056, -1.434972124639351, 0.5886176757481795, -0.3256784096497872, -0.2623819605419885, 0.8093293479850361, -0.33275476984830865, -0.2956276921472676, -0.16713256889711028, 0.18389720704075418, 0.6657691087241017, -1.4997126274775754, 0.8711561678776168, -0.8924685564325691, 0.6394678129395951, -1.196144615877988, 2.2614519074522, 0.11987585103470248, -2.579662215505832, -1.3178324834559312, 0.46948793870344907, -0.2210025562961031, 1.4552867861558016, 1.326246985282575, -0.054439587001145, 1.2706741490376032, 0.7484048322067663, 1.2710087859871775, 0.9447743157753115, 0.0917616016406183, -2.0969697544296864, -1.1217734741484078, -0.35986753254874787, 0.12035306348613169, -1.1902816920463186, -1.2966439417613633, -0.017967446036095795, 0.514611017485124, -1.4461382765586006, 1.01186070273958, 0.8879030485264665, 0.4676220911886453, 0.6228012943753499, -1.4207209081286396, 0.2867700005446423, -0.6139865568654482, -0.5415167711981378, -1.9858206491463257, 0.12723912891542727, -0.1793100802880613, 0.0037780088332585375, 1.3903163960561136, 1.5083085016459787, 0.3926357357086319, -0.9743888746263668, -0.9454377234958473, -0.8321414989740954, -1.620960244458763, -0.6017219998541727, -0.06238112948649538, 1.6954621456675467, 1.124584858797205, -1.15012884419011, -1.4364055469573436, 0.5664302863033238, 1.8332136136850243, -0.8089001901634655, 0.43902060972417456, 0.37600900785175306, -1.3948918928031053, -0.6904696137869282, 0.19589727243424596, -1.5300619443770898, -1.9477439997569757, -0.7048608070105993, 0.0030274862426587037, -0.3658721419657042, -0.027565836557152504, 0.46474856183842084, -0.4170025571275899, 0.5118024905797606, 0.022175819324665814, 0.07345976472766286, -0.6162389548458861, -0.546978786397993, 0.00893652800919723, -0.3826503977720516, 0.2771619614010083, 0.6072349321310275, 1.0624815146959694]}],                        {\"legend\": {\"bgcolor\": \"#F5F6F9\", \"font\": {\"color\": \"#4D5663\"}}, \"paper_bgcolor\": \"#F5F6F9\", \"plot_bgcolor\": \"#F5F6F9\", \"template\": {\"data\": {\"bar\": [{\"error_x\": {\"color\": \"#2a3f5f\"}, \"error_y\": {\"color\": \"#2a3f5f\"}, \"marker\": {\"line\": {\"color\": \"#E5ECF6\", \"width\": 0.5}}, \"type\": \"bar\"}], \"barpolar\": [{\"marker\": {\"line\": {\"color\": \"#E5ECF6\", \"width\": 0.5}}, \"type\": \"barpolar\"}], \"carpet\": [{\"aaxis\": {\"endlinecolor\": \"#2a3f5f\", \"gridcolor\": \"white\", \"linecolor\": \"white\", \"minorgridcolor\": \"white\", \"startlinecolor\": \"#2a3f5f\"}, \"baxis\": {\"endlinecolor\": \"#2a3f5f\", \"gridcolor\": \"white\", \"linecolor\": \"white\", \"minorgridcolor\": \"white\", \"startlinecolor\": \"#2a3f5f\"}, \"type\": \"carpet\"}], \"choropleth\": [{\"colorbar\": {\"outlinewidth\": 0, \"ticks\": \"\"}, \"type\": \"choropleth\"}], \"contour\": [{\"colorbar\": {\"outlinewidth\": 0, \"ticks\": \"\"}, \"colorscale\": [[0.0, \"#0d0887\"], [0.1111111111111111, \"#46039f\"], [0.2222222222222222, \"#7201a8\"], [0.3333333333333333, \"#9c179e\"], [0.4444444444444444, \"#bd3786\"], [0.5555555555555556, \"#d8576b\"], [0.6666666666666666, \"#ed7953\"], [0.7777777777777778, \"#fb9f3a\"], [0.8888888888888888, \"#fdca26\"], [1.0, \"#f0f921\"]], \"type\": \"contour\"}], \"contourcarpet\": [{\"colorbar\": {\"outlinewidth\": 0, \"ticks\": \"\"}, \"type\": \"contourcarpet\"}], \"heatmap\": [{\"colorbar\": {\"outlinewidth\": 0, \"ticks\": \"\"}, \"colorscale\": [[0.0, \"#0d0887\"], [0.1111111111111111, \"#46039f\"], [0.2222222222222222, \"#7201a8\"], [0.3333333333333333, \"#9c179e\"], [0.4444444444444444, \"#bd3786\"], [0.5555555555555556, \"#d8576b\"], [0.6666666666666666, \"#ed7953\"], [0.7777777777777778, \"#fb9f3a\"], [0.8888888888888888, \"#fdca26\"], [1.0, \"#f0f921\"]], \"type\": \"heatmap\"}], \"heatmapgl\": [{\"colorbar\": {\"outlinewidth\": 0, \"ticks\": \"\"}, \"colorscale\": [[0.0, \"#0d0887\"], [0.1111111111111111, \"#46039f\"], [0.2222222222222222, \"#7201a8\"], [0.3333333333333333, \"#9c179e\"], [0.4444444444444444, \"#bd3786\"], [0.5555555555555556, \"#d8576b\"], [0.6666666666666666, \"#ed7953\"], [0.7777777777777778, \"#fb9f3a\"], [0.8888888888888888, \"#fdca26\"], [1.0, \"#f0f921\"]], \"type\": \"heatmapgl\"}], \"histogram\": [{\"marker\": {\"colorbar\": {\"outlinewidth\": 0, \"ticks\": \"\"}}, \"type\": \"histogram\"}], \"histogram2d\": [{\"colorbar\": {\"outlinewidth\": 0, \"ticks\": \"\"}, \"colorscale\": [[0.0, \"#0d0887\"], [0.1111111111111111, \"#46039f\"], [0.2222222222222222, \"#7201a8\"], [0.3333333333333333, \"#9c179e\"], [0.4444444444444444, \"#bd3786\"], [0.5555555555555556, \"#d8576b\"], [0.6666666666666666, \"#ed7953\"], [0.7777777777777778, \"#fb9f3a\"], [0.8888888888888888, \"#fdca26\"], [1.0, \"#f0f921\"]], \"type\": \"histogram2d\"}], \"histogram2dcontour\": [{\"colorbar\": {\"outlinewidth\": 0, \"ticks\": \"\"}, \"colorscale\": [[0.0, \"#0d0887\"], [0.1111111111111111, \"#46039f\"], [0.2222222222222222, \"#7201a8\"], [0.3333333333333333, \"#9c179e\"], [0.4444444444444444, \"#bd3786\"], [0.5555555555555556, \"#d8576b\"], [0.6666666666666666, \"#ed7953\"], [0.7777777777777778, \"#fb9f3a\"], [0.8888888888888888, \"#fdca26\"], [1.0, \"#f0f921\"]], \"type\": \"histogram2dcontour\"}], \"mesh3d\": [{\"colorbar\": {\"outlinewidth\": 0, \"ticks\": \"\"}, \"type\": \"mesh3d\"}], \"parcoords\": [{\"line\": {\"colorbar\": {\"outlinewidth\": 0, \"ticks\": \"\"}}, \"type\": \"parcoords\"}], \"pie\": [{\"automargin\": true, \"type\": \"pie\"}], \"scatter\": [{\"marker\": {\"colorbar\": {\"outlinewidth\": 0, \"ticks\": \"\"}}, \"type\": \"scatter\"}], \"scatter3d\": [{\"line\": {\"colorbar\": {\"outlinewidth\": 0, \"ticks\": \"\"}}, \"marker\": {\"colorbar\": {\"outlinewidth\": 0, \"ticks\": \"\"}}, \"type\": \"scatter3d\"}], \"scattercarpet\": [{\"marker\": {\"colorbar\": {\"outlinewidth\": 0, \"ticks\": \"\"}}, \"type\": \"scattercarpet\"}], \"scattergeo\": [{\"marker\": {\"colorbar\": {\"outlinewidth\": 0, \"ticks\": \"\"}}, \"type\": \"scattergeo\"}], \"scattergl\": [{\"marker\": {\"colorbar\": {\"outlinewidth\": 0, \"ticks\": \"\"}}, \"type\": \"scattergl\"}], \"scattermapbox\": [{\"marker\": {\"colorbar\": {\"outlinewidth\": 0, \"ticks\": \"\"}}, \"type\": \"scattermapbox\"}], \"scatterpolar\": [{\"marker\": {\"colorbar\": {\"outlinewidth\": 0, \"ticks\": \"\"}}, \"type\": \"scatterpolar\"}], \"scatterpolargl\": [{\"marker\": {\"colorbar\": {\"outlinewidth\": 0, \"ticks\": \"\"}}, \"type\": \"scatterpolargl\"}], \"scatterternary\": [{\"marker\": {\"colorbar\": {\"outlinewidth\": 0, \"ticks\": \"\"}}, \"type\": \"scatterternary\"}], \"surface\": [{\"colorbar\": {\"outlinewidth\": 0, \"ticks\": \"\"}, \"colorscale\": [[0.0, \"#0d0887\"], [0.1111111111111111, \"#46039f\"], [0.2222222222222222, \"#7201a8\"], [0.3333333333333333, \"#9c179e\"], [0.4444444444444444, \"#bd3786\"], [0.5555555555555556, \"#d8576b\"], [0.6666666666666666, \"#ed7953\"], [0.7777777777777778, \"#fb9f3a\"], [0.8888888888888888, \"#fdca26\"], [1.0, \"#f0f921\"]], \"type\": \"surface\"}], \"table\": [{\"cells\": {\"fill\": {\"color\": \"#EBF0F8\"}, \"line\": {\"color\": \"white\"}}, \"header\": {\"fill\": {\"color\": \"#C8D4E3\"}, \"line\": {\"color\": \"white\"}}, \"type\": \"table\"}]}, \"layout\": {\"annotationdefaults\": {\"arrowcolor\": \"#2a3f5f\", \"arrowhead\": 0, \"arrowwidth\": 1}, \"coloraxis\": {\"colorbar\": {\"outlinewidth\": 0, \"ticks\": \"\"}}, \"colorscale\": {\"diverging\": [[0, \"#8e0152\"], [0.1, \"#c51b7d\"], [0.2, \"#de77ae\"], [0.3, \"#f1b6da\"], [0.4, \"#fde0ef\"], [0.5, \"#f7f7f7\"], [0.6, \"#e6f5d0\"], [0.7, \"#b8e186\"], [0.8, \"#7fbc41\"], [0.9, \"#4d9221\"], [1, \"#276419\"]], \"sequential\": [[0.0, \"#0d0887\"], [0.1111111111111111, \"#46039f\"], [0.2222222222222222, \"#7201a8\"], [0.3333333333333333, \"#9c179e\"], [0.4444444444444444, \"#bd3786\"], [0.5555555555555556, \"#d8576b\"], [0.6666666666666666, \"#ed7953\"], [0.7777777777777778, \"#fb9f3a\"], [0.8888888888888888, \"#fdca26\"], [1.0, \"#f0f921\"]], \"sequentialminus\": [[0.0, \"#0d0887\"], [0.1111111111111111, \"#46039f\"], [0.2222222222222222, \"#7201a8\"], [0.3333333333333333, \"#9c179e\"], [0.4444444444444444, \"#bd3786\"], [0.5555555555555556, \"#d8576b\"], [0.6666666666666666, \"#ed7953\"], [0.7777777777777778, \"#fb9f3a\"], [0.8888888888888888, \"#fdca26\"], [1.0, \"#f0f921\"]]}, \"colorway\": [\"#636efa\", \"#EF553B\", \"#00cc96\", \"#ab63fa\", \"#FFA15A\", \"#19d3f3\", \"#FF6692\", \"#B6E880\", \"#FF97FF\", \"#FECB52\"], \"font\": {\"color\": \"#2a3f5f\"}, \"geo\": {\"bgcolor\": \"white\", \"lakecolor\": \"white\", \"landcolor\": \"#E5ECF6\", \"showlakes\": true, \"showland\": true, \"subunitcolor\": \"white\"}, \"hoverlabel\": {\"align\": \"left\"}, \"hovermode\": \"closest\", \"mapbox\": {\"style\": \"light\"}, \"paper_bgcolor\": \"white\", \"plot_bgcolor\": \"#E5ECF6\", \"polar\": {\"angularaxis\": {\"gridcolor\": \"white\", \"linecolor\": \"white\", \"ticks\": \"\"}, \"bgcolor\": \"#E5ECF6\", \"radialaxis\": {\"gridcolor\": \"white\", \"linecolor\": \"white\", \"ticks\": \"\"}}, \"scene\": {\"xaxis\": {\"backgroundcolor\": \"#E5ECF6\", \"gridcolor\": \"white\", \"gridwidth\": 2, \"linecolor\": \"white\", \"showbackground\": true, \"ticks\": \"\", \"zerolinecolor\": \"white\"}, \"yaxis\": {\"backgroundcolor\": \"#E5ECF6\", \"gridcolor\": \"white\", \"gridwidth\": 2, \"linecolor\": \"white\", \"showbackground\": true, \"ticks\": \"\", \"zerolinecolor\": \"white\"}, \"zaxis\": {\"backgroundcolor\": \"#E5ECF6\", \"gridcolor\": \"white\", \"gridwidth\": 2, \"linecolor\": \"white\", \"showbackground\": true, \"ticks\": \"\", \"zerolinecolor\": \"white\"}}, \"shapedefaults\": {\"line\": {\"color\": \"#2a3f5f\"}}, \"ternary\": {\"aaxis\": {\"gridcolor\": \"white\", \"linecolor\": \"white\", \"ticks\": \"\"}, \"baxis\": {\"gridcolor\": \"white\", \"linecolor\": \"white\", \"ticks\": \"\"}, \"bgcolor\": \"#E5ECF6\", \"caxis\": {\"gridcolor\": \"white\", \"linecolor\": \"white\", \"ticks\": \"\"}}, \"title\": {\"x\": 0.05}, \"xaxis\": {\"automargin\": true, \"gridcolor\": \"white\", \"linecolor\": \"white\", \"ticks\": \"\", \"title\": {\"standoff\": 15}, \"zerolinecolor\": \"white\", \"zerolinewidth\": 2}, \"yaxis\": {\"automargin\": true, \"gridcolor\": \"white\", \"linecolor\": \"white\", \"ticks\": \"\", \"title\": {\"standoff\": 15}, \"zerolinecolor\": \"white\", \"zerolinewidth\": 2}}}, \"title\": {\"font\": {\"color\": \"#4D5663\"}}, \"xaxis\": {\"gridcolor\": \"#E1E5ED\", \"showgrid\": true, \"tickfont\": {\"color\": \"#4D5663\"}, \"title\": {\"font\": {\"color\": \"#4D5663\"}, \"text\": \"\"}, \"zerolinecolor\": \"#E1E5ED\"}, \"yaxis\": {\"gridcolor\": \"#E1E5ED\", \"showgrid\": true, \"tickfont\": {\"color\": \"#4D5663\"}, \"title\": {\"font\": {\"color\": \"#4D5663\"}, \"text\": \"\"}, \"zerolinecolor\": \"#E1E5ED\"}},                        {\"showLink\": true, \"linkText\": \"Export to plot.ly\", \"plotlyServerURL\": \"https://plot.ly\", \"responsive\": true}                    ).then(function(){\n",
       "                            \n",
       "var gd = document.getElementById('1f8a7ebd-be76-44ad-bbec-a8b500e4d09d');\n",
       "var x = new MutationObserver(function (mutations, observer) {{\n",
       "        var display = window.getComputedStyle(gd).display;\n",
       "        if (!display || display === 'none') {{\n",
       "            console.log([gd, 'removed!']);\n",
       "            Plotly.purge(gd);\n",
       "            observer.disconnect();\n",
       "        }}\n",
       "}});\n",
       "\n",
       "// Listen for the removal of the full notebook cells\n",
       "var notebookContainer = gd.closest('#notebook-container');\n",
       "if (notebookContainer) {{\n",
       "    x.observe(notebookContainer, {childList: true});\n",
       "}}\n",
       "\n",
       "// Listen for the clearing of the current output cell\n",
       "var outputEl = gd.closest('.output');\n",
       "if (outputEl) {{\n",
       "    x.observe(outputEl, {childList: true});\n",
       "}}\n",
       "\n",
       "                        })                };                });            </script>        </div>"
      ]
     },
     "metadata": {},
     "output_type": "display_data"
    }
   ],
   "source": [
    "# Create an interactive box plot\n",
    "df.iplot(kind='box')"
   ]
  },
  {
   "cell_type": "markdown",
   "metadata": {},
   "source": [
    "## 3D Surface Plots"
   ]
  },
  {
   "cell_type": "code",
   "execution_count": 21,
   "metadata": {},
   "outputs": [
    {
     "data": {
      "text/html": [
       "<div>\n",
       "<style scoped>\n",
       "    .dataframe tbody tr th:only-of-type {\n",
       "        vertical-align: middle;\n",
       "    }\n",
       "\n",
       "    .dataframe tbody tr th {\n",
       "        vertical-align: top;\n",
       "    }\n",
       "\n",
       "    .dataframe thead th {\n",
       "        text-align: right;\n",
       "    }\n",
       "</style>\n",
       "<table border=\"1\" class=\"dataframe\">\n",
       "  <thead>\n",
       "    <tr style=\"text-align: right;\">\n",
       "      <th></th>\n",
       "      <th>x</th>\n",
       "      <th>y</th>\n",
       "      <th>z</th>\n",
       "    </tr>\n",
       "  </thead>\n",
       "  <tbody>\n",
       "    <tr>\n",
       "      <th>0</th>\n",
       "      <td>1</td>\n",
       "      <td>10</td>\n",
       "      <td>500</td>\n",
       "    </tr>\n",
       "    <tr>\n",
       "      <th>1</th>\n",
       "      <td>2</td>\n",
       "      <td>20</td>\n",
       "      <td>400</td>\n",
       "    </tr>\n",
       "    <tr>\n",
       "      <th>2</th>\n",
       "      <td>3</td>\n",
       "      <td>30</td>\n",
       "      <td>300</td>\n",
       "    </tr>\n",
       "    <tr>\n",
       "      <th>3</th>\n",
       "      <td>4</td>\n",
       "      <td>20</td>\n",
       "      <td>200</td>\n",
       "    </tr>\n",
       "    <tr>\n",
       "      <th>4</th>\n",
       "      <td>5</td>\n",
       "      <td>10</td>\n",
       "      <td>100</td>\n",
       "    </tr>\n",
       "  </tbody>\n",
       "</table>\n",
       "</div>"
      ],
      "text/plain": [
       "   x   y    z\n",
       "0  1  10  500\n",
       "1  2  20  400\n",
       "2  3  30  300\n",
       "3  4  20  200\n",
       "4  5  10  100"
      ]
     },
     "execution_count": 21,
     "metadata": {},
     "output_type": "execute_result"
    }
   ],
   "source": [
    "# Generate data\n",
    "df3 = pd.DataFrame({'x':[1,2,3,4,5],'y':[10,20,30,20,10],'z':[500,400,300,200,100]})\n",
    "df3"
   ]
  },
  {
   "cell_type": "code",
   "execution_count": 22,
   "metadata": {},
   "outputs": [
    {
     "data": {
      "application/vnd.plotly.v1+json": {
       "config": {
        "linkText": "Export to plot.ly",
        "plotlyServerURL": "https://plot.ly",
        "showLink": true
       },
       "data": [
        {
         "colorscale": [
          [
           0,
           "rgb(255, 153, 51)"
          ],
          [
           0.1111111111111111,
           "rgb(55, 128, 191)"
          ],
          [
           0.2222222222222222,
           "rgb(50, 171, 96)"
          ],
          [
           0.3333333333333333,
           "rgb(128, 0, 128)"
          ],
          [
           0.4444444444444444,
           "rgb(219, 64, 82)"
          ],
          [
           0.5555555555555556,
           "rgb(0, 128, 128)"
          ],
          [
           0.6666666666666666,
           "rgb(255, 255, 51)"
          ],
          [
           0.7777777777777778,
           "rgb(128, 128, 0)"
          ],
          [
           0.8888888888888888,
           "rgb(251, 128, 114)"
          ],
          [
           1,
           "rgb(128, 177, 211)"
          ]
         ],
         "type": "surface",
         "x": [
          0,
          1,
          2,
          3,
          4
         ],
         "y": [
          "x",
          "y",
          "z"
         ],
         "z": [
          [
           1,
           2,
           3,
           4,
           5
          ],
          [
           10,
           20,
           30,
           20,
           10
          ],
          [
           500,
           400,
           300,
           200,
           100
          ]
         ]
        }
       ],
       "layout": {
        "legend": {
         "bgcolor": "#F5F6F9",
         "font": {
          "color": "#4D5663"
         }
        },
        "paper_bgcolor": "#F5F6F9",
        "plot_bgcolor": "#F5F6F9",
        "template": {
         "data": {
          "bar": [
           {
            "error_x": {
             "color": "#2a3f5f"
            },
            "error_y": {
             "color": "#2a3f5f"
            },
            "marker": {
             "line": {
              "color": "#E5ECF6",
              "width": 0.5
             }
            },
            "type": "bar"
           }
          ],
          "barpolar": [
           {
            "marker": {
             "line": {
              "color": "#E5ECF6",
              "width": 0.5
             }
            },
            "type": "barpolar"
           }
          ],
          "carpet": [
           {
            "aaxis": {
             "endlinecolor": "#2a3f5f",
             "gridcolor": "white",
             "linecolor": "white",
             "minorgridcolor": "white",
             "startlinecolor": "#2a3f5f"
            },
            "baxis": {
             "endlinecolor": "#2a3f5f",
             "gridcolor": "white",
             "linecolor": "white",
             "minorgridcolor": "white",
             "startlinecolor": "#2a3f5f"
            },
            "type": "carpet"
           }
          ],
          "choropleth": [
           {
            "colorbar": {
             "outlinewidth": 0,
             "ticks": ""
            },
            "type": "choropleth"
           }
          ],
          "contour": [
           {
            "colorbar": {
             "outlinewidth": 0,
             "ticks": ""
            },
            "colorscale": [
             [
              0,
              "#0d0887"
             ],
             [
              0.1111111111111111,
              "#46039f"
             ],
             [
              0.2222222222222222,
              "#7201a8"
             ],
             [
              0.3333333333333333,
              "#9c179e"
             ],
             [
              0.4444444444444444,
              "#bd3786"
             ],
             [
              0.5555555555555556,
              "#d8576b"
             ],
             [
              0.6666666666666666,
              "#ed7953"
             ],
             [
              0.7777777777777778,
              "#fb9f3a"
             ],
             [
              0.8888888888888888,
              "#fdca26"
             ],
             [
              1,
              "#f0f921"
             ]
            ],
            "type": "contour"
           }
          ],
          "contourcarpet": [
           {
            "colorbar": {
             "outlinewidth": 0,
             "ticks": ""
            },
            "type": "contourcarpet"
           }
          ],
          "heatmap": [
           {
            "colorbar": {
             "outlinewidth": 0,
             "ticks": ""
            },
            "colorscale": [
             [
              0,
              "#0d0887"
             ],
             [
              0.1111111111111111,
              "#46039f"
             ],
             [
              0.2222222222222222,
              "#7201a8"
             ],
             [
              0.3333333333333333,
              "#9c179e"
             ],
             [
              0.4444444444444444,
              "#bd3786"
             ],
             [
              0.5555555555555556,
              "#d8576b"
             ],
             [
              0.6666666666666666,
              "#ed7953"
             ],
             [
              0.7777777777777778,
              "#fb9f3a"
             ],
             [
              0.8888888888888888,
              "#fdca26"
             ],
             [
              1,
              "#f0f921"
             ]
            ],
            "type": "heatmap"
           }
          ],
          "heatmapgl": [
           {
            "colorbar": {
             "outlinewidth": 0,
             "ticks": ""
            },
            "colorscale": [
             [
              0,
              "#0d0887"
             ],
             [
              0.1111111111111111,
              "#46039f"
             ],
             [
              0.2222222222222222,
              "#7201a8"
             ],
             [
              0.3333333333333333,
              "#9c179e"
             ],
             [
              0.4444444444444444,
              "#bd3786"
             ],
             [
              0.5555555555555556,
              "#d8576b"
             ],
             [
              0.6666666666666666,
              "#ed7953"
             ],
             [
              0.7777777777777778,
              "#fb9f3a"
             ],
             [
              0.8888888888888888,
              "#fdca26"
             ],
             [
              1,
              "#f0f921"
             ]
            ],
            "type": "heatmapgl"
           }
          ],
          "histogram": [
           {
            "marker": {
             "colorbar": {
              "outlinewidth": 0,
              "ticks": ""
             }
            },
            "type": "histogram"
           }
          ],
          "histogram2d": [
           {
            "colorbar": {
             "outlinewidth": 0,
             "ticks": ""
            },
            "colorscale": [
             [
              0,
              "#0d0887"
             ],
             [
              0.1111111111111111,
              "#46039f"
             ],
             [
              0.2222222222222222,
              "#7201a8"
             ],
             [
              0.3333333333333333,
              "#9c179e"
             ],
             [
              0.4444444444444444,
              "#bd3786"
             ],
             [
              0.5555555555555556,
              "#d8576b"
             ],
             [
              0.6666666666666666,
              "#ed7953"
             ],
             [
              0.7777777777777778,
              "#fb9f3a"
             ],
             [
              0.8888888888888888,
              "#fdca26"
             ],
             [
              1,
              "#f0f921"
             ]
            ],
            "type": "histogram2d"
           }
          ],
          "histogram2dcontour": [
           {
            "colorbar": {
             "outlinewidth": 0,
             "ticks": ""
            },
            "colorscale": [
             [
              0,
              "#0d0887"
             ],
             [
              0.1111111111111111,
              "#46039f"
             ],
             [
              0.2222222222222222,
              "#7201a8"
             ],
             [
              0.3333333333333333,
              "#9c179e"
             ],
             [
              0.4444444444444444,
              "#bd3786"
             ],
             [
              0.5555555555555556,
              "#d8576b"
             ],
             [
              0.6666666666666666,
              "#ed7953"
             ],
             [
              0.7777777777777778,
              "#fb9f3a"
             ],
             [
              0.8888888888888888,
              "#fdca26"
             ],
             [
              1,
              "#f0f921"
             ]
            ],
            "type": "histogram2dcontour"
           }
          ],
          "mesh3d": [
           {
            "colorbar": {
             "outlinewidth": 0,
             "ticks": ""
            },
            "type": "mesh3d"
           }
          ],
          "parcoords": [
           {
            "line": {
             "colorbar": {
              "outlinewidth": 0,
              "ticks": ""
             }
            },
            "type": "parcoords"
           }
          ],
          "pie": [
           {
            "automargin": true,
            "type": "pie"
           }
          ],
          "scatter": [
           {
            "marker": {
             "colorbar": {
              "outlinewidth": 0,
              "ticks": ""
             }
            },
            "type": "scatter"
           }
          ],
          "scatter3d": [
           {
            "line": {
             "colorbar": {
              "outlinewidth": 0,
              "ticks": ""
             }
            },
            "marker": {
             "colorbar": {
              "outlinewidth": 0,
              "ticks": ""
             }
            },
            "type": "scatter3d"
           }
          ],
          "scattercarpet": [
           {
            "marker": {
             "colorbar": {
              "outlinewidth": 0,
              "ticks": ""
             }
            },
            "type": "scattercarpet"
           }
          ],
          "scattergeo": [
           {
            "marker": {
             "colorbar": {
              "outlinewidth": 0,
              "ticks": ""
             }
            },
            "type": "scattergeo"
           }
          ],
          "scattergl": [
           {
            "marker": {
             "colorbar": {
              "outlinewidth": 0,
              "ticks": ""
             }
            },
            "type": "scattergl"
           }
          ],
          "scattermapbox": [
           {
            "marker": {
             "colorbar": {
              "outlinewidth": 0,
              "ticks": ""
             }
            },
            "type": "scattermapbox"
           }
          ],
          "scatterpolar": [
           {
            "marker": {
             "colorbar": {
              "outlinewidth": 0,
              "ticks": ""
             }
            },
            "type": "scatterpolar"
           }
          ],
          "scatterpolargl": [
           {
            "marker": {
             "colorbar": {
              "outlinewidth": 0,
              "ticks": ""
             }
            },
            "type": "scatterpolargl"
           }
          ],
          "scatterternary": [
           {
            "marker": {
             "colorbar": {
              "outlinewidth": 0,
              "ticks": ""
             }
            },
            "type": "scatterternary"
           }
          ],
          "surface": [
           {
            "colorbar": {
             "outlinewidth": 0,
             "ticks": ""
            },
            "colorscale": [
             [
              0,
              "#0d0887"
             ],
             [
              0.1111111111111111,
              "#46039f"
             ],
             [
              0.2222222222222222,
              "#7201a8"
             ],
             [
              0.3333333333333333,
              "#9c179e"
             ],
             [
              0.4444444444444444,
              "#bd3786"
             ],
             [
              0.5555555555555556,
              "#d8576b"
             ],
             [
              0.6666666666666666,
              "#ed7953"
             ],
             [
              0.7777777777777778,
              "#fb9f3a"
             ],
             [
              0.8888888888888888,
              "#fdca26"
             ],
             [
              1,
              "#f0f921"
             ]
            ],
            "type": "surface"
           }
          ],
          "table": [
           {
            "cells": {
             "fill": {
              "color": "#EBF0F8"
             },
             "line": {
              "color": "white"
             }
            },
            "header": {
             "fill": {
              "color": "#C8D4E3"
             },
             "line": {
              "color": "white"
             }
            },
            "type": "table"
           }
          ]
         },
         "layout": {
          "annotationdefaults": {
           "arrowcolor": "#2a3f5f",
           "arrowhead": 0,
           "arrowwidth": 1
          },
          "coloraxis": {
           "colorbar": {
            "outlinewidth": 0,
            "ticks": ""
           }
          },
          "colorscale": {
           "diverging": [
            [
             0,
             "#8e0152"
            ],
            [
             0.1,
             "#c51b7d"
            ],
            [
             0.2,
             "#de77ae"
            ],
            [
             0.3,
             "#f1b6da"
            ],
            [
             0.4,
             "#fde0ef"
            ],
            [
             0.5,
             "#f7f7f7"
            ],
            [
             0.6,
             "#e6f5d0"
            ],
            [
             0.7,
             "#b8e186"
            ],
            [
             0.8,
             "#7fbc41"
            ],
            [
             0.9,
             "#4d9221"
            ],
            [
             1,
             "#276419"
            ]
           ],
           "sequential": [
            [
             0,
             "#0d0887"
            ],
            [
             0.1111111111111111,
             "#46039f"
            ],
            [
             0.2222222222222222,
             "#7201a8"
            ],
            [
             0.3333333333333333,
             "#9c179e"
            ],
            [
             0.4444444444444444,
             "#bd3786"
            ],
            [
             0.5555555555555556,
             "#d8576b"
            ],
            [
             0.6666666666666666,
             "#ed7953"
            ],
            [
             0.7777777777777778,
             "#fb9f3a"
            ],
            [
             0.8888888888888888,
             "#fdca26"
            ],
            [
             1,
             "#f0f921"
            ]
           ],
           "sequentialminus": [
            [
             0,
             "#0d0887"
            ],
            [
             0.1111111111111111,
             "#46039f"
            ],
            [
             0.2222222222222222,
             "#7201a8"
            ],
            [
             0.3333333333333333,
             "#9c179e"
            ],
            [
             0.4444444444444444,
             "#bd3786"
            ],
            [
             0.5555555555555556,
             "#d8576b"
            ],
            [
             0.6666666666666666,
             "#ed7953"
            ],
            [
             0.7777777777777778,
             "#fb9f3a"
            ],
            [
             0.8888888888888888,
             "#fdca26"
            ],
            [
             1,
             "#f0f921"
            ]
           ]
          },
          "colorway": [
           "#636efa",
           "#EF553B",
           "#00cc96",
           "#ab63fa",
           "#FFA15A",
           "#19d3f3",
           "#FF6692",
           "#B6E880",
           "#FF97FF",
           "#FECB52"
          ],
          "font": {
           "color": "#2a3f5f"
          },
          "geo": {
           "bgcolor": "white",
           "lakecolor": "white",
           "landcolor": "#E5ECF6",
           "showlakes": true,
           "showland": true,
           "subunitcolor": "white"
          },
          "hoverlabel": {
           "align": "left"
          },
          "hovermode": "closest",
          "mapbox": {
           "style": "light"
          },
          "paper_bgcolor": "white",
          "plot_bgcolor": "#E5ECF6",
          "polar": {
           "angularaxis": {
            "gridcolor": "white",
            "linecolor": "white",
            "ticks": ""
           },
           "bgcolor": "#E5ECF6",
           "radialaxis": {
            "gridcolor": "white",
            "linecolor": "white",
            "ticks": ""
           }
          },
          "scene": {
           "xaxis": {
            "backgroundcolor": "#E5ECF6",
            "gridcolor": "white",
            "gridwidth": 2,
            "linecolor": "white",
            "showbackground": true,
            "ticks": "",
            "zerolinecolor": "white"
           },
           "yaxis": {
            "backgroundcolor": "#E5ECF6",
            "gridcolor": "white",
            "gridwidth": 2,
            "linecolor": "white",
            "showbackground": true,
            "ticks": "",
            "zerolinecolor": "white"
           },
           "zaxis": {
            "backgroundcolor": "#E5ECF6",
            "gridcolor": "white",
            "gridwidth": 2,
            "linecolor": "white",
            "showbackground": true,
            "ticks": "",
            "zerolinecolor": "white"
           }
          },
          "shapedefaults": {
           "line": {
            "color": "#2a3f5f"
           }
          },
          "ternary": {
           "aaxis": {
            "gridcolor": "white",
            "linecolor": "white",
            "ticks": ""
           },
           "baxis": {
            "gridcolor": "white",
            "linecolor": "white",
            "ticks": ""
           },
           "bgcolor": "#E5ECF6",
           "caxis": {
            "gridcolor": "white",
            "linecolor": "white",
            "ticks": ""
           }
          },
          "title": {
           "x": 0.05
          },
          "xaxis": {
           "automargin": true,
           "gridcolor": "white",
           "linecolor": "white",
           "ticks": "",
           "title": {
            "standoff": 15
           },
           "zerolinecolor": "white",
           "zerolinewidth": 2
          },
          "yaxis": {
           "automargin": true,
           "gridcolor": "white",
           "linecolor": "white",
           "ticks": "",
           "title": {
            "standoff": 15
           },
           "zerolinecolor": "white",
           "zerolinewidth": 2
          }
         }
        },
        "title": {
         "font": {
          "color": "#4D5663"
         }
        },
        "xaxis": {
         "gridcolor": "#E1E5ED",
         "showgrid": true,
         "tickfont": {
          "color": "#4D5663"
         },
         "title": {
          "font": {
           "color": "#4D5663"
          },
          "text": ""
         },
         "zerolinecolor": "#E1E5ED"
        },
        "yaxis": {
         "gridcolor": "#E1E5ED",
         "showgrid": true,
         "tickfont": {
          "color": "#4D5663"
         },
         "title": {
          "font": {
           "color": "#4D5663"
          },
          "text": ""
         },
         "zerolinecolor": "#E1E5ED"
        }
       }
      },
      "text/html": [
       "<div>                            <div id=\"bc2e8094-88c6-4a9d-886f-6a1cfe0a6c31\" class=\"plotly-graph-div\" style=\"height:525px; width:100%;\"></div>            <script type=\"text/javascript\">                require([\"plotly\"], function(Plotly) {                    window.PLOTLYENV=window.PLOTLYENV || {};\n",
       "                    window.PLOTLYENV.BASE_URL='https://plot.ly';                                    if (document.getElementById(\"bc2e8094-88c6-4a9d-886f-6a1cfe0a6c31\")) {                    Plotly.newPlot(                        \"bc2e8094-88c6-4a9d-886f-6a1cfe0a6c31\",                        [{\"colorscale\": [[0.0, \"rgb(255, 153, 51)\"], [0.1111111111111111, \"rgb(55, 128, 191)\"], [0.2222222222222222, \"rgb(50, 171, 96)\"], [0.3333333333333333, \"rgb(128, 0, 128)\"], [0.4444444444444444, \"rgb(219, 64, 82)\"], [0.5555555555555556, \"rgb(0, 128, 128)\"], [0.6666666666666666, \"rgb(255, 255, 51)\"], [0.7777777777777778, \"rgb(128, 128, 0)\"], [0.8888888888888888, \"rgb(251, 128, 114)\"], [1.0, \"rgb(128, 177, 211)\"]], \"type\": \"surface\", \"x\": [0, 1, 2, 3, 4], \"y\": [\"x\", \"y\", \"z\"], \"z\": [[1, 2, 3, 4, 5], [10, 20, 30, 20, 10], [500, 400, 300, 200, 100]]}],                        {\"legend\": {\"bgcolor\": \"#F5F6F9\", \"font\": {\"color\": \"#4D5663\"}}, \"paper_bgcolor\": \"#F5F6F9\", \"plot_bgcolor\": \"#F5F6F9\", \"template\": {\"data\": {\"bar\": [{\"error_x\": {\"color\": \"#2a3f5f\"}, \"error_y\": {\"color\": \"#2a3f5f\"}, \"marker\": {\"line\": {\"color\": \"#E5ECF6\", \"width\": 0.5}}, \"type\": \"bar\"}], \"barpolar\": [{\"marker\": {\"line\": {\"color\": \"#E5ECF6\", \"width\": 0.5}}, \"type\": \"barpolar\"}], \"carpet\": [{\"aaxis\": {\"endlinecolor\": \"#2a3f5f\", \"gridcolor\": \"white\", \"linecolor\": \"white\", \"minorgridcolor\": \"white\", \"startlinecolor\": \"#2a3f5f\"}, \"baxis\": {\"endlinecolor\": \"#2a3f5f\", \"gridcolor\": \"white\", \"linecolor\": \"white\", \"minorgridcolor\": \"white\", \"startlinecolor\": \"#2a3f5f\"}, \"type\": \"carpet\"}], \"choropleth\": [{\"colorbar\": {\"outlinewidth\": 0, \"ticks\": \"\"}, \"type\": \"choropleth\"}], \"contour\": [{\"colorbar\": {\"outlinewidth\": 0, \"ticks\": \"\"}, \"colorscale\": [[0.0, \"#0d0887\"], [0.1111111111111111, \"#46039f\"], [0.2222222222222222, \"#7201a8\"], [0.3333333333333333, \"#9c179e\"], [0.4444444444444444, \"#bd3786\"], [0.5555555555555556, \"#d8576b\"], [0.6666666666666666, \"#ed7953\"], [0.7777777777777778, \"#fb9f3a\"], [0.8888888888888888, \"#fdca26\"], [1.0, \"#f0f921\"]], \"type\": \"contour\"}], \"contourcarpet\": [{\"colorbar\": {\"outlinewidth\": 0, \"ticks\": \"\"}, \"type\": \"contourcarpet\"}], \"heatmap\": [{\"colorbar\": {\"outlinewidth\": 0, \"ticks\": \"\"}, \"colorscale\": [[0.0, \"#0d0887\"], [0.1111111111111111, \"#46039f\"], [0.2222222222222222, \"#7201a8\"], [0.3333333333333333, \"#9c179e\"], [0.4444444444444444, \"#bd3786\"], [0.5555555555555556, \"#d8576b\"], [0.6666666666666666, \"#ed7953\"], [0.7777777777777778, \"#fb9f3a\"], [0.8888888888888888, \"#fdca26\"], [1.0, \"#f0f921\"]], \"type\": \"heatmap\"}], \"heatmapgl\": [{\"colorbar\": {\"outlinewidth\": 0, \"ticks\": \"\"}, \"colorscale\": [[0.0, \"#0d0887\"], [0.1111111111111111, \"#46039f\"], [0.2222222222222222, \"#7201a8\"], [0.3333333333333333, \"#9c179e\"], [0.4444444444444444, \"#bd3786\"], [0.5555555555555556, \"#d8576b\"], [0.6666666666666666, \"#ed7953\"], [0.7777777777777778, \"#fb9f3a\"], [0.8888888888888888, \"#fdca26\"], [1.0, \"#f0f921\"]], \"type\": \"heatmapgl\"}], \"histogram\": [{\"marker\": {\"colorbar\": {\"outlinewidth\": 0, \"ticks\": \"\"}}, \"type\": \"histogram\"}], \"histogram2d\": [{\"colorbar\": {\"outlinewidth\": 0, \"ticks\": \"\"}, \"colorscale\": [[0.0, \"#0d0887\"], [0.1111111111111111, \"#46039f\"], [0.2222222222222222, \"#7201a8\"], [0.3333333333333333, \"#9c179e\"], [0.4444444444444444, \"#bd3786\"], [0.5555555555555556, \"#d8576b\"], [0.6666666666666666, \"#ed7953\"], [0.7777777777777778, \"#fb9f3a\"], [0.8888888888888888, \"#fdca26\"], [1.0, \"#f0f921\"]], \"type\": \"histogram2d\"}], \"histogram2dcontour\": [{\"colorbar\": {\"outlinewidth\": 0, \"ticks\": \"\"}, \"colorscale\": [[0.0, \"#0d0887\"], [0.1111111111111111, \"#46039f\"], [0.2222222222222222, \"#7201a8\"], [0.3333333333333333, \"#9c179e\"], [0.4444444444444444, \"#bd3786\"], [0.5555555555555556, \"#d8576b\"], [0.6666666666666666, \"#ed7953\"], [0.7777777777777778, \"#fb9f3a\"], [0.8888888888888888, \"#fdca26\"], [1.0, \"#f0f921\"]], \"type\": \"histogram2dcontour\"}], \"mesh3d\": [{\"colorbar\": {\"outlinewidth\": 0, \"ticks\": \"\"}, \"type\": \"mesh3d\"}], \"parcoords\": [{\"line\": {\"colorbar\": {\"outlinewidth\": 0, \"ticks\": \"\"}}, \"type\": \"parcoords\"}], \"pie\": [{\"automargin\": true, \"type\": \"pie\"}], \"scatter\": [{\"marker\": {\"colorbar\": {\"outlinewidth\": 0, \"ticks\": \"\"}}, \"type\": \"scatter\"}], \"scatter3d\": [{\"line\": {\"colorbar\": {\"outlinewidth\": 0, \"ticks\": \"\"}}, \"marker\": {\"colorbar\": {\"outlinewidth\": 0, \"ticks\": \"\"}}, \"type\": \"scatter3d\"}], \"scattercarpet\": [{\"marker\": {\"colorbar\": {\"outlinewidth\": 0, \"ticks\": \"\"}}, \"type\": \"scattercarpet\"}], \"scattergeo\": [{\"marker\": {\"colorbar\": {\"outlinewidth\": 0, \"ticks\": \"\"}}, \"type\": \"scattergeo\"}], \"scattergl\": [{\"marker\": {\"colorbar\": {\"outlinewidth\": 0, \"ticks\": \"\"}}, \"type\": \"scattergl\"}], \"scattermapbox\": [{\"marker\": {\"colorbar\": {\"outlinewidth\": 0, \"ticks\": \"\"}}, \"type\": \"scattermapbox\"}], \"scatterpolar\": [{\"marker\": {\"colorbar\": {\"outlinewidth\": 0, \"ticks\": \"\"}}, \"type\": \"scatterpolar\"}], \"scatterpolargl\": [{\"marker\": {\"colorbar\": {\"outlinewidth\": 0, \"ticks\": \"\"}}, \"type\": \"scatterpolargl\"}], \"scatterternary\": [{\"marker\": {\"colorbar\": {\"outlinewidth\": 0, \"ticks\": \"\"}}, \"type\": \"scatterternary\"}], \"surface\": [{\"colorbar\": {\"outlinewidth\": 0, \"ticks\": \"\"}, \"colorscale\": [[0.0, \"#0d0887\"], [0.1111111111111111, \"#46039f\"], [0.2222222222222222, \"#7201a8\"], [0.3333333333333333, \"#9c179e\"], [0.4444444444444444, \"#bd3786\"], [0.5555555555555556, \"#d8576b\"], [0.6666666666666666, \"#ed7953\"], [0.7777777777777778, \"#fb9f3a\"], [0.8888888888888888, \"#fdca26\"], [1.0, \"#f0f921\"]], \"type\": \"surface\"}], \"table\": [{\"cells\": {\"fill\": {\"color\": \"#EBF0F8\"}, \"line\": {\"color\": \"white\"}}, \"header\": {\"fill\": {\"color\": \"#C8D4E3\"}, \"line\": {\"color\": \"white\"}}, \"type\": \"table\"}]}, \"layout\": {\"annotationdefaults\": {\"arrowcolor\": \"#2a3f5f\", \"arrowhead\": 0, \"arrowwidth\": 1}, \"coloraxis\": {\"colorbar\": {\"outlinewidth\": 0, \"ticks\": \"\"}}, \"colorscale\": {\"diverging\": [[0, \"#8e0152\"], [0.1, \"#c51b7d\"], [0.2, \"#de77ae\"], [0.3, \"#f1b6da\"], [0.4, \"#fde0ef\"], [0.5, \"#f7f7f7\"], [0.6, \"#e6f5d0\"], [0.7, \"#b8e186\"], [0.8, \"#7fbc41\"], [0.9, \"#4d9221\"], [1, \"#276419\"]], \"sequential\": [[0.0, \"#0d0887\"], [0.1111111111111111, \"#46039f\"], [0.2222222222222222, \"#7201a8\"], [0.3333333333333333, \"#9c179e\"], [0.4444444444444444, \"#bd3786\"], [0.5555555555555556, \"#d8576b\"], [0.6666666666666666, \"#ed7953\"], [0.7777777777777778, \"#fb9f3a\"], [0.8888888888888888, \"#fdca26\"], [1.0, \"#f0f921\"]], \"sequentialminus\": [[0.0, \"#0d0887\"], [0.1111111111111111, \"#46039f\"], [0.2222222222222222, \"#7201a8\"], [0.3333333333333333, \"#9c179e\"], [0.4444444444444444, \"#bd3786\"], [0.5555555555555556, \"#d8576b\"], [0.6666666666666666, \"#ed7953\"], [0.7777777777777778, \"#fb9f3a\"], [0.8888888888888888, \"#fdca26\"], [1.0, \"#f0f921\"]]}, \"colorway\": [\"#636efa\", \"#EF553B\", \"#00cc96\", \"#ab63fa\", \"#FFA15A\", \"#19d3f3\", \"#FF6692\", \"#B6E880\", \"#FF97FF\", \"#FECB52\"], \"font\": {\"color\": \"#2a3f5f\"}, \"geo\": {\"bgcolor\": \"white\", \"lakecolor\": \"white\", \"landcolor\": \"#E5ECF6\", \"showlakes\": true, \"showland\": true, \"subunitcolor\": \"white\"}, \"hoverlabel\": {\"align\": \"left\"}, \"hovermode\": \"closest\", \"mapbox\": {\"style\": \"light\"}, \"paper_bgcolor\": \"white\", \"plot_bgcolor\": \"#E5ECF6\", \"polar\": {\"angularaxis\": {\"gridcolor\": \"white\", \"linecolor\": \"white\", \"ticks\": \"\"}, \"bgcolor\": \"#E5ECF6\", \"radialaxis\": {\"gridcolor\": \"white\", \"linecolor\": \"white\", \"ticks\": \"\"}}, \"scene\": {\"xaxis\": {\"backgroundcolor\": \"#E5ECF6\", \"gridcolor\": \"white\", \"gridwidth\": 2, \"linecolor\": \"white\", \"showbackground\": true, \"ticks\": \"\", \"zerolinecolor\": \"white\"}, \"yaxis\": {\"backgroundcolor\": \"#E5ECF6\", \"gridcolor\": \"white\", \"gridwidth\": 2, \"linecolor\": \"white\", \"showbackground\": true, \"ticks\": \"\", \"zerolinecolor\": \"white\"}, \"zaxis\": {\"backgroundcolor\": \"#E5ECF6\", \"gridcolor\": \"white\", \"gridwidth\": 2, \"linecolor\": \"white\", \"showbackground\": true, \"ticks\": \"\", \"zerolinecolor\": \"white\"}}, \"shapedefaults\": {\"line\": {\"color\": \"#2a3f5f\"}}, \"ternary\": {\"aaxis\": {\"gridcolor\": \"white\", \"linecolor\": \"white\", \"ticks\": \"\"}, \"baxis\": {\"gridcolor\": \"white\", \"linecolor\": \"white\", \"ticks\": \"\"}, \"bgcolor\": \"#E5ECF6\", \"caxis\": {\"gridcolor\": \"white\", \"linecolor\": \"white\", \"ticks\": \"\"}}, \"title\": {\"x\": 0.05}, \"xaxis\": {\"automargin\": true, \"gridcolor\": \"white\", \"linecolor\": \"white\", \"ticks\": \"\", \"title\": {\"standoff\": 15}, \"zerolinecolor\": \"white\", \"zerolinewidth\": 2}, \"yaxis\": {\"automargin\": true, \"gridcolor\": \"white\", \"linecolor\": \"white\", \"ticks\": \"\", \"title\": {\"standoff\": 15}, \"zerolinecolor\": \"white\", \"zerolinewidth\": 2}}}, \"title\": {\"font\": {\"color\": \"#4D5663\"}}, \"xaxis\": {\"gridcolor\": \"#E1E5ED\", \"showgrid\": true, \"tickfont\": {\"color\": \"#4D5663\"}, \"title\": {\"font\": {\"color\": \"#4D5663\"}, \"text\": \"\"}, \"zerolinecolor\": \"#E1E5ED\"}, \"yaxis\": {\"gridcolor\": \"#E1E5ED\", \"showgrid\": true, \"tickfont\": {\"color\": \"#4D5663\"}, \"title\": {\"font\": {\"color\": \"#4D5663\"}, \"text\": \"\"}, \"zerolinecolor\": \"#E1E5ED\"}},                        {\"showLink\": true, \"linkText\": \"Export to plot.ly\", \"plotlyServerURL\": \"https://plot.ly\", \"responsive\": true}                    ).then(function(){\n",
       "                            \n",
       "var gd = document.getElementById('bc2e8094-88c6-4a9d-886f-6a1cfe0a6c31');\n",
       "var x = new MutationObserver(function (mutations, observer) {{\n",
       "        var display = window.getComputedStyle(gd).display;\n",
       "        if (!display || display === 'none') {{\n",
       "            console.log([gd, 'removed!']);\n",
       "            Plotly.purge(gd);\n",
       "            observer.disconnect();\n",
       "        }}\n",
       "}});\n",
       "\n",
       "// Listen for the removal of the full notebook cells\n",
       "var notebookContainer = gd.closest('#notebook-container');\n",
       "if (notebookContainer) {{\n",
       "    x.observe(notebookContainer, {childList: true});\n",
       "}}\n",
       "\n",
       "// Listen for the clearing of the current output cell\n",
       "var outputEl = gd.closest('.output');\n",
       "if (outputEl) {{\n",
       "    x.observe(outputEl, {childList: true});\n",
       "}}\n",
       "\n",
       "                        })                };                });            </script>        </div>"
      ]
     },
     "metadata": {},
     "output_type": "display_data"
    }
   ],
   "source": [
    "# Create an interactive 3d surface plot\n",
    "df3.iplot(kind='surface')"
   ]
  },
  {
   "cell_type": "markdown",
   "metadata": {},
   "source": [
    "##### You can specify the color scale\n"
   ]
  },
  {
   "cell_type": "code",
   "execution_count": 23,
   "metadata": {},
   "outputs": [
    {
     "data": {
      "application/vnd.plotly.v1+json": {
       "config": {
        "linkText": "Export to plot.ly",
        "plotlyServerURL": "https://plot.ly",
        "showLink": true
       },
       "data": [
        {
         "colorscale": [
          [
           0,
           "rgb(165,0,38)"
          ],
          [
           0.1,
           "rgb(215,48,39)"
          ],
          [
           0.2,
           "rgb(244,109,67)"
          ],
          [
           0.3,
           "rgb(253,174,97)"
          ],
          [
           0.4,
           "rgb(254,224,144)"
          ],
          [
           0.5,
           "rgb(255,255,191)"
          ],
          [
           0.6,
           "rgb(224,243,248)"
          ],
          [
           0.7,
           "rgb(171,217,233)"
          ],
          [
           0.8,
           "rgb(116,173,209)"
          ],
          [
           0.9,
           "rgb(69,117,180)"
          ],
          [
           1,
           "rgb(49,54,149)"
          ]
         ],
         "type": "surface",
         "x": [
          0,
          1,
          2,
          3,
          4,
          5,
          6,
          7,
          8,
          9,
          10,
          11,
          12,
          13,
          14,
          15,
          16,
          17,
          18,
          19,
          20,
          21,
          22,
          23,
          24,
          25,
          26,
          27,
          28,
          29,
          30,
          31,
          32,
          33,
          34,
          35,
          36,
          37,
          38,
          39,
          40,
          41,
          42,
          43,
          44,
          45,
          46,
          47,
          48,
          49,
          50,
          51,
          52,
          53,
          54,
          55,
          56,
          57,
          58,
          59,
          60,
          61,
          62,
          63,
          64,
          65,
          66,
          67,
          68,
          69,
          70,
          71,
          72,
          73,
          74,
          75,
          76,
          77,
          78,
          79,
          80,
          81,
          82,
          83,
          84,
          85,
          86,
          87,
          88,
          89,
          90,
          91,
          92,
          93,
          94,
          95,
          96,
          97,
          98,
          99
         ],
         "y": [
          "A",
          "C",
          "D"
         ],
         "z": [
          [
           0.00645505412481479,
           -1.4397876348458365,
           1.0708611347292805,
           0.28406613516333,
           0.058580630554189314,
           0.8284319830137025,
           -0.42047449551545285,
           -0.09014078165929397,
           -1.3944631937012903,
           0.05256359179847144,
           0.0409425859720373,
           -1.0208810538666255,
           1.147791416367246,
           0.7658353585491399,
           -0.4910219172880578,
           -0.8721591983562276,
           -0.9005228723828286,
           -0.560157105001934,
           0.3713100958842003,
           -1.2535692114404662,
           0.6909564571551409,
           0.1842453733842638,
           1.1379399025401098,
           1.1225527092582108,
           2.566851668670725,
           -1.670807423685407,
           1.94114639518042,
           -0.4715978936051285,
           -0.8163180921528749,
           -1.3536378264027218,
           -0.4147680876033762,
           -1.5047960860017953,
           -0.45073089384645704,
           -0.7269309668428034,
           0.7071546103928739,
           -0.5733190517411629,
           -0.6254361093893777,
           -1.5979799108505073,
           0.5170911382160981,
           0.5990087994240142,
           -0.2713626986608739,
           0.009040260923086347,
           -1.8660001972888383,
           0.40229667838475697,
           0.41585974272164616,
           -0.763893236346236,
           -0.34155596437332403,
           0.9542846586183369,
           1.0716615685885462,
           -0.060216026348868294,
           -1.1773224311305817,
           -0.9337797332054449,
           0.1749212272955488,
           -0.4016088255929763,
           1.5669389913415512,
           -0.8513635591410853,
           0.5310694215184522,
           -0.2754033351060103,
           -1.0414551990670875,
           -1.3845691960246238,
           0.11348281842005707,
           1.3575087993749007,
           -0.3954770620305859,
           0.676071850082259,
           0.4705010649987572,
           -0.3790387735935101,
           -0.8495913010737675,
           0.8382970974418101,
           -0.5153325311787621,
           -1.7022110786144058,
           1.4655183248688948,
           1.0520473235550596,
           -1.171272825456019,
           -0.7506656329216204,
           0.7543814278344634,
           0.25107938267119495,
           -0.5073680136495456,
           -0.65943015684561,
           0.04797048723213697,
           1.3725651550792377,
           0.3377203852279814,
           1.2690715670621149,
           0.3721442232698379,
           0.5626215355177316,
           -0.135971356264149,
           -1.0401702516300955,
           0.2074595019498187,
           0.6824824097281659,
           -1.2108413913024183,
           -0.14337649101770347,
           -0.15534252908565863,
           1.8190769247613148,
           -1.2625189409980964,
           1.0150403647301383,
           0.5975471562017068,
           0.7052928914556554,
           0.7574383663343425,
           0.3520597042626315,
           0.12580990970060232,
           -1.371360391325017
          ],
          [
           -0.8156211921936473,
           -0.3488054734179534,
           1.3634652871830246,
           0.6827654196928922,
           -1.0579817213633653,
           -0.9172741010318527,
           -1.0111454672320228,
           2.1474195456264242,
           -0.029116717408046878,
           -0.10503227051826579,
           -1.8982085799443809,
           -0.061607126903382985,
           -1.461069514841389,
           -0.4159207500708357,
           0.5428281012175966,
           -1.1064321564326451,
           1.1818468571532845,
           -0.4997449331078411,
           0.6513450257522175,
           -1.0096901464963166,
           0.7777710862030701,
           1.1156051451021982,
           -1.3963977721174032,
           -2.1957740562038897,
           -0.003082555605334334,
           -0.8711334400342721,
           -1.1721695448682867,
           0.9015731399020005,
           -0.7687236581093563,
           0.648912600414831,
           -0.3370999147061945,
           -0.2557289363041199,
           1.3940022814140893,
           -1.0918291338075325,
           0.926385756882171,
           -0.02699273090378049,
           -1.9310415085129753,
           -2.0537105543928087,
           1.331393828819895,
           -1.2479264355796142,
           1.3244176563546068,
           0.4547765829735793,
           -0.9485957942455121,
           0.7711272727493926,
           0.10770503293463943,
           -0.34345388358808904,
           -0.2901651965788942,
           -1.8859801912106564,
           -0.06463771887301847,
           0.7339329153613252,
           -2.9813490059807424,
           0.49298111601570926,
           2.089197422357034,
           0.5485407093266145,
           -0.45294081667793284,
           -1.2343570095799694,
           -0.6043887454889516,
           0.19698825224500555,
           0.2525008929314805,
           0.49330016796457193,
           -1.3296448063379627,
           -1.3199625654791716,
           -0.22952536088723396,
           -2.100923552982224,
           -1.2766272123803133,
           -0.0759219486515562,
           -1.3161580407429254,
           0.06457107233952505,
           0.11828851281676804,
           -0.1854970115502745,
           -0.6904859218641665,
           0.9987015332368285,
           1.0653613654646588,
           0.30642527390970625,
           0.005411555193580738,
           0.46565443254592476,
           -0.5513607990797764,
           -0.6156892013681534,
           1.0864651990406675,
           1.2076925241549614,
           0.02996839767387277,
           -0.014468892242910269,
           2.314696376629038,
           2.208168488408517,
           -1.3983413330991918,
           0.8986343834667301,
           0.9916299241963795,
           -0.20474753074899615,
           -0.2318152457813195,
           -0.41240495042251296,
           -1.5084220112468731,
           -0.2339935120152956,
           -0.6079408227599712,
           -0.09966875704636555,
           0.23726828071761713,
           -1.7732192190847027,
           0.28673585713418004,
           -0.7359231672703281,
           0.14300452088914767,
           1.6972975653855318
          ],
          [
           -0.46896793394847963,
           0.9185701612631408,
           -0.9518353470364371,
           0.48127796570390513,
           -1.3125227628679224,
           -0.6001985612883243,
           1.2438374321973853,
           -1.0553928899948373,
           0.7992286386403018,
           0.6552228453687096,
           1.531139173688056,
           -1.434972124639351,
           0.5886176757481795,
           -0.3256784096497872,
           -0.2623819605419885,
           0.8093293479850361,
           -0.33275476984830865,
           -0.2956276921472676,
           -0.16713256889711028,
           0.18389720704075418,
           0.6657691087241017,
           -1.4997126274775754,
           0.8711561678776168,
           -0.8924685564325691,
           0.6394678129395951,
           -1.196144615877988,
           2.2614519074522,
           0.11987585103470248,
           -2.579662215505832,
           -1.3178324834559312,
           0.46948793870344907,
           -0.2210025562961031,
           1.4552867861558016,
           1.326246985282575,
           -0.054439587001145,
           1.2706741490376032,
           0.7484048322067663,
           1.2710087859871775,
           0.9447743157753115,
           0.0917616016406183,
           -2.0969697544296864,
           -1.1217734741484078,
           -0.35986753254874787,
           0.12035306348613169,
           -1.1902816920463186,
           -1.2966439417613633,
           -0.017967446036095795,
           0.514611017485124,
           -1.4461382765586006,
           1.01186070273958,
           0.8879030485264665,
           0.4676220911886453,
           0.6228012943753499,
           -1.4207209081286396,
           0.2867700005446423,
           -0.6139865568654482,
           -0.5415167711981378,
           -1.9858206491463257,
           0.12723912891542727,
           -0.1793100802880613,
           0.0037780088332585375,
           1.3903163960561136,
           1.5083085016459787,
           0.3926357357086319,
           -0.9743888746263668,
           -0.9454377234958473,
           -0.8321414989740954,
           -1.620960244458763,
           -0.6017219998541727,
           -0.06238112948649538,
           1.6954621456675467,
           1.124584858797205,
           -1.15012884419011,
           -1.4364055469573436,
           0.5664302863033238,
           1.8332136136850243,
           -0.8089001901634655,
           0.43902060972417456,
           0.37600900785175306,
           -1.3948918928031053,
           -0.6904696137869282,
           0.19589727243424596,
           -1.5300619443770898,
           -1.9477439997569757,
           -0.7048608070105993,
           0.0030274862426587037,
           -0.3658721419657042,
           -0.027565836557152504,
           0.46474856183842084,
           -0.4170025571275899,
           0.5118024905797606,
           0.022175819324665814,
           0.07345976472766286,
           -0.6162389548458861,
           -0.546978786397993,
           0.00893652800919723,
           -0.3826503977720516,
           0.2771619614010083,
           0.6072349321310275,
           1.0624815146959694
          ]
         ]
        }
       ],
       "layout": {
        "legend": {
         "bgcolor": "#F5F6F9",
         "font": {
          "color": "#4D5663"
         }
        },
        "paper_bgcolor": "#F5F6F9",
        "plot_bgcolor": "#F5F6F9",
        "template": {
         "data": {
          "bar": [
           {
            "error_x": {
             "color": "#2a3f5f"
            },
            "error_y": {
             "color": "#2a3f5f"
            },
            "marker": {
             "line": {
              "color": "#E5ECF6",
              "width": 0.5
             }
            },
            "type": "bar"
           }
          ],
          "barpolar": [
           {
            "marker": {
             "line": {
              "color": "#E5ECF6",
              "width": 0.5
             }
            },
            "type": "barpolar"
           }
          ],
          "carpet": [
           {
            "aaxis": {
             "endlinecolor": "#2a3f5f",
             "gridcolor": "white",
             "linecolor": "white",
             "minorgridcolor": "white",
             "startlinecolor": "#2a3f5f"
            },
            "baxis": {
             "endlinecolor": "#2a3f5f",
             "gridcolor": "white",
             "linecolor": "white",
             "minorgridcolor": "white",
             "startlinecolor": "#2a3f5f"
            },
            "type": "carpet"
           }
          ],
          "choropleth": [
           {
            "colorbar": {
             "outlinewidth": 0,
             "ticks": ""
            },
            "type": "choropleth"
           }
          ],
          "contour": [
           {
            "colorbar": {
             "outlinewidth": 0,
             "ticks": ""
            },
            "colorscale": [
             [
              0,
              "#0d0887"
             ],
             [
              0.1111111111111111,
              "#46039f"
             ],
             [
              0.2222222222222222,
              "#7201a8"
             ],
             [
              0.3333333333333333,
              "#9c179e"
             ],
             [
              0.4444444444444444,
              "#bd3786"
             ],
             [
              0.5555555555555556,
              "#d8576b"
             ],
             [
              0.6666666666666666,
              "#ed7953"
             ],
             [
              0.7777777777777778,
              "#fb9f3a"
             ],
             [
              0.8888888888888888,
              "#fdca26"
             ],
             [
              1,
              "#f0f921"
             ]
            ],
            "type": "contour"
           }
          ],
          "contourcarpet": [
           {
            "colorbar": {
             "outlinewidth": 0,
             "ticks": ""
            },
            "type": "contourcarpet"
           }
          ],
          "heatmap": [
           {
            "colorbar": {
             "outlinewidth": 0,
             "ticks": ""
            },
            "colorscale": [
             [
              0,
              "#0d0887"
             ],
             [
              0.1111111111111111,
              "#46039f"
             ],
             [
              0.2222222222222222,
              "#7201a8"
             ],
             [
              0.3333333333333333,
              "#9c179e"
             ],
             [
              0.4444444444444444,
              "#bd3786"
             ],
             [
              0.5555555555555556,
              "#d8576b"
             ],
             [
              0.6666666666666666,
              "#ed7953"
             ],
             [
              0.7777777777777778,
              "#fb9f3a"
             ],
             [
              0.8888888888888888,
              "#fdca26"
             ],
             [
              1,
              "#f0f921"
             ]
            ],
            "type": "heatmap"
           }
          ],
          "heatmapgl": [
           {
            "colorbar": {
             "outlinewidth": 0,
             "ticks": ""
            },
            "colorscale": [
             [
              0,
              "#0d0887"
             ],
             [
              0.1111111111111111,
              "#46039f"
             ],
             [
              0.2222222222222222,
              "#7201a8"
             ],
             [
              0.3333333333333333,
              "#9c179e"
             ],
             [
              0.4444444444444444,
              "#bd3786"
             ],
             [
              0.5555555555555556,
              "#d8576b"
             ],
             [
              0.6666666666666666,
              "#ed7953"
             ],
             [
              0.7777777777777778,
              "#fb9f3a"
             ],
             [
              0.8888888888888888,
              "#fdca26"
             ],
             [
              1,
              "#f0f921"
             ]
            ],
            "type": "heatmapgl"
           }
          ],
          "histogram": [
           {
            "marker": {
             "colorbar": {
              "outlinewidth": 0,
              "ticks": ""
             }
            },
            "type": "histogram"
           }
          ],
          "histogram2d": [
           {
            "colorbar": {
             "outlinewidth": 0,
             "ticks": ""
            },
            "colorscale": [
             [
              0,
              "#0d0887"
             ],
             [
              0.1111111111111111,
              "#46039f"
             ],
             [
              0.2222222222222222,
              "#7201a8"
             ],
             [
              0.3333333333333333,
              "#9c179e"
             ],
             [
              0.4444444444444444,
              "#bd3786"
             ],
             [
              0.5555555555555556,
              "#d8576b"
             ],
             [
              0.6666666666666666,
              "#ed7953"
             ],
             [
              0.7777777777777778,
              "#fb9f3a"
             ],
             [
              0.8888888888888888,
              "#fdca26"
             ],
             [
              1,
              "#f0f921"
             ]
            ],
            "type": "histogram2d"
           }
          ],
          "histogram2dcontour": [
           {
            "colorbar": {
             "outlinewidth": 0,
             "ticks": ""
            },
            "colorscale": [
             [
              0,
              "#0d0887"
             ],
             [
              0.1111111111111111,
              "#46039f"
             ],
             [
              0.2222222222222222,
              "#7201a8"
             ],
             [
              0.3333333333333333,
              "#9c179e"
             ],
             [
              0.4444444444444444,
              "#bd3786"
             ],
             [
              0.5555555555555556,
              "#d8576b"
             ],
             [
              0.6666666666666666,
              "#ed7953"
             ],
             [
              0.7777777777777778,
              "#fb9f3a"
             ],
             [
              0.8888888888888888,
              "#fdca26"
             ],
             [
              1,
              "#f0f921"
             ]
            ],
            "type": "histogram2dcontour"
           }
          ],
          "mesh3d": [
           {
            "colorbar": {
             "outlinewidth": 0,
             "ticks": ""
            },
            "type": "mesh3d"
           }
          ],
          "parcoords": [
           {
            "line": {
             "colorbar": {
              "outlinewidth": 0,
              "ticks": ""
             }
            },
            "type": "parcoords"
           }
          ],
          "pie": [
           {
            "automargin": true,
            "type": "pie"
           }
          ],
          "scatter": [
           {
            "marker": {
             "colorbar": {
              "outlinewidth": 0,
              "ticks": ""
             }
            },
            "type": "scatter"
           }
          ],
          "scatter3d": [
           {
            "line": {
             "colorbar": {
              "outlinewidth": 0,
              "ticks": ""
             }
            },
            "marker": {
             "colorbar": {
              "outlinewidth": 0,
              "ticks": ""
             }
            },
            "type": "scatter3d"
           }
          ],
          "scattercarpet": [
           {
            "marker": {
             "colorbar": {
              "outlinewidth": 0,
              "ticks": ""
             }
            },
            "type": "scattercarpet"
           }
          ],
          "scattergeo": [
           {
            "marker": {
             "colorbar": {
              "outlinewidth": 0,
              "ticks": ""
             }
            },
            "type": "scattergeo"
           }
          ],
          "scattergl": [
           {
            "marker": {
             "colorbar": {
              "outlinewidth": 0,
              "ticks": ""
             }
            },
            "type": "scattergl"
           }
          ],
          "scattermapbox": [
           {
            "marker": {
             "colorbar": {
              "outlinewidth": 0,
              "ticks": ""
             }
            },
            "type": "scattermapbox"
           }
          ],
          "scatterpolar": [
           {
            "marker": {
             "colorbar": {
              "outlinewidth": 0,
              "ticks": ""
             }
            },
            "type": "scatterpolar"
           }
          ],
          "scatterpolargl": [
           {
            "marker": {
             "colorbar": {
              "outlinewidth": 0,
              "ticks": ""
             }
            },
            "type": "scatterpolargl"
           }
          ],
          "scatterternary": [
           {
            "marker": {
             "colorbar": {
              "outlinewidth": 0,
              "ticks": ""
             }
            },
            "type": "scatterternary"
           }
          ],
          "surface": [
           {
            "colorbar": {
             "outlinewidth": 0,
             "ticks": ""
            },
            "colorscale": [
             [
              0,
              "#0d0887"
             ],
             [
              0.1111111111111111,
              "#46039f"
             ],
             [
              0.2222222222222222,
              "#7201a8"
             ],
             [
              0.3333333333333333,
              "#9c179e"
             ],
             [
              0.4444444444444444,
              "#bd3786"
             ],
             [
              0.5555555555555556,
              "#d8576b"
             ],
             [
              0.6666666666666666,
              "#ed7953"
             ],
             [
              0.7777777777777778,
              "#fb9f3a"
             ],
             [
              0.8888888888888888,
              "#fdca26"
             ],
             [
              1,
              "#f0f921"
             ]
            ],
            "type": "surface"
           }
          ],
          "table": [
           {
            "cells": {
             "fill": {
              "color": "#EBF0F8"
             },
             "line": {
              "color": "white"
             }
            },
            "header": {
             "fill": {
              "color": "#C8D4E3"
             },
             "line": {
              "color": "white"
             }
            },
            "type": "table"
           }
          ]
         },
         "layout": {
          "annotationdefaults": {
           "arrowcolor": "#2a3f5f",
           "arrowhead": 0,
           "arrowwidth": 1
          },
          "coloraxis": {
           "colorbar": {
            "outlinewidth": 0,
            "ticks": ""
           }
          },
          "colorscale": {
           "diverging": [
            [
             0,
             "#8e0152"
            ],
            [
             0.1,
             "#c51b7d"
            ],
            [
             0.2,
             "#de77ae"
            ],
            [
             0.3,
             "#f1b6da"
            ],
            [
             0.4,
             "#fde0ef"
            ],
            [
             0.5,
             "#f7f7f7"
            ],
            [
             0.6,
             "#e6f5d0"
            ],
            [
             0.7,
             "#b8e186"
            ],
            [
             0.8,
             "#7fbc41"
            ],
            [
             0.9,
             "#4d9221"
            ],
            [
             1,
             "#276419"
            ]
           ],
           "sequential": [
            [
             0,
             "#0d0887"
            ],
            [
             0.1111111111111111,
             "#46039f"
            ],
            [
             0.2222222222222222,
             "#7201a8"
            ],
            [
             0.3333333333333333,
             "#9c179e"
            ],
            [
             0.4444444444444444,
             "#bd3786"
            ],
            [
             0.5555555555555556,
             "#d8576b"
            ],
            [
             0.6666666666666666,
             "#ed7953"
            ],
            [
             0.7777777777777778,
             "#fb9f3a"
            ],
            [
             0.8888888888888888,
             "#fdca26"
            ],
            [
             1,
             "#f0f921"
            ]
           ],
           "sequentialminus": [
            [
             0,
             "#0d0887"
            ],
            [
             0.1111111111111111,
             "#46039f"
            ],
            [
             0.2222222222222222,
             "#7201a8"
            ],
            [
             0.3333333333333333,
             "#9c179e"
            ],
            [
             0.4444444444444444,
             "#bd3786"
            ],
            [
             0.5555555555555556,
             "#d8576b"
            ],
            [
             0.6666666666666666,
             "#ed7953"
            ],
            [
             0.7777777777777778,
             "#fb9f3a"
            ],
            [
             0.8888888888888888,
             "#fdca26"
            ],
            [
             1,
             "#f0f921"
            ]
           ]
          },
          "colorway": [
           "#636efa",
           "#EF553B",
           "#00cc96",
           "#ab63fa",
           "#FFA15A",
           "#19d3f3",
           "#FF6692",
           "#B6E880",
           "#FF97FF",
           "#FECB52"
          ],
          "font": {
           "color": "#2a3f5f"
          },
          "geo": {
           "bgcolor": "white",
           "lakecolor": "white",
           "landcolor": "#E5ECF6",
           "showlakes": true,
           "showland": true,
           "subunitcolor": "white"
          },
          "hoverlabel": {
           "align": "left"
          },
          "hovermode": "closest",
          "mapbox": {
           "style": "light"
          },
          "paper_bgcolor": "white",
          "plot_bgcolor": "#E5ECF6",
          "polar": {
           "angularaxis": {
            "gridcolor": "white",
            "linecolor": "white",
            "ticks": ""
           },
           "bgcolor": "#E5ECF6",
           "radialaxis": {
            "gridcolor": "white",
            "linecolor": "white",
            "ticks": ""
           }
          },
          "scene": {
           "xaxis": {
            "backgroundcolor": "#E5ECF6",
            "gridcolor": "white",
            "gridwidth": 2,
            "linecolor": "white",
            "showbackground": true,
            "ticks": "",
            "zerolinecolor": "white"
           },
           "yaxis": {
            "backgroundcolor": "#E5ECF6",
            "gridcolor": "white",
            "gridwidth": 2,
            "linecolor": "white",
            "showbackground": true,
            "ticks": "",
            "zerolinecolor": "white"
           },
           "zaxis": {
            "backgroundcolor": "#E5ECF6",
            "gridcolor": "white",
            "gridwidth": 2,
            "linecolor": "white",
            "showbackground": true,
            "ticks": "",
            "zerolinecolor": "white"
           }
          },
          "shapedefaults": {
           "line": {
            "color": "#2a3f5f"
           }
          },
          "ternary": {
           "aaxis": {
            "gridcolor": "white",
            "linecolor": "white",
            "ticks": ""
           },
           "baxis": {
            "gridcolor": "white",
            "linecolor": "white",
            "ticks": ""
           },
           "bgcolor": "#E5ECF6",
           "caxis": {
            "gridcolor": "white",
            "linecolor": "white",
            "ticks": ""
           }
          },
          "title": {
           "x": 0.05
          },
          "xaxis": {
           "automargin": true,
           "gridcolor": "white",
           "linecolor": "white",
           "ticks": "",
           "title": {
            "standoff": 15
           },
           "zerolinecolor": "white",
           "zerolinewidth": 2
          },
          "yaxis": {
           "automargin": true,
           "gridcolor": "white",
           "linecolor": "white",
           "ticks": "",
           "title": {
            "standoff": 15
           },
           "zerolinecolor": "white",
           "zerolinewidth": 2
          }
         }
        },
        "title": {
         "font": {
          "color": "#4D5663"
         }
        },
        "xaxis": {
         "gridcolor": "#E1E5ED",
         "showgrid": true,
         "tickfont": {
          "color": "#4D5663"
         },
         "title": {
          "font": {
           "color": "#4D5663"
          },
          "text": ""
         },
         "zerolinecolor": "#E1E5ED"
        },
        "yaxis": {
         "gridcolor": "#E1E5ED",
         "showgrid": true,
         "tickfont": {
          "color": "#4D5663"
         },
         "title": {
          "font": {
           "color": "#4D5663"
          },
          "text": ""
         },
         "zerolinecolor": "#E1E5ED"
        }
       }
      },
      "text/html": [
       "<div>                            <div id=\"06745904-7a8b-4109-ada8-c67270b1492c\" class=\"plotly-graph-div\" style=\"height:525px; width:100%;\"></div>            <script type=\"text/javascript\">                require([\"plotly\"], function(Plotly) {                    window.PLOTLYENV=window.PLOTLYENV || {};\n",
       "                    window.PLOTLYENV.BASE_URL='https://plot.ly';                                    if (document.getElementById(\"06745904-7a8b-4109-ada8-c67270b1492c\")) {                    Plotly.newPlot(                        \"06745904-7a8b-4109-ada8-c67270b1492c\",                        [{\"colorscale\": [[0.0, \"rgb(165,0,38)\"], [0.1, \"rgb(215,48,39)\"], [0.2, \"rgb(244,109,67)\"], [0.3, \"rgb(253,174,97)\"], [0.4, \"rgb(254,224,144)\"], [0.5, \"rgb(255,255,191)\"], [0.6, \"rgb(224,243,248)\"], [0.7, \"rgb(171,217,233)\"], [0.8, \"rgb(116,173,209)\"], [0.9, \"rgb(69,117,180)\"], [1.0, \"rgb(49,54,149)\"]], \"type\": \"surface\", \"x\": [0, 1, 2, 3, 4, 5, 6, 7, 8, 9, 10, 11, 12, 13, 14, 15, 16, 17, 18, 19, 20, 21, 22, 23, 24, 25, 26, 27, 28, 29, 30, 31, 32, 33, 34, 35, 36, 37, 38, 39, 40, 41, 42, 43, 44, 45, 46, 47, 48, 49, 50, 51, 52, 53, 54, 55, 56, 57, 58, 59, 60, 61, 62, 63, 64, 65, 66, 67, 68, 69, 70, 71, 72, 73, 74, 75, 76, 77, 78, 79, 80, 81, 82, 83, 84, 85, 86, 87, 88, 89, 90, 91, 92, 93, 94, 95, 96, 97, 98, 99], \"y\": [\"A\", \"C\", \"D\"], \"z\": [[0.00645505412481479, -1.4397876348458365, 1.0708611347292805, 0.28406613516333, 0.058580630554189314, 0.8284319830137025, -0.42047449551545285, -0.09014078165929397, -1.3944631937012903, 0.05256359179847144, 0.0409425859720373, -1.0208810538666255, 1.147791416367246, 0.7658353585491399, -0.4910219172880578, -0.8721591983562276, -0.9005228723828286, -0.560157105001934, 0.3713100958842003, -1.2535692114404662, 0.6909564571551409, 0.1842453733842638, 1.1379399025401098, 1.1225527092582108, 2.566851668670725, -1.670807423685407, 1.94114639518042, -0.4715978936051285, -0.8163180921528749, -1.3536378264027218, -0.4147680876033762, -1.5047960860017953, -0.45073089384645704, -0.7269309668428034, 0.7071546103928739, -0.5733190517411629, -0.6254361093893777, -1.5979799108505073, 0.5170911382160981, 0.5990087994240142, -0.2713626986608739, 0.009040260923086347, -1.8660001972888383, 0.40229667838475697, 0.41585974272164616, -0.763893236346236, -0.34155596437332403, 0.9542846586183369, 1.0716615685885462, -0.060216026348868294, -1.1773224311305817, -0.9337797332054449, 0.1749212272955488, -0.4016088255929763, 1.5669389913415512, -0.8513635591410853, 0.5310694215184522, -0.2754033351060103, -1.0414551990670875, -1.3845691960246238, 0.11348281842005707, 1.3575087993749007, -0.3954770620305859, 0.676071850082259, 0.4705010649987572, -0.3790387735935101, -0.8495913010737675, 0.8382970974418101, -0.5153325311787621, -1.7022110786144058, 1.4655183248688948, 1.0520473235550596, -1.171272825456019, -0.7506656329216204, 0.7543814278344634, 0.25107938267119495, -0.5073680136495456, -0.65943015684561, 0.04797048723213697, 1.3725651550792377, 0.3377203852279814, 1.2690715670621149, 0.3721442232698379, 0.5626215355177316, -0.135971356264149, -1.0401702516300955, 0.2074595019498187, 0.6824824097281659, -1.2108413913024183, -0.14337649101770347, -0.15534252908565863, 1.8190769247613148, -1.2625189409980964, 1.0150403647301383, 0.5975471562017068, 0.7052928914556554, 0.7574383663343425, 0.3520597042626315, 0.12580990970060232, -1.371360391325017], [-0.8156211921936473, -0.3488054734179534, 1.3634652871830246, 0.6827654196928922, -1.0579817213633653, -0.9172741010318527, -1.0111454672320228, 2.1474195456264242, -0.029116717408046878, -0.10503227051826579, -1.8982085799443809, -0.061607126903382985, -1.461069514841389, -0.4159207500708357, 0.5428281012175966, -1.1064321564326451, 1.1818468571532845, -0.4997449331078411, 0.6513450257522175, -1.0096901464963166, 0.7777710862030701, 1.1156051451021982, -1.3963977721174032, -2.1957740562038897, -0.003082555605334334, -0.8711334400342721, -1.1721695448682867, 0.9015731399020005, -0.7687236581093563, 0.648912600414831, -0.3370999147061945, -0.2557289363041199, 1.3940022814140893, -1.0918291338075325, 0.926385756882171, -0.02699273090378049, -1.9310415085129753, -2.0537105543928087, 1.331393828819895, -1.2479264355796142, 1.3244176563546068, 0.4547765829735793, -0.9485957942455121, 0.7711272727493926, 0.10770503293463943, -0.34345388358808904, -0.2901651965788942, -1.8859801912106564, -0.06463771887301847, 0.7339329153613252, -2.9813490059807424, 0.49298111601570926, 2.089197422357034, 0.5485407093266145, -0.45294081667793284, -1.2343570095799694, -0.6043887454889516, 0.19698825224500555, 0.2525008929314805, 0.49330016796457193, -1.3296448063379627, -1.3199625654791716, -0.22952536088723396, -2.100923552982224, -1.2766272123803133, -0.0759219486515562, -1.3161580407429254, 0.06457107233952505, 0.11828851281676804, -0.1854970115502745, -0.6904859218641665, 0.9987015332368285, 1.0653613654646588, 0.30642527390970625, 0.005411555193580738, 0.46565443254592476, -0.5513607990797764, -0.6156892013681534, 1.0864651990406675, 1.2076925241549614, 0.02996839767387277, -0.014468892242910269, 2.314696376629038, 2.208168488408517, -1.3983413330991918, 0.8986343834667301, 0.9916299241963795, -0.20474753074899615, -0.2318152457813195, -0.41240495042251296, -1.5084220112468731, -0.2339935120152956, -0.6079408227599712, -0.09966875704636555, 0.23726828071761713, -1.7732192190847027, 0.28673585713418004, -0.7359231672703281, 0.14300452088914767, 1.6972975653855318], [-0.46896793394847963, 0.9185701612631408, -0.9518353470364371, 0.48127796570390513, -1.3125227628679224, -0.6001985612883243, 1.2438374321973853, -1.0553928899948373, 0.7992286386403018, 0.6552228453687096, 1.531139173688056, -1.434972124639351, 0.5886176757481795, -0.3256784096497872, -0.2623819605419885, 0.8093293479850361, -0.33275476984830865, -0.2956276921472676, -0.16713256889711028, 0.18389720704075418, 0.6657691087241017, -1.4997126274775754, 0.8711561678776168, -0.8924685564325691, 0.6394678129395951, -1.196144615877988, 2.2614519074522, 0.11987585103470248, -2.579662215505832, -1.3178324834559312, 0.46948793870344907, -0.2210025562961031, 1.4552867861558016, 1.326246985282575, -0.054439587001145, 1.2706741490376032, 0.7484048322067663, 1.2710087859871775, 0.9447743157753115, 0.0917616016406183, -2.0969697544296864, -1.1217734741484078, -0.35986753254874787, 0.12035306348613169, -1.1902816920463186, -1.2966439417613633, -0.017967446036095795, 0.514611017485124, -1.4461382765586006, 1.01186070273958, 0.8879030485264665, 0.4676220911886453, 0.6228012943753499, -1.4207209081286396, 0.2867700005446423, -0.6139865568654482, -0.5415167711981378, -1.9858206491463257, 0.12723912891542727, -0.1793100802880613, 0.0037780088332585375, 1.3903163960561136, 1.5083085016459787, 0.3926357357086319, -0.9743888746263668, -0.9454377234958473, -0.8321414989740954, -1.620960244458763, -0.6017219998541727, -0.06238112948649538, 1.6954621456675467, 1.124584858797205, -1.15012884419011, -1.4364055469573436, 0.5664302863033238, 1.8332136136850243, -0.8089001901634655, 0.43902060972417456, 0.37600900785175306, -1.3948918928031053, -0.6904696137869282, 0.19589727243424596, -1.5300619443770898, -1.9477439997569757, -0.7048608070105993, 0.0030274862426587037, -0.3658721419657042, -0.027565836557152504, 0.46474856183842084, -0.4170025571275899, 0.5118024905797606, 0.022175819324665814, 0.07345976472766286, -0.6162389548458861, -0.546978786397993, 0.00893652800919723, -0.3826503977720516, 0.2771619614010083, 0.6072349321310275, 1.0624815146959694]]}],                        {\"legend\": {\"bgcolor\": \"#F5F6F9\", \"font\": {\"color\": \"#4D5663\"}}, \"paper_bgcolor\": \"#F5F6F9\", \"plot_bgcolor\": \"#F5F6F9\", \"template\": {\"data\": {\"bar\": [{\"error_x\": {\"color\": \"#2a3f5f\"}, \"error_y\": {\"color\": \"#2a3f5f\"}, \"marker\": {\"line\": {\"color\": \"#E5ECF6\", \"width\": 0.5}}, \"type\": \"bar\"}], \"barpolar\": [{\"marker\": {\"line\": {\"color\": \"#E5ECF6\", \"width\": 0.5}}, \"type\": \"barpolar\"}], \"carpet\": [{\"aaxis\": {\"endlinecolor\": \"#2a3f5f\", \"gridcolor\": \"white\", \"linecolor\": \"white\", \"minorgridcolor\": \"white\", \"startlinecolor\": \"#2a3f5f\"}, \"baxis\": {\"endlinecolor\": \"#2a3f5f\", \"gridcolor\": \"white\", \"linecolor\": \"white\", \"minorgridcolor\": \"white\", \"startlinecolor\": \"#2a3f5f\"}, \"type\": \"carpet\"}], \"choropleth\": [{\"colorbar\": {\"outlinewidth\": 0, \"ticks\": \"\"}, \"type\": \"choropleth\"}], \"contour\": [{\"colorbar\": {\"outlinewidth\": 0, \"ticks\": \"\"}, \"colorscale\": [[0.0, \"#0d0887\"], [0.1111111111111111, \"#46039f\"], [0.2222222222222222, \"#7201a8\"], [0.3333333333333333, \"#9c179e\"], [0.4444444444444444, \"#bd3786\"], [0.5555555555555556, \"#d8576b\"], [0.6666666666666666, \"#ed7953\"], [0.7777777777777778, \"#fb9f3a\"], [0.8888888888888888, \"#fdca26\"], [1.0, \"#f0f921\"]], \"type\": \"contour\"}], \"contourcarpet\": [{\"colorbar\": {\"outlinewidth\": 0, \"ticks\": \"\"}, \"type\": \"contourcarpet\"}], \"heatmap\": [{\"colorbar\": {\"outlinewidth\": 0, \"ticks\": \"\"}, \"colorscale\": [[0.0, \"#0d0887\"], [0.1111111111111111, \"#46039f\"], [0.2222222222222222, \"#7201a8\"], [0.3333333333333333, \"#9c179e\"], [0.4444444444444444, \"#bd3786\"], [0.5555555555555556, \"#d8576b\"], [0.6666666666666666, \"#ed7953\"], [0.7777777777777778, \"#fb9f3a\"], [0.8888888888888888, \"#fdca26\"], [1.0, \"#f0f921\"]], \"type\": \"heatmap\"}], \"heatmapgl\": [{\"colorbar\": {\"outlinewidth\": 0, \"ticks\": \"\"}, \"colorscale\": [[0.0, \"#0d0887\"], [0.1111111111111111, \"#46039f\"], [0.2222222222222222, \"#7201a8\"], [0.3333333333333333, \"#9c179e\"], [0.4444444444444444, \"#bd3786\"], [0.5555555555555556, \"#d8576b\"], [0.6666666666666666, \"#ed7953\"], [0.7777777777777778, \"#fb9f3a\"], [0.8888888888888888, \"#fdca26\"], [1.0, \"#f0f921\"]], \"type\": \"heatmapgl\"}], \"histogram\": [{\"marker\": {\"colorbar\": {\"outlinewidth\": 0, \"ticks\": \"\"}}, \"type\": \"histogram\"}], \"histogram2d\": [{\"colorbar\": {\"outlinewidth\": 0, \"ticks\": \"\"}, \"colorscale\": [[0.0, \"#0d0887\"], [0.1111111111111111, \"#46039f\"], [0.2222222222222222, \"#7201a8\"], [0.3333333333333333, \"#9c179e\"], [0.4444444444444444, \"#bd3786\"], [0.5555555555555556, \"#d8576b\"], [0.6666666666666666, \"#ed7953\"], [0.7777777777777778, \"#fb9f3a\"], [0.8888888888888888, \"#fdca26\"], [1.0, \"#f0f921\"]], \"type\": \"histogram2d\"}], \"histogram2dcontour\": [{\"colorbar\": {\"outlinewidth\": 0, \"ticks\": \"\"}, \"colorscale\": [[0.0, \"#0d0887\"], [0.1111111111111111, \"#46039f\"], [0.2222222222222222, \"#7201a8\"], [0.3333333333333333, \"#9c179e\"], [0.4444444444444444, \"#bd3786\"], [0.5555555555555556, \"#d8576b\"], [0.6666666666666666, \"#ed7953\"], [0.7777777777777778, \"#fb9f3a\"], [0.8888888888888888, \"#fdca26\"], [1.0, \"#f0f921\"]], \"type\": \"histogram2dcontour\"}], \"mesh3d\": [{\"colorbar\": {\"outlinewidth\": 0, \"ticks\": \"\"}, \"type\": \"mesh3d\"}], \"parcoords\": [{\"line\": {\"colorbar\": {\"outlinewidth\": 0, \"ticks\": \"\"}}, \"type\": \"parcoords\"}], \"pie\": [{\"automargin\": true, \"type\": \"pie\"}], \"scatter\": [{\"marker\": {\"colorbar\": {\"outlinewidth\": 0, \"ticks\": \"\"}}, \"type\": \"scatter\"}], \"scatter3d\": [{\"line\": {\"colorbar\": {\"outlinewidth\": 0, \"ticks\": \"\"}}, \"marker\": {\"colorbar\": {\"outlinewidth\": 0, \"ticks\": \"\"}}, \"type\": \"scatter3d\"}], \"scattercarpet\": [{\"marker\": {\"colorbar\": {\"outlinewidth\": 0, \"ticks\": \"\"}}, \"type\": \"scattercarpet\"}], \"scattergeo\": [{\"marker\": {\"colorbar\": {\"outlinewidth\": 0, \"ticks\": \"\"}}, \"type\": \"scattergeo\"}], \"scattergl\": [{\"marker\": {\"colorbar\": {\"outlinewidth\": 0, \"ticks\": \"\"}}, \"type\": \"scattergl\"}], \"scattermapbox\": [{\"marker\": {\"colorbar\": {\"outlinewidth\": 0, \"ticks\": \"\"}}, \"type\": \"scattermapbox\"}], \"scatterpolar\": [{\"marker\": {\"colorbar\": {\"outlinewidth\": 0, \"ticks\": \"\"}}, \"type\": \"scatterpolar\"}], \"scatterpolargl\": [{\"marker\": {\"colorbar\": {\"outlinewidth\": 0, \"ticks\": \"\"}}, \"type\": \"scatterpolargl\"}], \"scatterternary\": [{\"marker\": {\"colorbar\": {\"outlinewidth\": 0, \"ticks\": \"\"}}, \"type\": \"scatterternary\"}], \"surface\": [{\"colorbar\": {\"outlinewidth\": 0, \"ticks\": \"\"}, \"colorscale\": [[0.0, \"#0d0887\"], [0.1111111111111111, \"#46039f\"], [0.2222222222222222, \"#7201a8\"], [0.3333333333333333, \"#9c179e\"], [0.4444444444444444, \"#bd3786\"], [0.5555555555555556, \"#d8576b\"], [0.6666666666666666, \"#ed7953\"], [0.7777777777777778, \"#fb9f3a\"], [0.8888888888888888, \"#fdca26\"], [1.0, \"#f0f921\"]], \"type\": \"surface\"}], \"table\": [{\"cells\": {\"fill\": {\"color\": \"#EBF0F8\"}, \"line\": {\"color\": \"white\"}}, \"header\": {\"fill\": {\"color\": \"#C8D4E3\"}, \"line\": {\"color\": \"white\"}}, \"type\": \"table\"}]}, \"layout\": {\"annotationdefaults\": {\"arrowcolor\": \"#2a3f5f\", \"arrowhead\": 0, \"arrowwidth\": 1}, \"coloraxis\": {\"colorbar\": {\"outlinewidth\": 0, \"ticks\": \"\"}}, \"colorscale\": {\"diverging\": [[0, \"#8e0152\"], [0.1, \"#c51b7d\"], [0.2, \"#de77ae\"], [0.3, \"#f1b6da\"], [0.4, \"#fde0ef\"], [0.5, \"#f7f7f7\"], [0.6, \"#e6f5d0\"], [0.7, \"#b8e186\"], [0.8, \"#7fbc41\"], [0.9, \"#4d9221\"], [1, \"#276419\"]], \"sequential\": [[0.0, \"#0d0887\"], [0.1111111111111111, \"#46039f\"], [0.2222222222222222, \"#7201a8\"], [0.3333333333333333, \"#9c179e\"], [0.4444444444444444, \"#bd3786\"], [0.5555555555555556, \"#d8576b\"], [0.6666666666666666, \"#ed7953\"], [0.7777777777777778, \"#fb9f3a\"], [0.8888888888888888, \"#fdca26\"], [1.0, \"#f0f921\"]], \"sequentialminus\": [[0.0, \"#0d0887\"], [0.1111111111111111, \"#46039f\"], [0.2222222222222222, \"#7201a8\"], [0.3333333333333333, \"#9c179e\"], [0.4444444444444444, \"#bd3786\"], [0.5555555555555556, \"#d8576b\"], [0.6666666666666666, \"#ed7953\"], [0.7777777777777778, \"#fb9f3a\"], [0.8888888888888888, \"#fdca26\"], [1.0, \"#f0f921\"]]}, \"colorway\": [\"#636efa\", \"#EF553B\", \"#00cc96\", \"#ab63fa\", \"#FFA15A\", \"#19d3f3\", \"#FF6692\", \"#B6E880\", \"#FF97FF\", \"#FECB52\"], \"font\": {\"color\": \"#2a3f5f\"}, \"geo\": {\"bgcolor\": \"white\", \"lakecolor\": \"white\", \"landcolor\": \"#E5ECF6\", \"showlakes\": true, \"showland\": true, \"subunitcolor\": \"white\"}, \"hoverlabel\": {\"align\": \"left\"}, \"hovermode\": \"closest\", \"mapbox\": {\"style\": \"light\"}, \"paper_bgcolor\": \"white\", \"plot_bgcolor\": \"#E5ECF6\", \"polar\": {\"angularaxis\": {\"gridcolor\": \"white\", \"linecolor\": \"white\", \"ticks\": \"\"}, \"bgcolor\": \"#E5ECF6\", \"radialaxis\": {\"gridcolor\": \"white\", \"linecolor\": \"white\", \"ticks\": \"\"}}, \"scene\": {\"xaxis\": {\"backgroundcolor\": \"#E5ECF6\", \"gridcolor\": \"white\", \"gridwidth\": 2, \"linecolor\": \"white\", \"showbackground\": true, \"ticks\": \"\", \"zerolinecolor\": \"white\"}, \"yaxis\": {\"backgroundcolor\": \"#E5ECF6\", \"gridcolor\": \"white\", \"gridwidth\": 2, \"linecolor\": \"white\", \"showbackground\": true, \"ticks\": \"\", \"zerolinecolor\": \"white\"}, \"zaxis\": {\"backgroundcolor\": \"#E5ECF6\", \"gridcolor\": \"white\", \"gridwidth\": 2, \"linecolor\": \"white\", \"showbackground\": true, \"ticks\": \"\", \"zerolinecolor\": \"white\"}}, \"shapedefaults\": {\"line\": {\"color\": \"#2a3f5f\"}}, \"ternary\": {\"aaxis\": {\"gridcolor\": \"white\", \"linecolor\": \"white\", \"ticks\": \"\"}, \"baxis\": {\"gridcolor\": \"white\", \"linecolor\": \"white\", \"ticks\": \"\"}, \"bgcolor\": \"#E5ECF6\", \"caxis\": {\"gridcolor\": \"white\", \"linecolor\": \"white\", \"ticks\": \"\"}}, \"title\": {\"x\": 0.05}, \"xaxis\": {\"automargin\": true, \"gridcolor\": \"white\", \"linecolor\": \"white\", \"ticks\": \"\", \"title\": {\"standoff\": 15}, \"zerolinecolor\": \"white\", \"zerolinewidth\": 2}, \"yaxis\": {\"automargin\": true, \"gridcolor\": \"white\", \"linecolor\": \"white\", \"ticks\": \"\", \"title\": {\"standoff\": 15}, \"zerolinecolor\": \"white\", \"zerolinewidth\": 2}}}, \"title\": {\"font\": {\"color\": \"#4D5663\"}}, \"xaxis\": {\"gridcolor\": \"#E1E5ED\", \"showgrid\": true, \"tickfont\": {\"color\": \"#4D5663\"}, \"title\": {\"font\": {\"color\": \"#4D5663\"}, \"text\": \"\"}, \"zerolinecolor\": \"#E1E5ED\"}, \"yaxis\": {\"gridcolor\": \"#E1E5ED\", \"showgrid\": true, \"tickfont\": {\"color\": \"#4D5663\"}, \"title\": {\"font\": {\"color\": \"#4D5663\"}, \"text\": \"\"}, \"zerolinecolor\": \"#E1E5ED\"}},                        {\"showLink\": true, \"linkText\": \"Export to plot.ly\", \"plotlyServerURL\": \"https://plot.ly\", \"responsive\": true}                    ).then(function(){\n",
       "                            \n",
       "var gd = document.getElementById('06745904-7a8b-4109-ada8-c67270b1492c');\n",
       "var x = new MutationObserver(function (mutations, observer) {{\n",
       "        var display = window.getComputedStyle(gd).display;\n",
       "        if (!display || display === 'none') {{\n",
       "            console.log([gd, 'removed!']);\n",
       "            Plotly.purge(gd);\n",
       "            observer.disconnect();\n",
       "        }}\n",
       "}});\n",
       "\n",
       "// Listen for the removal of the full notebook cells\n",
       "var notebookContainer = gd.closest('#notebook-container');\n",
       "if (notebookContainer) {{\n",
       "    x.observe(notebookContainer, {childList: true});\n",
       "}}\n",
       "\n",
       "// Listen for the clearing of the current output cell\n",
       "var outputEl = gd.closest('.output');\n",
       "if (outputEl) {{\n",
       "    x.observe(outputEl, {childList: true});\n",
       "}}\n",
       "\n",
       "                        })                };                });            </script>        </div>"
      ]
     },
     "metadata": {},
     "output_type": "display_data"
    }
   ],
   "source": [
    "# Create an interactive 3d surface plot with a specific color scale\n",
    "df[['A','C','D']].iplot(kind='surface',colorscale='rdylbu')"
   ]
  },
  {
   "cell_type": "markdown",
   "metadata": {},
   "source": [
    "## Interactive Histograms"
   ]
  },
  {
   "cell_type": "code",
   "execution_count": 25,
   "metadata": {},
   "outputs": [
    {
     "data": {
      "application/vnd.plotly.v1+json": {
       "config": {
        "linkText": "Export to plot.ly",
        "plotlyServerURL": "https://plot.ly",
        "showLink": true
       },
       "data": [
        {
         "histfunc": "count",
         "histnorm": "",
         "marker": {
          "color": "rgba(255, 153, 51, 1.0)",
          "line": {
           "color": "#4D5663",
           "width": 1.3
          }
         },
         "name": "D",
         "opacity": 0.8,
         "orientation": "v",
         "type": "histogram",
         "x": [
          -0.46896793394847963,
          0.9185701612631408,
          -0.9518353470364371,
          0.48127796570390513,
          -1.3125227628679224,
          -0.6001985612883243,
          1.2438374321973853,
          -1.0553928899948373,
          0.7992286386403018,
          0.6552228453687096,
          1.531139173688056,
          -1.434972124639351,
          0.5886176757481795,
          -0.3256784096497872,
          -0.2623819605419885,
          0.8093293479850361,
          -0.33275476984830865,
          -0.2956276921472676,
          -0.16713256889711028,
          0.18389720704075418,
          0.6657691087241017,
          -1.4997126274775754,
          0.8711561678776168,
          -0.8924685564325691,
          0.6394678129395951,
          -1.196144615877988,
          2.2614519074522,
          0.11987585103470248,
          -2.579662215505832,
          -1.3178324834559312,
          0.46948793870344907,
          -0.2210025562961031,
          1.4552867861558016,
          1.326246985282575,
          -0.054439587001145,
          1.2706741490376032,
          0.7484048322067663,
          1.2710087859871775,
          0.9447743157753115,
          0.0917616016406183,
          -2.0969697544296864,
          -1.1217734741484078,
          -0.35986753254874787,
          0.12035306348613169,
          -1.1902816920463186,
          -1.2966439417613633,
          -0.017967446036095795,
          0.514611017485124,
          -1.4461382765586006,
          1.01186070273958,
          0.8879030485264665,
          0.4676220911886453,
          0.6228012943753499,
          -1.4207209081286396,
          0.2867700005446423,
          -0.6139865568654482,
          -0.5415167711981378,
          -1.9858206491463257,
          0.12723912891542727,
          -0.1793100802880613,
          0.0037780088332585375,
          1.3903163960561136,
          1.5083085016459787,
          0.3926357357086319,
          -0.9743888746263668,
          -0.9454377234958473,
          -0.8321414989740954,
          -1.620960244458763,
          -0.6017219998541727,
          -0.06238112948649538,
          1.6954621456675467,
          1.124584858797205,
          -1.15012884419011,
          -1.4364055469573436,
          0.5664302863033238,
          1.8332136136850243,
          -0.8089001901634655,
          0.43902060972417456,
          0.37600900785175306,
          -1.3948918928031053,
          -0.6904696137869282,
          0.19589727243424596,
          -1.5300619443770898,
          -1.9477439997569757,
          -0.7048608070105993,
          0.0030274862426587037,
          -0.3658721419657042,
          -0.027565836557152504,
          0.46474856183842084,
          -0.4170025571275899,
          0.5118024905797606,
          0.022175819324665814,
          0.07345976472766286,
          -0.6162389548458861,
          -0.546978786397993,
          0.00893652800919723,
          -0.3826503977720516,
          0.2771619614010083,
          0.6072349321310275,
          1.0624815146959694
         ]
        }
       ],
       "layout": {
        "barmode": "overlay",
        "legend": {
         "bgcolor": "#F5F6F9",
         "font": {
          "color": "#4D5663"
         }
        },
        "paper_bgcolor": "#F5F6F9",
        "plot_bgcolor": "#F5F6F9",
        "template": {
         "data": {
          "bar": [
           {
            "error_x": {
             "color": "#2a3f5f"
            },
            "error_y": {
             "color": "#2a3f5f"
            },
            "marker": {
             "line": {
              "color": "#E5ECF6",
              "width": 0.5
             }
            },
            "type": "bar"
           }
          ],
          "barpolar": [
           {
            "marker": {
             "line": {
              "color": "#E5ECF6",
              "width": 0.5
             }
            },
            "type": "barpolar"
           }
          ],
          "carpet": [
           {
            "aaxis": {
             "endlinecolor": "#2a3f5f",
             "gridcolor": "white",
             "linecolor": "white",
             "minorgridcolor": "white",
             "startlinecolor": "#2a3f5f"
            },
            "baxis": {
             "endlinecolor": "#2a3f5f",
             "gridcolor": "white",
             "linecolor": "white",
             "minorgridcolor": "white",
             "startlinecolor": "#2a3f5f"
            },
            "type": "carpet"
           }
          ],
          "choropleth": [
           {
            "colorbar": {
             "outlinewidth": 0,
             "ticks": ""
            },
            "type": "choropleth"
           }
          ],
          "contour": [
           {
            "colorbar": {
             "outlinewidth": 0,
             "ticks": ""
            },
            "colorscale": [
             [
              0,
              "#0d0887"
             ],
             [
              0.1111111111111111,
              "#46039f"
             ],
             [
              0.2222222222222222,
              "#7201a8"
             ],
             [
              0.3333333333333333,
              "#9c179e"
             ],
             [
              0.4444444444444444,
              "#bd3786"
             ],
             [
              0.5555555555555556,
              "#d8576b"
             ],
             [
              0.6666666666666666,
              "#ed7953"
             ],
             [
              0.7777777777777778,
              "#fb9f3a"
             ],
             [
              0.8888888888888888,
              "#fdca26"
             ],
             [
              1,
              "#f0f921"
             ]
            ],
            "type": "contour"
           }
          ],
          "contourcarpet": [
           {
            "colorbar": {
             "outlinewidth": 0,
             "ticks": ""
            },
            "type": "contourcarpet"
           }
          ],
          "heatmap": [
           {
            "colorbar": {
             "outlinewidth": 0,
             "ticks": ""
            },
            "colorscale": [
             [
              0,
              "#0d0887"
             ],
             [
              0.1111111111111111,
              "#46039f"
             ],
             [
              0.2222222222222222,
              "#7201a8"
             ],
             [
              0.3333333333333333,
              "#9c179e"
             ],
             [
              0.4444444444444444,
              "#bd3786"
             ],
             [
              0.5555555555555556,
              "#d8576b"
             ],
             [
              0.6666666666666666,
              "#ed7953"
             ],
             [
              0.7777777777777778,
              "#fb9f3a"
             ],
             [
              0.8888888888888888,
              "#fdca26"
             ],
             [
              1,
              "#f0f921"
             ]
            ],
            "type": "heatmap"
           }
          ],
          "heatmapgl": [
           {
            "colorbar": {
             "outlinewidth": 0,
             "ticks": ""
            },
            "colorscale": [
             [
              0,
              "#0d0887"
             ],
             [
              0.1111111111111111,
              "#46039f"
             ],
             [
              0.2222222222222222,
              "#7201a8"
             ],
             [
              0.3333333333333333,
              "#9c179e"
             ],
             [
              0.4444444444444444,
              "#bd3786"
             ],
             [
              0.5555555555555556,
              "#d8576b"
             ],
             [
              0.6666666666666666,
              "#ed7953"
             ],
             [
              0.7777777777777778,
              "#fb9f3a"
             ],
             [
              0.8888888888888888,
              "#fdca26"
             ],
             [
              1,
              "#f0f921"
             ]
            ],
            "type": "heatmapgl"
           }
          ],
          "histogram": [
           {
            "marker": {
             "colorbar": {
              "outlinewidth": 0,
              "ticks": ""
             }
            },
            "type": "histogram"
           }
          ],
          "histogram2d": [
           {
            "colorbar": {
             "outlinewidth": 0,
             "ticks": ""
            },
            "colorscale": [
             [
              0,
              "#0d0887"
             ],
             [
              0.1111111111111111,
              "#46039f"
             ],
             [
              0.2222222222222222,
              "#7201a8"
             ],
             [
              0.3333333333333333,
              "#9c179e"
             ],
             [
              0.4444444444444444,
              "#bd3786"
             ],
             [
              0.5555555555555556,
              "#d8576b"
             ],
             [
              0.6666666666666666,
              "#ed7953"
             ],
             [
              0.7777777777777778,
              "#fb9f3a"
             ],
             [
              0.8888888888888888,
              "#fdca26"
             ],
             [
              1,
              "#f0f921"
             ]
            ],
            "type": "histogram2d"
           }
          ],
          "histogram2dcontour": [
           {
            "colorbar": {
             "outlinewidth": 0,
             "ticks": ""
            },
            "colorscale": [
             [
              0,
              "#0d0887"
             ],
             [
              0.1111111111111111,
              "#46039f"
             ],
             [
              0.2222222222222222,
              "#7201a8"
             ],
             [
              0.3333333333333333,
              "#9c179e"
             ],
             [
              0.4444444444444444,
              "#bd3786"
             ],
             [
              0.5555555555555556,
              "#d8576b"
             ],
             [
              0.6666666666666666,
              "#ed7953"
             ],
             [
              0.7777777777777778,
              "#fb9f3a"
             ],
             [
              0.8888888888888888,
              "#fdca26"
             ],
             [
              1,
              "#f0f921"
             ]
            ],
            "type": "histogram2dcontour"
           }
          ],
          "mesh3d": [
           {
            "colorbar": {
             "outlinewidth": 0,
             "ticks": ""
            },
            "type": "mesh3d"
           }
          ],
          "parcoords": [
           {
            "line": {
             "colorbar": {
              "outlinewidth": 0,
              "ticks": ""
             }
            },
            "type": "parcoords"
           }
          ],
          "pie": [
           {
            "automargin": true,
            "type": "pie"
           }
          ],
          "scatter": [
           {
            "marker": {
             "colorbar": {
              "outlinewidth": 0,
              "ticks": ""
             }
            },
            "type": "scatter"
           }
          ],
          "scatter3d": [
           {
            "line": {
             "colorbar": {
              "outlinewidth": 0,
              "ticks": ""
             }
            },
            "marker": {
             "colorbar": {
              "outlinewidth": 0,
              "ticks": ""
             }
            },
            "type": "scatter3d"
           }
          ],
          "scattercarpet": [
           {
            "marker": {
             "colorbar": {
              "outlinewidth": 0,
              "ticks": ""
             }
            },
            "type": "scattercarpet"
           }
          ],
          "scattergeo": [
           {
            "marker": {
             "colorbar": {
              "outlinewidth": 0,
              "ticks": ""
             }
            },
            "type": "scattergeo"
           }
          ],
          "scattergl": [
           {
            "marker": {
             "colorbar": {
              "outlinewidth": 0,
              "ticks": ""
             }
            },
            "type": "scattergl"
           }
          ],
          "scattermapbox": [
           {
            "marker": {
             "colorbar": {
              "outlinewidth": 0,
              "ticks": ""
             }
            },
            "type": "scattermapbox"
           }
          ],
          "scatterpolar": [
           {
            "marker": {
             "colorbar": {
              "outlinewidth": 0,
              "ticks": ""
             }
            },
            "type": "scatterpolar"
           }
          ],
          "scatterpolargl": [
           {
            "marker": {
             "colorbar": {
              "outlinewidth": 0,
              "ticks": ""
             }
            },
            "type": "scatterpolargl"
           }
          ],
          "scatterternary": [
           {
            "marker": {
             "colorbar": {
              "outlinewidth": 0,
              "ticks": ""
             }
            },
            "type": "scatterternary"
           }
          ],
          "surface": [
           {
            "colorbar": {
             "outlinewidth": 0,
             "ticks": ""
            },
            "colorscale": [
             [
              0,
              "#0d0887"
             ],
             [
              0.1111111111111111,
              "#46039f"
             ],
             [
              0.2222222222222222,
              "#7201a8"
             ],
             [
              0.3333333333333333,
              "#9c179e"
             ],
             [
              0.4444444444444444,
              "#bd3786"
             ],
             [
              0.5555555555555556,
              "#d8576b"
             ],
             [
              0.6666666666666666,
              "#ed7953"
             ],
             [
              0.7777777777777778,
              "#fb9f3a"
             ],
             [
              0.8888888888888888,
              "#fdca26"
             ],
             [
              1,
              "#f0f921"
             ]
            ],
            "type": "surface"
           }
          ],
          "table": [
           {
            "cells": {
             "fill": {
              "color": "#EBF0F8"
             },
             "line": {
              "color": "white"
             }
            },
            "header": {
             "fill": {
              "color": "#C8D4E3"
             },
             "line": {
              "color": "white"
             }
            },
            "type": "table"
           }
          ]
         },
         "layout": {
          "annotationdefaults": {
           "arrowcolor": "#2a3f5f",
           "arrowhead": 0,
           "arrowwidth": 1
          },
          "coloraxis": {
           "colorbar": {
            "outlinewidth": 0,
            "ticks": ""
           }
          },
          "colorscale": {
           "diverging": [
            [
             0,
             "#8e0152"
            ],
            [
             0.1,
             "#c51b7d"
            ],
            [
             0.2,
             "#de77ae"
            ],
            [
             0.3,
             "#f1b6da"
            ],
            [
             0.4,
             "#fde0ef"
            ],
            [
             0.5,
             "#f7f7f7"
            ],
            [
             0.6,
             "#e6f5d0"
            ],
            [
             0.7,
             "#b8e186"
            ],
            [
             0.8,
             "#7fbc41"
            ],
            [
             0.9,
             "#4d9221"
            ],
            [
             1,
             "#276419"
            ]
           ],
           "sequential": [
            [
             0,
             "#0d0887"
            ],
            [
             0.1111111111111111,
             "#46039f"
            ],
            [
             0.2222222222222222,
             "#7201a8"
            ],
            [
             0.3333333333333333,
             "#9c179e"
            ],
            [
             0.4444444444444444,
             "#bd3786"
            ],
            [
             0.5555555555555556,
             "#d8576b"
            ],
            [
             0.6666666666666666,
             "#ed7953"
            ],
            [
             0.7777777777777778,
             "#fb9f3a"
            ],
            [
             0.8888888888888888,
             "#fdca26"
            ],
            [
             1,
             "#f0f921"
            ]
           ],
           "sequentialminus": [
            [
             0,
             "#0d0887"
            ],
            [
             0.1111111111111111,
             "#46039f"
            ],
            [
             0.2222222222222222,
             "#7201a8"
            ],
            [
             0.3333333333333333,
             "#9c179e"
            ],
            [
             0.4444444444444444,
             "#bd3786"
            ],
            [
             0.5555555555555556,
             "#d8576b"
            ],
            [
             0.6666666666666666,
             "#ed7953"
            ],
            [
             0.7777777777777778,
             "#fb9f3a"
            ],
            [
             0.8888888888888888,
             "#fdca26"
            ],
            [
             1,
             "#f0f921"
            ]
           ]
          },
          "colorway": [
           "#636efa",
           "#EF553B",
           "#00cc96",
           "#ab63fa",
           "#FFA15A",
           "#19d3f3",
           "#FF6692",
           "#B6E880",
           "#FF97FF",
           "#FECB52"
          ],
          "font": {
           "color": "#2a3f5f"
          },
          "geo": {
           "bgcolor": "white",
           "lakecolor": "white",
           "landcolor": "#E5ECF6",
           "showlakes": true,
           "showland": true,
           "subunitcolor": "white"
          },
          "hoverlabel": {
           "align": "left"
          },
          "hovermode": "closest",
          "mapbox": {
           "style": "light"
          },
          "paper_bgcolor": "white",
          "plot_bgcolor": "#E5ECF6",
          "polar": {
           "angularaxis": {
            "gridcolor": "white",
            "linecolor": "white",
            "ticks": ""
           },
           "bgcolor": "#E5ECF6",
           "radialaxis": {
            "gridcolor": "white",
            "linecolor": "white",
            "ticks": ""
           }
          },
          "scene": {
           "xaxis": {
            "backgroundcolor": "#E5ECF6",
            "gridcolor": "white",
            "gridwidth": 2,
            "linecolor": "white",
            "showbackground": true,
            "ticks": "",
            "zerolinecolor": "white"
           },
           "yaxis": {
            "backgroundcolor": "#E5ECF6",
            "gridcolor": "white",
            "gridwidth": 2,
            "linecolor": "white",
            "showbackground": true,
            "ticks": "",
            "zerolinecolor": "white"
           },
           "zaxis": {
            "backgroundcolor": "#E5ECF6",
            "gridcolor": "white",
            "gridwidth": 2,
            "linecolor": "white",
            "showbackground": true,
            "ticks": "",
            "zerolinecolor": "white"
           }
          },
          "shapedefaults": {
           "line": {
            "color": "#2a3f5f"
           }
          },
          "ternary": {
           "aaxis": {
            "gridcolor": "white",
            "linecolor": "white",
            "ticks": ""
           },
           "baxis": {
            "gridcolor": "white",
            "linecolor": "white",
            "ticks": ""
           },
           "bgcolor": "#E5ECF6",
           "caxis": {
            "gridcolor": "white",
            "linecolor": "white",
            "ticks": ""
           }
          },
          "title": {
           "x": 0.05
          },
          "xaxis": {
           "automargin": true,
           "gridcolor": "white",
           "linecolor": "white",
           "ticks": "",
           "title": {
            "standoff": 15
           },
           "zerolinecolor": "white",
           "zerolinewidth": 2
          },
          "yaxis": {
           "automargin": true,
           "gridcolor": "white",
           "linecolor": "white",
           "ticks": "",
           "title": {
            "standoff": 15
           },
           "zerolinecolor": "white",
           "zerolinewidth": 2
          }
         }
        },
        "title": {
         "font": {
          "color": "#4D5663"
         }
        },
        "xaxis": {
         "gridcolor": "#E1E5ED",
         "showgrid": true,
         "tickfont": {
          "color": "#4D5663"
         },
         "title": {
          "font": {
           "color": "#4D5663"
          },
          "text": ""
         },
         "zerolinecolor": "#E1E5ED"
        },
        "yaxis": {
         "gridcolor": "#E1E5ED",
         "showgrid": true,
         "tickfont": {
          "color": "#4D5663"
         },
         "title": {
          "font": {
           "color": "#4D5663"
          },
          "text": ""
         },
         "zerolinecolor": "#E1E5ED"
        }
       }
      },
      "text/html": [
       "<div>                            <div id=\"8e7a4420-e341-4430-8f94-ca0e21bf5170\" class=\"plotly-graph-div\" style=\"height:525px; width:100%;\"></div>            <script type=\"text/javascript\">                require([\"plotly\"], function(Plotly) {                    window.PLOTLYENV=window.PLOTLYENV || {};\n",
       "                    window.PLOTLYENV.BASE_URL='https://plot.ly';                                    if (document.getElementById(\"8e7a4420-e341-4430-8f94-ca0e21bf5170\")) {                    Plotly.newPlot(                        \"8e7a4420-e341-4430-8f94-ca0e21bf5170\",                        [{\"histfunc\": \"count\", \"histnorm\": \"\", \"marker\": {\"color\": \"rgba(255, 153, 51, 1.0)\", \"line\": {\"color\": \"#4D5663\", \"width\": 1.3}}, \"name\": \"D\", \"opacity\": 0.8, \"orientation\": \"v\", \"type\": \"histogram\", \"x\": [-0.46896793394847963, 0.9185701612631408, -0.9518353470364371, 0.48127796570390513, -1.3125227628679224, -0.6001985612883243, 1.2438374321973853, -1.0553928899948373, 0.7992286386403018, 0.6552228453687096, 1.531139173688056, -1.434972124639351, 0.5886176757481795, -0.3256784096497872, -0.2623819605419885, 0.8093293479850361, -0.33275476984830865, -0.2956276921472676, -0.16713256889711028, 0.18389720704075418, 0.6657691087241017, -1.4997126274775754, 0.8711561678776168, -0.8924685564325691, 0.6394678129395951, -1.196144615877988, 2.2614519074522, 0.11987585103470248, -2.579662215505832, -1.3178324834559312, 0.46948793870344907, -0.2210025562961031, 1.4552867861558016, 1.326246985282575, -0.054439587001145, 1.2706741490376032, 0.7484048322067663, 1.2710087859871775, 0.9447743157753115, 0.0917616016406183, -2.0969697544296864, -1.1217734741484078, -0.35986753254874787, 0.12035306348613169, -1.1902816920463186, -1.2966439417613633, -0.017967446036095795, 0.514611017485124, -1.4461382765586006, 1.01186070273958, 0.8879030485264665, 0.4676220911886453, 0.6228012943753499, -1.4207209081286396, 0.2867700005446423, -0.6139865568654482, -0.5415167711981378, -1.9858206491463257, 0.12723912891542727, -0.1793100802880613, 0.0037780088332585375, 1.3903163960561136, 1.5083085016459787, 0.3926357357086319, -0.9743888746263668, -0.9454377234958473, -0.8321414989740954, -1.620960244458763, -0.6017219998541727, -0.06238112948649538, 1.6954621456675467, 1.124584858797205, -1.15012884419011, -1.4364055469573436, 0.5664302863033238, 1.8332136136850243, -0.8089001901634655, 0.43902060972417456, 0.37600900785175306, -1.3948918928031053, -0.6904696137869282, 0.19589727243424596, -1.5300619443770898, -1.9477439997569757, -0.7048608070105993, 0.0030274862426587037, -0.3658721419657042, -0.027565836557152504, 0.46474856183842084, -0.4170025571275899, 0.5118024905797606, 0.022175819324665814, 0.07345976472766286, -0.6162389548458861, -0.546978786397993, 0.00893652800919723, -0.3826503977720516, 0.2771619614010083, 0.6072349321310275, 1.0624815146959694]}],                        {\"barmode\": \"overlay\", \"legend\": {\"bgcolor\": \"#F5F6F9\", \"font\": {\"color\": \"#4D5663\"}}, \"paper_bgcolor\": \"#F5F6F9\", \"plot_bgcolor\": \"#F5F6F9\", \"template\": {\"data\": {\"bar\": [{\"error_x\": {\"color\": \"#2a3f5f\"}, \"error_y\": {\"color\": \"#2a3f5f\"}, \"marker\": {\"line\": {\"color\": \"#E5ECF6\", \"width\": 0.5}}, \"type\": \"bar\"}], \"barpolar\": [{\"marker\": {\"line\": {\"color\": \"#E5ECF6\", \"width\": 0.5}}, \"type\": \"barpolar\"}], \"carpet\": [{\"aaxis\": {\"endlinecolor\": \"#2a3f5f\", \"gridcolor\": \"white\", \"linecolor\": \"white\", \"minorgridcolor\": \"white\", \"startlinecolor\": \"#2a3f5f\"}, \"baxis\": {\"endlinecolor\": \"#2a3f5f\", \"gridcolor\": \"white\", \"linecolor\": \"white\", \"minorgridcolor\": \"white\", \"startlinecolor\": \"#2a3f5f\"}, \"type\": \"carpet\"}], \"choropleth\": [{\"colorbar\": {\"outlinewidth\": 0, \"ticks\": \"\"}, \"type\": \"choropleth\"}], \"contour\": [{\"colorbar\": {\"outlinewidth\": 0, \"ticks\": \"\"}, \"colorscale\": [[0.0, \"#0d0887\"], [0.1111111111111111, \"#46039f\"], [0.2222222222222222, \"#7201a8\"], [0.3333333333333333, \"#9c179e\"], [0.4444444444444444, \"#bd3786\"], [0.5555555555555556, \"#d8576b\"], [0.6666666666666666, \"#ed7953\"], [0.7777777777777778, \"#fb9f3a\"], [0.8888888888888888, \"#fdca26\"], [1.0, \"#f0f921\"]], \"type\": \"contour\"}], \"contourcarpet\": [{\"colorbar\": {\"outlinewidth\": 0, \"ticks\": \"\"}, \"type\": \"contourcarpet\"}], \"heatmap\": [{\"colorbar\": {\"outlinewidth\": 0, \"ticks\": \"\"}, \"colorscale\": [[0.0, \"#0d0887\"], [0.1111111111111111, \"#46039f\"], [0.2222222222222222, \"#7201a8\"], [0.3333333333333333, \"#9c179e\"], [0.4444444444444444, \"#bd3786\"], [0.5555555555555556, \"#d8576b\"], [0.6666666666666666, \"#ed7953\"], [0.7777777777777778, \"#fb9f3a\"], [0.8888888888888888, \"#fdca26\"], [1.0, \"#f0f921\"]], \"type\": \"heatmap\"}], \"heatmapgl\": [{\"colorbar\": {\"outlinewidth\": 0, \"ticks\": \"\"}, \"colorscale\": [[0.0, \"#0d0887\"], [0.1111111111111111, \"#46039f\"], [0.2222222222222222, \"#7201a8\"], [0.3333333333333333, \"#9c179e\"], [0.4444444444444444, \"#bd3786\"], [0.5555555555555556, \"#d8576b\"], [0.6666666666666666, \"#ed7953\"], [0.7777777777777778, \"#fb9f3a\"], [0.8888888888888888, \"#fdca26\"], [1.0, \"#f0f921\"]], \"type\": \"heatmapgl\"}], \"histogram\": [{\"marker\": {\"colorbar\": {\"outlinewidth\": 0, \"ticks\": \"\"}}, \"type\": \"histogram\"}], \"histogram2d\": [{\"colorbar\": {\"outlinewidth\": 0, \"ticks\": \"\"}, \"colorscale\": [[0.0, \"#0d0887\"], [0.1111111111111111, \"#46039f\"], [0.2222222222222222, \"#7201a8\"], [0.3333333333333333, \"#9c179e\"], [0.4444444444444444, \"#bd3786\"], [0.5555555555555556, \"#d8576b\"], [0.6666666666666666, \"#ed7953\"], [0.7777777777777778, \"#fb9f3a\"], [0.8888888888888888, \"#fdca26\"], [1.0, \"#f0f921\"]], \"type\": \"histogram2d\"}], \"histogram2dcontour\": [{\"colorbar\": {\"outlinewidth\": 0, \"ticks\": \"\"}, \"colorscale\": [[0.0, \"#0d0887\"], [0.1111111111111111, \"#46039f\"], [0.2222222222222222, \"#7201a8\"], [0.3333333333333333, \"#9c179e\"], [0.4444444444444444, \"#bd3786\"], [0.5555555555555556, \"#d8576b\"], [0.6666666666666666, \"#ed7953\"], [0.7777777777777778, \"#fb9f3a\"], [0.8888888888888888, \"#fdca26\"], [1.0, \"#f0f921\"]], \"type\": \"histogram2dcontour\"}], \"mesh3d\": [{\"colorbar\": {\"outlinewidth\": 0, \"ticks\": \"\"}, \"type\": \"mesh3d\"}], \"parcoords\": [{\"line\": {\"colorbar\": {\"outlinewidth\": 0, \"ticks\": \"\"}}, \"type\": \"parcoords\"}], \"pie\": [{\"automargin\": true, \"type\": \"pie\"}], \"scatter\": [{\"marker\": {\"colorbar\": {\"outlinewidth\": 0, \"ticks\": \"\"}}, \"type\": \"scatter\"}], \"scatter3d\": [{\"line\": {\"colorbar\": {\"outlinewidth\": 0, \"ticks\": \"\"}}, \"marker\": {\"colorbar\": {\"outlinewidth\": 0, \"ticks\": \"\"}}, \"type\": \"scatter3d\"}], \"scattercarpet\": [{\"marker\": {\"colorbar\": {\"outlinewidth\": 0, \"ticks\": \"\"}}, \"type\": \"scattercarpet\"}], \"scattergeo\": [{\"marker\": {\"colorbar\": {\"outlinewidth\": 0, \"ticks\": \"\"}}, \"type\": \"scattergeo\"}], \"scattergl\": [{\"marker\": {\"colorbar\": {\"outlinewidth\": 0, \"ticks\": \"\"}}, \"type\": \"scattergl\"}], \"scattermapbox\": [{\"marker\": {\"colorbar\": {\"outlinewidth\": 0, \"ticks\": \"\"}}, \"type\": \"scattermapbox\"}], \"scatterpolar\": [{\"marker\": {\"colorbar\": {\"outlinewidth\": 0, \"ticks\": \"\"}}, \"type\": \"scatterpolar\"}], \"scatterpolargl\": [{\"marker\": {\"colorbar\": {\"outlinewidth\": 0, \"ticks\": \"\"}}, \"type\": \"scatterpolargl\"}], \"scatterternary\": [{\"marker\": {\"colorbar\": {\"outlinewidth\": 0, \"ticks\": \"\"}}, \"type\": \"scatterternary\"}], \"surface\": [{\"colorbar\": {\"outlinewidth\": 0, \"ticks\": \"\"}, \"colorscale\": [[0.0, \"#0d0887\"], [0.1111111111111111, \"#46039f\"], [0.2222222222222222, \"#7201a8\"], [0.3333333333333333, \"#9c179e\"], [0.4444444444444444, \"#bd3786\"], [0.5555555555555556, \"#d8576b\"], [0.6666666666666666, \"#ed7953\"], [0.7777777777777778, \"#fb9f3a\"], [0.8888888888888888, \"#fdca26\"], [1.0, \"#f0f921\"]], \"type\": \"surface\"}], \"table\": [{\"cells\": {\"fill\": {\"color\": \"#EBF0F8\"}, \"line\": {\"color\": \"white\"}}, \"header\": {\"fill\": {\"color\": \"#C8D4E3\"}, \"line\": {\"color\": \"white\"}}, \"type\": \"table\"}]}, \"layout\": {\"annotationdefaults\": {\"arrowcolor\": \"#2a3f5f\", \"arrowhead\": 0, \"arrowwidth\": 1}, \"coloraxis\": {\"colorbar\": {\"outlinewidth\": 0, \"ticks\": \"\"}}, \"colorscale\": {\"diverging\": [[0, \"#8e0152\"], [0.1, \"#c51b7d\"], [0.2, \"#de77ae\"], [0.3, \"#f1b6da\"], [0.4, \"#fde0ef\"], [0.5, \"#f7f7f7\"], [0.6, \"#e6f5d0\"], [0.7, \"#b8e186\"], [0.8, \"#7fbc41\"], [0.9, \"#4d9221\"], [1, \"#276419\"]], \"sequential\": [[0.0, \"#0d0887\"], [0.1111111111111111, \"#46039f\"], [0.2222222222222222, \"#7201a8\"], [0.3333333333333333, \"#9c179e\"], [0.4444444444444444, \"#bd3786\"], [0.5555555555555556, \"#d8576b\"], [0.6666666666666666, \"#ed7953\"], [0.7777777777777778, \"#fb9f3a\"], [0.8888888888888888, \"#fdca26\"], [1.0, \"#f0f921\"]], \"sequentialminus\": [[0.0, \"#0d0887\"], [0.1111111111111111, \"#46039f\"], [0.2222222222222222, \"#7201a8\"], [0.3333333333333333, \"#9c179e\"], [0.4444444444444444, \"#bd3786\"], [0.5555555555555556, \"#d8576b\"], [0.6666666666666666, \"#ed7953\"], [0.7777777777777778, \"#fb9f3a\"], [0.8888888888888888, \"#fdca26\"], [1.0, \"#f0f921\"]]}, \"colorway\": [\"#636efa\", \"#EF553B\", \"#00cc96\", \"#ab63fa\", \"#FFA15A\", \"#19d3f3\", \"#FF6692\", \"#B6E880\", \"#FF97FF\", \"#FECB52\"], \"font\": {\"color\": \"#2a3f5f\"}, \"geo\": {\"bgcolor\": \"white\", \"lakecolor\": \"white\", \"landcolor\": \"#E5ECF6\", \"showlakes\": true, \"showland\": true, \"subunitcolor\": \"white\"}, \"hoverlabel\": {\"align\": \"left\"}, \"hovermode\": \"closest\", \"mapbox\": {\"style\": \"light\"}, \"paper_bgcolor\": \"white\", \"plot_bgcolor\": \"#E5ECF6\", \"polar\": {\"angularaxis\": {\"gridcolor\": \"white\", \"linecolor\": \"white\", \"ticks\": \"\"}, \"bgcolor\": \"#E5ECF6\", \"radialaxis\": {\"gridcolor\": \"white\", \"linecolor\": \"white\", \"ticks\": \"\"}}, \"scene\": {\"xaxis\": {\"backgroundcolor\": \"#E5ECF6\", \"gridcolor\": \"white\", \"gridwidth\": 2, \"linecolor\": \"white\", \"showbackground\": true, \"ticks\": \"\", \"zerolinecolor\": \"white\"}, \"yaxis\": {\"backgroundcolor\": \"#E5ECF6\", \"gridcolor\": \"white\", \"gridwidth\": 2, \"linecolor\": \"white\", \"showbackground\": true, \"ticks\": \"\", \"zerolinecolor\": \"white\"}, \"zaxis\": {\"backgroundcolor\": \"#E5ECF6\", \"gridcolor\": \"white\", \"gridwidth\": 2, \"linecolor\": \"white\", \"showbackground\": true, \"ticks\": \"\", \"zerolinecolor\": \"white\"}}, \"shapedefaults\": {\"line\": {\"color\": \"#2a3f5f\"}}, \"ternary\": {\"aaxis\": {\"gridcolor\": \"white\", \"linecolor\": \"white\", \"ticks\": \"\"}, \"baxis\": {\"gridcolor\": \"white\", \"linecolor\": \"white\", \"ticks\": \"\"}, \"bgcolor\": \"#E5ECF6\", \"caxis\": {\"gridcolor\": \"white\", \"linecolor\": \"white\", \"ticks\": \"\"}}, \"title\": {\"x\": 0.05}, \"xaxis\": {\"automargin\": true, \"gridcolor\": \"white\", \"linecolor\": \"white\", \"ticks\": \"\", \"title\": {\"standoff\": 15}, \"zerolinecolor\": \"white\", \"zerolinewidth\": 2}, \"yaxis\": {\"automargin\": true, \"gridcolor\": \"white\", \"linecolor\": \"white\", \"ticks\": \"\", \"title\": {\"standoff\": 15}, \"zerolinecolor\": \"white\", \"zerolinewidth\": 2}}}, \"title\": {\"font\": {\"color\": \"#4D5663\"}}, \"xaxis\": {\"gridcolor\": \"#E1E5ED\", \"showgrid\": true, \"tickfont\": {\"color\": \"#4D5663\"}, \"title\": {\"font\": {\"color\": \"#4D5663\"}, \"text\": \"\"}, \"zerolinecolor\": \"#E1E5ED\"}, \"yaxis\": {\"gridcolor\": \"#E1E5ED\", \"showgrid\": true, \"tickfont\": {\"color\": \"#4D5663\"}, \"title\": {\"font\": {\"color\": \"#4D5663\"}, \"text\": \"\"}, \"zerolinecolor\": \"#E1E5ED\"}},                        {\"showLink\": true, \"linkText\": \"Export to plot.ly\", \"plotlyServerURL\": \"https://plot.ly\", \"responsive\": true}                    ).then(function(){\n",
       "                            \n",
       "var gd = document.getElementById('8e7a4420-e341-4430-8f94-ca0e21bf5170');\n",
       "var x = new MutationObserver(function (mutations, observer) {{\n",
       "        var display = window.getComputedStyle(gd).display;\n",
       "        if (!display || display === 'none') {{\n",
       "            console.log([gd, 'removed!']);\n",
       "            Plotly.purge(gd);\n",
       "            observer.disconnect();\n",
       "        }}\n",
       "}});\n",
       "\n",
       "// Listen for the removal of the full notebook cells\n",
       "var notebookContainer = gd.closest('#notebook-container');\n",
       "if (notebookContainer) {{\n",
       "    x.observe(notebookContainer, {childList: true});\n",
       "}}\n",
       "\n",
       "// Listen for the clearing of the current output cell\n",
       "var outputEl = gd.closest('.output');\n",
       "if (outputEl) {{\n",
       "    x.observe(outputEl, {childList: true});\n",
       "}}\n",
       "\n",
       "                        })                };                });            </script>        </div>"
      ]
     },
     "metadata": {},
     "output_type": "display_data"
    }
   ],
   "source": [
    "# Create an interactive histogram\n",
    "df['D'].iplot(kind='hist')"
   ]
  },
  {
   "cell_type": "markdown",
   "metadata": {},
   "source": [
    "## Interactive Spread Plot\n",
    "\n",
    "Really useful for financial stock data."
   ]
  },
  {
   "cell_type": "code",
   "execution_count": 29,
   "metadata": {},
   "outputs": [
    {
     "data": {
      "application/vnd.plotly.v1+json": {
       "config": {
        "linkText": "Export to plot.ly",
        "plotlyServerURL": "https://plot.ly",
        "showLink": true
       },
       "data": [
        {
         "line": {
          "color": "rgba(255, 153, 51, 1.0)",
          "dash": "solid",
          "shape": "linear",
          "width": 1.3
         },
         "mode": "lines",
         "name": "D",
         "text": "",
         "type": "scatter",
         "x": [
          0,
          1,
          2,
          3,
          4,
          5,
          6,
          7,
          8,
          9,
          10,
          11,
          12,
          13,
          14,
          15,
          16,
          17,
          18,
          19,
          20,
          21,
          22,
          23,
          24,
          25,
          26,
          27,
          28,
          29,
          30,
          31,
          32,
          33,
          34,
          35,
          36,
          37,
          38,
          39,
          40,
          41,
          42,
          43,
          44,
          45,
          46,
          47,
          48,
          49,
          50,
          51,
          52,
          53,
          54,
          55,
          56,
          57,
          58,
          59,
          60,
          61,
          62,
          63,
          64,
          65,
          66,
          67,
          68,
          69,
          70,
          71,
          72,
          73,
          74,
          75,
          76,
          77,
          78,
          79,
          80,
          81,
          82,
          83,
          84,
          85,
          86,
          87,
          88,
          89,
          90,
          91,
          92,
          93,
          94,
          95,
          96,
          97,
          98,
          99
         ],
         "y": [
          -0.46896793394847963,
          0.9185701612631408,
          -0.9518353470364371,
          0.48127796570390513,
          -1.3125227628679224,
          -0.6001985612883243,
          1.2438374321973853,
          -1.0553928899948373,
          0.7992286386403018,
          0.6552228453687096,
          1.531139173688056,
          -1.434972124639351,
          0.5886176757481795,
          -0.3256784096497872,
          -0.2623819605419885,
          0.8093293479850361,
          -0.33275476984830865,
          -0.2956276921472676,
          -0.16713256889711028,
          0.18389720704075418,
          0.6657691087241017,
          -1.4997126274775754,
          0.8711561678776168,
          -0.8924685564325691,
          0.6394678129395951,
          -1.196144615877988,
          2.2614519074522,
          0.11987585103470248,
          -2.579662215505832,
          -1.3178324834559312,
          0.46948793870344907,
          -0.2210025562961031,
          1.4552867861558016,
          1.326246985282575,
          -0.054439587001145,
          1.2706741490376032,
          0.7484048322067663,
          1.2710087859871775,
          0.9447743157753115,
          0.0917616016406183,
          -2.0969697544296864,
          -1.1217734741484078,
          -0.35986753254874787,
          0.12035306348613169,
          -1.1902816920463186,
          -1.2966439417613633,
          -0.017967446036095795,
          0.514611017485124,
          -1.4461382765586006,
          1.01186070273958,
          0.8879030485264665,
          0.4676220911886453,
          0.6228012943753499,
          -1.4207209081286396,
          0.2867700005446423,
          -0.6139865568654482,
          -0.5415167711981378,
          -1.9858206491463257,
          0.12723912891542727,
          -0.1793100802880613,
          0.0037780088332585375,
          1.3903163960561136,
          1.5083085016459787,
          0.3926357357086319,
          -0.9743888746263668,
          -0.9454377234958473,
          -0.8321414989740954,
          -1.620960244458763,
          -0.6017219998541727,
          -0.06238112948649538,
          1.6954621456675467,
          1.124584858797205,
          -1.15012884419011,
          -1.4364055469573436,
          0.5664302863033238,
          1.8332136136850243,
          -0.8089001901634655,
          0.43902060972417456,
          0.37600900785175306,
          -1.3948918928031053,
          -0.6904696137869282,
          0.19589727243424596,
          -1.5300619443770898,
          -1.9477439997569757,
          -0.7048608070105993,
          0.0030274862426587037,
          -0.3658721419657042,
          -0.027565836557152504,
          0.46474856183842084,
          -0.4170025571275899,
          0.5118024905797606,
          0.022175819324665814,
          0.07345976472766286,
          -0.6162389548458861,
          -0.546978786397993,
          0.00893652800919723,
          -0.3826503977720516,
          0.2771619614010083,
          0.6072349321310275,
          1.0624815146959694
         ]
        },
        {
         "line": {
          "color": "rgba(55, 128, 191, 1.0)",
          "dash": "solid",
          "shape": "linear",
          "width": 1.3
         },
         "mode": "lines",
         "name": "C",
         "text": "",
         "type": "scatter",
         "x": [
          0,
          1,
          2,
          3,
          4,
          5,
          6,
          7,
          8,
          9,
          10,
          11,
          12,
          13,
          14,
          15,
          16,
          17,
          18,
          19,
          20,
          21,
          22,
          23,
          24,
          25,
          26,
          27,
          28,
          29,
          30,
          31,
          32,
          33,
          34,
          35,
          36,
          37,
          38,
          39,
          40,
          41,
          42,
          43,
          44,
          45,
          46,
          47,
          48,
          49,
          50,
          51,
          52,
          53,
          54,
          55,
          56,
          57,
          58,
          59,
          60,
          61,
          62,
          63,
          64,
          65,
          66,
          67,
          68,
          69,
          70,
          71,
          72,
          73,
          74,
          75,
          76,
          77,
          78,
          79,
          80,
          81,
          82,
          83,
          84,
          85,
          86,
          87,
          88,
          89,
          90,
          91,
          92,
          93,
          94,
          95,
          96,
          97,
          98,
          99
         ],
         "y": [
          -0.8156211921936473,
          -0.3488054734179534,
          1.3634652871830246,
          0.6827654196928922,
          -1.0579817213633653,
          -0.9172741010318527,
          -1.0111454672320228,
          2.1474195456264242,
          -0.029116717408046878,
          -0.10503227051826579,
          -1.8982085799443809,
          -0.061607126903382985,
          -1.461069514841389,
          -0.4159207500708357,
          0.5428281012175966,
          -1.1064321564326451,
          1.1818468571532845,
          -0.4997449331078411,
          0.6513450257522175,
          -1.0096901464963166,
          0.7777710862030701,
          1.1156051451021982,
          -1.3963977721174032,
          -2.1957740562038897,
          -0.003082555605334334,
          -0.8711334400342721,
          -1.1721695448682867,
          0.9015731399020005,
          -0.7687236581093563,
          0.648912600414831,
          -0.3370999147061945,
          -0.2557289363041199,
          1.3940022814140893,
          -1.0918291338075325,
          0.926385756882171,
          -0.02699273090378049,
          -1.9310415085129753,
          -2.0537105543928087,
          1.331393828819895,
          -1.2479264355796142,
          1.3244176563546068,
          0.4547765829735793,
          -0.9485957942455121,
          0.7711272727493926,
          0.10770503293463943,
          -0.34345388358808904,
          -0.2901651965788942,
          -1.8859801912106564,
          -0.06463771887301847,
          0.7339329153613252,
          -2.9813490059807424,
          0.49298111601570926,
          2.089197422357034,
          0.5485407093266145,
          -0.45294081667793284,
          -1.2343570095799694,
          -0.6043887454889516,
          0.19698825224500555,
          0.2525008929314805,
          0.49330016796457193,
          -1.3296448063379627,
          -1.3199625654791716,
          -0.22952536088723396,
          -2.100923552982224,
          -1.2766272123803133,
          -0.0759219486515562,
          -1.3161580407429254,
          0.06457107233952505,
          0.11828851281676804,
          -0.1854970115502745,
          -0.6904859218641665,
          0.9987015332368285,
          1.0653613654646588,
          0.30642527390970625,
          0.005411555193580738,
          0.46565443254592476,
          -0.5513607990797764,
          -0.6156892013681534,
          1.0864651990406675,
          1.2076925241549614,
          0.02996839767387277,
          -0.014468892242910269,
          2.314696376629038,
          2.208168488408517,
          -1.3983413330991918,
          0.8986343834667301,
          0.9916299241963795,
          -0.20474753074899615,
          -0.2318152457813195,
          -0.41240495042251296,
          -1.5084220112468731,
          -0.2339935120152956,
          -0.6079408227599712,
          -0.09966875704636555,
          0.23726828071761713,
          -1.7732192190847027,
          0.28673585713418004,
          -0.7359231672703281,
          0.14300452088914767,
          1.6972975653855318
         ]
        },
        {
         "connectgaps": false,
         "fill": "tozeroy",
         "line": {
          "color": "green",
          "dash": "solid",
          "shape": "linear",
          "width": 0.5
         },
         "mode": "lines",
         "name": "Spread",
         "showlegend": false,
         "type": "scatter",
         "x": [
          0,
          1,
          2,
          3,
          4,
          5,
          6,
          7,
          8,
          9,
          10,
          11,
          12,
          13,
          14,
          15,
          16,
          17,
          18,
          19,
          20,
          21,
          22,
          23,
          24,
          25,
          26,
          27,
          28,
          29,
          30,
          31,
          32,
          33,
          34,
          35,
          36,
          37,
          38,
          39,
          40,
          41,
          42,
          43,
          44,
          45,
          46,
          47,
          48,
          49,
          50,
          51,
          52,
          53,
          54,
          55,
          56,
          57,
          58,
          59,
          60,
          61,
          62,
          63,
          64,
          65,
          66,
          67,
          68,
          69,
          70,
          71,
          72,
          73,
          74,
          75,
          76,
          77,
          78,
          79,
          80,
          81,
          82,
          83,
          84,
          85,
          86,
          87,
          88,
          89,
          90,
          91,
          92,
          93,
          94,
          95,
          96,
          97,
          98,
          99
         ],
         "xaxis": "x2",
         "y": [
          0.34665325824516763,
          1.2673756346810943,
          "",
          "",
          "",
          0.3170755397435284,
          2.2549828994294083,
          "",
          0.8283453560483487,
          0.7602551158869754,
          3.429347753632437,
          "",
          2.0496871905895686,
          0.09024234042104845,
          "",
          1.9157615044176812,
          "",
          0.20411724096057354,
          "",
          1.1935873535370707,
          "",
          "",
          2.26755393999502,
          1.3033054997713207,
          0.6425503685449294,
          "",
          3.433621452320487,
          "",
          "",
          "",
          0.8065878534096436,
          0.03472638000801681,
          0.06128450474171232,
          2.4180761190901077,
          "",
          1.2976668799413837,
          2.6794463407197417,
          3.3247193403799864,
          "",
          1.3396880372202324,
          "",
          "",
          0.5887282616967642,
          "",
          "",
          "",
          0.27219775054279843,
          2.40059120869578,
          "",
          0.27792778737825485,
          3.869252054507209,
          "",
          "",
          "",
          0.7397108172225751,
          0.6203704527145212,
          0.06287197429081381,
          "",
          "",
          "",
          1.3334228151712213,
          2.710278961535285,
          1.7378338625332126,
          2.493559288690856,
          0.3022383377539465,
          "",
          0.48401654176883,
          "",
          "",
          0.12311588206377913,
          2.385948067531713,
          0.1258833255603764,
          "",
          "",
          0.5610187311097431,
          1.3675591811390997,
          "",
          1.0547098110923279,
          "",
          "",
          "",
          0.21036616467715621,
          "",
          "",
          0.6934805260885926,
          "",
          "",
          0.17718169419184365,
          0.6965638076197403,
          "",
          2.020224501826634,
          0.25616933133996145,
          0.6814005874876341,
          "",
          "",
          1.7821557470939,
          "",
          1.0130851286713365,
          0.46423041124187986,
          ""
         ],
         "yaxis": "y2"
        },
        {
         "connectgaps": false,
         "fill": "tozeroy",
         "line": {
          "color": "red",
          "dash": "solid",
          "shape": "linear",
          "width": 0.5
         },
         "mode": "lines",
         "name": "Spread",
         "showlegend": false,
         "type": "scatter",
         "x": [
          0,
          1,
          2,
          3,
          4,
          5,
          6,
          7,
          8,
          9,
          10,
          11,
          12,
          13,
          14,
          15,
          16,
          17,
          18,
          19,
          20,
          21,
          22,
          23,
          24,
          25,
          26,
          27,
          28,
          29,
          30,
          31,
          32,
          33,
          34,
          35,
          36,
          37,
          38,
          39,
          40,
          41,
          42,
          43,
          44,
          45,
          46,
          47,
          48,
          49,
          50,
          51,
          52,
          53,
          54,
          55,
          56,
          57,
          58,
          59,
          60,
          61,
          62,
          63,
          64,
          65,
          66,
          67,
          68,
          69,
          70,
          71,
          72,
          73,
          74,
          75,
          76,
          77,
          78,
          79,
          80,
          81,
          82,
          83,
          84,
          85,
          86,
          87,
          88,
          89,
          90,
          91,
          92,
          93,
          94,
          95,
          96,
          97,
          98,
          99
         ],
         "xaxis": "x2",
         "y": [
          "",
          "",
          -2.3153006342194615,
          -0.20148745398898704,
          -0.25454104150455703,
          "",
          "",
          -3.2028124356212615,
          "",
          "",
          "",
          -1.373364997735968,
          "",
          "",
          -0.8052100617595851,
          "",
          -1.5146016270015932,
          "",
          -0.8184775946493278,
          "",
          -0.11200197747896845,
          -2.6153177725797736,
          "",
          "",
          "",
          -0.32501117584371597,
          "",
          -0.7816972888672981,
          -1.8109385573964758,
          -1.9667450838707623,
          "",
          "",
          "",
          "",
          -0.980825343883316,
          "",
          "",
          "",
          -0.38661951304458353,
          "",
          -3.421387410784293,
          -1.576550057121987,
          "",
          -0.6507742092632609,
          -1.297986724980958,
          -0.9531900581732743,
          "",
          "",
          -1.381500557685582,
          "",
          "",
          -0.02535902482706398,
          -1.4663961279816844,
          -1.969261617455254,
          "",
          "",
          "",
          -2.1828089013913314,
          -0.1252617640160532,
          -0.6726102482526333,
          "",
          "",
          "",
          "",
          "",
          -0.8695157748442911,
          "",
          -1.685531316798288,
          -0.7200105126709407,
          "",
          "",
          "",
          -2.215490209654769,
          -1.7428308208670498,
          "",
          "",
          -0.25753939108368906,
          "",
          -0.7104561911889145,
          -2.6025844169580665,
          -0.7204380114608009,
          "",
          -3.8447583210061276,
          -4.155912488165493,
          "",
          -0.8956068972240714,
          -1.3575020661620838,
          "",
          "",
          -0.004597606705076918,
          "",
          "",
          "",
          -0.5165701977995205,
          -0.7842470671156101,
          "",
          -0.6693862549062317,
          "",
          "",
          -0.6348160506895624
         ],
         "yaxis": "y2"
        }
       ],
       "layout": {
        "hovermode": "x",
        "legend": {
         "bgcolor": "#F5F6F9",
         "font": {
          "color": "#4D5663"
         }
        },
        "paper_bgcolor": "#F5F6F9",
        "plot_bgcolor": "#F5F6F9",
        "template": {
         "data": {
          "bar": [
           {
            "error_x": {
             "color": "#2a3f5f"
            },
            "error_y": {
             "color": "#2a3f5f"
            },
            "marker": {
             "line": {
              "color": "#E5ECF6",
              "width": 0.5
             }
            },
            "type": "bar"
           }
          ],
          "barpolar": [
           {
            "marker": {
             "line": {
              "color": "#E5ECF6",
              "width": 0.5
             }
            },
            "type": "barpolar"
           }
          ],
          "carpet": [
           {
            "aaxis": {
             "endlinecolor": "#2a3f5f",
             "gridcolor": "white",
             "linecolor": "white",
             "minorgridcolor": "white",
             "startlinecolor": "#2a3f5f"
            },
            "baxis": {
             "endlinecolor": "#2a3f5f",
             "gridcolor": "white",
             "linecolor": "white",
             "minorgridcolor": "white",
             "startlinecolor": "#2a3f5f"
            },
            "type": "carpet"
           }
          ],
          "choropleth": [
           {
            "colorbar": {
             "outlinewidth": 0,
             "ticks": ""
            },
            "type": "choropleth"
           }
          ],
          "contour": [
           {
            "colorbar": {
             "outlinewidth": 0,
             "ticks": ""
            },
            "colorscale": [
             [
              0,
              "#0d0887"
             ],
             [
              0.1111111111111111,
              "#46039f"
             ],
             [
              0.2222222222222222,
              "#7201a8"
             ],
             [
              0.3333333333333333,
              "#9c179e"
             ],
             [
              0.4444444444444444,
              "#bd3786"
             ],
             [
              0.5555555555555556,
              "#d8576b"
             ],
             [
              0.6666666666666666,
              "#ed7953"
             ],
             [
              0.7777777777777778,
              "#fb9f3a"
             ],
             [
              0.8888888888888888,
              "#fdca26"
             ],
             [
              1,
              "#f0f921"
             ]
            ],
            "type": "contour"
           }
          ],
          "contourcarpet": [
           {
            "colorbar": {
             "outlinewidth": 0,
             "ticks": ""
            },
            "type": "contourcarpet"
           }
          ],
          "heatmap": [
           {
            "colorbar": {
             "outlinewidth": 0,
             "ticks": ""
            },
            "colorscale": [
             [
              0,
              "#0d0887"
             ],
             [
              0.1111111111111111,
              "#46039f"
             ],
             [
              0.2222222222222222,
              "#7201a8"
             ],
             [
              0.3333333333333333,
              "#9c179e"
             ],
             [
              0.4444444444444444,
              "#bd3786"
             ],
             [
              0.5555555555555556,
              "#d8576b"
             ],
             [
              0.6666666666666666,
              "#ed7953"
             ],
             [
              0.7777777777777778,
              "#fb9f3a"
             ],
             [
              0.8888888888888888,
              "#fdca26"
             ],
             [
              1,
              "#f0f921"
             ]
            ],
            "type": "heatmap"
           }
          ],
          "heatmapgl": [
           {
            "colorbar": {
             "outlinewidth": 0,
             "ticks": ""
            },
            "colorscale": [
             [
              0,
              "#0d0887"
             ],
             [
              0.1111111111111111,
              "#46039f"
             ],
             [
              0.2222222222222222,
              "#7201a8"
             ],
             [
              0.3333333333333333,
              "#9c179e"
             ],
             [
              0.4444444444444444,
              "#bd3786"
             ],
             [
              0.5555555555555556,
              "#d8576b"
             ],
             [
              0.6666666666666666,
              "#ed7953"
             ],
             [
              0.7777777777777778,
              "#fb9f3a"
             ],
             [
              0.8888888888888888,
              "#fdca26"
             ],
             [
              1,
              "#f0f921"
             ]
            ],
            "type": "heatmapgl"
           }
          ],
          "histogram": [
           {
            "marker": {
             "colorbar": {
              "outlinewidth": 0,
              "ticks": ""
             }
            },
            "type": "histogram"
           }
          ],
          "histogram2d": [
           {
            "colorbar": {
             "outlinewidth": 0,
             "ticks": ""
            },
            "colorscale": [
             [
              0,
              "#0d0887"
             ],
             [
              0.1111111111111111,
              "#46039f"
             ],
             [
              0.2222222222222222,
              "#7201a8"
             ],
             [
              0.3333333333333333,
              "#9c179e"
             ],
             [
              0.4444444444444444,
              "#bd3786"
             ],
             [
              0.5555555555555556,
              "#d8576b"
             ],
             [
              0.6666666666666666,
              "#ed7953"
             ],
             [
              0.7777777777777778,
              "#fb9f3a"
             ],
             [
              0.8888888888888888,
              "#fdca26"
             ],
             [
              1,
              "#f0f921"
             ]
            ],
            "type": "histogram2d"
           }
          ],
          "histogram2dcontour": [
           {
            "colorbar": {
             "outlinewidth": 0,
             "ticks": ""
            },
            "colorscale": [
             [
              0,
              "#0d0887"
             ],
             [
              0.1111111111111111,
              "#46039f"
             ],
             [
              0.2222222222222222,
              "#7201a8"
             ],
             [
              0.3333333333333333,
              "#9c179e"
             ],
             [
              0.4444444444444444,
              "#bd3786"
             ],
             [
              0.5555555555555556,
              "#d8576b"
             ],
             [
              0.6666666666666666,
              "#ed7953"
             ],
             [
              0.7777777777777778,
              "#fb9f3a"
             ],
             [
              0.8888888888888888,
              "#fdca26"
             ],
             [
              1,
              "#f0f921"
             ]
            ],
            "type": "histogram2dcontour"
           }
          ],
          "mesh3d": [
           {
            "colorbar": {
             "outlinewidth": 0,
             "ticks": ""
            },
            "type": "mesh3d"
           }
          ],
          "parcoords": [
           {
            "line": {
             "colorbar": {
              "outlinewidth": 0,
              "ticks": ""
             }
            },
            "type": "parcoords"
           }
          ],
          "pie": [
           {
            "automargin": true,
            "type": "pie"
           }
          ],
          "scatter": [
           {
            "marker": {
             "colorbar": {
              "outlinewidth": 0,
              "ticks": ""
             }
            },
            "type": "scatter"
           }
          ],
          "scatter3d": [
           {
            "line": {
             "colorbar": {
              "outlinewidth": 0,
              "ticks": ""
             }
            },
            "marker": {
             "colorbar": {
              "outlinewidth": 0,
              "ticks": ""
             }
            },
            "type": "scatter3d"
           }
          ],
          "scattercarpet": [
           {
            "marker": {
             "colorbar": {
              "outlinewidth": 0,
              "ticks": ""
             }
            },
            "type": "scattercarpet"
           }
          ],
          "scattergeo": [
           {
            "marker": {
             "colorbar": {
              "outlinewidth": 0,
              "ticks": ""
             }
            },
            "type": "scattergeo"
           }
          ],
          "scattergl": [
           {
            "marker": {
             "colorbar": {
              "outlinewidth": 0,
              "ticks": ""
             }
            },
            "type": "scattergl"
           }
          ],
          "scattermapbox": [
           {
            "marker": {
             "colorbar": {
              "outlinewidth": 0,
              "ticks": ""
             }
            },
            "type": "scattermapbox"
           }
          ],
          "scatterpolar": [
           {
            "marker": {
             "colorbar": {
              "outlinewidth": 0,
              "ticks": ""
             }
            },
            "type": "scatterpolar"
           }
          ],
          "scatterpolargl": [
           {
            "marker": {
             "colorbar": {
              "outlinewidth": 0,
              "ticks": ""
             }
            },
            "type": "scatterpolargl"
           }
          ],
          "scatterternary": [
           {
            "marker": {
             "colorbar": {
              "outlinewidth": 0,
              "ticks": ""
             }
            },
            "type": "scatterternary"
           }
          ],
          "surface": [
           {
            "colorbar": {
             "outlinewidth": 0,
             "ticks": ""
            },
            "colorscale": [
             [
              0,
              "#0d0887"
             ],
             [
              0.1111111111111111,
              "#46039f"
             ],
             [
              0.2222222222222222,
              "#7201a8"
             ],
             [
              0.3333333333333333,
              "#9c179e"
             ],
             [
              0.4444444444444444,
              "#bd3786"
             ],
             [
              0.5555555555555556,
              "#d8576b"
             ],
             [
              0.6666666666666666,
              "#ed7953"
             ],
             [
              0.7777777777777778,
              "#fb9f3a"
             ],
             [
              0.8888888888888888,
              "#fdca26"
             ],
             [
              1,
              "#f0f921"
             ]
            ],
            "type": "surface"
           }
          ],
          "table": [
           {
            "cells": {
             "fill": {
              "color": "#EBF0F8"
             },
             "line": {
              "color": "white"
             }
            },
            "header": {
             "fill": {
              "color": "#C8D4E3"
             },
             "line": {
              "color": "white"
             }
            },
            "type": "table"
           }
          ]
         },
         "layout": {
          "annotationdefaults": {
           "arrowcolor": "#2a3f5f",
           "arrowhead": 0,
           "arrowwidth": 1
          },
          "coloraxis": {
           "colorbar": {
            "outlinewidth": 0,
            "ticks": ""
           }
          },
          "colorscale": {
           "diverging": [
            [
             0,
             "#8e0152"
            ],
            [
             0.1,
             "#c51b7d"
            ],
            [
             0.2,
             "#de77ae"
            ],
            [
             0.3,
             "#f1b6da"
            ],
            [
             0.4,
             "#fde0ef"
            ],
            [
             0.5,
             "#f7f7f7"
            ],
            [
             0.6,
             "#e6f5d0"
            ],
            [
             0.7,
             "#b8e186"
            ],
            [
             0.8,
             "#7fbc41"
            ],
            [
             0.9,
             "#4d9221"
            ],
            [
             1,
             "#276419"
            ]
           ],
           "sequential": [
            [
             0,
             "#0d0887"
            ],
            [
             0.1111111111111111,
             "#46039f"
            ],
            [
             0.2222222222222222,
             "#7201a8"
            ],
            [
             0.3333333333333333,
             "#9c179e"
            ],
            [
             0.4444444444444444,
             "#bd3786"
            ],
            [
             0.5555555555555556,
             "#d8576b"
            ],
            [
             0.6666666666666666,
             "#ed7953"
            ],
            [
             0.7777777777777778,
             "#fb9f3a"
            ],
            [
             0.8888888888888888,
             "#fdca26"
            ],
            [
             1,
             "#f0f921"
            ]
           ],
           "sequentialminus": [
            [
             0,
             "#0d0887"
            ],
            [
             0.1111111111111111,
             "#46039f"
            ],
            [
             0.2222222222222222,
             "#7201a8"
            ],
            [
             0.3333333333333333,
             "#9c179e"
            ],
            [
             0.4444444444444444,
             "#bd3786"
            ],
            [
             0.5555555555555556,
             "#d8576b"
            ],
            [
             0.6666666666666666,
             "#ed7953"
            ],
            [
             0.7777777777777778,
             "#fb9f3a"
            ],
            [
             0.8888888888888888,
             "#fdca26"
            ],
            [
             1,
             "#f0f921"
            ]
           ]
          },
          "colorway": [
           "#636efa",
           "#EF553B",
           "#00cc96",
           "#ab63fa",
           "#FFA15A",
           "#19d3f3",
           "#FF6692",
           "#B6E880",
           "#FF97FF",
           "#FECB52"
          ],
          "font": {
           "color": "#2a3f5f"
          },
          "geo": {
           "bgcolor": "white",
           "lakecolor": "white",
           "landcolor": "#E5ECF6",
           "showlakes": true,
           "showland": true,
           "subunitcolor": "white"
          },
          "hoverlabel": {
           "align": "left"
          },
          "hovermode": "closest",
          "mapbox": {
           "style": "light"
          },
          "paper_bgcolor": "white",
          "plot_bgcolor": "#E5ECF6",
          "polar": {
           "angularaxis": {
            "gridcolor": "white",
            "linecolor": "white",
            "ticks": ""
           },
           "bgcolor": "#E5ECF6",
           "radialaxis": {
            "gridcolor": "white",
            "linecolor": "white",
            "ticks": ""
           }
          },
          "scene": {
           "xaxis": {
            "backgroundcolor": "#E5ECF6",
            "gridcolor": "white",
            "gridwidth": 2,
            "linecolor": "white",
            "showbackground": true,
            "ticks": "",
            "zerolinecolor": "white"
           },
           "yaxis": {
            "backgroundcolor": "#E5ECF6",
            "gridcolor": "white",
            "gridwidth": 2,
            "linecolor": "white",
            "showbackground": true,
            "ticks": "",
            "zerolinecolor": "white"
           },
           "zaxis": {
            "backgroundcolor": "#E5ECF6",
            "gridcolor": "white",
            "gridwidth": 2,
            "linecolor": "white",
            "showbackground": true,
            "ticks": "",
            "zerolinecolor": "white"
           }
          },
          "shapedefaults": {
           "line": {
            "color": "#2a3f5f"
           }
          },
          "ternary": {
           "aaxis": {
            "gridcolor": "white",
            "linecolor": "white",
            "ticks": ""
           },
           "baxis": {
            "gridcolor": "white",
            "linecolor": "white",
            "ticks": ""
           },
           "bgcolor": "#E5ECF6",
           "caxis": {
            "gridcolor": "white",
            "linecolor": "white",
            "ticks": ""
           }
          },
          "title": {
           "x": 0.05
          },
          "xaxis": {
           "automargin": true,
           "gridcolor": "white",
           "linecolor": "white",
           "ticks": "",
           "title": {
            "standoff": 15
           },
           "zerolinecolor": "white",
           "zerolinewidth": 2
          },
          "yaxis": {
           "automargin": true,
           "gridcolor": "white",
           "linecolor": "white",
           "ticks": "",
           "title": {
            "standoff": 15
           },
           "zerolinecolor": "white",
           "zerolinewidth": 2
          }
         }
        },
        "title": {
         "font": {
          "color": "#4D5663"
         }
        },
        "xaxis": {
         "gridcolor": "#E1E5ED",
         "showgrid": true,
         "tickfont": {
          "color": "#4D5663"
         },
         "title": {
          "font": {
           "color": "#4D5663"
          },
          "text": ""
         },
         "zerolinecolor": "#E1E5ED"
        },
        "xaxis2": {
         "anchor": "y2",
         "gridcolor": "#E1E5ED",
         "showgrid": true,
         "showticklabels": false,
         "tickfont": {
          "color": "#4D5663"
         },
         "title": {
          "font": {
           "color": "#4D5663"
          },
          "text": ""
         },
         "zerolinecolor": "#E1E5ED"
        },
        "yaxis": {
         "domain": [
          0.3,
          1
         ],
         "gridcolor": "#E1E5ED",
         "showgrid": true,
         "tickfont": {
          "color": "#4D5663"
         },
         "title": {
          "font": {
           "color": "#4D5663"
          },
          "text": ""
         },
         "zerolinecolor": "#E1E5ED"
        },
        "yaxis2": {
         "domain": [
          0,
          0.25
         ],
         "gridcolor": "#E1E5ED",
         "showgrid": true,
         "tickfont": {
          "color": "#4D5663"
         },
         "title": {
          "font": {
           "color": "#4D5663"
          },
          "text": "Spread"
         },
         "zerolinecolor": "#E1E5ED"
        }
       }
      },
      "text/html": [
       "<div>                            <div id=\"1009c9a6-166d-4b7b-b478-a0018524851a\" class=\"plotly-graph-div\" style=\"height:525px; width:100%;\"></div>            <script type=\"text/javascript\">                require([\"plotly\"], function(Plotly) {                    window.PLOTLYENV=window.PLOTLYENV || {};\n",
       "                    window.PLOTLYENV.BASE_URL='https://plot.ly';                                    if (document.getElementById(\"1009c9a6-166d-4b7b-b478-a0018524851a\")) {                    Plotly.newPlot(                        \"1009c9a6-166d-4b7b-b478-a0018524851a\",                        [{\"line\": {\"color\": \"rgba(255, 153, 51, 1.0)\", \"dash\": \"solid\", \"shape\": \"linear\", \"width\": 1.3}, \"mode\": \"lines\", \"name\": \"D\", \"text\": \"\", \"type\": \"scatter\", \"x\": [0, 1, 2, 3, 4, 5, 6, 7, 8, 9, 10, 11, 12, 13, 14, 15, 16, 17, 18, 19, 20, 21, 22, 23, 24, 25, 26, 27, 28, 29, 30, 31, 32, 33, 34, 35, 36, 37, 38, 39, 40, 41, 42, 43, 44, 45, 46, 47, 48, 49, 50, 51, 52, 53, 54, 55, 56, 57, 58, 59, 60, 61, 62, 63, 64, 65, 66, 67, 68, 69, 70, 71, 72, 73, 74, 75, 76, 77, 78, 79, 80, 81, 82, 83, 84, 85, 86, 87, 88, 89, 90, 91, 92, 93, 94, 95, 96, 97, 98, 99], \"y\": [-0.46896793394847963, 0.9185701612631408, -0.9518353470364371, 0.48127796570390513, -1.3125227628679224, -0.6001985612883243, 1.2438374321973853, -1.0553928899948373, 0.7992286386403018, 0.6552228453687096, 1.531139173688056, -1.434972124639351, 0.5886176757481795, -0.3256784096497872, -0.2623819605419885, 0.8093293479850361, -0.33275476984830865, -0.2956276921472676, -0.16713256889711028, 0.18389720704075418, 0.6657691087241017, -1.4997126274775754, 0.8711561678776168, -0.8924685564325691, 0.6394678129395951, -1.196144615877988, 2.2614519074522, 0.11987585103470248, -2.579662215505832, -1.3178324834559312, 0.46948793870344907, -0.2210025562961031, 1.4552867861558016, 1.326246985282575, -0.054439587001145, 1.2706741490376032, 0.7484048322067663, 1.2710087859871775, 0.9447743157753115, 0.0917616016406183, -2.0969697544296864, -1.1217734741484078, -0.35986753254874787, 0.12035306348613169, -1.1902816920463186, -1.2966439417613633, -0.017967446036095795, 0.514611017485124, -1.4461382765586006, 1.01186070273958, 0.8879030485264665, 0.4676220911886453, 0.6228012943753499, -1.4207209081286396, 0.2867700005446423, -0.6139865568654482, -0.5415167711981378, -1.9858206491463257, 0.12723912891542727, -0.1793100802880613, 0.0037780088332585375, 1.3903163960561136, 1.5083085016459787, 0.3926357357086319, -0.9743888746263668, -0.9454377234958473, -0.8321414989740954, -1.620960244458763, -0.6017219998541727, -0.06238112948649538, 1.6954621456675467, 1.124584858797205, -1.15012884419011, -1.4364055469573436, 0.5664302863033238, 1.8332136136850243, -0.8089001901634655, 0.43902060972417456, 0.37600900785175306, -1.3948918928031053, -0.6904696137869282, 0.19589727243424596, -1.5300619443770898, -1.9477439997569757, -0.7048608070105993, 0.0030274862426587037, -0.3658721419657042, -0.027565836557152504, 0.46474856183842084, -0.4170025571275899, 0.5118024905797606, 0.022175819324665814, 0.07345976472766286, -0.6162389548458861, -0.546978786397993, 0.00893652800919723, -0.3826503977720516, 0.2771619614010083, 0.6072349321310275, 1.0624815146959694]}, {\"line\": {\"color\": \"rgba(55, 128, 191, 1.0)\", \"dash\": \"solid\", \"shape\": \"linear\", \"width\": 1.3}, \"mode\": \"lines\", \"name\": \"C\", \"text\": \"\", \"type\": \"scatter\", \"x\": [0, 1, 2, 3, 4, 5, 6, 7, 8, 9, 10, 11, 12, 13, 14, 15, 16, 17, 18, 19, 20, 21, 22, 23, 24, 25, 26, 27, 28, 29, 30, 31, 32, 33, 34, 35, 36, 37, 38, 39, 40, 41, 42, 43, 44, 45, 46, 47, 48, 49, 50, 51, 52, 53, 54, 55, 56, 57, 58, 59, 60, 61, 62, 63, 64, 65, 66, 67, 68, 69, 70, 71, 72, 73, 74, 75, 76, 77, 78, 79, 80, 81, 82, 83, 84, 85, 86, 87, 88, 89, 90, 91, 92, 93, 94, 95, 96, 97, 98, 99], \"y\": [-0.8156211921936473, -0.3488054734179534, 1.3634652871830246, 0.6827654196928922, -1.0579817213633653, -0.9172741010318527, -1.0111454672320228, 2.1474195456264242, -0.029116717408046878, -0.10503227051826579, -1.8982085799443809, -0.061607126903382985, -1.461069514841389, -0.4159207500708357, 0.5428281012175966, -1.1064321564326451, 1.1818468571532845, -0.4997449331078411, 0.6513450257522175, -1.0096901464963166, 0.7777710862030701, 1.1156051451021982, -1.3963977721174032, -2.1957740562038897, -0.003082555605334334, -0.8711334400342721, -1.1721695448682867, 0.9015731399020005, -0.7687236581093563, 0.648912600414831, -0.3370999147061945, -0.2557289363041199, 1.3940022814140893, -1.0918291338075325, 0.926385756882171, -0.02699273090378049, -1.9310415085129753, -2.0537105543928087, 1.331393828819895, -1.2479264355796142, 1.3244176563546068, 0.4547765829735793, -0.9485957942455121, 0.7711272727493926, 0.10770503293463943, -0.34345388358808904, -0.2901651965788942, -1.8859801912106564, -0.06463771887301847, 0.7339329153613252, -2.9813490059807424, 0.49298111601570926, 2.089197422357034, 0.5485407093266145, -0.45294081667793284, -1.2343570095799694, -0.6043887454889516, 0.19698825224500555, 0.2525008929314805, 0.49330016796457193, -1.3296448063379627, -1.3199625654791716, -0.22952536088723396, -2.100923552982224, -1.2766272123803133, -0.0759219486515562, -1.3161580407429254, 0.06457107233952505, 0.11828851281676804, -0.1854970115502745, -0.6904859218641665, 0.9987015332368285, 1.0653613654646588, 0.30642527390970625, 0.005411555193580738, 0.46565443254592476, -0.5513607990797764, -0.6156892013681534, 1.0864651990406675, 1.2076925241549614, 0.02996839767387277, -0.014468892242910269, 2.314696376629038, 2.208168488408517, -1.3983413330991918, 0.8986343834667301, 0.9916299241963795, -0.20474753074899615, -0.2318152457813195, -0.41240495042251296, -1.5084220112468731, -0.2339935120152956, -0.6079408227599712, -0.09966875704636555, 0.23726828071761713, -1.7732192190847027, 0.28673585713418004, -0.7359231672703281, 0.14300452088914767, 1.6972975653855318]}, {\"connectgaps\": false, \"fill\": \"tozeroy\", \"line\": {\"color\": \"green\", \"dash\": \"solid\", \"shape\": \"linear\", \"width\": 0.5}, \"mode\": \"lines\", \"name\": \"Spread\", \"showlegend\": false, \"type\": \"scatter\", \"x\": [0, 1, 2, 3, 4, 5, 6, 7, 8, 9, 10, 11, 12, 13, 14, 15, 16, 17, 18, 19, 20, 21, 22, 23, 24, 25, 26, 27, 28, 29, 30, 31, 32, 33, 34, 35, 36, 37, 38, 39, 40, 41, 42, 43, 44, 45, 46, 47, 48, 49, 50, 51, 52, 53, 54, 55, 56, 57, 58, 59, 60, 61, 62, 63, 64, 65, 66, 67, 68, 69, 70, 71, 72, 73, 74, 75, 76, 77, 78, 79, 80, 81, 82, 83, 84, 85, 86, 87, 88, 89, 90, 91, 92, 93, 94, 95, 96, 97, 98, 99], \"xaxis\": \"x2\", \"y\": [0.34665325824516763, 1.2673756346810943, \"\", \"\", \"\", 0.3170755397435284, 2.2549828994294083, \"\", 0.8283453560483487, 0.7602551158869754, 3.429347753632437, \"\", 2.0496871905895686, 0.09024234042104845, \"\", 1.9157615044176812, \"\", 0.20411724096057354, \"\", 1.1935873535370707, \"\", \"\", 2.26755393999502, 1.3033054997713207, 0.6425503685449294, \"\", 3.433621452320487, \"\", \"\", \"\", 0.8065878534096436, 0.03472638000801681, 0.06128450474171232, 2.4180761190901077, \"\", 1.2976668799413837, 2.6794463407197417, 3.3247193403799864, \"\", 1.3396880372202324, \"\", \"\", 0.5887282616967642, \"\", \"\", \"\", 0.27219775054279843, 2.40059120869578, \"\", 0.27792778737825485, 3.869252054507209, \"\", \"\", \"\", 0.7397108172225751, 0.6203704527145212, 0.06287197429081381, \"\", \"\", \"\", 1.3334228151712213, 2.710278961535285, 1.7378338625332126, 2.493559288690856, 0.3022383377539465, \"\", 0.48401654176883, \"\", \"\", 0.12311588206377913, 2.385948067531713, 0.1258833255603764, \"\", \"\", 0.5610187311097431, 1.3675591811390997, \"\", 1.0547098110923279, \"\", \"\", \"\", 0.21036616467715621, \"\", \"\", 0.6934805260885926, \"\", \"\", 0.17718169419184365, 0.6965638076197403, \"\", 2.020224501826634, 0.25616933133996145, 0.6814005874876341, \"\", \"\", 1.7821557470939, \"\", 1.0130851286713365, 0.46423041124187986, \"\"], \"yaxis\": \"y2\"}, {\"connectgaps\": false, \"fill\": \"tozeroy\", \"line\": {\"color\": \"red\", \"dash\": \"solid\", \"shape\": \"linear\", \"width\": 0.5}, \"mode\": \"lines\", \"name\": \"Spread\", \"showlegend\": false, \"type\": \"scatter\", \"x\": [0, 1, 2, 3, 4, 5, 6, 7, 8, 9, 10, 11, 12, 13, 14, 15, 16, 17, 18, 19, 20, 21, 22, 23, 24, 25, 26, 27, 28, 29, 30, 31, 32, 33, 34, 35, 36, 37, 38, 39, 40, 41, 42, 43, 44, 45, 46, 47, 48, 49, 50, 51, 52, 53, 54, 55, 56, 57, 58, 59, 60, 61, 62, 63, 64, 65, 66, 67, 68, 69, 70, 71, 72, 73, 74, 75, 76, 77, 78, 79, 80, 81, 82, 83, 84, 85, 86, 87, 88, 89, 90, 91, 92, 93, 94, 95, 96, 97, 98, 99], \"xaxis\": \"x2\", \"y\": [\"\", \"\", -2.3153006342194615, -0.20148745398898704, -0.25454104150455703, \"\", \"\", -3.2028124356212615, \"\", \"\", \"\", -1.373364997735968, \"\", \"\", -0.8052100617595851, \"\", -1.5146016270015932, \"\", -0.8184775946493278, \"\", -0.11200197747896845, -2.6153177725797736, \"\", \"\", \"\", -0.32501117584371597, \"\", -0.7816972888672981, -1.8109385573964758, -1.9667450838707623, \"\", \"\", \"\", \"\", -0.980825343883316, \"\", \"\", \"\", -0.38661951304458353, \"\", -3.421387410784293, -1.576550057121987, \"\", -0.6507742092632609, -1.297986724980958, -0.9531900581732743, \"\", \"\", -1.381500557685582, \"\", \"\", -0.02535902482706398, -1.4663961279816844, -1.969261617455254, \"\", \"\", \"\", -2.1828089013913314, -0.1252617640160532, -0.6726102482526333, \"\", \"\", \"\", \"\", \"\", -0.8695157748442911, \"\", -1.685531316798288, -0.7200105126709407, \"\", \"\", \"\", -2.215490209654769, -1.7428308208670498, \"\", \"\", -0.25753939108368906, \"\", -0.7104561911889145, -2.6025844169580665, -0.7204380114608009, \"\", -3.8447583210061276, -4.155912488165493, \"\", -0.8956068972240714, -1.3575020661620838, \"\", \"\", -0.004597606705076918, \"\", \"\", \"\", -0.5165701977995205, -0.7842470671156101, \"\", -0.6693862549062317, \"\", \"\", -0.6348160506895624], \"yaxis\": \"y2\"}],                        {\"hovermode\": \"x\", \"legend\": {\"bgcolor\": \"#F5F6F9\", \"font\": {\"color\": \"#4D5663\"}}, \"paper_bgcolor\": \"#F5F6F9\", \"plot_bgcolor\": \"#F5F6F9\", \"template\": {\"data\": {\"bar\": [{\"error_x\": {\"color\": \"#2a3f5f\"}, \"error_y\": {\"color\": \"#2a3f5f\"}, \"marker\": {\"line\": {\"color\": \"#E5ECF6\", \"width\": 0.5}}, \"type\": \"bar\"}], \"barpolar\": [{\"marker\": {\"line\": {\"color\": \"#E5ECF6\", \"width\": 0.5}}, \"type\": \"barpolar\"}], \"carpet\": [{\"aaxis\": {\"endlinecolor\": \"#2a3f5f\", \"gridcolor\": \"white\", \"linecolor\": \"white\", \"minorgridcolor\": \"white\", \"startlinecolor\": \"#2a3f5f\"}, \"baxis\": {\"endlinecolor\": \"#2a3f5f\", \"gridcolor\": \"white\", \"linecolor\": \"white\", \"minorgridcolor\": \"white\", \"startlinecolor\": \"#2a3f5f\"}, \"type\": \"carpet\"}], \"choropleth\": [{\"colorbar\": {\"outlinewidth\": 0, \"ticks\": \"\"}, \"type\": \"choropleth\"}], \"contour\": [{\"colorbar\": {\"outlinewidth\": 0, \"ticks\": \"\"}, \"colorscale\": [[0.0, \"#0d0887\"], [0.1111111111111111, \"#46039f\"], [0.2222222222222222, \"#7201a8\"], [0.3333333333333333, \"#9c179e\"], [0.4444444444444444, \"#bd3786\"], [0.5555555555555556, \"#d8576b\"], [0.6666666666666666, \"#ed7953\"], [0.7777777777777778, \"#fb9f3a\"], [0.8888888888888888, \"#fdca26\"], [1.0, \"#f0f921\"]], \"type\": \"contour\"}], \"contourcarpet\": [{\"colorbar\": {\"outlinewidth\": 0, \"ticks\": \"\"}, \"type\": \"contourcarpet\"}], \"heatmap\": [{\"colorbar\": {\"outlinewidth\": 0, \"ticks\": \"\"}, \"colorscale\": [[0.0, \"#0d0887\"], [0.1111111111111111, \"#46039f\"], [0.2222222222222222, \"#7201a8\"], [0.3333333333333333, \"#9c179e\"], [0.4444444444444444, \"#bd3786\"], [0.5555555555555556, \"#d8576b\"], [0.6666666666666666, \"#ed7953\"], [0.7777777777777778, \"#fb9f3a\"], [0.8888888888888888, \"#fdca26\"], [1.0, \"#f0f921\"]], \"type\": \"heatmap\"}], \"heatmapgl\": [{\"colorbar\": {\"outlinewidth\": 0, \"ticks\": \"\"}, \"colorscale\": [[0.0, \"#0d0887\"], [0.1111111111111111, \"#46039f\"], [0.2222222222222222, \"#7201a8\"], [0.3333333333333333, \"#9c179e\"], [0.4444444444444444, \"#bd3786\"], [0.5555555555555556, \"#d8576b\"], [0.6666666666666666, \"#ed7953\"], [0.7777777777777778, \"#fb9f3a\"], [0.8888888888888888, \"#fdca26\"], [1.0, \"#f0f921\"]], \"type\": \"heatmapgl\"}], \"histogram\": [{\"marker\": {\"colorbar\": {\"outlinewidth\": 0, \"ticks\": \"\"}}, \"type\": \"histogram\"}], \"histogram2d\": [{\"colorbar\": {\"outlinewidth\": 0, \"ticks\": \"\"}, \"colorscale\": [[0.0, \"#0d0887\"], [0.1111111111111111, \"#46039f\"], [0.2222222222222222, \"#7201a8\"], [0.3333333333333333, \"#9c179e\"], [0.4444444444444444, \"#bd3786\"], [0.5555555555555556, \"#d8576b\"], [0.6666666666666666, \"#ed7953\"], [0.7777777777777778, \"#fb9f3a\"], [0.8888888888888888, \"#fdca26\"], [1.0, \"#f0f921\"]], \"type\": \"histogram2d\"}], \"histogram2dcontour\": [{\"colorbar\": {\"outlinewidth\": 0, \"ticks\": \"\"}, \"colorscale\": [[0.0, \"#0d0887\"], [0.1111111111111111, \"#46039f\"], [0.2222222222222222, \"#7201a8\"], [0.3333333333333333, \"#9c179e\"], [0.4444444444444444, \"#bd3786\"], [0.5555555555555556, \"#d8576b\"], [0.6666666666666666, \"#ed7953\"], [0.7777777777777778, \"#fb9f3a\"], [0.8888888888888888, \"#fdca26\"], [1.0, \"#f0f921\"]], \"type\": \"histogram2dcontour\"}], \"mesh3d\": [{\"colorbar\": {\"outlinewidth\": 0, \"ticks\": \"\"}, \"type\": \"mesh3d\"}], \"parcoords\": [{\"line\": {\"colorbar\": {\"outlinewidth\": 0, \"ticks\": \"\"}}, \"type\": \"parcoords\"}], \"pie\": [{\"automargin\": true, \"type\": \"pie\"}], \"scatter\": [{\"marker\": {\"colorbar\": {\"outlinewidth\": 0, \"ticks\": \"\"}}, \"type\": \"scatter\"}], \"scatter3d\": [{\"line\": {\"colorbar\": {\"outlinewidth\": 0, \"ticks\": \"\"}}, \"marker\": {\"colorbar\": {\"outlinewidth\": 0, \"ticks\": \"\"}}, \"type\": \"scatter3d\"}], \"scattercarpet\": [{\"marker\": {\"colorbar\": {\"outlinewidth\": 0, \"ticks\": \"\"}}, \"type\": \"scattercarpet\"}], \"scattergeo\": [{\"marker\": {\"colorbar\": {\"outlinewidth\": 0, \"ticks\": \"\"}}, \"type\": \"scattergeo\"}], \"scattergl\": [{\"marker\": {\"colorbar\": {\"outlinewidth\": 0, \"ticks\": \"\"}}, \"type\": \"scattergl\"}], \"scattermapbox\": [{\"marker\": {\"colorbar\": {\"outlinewidth\": 0, \"ticks\": \"\"}}, \"type\": \"scattermapbox\"}], \"scatterpolar\": [{\"marker\": {\"colorbar\": {\"outlinewidth\": 0, \"ticks\": \"\"}}, \"type\": \"scatterpolar\"}], \"scatterpolargl\": [{\"marker\": {\"colorbar\": {\"outlinewidth\": 0, \"ticks\": \"\"}}, \"type\": \"scatterpolargl\"}], \"scatterternary\": [{\"marker\": {\"colorbar\": {\"outlinewidth\": 0, \"ticks\": \"\"}}, \"type\": \"scatterternary\"}], \"surface\": [{\"colorbar\": {\"outlinewidth\": 0, \"ticks\": \"\"}, \"colorscale\": [[0.0, \"#0d0887\"], [0.1111111111111111, \"#46039f\"], [0.2222222222222222, \"#7201a8\"], [0.3333333333333333, \"#9c179e\"], [0.4444444444444444, \"#bd3786\"], [0.5555555555555556, \"#d8576b\"], [0.6666666666666666, \"#ed7953\"], [0.7777777777777778, \"#fb9f3a\"], [0.8888888888888888, \"#fdca26\"], [1.0, \"#f0f921\"]], \"type\": \"surface\"}], \"table\": [{\"cells\": {\"fill\": {\"color\": \"#EBF0F8\"}, \"line\": {\"color\": \"white\"}}, \"header\": {\"fill\": {\"color\": \"#C8D4E3\"}, \"line\": {\"color\": \"white\"}}, \"type\": \"table\"}]}, \"layout\": {\"annotationdefaults\": {\"arrowcolor\": \"#2a3f5f\", \"arrowhead\": 0, \"arrowwidth\": 1}, \"coloraxis\": {\"colorbar\": {\"outlinewidth\": 0, \"ticks\": \"\"}}, \"colorscale\": {\"diverging\": [[0, \"#8e0152\"], [0.1, \"#c51b7d\"], [0.2, \"#de77ae\"], [0.3, \"#f1b6da\"], [0.4, \"#fde0ef\"], [0.5, \"#f7f7f7\"], [0.6, \"#e6f5d0\"], [0.7, \"#b8e186\"], [0.8, \"#7fbc41\"], [0.9, \"#4d9221\"], [1, \"#276419\"]], \"sequential\": [[0.0, \"#0d0887\"], [0.1111111111111111, \"#46039f\"], [0.2222222222222222, \"#7201a8\"], [0.3333333333333333, \"#9c179e\"], [0.4444444444444444, \"#bd3786\"], [0.5555555555555556, \"#d8576b\"], [0.6666666666666666, \"#ed7953\"], [0.7777777777777778, \"#fb9f3a\"], [0.8888888888888888, \"#fdca26\"], [1.0, \"#f0f921\"]], \"sequentialminus\": [[0.0, \"#0d0887\"], [0.1111111111111111, \"#46039f\"], [0.2222222222222222, \"#7201a8\"], [0.3333333333333333, \"#9c179e\"], [0.4444444444444444, \"#bd3786\"], [0.5555555555555556, \"#d8576b\"], [0.6666666666666666, \"#ed7953\"], [0.7777777777777778, \"#fb9f3a\"], [0.8888888888888888, \"#fdca26\"], [1.0, \"#f0f921\"]]}, \"colorway\": [\"#636efa\", \"#EF553B\", \"#00cc96\", \"#ab63fa\", \"#FFA15A\", \"#19d3f3\", \"#FF6692\", \"#B6E880\", \"#FF97FF\", \"#FECB52\"], \"font\": {\"color\": \"#2a3f5f\"}, \"geo\": {\"bgcolor\": \"white\", \"lakecolor\": \"white\", \"landcolor\": \"#E5ECF6\", \"showlakes\": true, \"showland\": true, \"subunitcolor\": \"white\"}, \"hoverlabel\": {\"align\": \"left\"}, \"hovermode\": \"closest\", \"mapbox\": {\"style\": \"light\"}, \"paper_bgcolor\": \"white\", \"plot_bgcolor\": \"#E5ECF6\", \"polar\": {\"angularaxis\": {\"gridcolor\": \"white\", \"linecolor\": \"white\", \"ticks\": \"\"}, \"bgcolor\": \"#E5ECF6\", \"radialaxis\": {\"gridcolor\": \"white\", \"linecolor\": \"white\", \"ticks\": \"\"}}, \"scene\": {\"xaxis\": {\"backgroundcolor\": \"#E5ECF6\", \"gridcolor\": \"white\", \"gridwidth\": 2, \"linecolor\": \"white\", \"showbackground\": true, \"ticks\": \"\", \"zerolinecolor\": \"white\"}, \"yaxis\": {\"backgroundcolor\": \"#E5ECF6\", \"gridcolor\": \"white\", \"gridwidth\": 2, \"linecolor\": \"white\", \"showbackground\": true, \"ticks\": \"\", \"zerolinecolor\": \"white\"}, \"zaxis\": {\"backgroundcolor\": \"#E5ECF6\", \"gridcolor\": \"white\", \"gridwidth\": 2, \"linecolor\": \"white\", \"showbackground\": true, \"ticks\": \"\", \"zerolinecolor\": \"white\"}}, \"shapedefaults\": {\"line\": {\"color\": \"#2a3f5f\"}}, \"ternary\": {\"aaxis\": {\"gridcolor\": \"white\", \"linecolor\": \"white\", \"ticks\": \"\"}, \"baxis\": {\"gridcolor\": \"white\", \"linecolor\": \"white\", \"ticks\": \"\"}, \"bgcolor\": \"#E5ECF6\", \"caxis\": {\"gridcolor\": \"white\", \"linecolor\": \"white\", \"ticks\": \"\"}}, \"title\": {\"x\": 0.05}, \"xaxis\": {\"automargin\": true, \"gridcolor\": \"white\", \"linecolor\": \"white\", \"ticks\": \"\", \"title\": {\"standoff\": 15}, \"zerolinecolor\": \"white\", \"zerolinewidth\": 2}, \"yaxis\": {\"automargin\": true, \"gridcolor\": \"white\", \"linecolor\": \"white\", \"ticks\": \"\", \"title\": {\"standoff\": 15}, \"zerolinecolor\": \"white\", \"zerolinewidth\": 2}}}, \"title\": {\"font\": {\"color\": \"#4D5663\"}}, \"xaxis\": {\"gridcolor\": \"#E1E5ED\", \"showgrid\": true, \"tickfont\": {\"color\": \"#4D5663\"}, \"title\": {\"font\": {\"color\": \"#4D5663\"}, \"text\": \"\"}, \"zerolinecolor\": \"#E1E5ED\"}, \"xaxis2\": {\"anchor\": \"y2\", \"gridcolor\": \"#E1E5ED\", \"showgrid\": true, \"showticklabels\": false, \"tickfont\": {\"color\": \"#4D5663\"}, \"title\": {\"font\": {\"color\": \"#4D5663\"}, \"text\": \"\"}, \"zerolinecolor\": \"#E1E5ED\"}, \"yaxis\": {\"domain\": [0.3, 1], \"gridcolor\": \"#E1E5ED\", \"showgrid\": true, \"tickfont\": {\"color\": \"#4D5663\"}, \"title\": {\"font\": {\"color\": \"#4D5663\"}, \"text\": \"\"}, \"zerolinecolor\": \"#E1E5ED\"}, \"yaxis2\": {\"domain\": [0, 0.25], \"gridcolor\": \"#E1E5ED\", \"showgrid\": true, \"tickfont\": {\"color\": \"#4D5663\"}, \"title\": {\"font\": {\"color\": \"#4D5663\"}, \"text\": \"Spread\"}, \"zerolinecolor\": \"#E1E5ED\"}},                        {\"showLink\": true, \"linkText\": \"Export to plot.ly\", \"plotlyServerURL\": \"https://plot.ly\", \"responsive\": true}                    ).then(function(){\n",
       "                            \n",
       "var gd = document.getElementById('1009c9a6-166d-4b7b-b478-a0018524851a');\n",
       "var x = new MutationObserver(function (mutations, observer) {{\n",
       "        var display = window.getComputedStyle(gd).display;\n",
       "        if (!display || display === 'none') {{\n",
       "            console.log([gd, 'removed!']);\n",
       "            Plotly.purge(gd);\n",
       "            observer.disconnect();\n",
       "        }}\n",
       "}});\n",
       "\n",
       "// Listen for the removal of the full notebook cells\n",
       "var notebookContainer = gd.closest('#notebook-container');\n",
       "if (notebookContainer) {{\n",
       "    x.observe(notebookContainer, {childList: true});\n",
       "}}\n",
       "\n",
       "// Listen for the clearing of the current output cell\n",
       "var outputEl = gd.closest('.output');\n",
       "if (outputEl) {{\n",
       "    x.observe(outputEl, {childList: true});\n",
       "}}\n",
       "\n",
       "                        })                };                });            </script>        </div>"
      ]
     },
     "metadata": {},
     "output_type": "display_data"
    }
   ],
   "source": [
    "# Create an interactive spread plot\n",
    "df[['D','C']].iplot(kind='spread') # top line plot shows values across indices, bottom shows the spread between the two columns"
   ]
  },
  {
   "cell_type": "markdown",
   "metadata": {},
   "source": [
    "## Interactive Bubble Plots\n",
    "\n",
    "Bubble plots are like scatter plots but with the size of the data points representing their value on a third column. Common in United Nations reports for factors like GDP, HDI..."
   ]
  },
  {
   "cell_type": "code",
   "execution_count": 42,
   "metadata": {},
   "outputs": [
    {
     "data": {
      "application/vnd.plotly.v1+json": {
       "config": {
        "linkText": "Export to plot.ly",
        "plotlyServerURL": "https://plot.ly",
        "showLink": true
       },
       "data": [
        {
         "marker": {
          "color": [
           "purple",
           "purple",
           "purple",
           "purple",
           "purple",
           "purple",
           "purple",
           "purple",
           "purple",
           "purple",
           "purple",
           "purple",
           "purple",
           "purple",
           "purple",
           "purple",
           "purple",
           "purple",
           "purple",
           "purple",
           "purple",
           "purple",
           "purple",
           "purple",
           "purple",
           "purple",
           "purple",
           "purple",
           "purple",
           "purple",
           "purple",
           "purple",
           "purple",
           "purple",
           "purple",
           "purple",
           "purple",
           "purple",
           "purple",
           "purple",
           "purple",
           "purple",
           "purple",
           "purple",
           "purple",
           "purple",
           "purple",
           "purple",
           "purple",
           "purple",
           "purple",
           "purple",
           "purple",
           "purple",
           "purple",
           "purple",
           "purple",
           "purple",
           "purple",
           "purple",
           "purple",
           "purple",
           "purple",
           "purple",
           "purple",
           "purple",
           "purple",
           "purple",
           "purple",
           "purple",
           "purple",
           "purple",
           "purple",
           "purple",
           "purple",
           "purple",
           "purple",
           "purple",
           "purple",
           "purple",
           "purple",
           "purple",
           "purple",
           "purple",
           "purple",
           "purple",
           "purple",
           "purple",
           "purple",
           "purple",
           "purple",
           "purple",
           "purple",
           "purple",
           "purple",
           "purple",
           "purple",
           "purple",
           "purple",
           "purple"
          ],
          "line": {
           "width": 1.3
          },
          "size": [
           55,
           84,
           45,
           75,
           38,
           52,
           90,
           43,
           81,
           78,
           96,
           35,
           77,
           58,
           59,
           82,
           58,
           59,
           61,
           69,
           79,
           34,
           83,
           46,
           78,
           40,
           112,
           67,
           12,
           38,
           74,
           60,
           95,
           92,
           64,
           91,
           80,
           91,
           84,
           67,
           21,
           42,
           57,
           67,
           40,
           38,
           64,
           75,
           35,
           86,
           83,
           74,
           78,
           35,
           71,
           52,
           54,
           24,
           67,
           61,
           65,
           94,
           96,
           73,
           45,
           45,
           48,
           31,
           52,
           63,
           100,
           88,
           41,
           35,
           76,
           103,
           48,
           74,
           73,
           36,
           51,
           69,
           33,
           25,
           50,
           65,
           57,
           64,
           74,
           56,
           75,
           65,
           66,
           52,
           53,
           65,
           57,
           71,
           77,
           87
          ],
          "symbol": "circle"
         },
         "mode": "markers",
         "text": "",
         "type": "scatter",
         "x": [
          -0.8156211921936473,
          -0.3488054734179534,
          1.3634652871830246,
          0.6827654196928922,
          -1.0579817213633653,
          -0.9172741010318527,
          -1.0111454672320228,
          2.1474195456264242,
          -0.029116717408046878,
          -0.10503227051826579,
          -1.8982085799443809,
          -0.061607126903382985,
          -1.461069514841389,
          -0.4159207500708357,
          0.5428281012175966,
          -1.1064321564326451,
          1.1818468571532845,
          -0.4997449331078411,
          0.6513450257522175,
          -1.0096901464963166,
          0.7777710862030701,
          1.1156051451021982,
          -1.3963977721174032,
          -2.1957740562038897,
          -0.003082555605334334,
          -0.8711334400342721,
          -1.1721695448682867,
          0.9015731399020005,
          -0.7687236581093563,
          0.648912600414831,
          -0.3370999147061945,
          -0.2557289363041199,
          1.3940022814140893,
          -1.0918291338075325,
          0.926385756882171,
          -0.02699273090378049,
          -1.9310415085129753,
          -2.0537105543928087,
          1.331393828819895,
          -1.2479264355796142,
          1.3244176563546068,
          0.4547765829735793,
          -0.9485957942455121,
          0.7711272727493926,
          0.10770503293463943,
          -0.34345388358808904,
          -0.2901651965788942,
          -1.8859801912106564,
          -0.06463771887301847,
          0.7339329153613252,
          -2.9813490059807424,
          0.49298111601570926,
          2.089197422357034,
          0.5485407093266145,
          -0.45294081667793284,
          -1.2343570095799694,
          -0.6043887454889516,
          0.19698825224500555,
          0.2525008929314805,
          0.49330016796457193,
          -1.3296448063379627,
          -1.3199625654791716,
          -0.22952536088723396,
          -2.100923552982224,
          -1.2766272123803133,
          -0.0759219486515562,
          -1.3161580407429254,
          0.06457107233952505,
          0.11828851281676804,
          -0.1854970115502745,
          -0.6904859218641665,
          0.9987015332368285,
          1.0653613654646588,
          0.30642527390970625,
          0.005411555193580738,
          0.46565443254592476,
          -0.5513607990797764,
          -0.6156892013681534,
          1.0864651990406675,
          1.2076925241549614,
          0.02996839767387277,
          -0.014468892242910269,
          2.314696376629038,
          2.208168488408517,
          -1.3983413330991918,
          0.8986343834667301,
          0.9916299241963795,
          -0.20474753074899615,
          -0.2318152457813195,
          -0.41240495042251296,
          -1.5084220112468731,
          -0.2339935120152956,
          -0.6079408227599712,
          -0.09966875704636555,
          0.23726828071761713,
          -1.7732192190847027,
          0.28673585713418004,
          -0.7359231672703281,
          0.14300452088914767,
          1.6972975653855318
         ],
         "y": [
          0.3715414837853284,
          -0.1496899277411245,
          -0.4390213126824492,
          1.6124578320777376,
          0.11183836103323239,
          1.458697253376567,
          0.9643586012873291,
          0.6670443200955786,
          -0.21265059534970032,
          -0.8636786417042411,
          1.7871113503248284,
          -0.1447568525603548,
          0.9351528782010953,
          0.9625816992599668,
          -0.3733852727659238,
          -0.2822727071412232,
          -0.0358397051319197,
          2.2130874225777575,
          0.25326232890298495,
          -0.445997394922047,
          -0.12580352886153912,
          0.821603670489078,
          -0.31317514756877424,
          -1.227443779918153,
          0.08176459147203437,
          -0.13765985270634984,
          -1.1342575625974662,
          -0.6658897059835954,
          -0.8162034704460095,
          0.8322541179478329,
          -2.3019121397506352,
          0.22840969211373394,
          -0.09790587776093376,
          0.8646965614406674,
          0.8123971676173096,
          0.09931126017752998,
          -0.2851236926891674,
          -0.6546008255239986,
          0.34637604119215065,
          -0.08096229379499327,
          -1.0821639264456364,
          0.7707047699604228,
          -0.3655827162038345,
          -0.8690899907167929,
          -1.62725903133252,
          0.8473311747014874,
          0.2243054275489603,
          0.9160444771656323,
          -0.013671567941790488,
          1.1756905044906398,
          2.211644592878346,
          2.6734963742744893,
          2.403609725799866,
          -0.7828324585717606,
          -1.9352254812359753,
          2.05781884631984,
          0.22955750817913378,
          -1.41367971194844,
          -0.02222680289686833,
          -0.3265895253904034,
          -0.662586189934153,
          0.34162075972823924,
          -1.7987978352472804,
          -2.164523510479693,
          -1.0226530080529086,
          0.09527821901748883,
          -0.3735501240807589,
          -0.8341382892266959,
          -0.34868142809346037,
          1.3620090274224168,
          0.6831582769222206,
          -0.9704644017602544,
          1.0850240034716527,
          0.03189658005429582,
          1.5597883688055845,
          -0.6942070267432159,
          -0.22882318437441995,
          1.410449211516949,
          1.3503691828085254,
          0.1134970084477248,
          -0.4990774677156832,
          -1.4529230662123482,
          -0.6863896873450261,
          0.7806907699913527,
          -0.4867880186501855,
          0.9352865979372379,
          -0.5062252759718567,
          0.5592357779532194,
          0.6665247279587084,
          0.7647459179575313,
          0.4677285244089398,
          1.0166663003685206,
          1.0356066302371916,
          -0.44541082873479076,
          -0.040668349850732054,
          0.5685074541670516,
          -1.167505710044138,
          -0.370685489323101,
          0.7617607871230696,
          -0.34649327030204485
         ]
        }
       ],
       "layout": {
        "legend": {
         "bgcolor": "#F5F6F9",
         "font": {
          "color": "#4D5663"
         }
        },
        "paper_bgcolor": "#F5F6F9",
        "plot_bgcolor": "#F5F6F9",
        "template": {
         "data": {
          "bar": [
           {
            "error_x": {
             "color": "#2a3f5f"
            },
            "error_y": {
             "color": "#2a3f5f"
            },
            "marker": {
             "line": {
              "color": "#E5ECF6",
              "width": 0.5
             }
            },
            "type": "bar"
           }
          ],
          "barpolar": [
           {
            "marker": {
             "line": {
              "color": "#E5ECF6",
              "width": 0.5
             }
            },
            "type": "barpolar"
           }
          ],
          "carpet": [
           {
            "aaxis": {
             "endlinecolor": "#2a3f5f",
             "gridcolor": "white",
             "linecolor": "white",
             "minorgridcolor": "white",
             "startlinecolor": "#2a3f5f"
            },
            "baxis": {
             "endlinecolor": "#2a3f5f",
             "gridcolor": "white",
             "linecolor": "white",
             "minorgridcolor": "white",
             "startlinecolor": "#2a3f5f"
            },
            "type": "carpet"
           }
          ],
          "choropleth": [
           {
            "colorbar": {
             "outlinewidth": 0,
             "ticks": ""
            },
            "type": "choropleth"
           }
          ],
          "contour": [
           {
            "colorbar": {
             "outlinewidth": 0,
             "ticks": ""
            },
            "colorscale": [
             [
              0,
              "#0d0887"
             ],
             [
              0.1111111111111111,
              "#46039f"
             ],
             [
              0.2222222222222222,
              "#7201a8"
             ],
             [
              0.3333333333333333,
              "#9c179e"
             ],
             [
              0.4444444444444444,
              "#bd3786"
             ],
             [
              0.5555555555555556,
              "#d8576b"
             ],
             [
              0.6666666666666666,
              "#ed7953"
             ],
             [
              0.7777777777777778,
              "#fb9f3a"
             ],
             [
              0.8888888888888888,
              "#fdca26"
             ],
             [
              1,
              "#f0f921"
             ]
            ],
            "type": "contour"
           }
          ],
          "contourcarpet": [
           {
            "colorbar": {
             "outlinewidth": 0,
             "ticks": ""
            },
            "type": "contourcarpet"
           }
          ],
          "heatmap": [
           {
            "colorbar": {
             "outlinewidth": 0,
             "ticks": ""
            },
            "colorscale": [
             [
              0,
              "#0d0887"
             ],
             [
              0.1111111111111111,
              "#46039f"
             ],
             [
              0.2222222222222222,
              "#7201a8"
             ],
             [
              0.3333333333333333,
              "#9c179e"
             ],
             [
              0.4444444444444444,
              "#bd3786"
             ],
             [
              0.5555555555555556,
              "#d8576b"
             ],
             [
              0.6666666666666666,
              "#ed7953"
             ],
             [
              0.7777777777777778,
              "#fb9f3a"
             ],
             [
              0.8888888888888888,
              "#fdca26"
             ],
             [
              1,
              "#f0f921"
             ]
            ],
            "type": "heatmap"
           }
          ],
          "heatmapgl": [
           {
            "colorbar": {
             "outlinewidth": 0,
             "ticks": ""
            },
            "colorscale": [
             [
              0,
              "#0d0887"
             ],
             [
              0.1111111111111111,
              "#46039f"
             ],
             [
              0.2222222222222222,
              "#7201a8"
             ],
             [
              0.3333333333333333,
              "#9c179e"
             ],
             [
              0.4444444444444444,
              "#bd3786"
             ],
             [
              0.5555555555555556,
              "#d8576b"
             ],
             [
              0.6666666666666666,
              "#ed7953"
             ],
             [
              0.7777777777777778,
              "#fb9f3a"
             ],
             [
              0.8888888888888888,
              "#fdca26"
             ],
             [
              1,
              "#f0f921"
             ]
            ],
            "type": "heatmapgl"
           }
          ],
          "histogram": [
           {
            "marker": {
             "colorbar": {
              "outlinewidth": 0,
              "ticks": ""
             }
            },
            "type": "histogram"
           }
          ],
          "histogram2d": [
           {
            "colorbar": {
             "outlinewidth": 0,
             "ticks": ""
            },
            "colorscale": [
             [
              0,
              "#0d0887"
             ],
             [
              0.1111111111111111,
              "#46039f"
             ],
             [
              0.2222222222222222,
              "#7201a8"
             ],
             [
              0.3333333333333333,
              "#9c179e"
             ],
             [
              0.4444444444444444,
              "#bd3786"
             ],
             [
              0.5555555555555556,
              "#d8576b"
             ],
             [
              0.6666666666666666,
              "#ed7953"
             ],
             [
              0.7777777777777778,
              "#fb9f3a"
             ],
             [
              0.8888888888888888,
              "#fdca26"
             ],
             [
              1,
              "#f0f921"
             ]
            ],
            "type": "histogram2d"
           }
          ],
          "histogram2dcontour": [
           {
            "colorbar": {
             "outlinewidth": 0,
             "ticks": ""
            },
            "colorscale": [
             [
              0,
              "#0d0887"
             ],
             [
              0.1111111111111111,
              "#46039f"
             ],
             [
              0.2222222222222222,
              "#7201a8"
             ],
             [
              0.3333333333333333,
              "#9c179e"
             ],
             [
              0.4444444444444444,
              "#bd3786"
             ],
             [
              0.5555555555555556,
              "#d8576b"
             ],
             [
              0.6666666666666666,
              "#ed7953"
             ],
             [
              0.7777777777777778,
              "#fb9f3a"
             ],
             [
              0.8888888888888888,
              "#fdca26"
             ],
             [
              1,
              "#f0f921"
             ]
            ],
            "type": "histogram2dcontour"
           }
          ],
          "mesh3d": [
           {
            "colorbar": {
             "outlinewidth": 0,
             "ticks": ""
            },
            "type": "mesh3d"
           }
          ],
          "parcoords": [
           {
            "line": {
             "colorbar": {
              "outlinewidth": 0,
              "ticks": ""
             }
            },
            "type": "parcoords"
           }
          ],
          "pie": [
           {
            "automargin": true,
            "type": "pie"
           }
          ],
          "scatter": [
           {
            "marker": {
             "colorbar": {
              "outlinewidth": 0,
              "ticks": ""
             }
            },
            "type": "scatter"
           }
          ],
          "scatter3d": [
           {
            "line": {
             "colorbar": {
              "outlinewidth": 0,
              "ticks": ""
             }
            },
            "marker": {
             "colorbar": {
              "outlinewidth": 0,
              "ticks": ""
             }
            },
            "type": "scatter3d"
           }
          ],
          "scattercarpet": [
           {
            "marker": {
             "colorbar": {
              "outlinewidth": 0,
              "ticks": ""
             }
            },
            "type": "scattercarpet"
           }
          ],
          "scattergeo": [
           {
            "marker": {
             "colorbar": {
              "outlinewidth": 0,
              "ticks": ""
             }
            },
            "type": "scattergeo"
           }
          ],
          "scattergl": [
           {
            "marker": {
             "colorbar": {
              "outlinewidth": 0,
              "ticks": ""
             }
            },
            "type": "scattergl"
           }
          ],
          "scattermapbox": [
           {
            "marker": {
             "colorbar": {
              "outlinewidth": 0,
              "ticks": ""
             }
            },
            "type": "scattermapbox"
           }
          ],
          "scatterpolar": [
           {
            "marker": {
             "colorbar": {
              "outlinewidth": 0,
              "ticks": ""
             }
            },
            "type": "scatterpolar"
           }
          ],
          "scatterpolargl": [
           {
            "marker": {
             "colorbar": {
              "outlinewidth": 0,
              "ticks": ""
             }
            },
            "type": "scatterpolargl"
           }
          ],
          "scatterternary": [
           {
            "marker": {
             "colorbar": {
              "outlinewidth": 0,
              "ticks": ""
             }
            },
            "type": "scatterternary"
           }
          ],
          "surface": [
           {
            "colorbar": {
             "outlinewidth": 0,
             "ticks": ""
            },
            "colorscale": [
             [
              0,
              "#0d0887"
             ],
             [
              0.1111111111111111,
              "#46039f"
             ],
             [
              0.2222222222222222,
              "#7201a8"
             ],
             [
              0.3333333333333333,
              "#9c179e"
             ],
             [
              0.4444444444444444,
              "#bd3786"
             ],
             [
              0.5555555555555556,
              "#d8576b"
             ],
             [
              0.6666666666666666,
              "#ed7953"
             ],
             [
              0.7777777777777778,
              "#fb9f3a"
             ],
             [
              0.8888888888888888,
              "#fdca26"
             ],
             [
              1,
              "#f0f921"
             ]
            ],
            "type": "surface"
           }
          ],
          "table": [
           {
            "cells": {
             "fill": {
              "color": "#EBF0F8"
             },
             "line": {
              "color": "white"
             }
            },
            "header": {
             "fill": {
              "color": "#C8D4E3"
             },
             "line": {
              "color": "white"
             }
            },
            "type": "table"
           }
          ]
         },
         "layout": {
          "annotationdefaults": {
           "arrowcolor": "#2a3f5f",
           "arrowhead": 0,
           "arrowwidth": 1
          },
          "coloraxis": {
           "colorbar": {
            "outlinewidth": 0,
            "ticks": ""
           }
          },
          "colorscale": {
           "diverging": [
            [
             0,
             "#8e0152"
            ],
            [
             0.1,
             "#c51b7d"
            ],
            [
             0.2,
             "#de77ae"
            ],
            [
             0.3,
             "#f1b6da"
            ],
            [
             0.4,
             "#fde0ef"
            ],
            [
             0.5,
             "#f7f7f7"
            ],
            [
             0.6,
             "#e6f5d0"
            ],
            [
             0.7,
             "#b8e186"
            ],
            [
             0.8,
             "#7fbc41"
            ],
            [
             0.9,
             "#4d9221"
            ],
            [
             1,
             "#276419"
            ]
           ],
           "sequential": [
            [
             0,
             "#0d0887"
            ],
            [
             0.1111111111111111,
             "#46039f"
            ],
            [
             0.2222222222222222,
             "#7201a8"
            ],
            [
             0.3333333333333333,
             "#9c179e"
            ],
            [
             0.4444444444444444,
             "#bd3786"
            ],
            [
             0.5555555555555556,
             "#d8576b"
            ],
            [
             0.6666666666666666,
             "#ed7953"
            ],
            [
             0.7777777777777778,
             "#fb9f3a"
            ],
            [
             0.8888888888888888,
             "#fdca26"
            ],
            [
             1,
             "#f0f921"
            ]
           ],
           "sequentialminus": [
            [
             0,
             "#0d0887"
            ],
            [
             0.1111111111111111,
             "#46039f"
            ],
            [
             0.2222222222222222,
             "#7201a8"
            ],
            [
             0.3333333333333333,
             "#9c179e"
            ],
            [
             0.4444444444444444,
             "#bd3786"
            ],
            [
             0.5555555555555556,
             "#d8576b"
            ],
            [
             0.6666666666666666,
             "#ed7953"
            ],
            [
             0.7777777777777778,
             "#fb9f3a"
            ],
            [
             0.8888888888888888,
             "#fdca26"
            ],
            [
             1,
             "#f0f921"
            ]
           ]
          },
          "colorway": [
           "#636efa",
           "#EF553B",
           "#00cc96",
           "#ab63fa",
           "#FFA15A",
           "#19d3f3",
           "#FF6692",
           "#B6E880",
           "#FF97FF",
           "#FECB52"
          ],
          "font": {
           "color": "#2a3f5f"
          },
          "geo": {
           "bgcolor": "white",
           "lakecolor": "white",
           "landcolor": "#E5ECF6",
           "showlakes": true,
           "showland": true,
           "subunitcolor": "white"
          },
          "hoverlabel": {
           "align": "left"
          },
          "hovermode": "closest",
          "mapbox": {
           "style": "light"
          },
          "paper_bgcolor": "white",
          "plot_bgcolor": "#E5ECF6",
          "polar": {
           "angularaxis": {
            "gridcolor": "white",
            "linecolor": "white",
            "ticks": ""
           },
           "bgcolor": "#E5ECF6",
           "radialaxis": {
            "gridcolor": "white",
            "linecolor": "white",
            "ticks": ""
           }
          },
          "scene": {
           "xaxis": {
            "backgroundcolor": "#E5ECF6",
            "gridcolor": "white",
            "gridwidth": 2,
            "linecolor": "white",
            "showbackground": true,
            "ticks": "",
            "zerolinecolor": "white"
           },
           "yaxis": {
            "backgroundcolor": "#E5ECF6",
            "gridcolor": "white",
            "gridwidth": 2,
            "linecolor": "white",
            "showbackground": true,
            "ticks": "",
            "zerolinecolor": "white"
           },
           "zaxis": {
            "backgroundcolor": "#E5ECF6",
            "gridcolor": "white",
            "gridwidth": 2,
            "linecolor": "white",
            "showbackground": true,
            "ticks": "",
            "zerolinecolor": "white"
           }
          },
          "shapedefaults": {
           "line": {
            "color": "#2a3f5f"
           }
          },
          "ternary": {
           "aaxis": {
            "gridcolor": "white",
            "linecolor": "white",
            "ticks": ""
           },
           "baxis": {
            "gridcolor": "white",
            "linecolor": "white",
            "ticks": ""
           },
           "bgcolor": "#E5ECF6",
           "caxis": {
            "gridcolor": "white",
            "linecolor": "white",
            "ticks": ""
           }
          },
          "title": {
           "x": 0.05
          },
          "xaxis": {
           "automargin": true,
           "gridcolor": "white",
           "linecolor": "white",
           "ticks": "",
           "title": {
            "standoff": 15
           },
           "zerolinecolor": "white",
           "zerolinewidth": 2
          },
          "yaxis": {
           "automargin": true,
           "gridcolor": "white",
           "linecolor": "white",
           "ticks": "",
           "title": {
            "standoff": 15
           },
           "zerolinecolor": "white",
           "zerolinewidth": 2
          }
         }
        },
        "title": {
         "font": {
          "color": "#4D5663"
         }
        },
        "xaxis": {
         "gridcolor": "#E1E5ED",
         "showgrid": true,
         "tickfont": {
          "color": "#4D5663"
         },
         "title": {
          "font": {
           "color": "#4D5663"
          },
          "text": ""
         },
         "zerolinecolor": "#E1E5ED"
        },
        "yaxis": {
         "gridcolor": "#E1E5ED",
         "showgrid": true,
         "tickfont": {
          "color": "#4D5663"
         },
         "title": {
          "font": {
           "color": "#4D5663"
          },
          "text": ""
         },
         "zerolinecolor": "#E1E5ED"
        }
       }
      },
      "text/html": [
       "<div>                            <div id=\"15c76f74-a49a-4640-95de-5c9914f0161d\" class=\"plotly-graph-div\" style=\"height:525px; width:100%;\"></div>            <script type=\"text/javascript\">                require([\"plotly\"], function(Plotly) {                    window.PLOTLYENV=window.PLOTLYENV || {};\n",
       "                    window.PLOTLYENV.BASE_URL='https://plot.ly';                                    if (document.getElementById(\"15c76f74-a49a-4640-95de-5c9914f0161d\")) {                    Plotly.newPlot(                        \"15c76f74-a49a-4640-95de-5c9914f0161d\",                        [{\"marker\": {\"color\": [\"purple\", \"purple\", \"purple\", \"purple\", \"purple\", \"purple\", \"purple\", \"purple\", \"purple\", \"purple\", \"purple\", \"purple\", \"purple\", \"purple\", \"purple\", \"purple\", \"purple\", \"purple\", \"purple\", \"purple\", \"purple\", \"purple\", \"purple\", \"purple\", \"purple\", \"purple\", \"purple\", \"purple\", \"purple\", \"purple\", \"purple\", \"purple\", \"purple\", \"purple\", \"purple\", \"purple\", \"purple\", \"purple\", \"purple\", \"purple\", \"purple\", \"purple\", \"purple\", \"purple\", \"purple\", \"purple\", \"purple\", \"purple\", \"purple\", \"purple\", \"purple\", \"purple\", \"purple\", \"purple\", \"purple\", \"purple\", \"purple\", \"purple\", \"purple\", \"purple\", \"purple\", \"purple\", \"purple\", \"purple\", \"purple\", \"purple\", \"purple\", \"purple\", \"purple\", \"purple\", \"purple\", \"purple\", \"purple\", \"purple\", \"purple\", \"purple\", \"purple\", \"purple\", \"purple\", \"purple\", \"purple\", \"purple\", \"purple\", \"purple\", \"purple\", \"purple\", \"purple\", \"purple\", \"purple\", \"purple\", \"purple\", \"purple\", \"purple\", \"purple\", \"purple\", \"purple\", \"purple\", \"purple\", \"purple\", \"purple\"], \"line\": {\"width\": 1.3}, \"size\": [55, 84, 45, 75, 38, 52, 90, 43, 81, 78, 96, 35, 77, 58, 59, 82, 58, 59, 61, 69, 79, 34, 83, 46, 78, 40, 112, 67, 12, 38, 74, 60, 95, 92, 64, 91, 80, 91, 84, 67, 21, 42, 57, 67, 40, 38, 64, 75, 35, 86, 83, 74, 78, 35, 71, 52, 54, 24, 67, 61, 65, 94, 96, 73, 45, 45, 48, 31, 52, 63, 100, 88, 41, 35, 76, 103, 48, 74, 73, 36, 51, 69, 33, 25, 50, 65, 57, 64, 74, 56, 75, 65, 66, 52, 53, 65, 57, 71, 77, 87], \"symbol\": \"circle\"}, \"mode\": \"markers\", \"text\": \"\", \"type\": \"scatter\", \"x\": [-0.8156211921936473, -0.3488054734179534, 1.3634652871830246, 0.6827654196928922, -1.0579817213633653, -0.9172741010318527, -1.0111454672320228, 2.1474195456264242, -0.029116717408046878, -0.10503227051826579, -1.8982085799443809, -0.061607126903382985, -1.461069514841389, -0.4159207500708357, 0.5428281012175966, -1.1064321564326451, 1.1818468571532845, -0.4997449331078411, 0.6513450257522175, -1.0096901464963166, 0.7777710862030701, 1.1156051451021982, -1.3963977721174032, -2.1957740562038897, -0.003082555605334334, -0.8711334400342721, -1.1721695448682867, 0.9015731399020005, -0.7687236581093563, 0.648912600414831, -0.3370999147061945, -0.2557289363041199, 1.3940022814140893, -1.0918291338075325, 0.926385756882171, -0.02699273090378049, -1.9310415085129753, -2.0537105543928087, 1.331393828819895, -1.2479264355796142, 1.3244176563546068, 0.4547765829735793, -0.9485957942455121, 0.7711272727493926, 0.10770503293463943, -0.34345388358808904, -0.2901651965788942, -1.8859801912106564, -0.06463771887301847, 0.7339329153613252, -2.9813490059807424, 0.49298111601570926, 2.089197422357034, 0.5485407093266145, -0.45294081667793284, -1.2343570095799694, -0.6043887454889516, 0.19698825224500555, 0.2525008929314805, 0.49330016796457193, -1.3296448063379627, -1.3199625654791716, -0.22952536088723396, -2.100923552982224, -1.2766272123803133, -0.0759219486515562, -1.3161580407429254, 0.06457107233952505, 0.11828851281676804, -0.1854970115502745, -0.6904859218641665, 0.9987015332368285, 1.0653613654646588, 0.30642527390970625, 0.005411555193580738, 0.46565443254592476, -0.5513607990797764, -0.6156892013681534, 1.0864651990406675, 1.2076925241549614, 0.02996839767387277, -0.014468892242910269, 2.314696376629038, 2.208168488408517, -1.3983413330991918, 0.8986343834667301, 0.9916299241963795, -0.20474753074899615, -0.2318152457813195, -0.41240495042251296, -1.5084220112468731, -0.2339935120152956, -0.6079408227599712, -0.09966875704636555, 0.23726828071761713, -1.7732192190847027, 0.28673585713418004, -0.7359231672703281, 0.14300452088914767, 1.6972975653855318], \"y\": [0.3715414837853284, -0.1496899277411245, -0.4390213126824492, 1.6124578320777376, 0.11183836103323239, 1.458697253376567, 0.9643586012873291, 0.6670443200955786, -0.21265059534970032, -0.8636786417042411, 1.7871113503248284, -0.1447568525603548, 0.9351528782010953, 0.9625816992599668, -0.3733852727659238, -0.2822727071412232, -0.0358397051319197, 2.2130874225777575, 0.25326232890298495, -0.445997394922047, -0.12580352886153912, 0.821603670489078, -0.31317514756877424, -1.227443779918153, 0.08176459147203437, -0.13765985270634984, -1.1342575625974662, -0.6658897059835954, -0.8162034704460095, 0.8322541179478329, -2.3019121397506352, 0.22840969211373394, -0.09790587776093376, 0.8646965614406674, 0.8123971676173096, 0.09931126017752998, -0.2851236926891674, -0.6546008255239986, 0.34637604119215065, -0.08096229379499327, -1.0821639264456364, 0.7707047699604228, -0.3655827162038345, -0.8690899907167929, -1.62725903133252, 0.8473311747014874, 0.2243054275489603, 0.9160444771656323, -0.013671567941790488, 1.1756905044906398, 2.211644592878346, 2.6734963742744893, 2.403609725799866, -0.7828324585717606, -1.9352254812359753, 2.05781884631984, 0.22955750817913378, -1.41367971194844, -0.02222680289686833, -0.3265895253904034, -0.662586189934153, 0.34162075972823924, -1.7987978352472804, -2.164523510479693, -1.0226530080529086, 0.09527821901748883, -0.3735501240807589, -0.8341382892266959, -0.34868142809346037, 1.3620090274224168, 0.6831582769222206, -0.9704644017602544, 1.0850240034716527, 0.03189658005429582, 1.5597883688055845, -0.6942070267432159, -0.22882318437441995, 1.410449211516949, 1.3503691828085254, 0.1134970084477248, -0.4990774677156832, -1.4529230662123482, -0.6863896873450261, 0.7806907699913527, -0.4867880186501855, 0.9352865979372379, -0.5062252759718567, 0.5592357779532194, 0.6665247279587084, 0.7647459179575313, 0.4677285244089398, 1.0166663003685206, 1.0356066302371916, -0.44541082873479076, -0.040668349850732054, 0.5685074541670516, -1.167505710044138, -0.370685489323101, 0.7617607871230696, -0.34649327030204485]}],                        {\"legend\": {\"bgcolor\": \"#F5F6F9\", \"font\": {\"color\": \"#4D5663\"}}, \"paper_bgcolor\": \"#F5F6F9\", \"plot_bgcolor\": \"#F5F6F9\", \"template\": {\"data\": {\"bar\": [{\"error_x\": {\"color\": \"#2a3f5f\"}, \"error_y\": {\"color\": \"#2a3f5f\"}, \"marker\": {\"line\": {\"color\": \"#E5ECF6\", \"width\": 0.5}}, \"type\": \"bar\"}], \"barpolar\": [{\"marker\": {\"line\": {\"color\": \"#E5ECF6\", \"width\": 0.5}}, \"type\": \"barpolar\"}], \"carpet\": [{\"aaxis\": {\"endlinecolor\": \"#2a3f5f\", \"gridcolor\": \"white\", \"linecolor\": \"white\", \"minorgridcolor\": \"white\", \"startlinecolor\": \"#2a3f5f\"}, \"baxis\": {\"endlinecolor\": \"#2a3f5f\", \"gridcolor\": \"white\", \"linecolor\": \"white\", \"minorgridcolor\": \"white\", \"startlinecolor\": \"#2a3f5f\"}, \"type\": \"carpet\"}], \"choropleth\": [{\"colorbar\": {\"outlinewidth\": 0, \"ticks\": \"\"}, \"type\": \"choropleth\"}], \"contour\": [{\"colorbar\": {\"outlinewidth\": 0, \"ticks\": \"\"}, \"colorscale\": [[0.0, \"#0d0887\"], [0.1111111111111111, \"#46039f\"], [0.2222222222222222, \"#7201a8\"], [0.3333333333333333, \"#9c179e\"], [0.4444444444444444, \"#bd3786\"], [0.5555555555555556, \"#d8576b\"], [0.6666666666666666, \"#ed7953\"], [0.7777777777777778, \"#fb9f3a\"], [0.8888888888888888, \"#fdca26\"], [1.0, \"#f0f921\"]], \"type\": \"contour\"}], \"contourcarpet\": [{\"colorbar\": {\"outlinewidth\": 0, \"ticks\": \"\"}, \"type\": \"contourcarpet\"}], \"heatmap\": [{\"colorbar\": {\"outlinewidth\": 0, \"ticks\": \"\"}, \"colorscale\": [[0.0, \"#0d0887\"], [0.1111111111111111, \"#46039f\"], [0.2222222222222222, \"#7201a8\"], [0.3333333333333333, \"#9c179e\"], [0.4444444444444444, \"#bd3786\"], [0.5555555555555556, \"#d8576b\"], [0.6666666666666666, \"#ed7953\"], [0.7777777777777778, \"#fb9f3a\"], [0.8888888888888888, \"#fdca26\"], [1.0, \"#f0f921\"]], \"type\": \"heatmap\"}], \"heatmapgl\": [{\"colorbar\": {\"outlinewidth\": 0, \"ticks\": \"\"}, \"colorscale\": [[0.0, \"#0d0887\"], [0.1111111111111111, \"#46039f\"], [0.2222222222222222, \"#7201a8\"], [0.3333333333333333, \"#9c179e\"], [0.4444444444444444, \"#bd3786\"], [0.5555555555555556, \"#d8576b\"], [0.6666666666666666, \"#ed7953\"], [0.7777777777777778, \"#fb9f3a\"], [0.8888888888888888, \"#fdca26\"], [1.0, \"#f0f921\"]], \"type\": \"heatmapgl\"}], \"histogram\": [{\"marker\": {\"colorbar\": {\"outlinewidth\": 0, \"ticks\": \"\"}}, \"type\": \"histogram\"}], \"histogram2d\": [{\"colorbar\": {\"outlinewidth\": 0, \"ticks\": \"\"}, \"colorscale\": [[0.0, \"#0d0887\"], [0.1111111111111111, \"#46039f\"], [0.2222222222222222, \"#7201a8\"], [0.3333333333333333, \"#9c179e\"], [0.4444444444444444, \"#bd3786\"], [0.5555555555555556, \"#d8576b\"], [0.6666666666666666, \"#ed7953\"], [0.7777777777777778, \"#fb9f3a\"], [0.8888888888888888, \"#fdca26\"], [1.0, \"#f0f921\"]], \"type\": \"histogram2d\"}], \"histogram2dcontour\": [{\"colorbar\": {\"outlinewidth\": 0, \"ticks\": \"\"}, \"colorscale\": [[0.0, \"#0d0887\"], [0.1111111111111111, \"#46039f\"], [0.2222222222222222, \"#7201a8\"], [0.3333333333333333, \"#9c179e\"], [0.4444444444444444, \"#bd3786\"], [0.5555555555555556, \"#d8576b\"], [0.6666666666666666, \"#ed7953\"], [0.7777777777777778, \"#fb9f3a\"], [0.8888888888888888, \"#fdca26\"], [1.0, \"#f0f921\"]], \"type\": \"histogram2dcontour\"}], \"mesh3d\": [{\"colorbar\": {\"outlinewidth\": 0, \"ticks\": \"\"}, \"type\": \"mesh3d\"}], \"parcoords\": [{\"line\": {\"colorbar\": {\"outlinewidth\": 0, \"ticks\": \"\"}}, \"type\": \"parcoords\"}], \"pie\": [{\"automargin\": true, \"type\": \"pie\"}], \"scatter\": [{\"marker\": {\"colorbar\": {\"outlinewidth\": 0, \"ticks\": \"\"}}, \"type\": \"scatter\"}], \"scatter3d\": [{\"line\": {\"colorbar\": {\"outlinewidth\": 0, \"ticks\": \"\"}}, \"marker\": {\"colorbar\": {\"outlinewidth\": 0, \"ticks\": \"\"}}, \"type\": \"scatter3d\"}], \"scattercarpet\": [{\"marker\": {\"colorbar\": {\"outlinewidth\": 0, \"ticks\": \"\"}}, \"type\": \"scattercarpet\"}], \"scattergeo\": [{\"marker\": {\"colorbar\": {\"outlinewidth\": 0, \"ticks\": \"\"}}, \"type\": \"scattergeo\"}], \"scattergl\": [{\"marker\": {\"colorbar\": {\"outlinewidth\": 0, \"ticks\": \"\"}}, \"type\": \"scattergl\"}], \"scattermapbox\": [{\"marker\": {\"colorbar\": {\"outlinewidth\": 0, \"ticks\": \"\"}}, \"type\": \"scattermapbox\"}], \"scatterpolar\": [{\"marker\": {\"colorbar\": {\"outlinewidth\": 0, \"ticks\": \"\"}}, \"type\": \"scatterpolar\"}], \"scatterpolargl\": [{\"marker\": {\"colorbar\": {\"outlinewidth\": 0, \"ticks\": \"\"}}, \"type\": \"scatterpolargl\"}], \"scatterternary\": [{\"marker\": {\"colorbar\": {\"outlinewidth\": 0, \"ticks\": \"\"}}, \"type\": \"scatterternary\"}], \"surface\": [{\"colorbar\": {\"outlinewidth\": 0, \"ticks\": \"\"}, \"colorscale\": [[0.0, \"#0d0887\"], [0.1111111111111111, \"#46039f\"], [0.2222222222222222, \"#7201a8\"], [0.3333333333333333, \"#9c179e\"], [0.4444444444444444, \"#bd3786\"], [0.5555555555555556, \"#d8576b\"], [0.6666666666666666, \"#ed7953\"], [0.7777777777777778, \"#fb9f3a\"], [0.8888888888888888, \"#fdca26\"], [1.0, \"#f0f921\"]], \"type\": \"surface\"}], \"table\": [{\"cells\": {\"fill\": {\"color\": \"#EBF0F8\"}, \"line\": {\"color\": \"white\"}}, \"header\": {\"fill\": {\"color\": \"#C8D4E3\"}, \"line\": {\"color\": \"white\"}}, \"type\": \"table\"}]}, \"layout\": {\"annotationdefaults\": {\"arrowcolor\": \"#2a3f5f\", \"arrowhead\": 0, \"arrowwidth\": 1}, \"coloraxis\": {\"colorbar\": {\"outlinewidth\": 0, \"ticks\": \"\"}}, \"colorscale\": {\"diverging\": [[0, \"#8e0152\"], [0.1, \"#c51b7d\"], [0.2, \"#de77ae\"], [0.3, \"#f1b6da\"], [0.4, \"#fde0ef\"], [0.5, \"#f7f7f7\"], [0.6, \"#e6f5d0\"], [0.7, \"#b8e186\"], [0.8, \"#7fbc41\"], [0.9, \"#4d9221\"], [1, \"#276419\"]], \"sequential\": [[0.0, \"#0d0887\"], [0.1111111111111111, \"#46039f\"], [0.2222222222222222, \"#7201a8\"], [0.3333333333333333, \"#9c179e\"], [0.4444444444444444, \"#bd3786\"], [0.5555555555555556, \"#d8576b\"], [0.6666666666666666, \"#ed7953\"], [0.7777777777777778, \"#fb9f3a\"], [0.8888888888888888, \"#fdca26\"], [1.0, \"#f0f921\"]], \"sequentialminus\": [[0.0, \"#0d0887\"], [0.1111111111111111, \"#46039f\"], [0.2222222222222222, \"#7201a8\"], [0.3333333333333333, \"#9c179e\"], [0.4444444444444444, \"#bd3786\"], [0.5555555555555556, \"#d8576b\"], [0.6666666666666666, \"#ed7953\"], [0.7777777777777778, \"#fb9f3a\"], [0.8888888888888888, \"#fdca26\"], [1.0, \"#f0f921\"]]}, \"colorway\": [\"#636efa\", \"#EF553B\", \"#00cc96\", \"#ab63fa\", \"#FFA15A\", \"#19d3f3\", \"#FF6692\", \"#B6E880\", \"#FF97FF\", \"#FECB52\"], \"font\": {\"color\": \"#2a3f5f\"}, \"geo\": {\"bgcolor\": \"white\", \"lakecolor\": \"white\", \"landcolor\": \"#E5ECF6\", \"showlakes\": true, \"showland\": true, \"subunitcolor\": \"white\"}, \"hoverlabel\": {\"align\": \"left\"}, \"hovermode\": \"closest\", \"mapbox\": {\"style\": \"light\"}, \"paper_bgcolor\": \"white\", \"plot_bgcolor\": \"#E5ECF6\", \"polar\": {\"angularaxis\": {\"gridcolor\": \"white\", \"linecolor\": \"white\", \"ticks\": \"\"}, \"bgcolor\": \"#E5ECF6\", \"radialaxis\": {\"gridcolor\": \"white\", \"linecolor\": \"white\", \"ticks\": \"\"}}, \"scene\": {\"xaxis\": {\"backgroundcolor\": \"#E5ECF6\", \"gridcolor\": \"white\", \"gridwidth\": 2, \"linecolor\": \"white\", \"showbackground\": true, \"ticks\": \"\", \"zerolinecolor\": \"white\"}, \"yaxis\": {\"backgroundcolor\": \"#E5ECF6\", \"gridcolor\": \"white\", \"gridwidth\": 2, \"linecolor\": \"white\", \"showbackground\": true, \"ticks\": \"\", \"zerolinecolor\": \"white\"}, \"zaxis\": {\"backgroundcolor\": \"#E5ECF6\", \"gridcolor\": \"white\", \"gridwidth\": 2, \"linecolor\": \"white\", \"showbackground\": true, \"ticks\": \"\", \"zerolinecolor\": \"white\"}}, \"shapedefaults\": {\"line\": {\"color\": \"#2a3f5f\"}}, \"ternary\": {\"aaxis\": {\"gridcolor\": \"white\", \"linecolor\": \"white\", \"ticks\": \"\"}, \"baxis\": {\"gridcolor\": \"white\", \"linecolor\": \"white\", \"ticks\": \"\"}, \"bgcolor\": \"#E5ECF6\", \"caxis\": {\"gridcolor\": \"white\", \"linecolor\": \"white\", \"ticks\": \"\"}}, \"title\": {\"x\": 0.05}, \"xaxis\": {\"automargin\": true, \"gridcolor\": \"white\", \"linecolor\": \"white\", \"ticks\": \"\", \"title\": {\"standoff\": 15}, \"zerolinecolor\": \"white\", \"zerolinewidth\": 2}, \"yaxis\": {\"automargin\": true, \"gridcolor\": \"white\", \"linecolor\": \"white\", \"ticks\": \"\", \"title\": {\"standoff\": 15}, \"zerolinecolor\": \"white\", \"zerolinewidth\": 2}}}, \"title\": {\"font\": {\"color\": \"#4D5663\"}}, \"xaxis\": {\"gridcolor\": \"#E1E5ED\", \"showgrid\": true, \"tickfont\": {\"color\": \"#4D5663\"}, \"title\": {\"font\": {\"color\": \"#4D5663\"}, \"text\": \"\"}, \"zerolinecolor\": \"#E1E5ED\"}, \"yaxis\": {\"gridcolor\": \"#E1E5ED\", \"showgrid\": true, \"tickfont\": {\"color\": \"#4D5663\"}, \"title\": {\"font\": {\"color\": \"#4D5663\"}, \"text\": \"\"}, \"zerolinecolor\": \"#E1E5ED\"}},                        {\"showLink\": true, \"linkText\": \"Export to plot.ly\", \"plotlyServerURL\": \"https://plot.ly\", \"responsive\": true}                    ).then(function(){\n",
       "                            \n",
       "var gd = document.getElementById('15c76f74-a49a-4640-95de-5c9914f0161d');\n",
       "var x = new MutationObserver(function (mutations, observer) {{\n",
       "        var display = window.getComputedStyle(gd).display;\n",
       "        if (!display || display === 'none') {{\n",
       "            console.log([gd, 'removed!']);\n",
       "            Plotly.purge(gd);\n",
       "            observer.disconnect();\n",
       "        }}\n",
       "}});\n",
       "\n",
       "// Listen for the removal of the full notebook cells\n",
       "var notebookContainer = gd.closest('#notebook-container');\n",
       "if (notebookContainer) {{\n",
       "    x.observe(notebookContainer, {childList: true});\n",
       "}}\n",
       "\n",
       "// Listen for the clearing of the current output cell\n",
       "var outputEl = gd.closest('.output');\n",
       "if (outputEl) {{\n",
       "    x.observe(outputEl, {childList: true});\n",
       "}}\n",
       "\n",
       "                        })                };                });            </script>        </div>"
      ]
     },
     "metadata": {},
     "output_type": "display_data"
    }
   ],
   "source": [
    "# Create an interactive bubble plot\n",
    "df.iplot(kind='bubble',x='C',y='B',size='D',colors='purple')"
   ]
  },
  {
   "cell_type": "markdown",
   "metadata": {},
   "source": [
    "## Interactive Scatter Matrix\n",
    "\n",
    "Similar to seaborn's pair plot. Plots scatter plots for every pair of numerical columns, and histograms when compared to themselves (in the diagonal)."
   ]
  },
  {
   "cell_type": "code",
   "execution_count": 43,
   "metadata": {},
   "outputs": [
    {
     "data": {
      "application/vnd.plotly.v1+json": {
       "config": {
        "linkText": "Export to plot.ly",
        "plotlyServerURL": "https://plot.ly",
        "showLink": true
       },
       "data": [
        {
         "histfunc": "count",
         "histnorm": "",
         "marker": {
          "color": "rgba(255, 153, 51, 1.0)",
          "line": {
           "color": "#4D5663",
           "width": 1.3
          }
         },
         "name": "A",
         "nbinsx": 10,
         "opacity": 0.8,
         "orientation": "v",
         "type": "histogram",
         "x": [
          0.00645505412481479,
          -1.4397876348458365,
          1.0708611347292805,
          0.28406613516333,
          0.058580630554189314,
          0.8284319830137025,
          -0.42047449551545285,
          -0.09014078165929397,
          -1.3944631937012903,
          0.05256359179847144,
          0.0409425859720373,
          -1.0208810538666255,
          1.147791416367246,
          0.7658353585491399,
          -0.4910219172880578,
          -0.8721591983562276,
          -0.9005228723828286,
          -0.560157105001934,
          0.3713100958842003,
          -1.2535692114404662,
          0.6909564571551409,
          0.1842453733842638,
          1.1379399025401098,
          1.1225527092582108,
          2.566851668670725,
          -1.670807423685407,
          1.94114639518042,
          -0.4715978936051285,
          -0.8163180921528749,
          -1.3536378264027218,
          -0.4147680876033762,
          -1.5047960860017953,
          -0.45073089384645704,
          -0.7269309668428034,
          0.7071546103928739,
          -0.5733190517411629,
          -0.6254361093893777,
          -1.5979799108505073,
          0.5170911382160981,
          0.5990087994240142,
          -0.2713626986608739,
          0.009040260923086347,
          -1.8660001972888383,
          0.40229667838475697,
          0.41585974272164616,
          -0.763893236346236,
          -0.34155596437332403,
          0.9542846586183369,
          1.0716615685885462,
          -0.060216026348868294,
          -1.1773224311305817,
          -0.9337797332054449,
          0.1749212272955488,
          -0.4016088255929763,
          1.5669389913415512,
          -0.8513635591410853,
          0.5310694215184522,
          -0.2754033351060103,
          -1.0414551990670875,
          -1.3845691960246238,
          0.11348281842005707,
          1.3575087993749007,
          -0.3954770620305859,
          0.676071850082259,
          0.4705010649987572,
          -0.3790387735935101,
          -0.8495913010737675,
          0.8382970974418101,
          -0.5153325311787621,
          -1.7022110786144058,
          1.4655183248688948,
          1.0520473235550596,
          -1.171272825456019,
          -0.7506656329216204,
          0.7543814278344634,
          0.25107938267119495,
          -0.5073680136495456,
          -0.65943015684561,
          0.04797048723213697,
          1.3725651550792377,
          0.3377203852279814,
          1.2690715670621149,
          0.3721442232698379,
          0.5626215355177316,
          -0.135971356264149,
          -1.0401702516300955,
          0.2074595019498187,
          0.6824824097281659,
          -1.2108413913024183,
          -0.14337649101770347,
          -0.15534252908565863,
          1.8190769247613148,
          -1.2625189409980964,
          1.0150403647301383,
          0.5975471562017068,
          0.7052928914556554,
          0.7574383663343425,
          0.3520597042626315,
          0.12580990970060232,
          -1.371360391325017
         ],
         "xaxis": "x",
         "yaxis": "y"
        },
        {
         "line": {
          "color": "rgba(128, 128, 128, 1.0)",
          "dash": "solid",
          "shape": "linear",
          "width": 1.3
         },
         "marker": {
          "size": 2,
          "symbol": "circle"
         },
         "mode": "markers",
         "name": "A",
         "text": "",
         "type": "scatter",
         "x": [
          0.3715414837853284,
          -0.1496899277411245,
          -0.4390213126824492,
          1.6124578320777376,
          0.11183836103323239,
          1.458697253376567,
          0.9643586012873291,
          0.6670443200955786,
          -0.21265059534970032,
          -0.8636786417042411,
          1.7871113503248284,
          -0.1447568525603548,
          0.9351528782010953,
          0.9625816992599668,
          -0.3733852727659238,
          -0.2822727071412232,
          -0.0358397051319197,
          2.2130874225777575,
          0.25326232890298495,
          -0.445997394922047,
          -0.12580352886153912,
          0.821603670489078,
          -0.31317514756877424,
          -1.227443779918153,
          0.08176459147203437,
          -0.13765985270634984,
          -1.1342575625974662,
          -0.6658897059835954,
          -0.8162034704460095,
          0.8322541179478329,
          -2.3019121397506352,
          0.22840969211373394,
          -0.09790587776093376,
          0.8646965614406674,
          0.8123971676173096,
          0.09931126017752998,
          -0.2851236926891674,
          -0.6546008255239986,
          0.34637604119215065,
          -0.08096229379499327,
          -1.0821639264456364,
          0.7707047699604228,
          -0.3655827162038345,
          -0.8690899907167929,
          -1.62725903133252,
          0.8473311747014874,
          0.2243054275489603,
          0.9160444771656323,
          -0.013671567941790488,
          1.1756905044906398,
          2.211644592878346,
          2.6734963742744893,
          2.403609725799866,
          -0.7828324585717606,
          -1.9352254812359753,
          2.05781884631984,
          0.22955750817913378,
          -1.41367971194844,
          -0.02222680289686833,
          -0.3265895253904034,
          -0.662586189934153,
          0.34162075972823924,
          -1.7987978352472804,
          -2.164523510479693,
          -1.0226530080529086,
          0.09527821901748883,
          -0.3735501240807589,
          -0.8341382892266959,
          -0.34868142809346037,
          1.3620090274224168,
          0.6831582769222206,
          -0.9704644017602544,
          1.0850240034716527,
          0.03189658005429582,
          1.5597883688055845,
          -0.6942070267432159,
          -0.22882318437441995,
          1.410449211516949,
          1.3503691828085254,
          0.1134970084477248,
          -0.4990774677156832,
          -1.4529230662123482,
          -0.6863896873450261,
          0.7806907699913527,
          -0.4867880186501855,
          0.9352865979372379,
          -0.5062252759718567,
          0.5592357779532194,
          0.6665247279587084,
          0.7647459179575313,
          0.4677285244089398,
          1.0166663003685206,
          1.0356066302371916,
          -0.44541082873479076,
          -0.040668349850732054,
          0.5685074541670516,
          -1.167505710044138,
          -0.370685489323101,
          0.7617607871230696,
          -0.34649327030204485
         ],
         "xaxis": "x2",
         "y": [
          0.00645505412481479,
          -1.4397876348458365,
          1.0708611347292805,
          0.28406613516333,
          0.058580630554189314,
          0.8284319830137025,
          -0.42047449551545285,
          -0.09014078165929397,
          -1.3944631937012903,
          0.05256359179847144,
          0.0409425859720373,
          -1.0208810538666255,
          1.147791416367246,
          0.7658353585491399,
          -0.4910219172880578,
          -0.8721591983562276,
          -0.9005228723828286,
          -0.560157105001934,
          0.3713100958842003,
          -1.2535692114404662,
          0.6909564571551409,
          0.1842453733842638,
          1.1379399025401098,
          1.1225527092582108,
          2.566851668670725,
          -1.670807423685407,
          1.94114639518042,
          -0.4715978936051285,
          -0.8163180921528749,
          -1.3536378264027218,
          -0.4147680876033762,
          -1.5047960860017953,
          -0.45073089384645704,
          -0.7269309668428034,
          0.7071546103928739,
          -0.5733190517411629,
          -0.6254361093893777,
          -1.5979799108505073,
          0.5170911382160981,
          0.5990087994240142,
          -0.2713626986608739,
          0.009040260923086347,
          -1.8660001972888383,
          0.40229667838475697,
          0.41585974272164616,
          -0.763893236346236,
          -0.34155596437332403,
          0.9542846586183369,
          1.0716615685885462,
          -0.060216026348868294,
          -1.1773224311305817,
          -0.9337797332054449,
          0.1749212272955488,
          -0.4016088255929763,
          1.5669389913415512,
          -0.8513635591410853,
          0.5310694215184522,
          -0.2754033351060103,
          -1.0414551990670875,
          -1.3845691960246238,
          0.11348281842005707,
          1.3575087993749007,
          -0.3954770620305859,
          0.676071850082259,
          0.4705010649987572,
          -0.3790387735935101,
          -0.8495913010737675,
          0.8382970974418101,
          -0.5153325311787621,
          -1.7022110786144058,
          1.4655183248688948,
          1.0520473235550596,
          -1.171272825456019,
          -0.7506656329216204,
          0.7543814278344634,
          0.25107938267119495,
          -0.5073680136495456,
          -0.65943015684561,
          0.04797048723213697,
          1.3725651550792377,
          0.3377203852279814,
          1.2690715670621149,
          0.3721442232698379,
          0.5626215355177316,
          -0.135971356264149,
          -1.0401702516300955,
          0.2074595019498187,
          0.6824824097281659,
          -1.2108413913024183,
          -0.14337649101770347,
          -0.15534252908565863,
          1.8190769247613148,
          -1.2625189409980964,
          1.0150403647301383,
          0.5975471562017068,
          0.7052928914556554,
          0.7574383663343425,
          0.3520597042626315,
          0.12580990970060232,
          -1.371360391325017
         ],
         "yaxis": "y2"
        },
        {
         "line": {
          "color": "rgba(128, 128, 128, 1.0)",
          "dash": "solid",
          "shape": "linear",
          "width": 1.3
         },
         "marker": {
          "size": 2,
          "symbol": "circle"
         },
         "mode": "markers",
         "name": "A",
         "text": "",
         "type": "scatter",
         "x": [
          -0.8156211921936473,
          -0.3488054734179534,
          1.3634652871830246,
          0.6827654196928922,
          -1.0579817213633653,
          -0.9172741010318527,
          -1.0111454672320228,
          2.1474195456264242,
          -0.029116717408046878,
          -0.10503227051826579,
          -1.8982085799443809,
          -0.061607126903382985,
          -1.461069514841389,
          -0.4159207500708357,
          0.5428281012175966,
          -1.1064321564326451,
          1.1818468571532845,
          -0.4997449331078411,
          0.6513450257522175,
          -1.0096901464963166,
          0.7777710862030701,
          1.1156051451021982,
          -1.3963977721174032,
          -2.1957740562038897,
          -0.003082555605334334,
          -0.8711334400342721,
          -1.1721695448682867,
          0.9015731399020005,
          -0.7687236581093563,
          0.648912600414831,
          -0.3370999147061945,
          -0.2557289363041199,
          1.3940022814140893,
          -1.0918291338075325,
          0.926385756882171,
          -0.02699273090378049,
          -1.9310415085129753,
          -2.0537105543928087,
          1.331393828819895,
          -1.2479264355796142,
          1.3244176563546068,
          0.4547765829735793,
          -0.9485957942455121,
          0.7711272727493926,
          0.10770503293463943,
          -0.34345388358808904,
          -0.2901651965788942,
          -1.8859801912106564,
          -0.06463771887301847,
          0.7339329153613252,
          -2.9813490059807424,
          0.49298111601570926,
          2.089197422357034,
          0.5485407093266145,
          -0.45294081667793284,
          -1.2343570095799694,
          -0.6043887454889516,
          0.19698825224500555,
          0.2525008929314805,
          0.49330016796457193,
          -1.3296448063379627,
          -1.3199625654791716,
          -0.22952536088723396,
          -2.100923552982224,
          -1.2766272123803133,
          -0.0759219486515562,
          -1.3161580407429254,
          0.06457107233952505,
          0.11828851281676804,
          -0.1854970115502745,
          -0.6904859218641665,
          0.9987015332368285,
          1.0653613654646588,
          0.30642527390970625,
          0.005411555193580738,
          0.46565443254592476,
          -0.5513607990797764,
          -0.6156892013681534,
          1.0864651990406675,
          1.2076925241549614,
          0.02996839767387277,
          -0.014468892242910269,
          2.314696376629038,
          2.208168488408517,
          -1.3983413330991918,
          0.8986343834667301,
          0.9916299241963795,
          -0.20474753074899615,
          -0.2318152457813195,
          -0.41240495042251296,
          -1.5084220112468731,
          -0.2339935120152956,
          -0.6079408227599712,
          -0.09966875704636555,
          0.23726828071761713,
          -1.7732192190847027,
          0.28673585713418004,
          -0.7359231672703281,
          0.14300452088914767,
          1.6972975653855318
         ],
         "xaxis": "x3",
         "y": [
          0.00645505412481479,
          -1.4397876348458365,
          1.0708611347292805,
          0.28406613516333,
          0.058580630554189314,
          0.8284319830137025,
          -0.42047449551545285,
          -0.09014078165929397,
          -1.3944631937012903,
          0.05256359179847144,
          0.0409425859720373,
          -1.0208810538666255,
          1.147791416367246,
          0.7658353585491399,
          -0.4910219172880578,
          -0.8721591983562276,
          -0.9005228723828286,
          -0.560157105001934,
          0.3713100958842003,
          -1.2535692114404662,
          0.6909564571551409,
          0.1842453733842638,
          1.1379399025401098,
          1.1225527092582108,
          2.566851668670725,
          -1.670807423685407,
          1.94114639518042,
          -0.4715978936051285,
          -0.8163180921528749,
          -1.3536378264027218,
          -0.4147680876033762,
          -1.5047960860017953,
          -0.45073089384645704,
          -0.7269309668428034,
          0.7071546103928739,
          -0.5733190517411629,
          -0.6254361093893777,
          -1.5979799108505073,
          0.5170911382160981,
          0.5990087994240142,
          -0.2713626986608739,
          0.009040260923086347,
          -1.8660001972888383,
          0.40229667838475697,
          0.41585974272164616,
          -0.763893236346236,
          -0.34155596437332403,
          0.9542846586183369,
          1.0716615685885462,
          -0.060216026348868294,
          -1.1773224311305817,
          -0.9337797332054449,
          0.1749212272955488,
          -0.4016088255929763,
          1.5669389913415512,
          -0.8513635591410853,
          0.5310694215184522,
          -0.2754033351060103,
          -1.0414551990670875,
          -1.3845691960246238,
          0.11348281842005707,
          1.3575087993749007,
          -0.3954770620305859,
          0.676071850082259,
          0.4705010649987572,
          -0.3790387735935101,
          -0.8495913010737675,
          0.8382970974418101,
          -0.5153325311787621,
          -1.7022110786144058,
          1.4655183248688948,
          1.0520473235550596,
          -1.171272825456019,
          -0.7506656329216204,
          0.7543814278344634,
          0.25107938267119495,
          -0.5073680136495456,
          -0.65943015684561,
          0.04797048723213697,
          1.3725651550792377,
          0.3377203852279814,
          1.2690715670621149,
          0.3721442232698379,
          0.5626215355177316,
          -0.135971356264149,
          -1.0401702516300955,
          0.2074595019498187,
          0.6824824097281659,
          -1.2108413913024183,
          -0.14337649101770347,
          -0.15534252908565863,
          1.8190769247613148,
          -1.2625189409980964,
          1.0150403647301383,
          0.5975471562017068,
          0.7052928914556554,
          0.7574383663343425,
          0.3520597042626315,
          0.12580990970060232,
          -1.371360391325017
         ],
         "yaxis": "y3"
        },
        {
         "line": {
          "color": "rgba(128, 128, 128, 1.0)",
          "dash": "solid",
          "shape": "linear",
          "width": 1.3
         },
         "marker": {
          "size": 2,
          "symbol": "circle"
         },
         "mode": "markers",
         "name": "A",
         "text": "",
         "type": "scatter",
         "x": [
          -0.46896793394847963,
          0.9185701612631408,
          -0.9518353470364371,
          0.48127796570390513,
          -1.3125227628679224,
          -0.6001985612883243,
          1.2438374321973853,
          -1.0553928899948373,
          0.7992286386403018,
          0.6552228453687096,
          1.531139173688056,
          -1.434972124639351,
          0.5886176757481795,
          -0.3256784096497872,
          -0.2623819605419885,
          0.8093293479850361,
          -0.33275476984830865,
          -0.2956276921472676,
          -0.16713256889711028,
          0.18389720704075418,
          0.6657691087241017,
          -1.4997126274775754,
          0.8711561678776168,
          -0.8924685564325691,
          0.6394678129395951,
          -1.196144615877988,
          2.2614519074522,
          0.11987585103470248,
          -2.579662215505832,
          -1.3178324834559312,
          0.46948793870344907,
          -0.2210025562961031,
          1.4552867861558016,
          1.326246985282575,
          -0.054439587001145,
          1.2706741490376032,
          0.7484048322067663,
          1.2710087859871775,
          0.9447743157753115,
          0.0917616016406183,
          -2.0969697544296864,
          -1.1217734741484078,
          -0.35986753254874787,
          0.12035306348613169,
          -1.1902816920463186,
          -1.2966439417613633,
          -0.017967446036095795,
          0.514611017485124,
          -1.4461382765586006,
          1.01186070273958,
          0.8879030485264665,
          0.4676220911886453,
          0.6228012943753499,
          -1.4207209081286396,
          0.2867700005446423,
          -0.6139865568654482,
          -0.5415167711981378,
          -1.9858206491463257,
          0.12723912891542727,
          -0.1793100802880613,
          0.0037780088332585375,
          1.3903163960561136,
          1.5083085016459787,
          0.3926357357086319,
          -0.9743888746263668,
          -0.9454377234958473,
          -0.8321414989740954,
          -1.620960244458763,
          -0.6017219998541727,
          -0.06238112948649538,
          1.6954621456675467,
          1.124584858797205,
          -1.15012884419011,
          -1.4364055469573436,
          0.5664302863033238,
          1.8332136136850243,
          -0.8089001901634655,
          0.43902060972417456,
          0.37600900785175306,
          -1.3948918928031053,
          -0.6904696137869282,
          0.19589727243424596,
          -1.5300619443770898,
          -1.9477439997569757,
          -0.7048608070105993,
          0.0030274862426587037,
          -0.3658721419657042,
          -0.027565836557152504,
          0.46474856183842084,
          -0.4170025571275899,
          0.5118024905797606,
          0.022175819324665814,
          0.07345976472766286,
          -0.6162389548458861,
          -0.546978786397993,
          0.00893652800919723,
          -0.3826503977720516,
          0.2771619614010083,
          0.6072349321310275,
          1.0624815146959694
         ],
         "xaxis": "x4",
         "y": [
          0.00645505412481479,
          -1.4397876348458365,
          1.0708611347292805,
          0.28406613516333,
          0.058580630554189314,
          0.8284319830137025,
          -0.42047449551545285,
          -0.09014078165929397,
          -1.3944631937012903,
          0.05256359179847144,
          0.0409425859720373,
          -1.0208810538666255,
          1.147791416367246,
          0.7658353585491399,
          -0.4910219172880578,
          -0.8721591983562276,
          -0.9005228723828286,
          -0.560157105001934,
          0.3713100958842003,
          -1.2535692114404662,
          0.6909564571551409,
          0.1842453733842638,
          1.1379399025401098,
          1.1225527092582108,
          2.566851668670725,
          -1.670807423685407,
          1.94114639518042,
          -0.4715978936051285,
          -0.8163180921528749,
          -1.3536378264027218,
          -0.4147680876033762,
          -1.5047960860017953,
          -0.45073089384645704,
          -0.7269309668428034,
          0.7071546103928739,
          -0.5733190517411629,
          -0.6254361093893777,
          -1.5979799108505073,
          0.5170911382160981,
          0.5990087994240142,
          -0.2713626986608739,
          0.009040260923086347,
          -1.8660001972888383,
          0.40229667838475697,
          0.41585974272164616,
          -0.763893236346236,
          -0.34155596437332403,
          0.9542846586183369,
          1.0716615685885462,
          -0.060216026348868294,
          -1.1773224311305817,
          -0.9337797332054449,
          0.1749212272955488,
          -0.4016088255929763,
          1.5669389913415512,
          -0.8513635591410853,
          0.5310694215184522,
          -0.2754033351060103,
          -1.0414551990670875,
          -1.3845691960246238,
          0.11348281842005707,
          1.3575087993749007,
          -0.3954770620305859,
          0.676071850082259,
          0.4705010649987572,
          -0.3790387735935101,
          -0.8495913010737675,
          0.8382970974418101,
          -0.5153325311787621,
          -1.7022110786144058,
          1.4655183248688948,
          1.0520473235550596,
          -1.171272825456019,
          -0.7506656329216204,
          0.7543814278344634,
          0.25107938267119495,
          -0.5073680136495456,
          -0.65943015684561,
          0.04797048723213697,
          1.3725651550792377,
          0.3377203852279814,
          1.2690715670621149,
          0.3721442232698379,
          0.5626215355177316,
          -0.135971356264149,
          -1.0401702516300955,
          0.2074595019498187,
          0.6824824097281659,
          -1.2108413913024183,
          -0.14337649101770347,
          -0.15534252908565863,
          1.8190769247613148,
          -1.2625189409980964,
          1.0150403647301383,
          0.5975471562017068,
          0.7052928914556554,
          0.7574383663343425,
          0.3520597042626315,
          0.12580990970060232,
          -1.371360391325017
         ],
         "yaxis": "y4"
        },
        {
         "line": {
          "color": "rgba(128, 128, 128, 1.0)",
          "dash": "solid",
          "shape": "linear",
          "width": 1.3
         },
         "marker": {
          "size": 2,
          "symbol": "circle"
         },
         "mode": "markers",
         "name": "B",
         "text": "",
         "type": "scatter",
         "x": [
          0.00645505412481479,
          -1.4397876348458365,
          1.0708611347292805,
          0.28406613516333,
          0.058580630554189314,
          0.8284319830137025,
          -0.42047449551545285,
          -0.09014078165929397,
          -1.3944631937012903,
          0.05256359179847144,
          0.0409425859720373,
          -1.0208810538666255,
          1.147791416367246,
          0.7658353585491399,
          -0.4910219172880578,
          -0.8721591983562276,
          -0.9005228723828286,
          -0.560157105001934,
          0.3713100958842003,
          -1.2535692114404662,
          0.6909564571551409,
          0.1842453733842638,
          1.1379399025401098,
          1.1225527092582108,
          2.566851668670725,
          -1.670807423685407,
          1.94114639518042,
          -0.4715978936051285,
          -0.8163180921528749,
          -1.3536378264027218,
          -0.4147680876033762,
          -1.5047960860017953,
          -0.45073089384645704,
          -0.7269309668428034,
          0.7071546103928739,
          -0.5733190517411629,
          -0.6254361093893777,
          -1.5979799108505073,
          0.5170911382160981,
          0.5990087994240142,
          -0.2713626986608739,
          0.009040260923086347,
          -1.8660001972888383,
          0.40229667838475697,
          0.41585974272164616,
          -0.763893236346236,
          -0.34155596437332403,
          0.9542846586183369,
          1.0716615685885462,
          -0.060216026348868294,
          -1.1773224311305817,
          -0.9337797332054449,
          0.1749212272955488,
          -0.4016088255929763,
          1.5669389913415512,
          -0.8513635591410853,
          0.5310694215184522,
          -0.2754033351060103,
          -1.0414551990670875,
          -1.3845691960246238,
          0.11348281842005707,
          1.3575087993749007,
          -0.3954770620305859,
          0.676071850082259,
          0.4705010649987572,
          -0.3790387735935101,
          -0.8495913010737675,
          0.8382970974418101,
          -0.5153325311787621,
          -1.7022110786144058,
          1.4655183248688948,
          1.0520473235550596,
          -1.171272825456019,
          -0.7506656329216204,
          0.7543814278344634,
          0.25107938267119495,
          -0.5073680136495456,
          -0.65943015684561,
          0.04797048723213697,
          1.3725651550792377,
          0.3377203852279814,
          1.2690715670621149,
          0.3721442232698379,
          0.5626215355177316,
          -0.135971356264149,
          -1.0401702516300955,
          0.2074595019498187,
          0.6824824097281659,
          -1.2108413913024183,
          -0.14337649101770347,
          -0.15534252908565863,
          1.8190769247613148,
          -1.2625189409980964,
          1.0150403647301383,
          0.5975471562017068,
          0.7052928914556554,
          0.7574383663343425,
          0.3520597042626315,
          0.12580990970060232,
          -1.371360391325017
         ],
         "xaxis": "x5",
         "y": [
          0.3715414837853284,
          -0.1496899277411245,
          -0.4390213126824492,
          1.6124578320777376,
          0.11183836103323239,
          1.458697253376567,
          0.9643586012873291,
          0.6670443200955786,
          -0.21265059534970032,
          -0.8636786417042411,
          1.7871113503248284,
          -0.1447568525603548,
          0.9351528782010953,
          0.9625816992599668,
          -0.3733852727659238,
          -0.2822727071412232,
          -0.0358397051319197,
          2.2130874225777575,
          0.25326232890298495,
          -0.445997394922047,
          -0.12580352886153912,
          0.821603670489078,
          -0.31317514756877424,
          -1.227443779918153,
          0.08176459147203437,
          -0.13765985270634984,
          -1.1342575625974662,
          -0.6658897059835954,
          -0.8162034704460095,
          0.8322541179478329,
          -2.3019121397506352,
          0.22840969211373394,
          -0.09790587776093376,
          0.8646965614406674,
          0.8123971676173096,
          0.09931126017752998,
          -0.2851236926891674,
          -0.6546008255239986,
          0.34637604119215065,
          -0.08096229379499327,
          -1.0821639264456364,
          0.7707047699604228,
          -0.3655827162038345,
          -0.8690899907167929,
          -1.62725903133252,
          0.8473311747014874,
          0.2243054275489603,
          0.9160444771656323,
          -0.013671567941790488,
          1.1756905044906398,
          2.211644592878346,
          2.6734963742744893,
          2.403609725799866,
          -0.7828324585717606,
          -1.9352254812359753,
          2.05781884631984,
          0.22955750817913378,
          -1.41367971194844,
          -0.02222680289686833,
          -0.3265895253904034,
          -0.662586189934153,
          0.34162075972823924,
          -1.7987978352472804,
          -2.164523510479693,
          -1.0226530080529086,
          0.09527821901748883,
          -0.3735501240807589,
          -0.8341382892266959,
          -0.34868142809346037,
          1.3620090274224168,
          0.6831582769222206,
          -0.9704644017602544,
          1.0850240034716527,
          0.03189658005429582,
          1.5597883688055845,
          -0.6942070267432159,
          -0.22882318437441995,
          1.410449211516949,
          1.3503691828085254,
          0.1134970084477248,
          -0.4990774677156832,
          -1.4529230662123482,
          -0.6863896873450261,
          0.7806907699913527,
          -0.4867880186501855,
          0.9352865979372379,
          -0.5062252759718567,
          0.5592357779532194,
          0.6665247279587084,
          0.7647459179575313,
          0.4677285244089398,
          1.0166663003685206,
          1.0356066302371916,
          -0.44541082873479076,
          -0.040668349850732054,
          0.5685074541670516,
          -1.167505710044138,
          -0.370685489323101,
          0.7617607871230696,
          -0.34649327030204485
         ],
         "yaxis": "y5"
        },
        {
         "histfunc": "count",
         "histnorm": "",
         "marker": {
          "color": "rgba(55, 128, 191, 1.0)",
          "line": {
           "color": "#4D5663",
           "width": 1.3
          }
         },
         "name": "B",
         "nbinsx": 10,
         "opacity": 0.8,
         "orientation": "v",
         "type": "histogram",
         "x": [
          0.3715414837853284,
          -0.1496899277411245,
          -0.4390213126824492,
          1.6124578320777376,
          0.11183836103323239,
          1.458697253376567,
          0.9643586012873291,
          0.6670443200955786,
          -0.21265059534970032,
          -0.8636786417042411,
          1.7871113503248284,
          -0.1447568525603548,
          0.9351528782010953,
          0.9625816992599668,
          -0.3733852727659238,
          -0.2822727071412232,
          -0.0358397051319197,
          2.2130874225777575,
          0.25326232890298495,
          -0.445997394922047,
          -0.12580352886153912,
          0.821603670489078,
          -0.31317514756877424,
          -1.227443779918153,
          0.08176459147203437,
          -0.13765985270634984,
          -1.1342575625974662,
          -0.6658897059835954,
          -0.8162034704460095,
          0.8322541179478329,
          -2.3019121397506352,
          0.22840969211373394,
          -0.09790587776093376,
          0.8646965614406674,
          0.8123971676173096,
          0.09931126017752998,
          -0.2851236926891674,
          -0.6546008255239986,
          0.34637604119215065,
          -0.08096229379499327,
          -1.0821639264456364,
          0.7707047699604228,
          -0.3655827162038345,
          -0.8690899907167929,
          -1.62725903133252,
          0.8473311747014874,
          0.2243054275489603,
          0.9160444771656323,
          -0.013671567941790488,
          1.1756905044906398,
          2.211644592878346,
          2.6734963742744893,
          2.403609725799866,
          -0.7828324585717606,
          -1.9352254812359753,
          2.05781884631984,
          0.22955750817913378,
          -1.41367971194844,
          -0.02222680289686833,
          -0.3265895253904034,
          -0.662586189934153,
          0.34162075972823924,
          -1.7987978352472804,
          -2.164523510479693,
          -1.0226530080529086,
          0.09527821901748883,
          -0.3735501240807589,
          -0.8341382892266959,
          -0.34868142809346037,
          1.3620090274224168,
          0.6831582769222206,
          -0.9704644017602544,
          1.0850240034716527,
          0.03189658005429582,
          1.5597883688055845,
          -0.6942070267432159,
          -0.22882318437441995,
          1.410449211516949,
          1.3503691828085254,
          0.1134970084477248,
          -0.4990774677156832,
          -1.4529230662123482,
          -0.6863896873450261,
          0.7806907699913527,
          -0.4867880186501855,
          0.9352865979372379,
          -0.5062252759718567,
          0.5592357779532194,
          0.6665247279587084,
          0.7647459179575313,
          0.4677285244089398,
          1.0166663003685206,
          1.0356066302371916,
          -0.44541082873479076,
          -0.040668349850732054,
          0.5685074541670516,
          -1.167505710044138,
          -0.370685489323101,
          0.7617607871230696,
          -0.34649327030204485
         ],
         "xaxis": "x6",
         "yaxis": "y6"
        },
        {
         "line": {
          "color": "rgba(128, 128, 128, 1.0)",
          "dash": "solid",
          "shape": "linear",
          "width": 1.3
         },
         "marker": {
          "size": 2,
          "symbol": "circle"
         },
         "mode": "markers",
         "name": "B",
         "text": "",
         "type": "scatter",
         "x": [
          -0.8156211921936473,
          -0.3488054734179534,
          1.3634652871830246,
          0.6827654196928922,
          -1.0579817213633653,
          -0.9172741010318527,
          -1.0111454672320228,
          2.1474195456264242,
          -0.029116717408046878,
          -0.10503227051826579,
          -1.8982085799443809,
          -0.061607126903382985,
          -1.461069514841389,
          -0.4159207500708357,
          0.5428281012175966,
          -1.1064321564326451,
          1.1818468571532845,
          -0.4997449331078411,
          0.6513450257522175,
          -1.0096901464963166,
          0.7777710862030701,
          1.1156051451021982,
          -1.3963977721174032,
          -2.1957740562038897,
          -0.003082555605334334,
          -0.8711334400342721,
          -1.1721695448682867,
          0.9015731399020005,
          -0.7687236581093563,
          0.648912600414831,
          -0.3370999147061945,
          -0.2557289363041199,
          1.3940022814140893,
          -1.0918291338075325,
          0.926385756882171,
          -0.02699273090378049,
          -1.9310415085129753,
          -2.0537105543928087,
          1.331393828819895,
          -1.2479264355796142,
          1.3244176563546068,
          0.4547765829735793,
          -0.9485957942455121,
          0.7711272727493926,
          0.10770503293463943,
          -0.34345388358808904,
          -0.2901651965788942,
          -1.8859801912106564,
          -0.06463771887301847,
          0.7339329153613252,
          -2.9813490059807424,
          0.49298111601570926,
          2.089197422357034,
          0.5485407093266145,
          -0.45294081667793284,
          -1.2343570095799694,
          -0.6043887454889516,
          0.19698825224500555,
          0.2525008929314805,
          0.49330016796457193,
          -1.3296448063379627,
          -1.3199625654791716,
          -0.22952536088723396,
          -2.100923552982224,
          -1.2766272123803133,
          -0.0759219486515562,
          -1.3161580407429254,
          0.06457107233952505,
          0.11828851281676804,
          -0.1854970115502745,
          -0.6904859218641665,
          0.9987015332368285,
          1.0653613654646588,
          0.30642527390970625,
          0.005411555193580738,
          0.46565443254592476,
          -0.5513607990797764,
          -0.6156892013681534,
          1.0864651990406675,
          1.2076925241549614,
          0.02996839767387277,
          -0.014468892242910269,
          2.314696376629038,
          2.208168488408517,
          -1.3983413330991918,
          0.8986343834667301,
          0.9916299241963795,
          -0.20474753074899615,
          -0.2318152457813195,
          -0.41240495042251296,
          -1.5084220112468731,
          -0.2339935120152956,
          -0.6079408227599712,
          -0.09966875704636555,
          0.23726828071761713,
          -1.7732192190847027,
          0.28673585713418004,
          -0.7359231672703281,
          0.14300452088914767,
          1.6972975653855318
         ],
         "xaxis": "x7",
         "y": [
          0.3715414837853284,
          -0.1496899277411245,
          -0.4390213126824492,
          1.6124578320777376,
          0.11183836103323239,
          1.458697253376567,
          0.9643586012873291,
          0.6670443200955786,
          -0.21265059534970032,
          -0.8636786417042411,
          1.7871113503248284,
          -0.1447568525603548,
          0.9351528782010953,
          0.9625816992599668,
          -0.3733852727659238,
          -0.2822727071412232,
          -0.0358397051319197,
          2.2130874225777575,
          0.25326232890298495,
          -0.445997394922047,
          -0.12580352886153912,
          0.821603670489078,
          -0.31317514756877424,
          -1.227443779918153,
          0.08176459147203437,
          -0.13765985270634984,
          -1.1342575625974662,
          -0.6658897059835954,
          -0.8162034704460095,
          0.8322541179478329,
          -2.3019121397506352,
          0.22840969211373394,
          -0.09790587776093376,
          0.8646965614406674,
          0.8123971676173096,
          0.09931126017752998,
          -0.2851236926891674,
          -0.6546008255239986,
          0.34637604119215065,
          -0.08096229379499327,
          -1.0821639264456364,
          0.7707047699604228,
          -0.3655827162038345,
          -0.8690899907167929,
          -1.62725903133252,
          0.8473311747014874,
          0.2243054275489603,
          0.9160444771656323,
          -0.013671567941790488,
          1.1756905044906398,
          2.211644592878346,
          2.6734963742744893,
          2.403609725799866,
          -0.7828324585717606,
          -1.9352254812359753,
          2.05781884631984,
          0.22955750817913378,
          -1.41367971194844,
          -0.02222680289686833,
          -0.3265895253904034,
          -0.662586189934153,
          0.34162075972823924,
          -1.7987978352472804,
          -2.164523510479693,
          -1.0226530080529086,
          0.09527821901748883,
          -0.3735501240807589,
          -0.8341382892266959,
          -0.34868142809346037,
          1.3620090274224168,
          0.6831582769222206,
          -0.9704644017602544,
          1.0850240034716527,
          0.03189658005429582,
          1.5597883688055845,
          -0.6942070267432159,
          -0.22882318437441995,
          1.410449211516949,
          1.3503691828085254,
          0.1134970084477248,
          -0.4990774677156832,
          -1.4529230662123482,
          -0.6863896873450261,
          0.7806907699913527,
          -0.4867880186501855,
          0.9352865979372379,
          -0.5062252759718567,
          0.5592357779532194,
          0.6665247279587084,
          0.7647459179575313,
          0.4677285244089398,
          1.0166663003685206,
          1.0356066302371916,
          -0.44541082873479076,
          -0.040668349850732054,
          0.5685074541670516,
          -1.167505710044138,
          -0.370685489323101,
          0.7617607871230696,
          -0.34649327030204485
         ],
         "yaxis": "y7"
        },
        {
         "line": {
          "color": "rgba(128, 128, 128, 1.0)",
          "dash": "solid",
          "shape": "linear",
          "width": 1.3
         },
         "marker": {
          "size": 2,
          "symbol": "circle"
         },
         "mode": "markers",
         "name": "B",
         "text": "",
         "type": "scatter",
         "x": [
          -0.46896793394847963,
          0.9185701612631408,
          -0.9518353470364371,
          0.48127796570390513,
          -1.3125227628679224,
          -0.6001985612883243,
          1.2438374321973853,
          -1.0553928899948373,
          0.7992286386403018,
          0.6552228453687096,
          1.531139173688056,
          -1.434972124639351,
          0.5886176757481795,
          -0.3256784096497872,
          -0.2623819605419885,
          0.8093293479850361,
          -0.33275476984830865,
          -0.2956276921472676,
          -0.16713256889711028,
          0.18389720704075418,
          0.6657691087241017,
          -1.4997126274775754,
          0.8711561678776168,
          -0.8924685564325691,
          0.6394678129395951,
          -1.196144615877988,
          2.2614519074522,
          0.11987585103470248,
          -2.579662215505832,
          -1.3178324834559312,
          0.46948793870344907,
          -0.2210025562961031,
          1.4552867861558016,
          1.326246985282575,
          -0.054439587001145,
          1.2706741490376032,
          0.7484048322067663,
          1.2710087859871775,
          0.9447743157753115,
          0.0917616016406183,
          -2.0969697544296864,
          -1.1217734741484078,
          -0.35986753254874787,
          0.12035306348613169,
          -1.1902816920463186,
          -1.2966439417613633,
          -0.017967446036095795,
          0.514611017485124,
          -1.4461382765586006,
          1.01186070273958,
          0.8879030485264665,
          0.4676220911886453,
          0.6228012943753499,
          -1.4207209081286396,
          0.2867700005446423,
          -0.6139865568654482,
          -0.5415167711981378,
          -1.9858206491463257,
          0.12723912891542727,
          -0.1793100802880613,
          0.0037780088332585375,
          1.3903163960561136,
          1.5083085016459787,
          0.3926357357086319,
          -0.9743888746263668,
          -0.9454377234958473,
          -0.8321414989740954,
          -1.620960244458763,
          -0.6017219998541727,
          -0.06238112948649538,
          1.6954621456675467,
          1.124584858797205,
          -1.15012884419011,
          -1.4364055469573436,
          0.5664302863033238,
          1.8332136136850243,
          -0.8089001901634655,
          0.43902060972417456,
          0.37600900785175306,
          -1.3948918928031053,
          -0.6904696137869282,
          0.19589727243424596,
          -1.5300619443770898,
          -1.9477439997569757,
          -0.7048608070105993,
          0.0030274862426587037,
          -0.3658721419657042,
          -0.027565836557152504,
          0.46474856183842084,
          -0.4170025571275899,
          0.5118024905797606,
          0.022175819324665814,
          0.07345976472766286,
          -0.6162389548458861,
          -0.546978786397993,
          0.00893652800919723,
          -0.3826503977720516,
          0.2771619614010083,
          0.6072349321310275,
          1.0624815146959694
         ],
         "xaxis": "x8",
         "y": [
          0.3715414837853284,
          -0.1496899277411245,
          -0.4390213126824492,
          1.6124578320777376,
          0.11183836103323239,
          1.458697253376567,
          0.9643586012873291,
          0.6670443200955786,
          -0.21265059534970032,
          -0.8636786417042411,
          1.7871113503248284,
          -0.1447568525603548,
          0.9351528782010953,
          0.9625816992599668,
          -0.3733852727659238,
          -0.2822727071412232,
          -0.0358397051319197,
          2.2130874225777575,
          0.25326232890298495,
          -0.445997394922047,
          -0.12580352886153912,
          0.821603670489078,
          -0.31317514756877424,
          -1.227443779918153,
          0.08176459147203437,
          -0.13765985270634984,
          -1.1342575625974662,
          -0.6658897059835954,
          -0.8162034704460095,
          0.8322541179478329,
          -2.3019121397506352,
          0.22840969211373394,
          -0.09790587776093376,
          0.8646965614406674,
          0.8123971676173096,
          0.09931126017752998,
          -0.2851236926891674,
          -0.6546008255239986,
          0.34637604119215065,
          -0.08096229379499327,
          -1.0821639264456364,
          0.7707047699604228,
          -0.3655827162038345,
          -0.8690899907167929,
          -1.62725903133252,
          0.8473311747014874,
          0.2243054275489603,
          0.9160444771656323,
          -0.013671567941790488,
          1.1756905044906398,
          2.211644592878346,
          2.6734963742744893,
          2.403609725799866,
          -0.7828324585717606,
          -1.9352254812359753,
          2.05781884631984,
          0.22955750817913378,
          -1.41367971194844,
          -0.02222680289686833,
          -0.3265895253904034,
          -0.662586189934153,
          0.34162075972823924,
          -1.7987978352472804,
          -2.164523510479693,
          -1.0226530080529086,
          0.09527821901748883,
          -0.3735501240807589,
          -0.8341382892266959,
          -0.34868142809346037,
          1.3620090274224168,
          0.6831582769222206,
          -0.9704644017602544,
          1.0850240034716527,
          0.03189658005429582,
          1.5597883688055845,
          -0.6942070267432159,
          -0.22882318437441995,
          1.410449211516949,
          1.3503691828085254,
          0.1134970084477248,
          -0.4990774677156832,
          -1.4529230662123482,
          -0.6863896873450261,
          0.7806907699913527,
          -0.4867880186501855,
          0.9352865979372379,
          -0.5062252759718567,
          0.5592357779532194,
          0.6665247279587084,
          0.7647459179575313,
          0.4677285244089398,
          1.0166663003685206,
          1.0356066302371916,
          -0.44541082873479076,
          -0.040668349850732054,
          0.5685074541670516,
          -1.167505710044138,
          -0.370685489323101,
          0.7617607871230696,
          -0.34649327030204485
         ],
         "yaxis": "y8"
        },
        {
         "line": {
          "color": "rgba(128, 128, 128, 1.0)",
          "dash": "solid",
          "shape": "linear",
          "width": 1.3
         },
         "marker": {
          "size": 2,
          "symbol": "circle"
         },
         "mode": "markers",
         "name": "C",
         "text": "",
         "type": "scatter",
         "x": [
          0.00645505412481479,
          -1.4397876348458365,
          1.0708611347292805,
          0.28406613516333,
          0.058580630554189314,
          0.8284319830137025,
          -0.42047449551545285,
          -0.09014078165929397,
          -1.3944631937012903,
          0.05256359179847144,
          0.0409425859720373,
          -1.0208810538666255,
          1.147791416367246,
          0.7658353585491399,
          -0.4910219172880578,
          -0.8721591983562276,
          -0.9005228723828286,
          -0.560157105001934,
          0.3713100958842003,
          -1.2535692114404662,
          0.6909564571551409,
          0.1842453733842638,
          1.1379399025401098,
          1.1225527092582108,
          2.566851668670725,
          -1.670807423685407,
          1.94114639518042,
          -0.4715978936051285,
          -0.8163180921528749,
          -1.3536378264027218,
          -0.4147680876033762,
          -1.5047960860017953,
          -0.45073089384645704,
          -0.7269309668428034,
          0.7071546103928739,
          -0.5733190517411629,
          -0.6254361093893777,
          -1.5979799108505073,
          0.5170911382160981,
          0.5990087994240142,
          -0.2713626986608739,
          0.009040260923086347,
          -1.8660001972888383,
          0.40229667838475697,
          0.41585974272164616,
          -0.763893236346236,
          -0.34155596437332403,
          0.9542846586183369,
          1.0716615685885462,
          -0.060216026348868294,
          -1.1773224311305817,
          -0.9337797332054449,
          0.1749212272955488,
          -0.4016088255929763,
          1.5669389913415512,
          -0.8513635591410853,
          0.5310694215184522,
          -0.2754033351060103,
          -1.0414551990670875,
          -1.3845691960246238,
          0.11348281842005707,
          1.3575087993749007,
          -0.3954770620305859,
          0.676071850082259,
          0.4705010649987572,
          -0.3790387735935101,
          -0.8495913010737675,
          0.8382970974418101,
          -0.5153325311787621,
          -1.7022110786144058,
          1.4655183248688948,
          1.0520473235550596,
          -1.171272825456019,
          -0.7506656329216204,
          0.7543814278344634,
          0.25107938267119495,
          -0.5073680136495456,
          -0.65943015684561,
          0.04797048723213697,
          1.3725651550792377,
          0.3377203852279814,
          1.2690715670621149,
          0.3721442232698379,
          0.5626215355177316,
          -0.135971356264149,
          -1.0401702516300955,
          0.2074595019498187,
          0.6824824097281659,
          -1.2108413913024183,
          -0.14337649101770347,
          -0.15534252908565863,
          1.8190769247613148,
          -1.2625189409980964,
          1.0150403647301383,
          0.5975471562017068,
          0.7052928914556554,
          0.7574383663343425,
          0.3520597042626315,
          0.12580990970060232,
          -1.371360391325017
         ],
         "xaxis": "x9",
         "y": [
          -0.8156211921936473,
          -0.3488054734179534,
          1.3634652871830246,
          0.6827654196928922,
          -1.0579817213633653,
          -0.9172741010318527,
          -1.0111454672320228,
          2.1474195456264242,
          -0.029116717408046878,
          -0.10503227051826579,
          -1.8982085799443809,
          -0.061607126903382985,
          -1.461069514841389,
          -0.4159207500708357,
          0.5428281012175966,
          -1.1064321564326451,
          1.1818468571532845,
          -0.4997449331078411,
          0.6513450257522175,
          -1.0096901464963166,
          0.7777710862030701,
          1.1156051451021982,
          -1.3963977721174032,
          -2.1957740562038897,
          -0.003082555605334334,
          -0.8711334400342721,
          -1.1721695448682867,
          0.9015731399020005,
          -0.7687236581093563,
          0.648912600414831,
          -0.3370999147061945,
          -0.2557289363041199,
          1.3940022814140893,
          -1.0918291338075325,
          0.926385756882171,
          -0.02699273090378049,
          -1.9310415085129753,
          -2.0537105543928087,
          1.331393828819895,
          -1.2479264355796142,
          1.3244176563546068,
          0.4547765829735793,
          -0.9485957942455121,
          0.7711272727493926,
          0.10770503293463943,
          -0.34345388358808904,
          -0.2901651965788942,
          -1.8859801912106564,
          -0.06463771887301847,
          0.7339329153613252,
          -2.9813490059807424,
          0.49298111601570926,
          2.089197422357034,
          0.5485407093266145,
          -0.45294081667793284,
          -1.2343570095799694,
          -0.6043887454889516,
          0.19698825224500555,
          0.2525008929314805,
          0.49330016796457193,
          -1.3296448063379627,
          -1.3199625654791716,
          -0.22952536088723396,
          -2.100923552982224,
          -1.2766272123803133,
          -0.0759219486515562,
          -1.3161580407429254,
          0.06457107233952505,
          0.11828851281676804,
          -0.1854970115502745,
          -0.6904859218641665,
          0.9987015332368285,
          1.0653613654646588,
          0.30642527390970625,
          0.005411555193580738,
          0.46565443254592476,
          -0.5513607990797764,
          -0.6156892013681534,
          1.0864651990406675,
          1.2076925241549614,
          0.02996839767387277,
          -0.014468892242910269,
          2.314696376629038,
          2.208168488408517,
          -1.3983413330991918,
          0.8986343834667301,
          0.9916299241963795,
          -0.20474753074899615,
          -0.2318152457813195,
          -0.41240495042251296,
          -1.5084220112468731,
          -0.2339935120152956,
          -0.6079408227599712,
          -0.09966875704636555,
          0.23726828071761713,
          -1.7732192190847027,
          0.28673585713418004,
          -0.7359231672703281,
          0.14300452088914767,
          1.6972975653855318
         ],
         "yaxis": "y9"
        },
        {
         "line": {
          "color": "rgba(128, 128, 128, 1.0)",
          "dash": "solid",
          "shape": "linear",
          "width": 1.3
         },
         "marker": {
          "size": 2,
          "symbol": "circle"
         },
         "mode": "markers",
         "name": "C",
         "text": "",
         "type": "scatter",
         "x": [
          0.3715414837853284,
          -0.1496899277411245,
          -0.4390213126824492,
          1.6124578320777376,
          0.11183836103323239,
          1.458697253376567,
          0.9643586012873291,
          0.6670443200955786,
          -0.21265059534970032,
          -0.8636786417042411,
          1.7871113503248284,
          -0.1447568525603548,
          0.9351528782010953,
          0.9625816992599668,
          -0.3733852727659238,
          -0.2822727071412232,
          -0.0358397051319197,
          2.2130874225777575,
          0.25326232890298495,
          -0.445997394922047,
          -0.12580352886153912,
          0.821603670489078,
          -0.31317514756877424,
          -1.227443779918153,
          0.08176459147203437,
          -0.13765985270634984,
          -1.1342575625974662,
          -0.6658897059835954,
          -0.8162034704460095,
          0.8322541179478329,
          -2.3019121397506352,
          0.22840969211373394,
          -0.09790587776093376,
          0.8646965614406674,
          0.8123971676173096,
          0.09931126017752998,
          -0.2851236926891674,
          -0.6546008255239986,
          0.34637604119215065,
          -0.08096229379499327,
          -1.0821639264456364,
          0.7707047699604228,
          -0.3655827162038345,
          -0.8690899907167929,
          -1.62725903133252,
          0.8473311747014874,
          0.2243054275489603,
          0.9160444771656323,
          -0.013671567941790488,
          1.1756905044906398,
          2.211644592878346,
          2.6734963742744893,
          2.403609725799866,
          -0.7828324585717606,
          -1.9352254812359753,
          2.05781884631984,
          0.22955750817913378,
          -1.41367971194844,
          -0.02222680289686833,
          -0.3265895253904034,
          -0.662586189934153,
          0.34162075972823924,
          -1.7987978352472804,
          -2.164523510479693,
          -1.0226530080529086,
          0.09527821901748883,
          -0.3735501240807589,
          -0.8341382892266959,
          -0.34868142809346037,
          1.3620090274224168,
          0.6831582769222206,
          -0.9704644017602544,
          1.0850240034716527,
          0.03189658005429582,
          1.5597883688055845,
          -0.6942070267432159,
          -0.22882318437441995,
          1.410449211516949,
          1.3503691828085254,
          0.1134970084477248,
          -0.4990774677156832,
          -1.4529230662123482,
          -0.6863896873450261,
          0.7806907699913527,
          -0.4867880186501855,
          0.9352865979372379,
          -0.5062252759718567,
          0.5592357779532194,
          0.6665247279587084,
          0.7647459179575313,
          0.4677285244089398,
          1.0166663003685206,
          1.0356066302371916,
          -0.44541082873479076,
          -0.040668349850732054,
          0.5685074541670516,
          -1.167505710044138,
          -0.370685489323101,
          0.7617607871230696,
          -0.34649327030204485
         ],
         "xaxis": "x10",
         "y": [
          -0.8156211921936473,
          -0.3488054734179534,
          1.3634652871830246,
          0.6827654196928922,
          -1.0579817213633653,
          -0.9172741010318527,
          -1.0111454672320228,
          2.1474195456264242,
          -0.029116717408046878,
          -0.10503227051826579,
          -1.8982085799443809,
          -0.061607126903382985,
          -1.461069514841389,
          -0.4159207500708357,
          0.5428281012175966,
          -1.1064321564326451,
          1.1818468571532845,
          -0.4997449331078411,
          0.6513450257522175,
          -1.0096901464963166,
          0.7777710862030701,
          1.1156051451021982,
          -1.3963977721174032,
          -2.1957740562038897,
          -0.003082555605334334,
          -0.8711334400342721,
          -1.1721695448682867,
          0.9015731399020005,
          -0.7687236581093563,
          0.648912600414831,
          -0.3370999147061945,
          -0.2557289363041199,
          1.3940022814140893,
          -1.0918291338075325,
          0.926385756882171,
          -0.02699273090378049,
          -1.9310415085129753,
          -2.0537105543928087,
          1.331393828819895,
          -1.2479264355796142,
          1.3244176563546068,
          0.4547765829735793,
          -0.9485957942455121,
          0.7711272727493926,
          0.10770503293463943,
          -0.34345388358808904,
          -0.2901651965788942,
          -1.8859801912106564,
          -0.06463771887301847,
          0.7339329153613252,
          -2.9813490059807424,
          0.49298111601570926,
          2.089197422357034,
          0.5485407093266145,
          -0.45294081667793284,
          -1.2343570095799694,
          -0.6043887454889516,
          0.19698825224500555,
          0.2525008929314805,
          0.49330016796457193,
          -1.3296448063379627,
          -1.3199625654791716,
          -0.22952536088723396,
          -2.100923552982224,
          -1.2766272123803133,
          -0.0759219486515562,
          -1.3161580407429254,
          0.06457107233952505,
          0.11828851281676804,
          -0.1854970115502745,
          -0.6904859218641665,
          0.9987015332368285,
          1.0653613654646588,
          0.30642527390970625,
          0.005411555193580738,
          0.46565443254592476,
          -0.5513607990797764,
          -0.6156892013681534,
          1.0864651990406675,
          1.2076925241549614,
          0.02996839767387277,
          -0.014468892242910269,
          2.314696376629038,
          2.208168488408517,
          -1.3983413330991918,
          0.8986343834667301,
          0.9916299241963795,
          -0.20474753074899615,
          -0.2318152457813195,
          -0.41240495042251296,
          -1.5084220112468731,
          -0.2339935120152956,
          -0.6079408227599712,
          -0.09966875704636555,
          0.23726828071761713,
          -1.7732192190847027,
          0.28673585713418004,
          -0.7359231672703281,
          0.14300452088914767,
          1.6972975653855318
         ],
         "yaxis": "y10"
        },
        {
         "histfunc": "count",
         "histnorm": "",
         "marker": {
          "color": "rgba(50, 171, 96, 1.0)",
          "line": {
           "color": "#4D5663",
           "width": 1.3
          }
         },
         "name": "C",
         "nbinsx": 10,
         "opacity": 0.8,
         "orientation": "v",
         "type": "histogram",
         "x": [
          -0.8156211921936473,
          -0.3488054734179534,
          1.3634652871830246,
          0.6827654196928922,
          -1.0579817213633653,
          -0.9172741010318527,
          -1.0111454672320228,
          2.1474195456264242,
          -0.029116717408046878,
          -0.10503227051826579,
          -1.8982085799443809,
          -0.061607126903382985,
          -1.461069514841389,
          -0.4159207500708357,
          0.5428281012175966,
          -1.1064321564326451,
          1.1818468571532845,
          -0.4997449331078411,
          0.6513450257522175,
          -1.0096901464963166,
          0.7777710862030701,
          1.1156051451021982,
          -1.3963977721174032,
          -2.1957740562038897,
          -0.003082555605334334,
          -0.8711334400342721,
          -1.1721695448682867,
          0.9015731399020005,
          -0.7687236581093563,
          0.648912600414831,
          -0.3370999147061945,
          -0.2557289363041199,
          1.3940022814140893,
          -1.0918291338075325,
          0.926385756882171,
          -0.02699273090378049,
          -1.9310415085129753,
          -2.0537105543928087,
          1.331393828819895,
          -1.2479264355796142,
          1.3244176563546068,
          0.4547765829735793,
          -0.9485957942455121,
          0.7711272727493926,
          0.10770503293463943,
          -0.34345388358808904,
          -0.2901651965788942,
          -1.8859801912106564,
          -0.06463771887301847,
          0.7339329153613252,
          -2.9813490059807424,
          0.49298111601570926,
          2.089197422357034,
          0.5485407093266145,
          -0.45294081667793284,
          -1.2343570095799694,
          -0.6043887454889516,
          0.19698825224500555,
          0.2525008929314805,
          0.49330016796457193,
          -1.3296448063379627,
          -1.3199625654791716,
          -0.22952536088723396,
          -2.100923552982224,
          -1.2766272123803133,
          -0.0759219486515562,
          -1.3161580407429254,
          0.06457107233952505,
          0.11828851281676804,
          -0.1854970115502745,
          -0.6904859218641665,
          0.9987015332368285,
          1.0653613654646588,
          0.30642527390970625,
          0.005411555193580738,
          0.46565443254592476,
          -0.5513607990797764,
          -0.6156892013681534,
          1.0864651990406675,
          1.2076925241549614,
          0.02996839767387277,
          -0.014468892242910269,
          2.314696376629038,
          2.208168488408517,
          -1.3983413330991918,
          0.8986343834667301,
          0.9916299241963795,
          -0.20474753074899615,
          -0.2318152457813195,
          -0.41240495042251296,
          -1.5084220112468731,
          -0.2339935120152956,
          -0.6079408227599712,
          -0.09966875704636555,
          0.23726828071761713,
          -1.7732192190847027,
          0.28673585713418004,
          -0.7359231672703281,
          0.14300452088914767,
          1.6972975653855318
         ],
         "xaxis": "x11",
         "yaxis": "y11"
        },
        {
         "line": {
          "color": "rgba(128, 128, 128, 1.0)",
          "dash": "solid",
          "shape": "linear",
          "width": 1.3
         },
         "marker": {
          "size": 2,
          "symbol": "circle"
         },
         "mode": "markers",
         "name": "C",
         "text": "",
         "type": "scatter",
         "x": [
          -0.46896793394847963,
          0.9185701612631408,
          -0.9518353470364371,
          0.48127796570390513,
          -1.3125227628679224,
          -0.6001985612883243,
          1.2438374321973853,
          -1.0553928899948373,
          0.7992286386403018,
          0.6552228453687096,
          1.531139173688056,
          -1.434972124639351,
          0.5886176757481795,
          -0.3256784096497872,
          -0.2623819605419885,
          0.8093293479850361,
          -0.33275476984830865,
          -0.2956276921472676,
          -0.16713256889711028,
          0.18389720704075418,
          0.6657691087241017,
          -1.4997126274775754,
          0.8711561678776168,
          -0.8924685564325691,
          0.6394678129395951,
          -1.196144615877988,
          2.2614519074522,
          0.11987585103470248,
          -2.579662215505832,
          -1.3178324834559312,
          0.46948793870344907,
          -0.2210025562961031,
          1.4552867861558016,
          1.326246985282575,
          -0.054439587001145,
          1.2706741490376032,
          0.7484048322067663,
          1.2710087859871775,
          0.9447743157753115,
          0.0917616016406183,
          -2.0969697544296864,
          -1.1217734741484078,
          -0.35986753254874787,
          0.12035306348613169,
          -1.1902816920463186,
          -1.2966439417613633,
          -0.017967446036095795,
          0.514611017485124,
          -1.4461382765586006,
          1.01186070273958,
          0.8879030485264665,
          0.4676220911886453,
          0.6228012943753499,
          -1.4207209081286396,
          0.2867700005446423,
          -0.6139865568654482,
          -0.5415167711981378,
          -1.9858206491463257,
          0.12723912891542727,
          -0.1793100802880613,
          0.0037780088332585375,
          1.3903163960561136,
          1.5083085016459787,
          0.3926357357086319,
          -0.9743888746263668,
          -0.9454377234958473,
          -0.8321414989740954,
          -1.620960244458763,
          -0.6017219998541727,
          -0.06238112948649538,
          1.6954621456675467,
          1.124584858797205,
          -1.15012884419011,
          -1.4364055469573436,
          0.5664302863033238,
          1.8332136136850243,
          -0.8089001901634655,
          0.43902060972417456,
          0.37600900785175306,
          -1.3948918928031053,
          -0.6904696137869282,
          0.19589727243424596,
          -1.5300619443770898,
          -1.9477439997569757,
          -0.7048608070105993,
          0.0030274862426587037,
          -0.3658721419657042,
          -0.027565836557152504,
          0.46474856183842084,
          -0.4170025571275899,
          0.5118024905797606,
          0.022175819324665814,
          0.07345976472766286,
          -0.6162389548458861,
          -0.546978786397993,
          0.00893652800919723,
          -0.3826503977720516,
          0.2771619614010083,
          0.6072349321310275,
          1.0624815146959694
         ],
         "xaxis": "x12",
         "y": [
          -0.8156211921936473,
          -0.3488054734179534,
          1.3634652871830246,
          0.6827654196928922,
          -1.0579817213633653,
          -0.9172741010318527,
          -1.0111454672320228,
          2.1474195456264242,
          -0.029116717408046878,
          -0.10503227051826579,
          -1.8982085799443809,
          -0.061607126903382985,
          -1.461069514841389,
          -0.4159207500708357,
          0.5428281012175966,
          -1.1064321564326451,
          1.1818468571532845,
          -0.4997449331078411,
          0.6513450257522175,
          -1.0096901464963166,
          0.7777710862030701,
          1.1156051451021982,
          -1.3963977721174032,
          -2.1957740562038897,
          -0.003082555605334334,
          -0.8711334400342721,
          -1.1721695448682867,
          0.9015731399020005,
          -0.7687236581093563,
          0.648912600414831,
          -0.3370999147061945,
          -0.2557289363041199,
          1.3940022814140893,
          -1.0918291338075325,
          0.926385756882171,
          -0.02699273090378049,
          -1.9310415085129753,
          -2.0537105543928087,
          1.331393828819895,
          -1.2479264355796142,
          1.3244176563546068,
          0.4547765829735793,
          -0.9485957942455121,
          0.7711272727493926,
          0.10770503293463943,
          -0.34345388358808904,
          -0.2901651965788942,
          -1.8859801912106564,
          -0.06463771887301847,
          0.7339329153613252,
          -2.9813490059807424,
          0.49298111601570926,
          2.089197422357034,
          0.5485407093266145,
          -0.45294081667793284,
          -1.2343570095799694,
          -0.6043887454889516,
          0.19698825224500555,
          0.2525008929314805,
          0.49330016796457193,
          -1.3296448063379627,
          -1.3199625654791716,
          -0.22952536088723396,
          -2.100923552982224,
          -1.2766272123803133,
          -0.0759219486515562,
          -1.3161580407429254,
          0.06457107233952505,
          0.11828851281676804,
          -0.1854970115502745,
          -0.6904859218641665,
          0.9987015332368285,
          1.0653613654646588,
          0.30642527390970625,
          0.005411555193580738,
          0.46565443254592476,
          -0.5513607990797764,
          -0.6156892013681534,
          1.0864651990406675,
          1.2076925241549614,
          0.02996839767387277,
          -0.014468892242910269,
          2.314696376629038,
          2.208168488408517,
          -1.3983413330991918,
          0.8986343834667301,
          0.9916299241963795,
          -0.20474753074899615,
          -0.2318152457813195,
          -0.41240495042251296,
          -1.5084220112468731,
          -0.2339935120152956,
          -0.6079408227599712,
          -0.09966875704636555,
          0.23726828071761713,
          -1.7732192190847027,
          0.28673585713418004,
          -0.7359231672703281,
          0.14300452088914767,
          1.6972975653855318
         ],
         "yaxis": "y12"
        },
        {
         "line": {
          "color": "rgba(128, 128, 128, 1.0)",
          "dash": "solid",
          "shape": "linear",
          "width": 1.3
         },
         "marker": {
          "size": 2,
          "symbol": "circle"
         },
         "mode": "markers",
         "name": "D",
         "text": "",
         "type": "scatter",
         "x": [
          0.00645505412481479,
          -1.4397876348458365,
          1.0708611347292805,
          0.28406613516333,
          0.058580630554189314,
          0.8284319830137025,
          -0.42047449551545285,
          -0.09014078165929397,
          -1.3944631937012903,
          0.05256359179847144,
          0.0409425859720373,
          -1.0208810538666255,
          1.147791416367246,
          0.7658353585491399,
          -0.4910219172880578,
          -0.8721591983562276,
          -0.9005228723828286,
          -0.560157105001934,
          0.3713100958842003,
          -1.2535692114404662,
          0.6909564571551409,
          0.1842453733842638,
          1.1379399025401098,
          1.1225527092582108,
          2.566851668670725,
          -1.670807423685407,
          1.94114639518042,
          -0.4715978936051285,
          -0.8163180921528749,
          -1.3536378264027218,
          -0.4147680876033762,
          -1.5047960860017953,
          -0.45073089384645704,
          -0.7269309668428034,
          0.7071546103928739,
          -0.5733190517411629,
          -0.6254361093893777,
          -1.5979799108505073,
          0.5170911382160981,
          0.5990087994240142,
          -0.2713626986608739,
          0.009040260923086347,
          -1.8660001972888383,
          0.40229667838475697,
          0.41585974272164616,
          -0.763893236346236,
          -0.34155596437332403,
          0.9542846586183369,
          1.0716615685885462,
          -0.060216026348868294,
          -1.1773224311305817,
          -0.9337797332054449,
          0.1749212272955488,
          -0.4016088255929763,
          1.5669389913415512,
          -0.8513635591410853,
          0.5310694215184522,
          -0.2754033351060103,
          -1.0414551990670875,
          -1.3845691960246238,
          0.11348281842005707,
          1.3575087993749007,
          -0.3954770620305859,
          0.676071850082259,
          0.4705010649987572,
          -0.3790387735935101,
          -0.8495913010737675,
          0.8382970974418101,
          -0.5153325311787621,
          -1.7022110786144058,
          1.4655183248688948,
          1.0520473235550596,
          -1.171272825456019,
          -0.7506656329216204,
          0.7543814278344634,
          0.25107938267119495,
          -0.5073680136495456,
          -0.65943015684561,
          0.04797048723213697,
          1.3725651550792377,
          0.3377203852279814,
          1.2690715670621149,
          0.3721442232698379,
          0.5626215355177316,
          -0.135971356264149,
          -1.0401702516300955,
          0.2074595019498187,
          0.6824824097281659,
          -1.2108413913024183,
          -0.14337649101770347,
          -0.15534252908565863,
          1.8190769247613148,
          -1.2625189409980964,
          1.0150403647301383,
          0.5975471562017068,
          0.7052928914556554,
          0.7574383663343425,
          0.3520597042626315,
          0.12580990970060232,
          -1.371360391325017
         ],
         "xaxis": "x13",
         "y": [
          -0.46896793394847963,
          0.9185701612631408,
          -0.9518353470364371,
          0.48127796570390513,
          -1.3125227628679224,
          -0.6001985612883243,
          1.2438374321973853,
          -1.0553928899948373,
          0.7992286386403018,
          0.6552228453687096,
          1.531139173688056,
          -1.434972124639351,
          0.5886176757481795,
          -0.3256784096497872,
          -0.2623819605419885,
          0.8093293479850361,
          -0.33275476984830865,
          -0.2956276921472676,
          -0.16713256889711028,
          0.18389720704075418,
          0.6657691087241017,
          -1.4997126274775754,
          0.8711561678776168,
          -0.8924685564325691,
          0.6394678129395951,
          -1.196144615877988,
          2.2614519074522,
          0.11987585103470248,
          -2.579662215505832,
          -1.3178324834559312,
          0.46948793870344907,
          -0.2210025562961031,
          1.4552867861558016,
          1.326246985282575,
          -0.054439587001145,
          1.2706741490376032,
          0.7484048322067663,
          1.2710087859871775,
          0.9447743157753115,
          0.0917616016406183,
          -2.0969697544296864,
          -1.1217734741484078,
          -0.35986753254874787,
          0.12035306348613169,
          -1.1902816920463186,
          -1.2966439417613633,
          -0.017967446036095795,
          0.514611017485124,
          -1.4461382765586006,
          1.01186070273958,
          0.8879030485264665,
          0.4676220911886453,
          0.6228012943753499,
          -1.4207209081286396,
          0.2867700005446423,
          -0.6139865568654482,
          -0.5415167711981378,
          -1.9858206491463257,
          0.12723912891542727,
          -0.1793100802880613,
          0.0037780088332585375,
          1.3903163960561136,
          1.5083085016459787,
          0.3926357357086319,
          -0.9743888746263668,
          -0.9454377234958473,
          -0.8321414989740954,
          -1.620960244458763,
          -0.6017219998541727,
          -0.06238112948649538,
          1.6954621456675467,
          1.124584858797205,
          -1.15012884419011,
          -1.4364055469573436,
          0.5664302863033238,
          1.8332136136850243,
          -0.8089001901634655,
          0.43902060972417456,
          0.37600900785175306,
          -1.3948918928031053,
          -0.6904696137869282,
          0.19589727243424596,
          -1.5300619443770898,
          -1.9477439997569757,
          -0.7048608070105993,
          0.0030274862426587037,
          -0.3658721419657042,
          -0.027565836557152504,
          0.46474856183842084,
          -0.4170025571275899,
          0.5118024905797606,
          0.022175819324665814,
          0.07345976472766286,
          -0.6162389548458861,
          -0.546978786397993,
          0.00893652800919723,
          -0.3826503977720516,
          0.2771619614010083,
          0.6072349321310275,
          1.0624815146959694
         ],
         "yaxis": "y13"
        },
        {
         "line": {
          "color": "rgba(128, 128, 128, 1.0)",
          "dash": "solid",
          "shape": "linear",
          "width": 1.3
         },
         "marker": {
          "size": 2,
          "symbol": "circle"
         },
         "mode": "markers",
         "name": "D",
         "text": "",
         "type": "scatter",
         "x": [
          0.3715414837853284,
          -0.1496899277411245,
          -0.4390213126824492,
          1.6124578320777376,
          0.11183836103323239,
          1.458697253376567,
          0.9643586012873291,
          0.6670443200955786,
          -0.21265059534970032,
          -0.8636786417042411,
          1.7871113503248284,
          -0.1447568525603548,
          0.9351528782010953,
          0.9625816992599668,
          -0.3733852727659238,
          -0.2822727071412232,
          -0.0358397051319197,
          2.2130874225777575,
          0.25326232890298495,
          -0.445997394922047,
          -0.12580352886153912,
          0.821603670489078,
          -0.31317514756877424,
          -1.227443779918153,
          0.08176459147203437,
          -0.13765985270634984,
          -1.1342575625974662,
          -0.6658897059835954,
          -0.8162034704460095,
          0.8322541179478329,
          -2.3019121397506352,
          0.22840969211373394,
          -0.09790587776093376,
          0.8646965614406674,
          0.8123971676173096,
          0.09931126017752998,
          -0.2851236926891674,
          -0.6546008255239986,
          0.34637604119215065,
          -0.08096229379499327,
          -1.0821639264456364,
          0.7707047699604228,
          -0.3655827162038345,
          -0.8690899907167929,
          -1.62725903133252,
          0.8473311747014874,
          0.2243054275489603,
          0.9160444771656323,
          -0.013671567941790488,
          1.1756905044906398,
          2.211644592878346,
          2.6734963742744893,
          2.403609725799866,
          -0.7828324585717606,
          -1.9352254812359753,
          2.05781884631984,
          0.22955750817913378,
          -1.41367971194844,
          -0.02222680289686833,
          -0.3265895253904034,
          -0.662586189934153,
          0.34162075972823924,
          -1.7987978352472804,
          -2.164523510479693,
          -1.0226530080529086,
          0.09527821901748883,
          -0.3735501240807589,
          -0.8341382892266959,
          -0.34868142809346037,
          1.3620090274224168,
          0.6831582769222206,
          -0.9704644017602544,
          1.0850240034716527,
          0.03189658005429582,
          1.5597883688055845,
          -0.6942070267432159,
          -0.22882318437441995,
          1.410449211516949,
          1.3503691828085254,
          0.1134970084477248,
          -0.4990774677156832,
          -1.4529230662123482,
          -0.6863896873450261,
          0.7806907699913527,
          -0.4867880186501855,
          0.9352865979372379,
          -0.5062252759718567,
          0.5592357779532194,
          0.6665247279587084,
          0.7647459179575313,
          0.4677285244089398,
          1.0166663003685206,
          1.0356066302371916,
          -0.44541082873479076,
          -0.040668349850732054,
          0.5685074541670516,
          -1.167505710044138,
          -0.370685489323101,
          0.7617607871230696,
          -0.34649327030204485
         ],
         "xaxis": "x14",
         "y": [
          -0.46896793394847963,
          0.9185701612631408,
          -0.9518353470364371,
          0.48127796570390513,
          -1.3125227628679224,
          -0.6001985612883243,
          1.2438374321973853,
          -1.0553928899948373,
          0.7992286386403018,
          0.6552228453687096,
          1.531139173688056,
          -1.434972124639351,
          0.5886176757481795,
          -0.3256784096497872,
          -0.2623819605419885,
          0.8093293479850361,
          -0.33275476984830865,
          -0.2956276921472676,
          -0.16713256889711028,
          0.18389720704075418,
          0.6657691087241017,
          -1.4997126274775754,
          0.8711561678776168,
          -0.8924685564325691,
          0.6394678129395951,
          -1.196144615877988,
          2.2614519074522,
          0.11987585103470248,
          -2.579662215505832,
          -1.3178324834559312,
          0.46948793870344907,
          -0.2210025562961031,
          1.4552867861558016,
          1.326246985282575,
          -0.054439587001145,
          1.2706741490376032,
          0.7484048322067663,
          1.2710087859871775,
          0.9447743157753115,
          0.0917616016406183,
          -2.0969697544296864,
          -1.1217734741484078,
          -0.35986753254874787,
          0.12035306348613169,
          -1.1902816920463186,
          -1.2966439417613633,
          -0.017967446036095795,
          0.514611017485124,
          -1.4461382765586006,
          1.01186070273958,
          0.8879030485264665,
          0.4676220911886453,
          0.6228012943753499,
          -1.4207209081286396,
          0.2867700005446423,
          -0.6139865568654482,
          -0.5415167711981378,
          -1.9858206491463257,
          0.12723912891542727,
          -0.1793100802880613,
          0.0037780088332585375,
          1.3903163960561136,
          1.5083085016459787,
          0.3926357357086319,
          -0.9743888746263668,
          -0.9454377234958473,
          -0.8321414989740954,
          -1.620960244458763,
          -0.6017219998541727,
          -0.06238112948649538,
          1.6954621456675467,
          1.124584858797205,
          -1.15012884419011,
          -1.4364055469573436,
          0.5664302863033238,
          1.8332136136850243,
          -0.8089001901634655,
          0.43902060972417456,
          0.37600900785175306,
          -1.3948918928031053,
          -0.6904696137869282,
          0.19589727243424596,
          -1.5300619443770898,
          -1.9477439997569757,
          -0.7048608070105993,
          0.0030274862426587037,
          -0.3658721419657042,
          -0.027565836557152504,
          0.46474856183842084,
          -0.4170025571275899,
          0.5118024905797606,
          0.022175819324665814,
          0.07345976472766286,
          -0.6162389548458861,
          -0.546978786397993,
          0.00893652800919723,
          -0.3826503977720516,
          0.2771619614010083,
          0.6072349321310275,
          1.0624815146959694
         ],
         "yaxis": "y14"
        },
        {
         "line": {
          "color": "rgba(128, 128, 128, 1.0)",
          "dash": "solid",
          "shape": "linear",
          "width": 1.3
         },
         "marker": {
          "size": 2,
          "symbol": "circle"
         },
         "mode": "markers",
         "name": "D",
         "text": "",
         "type": "scatter",
         "x": [
          -0.8156211921936473,
          -0.3488054734179534,
          1.3634652871830246,
          0.6827654196928922,
          -1.0579817213633653,
          -0.9172741010318527,
          -1.0111454672320228,
          2.1474195456264242,
          -0.029116717408046878,
          -0.10503227051826579,
          -1.8982085799443809,
          -0.061607126903382985,
          -1.461069514841389,
          -0.4159207500708357,
          0.5428281012175966,
          -1.1064321564326451,
          1.1818468571532845,
          -0.4997449331078411,
          0.6513450257522175,
          -1.0096901464963166,
          0.7777710862030701,
          1.1156051451021982,
          -1.3963977721174032,
          -2.1957740562038897,
          -0.003082555605334334,
          -0.8711334400342721,
          -1.1721695448682867,
          0.9015731399020005,
          -0.7687236581093563,
          0.648912600414831,
          -0.3370999147061945,
          -0.2557289363041199,
          1.3940022814140893,
          -1.0918291338075325,
          0.926385756882171,
          -0.02699273090378049,
          -1.9310415085129753,
          -2.0537105543928087,
          1.331393828819895,
          -1.2479264355796142,
          1.3244176563546068,
          0.4547765829735793,
          -0.9485957942455121,
          0.7711272727493926,
          0.10770503293463943,
          -0.34345388358808904,
          -0.2901651965788942,
          -1.8859801912106564,
          -0.06463771887301847,
          0.7339329153613252,
          -2.9813490059807424,
          0.49298111601570926,
          2.089197422357034,
          0.5485407093266145,
          -0.45294081667793284,
          -1.2343570095799694,
          -0.6043887454889516,
          0.19698825224500555,
          0.2525008929314805,
          0.49330016796457193,
          -1.3296448063379627,
          -1.3199625654791716,
          -0.22952536088723396,
          -2.100923552982224,
          -1.2766272123803133,
          -0.0759219486515562,
          -1.3161580407429254,
          0.06457107233952505,
          0.11828851281676804,
          -0.1854970115502745,
          -0.6904859218641665,
          0.9987015332368285,
          1.0653613654646588,
          0.30642527390970625,
          0.005411555193580738,
          0.46565443254592476,
          -0.5513607990797764,
          -0.6156892013681534,
          1.0864651990406675,
          1.2076925241549614,
          0.02996839767387277,
          -0.014468892242910269,
          2.314696376629038,
          2.208168488408517,
          -1.3983413330991918,
          0.8986343834667301,
          0.9916299241963795,
          -0.20474753074899615,
          -0.2318152457813195,
          -0.41240495042251296,
          -1.5084220112468731,
          -0.2339935120152956,
          -0.6079408227599712,
          -0.09966875704636555,
          0.23726828071761713,
          -1.7732192190847027,
          0.28673585713418004,
          -0.7359231672703281,
          0.14300452088914767,
          1.6972975653855318
         ],
         "xaxis": "x15",
         "y": [
          -0.46896793394847963,
          0.9185701612631408,
          -0.9518353470364371,
          0.48127796570390513,
          -1.3125227628679224,
          -0.6001985612883243,
          1.2438374321973853,
          -1.0553928899948373,
          0.7992286386403018,
          0.6552228453687096,
          1.531139173688056,
          -1.434972124639351,
          0.5886176757481795,
          -0.3256784096497872,
          -0.2623819605419885,
          0.8093293479850361,
          -0.33275476984830865,
          -0.2956276921472676,
          -0.16713256889711028,
          0.18389720704075418,
          0.6657691087241017,
          -1.4997126274775754,
          0.8711561678776168,
          -0.8924685564325691,
          0.6394678129395951,
          -1.196144615877988,
          2.2614519074522,
          0.11987585103470248,
          -2.579662215505832,
          -1.3178324834559312,
          0.46948793870344907,
          -0.2210025562961031,
          1.4552867861558016,
          1.326246985282575,
          -0.054439587001145,
          1.2706741490376032,
          0.7484048322067663,
          1.2710087859871775,
          0.9447743157753115,
          0.0917616016406183,
          -2.0969697544296864,
          -1.1217734741484078,
          -0.35986753254874787,
          0.12035306348613169,
          -1.1902816920463186,
          -1.2966439417613633,
          -0.017967446036095795,
          0.514611017485124,
          -1.4461382765586006,
          1.01186070273958,
          0.8879030485264665,
          0.4676220911886453,
          0.6228012943753499,
          -1.4207209081286396,
          0.2867700005446423,
          -0.6139865568654482,
          -0.5415167711981378,
          -1.9858206491463257,
          0.12723912891542727,
          -0.1793100802880613,
          0.0037780088332585375,
          1.3903163960561136,
          1.5083085016459787,
          0.3926357357086319,
          -0.9743888746263668,
          -0.9454377234958473,
          -0.8321414989740954,
          -1.620960244458763,
          -0.6017219998541727,
          -0.06238112948649538,
          1.6954621456675467,
          1.124584858797205,
          -1.15012884419011,
          -1.4364055469573436,
          0.5664302863033238,
          1.8332136136850243,
          -0.8089001901634655,
          0.43902060972417456,
          0.37600900785175306,
          -1.3948918928031053,
          -0.6904696137869282,
          0.19589727243424596,
          -1.5300619443770898,
          -1.9477439997569757,
          -0.7048608070105993,
          0.0030274862426587037,
          -0.3658721419657042,
          -0.027565836557152504,
          0.46474856183842084,
          -0.4170025571275899,
          0.5118024905797606,
          0.022175819324665814,
          0.07345976472766286,
          -0.6162389548458861,
          -0.546978786397993,
          0.00893652800919723,
          -0.3826503977720516,
          0.2771619614010083,
          0.6072349321310275,
          1.0624815146959694
         ],
         "yaxis": "y15"
        },
        {
         "histfunc": "count",
         "histnorm": "",
         "marker": {
          "color": "rgba(128, 0, 128, 1.0)",
          "line": {
           "color": "#4D5663",
           "width": 1.3
          }
         },
         "name": "D",
         "nbinsx": 10,
         "opacity": 0.8,
         "orientation": "v",
         "type": "histogram",
         "x": [
          -0.46896793394847963,
          0.9185701612631408,
          -0.9518353470364371,
          0.48127796570390513,
          -1.3125227628679224,
          -0.6001985612883243,
          1.2438374321973853,
          -1.0553928899948373,
          0.7992286386403018,
          0.6552228453687096,
          1.531139173688056,
          -1.434972124639351,
          0.5886176757481795,
          -0.3256784096497872,
          -0.2623819605419885,
          0.8093293479850361,
          -0.33275476984830865,
          -0.2956276921472676,
          -0.16713256889711028,
          0.18389720704075418,
          0.6657691087241017,
          -1.4997126274775754,
          0.8711561678776168,
          -0.8924685564325691,
          0.6394678129395951,
          -1.196144615877988,
          2.2614519074522,
          0.11987585103470248,
          -2.579662215505832,
          -1.3178324834559312,
          0.46948793870344907,
          -0.2210025562961031,
          1.4552867861558016,
          1.326246985282575,
          -0.054439587001145,
          1.2706741490376032,
          0.7484048322067663,
          1.2710087859871775,
          0.9447743157753115,
          0.0917616016406183,
          -2.0969697544296864,
          -1.1217734741484078,
          -0.35986753254874787,
          0.12035306348613169,
          -1.1902816920463186,
          -1.2966439417613633,
          -0.017967446036095795,
          0.514611017485124,
          -1.4461382765586006,
          1.01186070273958,
          0.8879030485264665,
          0.4676220911886453,
          0.6228012943753499,
          -1.4207209081286396,
          0.2867700005446423,
          -0.6139865568654482,
          -0.5415167711981378,
          -1.9858206491463257,
          0.12723912891542727,
          -0.1793100802880613,
          0.0037780088332585375,
          1.3903163960561136,
          1.5083085016459787,
          0.3926357357086319,
          -0.9743888746263668,
          -0.9454377234958473,
          -0.8321414989740954,
          -1.620960244458763,
          -0.6017219998541727,
          -0.06238112948649538,
          1.6954621456675467,
          1.124584858797205,
          -1.15012884419011,
          -1.4364055469573436,
          0.5664302863033238,
          1.8332136136850243,
          -0.8089001901634655,
          0.43902060972417456,
          0.37600900785175306,
          -1.3948918928031053,
          -0.6904696137869282,
          0.19589727243424596,
          -1.5300619443770898,
          -1.9477439997569757,
          -0.7048608070105993,
          0.0030274862426587037,
          -0.3658721419657042,
          -0.027565836557152504,
          0.46474856183842084,
          -0.4170025571275899,
          0.5118024905797606,
          0.022175819324665814,
          0.07345976472766286,
          -0.6162389548458861,
          -0.546978786397993,
          0.00893652800919723,
          -0.3826503977720516,
          0.2771619614010083,
          0.6072349321310275,
          1.0624815146959694
         ],
         "xaxis": "x16",
         "yaxis": "y16"
        }
       ],
       "layout": {
        "bargap": 0.02,
        "legend": {
         "bgcolor": "#F5F6F9",
         "font": {
          "color": "#4D5663"
         }
        },
        "paper_bgcolor": "#F5F6F9",
        "plot_bgcolor": "#F5F6F9",
        "showlegend": false,
        "template": {
         "data": {
          "bar": [
           {
            "error_x": {
             "color": "#2a3f5f"
            },
            "error_y": {
             "color": "#2a3f5f"
            },
            "marker": {
             "line": {
              "color": "#E5ECF6",
              "width": 0.5
             }
            },
            "type": "bar"
           }
          ],
          "barpolar": [
           {
            "marker": {
             "line": {
              "color": "#E5ECF6",
              "width": 0.5
             }
            },
            "type": "barpolar"
           }
          ],
          "carpet": [
           {
            "aaxis": {
             "endlinecolor": "#2a3f5f",
             "gridcolor": "white",
             "linecolor": "white",
             "minorgridcolor": "white",
             "startlinecolor": "#2a3f5f"
            },
            "baxis": {
             "endlinecolor": "#2a3f5f",
             "gridcolor": "white",
             "linecolor": "white",
             "minorgridcolor": "white",
             "startlinecolor": "#2a3f5f"
            },
            "type": "carpet"
           }
          ],
          "choropleth": [
           {
            "colorbar": {
             "outlinewidth": 0,
             "ticks": ""
            },
            "type": "choropleth"
           }
          ],
          "contour": [
           {
            "colorbar": {
             "outlinewidth": 0,
             "ticks": ""
            },
            "colorscale": [
             [
              0,
              "#0d0887"
             ],
             [
              0.1111111111111111,
              "#46039f"
             ],
             [
              0.2222222222222222,
              "#7201a8"
             ],
             [
              0.3333333333333333,
              "#9c179e"
             ],
             [
              0.4444444444444444,
              "#bd3786"
             ],
             [
              0.5555555555555556,
              "#d8576b"
             ],
             [
              0.6666666666666666,
              "#ed7953"
             ],
             [
              0.7777777777777778,
              "#fb9f3a"
             ],
             [
              0.8888888888888888,
              "#fdca26"
             ],
             [
              1,
              "#f0f921"
             ]
            ],
            "type": "contour"
           }
          ],
          "contourcarpet": [
           {
            "colorbar": {
             "outlinewidth": 0,
             "ticks": ""
            },
            "type": "contourcarpet"
           }
          ],
          "heatmap": [
           {
            "colorbar": {
             "outlinewidth": 0,
             "ticks": ""
            },
            "colorscale": [
             [
              0,
              "#0d0887"
             ],
             [
              0.1111111111111111,
              "#46039f"
             ],
             [
              0.2222222222222222,
              "#7201a8"
             ],
             [
              0.3333333333333333,
              "#9c179e"
             ],
             [
              0.4444444444444444,
              "#bd3786"
             ],
             [
              0.5555555555555556,
              "#d8576b"
             ],
             [
              0.6666666666666666,
              "#ed7953"
             ],
             [
              0.7777777777777778,
              "#fb9f3a"
             ],
             [
              0.8888888888888888,
              "#fdca26"
             ],
             [
              1,
              "#f0f921"
             ]
            ],
            "type": "heatmap"
           }
          ],
          "heatmapgl": [
           {
            "colorbar": {
             "outlinewidth": 0,
             "ticks": ""
            },
            "colorscale": [
             [
              0,
              "#0d0887"
             ],
             [
              0.1111111111111111,
              "#46039f"
             ],
             [
              0.2222222222222222,
              "#7201a8"
             ],
             [
              0.3333333333333333,
              "#9c179e"
             ],
             [
              0.4444444444444444,
              "#bd3786"
             ],
             [
              0.5555555555555556,
              "#d8576b"
             ],
             [
              0.6666666666666666,
              "#ed7953"
             ],
             [
              0.7777777777777778,
              "#fb9f3a"
             ],
             [
              0.8888888888888888,
              "#fdca26"
             ],
             [
              1,
              "#f0f921"
             ]
            ],
            "type": "heatmapgl"
           }
          ],
          "histogram": [
           {
            "marker": {
             "colorbar": {
              "outlinewidth": 0,
              "ticks": ""
             }
            },
            "type": "histogram"
           }
          ],
          "histogram2d": [
           {
            "colorbar": {
             "outlinewidth": 0,
             "ticks": ""
            },
            "colorscale": [
             [
              0,
              "#0d0887"
             ],
             [
              0.1111111111111111,
              "#46039f"
             ],
             [
              0.2222222222222222,
              "#7201a8"
             ],
             [
              0.3333333333333333,
              "#9c179e"
             ],
             [
              0.4444444444444444,
              "#bd3786"
             ],
             [
              0.5555555555555556,
              "#d8576b"
             ],
             [
              0.6666666666666666,
              "#ed7953"
             ],
             [
              0.7777777777777778,
              "#fb9f3a"
             ],
             [
              0.8888888888888888,
              "#fdca26"
             ],
             [
              1,
              "#f0f921"
             ]
            ],
            "type": "histogram2d"
           }
          ],
          "histogram2dcontour": [
           {
            "colorbar": {
             "outlinewidth": 0,
             "ticks": ""
            },
            "colorscale": [
             [
              0,
              "#0d0887"
             ],
             [
              0.1111111111111111,
              "#46039f"
             ],
             [
              0.2222222222222222,
              "#7201a8"
             ],
             [
              0.3333333333333333,
              "#9c179e"
             ],
             [
              0.4444444444444444,
              "#bd3786"
             ],
             [
              0.5555555555555556,
              "#d8576b"
             ],
             [
              0.6666666666666666,
              "#ed7953"
             ],
             [
              0.7777777777777778,
              "#fb9f3a"
             ],
             [
              0.8888888888888888,
              "#fdca26"
             ],
             [
              1,
              "#f0f921"
             ]
            ],
            "type": "histogram2dcontour"
           }
          ],
          "mesh3d": [
           {
            "colorbar": {
             "outlinewidth": 0,
             "ticks": ""
            },
            "type": "mesh3d"
           }
          ],
          "parcoords": [
           {
            "line": {
             "colorbar": {
              "outlinewidth": 0,
              "ticks": ""
             }
            },
            "type": "parcoords"
           }
          ],
          "pie": [
           {
            "automargin": true,
            "type": "pie"
           }
          ],
          "scatter": [
           {
            "marker": {
             "colorbar": {
              "outlinewidth": 0,
              "ticks": ""
             }
            },
            "type": "scatter"
           }
          ],
          "scatter3d": [
           {
            "line": {
             "colorbar": {
              "outlinewidth": 0,
              "ticks": ""
             }
            },
            "marker": {
             "colorbar": {
              "outlinewidth": 0,
              "ticks": ""
             }
            },
            "type": "scatter3d"
           }
          ],
          "scattercarpet": [
           {
            "marker": {
             "colorbar": {
              "outlinewidth": 0,
              "ticks": ""
             }
            },
            "type": "scattercarpet"
           }
          ],
          "scattergeo": [
           {
            "marker": {
             "colorbar": {
              "outlinewidth": 0,
              "ticks": ""
             }
            },
            "type": "scattergeo"
           }
          ],
          "scattergl": [
           {
            "marker": {
             "colorbar": {
              "outlinewidth": 0,
              "ticks": ""
             }
            },
            "type": "scattergl"
           }
          ],
          "scattermapbox": [
           {
            "marker": {
             "colorbar": {
              "outlinewidth": 0,
              "ticks": ""
             }
            },
            "type": "scattermapbox"
           }
          ],
          "scatterpolar": [
           {
            "marker": {
             "colorbar": {
              "outlinewidth": 0,
              "ticks": ""
             }
            },
            "type": "scatterpolar"
           }
          ],
          "scatterpolargl": [
           {
            "marker": {
             "colorbar": {
              "outlinewidth": 0,
              "ticks": ""
             }
            },
            "type": "scatterpolargl"
           }
          ],
          "scatterternary": [
           {
            "marker": {
             "colorbar": {
              "outlinewidth": 0,
              "ticks": ""
             }
            },
            "type": "scatterternary"
           }
          ],
          "surface": [
           {
            "colorbar": {
             "outlinewidth": 0,
             "ticks": ""
            },
            "colorscale": [
             [
              0,
              "#0d0887"
             ],
             [
              0.1111111111111111,
              "#46039f"
             ],
             [
              0.2222222222222222,
              "#7201a8"
             ],
             [
              0.3333333333333333,
              "#9c179e"
             ],
             [
              0.4444444444444444,
              "#bd3786"
             ],
             [
              0.5555555555555556,
              "#d8576b"
             ],
             [
              0.6666666666666666,
              "#ed7953"
             ],
             [
              0.7777777777777778,
              "#fb9f3a"
             ],
             [
              0.8888888888888888,
              "#fdca26"
             ],
             [
              1,
              "#f0f921"
             ]
            ],
            "type": "surface"
           }
          ],
          "table": [
           {
            "cells": {
             "fill": {
              "color": "#EBF0F8"
             },
             "line": {
              "color": "white"
             }
            },
            "header": {
             "fill": {
              "color": "#C8D4E3"
             },
             "line": {
              "color": "white"
             }
            },
            "type": "table"
           }
          ]
         },
         "layout": {
          "annotationdefaults": {
           "arrowcolor": "#2a3f5f",
           "arrowhead": 0,
           "arrowwidth": 1
          },
          "coloraxis": {
           "colorbar": {
            "outlinewidth": 0,
            "ticks": ""
           }
          },
          "colorscale": {
           "diverging": [
            [
             0,
             "#8e0152"
            ],
            [
             0.1,
             "#c51b7d"
            ],
            [
             0.2,
             "#de77ae"
            ],
            [
             0.3,
             "#f1b6da"
            ],
            [
             0.4,
             "#fde0ef"
            ],
            [
             0.5,
             "#f7f7f7"
            ],
            [
             0.6,
             "#e6f5d0"
            ],
            [
             0.7,
             "#b8e186"
            ],
            [
             0.8,
             "#7fbc41"
            ],
            [
             0.9,
             "#4d9221"
            ],
            [
             1,
             "#276419"
            ]
           ],
           "sequential": [
            [
             0,
             "#0d0887"
            ],
            [
             0.1111111111111111,
             "#46039f"
            ],
            [
             0.2222222222222222,
             "#7201a8"
            ],
            [
             0.3333333333333333,
             "#9c179e"
            ],
            [
             0.4444444444444444,
             "#bd3786"
            ],
            [
             0.5555555555555556,
             "#d8576b"
            ],
            [
             0.6666666666666666,
             "#ed7953"
            ],
            [
             0.7777777777777778,
             "#fb9f3a"
            ],
            [
             0.8888888888888888,
             "#fdca26"
            ],
            [
             1,
             "#f0f921"
            ]
           ],
           "sequentialminus": [
            [
             0,
             "#0d0887"
            ],
            [
             0.1111111111111111,
             "#46039f"
            ],
            [
             0.2222222222222222,
             "#7201a8"
            ],
            [
             0.3333333333333333,
             "#9c179e"
            ],
            [
             0.4444444444444444,
             "#bd3786"
            ],
            [
             0.5555555555555556,
             "#d8576b"
            ],
            [
             0.6666666666666666,
             "#ed7953"
            ],
            [
             0.7777777777777778,
             "#fb9f3a"
            ],
            [
             0.8888888888888888,
             "#fdca26"
            ],
            [
             1,
             "#f0f921"
            ]
           ]
          },
          "colorway": [
           "#636efa",
           "#EF553B",
           "#00cc96",
           "#ab63fa",
           "#FFA15A",
           "#19d3f3",
           "#FF6692",
           "#B6E880",
           "#FF97FF",
           "#FECB52"
          ],
          "font": {
           "color": "#2a3f5f"
          },
          "geo": {
           "bgcolor": "white",
           "lakecolor": "white",
           "landcolor": "#E5ECF6",
           "showlakes": true,
           "showland": true,
           "subunitcolor": "white"
          },
          "hoverlabel": {
           "align": "left"
          },
          "hovermode": "closest",
          "mapbox": {
           "style": "light"
          },
          "paper_bgcolor": "white",
          "plot_bgcolor": "#E5ECF6",
          "polar": {
           "angularaxis": {
            "gridcolor": "white",
            "linecolor": "white",
            "ticks": ""
           },
           "bgcolor": "#E5ECF6",
           "radialaxis": {
            "gridcolor": "white",
            "linecolor": "white",
            "ticks": ""
           }
          },
          "scene": {
           "xaxis": {
            "backgroundcolor": "#E5ECF6",
            "gridcolor": "white",
            "gridwidth": 2,
            "linecolor": "white",
            "showbackground": true,
            "ticks": "",
            "zerolinecolor": "white"
           },
           "yaxis": {
            "backgroundcolor": "#E5ECF6",
            "gridcolor": "white",
            "gridwidth": 2,
            "linecolor": "white",
            "showbackground": true,
            "ticks": "",
            "zerolinecolor": "white"
           },
           "zaxis": {
            "backgroundcolor": "#E5ECF6",
            "gridcolor": "white",
            "gridwidth": 2,
            "linecolor": "white",
            "showbackground": true,
            "ticks": "",
            "zerolinecolor": "white"
           }
          },
          "shapedefaults": {
           "line": {
            "color": "#2a3f5f"
           }
          },
          "ternary": {
           "aaxis": {
            "gridcolor": "white",
            "linecolor": "white",
            "ticks": ""
           },
           "baxis": {
            "gridcolor": "white",
            "linecolor": "white",
            "ticks": ""
           },
           "bgcolor": "#E5ECF6",
           "caxis": {
            "gridcolor": "white",
            "linecolor": "white",
            "ticks": ""
           }
          },
          "title": {
           "x": 0.05
          },
          "xaxis": {
           "automargin": true,
           "gridcolor": "white",
           "linecolor": "white",
           "ticks": "",
           "title": {
            "standoff": 15
           },
           "zerolinecolor": "white",
           "zerolinewidth": 2
          },
          "yaxis": {
           "automargin": true,
           "gridcolor": "white",
           "linecolor": "white",
           "ticks": "",
           "title": {
            "standoff": 15
           },
           "zerolinecolor": "white",
           "zerolinewidth": 2
          }
         }
        },
        "title": {
         "font": {
          "color": "#4D5663"
         }
        },
        "xaxis": {
         "anchor": "y",
         "domain": [
          0,
          0.2125
         ],
         "gridcolor": "#E1E5ED",
         "showgrid": false,
         "tickfont": {
          "color": "#4D5663"
         },
         "title": {
          "font": {
           "color": "#4D5663"
          },
          "text": ""
         },
         "zerolinecolor": "#E1E5ED"
        },
        "xaxis10": {
         "anchor": "y10",
         "domain": [
          0.2625,
          0.475
         ],
         "gridcolor": "#E1E5ED",
         "showgrid": false,
         "tickfont": {
          "color": "#4D5663"
         },
         "title": {
          "font": {
           "color": "#4D5663"
          },
          "text": ""
         },
         "zerolinecolor": "#E1E5ED"
        },
        "xaxis11": {
         "anchor": "y11",
         "domain": [
          0.525,
          0.7375
         ],
         "gridcolor": "#E1E5ED",
         "showgrid": false,
         "tickfont": {
          "color": "#4D5663"
         },
         "title": {
          "font": {
           "color": "#4D5663"
          },
          "text": ""
         },
         "zerolinecolor": "#E1E5ED"
        },
        "xaxis12": {
         "anchor": "y12",
         "domain": [
          0.7875,
          1
         ],
         "gridcolor": "#E1E5ED",
         "showgrid": false,
         "tickfont": {
          "color": "#4D5663"
         },
         "title": {
          "font": {
           "color": "#4D5663"
          },
          "text": ""
         },
         "zerolinecolor": "#E1E5ED"
        },
        "xaxis13": {
         "anchor": "y13",
         "domain": [
          0,
          0.2125
         ],
         "gridcolor": "#E1E5ED",
         "showgrid": false,
         "tickfont": {
          "color": "#4D5663"
         },
         "title": {
          "font": {
           "color": "#4D5663"
          },
          "text": ""
         },
         "zerolinecolor": "#E1E5ED"
        },
        "xaxis14": {
         "anchor": "y14",
         "domain": [
          0.2625,
          0.475
         ],
         "gridcolor": "#E1E5ED",
         "showgrid": false,
         "tickfont": {
          "color": "#4D5663"
         },
         "title": {
          "font": {
           "color": "#4D5663"
          },
          "text": ""
         },
         "zerolinecolor": "#E1E5ED"
        },
        "xaxis15": {
         "anchor": "y15",
         "domain": [
          0.525,
          0.7375
         ],
         "gridcolor": "#E1E5ED",
         "showgrid": false,
         "tickfont": {
          "color": "#4D5663"
         },
         "title": {
          "font": {
           "color": "#4D5663"
          },
          "text": ""
         },
         "zerolinecolor": "#E1E5ED"
        },
        "xaxis16": {
         "anchor": "y16",
         "domain": [
          0.7875,
          1
         ],
         "gridcolor": "#E1E5ED",
         "showgrid": false,
         "tickfont": {
          "color": "#4D5663"
         },
         "title": {
          "font": {
           "color": "#4D5663"
          },
          "text": ""
         },
         "zerolinecolor": "#E1E5ED"
        },
        "xaxis2": {
         "anchor": "y2",
         "domain": [
          0.2625,
          0.475
         ],
         "gridcolor": "#E1E5ED",
         "showgrid": false,
         "tickfont": {
          "color": "#4D5663"
         },
         "title": {
          "font": {
           "color": "#4D5663"
          },
          "text": ""
         },
         "zerolinecolor": "#E1E5ED"
        },
        "xaxis3": {
         "anchor": "y3",
         "domain": [
          0.525,
          0.7375
         ],
         "gridcolor": "#E1E5ED",
         "showgrid": false,
         "tickfont": {
          "color": "#4D5663"
         },
         "title": {
          "font": {
           "color": "#4D5663"
          },
          "text": ""
         },
         "zerolinecolor": "#E1E5ED"
        },
        "xaxis4": {
         "anchor": "y4",
         "domain": [
          0.7875,
          1
         ],
         "gridcolor": "#E1E5ED",
         "showgrid": false,
         "tickfont": {
          "color": "#4D5663"
         },
         "title": {
          "font": {
           "color": "#4D5663"
          },
          "text": ""
         },
         "zerolinecolor": "#E1E5ED"
        },
        "xaxis5": {
         "anchor": "y5",
         "domain": [
          0,
          0.2125
         ],
         "gridcolor": "#E1E5ED",
         "showgrid": false,
         "tickfont": {
          "color": "#4D5663"
         },
         "title": {
          "font": {
           "color": "#4D5663"
          },
          "text": ""
         },
         "zerolinecolor": "#E1E5ED"
        },
        "xaxis6": {
         "anchor": "y6",
         "domain": [
          0.2625,
          0.475
         ],
         "gridcolor": "#E1E5ED",
         "showgrid": false,
         "tickfont": {
          "color": "#4D5663"
         },
         "title": {
          "font": {
           "color": "#4D5663"
          },
          "text": ""
         },
         "zerolinecolor": "#E1E5ED"
        },
        "xaxis7": {
         "anchor": "y7",
         "domain": [
          0.525,
          0.7375
         ],
         "gridcolor": "#E1E5ED",
         "showgrid": false,
         "tickfont": {
          "color": "#4D5663"
         },
         "title": {
          "font": {
           "color": "#4D5663"
          },
          "text": ""
         },
         "zerolinecolor": "#E1E5ED"
        },
        "xaxis8": {
         "anchor": "y8",
         "domain": [
          0.7875,
          1
         ],
         "gridcolor": "#E1E5ED",
         "showgrid": false,
         "tickfont": {
          "color": "#4D5663"
         },
         "title": {
          "font": {
           "color": "#4D5663"
          },
          "text": ""
         },
         "zerolinecolor": "#E1E5ED"
        },
        "xaxis9": {
         "anchor": "y9",
         "domain": [
          0,
          0.2125
         ],
         "gridcolor": "#E1E5ED",
         "showgrid": false,
         "tickfont": {
          "color": "#4D5663"
         },
         "title": {
          "font": {
           "color": "#4D5663"
          },
          "text": ""
         },
         "zerolinecolor": "#E1E5ED"
        },
        "yaxis": {
         "anchor": "x",
         "domain": [
          0.8025,
          1
         ],
         "gridcolor": "#E1E5ED",
         "showgrid": false,
         "tickfont": {
          "color": "#4D5663"
         },
         "title": {
          "font": {
           "color": "#4D5663"
          },
          "text": ""
         },
         "zerolinecolor": "#E1E5ED"
        },
        "yaxis10": {
         "anchor": "x10",
         "domain": [
          0.2675,
          0.465
         ],
         "gridcolor": "#E1E5ED",
         "showgrid": false,
         "tickfont": {
          "color": "#4D5663"
         },
         "title": {
          "font": {
           "color": "#4D5663"
          },
          "text": ""
         },
         "zerolinecolor": "#E1E5ED"
        },
        "yaxis11": {
         "anchor": "x11",
         "domain": [
          0.2675,
          0.465
         ],
         "gridcolor": "#E1E5ED",
         "showgrid": false,
         "tickfont": {
          "color": "#4D5663"
         },
         "title": {
          "font": {
           "color": "#4D5663"
          },
          "text": ""
         },
         "zerolinecolor": "#E1E5ED"
        },
        "yaxis12": {
         "anchor": "x12",
         "domain": [
          0.2675,
          0.465
         ],
         "gridcolor": "#E1E5ED",
         "showgrid": false,
         "tickfont": {
          "color": "#4D5663"
         },
         "title": {
          "font": {
           "color": "#4D5663"
          },
          "text": ""
         },
         "zerolinecolor": "#E1E5ED"
        },
        "yaxis13": {
         "anchor": "x13",
         "domain": [
          0,
          0.1975
         ],
         "gridcolor": "#E1E5ED",
         "showgrid": false,
         "tickfont": {
          "color": "#4D5663"
         },
         "title": {
          "font": {
           "color": "#4D5663"
          },
          "text": ""
         },
         "zerolinecolor": "#E1E5ED"
        },
        "yaxis14": {
         "anchor": "x14",
         "domain": [
          0,
          0.1975
         ],
         "gridcolor": "#E1E5ED",
         "showgrid": false,
         "tickfont": {
          "color": "#4D5663"
         },
         "title": {
          "font": {
           "color": "#4D5663"
          },
          "text": ""
         },
         "zerolinecolor": "#E1E5ED"
        },
        "yaxis15": {
         "anchor": "x15",
         "domain": [
          0,
          0.1975
         ],
         "gridcolor": "#E1E5ED",
         "showgrid": false,
         "tickfont": {
          "color": "#4D5663"
         },
         "title": {
          "font": {
           "color": "#4D5663"
          },
          "text": ""
         },
         "zerolinecolor": "#E1E5ED"
        },
        "yaxis16": {
         "anchor": "x16",
         "domain": [
          0,
          0.1975
         ],
         "gridcolor": "#E1E5ED",
         "showgrid": false,
         "tickfont": {
          "color": "#4D5663"
         },
         "title": {
          "font": {
           "color": "#4D5663"
          },
          "text": ""
         },
         "zerolinecolor": "#E1E5ED"
        },
        "yaxis2": {
         "anchor": "x2",
         "domain": [
          0.8025,
          1
         ],
         "gridcolor": "#E1E5ED",
         "showgrid": false,
         "tickfont": {
          "color": "#4D5663"
         },
         "title": {
          "font": {
           "color": "#4D5663"
          },
          "text": ""
         },
         "zerolinecolor": "#E1E5ED"
        },
        "yaxis3": {
         "anchor": "x3",
         "domain": [
          0.8025,
          1
         ],
         "gridcolor": "#E1E5ED",
         "showgrid": false,
         "tickfont": {
          "color": "#4D5663"
         },
         "title": {
          "font": {
           "color": "#4D5663"
          },
          "text": ""
         },
         "zerolinecolor": "#E1E5ED"
        },
        "yaxis4": {
         "anchor": "x4",
         "domain": [
          0.8025,
          1
         ],
         "gridcolor": "#E1E5ED",
         "showgrid": false,
         "tickfont": {
          "color": "#4D5663"
         },
         "title": {
          "font": {
           "color": "#4D5663"
          },
          "text": ""
         },
         "zerolinecolor": "#E1E5ED"
        },
        "yaxis5": {
         "anchor": "x5",
         "domain": [
          0.535,
          0.7325
         ],
         "gridcolor": "#E1E5ED",
         "showgrid": false,
         "tickfont": {
          "color": "#4D5663"
         },
         "title": {
          "font": {
           "color": "#4D5663"
          },
          "text": ""
         },
         "zerolinecolor": "#E1E5ED"
        },
        "yaxis6": {
         "anchor": "x6",
         "domain": [
          0.535,
          0.7325
         ],
         "gridcolor": "#E1E5ED",
         "showgrid": false,
         "tickfont": {
          "color": "#4D5663"
         },
         "title": {
          "font": {
           "color": "#4D5663"
          },
          "text": ""
         },
         "zerolinecolor": "#E1E5ED"
        },
        "yaxis7": {
         "anchor": "x7",
         "domain": [
          0.535,
          0.7325
         ],
         "gridcolor": "#E1E5ED",
         "showgrid": false,
         "tickfont": {
          "color": "#4D5663"
         },
         "title": {
          "font": {
           "color": "#4D5663"
          },
          "text": ""
         },
         "zerolinecolor": "#E1E5ED"
        },
        "yaxis8": {
         "anchor": "x8",
         "domain": [
          0.535,
          0.7325
         ],
         "gridcolor": "#E1E5ED",
         "showgrid": false,
         "tickfont": {
          "color": "#4D5663"
         },
         "title": {
          "font": {
           "color": "#4D5663"
          },
          "text": ""
         },
         "zerolinecolor": "#E1E5ED"
        },
        "yaxis9": {
         "anchor": "x9",
         "domain": [
          0.2675,
          0.465
         ],
         "gridcolor": "#E1E5ED",
         "showgrid": false,
         "tickfont": {
          "color": "#4D5663"
         },
         "title": {
          "font": {
           "color": "#4D5663"
          },
          "text": ""
         },
         "zerolinecolor": "#E1E5ED"
        }
       }
      },
      "text/html": [
       "<div>                            <div id=\"46e90b9e-5ec6-4c31-9c6d-6380a079766d\" class=\"plotly-graph-div\" style=\"height:525px; width:100%;\"></div>            <script type=\"text/javascript\">                require([\"plotly\"], function(Plotly) {                    window.PLOTLYENV=window.PLOTLYENV || {};\n",
       "                    window.PLOTLYENV.BASE_URL='https://plot.ly';                                    if (document.getElementById(\"46e90b9e-5ec6-4c31-9c6d-6380a079766d\")) {                    Plotly.newPlot(                        \"46e90b9e-5ec6-4c31-9c6d-6380a079766d\",                        [{\"histfunc\": \"count\", \"histnorm\": \"\", \"marker\": {\"color\": \"rgba(255, 153, 51, 1.0)\", \"line\": {\"color\": \"#4D5663\", \"width\": 1.3}}, \"name\": \"A\", \"nbinsx\": 10, \"opacity\": 0.8, \"orientation\": \"v\", \"type\": \"histogram\", \"x\": [0.00645505412481479, -1.4397876348458365, 1.0708611347292805, 0.28406613516333, 0.058580630554189314, 0.8284319830137025, -0.42047449551545285, -0.09014078165929397, -1.3944631937012903, 0.05256359179847144, 0.0409425859720373, -1.0208810538666255, 1.147791416367246, 0.7658353585491399, -0.4910219172880578, -0.8721591983562276, -0.9005228723828286, -0.560157105001934, 0.3713100958842003, -1.2535692114404662, 0.6909564571551409, 0.1842453733842638, 1.1379399025401098, 1.1225527092582108, 2.566851668670725, -1.670807423685407, 1.94114639518042, -0.4715978936051285, -0.8163180921528749, -1.3536378264027218, -0.4147680876033762, -1.5047960860017953, -0.45073089384645704, -0.7269309668428034, 0.7071546103928739, -0.5733190517411629, -0.6254361093893777, -1.5979799108505073, 0.5170911382160981, 0.5990087994240142, -0.2713626986608739, 0.009040260923086347, -1.8660001972888383, 0.40229667838475697, 0.41585974272164616, -0.763893236346236, -0.34155596437332403, 0.9542846586183369, 1.0716615685885462, -0.060216026348868294, -1.1773224311305817, -0.9337797332054449, 0.1749212272955488, -0.4016088255929763, 1.5669389913415512, -0.8513635591410853, 0.5310694215184522, -0.2754033351060103, -1.0414551990670875, -1.3845691960246238, 0.11348281842005707, 1.3575087993749007, -0.3954770620305859, 0.676071850082259, 0.4705010649987572, -0.3790387735935101, -0.8495913010737675, 0.8382970974418101, -0.5153325311787621, -1.7022110786144058, 1.4655183248688948, 1.0520473235550596, -1.171272825456019, -0.7506656329216204, 0.7543814278344634, 0.25107938267119495, -0.5073680136495456, -0.65943015684561, 0.04797048723213697, 1.3725651550792377, 0.3377203852279814, 1.2690715670621149, 0.3721442232698379, 0.5626215355177316, -0.135971356264149, -1.0401702516300955, 0.2074595019498187, 0.6824824097281659, -1.2108413913024183, -0.14337649101770347, -0.15534252908565863, 1.8190769247613148, -1.2625189409980964, 1.0150403647301383, 0.5975471562017068, 0.7052928914556554, 0.7574383663343425, 0.3520597042626315, 0.12580990970060232, -1.371360391325017], \"xaxis\": \"x\", \"yaxis\": \"y\"}, {\"line\": {\"color\": \"rgba(128, 128, 128, 1.0)\", \"dash\": \"solid\", \"shape\": \"linear\", \"width\": 1.3}, \"marker\": {\"size\": 2, \"symbol\": \"circle\"}, \"mode\": \"markers\", \"name\": \"A\", \"text\": \"\", \"type\": \"scatter\", \"x\": [0.3715414837853284, -0.1496899277411245, -0.4390213126824492, 1.6124578320777376, 0.11183836103323239, 1.458697253376567, 0.9643586012873291, 0.6670443200955786, -0.21265059534970032, -0.8636786417042411, 1.7871113503248284, -0.1447568525603548, 0.9351528782010953, 0.9625816992599668, -0.3733852727659238, -0.2822727071412232, -0.0358397051319197, 2.2130874225777575, 0.25326232890298495, -0.445997394922047, -0.12580352886153912, 0.821603670489078, -0.31317514756877424, -1.227443779918153, 0.08176459147203437, -0.13765985270634984, -1.1342575625974662, -0.6658897059835954, -0.8162034704460095, 0.8322541179478329, -2.3019121397506352, 0.22840969211373394, -0.09790587776093376, 0.8646965614406674, 0.8123971676173096, 0.09931126017752998, -0.2851236926891674, -0.6546008255239986, 0.34637604119215065, -0.08096229379499327, -1.0821639264456364, 0.7707047699604228, -0.3655827162038345, -0.8690899907167929, -1.62725903133252, 0.8473311747014874, 0.2243054275489603, 0.9160444771656323, -0.013671567941790488, 1.1756905044906398, 2.211644592878346, 2.6734963742744893, 2.403609725799866, -0.7828324585717606, -1.9352254812359753, 2.05781884631984, 0.22955750817913378, -1.41367971194844, -0.02222680289686833, -0.3265895253904034, -0.662586189934153, 0.34162075972823924, -1.7987978352472804, -2.164523510479693, -1.0226530080529086, 0.09527821901748883, -0.3735501240807589, -0.8341382892266959, -0.34868142809346037, 1.3620090274224168, 0.6831582769222206, -0.9704644017602544, 1.0850240034716527, 0.03189658005429582, 1.5597883688055845, -0.6942070267432159, -0.22882318437441995, 1.410449211516949, 1.3503691828085254, 0.1134970084477248, -0.4990774677156832, -1.4529230662123482, -0.6863896873450261, 0.7806907699913527, -0.4867880186501855, 0.9352865979372379, -0.5062252759718567, 0.5592357779532194, 0.6665247279587084, 0.7647459179575313, 0.4677285244089398, 1.0166663003685206, 1.0356066302371916, -0.44541082873479076, -0.040668349850732054, 0.5685074541670516, -1.167505710044138, -0.370685489323101, 0.7617607871230696, -0.34649327030204485], \"xaxis\": \"x2\", \"y\": [0.00645505412481479, -1.4397876348458365, 1.0708611347292805, 0.28406613516333, 0.058580630554189314, 0.8284319830137025, -0.42047449551545285, -0.09014078165929397, -1.3944631937012903, 0.05256359179847144, 0.0409425859720373, -1.0208810538666255, 1.147791416367246, 0.7658353585491399, -0.4910219172880578, -0.8721591983562276, -0.9005228723828286, -0.560157105001934, 0.3713100958842003, -1.2535692114404662, 0.6909564571551409, 0.1842453733842638, 1.1379399025401098, 1.1225527092582108, 2.566851668670725, -1.670807423685407, 1.94114639518042, -0.4715978936051285, -0.8163180921528749, -1.3536378264027218, -0.4147680876033762, -1.5047960860017953, -0.45073089384645704, -0.7269309668428034, 0.7071546103928739, -0.5733190517411629, -0.6254361093893777, -1.5979799108505073, 0.5170911382160981, 0.5990087994240142, -0.2713626986608739, 0.009040260923086347, -1.8660001972888383, 0.40229667838475697, 0.41585974272164616, -0.763893236346236, -0.34155596437332403, 0.9542846586183369, 1.0716615685885462, -0.060216026348868294, -1.1773224311305817, -0.9337797332054449, 0.1749212272955488, -0.4016088255929763, 1.5669389913415512, -0.8513635591410853, 0.5310694215184522, -0.2754033351060103, -1.0414551990670875, -1.3845691960246238, 0.11348281842005707, 1.3575087993749007, -0.3954770620305859, 0.676071850082259, 0.4705010649987572, -0.3790387735935101, -0.8495913010737675, 0.8382970974418101, -0.5153325311787621, -1.7022110786144058, 1.4655183248688948, 1.0520473235550596, -1.171272825456019, -0.7506656329216204, 0.7543814278344634, 0.25107938267119495, -0.5073680136495456, -0.65943015684561, 0.04797048723213697, 1.3725651550792377, 0.3377203852279814, 1.2690715670621149, 0.3721442232698379, 0.5626215355177316, -0.135971356264149, -1.0401702516300955, 0.2074595019498187, 0.6824824097281659, -1.2108413913024183, -0.14337649101770347, -0.15534252908565863, 1.8190769247613148, -1.2625189409980964, 1.0150403647301383, 0.5975471562017068, 0.7052928914556554, 0.7574383663343425, 0.3520597042626315, 0.12580990970060232, -1.371360391325017], \"yaxis\": \"y2\"}, {\"line\": {\"color\": \"rgba(128, 128, 128, 1.0)\", \"dash\": \"solid\", \"shape\": \"linear\", \"width\": 1.3}, \"marker\": {\"size\": 2, \"symbol\": \"circle\"}, \"mode\": \"markers\", \"name\": \"A\", \"text\": \"\", \"type\": \"scatter\", \"x\": [-0.8156211921936473, -0.3488054734179534, 1.3634652871830246, 0.6827654196928922, -1.0579817213633653, -0.9172741010318527, -1.0111454672320228, 2.1474195456264242, -0.029116717408046878, -0.10503227051826579, -1.8982085799443809, -0.061607126903382985, -1.461069514841389, -0.4159207500708357, 0.5428281012175966, -1.1064321564326451, 1.1818468571532845, -0.4997449331078411, 0.6513450257522175, -1.0096901464963166, 0.7777710862030701, 1.1156051451021982, -1.3963977721174032, -2.1957740562038897, -0.003082555605334334, -0.8711334400342721, -1.1721695448682867, 0.9015731399020005, -0.7687236581093563, 0.648912600414831, -0.3370999147061945, -0.2557289363041199, 1.3940022814140893, -1.0918291338075325, 0.926385756882171, -0.02699273090378049, -1.9310415085129753, -2.0537105543928087, 1.331393828819895, -1.2479264355796142, 1.3244176563546068, 0.4547765829735793, -0.9485957942455121, 0.7711272727493926, 0.10770503293463943, -0.34345388358808904, -0.2901651965788942, -1.8859801912106564, -0.06463771887301847, 0.7339329153613252, -2.9813490059807424, 0.49298111601570926, 2.089197422357034, 0.5485407093266145, -0.45294081667793284, -1.2343570095799694, -0.6043887454889516, 0.19698825224500555, 0.2525008929314805, 0.49330016796457193, -1.3296448063379627, -1.3199625654791716, -0.22952536088723396, -2.100923552982224, -1.2766272123803133, -0.0759219486515562, -1.3161580407429254, 0.06457107233952505, 0.11828851281676804, -0.1854970115502745, -0.6904859218641665, 0.9987015332368285, 1.0653613654646588, 0.30642527390970625, 0.005411555193580738, 0.46565443254592476, -0.5513607990797764, -0.6156892013681534, 1.0864651990406675, 1.2076925241549614, 0.02996839767387277, -0.014468892242910269, 2.314696376629038, 2.208168488408517, -1.3983413330991918, 0.8986343834667301, 0.9916299241963795, -0.20474753074899615, -0.2318152457813195, -0.41240495042251296, -1.5084220112468731, -0.2339935120152956, -0.6079408227599712, -0.09966875704636555, 0.23726828071761713, -1.7732192190847027, 0.28673585713418004, -0.7359231672703281, 0.14300452088914767, 1.6972975653855318], \"xaxis\": \"x3\", \"y\": [0.00645505412481479, -1.4397876348458365, 1.0708611347292805, 0.28406613516333, 0.058580630554189314, 0.8284319830137025, -0.42047449551545285, -0.09014078165929397, -1.3944631937012903, 0.05256359179847144, 0.0409425859720373, -1.0208810538666255, 1.147791416367246, 0.7658353585491399, -0.4910219172880578, -0.8721591983562276, -0.9005228723828286, -0.560157105001934, 0.3713100958842003, -1.2535692114404662, 0.6909564571551409, 0.1842453733842638, 1.1379399025401098, 1.1225527092582108, 2.566851668670725, -1.670807423685407, 1.94114639518042, -0.4715978936051285, -0.8163180921528749, -1.3536378264027218, -0.4147680876033762, -1.5047960860017953, -0.45073089384645704, -0.7269309668428034, 0.7071546103928739, -0.5733190517411629, -0.6254361093893777, -1.5979799108505073, 0.5170911382160981, 0.5990087994240142, -0.2713626986608739, 0.009040260923086347, -1.8660001972888383, 0.40229667838475697, 0.41585974272164616, -0.763893236346236, -0.34155596437332403, 0.9542846586183369, 1.0716615685885462, -0.060216026348868294, -1.1773224311305817, -0.9337797332054449, 0.1749212272955488, -0.4016088255929763, 1.5669389913415512, -0.8513635591410853, 0.5310694215184522, -0.2754033351060103, -1.0414551990670875, -1.3845691960246238, 0.11348281842005707, 1.3575087993749007, -0.3954770620305859, 0.676071850082259, 0.4705010649987572, -0.3790387735935101, -0.8495913010737675, 0.8382970974418101, -0.5153325311787621, -1.7022110786144058, 1.4655183248688948, 1.0520473235550596, -1.171272825456019, -0.7506656329216204, 0.7543814278344634, 0.25107938267119495, -0.5073680136495456, -0.65943015684561, 0.04797048723213697, 1.3725651550792377, 0.3377203852279814, 1.2690715670621149, 0.3721442232698379, 0.5626215355177316, -0.135971356264149, -1.0401702516300955, 0.2074595019498187, 0.6824824097281659, -1.2108413913024183, -0.14337649101770347, -0.15534252908565863, 1.8190769247613148, -1.2625189409980964, 1.0150403647301383, 0.5975471562017068, 0.7052928914556554, 0.7574383663343425, 0.3520597042626315, 0.12580990970060232, -1.371360391325017], \"yaxis\": \"y3\"}, {\"line\": {\"color\": \"rgba(128, 128, 128, 1.0)\", \"dash\": \"solid\", \"shape\": \"linear\", \"width\": 1.3}, \"marker\": {\"size\": 2, \"symbol\": \"circle\"}, \"mode\": \"markers\", \"name\": \"A\", \"text\": \"\", \"type\": \"scatter\", \"x\": [-0.46896793394847963, 0.9185701612631408, -0.9518353470364371, 0.48127796570390513, -1.3125227628679224, -0.6001985612883243, 1.2438374321973853, -1.0553928899948373, 0.7992286386403018, 0.6552228453687096, 1.531139173688056, -1.434972124639351, 0.5886176757481795, -0.3256784096497872, -0.2623819605419885, 0.8093293479850361, -0.33275476984830865, -0.2956276921472676, -0.16713256889711028, 0.18389720704075418, 0.6657691087241017, -1.4997126274775754, 0.8711561678776168, -0.8924685564325691, 0.6394678129395951, -1.196144615877988, 2.2614519074522, 0.11987585103470248, -2.579662215505832, -1.3178324834559312, 0.46948793870344907, -0.2210025562961031, 1.4552867861558016, 1.326246985282575, -0.054439587001145, 1.2706741490376032, 0.7484048322067663, 1.2710087859871775, 0.9447743157753115, 0.0917616016406183, -2.0969697544296864, -1.1217734741484078, -0.35986753254874787, 0.12035306348613169, -1.1902816920463186, -1.2966439417613633, -0.017967446036095795, 0.514611017485124, -1.4461382765586006, 1.01186070273958, 0.8879030485264665, 0.4676220911886453, 0.6228012943753499, -1.4207209081286396, 0.2867700005446423, -0.6139865568654482, -0.5415167711981378, -1.9858206491463257, 0.12723912891542727, -0.1793100802880613, 0.0037780088332585375, 1.3903163960561136, 1.5083085016459787, 0.3926357357086319, -0.9743888746263668, -0.9454377234958473, -0.8321414989740954, -1.620960244458763, -0.6017219998541727, -0.06238112948649538, 1.6954621456675467, 1.124584858797205, -1.15012884419011, -1.4364055469573436, 0.5664302863033238, 1.8332136136850243, -0.8089001901634655, 0.43902060972417456, 0.37600900785175306, -1.3948918928031053, -0.6904696137869282, 0.19589727243424596, -1.5300619443770898, -1.9477439997569757, -0.7048608070105993, 0.0030274862426587037, -0.3658721419657042, -0.027565836557152504, 0.46474856183842084, -0.4170025571275899, 0.5118024905797606, 0.022175819324665814, 0.07345976472766286, -0.6162389548458861, -0.546978786397993, 0.00893652800919723, -0.3826503977720516, 0.2771619614010083, 0.6072349321310275, 1.0624815146959694], \"xaxis\": \"x4\", \"y\": [0.00645505412481479, -1.4397876348458365, 1.0708611347292805, 0.28406613516333, 0.058580630554189314, 0.8284319830137025, -0.42047449551545285, -0.09014078165929397, -1.3944631937012903, 0.05256359179847144, 0.0409425859720373, -1.0208810538666255, 1.147791416367246, 0.7658353585491399, -0.4910219172880578, -0.8721591983562276, -0.9005228723828286, -0.560157105001934, 0.3713100958842003, -1.2535692114404662, 0.6909564571551409, 0.1842453733842638, 1.1379399025401098, 1.1225527092582108, 2.566851668670725, -1.670807423685407, 1.94114639518042, -0.4715978936051285, -0.8163180921528749, -1.3536378264027218, -0.4147680876033762, -1.5047960860017953, -0.45073089384645704, -0.7269309668428034, 0.7071546103928739, -0.5733190517411629, -0.6254361093893777, -1.5979799108505073, 0.5170911382160981, 0.5990087994240142, -0.2713626986608739, 0.009040260923086347, -1.8660001972888383, 0.40229667838475697, 0.41585974272164616, -0.763893236346236, -0.34155596437332403, 0.9542846586183369, 1.0716615685885462, -0.060216026348868294, -1.1773224311305817, -0.9337797332054449, 0.1749212272955488, -0.4016088255929763, 1.5669389913415512, -0.8513635591410853, 0.5310694215184522, -0.2754033351060103, -1.0414551990670875, -1.3845691960246238, 0.11348281842005707, 1.3575087993749007, -0.3954770620305859, 0.676071850082259, 0.4705010649987572, -0.3790387735935101, -0.8495913010737675, 0.8382970974418101, -0.5153325311787621, -1.7022110786144058, 1.4655183248688948, 1.0520473235550596, -1.171272825456019, -0.7506656329216204, 0.7543814278344634, 0.25107938267119495, -0.5073680136495456, -0.65943015684561, 0.04797048723213697, 1.3725651550792377, 0.3377203852279814, 1.2690715670621149, 0.3721442232698379, 0.5626215355177316, -0.135971356264149, -1.0401702516300955, 0.2074595019498187, 0.6824824097281659, -1.2108413913024183, -0.14337649101770347, -0.15534252908565863, 1.8190769247613148, -1.2625189409980964, 1.0150403647301383, 0.5975471562017068, 0.7052928914556554, 0.7574383663343425, 0.3520597042626315, 0.12580990970060232, -1.371360391325017], \"yaxis\": \"y4\"}, {\"line\": {\"color\": \"rgba(128, 128, 128, 1.0)\", \"dash\": \"solid\", \"shape\": \"linear\", \"width\": 1.3}, \"marker\": {\"size\": 2, \"symbol\": \"circle\"}, \"mode\": \"markers\", \"name\": \"B\", \"text\": \"\", \"type\": \"scatter\", \"x\": [0.00645505412481479, -1.4397876348458365, 1.0708611347292805, 0.28406613516333, 0.058580630554189314, 0.8284319830137025, -0.42047449551545285, -0.09014078165929397, -1.3944631937012903, 0.05256359179847144, 0.0409425859720373, -1.0208810538666255, 1.147791416367246, 0.7658353585491399, -0.4910219172880578, -0.8721591983562276, -0.9005228723828286, -0.560157105001934, 0.3713100958842003, -1.2535692114404662, 0.6909564571551409, 0.1842453733842638, 1.1379399025401098, 1.1225527092582108, 2.566851668670725, -1.670807423685407, 1.94114639518042, -0.4715978936051285, -0.8163180921528749, -1.3536378264027218, -0.4147680876033762, -1.5047960860017953, -0.45073089384645704, -0.7269309668428034, 0.7071546103928739, -0.5733190517411629, -0.6254361093893777, -1.5979799108505073, 0.5170911382160981, 0.5990087994240142, -0.2713626986608739, 0.009040260923086347, -1.8660001972888383, 0.40229667838475697, 0.41585974272164616, -0.763893236346236, -0.34155596437332403, 0.9542846586183369, 1.0716615685885462, -0.060216026348868294, -1.1773224311305817, -0.9337797332054449, 0.1749212272955488, -0.4016088255929763, 1.5669389913415512, -0.8513635591410853, 0.5310694215184522, -0.2754033351060103, -1.0414551990670875, -1.3845691960246238, 0.11348281842005707, 1.3575087993749007, -0.3954770620305859, 0.676071850082259, 0.4705010649987572, -0.3790387735935101, -0.8495913010737675, 0.8382970974418101, -0.5153325311787621, -1.7022110786144058, 1.4655183248688948, 1.0520473235550596, -1.171272825456019, -0.7506656329216204, 0.7543814278344634, 0.25107938267119495, -0.5073680136495456, -0.65943015684561, 0.04797048723213697, 1.3725651550792377, 0.3377203852279814, 1.2690715670621149, 0.3721442232698379, 0.5626215355177316, -0.135971356264149, -1.0401702516300955, 0.2074595019498187, 0.6824824097281659, -1.2108413913024183, -0.14337649101770347, -0.15534252908565863, 1.8190769247613148, -1.2625189409980964, 1.0150403647301383, 0.5975471562017068, 0.7052928914556554, 0.7574383663343425, 0.3520597042626315, 0.12580990970060232, -1.371360391325017], \"xaxis\": \"x5\", \"y\": [0.3715414837853284, -0.1496899277411245, -0.4390213126824492, 1.6124578320777376, 0.11183836103323239, 1.458697253376567, 0.9643586012873291, 0.6670443200955786, -0.21265059534970032, -0.8636786417042411, 1.7871113503248284, -0.1447568525603548, 0.9351528782010953, 0.9625816992599668, -0.3733852727659238, -0.2822727071412232, -0.0358397051319197, 2.2130874225777575, 0.25326232890298495, -0.445997394922047, -0.12580352886153912, 0.821603670489078, -0.31317514756877424, -1.227443779918153, 0.08176459147203437, -0.13765985270634984, -1.1342575625974662, -0.6658897059835954, -0.8162034704460095, 0.8322541179478329, -2.3019121397506352, 0.22840969211373394, -0.09790587776093376, 0.8646965614406674, 0.8123971676173096, 0.09931126017752998, -0.2851236926891674, -0.6546008255239986, 0.34637604119215065, -0.08096229379499327, -1.0821639264456364, 0.7707047699604228, -0.3655827162038345, -0.8690899907167929, -1.62725903133252, 0.8473311747014874, 0.2243054275489603, 0.9160444771656323, -0.013671567941790488, 1.1756905044906398, 2.211644592878346, 2.6734963742744893, 2.403609725799866, -0.7828324585717606, -1.9352254812359753, 2.05781884631984, 0.22955750817913378, -1.41367971194844, -0.02222680289686833, -0.3265895253904034, -0.662586189934153, 0.34162075972823924, -1.7987978352472804, -2.164523510479693, -1.0226530080529086, 0.09527821901748883, -0.3735501240807589, -0.8341382892266959, -0.34868142809346037, 1.3620090274224168, 0.6831582769222206, -0.9704644017602544, 1.0850240034716527, 0.03189658005429582, 1.5597883688055845, -0.6942070267432159, -0.22882318437441995, 1.410449211516949, 1.3503691828085254, 0.1134970084477248, -0.4990774677156832, -1.4529230662123482, -0.6863896873450261, 0.7806907699913527, -0.4867880186501855, 0.9352865979372379, -0.5062252759718567, 0.5592357779532194, 0.6665247279587084, 0.7647459179575313, 0.4677285244089398, 1.0166663003685206, 1.0356066302371916, -0.44541082873479076, -0.040668349850732054, 0.5685074541670516, -1.167505710044138, -0.370685489323101, 0.7617607871230696, -0.34649327030204485], \"yaxis\": \"y5\"}, {\"histfunc\": \"count\", \"histnorm\": \"\", \"marker\": {\"color\": \"rgba(55, 128, 191, 1.0)\", \"line\": {\"color\": \"#4D5663\", \"width\": 1.3}}, \"name\": \"B\", \"nbinsx\": 10, \"opacity\": 0.8, \"orientation\": \"v\", \"type\": \"histogram\", \"x\": [0.3715414837853284, -0.1496899277411245, -0.4390213126824492, 1.6124578320777376, 0.11183836103323239, 1.458697253376567, 0.9643586012873291, 0.6670443200955786, -0.21265059534970032, -0.8636786417042411, 1.7871113503248284, -0.1447568525603548, 0.9351528782010953, 0.9625816992599668, -0.3733852727659238, -0.2822727071412232, -0.0358397051319197, 2.2130874225777575, 0.25326232890298495, -0.445997394922047, -0.12580352886153912, 0.821603670489078, -0.31317514756877424, -1.227443779918153, 0.08176459147203437, -0.13765985270634984, -1.1342575625974662, -0.6658897059835954, -0.8162034704460095, 0.8322541179478329, -2.3019121397506352, 0.22840969211373394, -0.09790587776093376, 0.8646965614406674, 0.8123971676173096, 0.09931126017752998, -0.2851236926891674, -0.6546008255239986, 0.34637604119215065, -0.08096229379499327, -1.0821639264456364, 0.7707047699604228, -0.3655827162038345, -0.8690899907167929, -1.62725903133252, 0.8473311747014874, 0.2243054275489603, 0.9160444771656323, -0.013671567941790488, 1.1756905044906398, 2.211644592878346, 2.6734963742744893, 2.403609725799866, -0.7828324585717606, -1.9352254812359753, 2.05781884631984, 0.22955750817913378, -1.41367971194844, -0.02222680289686833, -0.3265895253904034, -0.662586189934153, 0.34162075972823924, -1.7987978352472804, -2.164523510479693, -1.0226530080529086, 0.09527821901748883, -0.3735501240807589, -0.8341382892266959, -0.34868142809346037, 1.3620090274224168, 0.6831582769222206, -0.9704644017602544, 1.0850240034716527, 0.03189658005429582, 1.5597883688055845, -0.6942070267432159, -0.22882318437441995, 1.410449211516949, 1.3503691828085254, 0.1134970084477248, -0.4990774677156832, -1.4529230662123482, -0.6863896873450261, 0.7806907699913527, -0.4867880186501855, 0.9352865979372379, -0.5062252759718567, 0.5592357779532194, 0.6665247279587084, 0.7647459179575313, 0.4677285244089398, 1.0166663003685206, 1.0356066302371916, -0.44541082873479076, -0.040668349850732054, 0.5685074541670516, -1.167505710044138, -0.370685489323101, 0.7617607871230696, -0.34649327030204485], \"xaxis\": \"x6\", \"yaxis\": \"y6\"}, {\"line\": {\"color\": \"rgba(128, 128, 128, 1.0)\", \"dash\": \"solid\", \"shape\": \"linear\", \"width\": 1.3}, \"marker\": {\"size\": 2, \"symbol\": \"circle\"}, \"mode\": \"markers\", \"name\": \"B\", \"text\": \"\", \"type\": \"scatter\", \"x\": [-0.8156211921936473, -0.3488054734179534, 1.3634652871830246, 0.6827654196928922, -1.0579817213633653, -0.9172741010318527, -1.0111454672320228, 2.1474195456264242, -0.029116717408046878, -0.10503227051826579, -1.8982085799443809, -0.061607126903382985, -1.461069514841389, -0.4159207500708357, 0.5428281012175966, -1.1064321564326451, 1.1818468571532845, -0.4997449331078411, 0.6513450257522175, -1.0096901464963166, 0.7777710862030701, 1.1156051451021982, -1.3963977721174032, -2.1957740562038897, -0.003082555605334334, -0.8711334400342721, -1.1721695448682867, 0.9015731399020005, -0.7687236581093563, 0.648912600414831, -0.3370999147061945, -0.2557289363041199, 1.3940022814140893, -1.0918291338075325, 0.926385756882171, -0.02699273090378049, -1.9310415085129753, -2.0537105543928087, 1.331393828819895, -1.2479264355796142, 1.3244176563546068, 0.4547765829735793, -0.9485957942455121, 0.7711272727493926, 0.10770503293463943, -0.34345388358808904, -0.2901651965788942, -1.8859801912106564, -0.06463771887301847, 0.7339329153613252, -2.9813490059807424, 0.49298111601570926, 2.089197422357034, 0.5485407093266145, -0.45294081667793284, -1.2343570095799694, -0.6043887454889516, 0.19698825224500555, 0.2525008929314805, 0.49330016796457193, -1.3296448063379627, -1.3199625654791716, -0.22952536088723396, -2.100923552982224, -1.2766272123803133, -0.0759219486515562, -1.3161580407429254, 0.06457107233952505, 0.11828851281676804, -0.1854970115502745, -0.6904859218641665, 0.9987015332368285, 1.0653613654646588, 0.30642527390970625, 0.005411555193580738, 0.46565443254592476, -0.5513607990797764, -0.6156892013681534, 1.0864651990406675, 1.2076925241549614, 0.02996839767387277, -0.014468892242910269, 2.314696376629038, 2.208168488408517, -1.3983413330991918, 0.8986343834667301, 0.9916299241963795, -0.20474753074899615, -0.2318152457813195, -0.41240495042251296, -1.5084220112468731, -0.2339935120152956, -0.6079408227599712, -0.09966875704636555, 0.23726828071761713, -1.7732192190847027, 0.28673585713418004, -0.7359231672703281, 0.14300452088914767, 1.6972975653855318], \"xaxis\": \"x7\", \"y\": [0.3715414837853284, -0.1496899277411245, -0.4390213126824492, 1.6124578320777376, 0.11183836103323239, 1.458697253376567, 0.9643586012873291, 0.6670443200955786, -0.21265059534970032, -0.8636786417042411, 1.7871113503248284, -0.1447568525603548, 0.9351528782010953, 0.9625816992599668, -0.3733852727659238, -0.2822727071412232, -0.0358397051319197, 2.2130874225777575, 0.25326232890298495, -0.445997394922047, -0.12580352886153912, 0.821603670489078, -0.31317514756877424, -1.227443779918153, 0.08176459147203437, -0.13765985270634984, -1.1342575625974662, -0.6658897059835954, -0.8162034704460095, 0.8322541179478329, -2.3019121397506352, 0.22840969211373394, -0.09790587776093376, 0.8646965614406674, 0.8123971676173096, 0.09931126017752998, -0.2851236926891674, -0.6546008255239986, 0.34637604119215065, -0.08096229379499327, -1.0821639264456364, 0.7707047699604228, -0.3655827162038345, -0.8690899907167929, -1.62725903133252, 0.8473311747014874, 0.2243054275489603, 0.9160444771656323, -0.013671567941790488, 1.1756905044906398, 2.211644592878346, 2.6734963742744893, 2.403609725799866, -0.7828324585717606, -1.9352254812359753, 2.05781884631984, 0.22955750817913378, -1.41367971194844, -0.02222680289686833, -0.3265895253904034, -0.662586189934153, 0.34162075972823924, -1.7987978352472804, -2.164523510479693, -1.0226530080529086, 0.09527821901748883, -0.3735501240807589, -0.8341382892266959, -0.34868142809346037, 1.3620090274224168, 0.6831582769222206, -0.9704644017602544, 1.0850240034716527, 0.03189658005429582, 1.5597883688055845, -0.6942070267432159, -0.22882318437441995, 1.410449211516949, 1.3503691828085254, 0.1134970084477248, -0.4990774677156832, -1.4529230662123482, -0.6863896873450261, 0.7806907699913527, -0.4867880186501855, 0.9352865979372379, -0.5062252759718567, 0.5592357779532194, 0.6665247279587084, 0.7647459179575313, 0.4677285244089398, 1.0166663003685206, 1.0356066302371916, -0.44541082873479076, -0.040668349850732054, 0.5685074541670516, -1.167505710044138, -0.370685489323101, 0.7617607871230696, -0.34649327030204485], \"yaxis\": \"y7\"}, {\"line\": {\"color\": \"rgba(128, 128, 128, 1.0)\", \"dash\": \"solid\", \"shape\": \"linear\", \"width\": 1.3}, \"marker\": {\"size\": 2, \"symbol\": \"circle\"}, \"mode\": \"markers\", \"name\": \"B\", \"text\": \"\", \"type\": \"scatter\", \"x\": [-0.46896793394847963, 0.9185701612631408, -0.9518353470364371, 0.48127796570390513, -1.3125227628679224, -0.6001985612883243, 1.2438374321973853, -1.0553928899948373, 0.7992286386403018, 0.6552228453687096, 1.531139173688056, -1.434972124639351, 0.5886176757481795, -0.3256784096497872, -0.2623819605419885, 0.8093293479850361, -0.33275476984830865, -0.2956276921472676, -0.16713256889711028, 0.18389720704075418, 0.6657691087241017, -1.4997126274775754, 0.8711561678776168, -0.8924685564325691, 0.6394678129395951, -1.196144615877988, 2.2614519074522, 0.11987585103470248, -2.579662215505832, -1.3178324834559312, 0.46948793870344907, -0.2210025562961031, 1.4552867861558016, 1.326246985282575, -0.054439587001145, 1.2706741490376032, 0.7484048322067663, 1.2710087859871775, 0.9447743157753115, 0.0917616016406183, -2.0969697544296864, -1.1217734741484078, -0.35986753254874787, 0.12035306348613169, -1.1902816920463186, -1.2966439417613633, -0.017967446036095795, 0.514611017485124, -1.4461382765586006, 1.01186070273958, 0.8879030485264665, 0.4676220911886453, 0.6228012943753499, -1.4207209081286396, 0.2867700005446423, -0.6139865568654482, -0.5415167711981378, -1.9858206491463257, 0.12723912891542727, -0.1793100802880613, 0.0037780088332585375, 1.3903163960561136, 1.5083085016459787, 0.3926357357086319, -0.9743888746263668, -0.9454377234958473, -0.8321414989740954, -1.620960244458763, -0.6017219998541727, -0.06238112948649538, 1.6954621456675467, 1.124584858797205, -1.15012884419011, -1.4364055469573436, 0.5664302863033238, 1.8332136136850243, -0.8089001901634655, 0.43902060972417456, 0.37600900785175306, -1.3948918928031053, -0.6904696137869282, 0.19589727243424596, -1.5300619443770898, -1.9477439997569757, -0.7048608070105993, 0.0030274862426587037, -0.3658721419657042, -0.027565836557152504, 0.46474856183842084, -0.4170025571275899, 0.5118024905797606, 0.022175819324665814, 0.07345976472766286, -0.6162389548458861, -0.546978786397993, 0.00893652800919723, -0.3826503977720516, 0.2771619614010083, 0.6072349321310275, 1.0624815146959694], \"xaxis\": \"x8\", \"y\": [0.3715414837853284, -0.1496899277411245, -0.4390213126824492, 1.6124578320777376, 0.11183836103323239, 1.458697253376567, 0.9643586012873291, 0.6670443200955786, -0.21265059534970032, -0.8636786417042411, 1.7871113503248284, -0.1447568525603548, 0.9351528782010953, 0.9625816992599668, -0.3733852727659238, -0.2822727071412232, -0.0358397051319197, 2.2130874225777575, 0.25326232890298495, -0.445997394922047, -0.12580352886153912, 0.821603670489078, -0.31317514756877424, -1.227443779918153, 0.08176459147203437, -0.13765985270634984, -1.1342575625974662, -0.6658897059835954, -0.8162034704460095, 0.8322541179478329, -2.3019121397506352, 0.22840969211373394, -0.09790587776093376, 0.8646965614406674, 0.8123971676173096, 0.09931126017752998, -0.2851236926891674, -0.6546008255239986, 0.34637604119215065, -0.08096229379499327, -1.0821639264456364, 0.7707047699604228, -0.3655827162038345, -0.8690899907167929, -1.62725903133252, 0.8473311747014874, 0.2243054275489603, 0.9160444771656323, -0.013671567941790488, 1.1756905044906398, 2.211644592878346, 2.6734963742744893, 2.403609725799866, -0.7828324585717606, -1.9352254812359753, 2.05781884631984, 0.22955750817913378, -1.41367971194844, -0.02222680289686833, -0.3265895253904034, -0.662586189934153, 0.34162075972823924, -1.7987978352472804, -2.164523510479693, -1.0226530080529086, 0.09527821901748883, -0.3735501240807589, -0.8341382892266959, -0.34868142809346037, 1.3620090274224168, 0.6831582769222206, -0.9704644017602544, 1.0850240034716527, 0.03189658005429582, 1.5597883688055845, -0.6942070267432159, -0.22882318437441995, 1.410449211516949, 1.3503691828085254, 0.1134970084477248, -0.4990774677156832, -1.4529230662123482, -0.6863896873450261, 0.7806907699913527, -0.4867880186501855, 0.9352865979372379, -0.5062252759718567, 0.5592357779532194, 0.6665247279587084, 0.7647459179575313, 0.4677285244089398, 1.0166663003685206, 1.0356066302371916, -0.44541082873479076, -0.040668349850732054, 0.5685074541670516, -1.167505710044138, -0.370685489323101, 0.7617607871230696, -0.34649327030204485], \"yaxis\": \"y8\"}, {\"line\": {\"color\": \"rgba(128, 128, 128, 1.0)\", \"dash\": \"solid\", \"shape\": \"linear\", \"width\": 1.3}, \"marker\": {\"size\": 2, \"symbol\": \"circle\"}, \"mode\": \"markers\", \"name\": \"C\", \"text\": \"\", \"type\": \"scatter\", \"x\": [0.00645505412481479, -1.4397876348458365, 1.0708611347292805, 0.28406613516333, 0.058580630554189314, 0.8284319830137025, -0.42047449551545285, -0.09014078165929397, -1.3944631937012903, 0.05256359179847144, 0.0409425859720373, -1.0208810538666255, 1.147791416367246, 0.7658353585491399, -0.4910219172880578, -0.8721591983562276, -0.9005228723828286, -0.560157105001934, 0.3713100958842003, -1.2535692114404662, 0.6909564571551409, 0.1842453733842638, 1.1379399025401098, 1.1225527092582108, 2.566851668670725, -1.670807423685407, 1.94114639518042, -0.4715978936051285, -0.8163180921528749, -1.3536378264027218, -0.4147680876033762, -1.5047960860017953, -0.45073089384645704, -0.7269309668428034, 0.7071546103928739, -0.5733190517411629, -0.6254361093893777, -1.5979799108505073, 0.5170911382160981, 0.5990087994240142, -0.2713626986608739, 0.009040260923086347, -1.8660001972888383, 0.40229667838475697, 0.41585974272164616, -0.763893236346236, -0.34155596437332403, 0.9542846586183369, 1.0716615685885462, -0.060216026348868294, -1.1773224311305817, -0.9337797332054449, 0.1749212272955488, -0.4016088255929763, 1.5669389913415512, -0.8513635591410853, 0.5310694215184522, -0.2754033351060103, -1.0414551990670875, -1.3845691960246238, 0.11348281842005707, 1.3575087993749007, -0.3954770620305859, 0.676071850082259, 0.4705010649987572, -0.3790387735935101, -0.8495913010737675, 0.8382970974418101, -0.5153325311787621, -1.7022110786144058, 1.4655183248688948, 1.0520473235550596, -1.171272825456019, -0.7506656329216204, 0.7543814278344634, 0.25107938267119495, -0.5073680136495456, -0.65943015684561, 0.04797048723213697, 1.3725651550792377, 0.3377203852279814, 1.2690715670621149, 0.3721442232698379, 0.5626215355177316, -0.135971356264149, -1.0401702516300955, 0.2074595019498187, 0.6824824097281659, -1.2108413913024183, -0.14337649101770347, -0.15534252908565863, 1.8190769247613148, -1.2625189409980964, 1.0150403647301383, 0.5975471562017068, 0.7052928914556554, 0.7574383663343425, 0.3520597042626315, 0.12580990970060232, -1.371360391325017], \"xaxis\": \"x9\", \"y\": [-0.8156211921936473, -0.3488054734179534, 1.3634652871830246, 0.6827654196928922, -1.0579817213633653, -0.9172741010318527, -1.0111454672320228, 2.1474195456264242, -0.029116717408046878, -0.10503227051826579, -1.8982085799443809, -0.061607126903382985, -1.461069514841389, -0.4159207500708357, 0.5428281012175966, -1.1064321564326451, 1.1818468571532845, -0.4997449331078411, 0.6513450257522175, -1.0096901464963166, 0.7777710862030701, 1.1156051451021982, -1.3963977721174032, -2.1957740562038897, -0.003082555605334334, -0.8711334400342721, -1.1721695448682867, 0.9015731399020005, -0.7687236581093563, 0.648912600414831, -0.3370999147061945, -0.2557289363041199, 1.3940022814140893, -1.0918291338075325, 0.926385756882171, -0.02699273090378049, -1.9310415085129753, -2.0537105543928087, 1.331393828819895, -1.2479264355796142, 1.3244176563546068, 0.4547765829735793, -0.9485957942455121, 0.7711272727493926, 0.10770503293463943, -0.34345388358808904, -0.2901651965788942, -1.8859801912106564, -0.06463771887301847, 0.7339329153613252, -2.9813490059807424, 0.49298111601570926, 2.089197422357034, 0.5485407093266145, -0.45294081667793284, -1.2343570095799694, -0.6043887454889516, 0.19698825224500555, 0.2525008929314805, 0.49330016796457193, -1.3296448063379627, -1.3199625654791716, -0.22952536088723396, -2.100923552982224, -1.2766272123803133, -0.0759219486515562, -1.3161580407429254, 0.06457107233952505, 0.11828851281676804, -0.1854970115502745, -0.6904859218641665, 0.9987015332368285, 1.0653613654646588, 0.30642527390970625, 0.005411555193580738, 0.46565443254592476, -0.5513607990797764, -0.6156892013681534, 1.0864651990406675, 1.2076925241549614, 0.02996839767387277, -0.014468892242910269, 2.314696376629038, 2.208168488408517, -1.3983413330991918, 0.8986343834667301, 0.9916299241963795, -0.20474753074899615, -0.2318152457813195, -0.41240495042251296, -1.5084220112468731, -0.2339935120152956, -0.6079408227599712, -0.09966875704636555, 0.23726828071761713, -1.7732192190847027, 0.28673585713418004, -0.7359231672703281, 0.14300452088914767, 1.6972975653855318], \"yaxis\": \"y9\"}, {\"line\": {\"color\": \"rgba(128, 128, 128, 1.0)\", \"dash\": \"solid\", \"shape\": \"linear\", \"width\": 1.3}, \"marker\": {\"size\": 2, \"symbol\": \"circle\"}, \"mode\": \"markers\", \"name\": \"C\", \"text\": \"\", \"type\": \"scatter\", \"x\": [0.3715414837853284, -0.1496899277411245, -0.4390213126824492, 1.6124578320777376, 0.11183836103323239, 1.458697253376567, 0.9643586012873291, 0.6670443200955786, -0.21265059534970032, -0.8636786417042411, 1.7871113503248284, -0.1447568525603548, 0.9351528782010953, 0.9625816992599668, -0.3733852727659238, -0.2822727071412232, -0.0358397051319197, 2.2130874225777575, 0.25326232890298495, -0.445997394922047, -0.12580352886153912, 0.821603670489078, -0.31317514756877424, -1.227443779918153, 0.08176459147203437, -0.13765985270634984, -1.1342575625974662, -0.6658897059835954, -0.8162034704460095, 0.8322541179478329, -2.3019121397506352, 0.22840969211373394, -0.09790587776093376, 0.8646965614406674, 0.8123971676173096, 0.09931126017752998, -0.2851236926891674, -0.6546008255239986, 0.34637604119215065, -0.08096229379499327, -1.0821639264456364, 0.7707047699604228, -0.3655827162038345, -0.8690899907167929, -1.62725903133252, 0.8473311747014874, 0.2243054275489603, 0.9160444771656323, -0.013671567941790488, 1.1756905044906398, 2.211644592878346, 2.6734963742744893, 2.403609725799866, -0.7828324585717606, -1.9352254812359753, 2.05781884631984, 0.22955750817913378, -1.41367971194844, -0.02222680289686833, -0.3265895253904034, -0.662586189934153, 0.34162075972823924, -1.7987978352472804, -2.164523510479693, -1.0226530080529086, 0.09527821901748883, -0.3735501240807589, -0.8341382892266959, -0.34868142809346037, 1.3620090274224168, 0.6831582769222206, -0.9704644017602544, 1.0850240034716527, 0.03189658005429582, 1.5597883688055845, -0.6942070267432159, -0.22882318437441995, 1.410449211516949, 1.3503691828085254, 0.1134970084477248, -0.4990774677156832, -1.4529230662123482, -0.6863896873450261, 0.7806907699913527, -0.4867880186501855, 0.9352865979372379, -0.5062252759718567, 0.5592357779532194, 0.6665247279587084, 0.7647459179575313, 0.4677285244089398, 1.0166663003685206, 1.0356066302371916, -0.44541082873479076, -0.040668349850732054, 0.5685074541670516, -1.167505710044138, -0.370685489323101, 0.7617607871230696, -0.34649327030204485], \"xaxis\": \"x10\", \"y\": [-0.8156211921936473, -0.3488054734179534, 1.3634652871830246, 0.6827654196928922, -1.0579817213633653, -0.9172741010318527, -1.0111454672320228, 2.1474195456264242, -0.029116717408046878, -0.10503227051826579, -1.8982085799443809, -0.061607126903382985, -1.461069514841389, -0.4159207500708357, 0.5428281012175966, -1.1064321564326451, 1.1818468571532845, -0.4997449331078411, 0.6513450257522175, -1.0096901464963166, 0.7777710862030701, 1.1156051451021982, -1.3963977721174032, -2.1957740562038897, -0.003082555605334334, -0.8711334400342721, -1.1721695448682867, 0.9015731399020005, -0.7687236581093563, 0.648912600414831, -0.3370999147061945, -0.2557289363041199, 1.3940022814140893, -1.0918291338075325, 0.926385756882171, -0.02699273090378049, -1.9310415085129753, -2.0537105543928087, 1.331393828819895, -1.2479264355796142, 1.3244176563546068, 0.4547765829735793, -0.9485957942455121, 0.7711272727493926, 0.10770503293463943, -0.34345388358808904, -0.2901651965788942, -1.8859801912106564, -0.06463771887301847, 0.7339329153613252, -2.9813490059807424, 0.49298111601570926, 2.089197422357034, 0.5485407093266145, -0.45294081667793284, -1.2343570095799694, -0.6043887454889516, 0.19698825224500555, 0.2525008929314805, 0.49330016796457193, -1.3296448063379627, -1.3199625654791716, -0.22952536088723396, -2.100923552982224, -1.2766272123803133, -0.0759219486515562, -1.3161580407429254, 0.06457107233952505, 0.11828851281676804, -0.1854970115502745, -0.6904859218641665, 0.9987015332368285, 1.0653613654646588, 0.30642527390970625, 0.005411555193580738, 0.46565443254592476, -0.5513607990797764, -0.6156892013681534, 1.0864651990406675, 1.2076925241549614, 0.02996839767387277, -0.014468892242910269, 2.314696376629038, 2.208168488408517, -1.3983413330991918, 0.8986343834667301, 0.9916299241963795, -0.20474753074899615, -0.2318152457813195, -0.41240495042251296, -1.5084220112468731, -0.2339935120152956, -0.6079408227599712, -0.09966875704636555, 0.23726828071761713, -1.7732192190847027, 0.28673585713418004, -0.7359231672703281, 0.14300452088914767, 1.6972975653855318], \"yaxis\": \"y10\"}, {\"histfunc\": \"count\", \"histnorm\": \"\", \"marker\": {\"color\": \"rgba(50, 171, 96, 1.0)\", \"line\": {\"color\": \"#4D5663\", \"width\": 1.3}}, \"name\": \"C\", \"nbinsx\": 10, \"opacity\": 0.8, \"orientation\": \"v\", \"type\": \"histogram\", \"x\": [-0.8156211921936473, -0.3488054734179534, 1.3634652871830246, 0.6827654196928922, -1.0579817213633653, -0.9172741010318527, -1.0111454672320228, 2.1474195456264242, -0.029116717408046878, -0.10503227051826579, -1.8982085799443809, -0.061607126903382985, -1.461069514841389, -0.4159207500708357, 0.5428281012175966, -1.1064321564326451, 1.1818468571532845, -0.4997449331078411, 0.6513450257522175, -1.0096901464963166, 0.7777710862030701, 1.1156051451021982, -1.3963977721174032, -2.1957740562038897, -0.003082555605334334, -0.8711334400342721, -1.1721695448682867, 0.9015731399020005, -0.7687236581093563, 0.648912600414831, -0.3370999147061945, -0.2557289363041199, 1.3940022814140893, -1.0918291338075325, 0.926385756882171, -0.02699273090378049, -1.9310415085129753, -2.0537105543928087, 1.331393828819895, -1.2479264355796142, 1.3244176563546068, 0.4547765829735793, -0.9485957942455121, 0.7711272727493926, 0.10770503293463943, -0.34345388358808904, -0.2901651965788942, -1.8859801912106564, -0.06463771887301847, 0.7339329153613252, -2.9813490059807424, 0.49298111601570926, 2.089197422357034, 0.5485407093266145, -0.45294081667793284, -1.2343570095799694, -0.6043887454889516, 0.19698825224500555, 0.2525008929314805, 0.49330016796457193, -1.3296448063379627, -1.3199625654791716, -0.22952536088723396, -2.100923552982224, -1.2766272123803133, -0.0759219486515562, -1.3161580407429254, 0.06457107233952505, 0.11828851281676804, -0.1854970115502745, -0.6904859218641665, 0.9987015332368285, 1.0653613654646588, 0.30642527390970625, 0.005411555193580738, 0.46565443254592476, -0.5513607990797764, -0.6156892013681534, 1.0864651990406675, 1.2076925241549614, 0.02996839767387277, -0.014468892242910269, 2.314696376629038, 2.208168488408517, -1.3983413330991918, 0.8986343834667301, 0.9916299241963795, -0.20474753074899615, -0.2318152457813195, -0.41240495042251296, -1.5084220112468731, -0.2339935120152956, -0.6079408227599712, -0.09966875704636555, 0.23726828071761713, -1.7732192190847027, 0.28673585713418004, -0.7359231672703281, 0.14300452088914767, 1.6972975653855318], \"xaxis\": \"x11\", \"yaxis\": \"y11\"}, {\"line\": {\"color\": \"rgba(128, 128, 128, 1.0)\", \"dash\": \"solid\", \"shape\": \"linear\", \"width\": 1.3}, \"marker\": {\"size\": 2, \"symbol\": \"circle\"}, \"mode\": \"markers\", \"name\": \"C\", \"text\": \"\", \"type\": \"scatter\", \"x\": [-0.46896793394847963, 0.9185701612631408, -0.9518353470364371, 0.48127796570390513, -1.3125227628679224, -0.6001985612883243, 1.2438374321973853, -1.0553928899948373, 0.7992286386403018, 0.6552228453687096, 1.531139173688056, -1.434972124639351, 0.5886176757481795, -0.3256784096497872, -0.2623819605419885, 0.8093293479850361, -0.33275476984830865, -0.2956276921472676, -0.16713256889711028, 0.18389720704075418, 0.6657691087241017, -1.4997126274775754, 0.8711561678776168, -0.8924685564325691, 0.6394678129395951, -1.196144615877988, 2.2614519074522, 0.11987585103470248, -2.579662215505832, -1.3178324834559312, 0.46948793870344907, -0.2210025562961031, 1.4552867861558016, 1.326246985282575, -0.054439587001145, 1.2706741490376032, 0.7484048322067663, 1.2710087859871775, 0.9447743157753115, 0.0917616016406183, -2.0969697544296864, -1.1217734741484078, -0.35986753254874787, 0.12035306348613169, -1.1902816920463186, -1.2966439417613633, -0.017967446036095795, 0.514611017485124, -1.4461382765586006, 1.01186070273958, 0.8879030485264665, 0.4676220911886453, 0.6228012943753499, -1.4207209081286396, 0.2867700005446423, -0.6139865568654482, -0.5415167711981378, -1.9858206491463257, 0.12723912891542727, -0.1793100802880613, 0.0037780088332585375, 1.3903163960561136, 1.5083085016459787, 0.3926357357086319, -0.9743888746263668, -0.9454377234958473, -0.8321414989740954, -1.620960244458763, -0.6017219998541727, -0.06238112948649538, 1.6954621456675467, 1.124584858797205, -1.15012884419011, -1.4364055469573436, 0.5664302863033238, 1.8332136136850243, -0.8089001901634655, 0.43902060972417456, 0.37600900785175306, -1.3948918928031053, -0.6904696137869282, 0.19589727243424596, -1.5300619443770898, -1.9477439997569757, -0.7048608070105993, 0.0030274862426587037, -0.3658721419657042, -0.027565836557152504, 0.46474856183842084, -0.4170025571275899, 0.5118024905797606, 0.022175819324665814, 0.07345976472766286, -0.6162389548458861, -0.546978786397993, 0.00893652800919723, -0.3826503977720516, 0.2771619614010083, 0.6072349321310275, 1.0624815146959694], \"xaxis\": \"x12\", \"y\": [-0.8156211921936473, -0.3488054734179534, 1.3634652871830246, 0.6827654196928922, -1.0579817213633653, -0.9172741010318527, -1.0111454672320228, 2.1474195456264242, -0.029116717408046878, -0.10503227051826579, -1.8982085799443809, -0.061607126903382985, -1.461069514841389, -0.4159207500708357, 0.5428281012175966, -1.1064321564326451, 1.1818468571532845, -0.4997449331078411, 0.6513450257522175, -1.0096901464963166, 0.7777710862030701, 1.1156051451021982, -1.3963977721174032, -2.1957740562038897, -0.003082555605334334, -0.8711334400342721, -1.1721695448682867, 0.9015731399020005, -0.7687236581093563, 0.648912600414831, -0.3370999147061945, -0.2557289363041199, 1.3940022814140893, -1.0918291338075325, 0.926385756882171, -0.02699273090378049, -1.9310415085129753, -2.0537105543928087, 1.331393828819895, -1.2479264355796142, 1.3244176563546068, 0.4547765829735793, -0.9485957942455121, 0.7711272727493926, 0.10770503293463943, -0.34345388358808904, -0.2901651965788942, -1.8859801912106564, -0.06463771887301847, 0.7339329153613252, -2.9813490059807424, 0.49298111601570926, 2.089197422357034, 0.5485407093266145, -0.45294081667793284, -1.2343570095799694, -0.6043887454889516, 0.19698825224500555, 0.2525008929314805, 0.49330016796457193, -1.3296448063379627, -1.3199625654791716, -0.22952536088723396, -2.100923552982224, -1.2766272123803133, -0.0759219486515562, -1.3161580407429254, 0.06457107233952505, 0.11828851281676804, -0.1854970115502745, -0.6904859218641665, 0.9987015332368285, 1.0653613654646588, 0.30642527390970625, 0.005411555193580738, 0.46565443254592476, -0.5513607990797764, -0.6156892013681534, 1.0864651990406675, 1.2076925241549614, 0.02996839767387277, -0.014468892242910269, 2.314696376629038, 2.208168488408517, -1.3983413330991918, 0.8986343834667301, 0.9916299241963795, -0.20474753074899615, -0.2318152457813195, -0.41240495042251296, -1.5084220112468731, -0.2339935120152956, -0.6079408227599712, -0.09966875704636555, 0.23726828071761713, -1.7732192190847027, 0.28673585713418004, -0.7359231672703281, 0.14300452088914767, 1.6972975653855318], \"yaxis\": \"y12\"}, {\"line\": {\"color\": \"rgba(128, 128, 128, 1.0)\", \"dash\": \"solid\", \"shape\": \"linear\", \"width\": 1.3}, \"marker\": {\"size\": 2, \"symbol\": \"circle\"}, \"mode\": \"markers\", \"name\": \"D\", \"text\": \"\", \"type\": \"scatter\", \"x\": [0.00645505412481479, -1.4397876348458365, 1.0708611347292805, 0.28406613516333, 0.058580630554189314, 0.8284319830137025, -0.42047449551545285, -0.09014078165929397, -1.3944631937012903, 0.05256359179847144, 0.0409425859720373, -1.0208810538666255, 1.147791416367246, 0.7658353585491399, -0.4910219172880578, -0.8721591983562276, -0.9005228723828286, -0.560157105001934, 0.3713100958842003, -1.2535692114404662, 0.6909564571551409, 0.1842453733842638, 1.1379399025401098, 1.1225527092582108, 2.566851668670725, -1.670807423685407, 1.94114639518042, -0.4715978936051285, -0.8163180921528749, -1.3536378264027218, -0.4147680876033762, -1.5047960860017953, -0.45073089384645704, -0.7269309668428034, 0.7071546103928739, -0.5733190517411629, -0.6254361093893777, -1.5979799108505073, 0.5170911382160981, 0.5990087994240142, -0.2713626986608739, 0.009040260923086347, -1.8660001972888383, 0.40229667838475697, 0.41585974272164616, -0.763893236346236, -0.34155596437332403, 0.9542846586183369, 1.0716615685885462, -0.060216026348868294, -1.1773224311305817, -0.9337797332054449, 0.1749212272955488, -0.4016088255929763, 1.5669389913415512, -0.8513635591410853, 0.5310694215184522, -0.2754033351060103, -1.0414551990670875, -1.3845691960246238, 0.11348281842005707, 1.3575087993749007, -0.3954770620305859, 0.676071850082259, 0.4705010649987572, -0.3790387735935101, -0.8495913010737675, 0.8382970974418101, -0.5153325311787621, -1.7022110786144058, 1.4655183248688948, 1.0520473235550596, -1.171272825456019, -0.7506656329216204, 0.7543814278344634, 0.25107938267119495, -0.5073680136495456, -0.65943015684561, 0.04797048723213697, 1.3725651550792377, 0.3377203852279814, 1.2690715670621149, 0.3721442232698379, 0.5626215355177316, -0.135971356264149, -1.0401702516300955, 0.2074595019498187, 0.6824824097281659, -1.2108413913024183, -0.14337649101770347, -0.15534252908565863, 1.8190769247613148, -1.2625189409980964, 1.0150403647301383, 0.5975471562017068, 0.7052928914556554, 0.7574383663343425, 0.3520597042626315, 0.12580990970060232, -1.371360391325017], \"xaxis\": \"x13\", \"y\": [-0.46896793394847963, 0.9185701612631408, -0.9518353470364371, 0.48127796570390513, -1.3125227628679224, -0.6001985612883243, 1.2438374321973853, -1.0553928899948373, 0.7992286386403018, 0.6552228453687096, 1.531139173688056, -1.434972124639351, 0.5886176757481795, -0.3256784096497872, -0.2623819605419885, 0.8093293479850361, -0.33275476984830865, -0.2956276921472676, -0.16713256889711028, 0.18389720704075418, 0.6657691087241017, -1.4997126274775754, 0.8711561678776168, -0.8924685564325691, 0.6394678129395951, -1.196144615877988, 2.2614519074522, 0.11987585103470248, -2.579662215505832, -1.3178324834559312, 0.46948793870344907, -0.2210025562961031, 1.4552867861558016, 1.326246985282575, -0.054439587001145, 1.2706741490376032, 0.7484048322067663, 1.2710087859871775, 0.9447743157753115, 0.0917616016406183, -2.0969697544296864, -1.1217734741484078, -0.35986753254874787, 0.12035306348613169, -1.1902816920463186, -1.2966439417613633, -0.017967446036095795, 0.514611017485124, -1.4461382765586006, 1.01186070273958, 0.8879030485264665, 0.4676220911886453, 0.6228012943753499, -1.4207209081286396, 0.2867700005446423, -0.6139865568654482, -0.5415167711981378, -1.9858206491463257, 0.12723912891542727, -0.1793100802880613, 0.0037780088332585375, 1.3903163960561136, 1.5083085016459787, 0.3926357357086319, -0.9743888746263668, -0.9454377234958473, -0.8321414989740954, -1.620960244458763, -0.6017219998541727, -0.06238112948649538, 1.6954621456675467, 1.124584858797205, -1.15012884419011, -1.4364055469573436, 0.5664302863033238, 1.8332136136850243, -0.8089001901634655, 0.43902060972417456, 0.37600900785175306, -1.3948918928031053, -0.6904696137869282, 0.19589727243424596, -1.5300619443770898, -1.9477439997569757, -0.7048608070105993, 0.0030274862426587037, -0.3658721419657042, -0.027565836557152504, 0.46474856183842084, -0.4170025571275899, 0.5118024905797606, 0.022175819324665814, 0.07345976472766286, -0.6162389548458861, -0.546978786397993, 0.00893652800919723, -0.3826503977720516, 0.2771619614010083, 0.6072349321310275, 1.0624815146959694], \"yaxis\": \"y13\"}, {\"line\": {\"color\": \"rgba(128, 128, 128, 1.0)\", \"dash\": \"solid\", \"shape\": \"linear\", \"width\": 1.3}, \"marker\": {\"size\": 2, \"symbol\": \"circle\"}, \"mode\": \"markers\", \"name\": \"D\", \"text\": \"\", \"type\": \"scatter\", \"x\": [0.3715414837853284, -0.1496899277411245, -0.4390213126824492, 1.6124578320777376, 0.11183836103323239, 1.458697253376567, 0.9643586012873291, 0.6670443200955786, -0.21265059534970032, -0.8636786417042411, 1.7871113503248284, -0.1447568525603548, 0.9351528782010953, 0.9625816992599668, -0.3733852727659238, -0.2822727071412232, -0.0358397051319197, 2.2130874225777575, 0.25326232890298495, -0.445997394922047, -0.12580352886153912, 0.821603670489078, -0.31317514756877424, -1.227443779918153, 0.08176459147203437, -0.13765985270634984, -1.1342575625974662, -0.6658897059835954, -0.8162034704460095, 0.8322541179478329, -2.3019121397506352, 0.22840969211373394, -0.09790587776093376, 0.8646965614406674, 0.8123971676173096, 0.09931126017752998, -0.2851236926891674, -0.6546008255239986, 0.34637604119215065, -0.08096229379499327, -1.0821639264456364, 0.7707047699604228, -0.3655827162038345, -0.8690899907167929, -1.62725903133252, 0.8473311747014874, 0.2243054275489603, 0.9160444771656323, -0.013671567941790488, 1.1756905044906398, 2.211644592878346, 2.6734963742744893, 2.403609725799866, -0.7828324585717606, -1.9352254812359753, 2.05781884631984, 0.22955750817913378, -1.41367971194844, -0.02222680289686833, -0.3265895253904034, -0.662586189934153, 0.34162075972823924, -1.7987978352472804, -2.164523510479693, -1.0226530080529086, 0.09527821901748883, -0.3735501240807589, -0.8341382892266959, -0.34868142809346037, 1.3620090274224168, 0.6831582769222206, -0.9704644017602544, 1.0850240034716527, 0.03189658005429582, 1.5597883688055845, -0.6942070267432159, -0.22882318437441995, 1.410449211516949, 1.3503691828085254, 0.1134970084477248, -0.4990774677156832, -1.4529230662123482, -0.6863896873450261, 0.7806907699913527, -0.4867880186501855, 0.9352865979372379, -0.5062252759718567, 0.5592357779532194, 0.6665247279587084, 0.7647459179575313, 0.4677285244089398, 1.0166663003685206, 1.0356066302371916, -0.44541082873479076, -0.040668349850732054, 0.5685074541670516, -1.167505710044138, -0.370685489323101, 0.7617607871230696, -0.34649327030204485], \"xaxis\": \"x14\", \"y\": [-0.46896793394847963, 0.9185701612631408, -0.9518353470364371, 0.48127796570390513, -1.3125227628679224, -0.6001985612883243, 1.2438374321973853, -1.0553928899948373, 0.7992286386403018, 0.6552228453687096, 1.531139173688056, -1.434972124639351, 0.5886176757481795, -0.3256784096497872, -0.2623819605419885, 0.8093293479850361, -0.33275476984830865, -0.2956276921472676, -0.16713256889711028, 0.18389720704075418, 0.6657691087241017, -1.4997126274775754, 0.8711561678776168, -0.8924685564325691, 0.6394678129395951, -1.196144615877988, 2.2614519074522, 0.11987585103470248, -2.579662215505832, -1.3178324834559312, 0.46948793870344907, -0.2210025562961031, 1.4552867861558016, 1.326246985282575, -0.054439587001145, 1.2706741490376032, 0.7484048322067663, 1.2710087859871775, 0.9447743157753115, 0.0917616016406183, -2.0969697544296864, -1.1217734741484078, -0.35986753254874787, 0.12035306348613169, -1.1902816920463186, -1.2966439417613633, -0.017967446036095795, 0.514611017485124, -1.4461382765586006, 1.01186070273958, 0.8879030485264665, 0.4676220911886453, 0.6228012943753499, -1.4207209081286396, 0.2867700005446423, -0.6139865568654482, -0.5415167711981378, -1.9858206491463257, 0.12723912891542727, -0.1793100802880613, 0.0037780088332585375, 1.3903163960561136, 1.5083085016459787, 0.3926357357086319, -0.9743888746263668, -0.9454377234958473, -0.8321414989740954, -1.620960244458763, -0.6017219998541727, -0.06238112948649538, 1.6954621456675467, 1.124584858797205, -1.15012884419011, -1.4364055469573436, 0.5664302863033238, 1.8332136136850243, -0.8089001901634655, 0.43902060972417456, 0.37600900785175306, -1.3948918928031053, -0.6904696137869282, 0.19589727243424596, -1.5300619443770898, -1.9477439997569757, -0.7048608070105993, 0.0030274862426587037, -0.3658721419657042, -0.027565836557152504, 0.46474856183842084, -0.4170025571275899, 0.5118024905797606, 0.022175819324665814, 0.07345976472766286, -0.6162389548458861, -0.546978786397993, 0.00893652800919723, -0.3826503977720516, 0.2771619614010083, 0.6072349321310275, 1.0624815146959694], \"yaxis\": \"y14\"}, {\"line\": {\"color\": \"rgba(128, 128, 128, 1.0)\", \"dash\": \"solid\", \"shape\": \"linear\", \"width\": 1.3}, \"marker\": {\"size\": 2, \"symbol\": \"circle\"}, \"mode\": \"markers\", \"name\": \"D\", \"text\": \"\", \"type\": \"scatter\", \"x\": [-0.8156211921936473, -0.3488054734179534, 1.3634652871830246, 0.6827654196928922, -1.0579817213633653, -0.9172741010318527, -1.0111454672320228, 2.1474195456264242, -0.029116717408046878, -0.10503227051826579, -1.8982085799443809, -0.061607126903382985, -1.461069514841389, -0.4159207500708357, 0.5428281012175966, -1.1064321564326451, 1.1818468571532845, -0.4997449331078411, 0.6513450257522175, -1.0096901464963166, 0.7777710862030701, 1.1156051451021982, -1.3963977721174032, -2.1957740562038897, -0.003082555605334334, -0.8711334400342721, -1.1721695448682867, 0.9015731399020005, -0.7687236581093563, 0.648912600414831, -0.3370999147061945, -0.2557289363041199, 1.3940022814140893, -1.0918291338075325, 0.926385756882171, -0.02699273090378049, -1.9310415085129753, -2.0537105543928087, 1.331393828819895, -1.2479264355796142, 1.3244176563546068, 0.4547765829735793, -0.9485957942455121, 0.7711272727493926, 0.10770503293463943, -0.34345388358808904, -0.2901651965788942, -1.8859801912106564, -0.06463771887301847, 0.7339329153613252, -2.9813490059807424, 0.49298111601570926, 2.089197422357034, 0.5485407093266145, -0.45294081667793284, -1.2343570095799694, -0.6043887454889516, 0.19698825224500555, 0.2525008929314805, 0.49330016796457193, -1.3296448063379627, -1.3199625654791716, -0.22952536088723396, -2.100923552982224, -1.2766272123803133, -0.0759219486515562, -1.3161580407429254, 0.06457107233952505, 0.11828851281676804, -0.1854970115502745, -0.6904859218641665, 0.9987015332368285, 1.0653613654646588, 0.30642527390970625, 0.005411555193580738, 0.46565443254592476, -0.5513607990797764, -0.6156892013681534, 1.0864651990406675, 1.2076925241549614, 0.02996839767387277, -0.014468892242910269, 2.314696376629038, 2.208168488408517, -1.3983413330991918, 0.8986343834667301, 0.9916299241963795, -0.20474753074899615, -0.2318152457813195, -0.41240495042251296, -1.5084220112468731, -0.2339935120152956, -0.6079408227599712, -0.09966875704636555, 0.23726828071761713, -1.7732192190847027, 0.28673585713418004, -0.7359231672703281, 0.14300452088914767, 1.6972975653855318], \"xaxis\": \"x15\", \"y\": [-0.46896793394847963, 0.9185701612631408, -0.9518353470364371, 0.48127796570390513, -1.3125227628679224, -0.6001985612883243, 1.2438374321973853, -1.0553928899948373, 0.7992286386403018, 0.6552228453687096, 1.531139173688056, -1.434972124639351, 0.5886176757481795, -0.3256784096497872, -0.2623819605419885, 0.8093293479850361, -0.33275476984830865, -0.2956276921472676, -0.16713256889711028, 0.18389720704075418, 0.6657691087241017, -1.4997126274775754, 0.8711561678776168, -0.8924685564325691, 0.6394678129395951, -1.196144615877988, 2.2614519074522, 0.11987585103470248, -2.579662215505832, -1.3178324834559312, 0.46948793870344907, -0.2210025562961031, 1.4552867861558016, 1.326246985282575, -0.054439587001145, 1.2706741490376032, 0.7484048322067663, 1.2710087859871775, 0.9447743157753115, 0.0917616016406183, -2.0969697544296864, -1.1217734741484078, -0.35986753254874787, 0.12035306348613169, -1.1902816920463186, -1.2966439417613633, -0.017967446036095795, 0.514611017485124, -1.4461382765586006, 1.01186070273958, 0.8879030485264665, 0.4676220911886453, 0.6228012943753499, -1.4207209081286396, 0.2867700005446423, -0.6139865568654482, -0.5415167711981378, -1.9858206491463257, 0.12723912891542727, -0.1793100802880613, 0.0037780088332585375, 1.3903163960561136, 1.5083085016459787, 0.3926357357086319, -0.9743888746263668, -0.9454377234958473, -0.8321414989740954, -1.620960244458763, -0.6017219998541727, -0.06238112948649538, 1.6954621456675467, 1.124584858797205, -1.15012884419011, -1.4364055469573436, 0.5664302863033238, 1.8332136136850243, -0.8089001901634655, 0.43902060972417456, 0.37600900785175306, -1.3948918928031053, -0.6904696137869282, 0.19589727243424596, -1.5300619443770898, -1.9477439997569757, -0.7048608070105993, 0.0030274862426587037, -0.3658721419657042, -0.027565836557152504, 0.46474856183842084, -0.4170025571275899, 0.5118024905797606, 0.022175819324665814, 0.07345976472766286, -0.6162389548458861, -0.546978786397993, 0.00893652800919723, -0.3826503977720516, 0.2771619614010083, 0.6072349321310275, 1.0624815146959694], \"yaxis\": \"y15\"}, {\"histfunc\": \"count\", \"histnorm\": \"\", \"marker\": {\"color\": \"rgba(128, 0, 128, 1.0)\", \"line\": {\"color\": \"#4D5663\", \"width\": 1.3}}, \"name\": \"D\", \"nbinsx\": 10, \"opacity\": 0.8, \"orientation\": \"v\", \"type\": \"histogram\", \"x\": [-0.46896793394847963, 0.9185701612631408, -0.9518353470364371, 0.48127796570390513, -1.3125227628679224, -0.6001985612883243, 1.2438374321973853, -1.0553928899948373, 0.7992286386403018, 0.6552228453687096, 1.531139173688056, -1.434972124639351, 0.5886176757481795, -0.3256784096497872, -0.2623819605419885, 0.8093293479850361, -0.33275476984830865, -0.2956276921472676, -0.16713256889711028, 0.18389720704075418, 0.6657691087241017, -1.4997126274775754, 0.8711561678776168, -0.8924685564325691, 0.6394678129395951, -1.196144615877988, 2.2614519074522, 0.11987585103470248, -2.579662215505832, -1.3178324834559312, 0.46948793870344907, -0.2210025562961031, 1.4552867861558016, 1.326246985282575, -0.054439587001145, 1.2706741490376032, 0.7484048322067663, 1.2710087859871775, 0.9447743157753115, 0.0917616016406183, -2.0969697544296864, -1.1217734741484078, -0.35986753254874787, 0.12035306348613169, -1.1902816920463186, -1.2966439417613633, -0.017967446036095795, 0.514611017485124, -1.4461382765586006, 1.01186070273958, 0.8879030485264665, 0.4676220911886453, 0.6228012943753499, -1.4207209081286396, 0.2867700005446423, -0.6139865568654482, -0.5415167711981378, -1.9858206491463257, 0.12723912891542727, -0.1793100802880613, 0.0037780088332585375, 1.3903163960561136, 1.5083085016459787, 0.3926357357086319, -0.9743888746263668, -0.9454377234958473, -0.8321414989740954, -1.620960244458763, -0.6017219998541727, -0.06238112948649538, 1.6954621456675467, 1.124584858797205, -1.15012884419011, -1.4364055469573436, 0.5664302863033238, 1.8332136136850243, -0.8089001901634655, 0.43902060972417456, 0.37600900785175306, -1.3948918928031053, -0.6904696137869282, 0.19589727243424596, -1.5300619443770898, -1.9477439997569757, -0.7048608070105993, 0.0030274862426587037, -0.3658721419657042, -0.027565836557152504, 0.46474856183842084, -0.4170025571275899, 0.5118024905797606, 0.022175819324665814, 0.07345976472766286, -0.6162389548458861, -0.546978786397993, 0.00893652800919723, -0.3826503977720516, 0.2771619614010083, 0.6072349321310275, 1.0624815146959694], \"xaxis\": \"x16\", \"yaxis\": \"y16\"}],                        {\"bargap\": 0.02, \"legend\": {\"bgcolor\": \"#F5F6F9\", \"font\": {\"color\": \"#4D5663\"}}, \"paper_bgcolor\": \"#F5F6F9\", \"plot_bgcolor\": \"#F5F6F9\", \"showlegend\": false, \"template\": {\"data\": {\"bar\": [{\"error_x\": {\"color\": \"#2a3f5f\"}, \"error_y\": {\"color\": \"#2a3f5f\"}, \"marker\": {\"line\": {\"color\": \"#E5ECF6\", \"width\": 0.5}}, \"type\": \"bar\"}], \"barpolar\": [{\"marker\": {\"line\": {\"color\": \"#E5ECF6\", \"width\": 0.5}}, \"type\": \"barpolar\"}], \"carpet\": [{\"aaxis\": {\"endlinecolor\": \"#2a3f5f\", \"gridcolor\": \"white\", \"linecolor\": \"white\", \"minorgridcolor\": \"white\", \"startlinecolor\": \"#2a3f5f\"}, \"baxis\": {\"endlinecolor\": \"#2a3f5f\", \"gridcolor\": \"white\", \"linecolor\": \"white\", \"minorgridcolor\": \"white\", \"startlinecolor\": \"#2a3f5f\"}, \"type\": \"carpet\"}], \"choropleth\": [{\"colorbar\": {\"outlinewidth\": 0, \"ticks\": \"\"}, \"type\": \"choropleth\"}], \"contour\": [{\"colorbar\": {\"outlinewidth\": 0, \"ticks\": \"\"}, \"colorscale\": [[0.0, \"#0d0887\"], [0.1111111111111111, \"#46039f\"], [0.2222222222222222, \"#7201a8\"], [0.3333333333333333, \"#9c179e\"], [0.4444444444444444, \"#bd3786\"], [0.5555555555555556, \"#d8576b\"], [0.6666666666666666, \"#ed7953\"], [0.7777777777777778, \"#fb9f3a\"], [0.8888888888888888, \"#fdca26\"], [1.0, \"#f0f921\"]], \"type\": \"contour\"}], \"contourcarpet\": [{\"colorbar\": {\"outlinewidth\": 0, \"ticks\": \"\"}, \"type\": \"contourcarpet\"}], \"heatmap\": [{\"colorbar\": {\"outlinewidth\": 0, \"ticks\": \"\"}, \"colorscale\": [[0.0, \"#0d0887\"], [0.1111111111111111, \"#46039f\"], [0.2222222222222222, \"#7201a8\"], [0.3333333333333333, \"#9c179e\"], [0.4444444444444444, \"#bd3786\"], [0.5555555555555556, \"#d8576b\"], [0.6666666666666666, \"#ed7953\"], [0.7777777777777778, \"#fb9f3a\"], [0.8888888888888888, \"#fdca26\"], [1.0, \"#f0f921\"]], \"type\": \"heatmap\"}], \"heatmapgl\": [{\"colorbar\": {\"outlinewidth\": 0, \"ticks\": \"\"}, \"colorscale\": [[0.0, \"#0d0887\"], [0.1111111111111111, \"#46039f\"], [0.2222222222222222, \"#7201a8\"], [0.3333333333333333, \"#9c179e\"], [0.4444444444444444, \"#bd3786\"], [0.5555555555555556, \"#d8576b\"], [0.6666666666666666, \"#ed7953\"], [0.7777777777777778, \"#fb9f3a\"], [0.8888888888888888, \"#fdca26\"], [1.0, \"#f0f921\"]], \"type\": \"heatmapgl\"}], \"histogram\": [{\"marker\": {\"colorbar\": {\"outlinewidth\": 0, \"ticks\": \"\"}}, \"type\": \"histogram\"}], \"histogram2d\": [{\"colorbar\": {\"outlinewidth\": 0, \"ticks\": \"\"}, \"colorscale\": [[0.0, \"#0d0887\"], [0.1111111111111111, \"#46039f\"], [0.2222222222222222, \"#7201a8\"], [0.3333333333333333, \"#9c179e\"], [0.4444444444444444, \"#bd3786\"], [0.5555555555555556, \"#d8576b\"], [0.6666666666666666, \"#ed7953\"], [0.7777777777777778, \"#fb9f3a\"], [0.8888888888888888, \"#fdca26\"], [1.0, \"#f0f921\"]], \"type\": \"histogram2d\"}], \"histogram2dcontour\": [{\"colorbar\": {\"outlinewidth\": 0, \"ticks\": \"\"}, \"colorscale\": [[0.0, \"#0d0887\"], [0.1111111111111111, \"#46039f\"], [0.2222222222222222, \"#7201a8\"], [0.3333333333333333, \"#9c179e\"], [0.4444444444444444, \"#bd3786\"], [0.5555555555555556, \"#d8576b\"], [0.6666666666666666, \"#ed7953\"], [0.7777777777777778, \"#fb9f3a\"], [0.8888888888888888, \"#fdca26\"], [1.0, \"#f0f921\"]], \"type\": \"histogram2dcontour\"}], \"mesh3d\": [{\"colorbar\": {\"outlinewidth\": 0, \"ticks\": \"\"}, \"type\": \"mesh3d\"}], \"parcoords\": [{\"line\": {\"colorbar\": {\"outlinewidth\": 0, \"ticks\": \"\"}}, \"type\": \"parcoords\"}], \"pie\": [{\"automargin\": true, \"type\": \"pie\"}], \"scatter\": [{\"marker\": {\"colorbar\": {\"outlinewidth\": 0, \"ticks\": \"\"}}, \"type\": \"scatter\"}], \"scatter3d\": [{\"line\": {\"colorbar\": {\"outlinewidth\": 0, \"ticks\": \"\"}}, \"marker\": {\"colorbar\": {\"outlinewidth\": 0, \"ticks\": \"\"}}, \"type\": \"scatter3d\"}], \"scattercarpet\": [{\"marker\": {\"colorbar\": {\"outlinewidth\": 0, \"ticks\": \"\"}}, \"type\": \"scattercarpet\"}], \"scattergeo\": [{\"marker\": {\"colorbar\": {\"outlinewidth\": 0, \"ticks\": \"\"}}, \"type\": \"scattergeo\"}], \"scattergl\": [{\"marker\": {\"colorbar\": {\"outlinewidth\": 0, \"ticks\": \"\"}}, \"type\": \"scattergl\"}], \"scattermapbox\": [{\"marker\": {\"colorbar\": {\"outlinewidth\": 0, \"ticks\": \"\"}}, \"type\": \"scattermapbox\"}], \"scatterpolar\": [{\"marker\": {\"colorbar\": {\"outlinewidth\": 0, \"ticks\": \"\"}}, \"type\": \"scatterpolar\"}], \"scatterpolargl\": [{\"marker\": {\"colorbar\": {\"outlinewidth\": 0, \"ticks\": \"\"}}, \"type\": \"scatterpolargl\"}], \"scatterternary\": [{\"marker\": {\"colorbar\": {\"outlinewidth\": 0, \"ticks\": \"\"}}, \"type\": \"scatterternary\"}], \"surface\": [{\"colorbar\": {\"outlinewidth\": 0, \"ticks\": \"\"}, \"colorscale\": [[0.0, \"#0d0887\"], [0.1111111111111111, \"#46039f\"], [0.2222222222222222, \"#7201a8\"], [0.3333333333333333, \"#9c179e\"], [0.4444444444444444, \"#bd3786\"], [0.5555555555555556, \"#d8576b\"], [0.6666666666666666, \"#ed7953\"], [0.7777777777777778, \"#fb9f3a\"], [0.8888888888888888, \"#fdca26\"], [1.0, \"#f0f921\"]], \"type\": \"surface\"}], \"table\": [{\"cells\": {\"fill\": {\"color\": \"#EBF0F8\"}, \"line\": {\"color\": \"white\"}}, \"header\": {\"fill\": {\"color\": \"#C8D4E3\"}, \"line\": {\"color\": \"white\"}}, \"type\": \"table\"}]}, \"layout\": {\"annotationdefaults\": {\"arrowcolor\": \"#2a3f5f\", \"arrowhead\": 0, \"arrowwidth\": 1}, \"coloraxis\": {\"colorbar\": {\"outlinewidth\": 0, \"ticks\": \"\"}}, \"colorscale\": {\"diverging\": [[0, \"#8e0152\"], [0.1, \"#c51b7d\"], [0.2, \"#de77ae\"], [0.3, \"#f1b6da\"], [0.4, \"#fde0ef\"], [0.5, \"#f7f7f7\"], [0.6, \"#e6f5d0\"], [0.7, \"#b8e186\"], [0.8, \"#7fbc41\"], [0.9, \"#4d9221\"], [1, \"#276419\"]], \"sequential\": [[0.0, \"#0d0887\"], [0.1111111111111111, \"#46039f\"], [0.2222222222222222, \"#7201a8\"], [0.3333333333333333, \"#9c179e\"], [0.4444444444444444, \"#bd3786\"], [0.5555555555555556, \"#d8576b\"], [0.6666666666666666, \"#ed7953\"], [0.7777777777777778, \"#fb9f3a\"], [0.8888888888888888, \"#fdca26\"], [1.0, \"#f0f921\"]], \"sequentialminus\": [[0.0, \"#0d0887\"], [0.1111111111111111, \"#46039f\"], [0.2222222222222222, \"#7201a8\"], [0.3333333333333333, \"#9c179e\"], [0.4444444444444444, \"#bd3786\"], [0.5555555555555556, \"#d8576b\"], [0.6666666666666666, \"#ed7953\"], [0.7777777777777778, \"#fb9f3a\"], [0.8888888888888888, \"#fdca26\"], [1.0, \"#f0f921\"]]}, \"colorway\": [\"#636efa\", \"#EF553B\", \"#00cc96\", \"#ab63fa\", \"#FFA15A\", \"#19d3f3\", \"#FF6692\", \"#B6E880\", \"#FF97FF\", \"#FECB52\"], \"font\": {\"color\": \"#2a3f5f\"}, \"geo\": {\"bgcolor\": \"white\", \"lakecolor\": \"white\", \"landcolor\": \"#E5ECF6\", \"showlakes\": true, \"showland\": true, \"subunitcolor\": \"white\"}, \"hoverlabel\": {\"align\": \"left\"}, \"hovermode\": \"closest\", \"mapbox\": {\"style\": \"light\"}, \"paper_bgcolor\": \"white\", \"plot_bgcolor\": \"#E5ECF6\", \"polar\": {\"angularaxis\": {\"gridcolor\": \"white\", \"linecolor\": \"white\", \"ticks\": \"\"}, \"bgcolor\": \"#E5ECF6\", \"radialaxis\": {\"gridcolor\": \"white\", \"linecolor\": \"white\", \"ticks\": \"\"}}, \"scene\": {\"xaxis\": {\"backgroundcolor\": \"#E5ECF6\", \"gridcolor\": \"white\", \"gridwidth\": 2, \"linecolor\": \"white\", \"showbackground\": true, \"ticks\": \"\", \"zerolinecolor\": \"white\"}, \"yaxis\": {\"backgroundcolor\": \"#E5ECF6\", \"gridcolor\": \"white\", \"gridwidth\": 2, \"linecolor\": \"white\", \"showbackground\": true, \"ticks\": \"\", \"zerolinecolor\": \"white\"}, \"zaxis\": {\"backgroundcolor\": \"#E5ECF6\", \"gridcolor\": \"white\", \"gridwidth\": 2, \"linecolor\": \"white\", \"showbackground\": true, \"ticks\": \"\", \"zerolinecolor\": \"white\"}}, \"shapedefaults\": {\"line\": {\"color\": \"#2a3f5f\"}}, \"ternary\": {\"aaxis\": {\"gridcolor\": \"white\", \"linecolor\": \"white\", \"ticks\": \"\"}, \"baxis\": {\"gridcolor\": \"white\", \"linecolor\": \"white\", \"ticks\": \"\"}, \"bgcolor\": \"#E5ECF6\", \"caxis\": {\"gridcolor\": \"white\", \"linecolor\": \"white\", \"ticks\": \"\"}}, \"title\": {\"x\": 0.05}, \"xaxis\": {\"automargin\": true, \"gridcolor\": \"white\", \"linecolor\": \"white\", \"ticks\": \"\", \"title\": {\"standoff\": 15}, \"zerolinecolor\": \"white\", \"zerolinewidth\": 2}, \"yaxis\": {\"automargin\": true, \"gridcolor\": \"white\", \"linecolor\": \"white\", \"ticks\": \"\", \"title\": {\"standoff\": 15}, \"zerolinecolor\": \"white\", \"zerolinewidth\": 2}}}, \"title\": {\"font\": {\"color\": \"#4D5663\"}}, \"xaxis\": {\"anchor\": \"y\", \"domain\": [0.0, 0.2125], \"gridcolor\": \"#E1E5ED\", \"showgrid\": false, \"tickfont\": {\"color\": \"#4D5663\"}, \"title\": {\"font\": {\"color\": \"#4D5663\"}, \"text\": \"\"}, \"zerolinecolor\": \"#E1E5ED\"}, \"xaxis10\": {\"anchor\": \"y10\", \"domain\": [0.2625, 0.475], \"gridcolor\": \"#E1E5ED\", \"showgrid\": false, \"tickfont\": {\"color\": \"#4D5663\"}, \"title\": {\"font\": {\"color\": \"#4D5663\"}, \"text\": \"\"}, \"zerolinecolor\": \"#E1E5ED\"}, \"xaxis11\": {\"anchor\": \"y11\", \"domain\": [0.525, 0.7375], \"gridcolor\": \"#E1E5ED\", \"showgrid\": false, \"tickfont\": {\"color\": \"#4D5663\"}, \"title\": {\"font\": {\"color\": \"#4D5663\"}, \"text\": \"\"}, \"zerolinecolor\": \"#E1E5ED\"}, \"xaxis12\": {\"anchor\": \"y12\", \"domain\": [0.7875, 1.0], \"gridcolor\": \"#E1E5ED\", \"showgrid\": false, \"tickfont\": {\"color\": \"#4D5663\"}, \"title\": {\"font\": {\"color\": \"#4D5663\"}, \"text\": \"\"}, \"zerolinecolor\": \"#E1E5ED\"}, \"xaxis13\": {\"anchor\": \"y13\", \"domain\": [0.0, 0.2125], \"gridcolor\": \"#E1E5ED\", \"showgrid\": false, \"tickfont\": {\"color\": \"#4D5663\"}, \"title\": {\"font\": {\"color\": \"#4D5663\"}, \"text\": \"\"}, \"zerolinecolor\": \"#E1E5ED\"}, \"xaxis14\": {\"anchor\": \"y14\", \"domain\": [0.2625, 0.475], \"gridcolor\": \"#E1E5ED\", \"showgrid\": false, \"tickfont\": {\"color\": \"#4D5663\"}, \"title\": {\"font\": {\"color\": \"#4D5663\"}, \"text\": \"\"}, \"zerolinecolor\": \"#E1E5ED\"}, \"xaxis15\": {\"anchor\": \"y15\", \"domain\": [0.525, 0.7375], \"gridcolor\": \"#E1E5ED\", \"showgrid\": false, \"tickfont\": {\"color\": \"#4D5663\"}, \"title\": {\"font\": {\"color\": \"#4D5663\"}, \"text\": \"\"}, \"zerolinecolor\": \"#E1E5ED\"}, \"xaxis16\": {\"anchor\": \"y16\", \"domain\": [0.7875, 1.0], \"gridcolor\": \"#E1E5ED\", \"showgrid\": false, \"tickfont\": {\"color\": \"#4D5663\"}, \"title\": {\"font\": {\"color\": \"#4D5663\"}, \"text\": \"\"}, \"zerolinecolor\": \"#E1E5ED\"}, \"xaxis2\": {\"anchor\": \"y2\", \"domain\": [0.2625, 0.475], \"gridcolor\": \"#E1E5ED\", \"showgrid\": false, \"tickfont\": {\"color\": \"#4D5663\"}, \"title\": {\"font\": {\"color\": \"#4D5663\"}, \"text\": \"\"}, \"zerolinecolor\": \"#E1E5ED\"}, \"xaxis3\": {\"anchor\": \"y3\", \"domain\": [0.525, 0.7375], \"gridcolor\": \"#E1E5ED\", \"showgrid\": false, \"tickfont\": {\"color\": \"#4D5663\"}, \"title\": {\"font\": {\"color\": \"#4D5663\"}, \"text\": \"\"}, \"zerolinecolor\": \"#E1E5ED\"}, \"xaxis4\": {\"anchor\": \"y4\", \"domain\": [0.7875, 1.0], \"gridcolor\": \"#E1E5ED\", \"showgrid\": false, \"tickfont\": {\"color\": \"#4D5663\"}, \"title\": {\"font\": {\"color\": \"#4D5663\"}, \"text\": \"\"}, \"zerolinecolor\": \"#E1E5ED\"}, \"xaxis5\": {\"anchor\": \"y5\", \"domain\": [0.0, 0.2125], \"gridcolor\": \"#E1E5ED\", \"showgrid\": false, \"tickfont\": {\"color\": \"#4D5663\"}, \"title\": {\"font\": {\"color\": \"#4D5663\"}, \"text\": \"\"}, \"zerolinecolor\": \"#E1E5ED\"}, \"xaxis6\": {\"anchor\": \"y6\", \"domain\": [0.2625, 0.475], \"gridcolor\": \"#E1E5ED\", \"showgrid\": false, \"tickfont\": {\"color\": \"#4D5663\"}, \"title\": {\"font\": {\"color\": \"#4D5663\"}, \"text\": \"\"}, \"zerolinecolor\": \"#E1E5ED\"}, \"xaxis7\": {\"anchor\": \"y7\", \"domain\": [0.525, 0.7375], \"gridcolor\": \"#E1E5ED\", \"showgrid\": false, \"tickfont\": {\"color\": \"#4D5663\"}, \"title\": {\"font\": {\"color\": \"#4D5663\"}, \"text\": \"\"}, \"zerolinecolor\": \"#E1E5ED\"}, \"xaxis8\": {\"anchor\": \"y8\", \"domain\": [0.7875, 1.0], \"gridcolor\": \"#E1E5ED\", \"showgrid\": false, \"tickfont\": {\"color\": \"#4D5663\"}, \"title\": {\"font\": {\"color\": \"#4D5663\"}, \"text\": \"\"}, \"zerolinecolor\": \"#E1E5ED\"}, \"xaxis9\": {\"anchor\": \"y9\", \"domain\": [0.0, 0.2125], \"gridcolor\": \"#E1E5ED\", \"showgrid\": false, \"tickfont\": {\"color\": \"#4D5663\"}, \"title\": {\"font\": {\"color\": \"#4D5663\"}, \"text\": \"\"}, \"zerolinecolor\": \"#E1E5ED\"}, \"yaxis\": {\"anchor\": \"x\", \"domain\": [0.8025, 1.0], \"gridcolor\": \"#E1E5ED\", \"showgrid\": false, \"tickfont\": {\"color\": \"#4D5663\"}, \"title\": {\"font\": {\"color\": \"#4D5663\"}, \"text\": \"\"}, \"zerolinecolor\": \"#E1E5ED\"}, \"yaxis10\": {\"anchor\": \"x10\", \"domain\": [0.2675, 0.465], \"gridcolor\": \"#E1E5ED\", \"showgrid\": false, \"tickfont\": {\"color\": \"#4D5663\"}, \"title\": {\"font\": {\"color\": \"#4D5663\"}, \"text\": \"\"}, \"zerolinecolor\": \"#E1E5ED\"}, \"yaxis11\": {\"anchor\": \"x11\", \"domain\": [0.2675, 0.465], \"gridcolor\": \"#E1E5ED\", \"showgrid\": false, \"tickfont\": {\"color\": \"#4D5663\"}, \"title\": {\"font\": {\"color\": \"#4D5663\"}, \"text\": \"\"}, \"zerolinecolor\": \"#E1E5ED\"}, \"yaxis12\": {\"anchor\": \"x12\", \"domain\": [0.2675, 0.465], \"gridcolor\": \"#E1E5ED\", \"showgrid\": false, \"tickfont\": {\"color\": \"#4D5663\"}, \"title\": {\"font\": {\"color\": \"#4D5663\"}, \"text\": \"\"}, \"zerolinecolor\": \"#E1E5ED\"}, \"yaxis13\": {\"anchor\": \"x13\", \"domain\": [0.0, 0.1975], \"gridcolor\": \"#E1E5ED\", \"showgrid\": false, \"tickfont\": {\"color\": \"#4D5663\"}, \"title\": {\"font\": {\"color\": \"#4D5663\"}, \"text\": \"\"}, \"zerolinecolor\": \"#E1E5ED\"}, \"yaxis14\": {\"anchor\": \"x14\", \"domain\": [0.0, 0.1975], \"gridcolor\": \"#E1E5ED\", \"showgrid\": false, \"tickfont\": {\"color\": \"#4D5663\"}, \"title\": {\"font\": {\"color\": \"#4D5663\"}, \"text\": \"\"}, \"zerolinecolor\": \"#E1E5ED\"}, \"yaxis15\": {\"anchor\": \"x15\", \"domain\": [0.0, 0.1975], \"gridcolor\": \"#E1E5ED\", \"showgrid\": false, \"tickfont\": {\"color\": \"#4D5663\"}, \"title\": {\"font\": {\"color\": \"#4D5663\"}, \"text\": \"\"}, \"zerolinecolor\": \"#E1E5ED\"}, \"yaxis16\": {\"anchor\": \"x16\", \"domain\": [0.0, 0.1975], \"gridcolor\": \"#E1E5ED\", \"showgrid\": false, \"tickfont\": {\"color\": \"#4D5663\"}, \"title\": {\"font\": {\"color\": \"#4D5663\"}, \"text\": \"\"}, \"zerolinecolor\": \"#E1E5ED\"}, \"yaxis2\": {\"anchor\": \"x2\", \"domain\": [0.8025, 1.0], \"gridcolor\": \"#E1E5ED\", \"showgrid\": false, \"tickfont\": {\"color\": \"#4D5663\"}, \"title\": {\"font\": {\"color\": \"#4D5663\"}, \"text\": \"\"}, \"zerolinecolor\": \"#E1E5ED\"}, \"yaxis3\": {\"anchor\": \"x3\", \"domain\": [0.8025, 1.0], \"gridcolor\": \"#E1E5ED\", \"showgrid\": false, \"tickfont\": {\"color\": \"#4D5663\"}, \"title\": {\"font\": {\"color\": \"#4D5663\"}, \"text\": \"\"}, \"zerolinecolor\": \"#E1E5ED\"}, \"yaxis4\": {\"anchor\": \"x4\", \"domain\": [0.8025, 1.0], \"gridcolor\": \"#E1E5ED\", \"showgrid\": false, \"tickfont\": {\"color\": \"#4D5663\"}, \"title\": {\"font\": {\"color\": \"#4D5663\"}, \"text\": \"\"}, \"zerolinecolor\": \"#E1E5ED\"}, \"yaxis5\": {\"anchor\": \"x5\", \"domain\": [0.535, 0.7325], \"gridcolor\": \"#E1E5ED\", \"showgrid\": false, \"tickfont\": {\"color\": \"#4D5663\"}, \"title\": {\"font\": {\"color\": \"#4D5663\"}, \"text\": \"\"}, \"zerolinecolor\": \"#E1E5ED\"}, \"yaxis6\": {\"anchor\": \"x6\", \"domain\": [0.535, 0.7325], \"gridcolor\": \"#E1E5ED\", \"showgrid\": false, \"tickfont\": {\"color\": \"#4D5663\"}, \"title\": {\"font\": {\"color\": \"#4D5663\"}, \"text\": \"\"}, \"zerolinecolor\": \"#E1E5ED\"}, \"yaxis7\": {\"anchor\": \"x7\", \"domain\": [0.535, 0.7325], \"gridcolor\": \"#E1E5ED\", \"showgrid\": false, \"tickfont\": {\"color\": \"#4D5663\"}, \"title\": {\"font\": {\"color\": \"#4D5663\"}, \"text\": \"\"}, \"zerolinecolor\": \"#E1E5ED\"}, \"yaxis8\": {\"anchor\": \"x8\", \"domain\": [0.535, 0.7325], \"gridcolor\": \"#E1E5ED\", \"showgrid\": false, \"tickfont\": {\"color\": \"#4D5663\"}, \"title\": {\"font\": {\"color\": \"#4D5663\"}, \"text\": \"\"}, \"zerolinecolor\": \"#E1E5ED\"}, \"yaxis9\": {\"anchor\": \"x9\", \"domain\": [0.2675, 0.465], \"gridcolor\": \"#E1E5ED\", \"showgrid\": false, \"tickfont\": {\"color\": \"#4D5663\"}, \"title\": {\"font\": {\"color\": \"#4D5663\"}, \"text\": \"\"}, \"zerolinecolor\": \"#E1E5ED\"}},                        {\"showLink\": true, \"linkText\": \"Export to plot.ly\", \"plotlyServerURL\": \"https://plot.ly\", \"responsive\": true}                    ).then(function(){\n",
       "                            \n",
       "var gd = document.getElementById('46e90b9e-5ec6-4c31-9c6d-6380a079766d');\n",
       "var x = new MutationObserver(function (mutations, observer) {{\n",
       "        var display = window.getComputedStyle(gd).display;\n",
       "        if (!display || display === 'none') {{\n",
       "            console.log([gd, 'removed!']);\n",
       "            Plotly.purge(gd);\n",
       "            observer.disconnect();\n",
       "        }}\n",
       "}});\n",
       "\n",
       "// Listen for the removal of the full notebook cells\n",
       "var notebookContainer = gd.closest('#notebook-container');\n",
       "if (notebookContainer) {{\n",
       "    x.observe(notebookContainer, {childList: true});\n",
       "}}\n",
       "\n",
       "// Listen for the clearing of the current output cell\n",
       "var outputEl = gd.closest('.output');\n",
       "if (outputEl) {{\n",
       "    x.observe(outputEl, {childList: true});\n",
       "}}\n",
       "\n",
       "                        })                };                });            </script>        </div>"
      ]
     },
     "metadata": {},
     "output_type": "display_data"
    }
   ],
   "source": [
    "# Create a scatter matrix\n",
    "df.scatter_matrix()"
   ]
  },
  {
   "cell_type": "markdown",
   "metadata": {},
   "source": [
    "## Interactive Area Plots"
   ]
  },
  {
   "cell_type": "code",
   "execution_count": 47,
   "metadata": {},
   "outputs": [
    {
     "data": {
      "application/vnd.plotly.v1+json": {
       "config": {
        "linkText": "Export to plot.ly",
        "plotlyServerURL": "https://plot.ly",
        "showLink": true
       },
       "data": [
        {
         "fill": "tonexty",
         "fillcolor": "rgba(255, 153, 51, 0.3)",
         "line": {
          "color": "rgba(255, 153, 51, 1.0)",
          "dash": "solid",
          "shape": "linear",
          "width": 1.3
         },
         "mode": "lines",
         "name": "A",
         "text": "",
         "type": "scatter",
         "x": [
          0,
          1,
          2,
          3,
          4,
          5,
          6,
          7,
          8,
          9,
          10,
          11,
          12,
          13,
          14,
          15,
          16,
          17,
          18,
          19,
          20,
          21,
          22,
          23,
          24,
          25,
          26,
          27,
          28,
          29,
          30,
          31,
          32,
          33,
          34,
          35,
          36,
          37,
          38,
          39,
          40,
          41,
          42,
          43,
          44,
          45,
          46,
          47,
          48,
          49,
          50,
          51,
          52,
          53,
          54,
          55,
          56,
          57,
          58,
          59,
          60,
          61,
          62,
          63,
          64,
          65,
          66,
          67,
          68,
          69,
          70,
          71,
          72,
          73,
          74,
          75,
          76,
          77,
          78,
          79,
          80,
          81,
          82,
          83,
          84,
          85,
          86,
          87,
          88,
          89,
          90,
          91,
          92,
          93,
          94,
          95,
          96,
          97,
          98,
          99
         ],
         "y": [
          4.166772375428843e-05,
          2.072988433454968,
          1.146743569873682,
          0.08069356914663128,
          0.0034316902761264184,
          0.6862995504800155,
          0.17679880137897458,
          0.008125360518148508,
          1.9445275985876025,
          0.002762931182756334,
          0.0016762953460776656,
          1.042198126143832,
          1.3174251354863287,
          0.5865037964040896,
          0.24110252325724024,
          0.7606616672773775,
          0.8109414436846202,
          0.31377598228414777,
          0.137871187305534,
          1.571435767871472,
          0.47742082568438404,
          0.033946357613506783,
          1.2949072217929947,
          1.2601245850629492,
          6.588727488957685,
          2.7915974470422666,
          3.7680493275219393,
          0.22240457325279409,
          0.6663752275761096,
          1.8323353650682852,
          0.17203256649416196,
          2.2644112604463222,
          0.20315833866762611,
          0.528428630555013,
          0.5000676429998973,
          0.32869473508938624,
          0.3911703269281216,
          2.5535397954817953,
          0.2673832452216199,
          0.3588115417873989,
          0.07363771422451226,
          8.1726317557482e-05,
          3.481956736281983,
          0.1618426174394086,
          0.17293932561651373,
          0.5835328765355263,
          0.11666047679899139,
          0.9106592096743158,
          1.1484585175896633,
          0.003625969829247601,
          1.3860881068432231,
          0.871944590145232,
          0.030597435758581044,
          0.16128964879416965,
          2.455297802586478,
          0.7248199098333763,
          0.28203473047194344,
          0.07584699698751339,
          1.0846289316638669,
          1.917031858580273,
          0.012878350076559644,
          1.8428301403802843,
          0.1564021065923439,
          0.4570731464736485,
          0.22137125216496475,
          0.14367039188727224,
          0.721805378860217,
          0.7027420235793637,
          0.2655676176911098,
          2.8975225561576186,
          2.1477439605265314,
          1.1068035709993642,
          1.371880031651726,
          0.5634988924496169,
          0.5690913386615637,
          0.06304085640254835,
          0.2574223012746855,
          0.4348481317574258,
          0.0023011676452886157,
          1.8839351049376918,
          0.11405505859853618,
          1.610542642325492,
          0.13849132291311098,
          0.31654299222833016,
          0.01848820972431213,
          1.0819541523762162,
          0.04303944494926682,
          0.46578223958836407,
          1.466136874891176,
          0.020556818176549606,
          0.024131301342728697,
          3.309040858199082,
          1.5939540763789548,
          1.030306942031492,
          0.35706260388474703,
          0.49743806273787894,
          0.5737128787952376,
          0.12394603536549155,
          0.01582813337887371,
          1.8806293228951037
         ]
        },
        {
         "fill": "tonexty",
         "fillcolor": "rgba(55, 128, 191, 0.3)",
         "line": {
          "color": "rgba(55, 128, 191, 1.0)",
          "dash": "solid",
          "shape": "linear",
          "width": 1.3
         },
         "mode": "lines",
         "name": "B",
         "text": "",
         "type": "scatter",
         "x": [
          0,
          1,
          2,
          3,
          4,
          5,
          6,
          7,
          8,
          9,
          10,
          11,
          12,
          13,
          14,
          15,
          16,
          17,
          18,
          19,
          20,
          21,
          22,
          23,
          24,
          25,
          26,
          27,
          28,
          29,
          30,
          31,
          32,
          33,
          34,
          35,
          36,
          37,
          38,
          39,
          40,
          41,
          42,
          43,
          44,
          45,
          46,
          47,
          48,
          49,
          50,
          51,
          52,
          53,
          54,
          55,
          56,
          57,
          58,
          59,
          60,
          61,
          62,
          63,
          64,
          65,
          66,
          67,
          68,
          69,
          70,
          71,
          72,
          73,
          74,
          75,
          76,
          77,
          78,
          79,
          80,
          81,
          82,
          83,
          84,
          85,
          86,
          87,
          88,
          89,
          90,
          91,
          92,
          93,
          94,
          95,
          96,
          97,
          98,
          99
         ],
         "y": [
          0.13808474189715778,
          2.095395507922111,
          1.339483282863103,
          2.6807138293754686,
          0.015939509274726052,
          2.8140972274883556,
          1.1067863132558284,
          0.45307348548992116,
          1.9897478742901844,
          0.7487037273188393,
          3.195443273805909,
          1.0631526725070124,
          2.191936041094121,
          1.513067324154295,
          0.3805190851757236,
          0.8403395484742122,
          0.8122259281485631,
          5.211531922256009,
          0.20201299454689772,
          1.7703494441487244,
          0.49324735355840016,
          0.7089789489746323,
          1.3929858948477183,
          2.7667428179227125,
          6.595412937376273,
          2.8105476820894006,
          5.054589545831485,
          0.6658136737877133,
          1.3325633327442195,
          2.5249822819094105,
          5.47083206562551,
          2.316582247897813,
          0.21274389956776502,
          1.276128773922327,
          1.1600568009525243,
          0.33855746148743526,
          0.47246584706082834,
          2.9820420362584956,
          0.3873596071335663,
          0.3653664348039457,
          1.244716477924749,
          0.5940675687573057,
          3.6156074586689564,
          0.9171600294035238,
          2.820911280669765,
          1.301502996156529,
          0.16697340162691326,
          1.7497966938199725,
          1.1486454293596504,
          1.3858741321787027,
          6.277459912051248,
          8.019527453404072,
          5.8079371497182875,
          0.774116306987677,
          6.20039546581149,
          4.959438314102494,
          0.3347313800333565,
          2.074337324962138,
          1.0851229624308831,
          2.023692576675002,
          0.45189880916801706,
          1.9595348838575837,
          3.392075758682646,
          5.142235173892983,
          1.267190427044627,
          0.15274833090641682,
          0.8613450740609674,
          1.3985287091334024,
          0.3871463559884048,
          4.752591146937776,
          2.614449191853869,
          2.0486047260832527,
          2.5491571197613787,
          0.564516284268777,
          3.0020310941227493,
          0.5449642523822044,
          0.3097823509819353,
          2.424215110026209,
          1.8257980975242531,
          1.8968166758642746,
          0.3631333773800349,
          3.721528078657384,
          0.6096221258067137,
          0.9260210705780213,
          0.2554507848256855,
          1.9567151726572287,
          0.29930347498204934,
          0.7785268949313067,
          1.9103920878716063,
          0.6053931372092569,
          0.2429012738884929,
          4.342651224504097,
          2.666435168970186,
          1.2286977483857051,
          0.35871651856432857,
          0.8206387881813813,
          1.9367824617809042,
          0.2613537673601984,
          0.5961076301772322,
          2.0006869092597097
         ]
        },
        {
         "fill": "tonexty",
         "fillcolor": "rgba(50, 171, 96, 0.3)",
         "line": {
          "color": "rgba(50, 171, 96, 1.0)",
          "dash": "solid",
          "shape": "linear",
          "width": 1.3
         },
         "mode": "lines",
         "name": "C",
         "text": "",
         "type": "scatter",
         "x": [
          0,
          1,
          2,
          3,
          4,
          5,
          6,
          7,
          8,
          9,
          10,
          11,
          12,
          13,
          14,
          15,
          16,
          17,
          18,
          19,
          20,
          21,
          22,
          23,
          24,
          25,
          26,
          27,
          28,
          29,
          30,
          31,
          32,
          33,
          34,
          35,
          36,
          37,
          38,
          39,
          40,
          41,
          42,
          43,
          44,
          45,
          46,
          47,
          48,
          49,
          50,
          51,
          52,
          53,
          54,
          55,
          56,
          57,
          58,
          59,
          60,
          61,
          62,
          63,
          64,
          65,
          66,
          67,
          68,
          69,
          70,
          71,
          72,
          73,
          74,
          75,
          76,
          77,
          78,
          79,
          80,
          81,
          82,
          83,
          84,
          85,
          86,
          87,
          88,
          89,
          90,
          91,
          92,
          93,
          94,
          95,
          96,
          97,
          98,
          99
         ],
         "y": [
          0.8033226710525443,
          2.2170607662084336,
          3.1985208722161906,
          3.14688244770388,
          1.1352648320137158,
          3.655489003912149,
          2.1292014691596943,
          5.0644841904283195,
          1.9905956575228045,
          0.7597355051690614,
          6.798639086780372,
          1.066948110592302,
          4.326660168292973,
          1.6860573944937816,
          0.675181432647225,
          2.0645316652624057,
          2.2089879219116595,
          5.46127692042297,
          0.6262633371190547,
          2.789823636080478,
          1.0981752160919036,
          1.9535537887531291,
          3.3429126328221654,
          7.588166523820795,
          6.595422439525333,
          3.5694211524353454,
          6.428570987748211,
          1.4786478003804655,
          1.92349939528125,
          2.9460698448865488,
          5.584468418120434,
          2.3819795367610497,
          2.155986260155451,
          2.468219631353234,
          2.018247371506677,
          0.33928606900907915,
          4.201387154660896,
          7.199769077482913,
          2.159969134553266,
          1.9226868234223868,
          2.9987986063885783,
          0.8008893091784306,
          4.51544143952923,
          1.51179730018144,
          2.832511654789217,
          1.4194635663082695,
          0.2511692429325816,
          5.306717975458957,
          1.1528234640607578,
          1.924531656429477,
          15.16590180751361,
          8.262557834152165,
          10.172683019301562,
          1.0750132167762223,
          6.405550849224363,
          6.483075541201698,
          0.7000171357070653,
          2.11314169648468,
          1.1488796633620781,
          2.267037632388877,
          2.2198541201895354,
          3.70183605812394,
          3.444757649973061,
          9.556114949368435,
          2.896967466434557,
          0.15851247319346634,
          2.5936170622732235,
          1.4026981325164787,
          0.4011385282528075,
          4.787000288231859,
          3.0912200001464765,
          3.046009478572845,
          3.684151958786101,
          0.6584127327594155,
          3.0020603790523626,
          0.7617983029318716,
          0.613781081743825,
          2.8032883027075632,
          3.0062047262507305,
          3.3553379087640565,
          0.3640314822391743,
          3.7217374275001207,
          5.96744144178631,
          5.802029143778375,
          2.2108092686793106,
          2.7642589278058587,
          1.2826333815437667,
          0.8204484462791178,
          1.96413039604826,
          0.7754709803422523,
          2.5182382379025547,
          4.397404188169349,
          3.036027212948257,
          1.2386316095168726,
          0.4150127555990225,
          3.964945187112744,
          2.0189999135473773,
          0.8029366754853897,
          0.6165579231719669,
          4.881505934723363
         ]
        },
        {
         "fill": "tonexty",
         "fillcolor": "rgba(128, 0, 128, 0.3)",
         "line": {
          "color": "rgba(128, 0, 128, 1.0)",
          "dash": "solid",
          "shape": "linear",
          "width": 1.3
         },
         "mode": "lines",
         "name": "D",
         "text": "",
         "type": "scatter",
         "x": [
          0,
          1,
          2,
          3,
          4,
          5,
          6,
          7,
          8,
          9,
          10,
          11,
          12,
          13,
          14,
          15,
          16,
          17,
          18,
          19,
          20,
          21,
          22,
          23,
          24,
          25,
          26,
          27,
          28,
          29,
          30,
          31,
          32,
          33,
          34,
          35,
          36,
          37,
          38,
          39,
          40,
          41,
          42,
          43,
          44,
          45,
          46,
          47,
          48,
          49,
          50,
          51,
          52,
          53,
          54,
          55,
          56,
          57,
          58,
          59,
          60,
          61,
          62,
          63,
          64,
          65,
          66,
          67,
          68,
          69,
          70,
          71,
          72,
          73,
          74,
          75,
          76,
          77,
          78,
          79,
          80,
          81,
          82,
          83,
          84,
          85,
          86,
          87,
          88,
          89,
          90,
          91,
          92,
          93,
          94,
          95,
          96,
          97,
          98,
          99
         ],
         "y": [
          1.0232535941244498,
          3.0608319073714263,
          4.104511400084165,
          3.3785109279759693,
          2.85798083506016,
          4.015727316884723,
          3.6763330268950796,
          6.178338342679974,
          2.6293620743456345,
          1.1890524822621293,
          9.143026255982514,
          3.126093109084275,
          4.673130936496162,
          1.7921238210057961,
          0.7440257258650825,
          2.7195456587722893,
          2.3197136587684604,
          5.548672652787289,
          0.654196632705202,
          2.8236418188378676,
          1.5414237222231884,
          4.202691753768822,
          4.10182570165338,
          8.384666648041629,
          7.004341523311082,
          5.000183094529245,
          11.542735717467405,
          1.4930180200417598,
          8.57815654138971,
          4.682752299338176,
          5.804887342708447,
          2.430821666650462,
          4.273845890115133,
          4.227150697324353,
          2.0212110401395322,
          1.9538988620415163,
          4.7614969475313345,
          8.815232411539512,
          3.052567642301974,
          1.9311070149580383,
          7.396080757381477,
          2.059265036481419,
          4.6449460805119545,
          1.5262821600719367,
          4.249282161209864,
          3.100749078014715,
          0.2514920720496416,
          5.571542474776032,
          3.2441393789886375,
          2.9483937381781136,
          15.954273631096202,
          8.481228254319808,
          10.560564471577173,
          3.093461115570089,
          6.487787882436737,
          6.860055033213186,
          0.9932575491959216,
          6.056625347060614,
          1.1650694592892348,
          2.299189737281788,
          2.2198683935402794,
          5.6348157392664,
          5.719752186110599,
          9.710277770323895,
          3.8464011454301943,
          1.0523649622024767,
          3.286076536588078,
          4.030210246632292,
          0.7632078933613126,
          4.79089169354787,
          5.965811887538077,
          4.310700583208774,
          5.00694831702418,
          2.721673628089241,
          3.322903648294028,
          4.122470456331977,
          1.2681005993903156,
          2.996027398470149,
          3.1475875002363902,
          5.301061301371886,
          0.8407797698022441,
          3.760113168847298,
          8.30853099541731,
          9.595735832367676,
          2.7076380259389436,
          2.764268093478808,
          1.4164958058103392,
          0.8212083216242135,
          2.1801216217791404,
          0.9493621129932011,
          2.7801800272662005,
          4.3978959551320695,
          3.0414235499821007,
          1.6183820589864226,
          0.7141985483684438,
          3.9650250486456033,
          2.1654212404624866,
          0.8797554283330438,
          0.9852921859721405,
          6.010372903794005
         ]
        }
       ],
       "layout": {
        "legend": {
         "bgcolor": "#F5F6F9",
         "font": {
          "color": "#4D5663"
         }
        },
        "paper_bgcolor": "#F5F6F9",
        "plot_bgcolor": "#F5F6F9",
        "template": {
         "data": {
          "bar": [
           {
            "error_x": {
             "color": "#2a3f5f"
            },
            "error_y": {
             "color": "#2a3f5f"
            },
            "marker": {
             "line": {
              "color": "#E5ECF6",
              "width": 0.5
             }
            },
            "type": "bar"
           }
          ],
          "barpolar": [
           {
            "marker": {
             "line": {
              "color": "#E5ECF6",
              "width": 0.5
             }
            },
            "type": "barpolar"
           }
          ],
          "carpet": [
           {
            "aaxis": {
             "endlinecolor": "#2a3f5f",
             "gridcolor": "white",
             "linecolor": "white",
             "minorgridcolor": "white",
             "startlinecolor": "#2a3f5f"
            },
            "baxis": {
             "endlinecolor": "#2a3f5f",
             "gridcolor": "white",
             "linecolor": "white",
             "minorgridcolor": "white",
             "startlinecolor": "#2a3f5f"
            },
            "type": "carpet"
           }
          ],
          "choropleth": [
           {
            "colorbar": {
             "outlinewidth": 0,
             "ticks": ""
            },
            "type": "choropleth"
           }
          ],
          "contour": [
           {
            "colorbar": {
             "outlinewidth": 0,
             "ticks": ""
            },
            "colorscale": [
             [
              0,
              "#0d0887"
             ],
             [
              0.1111111111111111,
              "#46039f"
             ],
             [
              0.2222222222222222,
              "#7201a8"
             ],
             [
              0.3333333333333333,
              "#9c179e"
             ],
             [
              0.4444444444444444,
              "#bd3786"
             ],
             [
              0.5555555555555556,
              "#d8576b"
             ],
             [
              0.6666666666666666,
              "#ed7953"
             ],
             [
              0.7777777777777778,
              "#fb9f3a"
             ],
             [
              0.8888888888888888,
              "#fdca26"
             ],
             [
              1,
              "#f0f921"
             ]
            ],
            "type": "contour"
           }
          ],
          "contourcarpet": [
           {
            "colorbar": {
             "outlinewidth": 0,
             "ticks": ""
            },
            "type": "contourcarpet"
           }
          ],
          "heatmap": [
           {
            "colorbar": {
             "outlinewidth": 0,
             "ticks": ""
            },
            "colorscale": [
             [
              0,
              "#0d0887"
             ],
             [
              0.1111111111111111,
              "#46039f"
             ],
             [
              0.2222222222222222,
              "#7201a8"
             ],
             [
              0.3333333333333333,
              "#9c179e"
             ],
             [
              0.4444444444444444,
              "#bd3786"
             ],
             [
              0.5555555555555556,
              "#d8576b"
             ],
             [
              0.6666666666666666,
              "#ed7953"
             ],
             [
              0.7777777777777778,
              "#fb9f3a"
             ],
             [
              0.8888888888888888,
              "#fdca26"
             ],
             [
              1,
              "#f0f921"
             ]
            ],
            "type": "heatmap"
           }
          ],
          "heatmapgl": [
           {
            "colorbar": {
             "outlinewidth": 0,
             "ticks": ""
            },
            "colorscale": [
             [
              0,
              "#0d0887"
             ],
             [
              0.1111111111111111,
              "#46039f"
             ],
             [
              0.2222222222222222,
              "#7201a8"
             ],
             [
              0.3333333333333333,
              "#9c179e"
             ],
             [
              0.4444444444444444,
              "#bd3786"
             ],
             [
              0.5555555555555556,
              "#d8576b"
             ],
             [
              0.6666666666666666,
              "#ed7953"
             ],
             [
              0.7777777777777778,
              "#fb9f3a"
             ],
             [
              0.8888888888888888,
              "#fdca26"
             ],
             [
              1,
              "#f0f921"
             ]
            ],
            "type": "heatmapgl"
           }
          ],
          "histogram": [
           {
            "marker": {
             "colorbar": {
              "outlinewidth": 0,
              "ticks": ""
             }
            },
            "type": "histogram"
           }
          ],
          "histogram2d": [
           {
            "colorbar": {
             "outlinewidth": 0,
             "ticks": ""
            },
            "colorscale": [
             [
              0,
              "#0d0887"
             ],
             [
              0.1111111111111111,
              "#46039f"
             ],
             [
              0.2222222222222222,
              "#7201a8"
             ],
             [
              0.3333333333333333,
              "#9c179e"
             ],
             [
              0.4444444444444444,
              "#bd3786"
             ],
             [
              0.5555555555555556,
              "#d8576b"
             ],
             [
              0.6666666666666666,
              "#ed7953"
             ],
             [
              0.7777777777777778,
              "#fb9f3a"
             ],
             [
              0.8888888888888888,
              "#fdca26"
             ],
             [
              1,
              "#f0f921"
             ]
            ],
            "type": "histogram2d"
           }
          ],
          "histogram2dcontour": [
           {
            "colorbar": {
             "outlinewidth": 0,
             "ticks": ""
            },
            "colorscale": [
             [
              0,
              "#0d0887"
             ],
             [
              0.1111111111111111,
              "#46039f"
             ],
             [
              0.2222222222222222,
              "#7201a8"
             ],
             [
              0.3333333333333333,
              "#9c179e"
             ],
             [
              0.4444444444444444,
              "#bd3786"
             ],
             [
              0.5555555555555556,
              "#d8576b"
             ],
             [
              0.6666666666666666,
              "#ed7953"
             ],
             [
              0.7777777777777778,
              "#fb9f3a"
             ],
             [
              0.8888888888888888,
              "#fdca26"
             ],
             [
              1,
              "#f0f921"
             ]
            ],
            "type": "histogram2dcontour"
           }
          ],
          "mesh3d": [
           {
            "colorbar": {
             "outlinewidth": 0,
             "ticks": ""
            },
            "type": "mesh3d"
           }
          ],
          "parcoords": [
           {
            "line": {
             "colorbar": {
              "outlinewidth": 0,
              "ticks": ""
             }
            },
            "type": "parcoords"
           }
          ],
          "pie": [
           {
            "automargin": true,
            "type": "pie"
           }
          ],
          "scatter": [
           {
            "marker": {
             "colorbar": {
              "outlinewidth": 0,
              "ticks": ""
             }
            },
            "type": "scatter"
           }
          ],
          "scatter3d": [
           {
            "line": {
             "colorbar": {
              "outlinewidth": 0,
              "ticks": ""
             }
            },
            "marker": {
             "colorbar": {
              "outlinewidth": 0,
              "ticks": ""
             }
            },
            "type": "scatter3d"
           }
          ],
          "scattercarpet": [
           {
            "marker": {
             "colorbar": {
              "outlinewidth": 0,
              "ticks": ""
             }
            },
            "type": "scattercarpet"
           }
          ],
          "scattergeo": [
           {
            "marker": {
             "colorbar": {
              "outlinewidth": 0,
              "ticks": ""
             }
            },
            "type": "scattergeo"
           }
          ],
          "scattergl": [
           {
            "marker": {
             "colorbar": {
              "outlinewidth": 0,
              "ticks": ""
             }
            },
            "type": "scattergl"
           }
          ],
          "scattermapbox": [
           {
            "marker": {
             "colorbar": {
              "outlinewidth": 0,
              "ticks": ""
             }
            },
            "type": "scattermapbox"
           }
          ],
          "scatterpolar": [
           {
            "marker": {
             "colorbar": {
              "outlinewidth": 0,
              "ticks": ""
             }
            },
            "type": "scatterpolar"
           }
          ],
          "scatterpolargl": [
           {
            "marker": {
             "colorbar": {
              "outlinewidth": 0,
              "ticks": ""
             }
            },
            "type": "scatterpolargl"
           }
          ],
          "scatterternary": [
           {
            "marker": {
             "colorbar": {
              "outlinewidth": 0,
              "ticks": ""
             }
            },
            "type": "scatterternary"
           }
          ],
          "surface": [
           {
            "colorbar": {
             "outlinewidth": 0,
             "ticks": ""
            },
            "colorscale": [
             [
              0,
              "#0d0887"
             ],
             [
              0.1111111111111111,
              "#46039f"
             ],
             [
              0.2222222222222222,
              "#7201a8"
             ],
             [
              0.3333333333333333,
              "#9c179e"
             ],
             [
              0.4444444444444444,
              "#bd3786"
             ],
             [
              0.5555555555555556,
              "#d8576b"
             ],
             [
              0.6666666666666666,
              "#ed7953"
             ],
             [
              0.7777777777777778,
              "#fb9f3a"
             ],
             [
              0.8888888888888888,
              "#fdca26"
             ],
             [
              1,
              "#f0f921"
             ]
            ],
            "type": "surface"
           }
          ],
          "table": [
           {
            "cells": {
             "fill": {
              "color": "#EBF0F8"
             },
             "line": {
              "color": "white"
             }
            },
            "header": {
             "fill": {
              "color": "#C8D4E3"
             },
             "line": {
              "color": "white"
             }
            },
            "type": "table"
           }
          ]
         },
         "layout": {
          "annotationdefaults": {
           "arrowcolor": "#2a3f5f",
           "arrowhead": 0,
           "arrowwidth": 1
          },
          "coloraxis": {
           "colorbar": {
            "outlinewidth": 0,
            "ticks": ""
           }
          },
          "colorscale": {
           "diverging": [
            [
             0,
             "#8e0152"
            ],
            [
             0.1,
             "#c51b7d"
            ],
            [
             0.2,
             "#de77ae"
            ],
            [
             0.3,
             "#f1b6da"
            ],
            [
             0.4,
             "#fde0ef"
            ],
            [
             0.5,
             "#f7f7f7"
            ],
            [
             0.6,
             "#e6f5d0"
            ],
            [
             0.7,
             "#b8e186"
            ],
            [
             0.8,
             "#7fbc41"
            ],
            [
             0.9,
             "#4d9221"
            ],
            [
             1,
             "#276419"
            ]
           ],
           "sequential": [
            [
             0,
             "#0d0887"
            ],
            [
             0.1111111111111111,
             "#46039f"
            ],
            [
             0.2222222222222222,
             "#7201a8"
            ],
            [
             0.3333333333333333,
             "#9c179e"
            ],
            [
             0.4444444444444444,
             "#bd3786"
            ],
            [
             0.5555555555555556,
             "#d8576b"
            ],
            [
             0.6666666666666666,
             "#ed7953"
            ],
            [
             0.7777777777777778,
             "#fb9f3a"
            ],
            [
             0.8888888888888888,
             "#fdca26"
            ],
            [
             1,
             "#f0f921"
            ]
           ],
           "sequentialminus": [
            [
             0,
             "#0d0887"
            ],
            [
             0.1111111111111111,
             "#46039f"
            ],
            [
             0.2222222222222222,
             "#7201a8"
            ],
            [
             0.3333333333333333,
             "#9c179e"
            ],
            [
             0.4444444444444444,
             "#bd3786"
            ],
            [
             0.5555555555555556,
             "#d8576b"
            ],
            [
             0.6666666666666666,
             "#ed7953"
            ],
            [
             0.7777777777777778,
             "#fb9f3a"
            ],
            [
             0.8888888888888888,
             "#fdca26"
            ],
            [
             1,
             "#f0f921"
            ]
           ]
          },
          "colorway": [
           "#636efa",
           "#EF553B",
           "#00cc96",
           "#ab63fa",
           "#FFA15A",
           "#19d3f3",
           "#FF6692",
           "#B6E880",
           "#FF97FF",
           "#FECB52"
          ],
          "font": {
           "color": "#2a3f5f"
          },
          "geo": {
           "bgcolor": "white",
           "lakecolor": "white",
           "landcolor": "#E5ECF6",
           "showlakes": true,
           "showland": true,
           "subunitcolor": "white"
          },
          "hoverlabel": {
           "align": "left"
          },
          "hovermode": "closest",
          "mapbox": {
           "style": "light"
          },
          "paper_bgcolor": "white",
          "plot_bgcolor": "#E5ECF6",
          "polar": {
           "angularaxis": {
            "gridcolor": "white",
            "linecolor": "white",
            "ticks": ""
           },
           "bgcolor": "#E5ECF6",
           "radialaxis": {
            "gridcolor": "white",
            "linecolor": "white",
            "ticks": ""
           }
          },
          "scene": {
           "xaxis": {
            "backgroundcolor": "#E5ECF6",
            "gridcolor": "white",
            "gridwidth": 2,
            "linecolor": "white",
            "showbackground": true,
            "ticks": "",
            "zerolinecolor": "white"
           },
           "yaxis": {
            "backgroundcolor": "#E5ECF6",
            "gridcolor": "white",
            "gridwidth": 2,
            "linecolor": "white",
            "showbackground": true,
            "ticks": "",
            "zerolinecolor": "white"
           },
           "zaxis": {
            "backgroundcolor": "#E5ECF6",
            "gridcolor": "white",
            "gridwidth": 2,
            "linecolor": "white",
            "showbackground": true,
            "ticks": "",
            "zerolinecolor": "white"
           }
          },
          "shapedefaults": {
           "line": {
            "color": "#2a3f5f"
           }
          },
          "ternary": {
           "aaxis": {
            "gridcolor": "white",
            "linecolor": "white",
            "ticks": ""
           },
           "baxis": {
            "gridcolor": "white",
            "linecolor": "white",
            "ticks": ""
           },
           "bgcolor": "#E5ECF6",
           "caxis": {
            "gridcolor": "white",
            "linecolor": "white",
            "ticks": ""
           }
          },
          "title": {
           "x": 0.05
          },
          "xaxis": {
           "automargin": true,
           "gridcolor": "white",
           "linecolor": "white",
           "ticks": "",
           "title": {
            "standoff": 15
           },
           "zerolinecolor": "white",
           "zerolinewidth": 2
          },
          "yaxis": {
           "automargin": true,
           "gridcolor": "white",
           "linecolor": "white",
           "ticks": "",
           "title": {
            "standoff": 15
           },
           "zerolinecolor": "white",
           "zerolinewidth": 2
          }
         }
        },
        "title": {
         "font": {
          "color": "#4D5663"
         }
        },
        "xaxis": {
         "gridcolor": "#E1E5ED",
         "showgrid": true,
         "tickfont": {
          "color": "#4D5663"
         },
         "title": {
          "font": {
           "color": "#4D5663"
          },
          "text": ""
         },
         "zerolinecolor": "#E1E5ED"
        },
        "yaxis": {
         "gridcolor": "#E1E5ED",
         "showgrid": true,
         "tickfont": {
          "color": "#4D5663"
         },
         "title": {
          "font": {
           "color": "#4D5663"
          },
          "text": ""
         },
         "zerolinecolor": "#E1E5ED"
        }
       }
      },
      "text/html": [
       "<div>                            <div id=\"940d810e-2a36-46c0-b790-ae05a4991d88\" class=\"plotly-graph-div\" style=\"height:525px; width:100%;\"></div>            <script type=\"text/javascript\">                require([\"plotly\"], function(Plotly) {                    window.PLOTLYENV=window.PLOTLYENV || {};\n",
       "                    window.PLOTLYENV.BASE_URL='https://plot.ly';                                    if (document.getElementById(\"940d810e-2a36-46c0-b790-ae05a4991d88\")) {                    Plotly.newPlot(                        \"940d810e-2a36-46c0-b790-ae05a4991d88\",                        [{\"fill\": \"tonexty\", \"fillcolor\": \"rgba(255, 153, 51, 0.3)\", \"line\": {\"color\": \"rgba(255, 153, 51, 1.0)\", \"dash\": \"solid\", \"shape\": \"linear\", \"width\": 1.3}, \"mode\": \"lines\", \"name\": \"A\", \"text\": \"\", \"type\": \"scatter\", \"x\": [0, 1, 2, 3, 4, 5, 6, 7, 8, 9, 10, 11, 12, 13, 14, 15, 16, 17, 18, 19, 20, 21, 22, 23, 24, 25, 26, 27, 28, 29, 30, 31, 32, 33, 34, 35, 36, 37, 38, 39, 40, 41, 42, 43, 44, 45, 46, 47, 48, 49, 50, 51, 52, 53, 54, 55, 56, 57, 58, 59, 60, 61, 62, 63, 64, 65, 66, 67, 68, 69, 70, 71, 72, 73, 74, 75, 76, 77, 78, 79, 80, 81, 82, 83, 84, 85, 86, 87, 88, 89, 90, 91, 92, 93, 94, 95, 96, 97, 98, 99], \"y\": [4.166772375428843e-05, 2.072988433454968, 1.146743569873682, 0.08069356914663128, 0.0034316902761264184, 0.6862995504800155, 0.17679880137897458, 0.008125360518148508, 1.9445275985876025, 0.002762931182756334, 0.0016762953460776656, 1.042198126143832, 1.3174251354863287, 0.5865037964040896, 0.24110252325724024, 0.7606616672773775, 0.8109414436846202, 0.31377598228414777, 0.137871187305534, 1.571435767871472, 0.47742082568438404, 0.033946357613506783, 1.2949072217929947, 1.2601245850629492, 6.588727488957685, 2.7915974470422666, 3.7680493275219393, 0.22240457325279409, 0.6663752275761096, 1.8323353650682852, 0.17203256649416196, 2.2644112604463222, 0.20315833866762611, 0.528428630555013, 0.5000676429998973, 0.32869473508938624, 0.3911703269281216, 2.5535397954817953, 0.2673832452216199, 0.3588115417873989, 0.07363771422451226, 8.1726317557482e-05, 3.481956736281983, 0.1618426174394086, 0.17293932561651373, 0.5835328765355263, 0.11666047679899139, 0.9106592096743158, 1.1484585175896633, 0.003625969829247601, 1.3860881068432231, 0.871944590145232, 0.030597435758581044, 0.16128964879416965, 2.455297802586478, 0.7248199098333763, 0.28203473047194344, 0.07584699698751339, 1.0846289316638669, 1.917031858580273, 0.012878350076559644, 1.8428301403802843, 0.1564021065923439, 0.4570731464736485, 0.22137125216496475, 0.14367039188727224, 0.721805378860217, 0.7027420235793637, 0.2655676176911098, 2.8975225561576186, 2.1477439605265314, 1.1068035709993642, 1.371880031651726, 0.5634988924496169, 0.5690913386615637, 0.06304085640254835, 0.2574223012746855, 0.4348481317574258, 0.0023011676452886157, 1.8839351049376918, 0.11405505859853618, 1.610542642325492, 0.13849132291311098, 0.31654299222833016, 0.01848820972431213, 1.0819541523762162, 0.04303944494926682, 0.46578223958836407, 1.466136874891176, 0.020556818176549606, 0.024131301342728697, 3.309040858199082, 1.5939540763789548, 1.030306942031492, 0.35706260388474703, 0.49743806273787894, 0.5737128787952376, 0.12394603536549155, 0.01582813337887371, 1.8806293228951037]}, {\"fill\": \"tonexty\", \"fillcolor\": \"rgba(55, 128, 191, 0.3)\", \"line\": {\"color\": \"rgba(55, 128, 191, 1.0)\", \"dash\": \"solid\", \"shape\": \"linear\", \"width\": 1.3}, \"mode\": \"lines\", \"name\": \"B\", \"text\": \"\", \"type\": \"scatter\", \"x\": [0, 1, 2, 3, 4, 5, 6, 7, 8, 9, 10, 11, 12, 13, 14, 15, 16, 17, 18, 19, 20, 21, 22, 23, 24, 25, 26, 27, 28, 29, 30, 31, 32, 33, 34, 35, 36, 37, 38, 39, 40, 41, 42, 43, 44, 45, 46, 47, 48, 49, 50, 51, 52, 53, 54, 55, 56, 57, 58, 59, 60, 61, 62, 63, 64, 65, 66, 67, 68, 69, 70, 71, 72, 73, 74, 75, 76, 77, 78, 79, 80, 81, 82, 83, 84, 85, 86, 87, 88, 89, 90, 91, 92, 93, 94, 95, 96, 97, 98, 99], \"y\": [0.13808474189715778, 2.095395507922111, 1.339483282863103, 2.6807138293754686, 0.015939509274726052, 2.8140972274883556, 1.1067863132558284, 0.45307348548992116, 1.9897478742901844, 0.7487037273188393, 3.195443273805909, 1.0631526725070124, 2.191936041094121, 1.513067324154295, 0.3805190851757236, 0.8403395484742122, 0.8122259281485631, 5.211531922256009, 0.20201299454689772, 1.7703494441487244, 0.49324735355840016, 0.7089789489746323, 1.3929858948477183, 2.7667428179227125, 6.595412937376273, 2.8105476820894006, 5.054589545831485, 0.6658136737877133, 1.3325633327442195, 2.5249822819094105, 5.47083206562551, 2.316582247897813, 0.21274389956776502, 1.276128773922327, 1.1600568009525243, 0.33855746148743526, 0.47246584706082834, 2.9820420362584956, 0.3873596071335663, 0.3653664348039457, 1.244716477924749, 0.5940675687573057, 3.6156074586689564, 0.9171600294035238, 2.820911280669765, 1.301502996156529, 0.16697340162691326, 1.7497966938199725, 1.1486454293596504, 1.3858741321787027, 6.277459912051248, 8.019527453404072, 5.8079371497182875, 0.774116306987677, 6.20039546581149, 4.959438314102494, 0.3347313800333565, 2.074337324962138, 1.0851229624308831, 2.023692576675002, 0.45189880916801706, 1.9595348838575837, 3.392075758682646, 5.142235173892983, 1.267190427044627, 0.15274833090641682, 0.8613450740609674, 1.3985287091334024, 0.3871463559884048, 4.752591146937776, 2.614449191853869, 2.0486047260832527, 2.5491571197613787, 0.564516284268777, 3.0020310941227493, 0.5449642523822044, 0.3097823509819353, 2.424215110026209, 1.8257980975242531, 1.8968166758642746, 0.3631333773800349, 3.721528078657384, 0.6096221258067137, 0.9260210705780213, 0.2554507848256855, 1.9567151726572287, 0.29930347498204934, 0.7785268949313067, 1.9103920878716063, 0.6053931372092569, 0.2429012738884929, 4.342651224504097, 2.666435168970186, 1.2286977483857051, 0.35871651856432857, 0.8206387881813813, 1.9367824617809042, 0.2613537673601984, 0.5961076301772322, 2.0006869092597097]}, {\"fill\": \"tonexty\", \"fillcolor\": \"rgba(50, 171, 96, 0.3)\", \"line\": {\"color\": \"rgba(50, 171, 96, 1.0)\", \"dash\": \"solid\", \"shape\": \"linear\", \"width\": 1.3}, \"mode\": \"lines\", \"name\": \"C\", \"text\": \"\", \"type\": \"scatter\", \"x\": [0, 1, 2, 3, 4, 5, 6, 7, 8, 9, 10, 11, 12, 13, 14, 15, 16, 17, 18, 19, 20, 21, 22, 23, 24, 25, 26, 27, 28, 29, 30, 31, 32, 33, 34, 35, 36, 37, 38, 39, 40, 41, 42, 43, 44, 45, 46, 47, 48, 49, 50, 51, 52, 53, 54, 55, 56, 57, 58, 59, 60, 61, 62, 63, 64, 65, 66, 67, 68, 69, 70, 71, 72, 73, 74, 75, 76, 77, 78, 79, 80, 81, 82, 83, 84, 85, 86, 87, 88, 89, 90, 91, 92, 93, 94, 95, 96, 97, 98, 99], \"y\": [0.8033226710525443, 2.2170607662084336, 3.1985208722161906, 3.14688244770388, 1.1352648320137158, 3.655489003912149, 2.1292014691596943, 5.0644841904283195, 1.9905956575228045, 0.7597355051690614, 6.798639086780372, 1.066948110592302, 4.326660168292973, 1.6860573944937816, 0.675181432647225, 2.0645316652624057, 2.2089879219116595, 5.46127692042297, 0.6262633371190547, 2.789823636080478, 1.0981752160919036, 1.9535537887531291, 3.3429126328221654, 7.588166523820795, 6.595422439525333, 3.5694211524353454, 6.428570987748211, 1.4786478003804655, 1.92349939528125, 2.9460698448865488, 5.584468418120434, 2.3819795367610497, 2.155986260155451, 2.468219631353234, 2.018247371506677, 0.33928606900907915, 4.201387154660896, 7.199769077482913, 2.159969134553266, 1.9226868234223868, 2.9987986063885783, 0.8008893091784306, 4.51544143952923, 1.51179730018144, 2.832511654789217, 1.4194635663082695, 0.2511692429325816, 5.306717975458957, 1.1528234640607578, 1.924531656429477, 15.16590180751361, 8.262557834152165, 10.172683019301562, 1.0750132167762223, 6.405550849224363, 6.483075541201698, 0.7000171357070653, 2.11314169648468, 1.1488796633620781, 2.267037632388877, 2.2198541201895354, 3.70183605812394, 3.444757649973061, 9.556114949368435, 2.896967466434557, 0.15851247319346634, 2.5936170622732235, 1.4026981325164787, 0.4011385282528075, 4.787000288231859, 3.0912200001464765, 3.046009478572845, 3.684151958786101, 0.6584127327594155, 3.0020603790523626, 0.7617983029318716, 0.613781081743825, 2.8032883027075632, 3.0062047262507305, 3.3553379087640565, 0.3640314822391743, 3.7217374275001207, 5.96744144178631, 5.802029143778375, 2.2108092686793106, 2.7642589278058587, 1.2826333815437667, 0.8204484462791178, 1.96413039604826, 0.7754709803422523, 2.5182382379025547, 4.397404188169349, 3.036027212948257, 1.2386316095168726, 0.4150127555990225, 3.964945187112744, 2.0189999135473773, 0.8029366754853897, 0.6165579231719669, 4.881505934723363]}, {\"fill\": \"tonexty\", \"fillcolor\": \"rgba(128, 0, 128, 0.3)\", \"line\": {\"color\": \"rgba(128, 0, 128, 1.0)\", \"dash\": \"solid\", \"shape\": \"linear\", \"width\": 1.3}, \"mode\": \"lines\", \"name\": \"D\", \"text\": \"\", \"type\": \"scatter\", \"x\": [0, 1, 2, 3, 4, 5, 6, 7, 8, 9, 10, 11, 12, 13, 14, 15, 16, 17, 18, 19, 20, 21, 22, 23, 24, 25, 26, 27, 28, 29, 30, 31, 32, 33, 34, 35, 36, 37, 38, 39, 40, 41, 42, 43, 44, 45, 46, 47, 48, 49, 50, 51, 52, 53, 54, 55, 56, 57, 58, 59, 60, 61, 62, 63, 64, 65, 66, 67, 68, 69, 70, 71, 72, 73, 74, 75, 76, 77, 78, 79, 80, 81, 82, 83, 84, 85, 86, 87, 88, 89, 90, 91, 92, 93, 94, 95, 96, 97, 98, 99], \"y\": [1.0232535941244498, 3.0608319073714263, 4.104511400084165, 3.3785109279759693, 2.85798083506016, 4.015727316884723, 3.6763330268950796, 6.178338342679974, 2.6293620743456345, 1.1890524822621293, 9.143026255982514, 3.126093109084275, 4.673130936496162, 1.7921238210057961, 0.7440257258650825, 2.7195456587722893, 2.3197136587684604, 5.548672652787289, 0.654196632705202, 2.8236418188378676, 1.5414237222231884, 4.202691753768822, 4.10182570165338, 8.384666648041629, 7.004341523311082, 5.000183094529245, 11.542735717467405, 1.4930180200417598, 8.57815654138971, 4.682752299338176, 5.804887342708447, 2.430821666650462, 4.273845890115133, 4.227150697324353, 2.0212110401395322, 1.9538988620415163, 4.7614969475313345, 8.815232411539512, 3.052567642301974, 1.9311070149580383, 7.396080757381477, 2.059265036481419, 4.6449460805119545, 1.5262821600719367, 4.249282161209864, 3.100749078014715, 0.2514920720496416, 5.571542474776032, 3.2441393789886375, 2.9483937381781136, 15.954273631096202, 8.481228254319808, 10.560564471577173, 3.093461115570089, 6.487787882436737, 6.860055033213186, 0.9932575491959216, 6.056625347060614, 1.1650694592892348, 2.299189737281788, 2.2198683935402794, 5.6348157392664, 5.719752186110599, 9.710277770323895, 3.8464011454301943, 1.0523649622024767, 3.286076536588078, 4.030210246632292, 0.7632078933613126, 4.79089169354787, 5.965811887538077, 4.310700583208774, 5.00694831702418, 2.721673628089241, 3.322903648294028, 4.122470456331977, 1.2681005993903156, 2.996027398470149, 3.1475875002363902, 5.301061301371886, 0.8407797698022441, 3.760113168847298, 8.30853099541731, 9.595735832367676, 2.7076380259389436, 2.764268093478808, 1.4164958058103392, 0.8212083216242135, 2.1801216217791404, 0.9493621129932011, 2.7801800272662005, 4.3978959551320695, 3.0414235499821007, 1.6183820589864226, 0.7141985483684438, 3.9650250486456033, 2.1654212404624866, 0.8797554283330438, 0.9852921859721405, 6.010372903794005]}],                        {\"legend\": {\"bgcolor\": \"#F5F6F9\", \"font\": {\"color\": \"#4D5663\"}}, \"paper_bgcolor\": \"#F5F6F9\", \"plot_bgcolor\": \"#F5F6F9\", \"template\": {\"data\": {\"bar\": [{\"error_x\": {\"color\": \"#2a3f5f\"}, \"error_y\": {\"color\": \"#2a3f5f\"}, \"marker\": {\"line\": {\"color\": \"#E5ECF6\", \"width\": 0.5}}, \"type\": \"bar\"}], \"barpolar\": [{\"marker\": {\"line\": {\"color\": \"#E5ECF6\", \"width\": 0.5}}, \"type\": \"barpolar\"}], \"carpet\": [{\"aaxis\": {\"endlinecolor\": \"#2a3f5f\", \"gridcolor\": \"white\", \"linecolor\": \"white\", \"minorgridcolor\": \"white\", \"startlinecolor\": \"#2a3f5f\"}, \"baxis\": {\"endlinecolor\": \"#2a3f5f\", \"gridcolor\": \"white\", \"linecolor\": \"white\", \"minorgridcolor\": \"white\", \"startlinecolor\": \"#2a3f5f\"}, \"type\": \"carpet\"}], \"choropleth\": [{\"colorbar\": {\"outlinewidth\": 0, \"ticks\": \"\"}, \"type\": \"choropleth\"}], \"contour\": [{\"colorbar\": {\"outlinewidth\": 0, \"ticks\": \"\"}, \"colorscale\": [[0.0, \"#0d0887\"], [0.1111111111111111, \"#46039f\"], [0.2222222222222222, \"#7201a8\"], [0.3333333333333333, \"#9c179e\"], [0.4444444444444444, \"#bd3786\"], [0.5555555555555556, \"#d8576b\"], [0.6666666666666666, \"#ed7953\"], [0.7777777777777778, \"#fb9f3a\"], [0.8888888888888888, \"#fdca26\"], [1.0, \"#f0f921\"]], \"type\": \"contour\"}], \"contourcarpet\": [{\"colorbar\": {\"outlinewidth\": 0, \"ticks\": \"\"}, \"type\": \"contourcarpet\"}], \"heatmap\": [{\"colorbar\": {\"outlinewidth\": 0, \"ticks\": \"\"}, \"colorscale\": [[0.0, \"#0d0887\"], [0.1111111111111111, \"#46039f\"], [0.2222222222222222, \"#7201a8\"], [0.3333333333333333, \"#9c179e\"], [0.4444444444444444, \"#bd3786\"], [0.5555555555555556, \"#d8576b\"], [0.6666666666666666, \"#ed7953\"], [0.7777777777777778, \"#fb9f3a\"], [0.8888888888888888, \"#fdca26\"], [1.0, \"#f0f921\"]], \"type\": \"heatmap\"}], \"heatmapgl\": [{\"colorbar\": {\"outlinewidth\": 0, \"ticks\": \"\"}, \"colorscale\": [[0.0, \"#0d0887\"], [0.1111111111111111, \"#46039f\"], [0.2222222222222222, \"#7201a8\"], [0.3333333333333333, \"#9c179e\"], [0.4444444444444444, \"#bd3786\"], [0.5555555555555556, \"#d8576b\"], [0.6666666666666666, \"#ed7953\"], [0.7777777777777778, \"#fb9f3a\"], [0.8888888888888888, \"#fdca26\"], [1.0, \"#f0f921\"]], \"type\": \"heatmapgl\"}], \"histogram\": [{\"marker\": {\"colorbar\": {\"outlinewidth\": 0, \"ticks\": \"\"}}, \"type\": \"histogram\"}], \"histogram2d\": [{\"colorbar\": {\"outlinewidth\": 0, \"ticks\": \"\"}, \"colorscale\": [[0.0, \"#0d0887\"], [0.1111111111111111, \"#46039f\"], [0.2222222222222222, \"#7201a8\"], [0.3333333333333333, \"#9c179e\"], [0.4444444444444444, \"#bd3786\"], [0.5555555555555556, \"#d8576b\"], [0.6666666666666666, \"#ed7953\"], [0.7777777777777778, \"#fb9f3a\"], [0.8888888888888888, \"#fdca26\"], [1.0, \"#f0f921\"]], \"type\": \"histogram2d\"}], \"histogram2dcontour\": [{\"colorbar\": {\"outlinewidth\": 0, \"ticks\": \"\"}, \"colorscale\": [[0.0, \"#0d0887\"], [0.1111111111111111, \"#46039f\"], [0.2222222222222222, \"#7201a8\"], [0.3333333333333333, \"#9c179e\"], [0.4444444444444444, \"#bd3786\"], [0.5555555555555556, \"#d8576b\"], [0.6666666666666666, \"#ed7953\"], [0.7777777777777778, \"#fb9f3a\"], [0.8888888888888888, \"#fdca26\"], [1.0, \"#f0f921\"]], \"type\": \"histogram2dcontour\"}], \"mesh3d\": [{\"colorbar\": {\"outlinewidth\": 0, \"ticks\": \"\"}, \"type\": \"mesh3d\"}], \"parcoords\": [{\"line\": {\"colorbar\": {\"outlinewidth\": 0, \"ticks\": \"\"}}, \"type\": \"parcoords\"}], \"pie\": [{\"automargin\": true, \"type\": \"pie\"}], \"scatter\": [{\"marker\": {\"colorbar\": {\"outlinewidth\": 0, \"ticks\": \"\"}}, \"type\": \"scatter\"}], \"scatter3d\": [{\"line\": {\"colorbar\": {\"outlinewidth\": 0, \"ticks\": \"\"}}, \"marker\": {\"colorbar\": {\"outlinewidth\": 0, \"ticks\": \"\"}}, \"type\": \"scatter3d\"}], \"scattercarpet\": [{\"marker\": {\"colorbar\": {\"outlinewidth\": 0, \"ticks\": \"\"}}, \"type\": \"scattercarpet\"}], \"scattergeo\": [{\"marker\": {\"colorbar\": {\"outlinewidth\": 0, \"ticks\": \"\"}}, \"type\": \"scattergeo\"}], \"scattergl\": [{\"marker\": {\"colorbar\": {\"outlinewidth\": 0, \"ticks\": \"\"}}, \"type\": \"scattergl\"}], \"scattermapbox\": [{\"marker\": {\"colorbar\": {\"outlinewidth\": 0, \"ticks\": \"\"}}, \"type\": \"scattermapbox\"}], \"scatterpolar\": [{\"marker\": {\"colorbar\": {\"outlinewidth\": 0, \"ticks\": \"\"}}, \"type\": \"scatterpolar\"}], \"scatterpolargl\": [{\"marker\": {\"colorbar\": {\"outlinewidth\": 0, \"ticks\": \"\"}}, \"type\": \"scatterpolargl\"}], \"scatterternary\": [{\"marker\": {\"colorbar\": {\"outlinewidth\": 0, \"ticks\": \"\"}}, \"type\": \"scatterternary\"}], \"surface\": [{\"colorbar\": {\"outlinewidth\": 0, \"ticks\": \"\"}, \"colorscale\": [[0.0, \"#0d0887\"], [0.1111111111111111, \"#46039f\"], [0.2222222222222222, \"#7201a8\"], [0.3333333333333333, \"#9c179e\"], [0.4444444444444444, \"#bd3786\"], [0.5555555555555556, \"#d8576b\"], [0.6666666666666666, \"#ed7953\"], [0.7777777777777778, \"#fb9f3a\"], [0.8888888888888888, \"#fdca26\"], [1.0, \"#f0f921\"]], \"type\": \"surface\"}], \"table\": [{\"cells\": {\"fill\": {\"color\": \"#EBF0F8\"}, \"line\": {\"color\": \"white\"}}, \"header\": {\"fill\": {\"color\": \"#C8D4E3\"}, \"line\": {\"color\": \"white\"}}, \"type\": \"table\"}]}, \"layout\": {\"annotationdefaults\": {\"arrowcolor\": \"#2a3f5f\", \"arrowhead\": 0, \"arrowwidth\": 1}, \"coloraxis\": {\"colorbar\": {\"outlinewidth\": 0, \"ticks\": \"\"}}, \"colorscale\": {\"diverging\": [[0, \"#8e0152\"], [0.1, \"#c51b7d\"], [0.2, \"#de77ae\"], [0.3, \"#f1b6da\"], [0.4, \"#fde0ef\"], [0.5, \"#f7f7f7\"], [0.6, \"#e6f5d0\"], [0.7, \"#b8e186\"], [0.8, \"#7fbc41\"], [0.9, \"#4d9221\"], [1, \"#276419\"]], \"sequential\": [[0.0, \"#0d0887\"], [0.1111111111111111, \"#46039f\"], [0.2222222222222222, \"#7201a8\"], [0.3333333333333333, \"#9c179e\"], [0.4444444444444444, \"#bd3786\"], [0.5555555555555556, \"#d8576b\"], [0.6666666666666666, \"#ed7953\"], [0.7777777777777778, \"#fb9f3a\"], [0.8888888888888888, \"#fdca26\"], [1.0, \"#f0f921\"]], \"sequentialminus\": [[0.0, \"#0d0887\"], [0.1111111111111111, \"#46039f\"], [0.2222222222222222, \"#7201a8\"], [0.3333333333333333, \"#9c179e\"], [0.4444444444444444, \"#bd3786\"], [0.5555555555555556, \"#d8576b\"], [0.6666666666666666, \"#ed7953\"], [0.7777777777777778, \"#fb9f3a\"], [0.8888888888888888, \"#fdca26\"], [1.0, \"#f0f921\"]]}, \"colorway\": [\"#636efa\", \"#EF553B\", \"#00cc96\", \"#ab63fa\", \"#FFA15A\", \"#19d3f3\", \"#FF6692\", \"#B6E880\", \"#FF97FF\", \"#FECB52\"], \"font\": {\"color\": \"#2a3f5f\"}, \"geo\": {\"bgcolor\": \"white\", \"lakecolor\": \"white\", \"landcolor\": \"#E5ECF6\", \"showlakes\": true, \"showland\": true, \"subunitcolor\": \"white\"}, \"hoverlabel\": {\"align\": \"left\"}, \"hovermode\": \"closest\", \"mapbox\": {\"style\": \"light\"}, \"paper_bgcolor\": \"white\", \"plot_bgcolor\": \"#E5ECF6\", \"polar\": {\"angularaxis\": {\"gridcolor\": \"white\", \"linecolor\": \"white\", \"ticks\": \"\"}, \"bgcolor\": \"#E5ECF6\", \"radialaxis\": {\"gridcolor\": \"white\", \"linecolor\": \"white\", \"ticks\": \"\"}}, \"scene\": {\"xaxis\": {\"backgroundcolor\": \"#E5ECF6\", \"gridcolor\": \"white\", \"gridwidth\": 2, \"linecolor\": \"white\", \"showbackground\": true, \"ticks\": \"\", \"zerolinecolor\": \"white\"}, \"yaxis\": {\"backgroundcolor\": \"#E5ECF6\", \"gridcolor\": \"white\", \"gridwidth\": 2, \"linecolor\": \"white\", \"showbackground\": true, \"ticks\": \"\", \"zerolinecolor\": \"white\"}, \"zaxis\": {\"backgroundcolor\": \"#E5ECF6\", \"gridcolor\": \"white\", \"gridwidth\": 2, \"linecolor\": \"white\", \"showbackground\": true, \"ticks\": \"\", \"zerolinecolor\": \"white\"}}, \"shapedefaults\": {\"line\": {\"color\": \"#2a3f5f\"}}, \"ternary\": {\"aaxis\": {\"gridcolor\": \"white\", \"linecolor\": \"white\", \"ticks\": \"\"}, \"baxis\": {\"gridcolor\": \"white\", \"linecolor\": \"white\", \"ticks\": \"\"}, \"bgcolor\": \"#E5ECF6\", \"caxis\": {\"gridcolor\": \"white\", \"linecolor\": \"white\", \"ticks\": \"\"}}, \"title\": {\"x\": 0.05}, \"xaxis\": {\"automargin\": true, \"gridcolor\": \"white\", \"linecolor\": \"white\", \"ticks\": \"\", \"title\": {\"standoff\": 15}, \"zerolinecolor\": \"white\", \"zerolinewidth\": 2}, \"yaxis\": {\"automargin\": true, \"gridcolor\": \"white\", \"linecolor\": \"white\", \"ticks\": \"\", \"title\": {\"standoff\": 15}, \"zerolinecolor\": \"white\", \"zerolinewidth\": 2}}}, \"title\": {\"font\": {\"color\": \"#4D5663\"}}, \"xaxis\": {\"gridcolor\": \"#E1E5ED\", \"showgrid\": true, \"tickfont\": {\"color\": \"#4D5663\"}, \"title\": {\"font\": {\"color\": \"#4D5663\"}, \"text\": \"\"}, \"zerolinecolor\": \"#E1E5ED\"}, \"yaxis\": {\"gridcolor\": \"#E1E5ED\", \"showgrid\": true, \"tickfont\": {\"color\": \"#4D5663\"}, \"title\": {\"font\": {\"color\": \"#4D5663\"}, \"text\": \"\"}, \"zerolinecolor\": \"#E1E5ED\"}},                        {\"showLink\": true, \"linkText\": \"Export to plot.ly\", \"plotlyServerURL\": \"https://plot.ly\", \"responsive\": true}                    ).then(function(){\n",
       "                            \n",
       "var gd = document.getElementById('940d810e-2a36-46c0-b790-ae05a4991d88');\n",
       "var x = new MutationObserver(function (mutations, observer) {{\n",
       "        var display = window.getComputedStyle(gd).display;\n",
       "        if (!display || display === 'none') {{\n",
       "            console.log([gd, 'removed!']);\n",
       "            Plotly.purge(gd);\n",
       "            observer.disconnect();\n",
       "        }}\n",
       "}});\n",
       "\n",
       "// Listen for the removal of the full notebook cells\n",
       "var notebookContainer = gd.closest('#notebook-container');\n",
       "if (notebookContainer) {{\n",
       "    x.observe(notebookContainer, {childList: true});\n",
       "}}\n",
       "\n",
       "// Listen for the clearing of the current output cell\n",
       "var outputEl = gd.closest('.output');\n",
       "if (outputEl) {{\n",
       "    x.observe(outputEl, {childList: true});\n",
       "}}\n",
       "\n",
       "                        })                };                });            </script>        </div>"
      ]
     },
     "metadata": {},
     "output_type": "display_data"
    }
   ],
   "source": [
    "# Create an interactive spread plot\n",
    "(df**2).iplot(kind='area',fill=True,opacity=1) "
   ]
  }
 ],
 "metadata": {
  "kernelspec": {
   "display_name": "Python 3",
   "language": "python",
   "name": "python3"
  },
  "language_info": {
   "codemirror_mode": {
    "name": "ipython",
    "version": 3
   },
   "file_extension": ".py",
   "mimetype": "text/x-python",
   "name": "python",
   "nbconvert_exporter": "python",
   "pygments_lexer": "ipython3",
   "version": "3.8.3"
  }
 },
 "nbformat": 4,
 "nbformat_minor": 4
}
